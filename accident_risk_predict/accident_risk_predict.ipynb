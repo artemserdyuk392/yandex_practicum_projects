{
 "cells": [
  {
   "cell_type": "markdown",
   "id": "57f4a3c2",
   "metadata": {},
   "source": [
    "# Предсказание риска ДТП"
   ]
  },
  {
   "cell_type": "markdown",
   "id": "1ca6003a",
   "metadata": {},
   "source": [
    "Вы — специалист по Data Science в каршеринговой компании. Вам поступил заказ: нужно создать систему, которая могла бы оценить риск ДТП по выбранному маршруту движения. Под риском понимается вероятность ДТП с любым повреждением транспортного средства. Как только водитель забронировал автомобиль, сел за руль и выбрал маршрут, система должна оценить уровень риска. Если уровень риска высок, водитель увидит предупреждение и рекомендации по маршруту.\n",
    "Идея создания такой системы находится в стадии предварительного обсуждения и проработки. Чёткого алгоритма работы и подобных решений на рынке ещё не существует. Текущая задача — понять, возможно ли предсказывать ДТП, опираясь на исторические данные одного из регионов."
   ]
  },
  {
   "cell_type": "markdown",
   "id": "95d9861e",
   "metadata": {
    "ExecuteTime": {
     "end_time": "2022-05-05T04:58:05.692448Z",
     "start_time": "2022-05-05T04:58:05.688565Z"
    }
   },
   "source": [
    "## Подключитесь к базе. Загрузите таблицы sql"
   ]
  },
  {
   "cell_type": "code",
   "execution_count": 36,
   "id": "4630b798",
   "metadata": {},
   "outputs": [],
   "source": [
    "import pandas as pd\n",
    "from sqlalchemy import create_engine\n",
    "import seaborn as sns\n",
    "import matplotlib.pyplot as plt\n",
    "from sklearn.model_selection import train_test_split\n",
    "import numpy as np\n",
    "import torch\n",
    "import torch.nn as nn\n",
    "from sklearn.ensemble import RandomForestClassifier\n",
    "from sklearn.tree import DecisionTreeClassifier\n",
    "from sklearn.metrics import f1_score, recall_score\n",
    "from sklearn.metrics import confusion_matrix\n",
    "from sklearn.linear_model import LogisticRegression\n",
    "from catboost import CatBoostClassifier\n",
    "db_config = {\n",
    "'user': 'praktikum_student', # имя пользователя,\n",
    "'pwd': 'Sdf4$2;d-d30pp', # пароль,\n",
    "'host': 'rc1b-wcoijxj3yxfsf3fs.mdb.yandexcloud.net',\n",
    "'port': 6432, # порт подключения,\n",
    "'db': 'data-science-vehicle-db' # название базы данных,\n",
    "} \n",
    "\n",
    "conn = 'postgresql://{}:{}@{}:{}/{}'.format(\n",
    "    db_config['user'],\n",
    "    db_config['pwd'],\n",
    "    db_config['host'],\n",
    "    db_config['port'],\n",
    "    db_config['db'])\n",
    "engine = create_engine(conn)"
   ]
  },
  {
   "cell_type": "markdown",
   "id": "3d535b4a",
   "metadata": {},
   "source": [
    "## Проведите первичное исследование таблиц"
   ]
  },
  {
   "cell_type": "code",
   "execution_count": 37,
   "id": "72dcd7ca",
   "metadata": {},
   "outputs": [
    {
     "name": "stdout",
     "output_type": "stream",
     "text": [
      "                    column_name               data_type\n",
      "0                   party_count                 integer\n",
      "1                  intersection                 integer\n",
      "2                      distance                    real\n",
      "3                collision_date                    date\n",
      "4                collision_time  time without time zone\n",
      "5                 location_type                    text\n",
      "6              collision_damage                    text\n",
      "7                       case_id                    text\n",
      "8        pcf_violation_category                    text\n",
      "9             type_of_collision                    text\n",
      "10  motor_vehicle_involved_with                    text\n",
      "11                 road_surface                    text\n",
      "12             road_condition_1                    text\n",
      "13                     lighting                    text\n",
      "14               control_device                    text\n",
      "15     primary_collision_factor                    text\n",
      "16         county_city_location                    text\n",
      "17              county_location                    text\n",
      "18                    direction                    text\n",
      "19                    weather_1                    text \n",
      "\n",
      "            column_name data_type\n",
      "0                    id   integer\n",
      "1          party_number   integer\n",
      "2           vehicle_age   integer\n",
      "3               case_id      text\n",
      "4          vehicle_type      text\n",
      "5  vehicle_transmission      text \n",
      "\n",
      "  column_name data_type\n",
      "0     case_id      text\n",
      "1     db_year      text \n",
      "\n",
      "           column_name data_type\n",
      "0     cellphone_in_use   integer\n",
      "1         party_number   integer\n",
      "2             at_fault   integer\n",
      "3    insurance_premium   integer\n",
      "4                   id   integer\n",
      "5              case_id      text\n",
      "6  party_drug_physical      text\n",
      "7           party_type      text\n",
      "8       party_sobriety      text \n",
      "\n"
     ]
    }
   ],
   "source": [
    "for table in ['collisions', 'vehicles','case_ids','parties']:\n",
    "    print(pd.read_sql_query(f'''SELECT column_name, data_type\n",
    "    FROM information_schema.columns\n",
    "    WHERE table_name = '{table}';''', con=engine), '\\n')"
   ]
  },
  {
   "cell_type": "markdown",
   "id": "99800a52",
   "metadata": {},
   "source": [
    "Типы столбцов в таблицах соответствуют заявленным."
   ]
  },
  {
   "cell_type": "code",
   "execution_count": 38,
   "id": "bb2329aa",
   "metadata": {},
   "outputs": [
    {
     "name": "stdout",
     "output_type": "stream",
     "text": [
      "collisions:      count\n",
      "0  1400000\n",
      "collisions:      count\n",
      "0  1021234\n",
      "collisions:      count\n",
      "0  1400000\n",
      "collisions:      count\n",
      "0  2752408\n"
     ]
    }
   ],
   "source": [
    "for table in ['collisions', 'vehicles','case_ids','parties']:\n",
    "    print('collisions:',pd.read_sql_query(f'''SELECT COUNT(*) FROM {table}''', con=engine))"
   ]
  },
  {
   "cell_type": "markdown",
   "id": "a3b56ff4",
   "metadata": {},
   "source": [
    "Такое кол-во строк содержат таблицы."
   ]
  },
  {
   "cell_type": "code",
   "execution_count": 39,
   "id": "69615a11",
   "metadata": {},
   "outputs": [
    {
     "name": "stdout",
     "output_type": "stream",
     "text": [
      "collisions:    case_id\n",
      "0  4083072\n",
      "1  4083075\n",
      "collisions:    case_id\n",
      "0  5305032\n",
      "1  3858022\n",
      "collisions:    case_id\n",
      "0  0081715\n",
      "1  0726202\n",
      "collisions:    case_id\n",
      "0  3899454\n",
      "1  3899454\n"
     ]
    }
   ],
   "source": [
    "for table in ['collisions', 'vehicles','case_ids','parties']:\n",
    "    print('collisions:',pd.read_sql_query(f'''SELECT case_id FROM {table}''', con=engine).head(2))"
   ]
  },
  {
   "cell_type": "markdown",
   "id": "52d8d895",
   "metadata": {},
   "source": [
    "столбец case_id - общий ключ для связи таблиц."
   ]
  },
  {
   "cell_type": "markdown",
   "id": "42bc8e1f",
   "metadata": {},
   "source": [
    "##  Проведите статистический анализ факторов ДТП"
   ]
  },
  {
   "cell_type": "markdown",
   "id": "0c26da6d",
   "metadata": {},
   "source": [
    "### 3.1 Выясните, в какие месяцы происходит наибольшее количество аварий. Проанализируйте весь период наблюдений (таблица collisions)."
   ]
  },
  {
   "cell_type": "code",
   "execution_count": 40,
   "id": "4e82b971",
   "metadata": {},
   "outputs": [
    {
     "data": {
      "text/html": [
       "<div>\n",
       "<style scoped>\n",
       "    .dataframe tbody tr th:only-of-type {\n",
       "        vertical-align: middle;\n",
       "    }\n",
       "\n",
       "    .dataframe tbody tr th {\n",
       "        vertical-align: top;\n",
       "    }\n",
       "\n",
       "    .dataframe thead th {\n",
       "        text-align: right;\n",
       "    }\n",
       "</style>\n",
       "<table border=\"1\" class=\"dataframe\">\n",
       "  <thead>\n",
       "    <tr style=\"text-align: right;\">\n",
       "      <th></th>\n",
       "      <th>extract</th>\n",
       "      <th>count</th>\n",
       "    </tr>\n",
       "  </thead>\n",
       "  <tbody>\n",
       "    <tr>\n",
       "      <th>0</th>\n",
       "      <td>1.0</td>\n",
       "      <td>32020</td>\n",
       "    </tr>\n",
       "    <tr>\n",
       "      <th>1</th>\n",
       "      <td>2.0</td>\n",
       "      <td>30377</td>\n",
       "    </tr>\n",
       "    <tr>\n",
       "      <th>2</th>\n",
       "      <td>3.0</td>\n",
       "      <td>32498</td>\n",
       "    </tr>\n",
       "    <tr>\n",
       "      <th>3</th>\n",
       "      <td>4.0</td>\n",
       "      <td>29143</td>\n",
       "    </tr>\n",
       "    <tr>\n",
       "      <th>4</th>\n",
       "      <td>5.0</td>\n",
       "      <td>25168</td>\n",
       "    </tr>\n",
       "    <tr>\n",
       "      <th>5</th>\n",
       "      <td>6.0</td>\n",
       "      <td>3062</td>\n",
       "    </tr>\n",
       "    <tr>\n",
       "      <th>6</th>\n",
       "      <td>7.0</td>\n",
       "      <td>390</td>\n",
       "    </tr>\n",
       "    <tr>\n",
       "      <th>7</th>\n",
       "      <td>8.0</td>\n",
       "      <td>622</td>\n",
       "    </tr>\n",
       "    <tr>\n",
       "      <th>8</th>\n",
       "      <td>9.0</td>\n",
       "      <td>510</td>\n",
       "    </tr>\n",
       "    <tr>\n",
       "      <th>9</th>\n",
       "      <td>10.0</td>\n",
       "      <td>304</td>\n",
       "    </tr>\n",
       "    <tr>\n",
       "      <th>10</th>\n",
       "      <td>11.0</td>\n",
       "      <td>253</td>\n",
       "    </tr>\n",
       "    <tr>\n",
       "      <th>11</th>\n",
       "      <td>12.0</td>\n",
       "      <td>200</td>\n",
       "    </tr>\n",
       "  </tbody>\n",
       "</table>\n",
       "</div>"
      ],
      "text/plain": [
       "    extract  count\n",
       "0       1.0  32020\n",
       "1       2.0  30377\n",
       "2       3.0  32498\n",
       "3       4.0  29143\n",
       "4       5.0  25168\n",
       "5       6.0   3062\n",
       "6       7.0    390\n",
       "7       8.0    622\n",
       "8       9.0    510\n",
       "9      10.0    304\n",
       "10     11.0    253\n",
       "11     12.0    200"
      ]
     },
     "execution_count": 40,
     "metadata": {},
     "output_type": "execute_result"
    }
   ],
   "source": [
    "df = pd.read_sql_query('''\n",
    "SELECT DISTINCT(EXTRACT('MONTH' FROM collision_date)), COUNT(case_id)\n",
    "FROM collisions\n",
    "WHERE EXTRACT('YEAR' FROM collision_date) = 2012\n",
    "GROUP BY DISTINCT(EXTRACT('MONTH' FROM collision_date))\n",
    "''', con=engine)\n",
    "df.head(30)"
   ]
  },
  {
   "cell_type": "markdown",
   "id": "0fa66a34",
   "metadata": {},
   "source": [
    "Видно, что почему-то резко падает кол-во аварий во 2-й половине 2012 года. Поэтому будем брать для анализа всё, что до 2012 года."
   ]
  },
  {
   "cell_type": "code",
   "execution_count": 41,
   "id": "8003b581",
   "metadata": {},
   "outputs": [
    {
     "data": {
      "image/png": "[encoded data removed]",
      "text/plain": [
       "<Figure size 864x432 with 1 Axes>"
      ]
     },
     "metadata": {
      "needs_background": "light"
     },
     "output_type": "display_data"
    }
   ],
   "source": [
    "hist = pd.read_sql_query('''\n",
    "SELECT COUNT(DISTINCT(case_id)), TO_CHAR(collision_date, 'Month') as month\n",
    "FROM collisions\n",
    "WHERE EXTRACT('YEAR' FROM collision_date) BETWEEN 2008.0 AND 2011.0\n",
    "GROUP BY TO_CHAR(collision_date, 'Month'), EXTRACT(MONTH FROM collision_date)\n",
    "ORDER BY EXTRACT(MONTH FROM collision_date)\n",
    "''', con=engine)\n",
    "plt.figure(figsize=(12, 6))\n",
    "sns.barplot(data=hist, x='month', y='count', color='blue', palette='cividis')\n",
    "plt.xlabel('Месяц')\n",
    "plt.title('График \"Зависимость месяца и количества ДТП\"')\n",
    "plt.ylabel('Кол-во ДТП');"
   ]
  },
  {
   "cell_type": "markdown",
   "id": "3373740e",
   "metadata": {},
   "source": [
    "**Итог: Самое большое кол-во аварий происходит в осенне-весенние месяцы.**"
   ]
  },
  {
   "cell_type": "markdown",
   "id": "fcb9fa54",
   "metadata": {},
   "source": [
    "### 3 Скоро состоится первое совещание вашей рабочей группы. Чтобы обсуждение было конструктивным, каждый сотрудник должен понимать данные. Для этого вы должны создать подходящие аналитические задачи и поручить их решение коллегам."
   ]
  },
  {
   "cell_type": "markdown",
   "id": "b7ecb5ad",
   "metadata": {},
   "source": [
    "### 3.2.1 Создайте не менее шести задач для коллег. "
   ]
  },
  {
   "cell_type": "markdown",
   "id": "2c2aca15",
   "metadata": {},
   "source": [
    "1. Нужно провести анализ времени проишествия. Важно знать - в какое время суток зачастую происходят ДТП. Освещение, усталость влияют на дорожное движение, а также заказчику необходимо знать, нужно ли оборудовать автомобиль какими-то датчиками или камерой с хорошей видимостью ночью.\n",
    "2. Также необходимо провести анализ погоды. Гололед, осадки, видимость влияют на дорожное движение. Если же погода зачастую дождливая или снежная во время ДТП, то, если автомобиль необходимо оборудовать датчиками, то они должны быть защищены от осадков.\n",
    "3. Провести анализ типа дороги. Важно знать, где зачастую происходят ДТП.\n",
    "4. Необходимо проанализировать категорию нарушения. Если ДТП часто происходят из-за алкоголя или наркотиков, необходимо поставить датчики, которые проверяют человека на трезвость, и только потом разрешают двигаться в путь.\n",
    "5. Было бы неплохо проанализировать \"Дополнительные участники ДТП\". Если же часто ДТП происходят с участием неподвижных обьектов, то машину необходимо оборудовать парктрониками.\n",
    "6. Дорожное состояние может влиять на движение. \n",
    "7. Необходимо проверить описание участников проишествия. А точнее их состояние на момент ДТП. Лекарства, сонливость, ухудшение состояния повышают риски ДТП. \n",
    "8. Отвлечение на телефон также повышает риск ДТП. В случае связи автомобиль необходимо оборудовать техникой, позволяющей разговаривать на громкой связи.\n",
    "9. Проанализировать возраст машины и количество ДТП. Старые машины менее оснащены новыми мерами безопасности, и более легки на поломки.\n",
    "10. Проанализировать тип кузова автомобиля и ДТП. Длинные, большие машины более сложны в управлении."
   ]
  },
  {
   "cell_type": "markdown",
   "id": "05684fca",
   "metadata": {},
   "source": [
    "### 3.2.2 Пропишите порядок решения для двух задач из списка. Реализуйте его. Обязательное условие — решение этих задач должно включать связь не менее 2-х таблиц. Пример прописанного порядка:\n",
    "* Создайте sql-запрос;\n",
    "* Постройте график;\n",
    "* Сделайте вывод."
   ]
  },
  {
   "cell_type": "markdown",
   "id": "d3353028",
   "metadata": {},
   "source": [
    "Реализуем пункты: \n",
    "* 9. Проанализировать возраст машины и количество ДТП. Старые машины менее оснащены новыми мерами безопасности, и более легки на поломки.\n",
    "* 10. Проанализировать тип кузова автомобиля и ДТП. Длинные, большие машины более сложны в управлении.\n",
    "\n",
    "Порядок решения пункта 9:\n",
    "1. Создать sql-запрос, где будет таблица Parties - виновник Машина.\n",
    "2. Создать sql-запрос, где будет таблица Vehicles - год автомобиля.\n",
    "3. Обьединить запросы.\n",
    "4. Построить гистограммму, которая покажет - зависим ли год авто и ДТП.\n",
    "5. Сделать вывод.\n",
    "\n",
    "Порядок решения пункта 10:\n",
    "1. Создать sql-запрос, где будет таблица Parties - виновник Машина.\n",
    "2. Создать sql-запрос, где будет таблица Vehicles - кузов автомобиля.\n",
    "3. Обьединить запросы.\n",
    "4. Построить гистограммму, которая покажет - зависим ли год авто и ДТП.\n",
    "5. Сделать вывод."
   ]
  },
  {
   "cell_type": "code",
   "execution_count": 42,
   "id": "1653c7c0",
   "metadata": {},
   "outputs": [
    {
     "data": {
      "image/png": "[encoded data removed]",
      "text/plain": [
       "<Figure size 864x432 with 1 Axes>"
      ]
     },
     "metadata": {
      "needs_background": "light"
     },
     "output_type": "display_data"
    }
   ],
   "source": [
    "df = pd.read_sql_query('''\n",
    "WITH parties AS (\n",
    "    SELECT case_id\n",
    "    FROM parties\n",
    "    WHERE PARTY_TYPE = 'car' AND AT_FAULT = 1\n",
    "),\n",
    "vehicles AS (\n",
    "    SELECT case_id, vehicle_age\n",
    "    FROM vehicles v\n",
    "            )\n",
    "SELECT COUNT(DISTINCT(p.case_id)), vehicle_age\n",
    "FROM parties p\n",
    "INNER JOIN vehicles v ON p.case_id = v.case_id\n",
    "GROUP BY vehicle_age;\n",
    "''', con=engine)\n",
    "plt.figure(figsize=(12, 6))\n",
    "sns.barplot(data=df, x='vehicle_age', y='count', color='red', palette='magma')\n",
    "plt.xlabel('Кол-во лет автомобиля')\n",
    "plt.title('График \"Зависимость года машины и количества ДТП виновной машины\"')\n",
    "plt.ylabel('Кол-во ДТП');"
   ]
  },
  {
   "cell_type": "markdown",
   "id": "382dfe67",
   "metadata": {},
   "source": [
    "**Итог: график показал, что есть зависимость между годом авто и кол-вом ДТП. Но так как нет данных об общем кол-ве машин у компании, то график может быть не репрезентативным. Такое может быть в случае, если 3 года назад комания закупила 3 тысячи машин, а 6 лет назад в 2 раза меньше.**"
   ]
  },
  {
   "cell_type": "code",
   "execution_count": 43,
   "id": "6c083015",
   "metadata": {},
   "outputs": [
    {
     "data": {
      "image/png": "[encoded data removed]",
      "text/plain": [
       "<Figure size 864x432 with 1 Axes>"
      ]
     },
     "metadata": {
      "needs_background": "light"
     },
     "output_type": "display_data"
    }
   ],
   "source": [
    "df = pd.read_sql_query('''\n",
    "WITH parties AS (\n",
    "    SELECT case_id\n",
    "    FROM parties\n",
    "    WHERE PARTY_TYPE = 'car' AND AT_FAULT = 1\n",
    "),\n",
    "vehicles AS (\n",
    "    SELECT case_id, vehicle_type\n",
    "    FROM vehicles v\n",
    "            )\n",
    "SELECT COUNT(DISTINCT(p.case_id)), vehicle_type\n",
    "FROM parties p\n",
    "INNER JOIN vehicles v ON p.case_id = v.case_id\n",
    "GROUP BY vehicle_type;\n",
    "''', con=engine)\n",
    "plt.figure(figsize=(12, 6))\n",
    "sns.barplot(data=df, x='vehicle_type', y='count', color='red', palette='magma')\n",
    "plt.xlabel('Тип кузова')\n",
    "plt.title('График \"Зависимость кузова и количества ДТП виновной машины\"')\n",
    "plt.ylabel('Кол-во ДТП');"
   ]
  },
  {
   "cell_type": "markdown",
   "id": "075ead1a",
   "metadata": {},
   "source": [
    "**Итог: некрупные и большие машины попадают в ДТП примерно одинаково. У нас нет данных о количестве авто у компании, чтобы подсчитать соотношение_общего_кол-ва_машин/виновные_в_дтп, но имеющиеся данные показывают, что зависимости нет.**"
   ]
  },
  {
   "cell_type": "markdown",
   "id": "62e4f7ce",
   "metadata": {},
   "source": [
    "## Создайте модель для оценки водительского риска"
   ]
  },
  {
   "cell_type": "markdown",
   "id": "c42934bf",
   "metadata": {},
   "source": [
    "### Предобработка данных"
   ]
  },
  {
   "cell_type": "code",
   "execution_count": 44,
   "id": "341ac65e",
   "metadata": {},
   "outputs": [],
   "source": [
    "df = pd.read_sql_query('''\n",
    "WITH parties AS (\n",
    "    SELECT case_id, at_fault, party_sobriety, cellphone_in_use\n",
    "    FROM parties\n",
    "    WHERE PARTY_TYPE = 'car'\n",
    "),\n",
    "collisions AS (\n",
    "SELECT *\n",
    "FROM collisions\n",
    "WHERE (EXTRACT('YEAR' FROM collision_date ) = 2012) AND (collision_damage <> 'scratch')\n",
    "),\n",
    "vehicles AS (\n",
    "SELECT case_id,vehicle_age,vehicle_type\n",
    "FROM vehicles\n",
    ")\n",
    "SELECT *\n",
    "FROM parties p\n",
    "INNER JOIN collisions c ON p.case_id = c.case_id\n",
    "INNER JOIN vehicles v ON p.case_id = v.case_id\n",
    "''', con=engine)\n",
    "df = df.reset_index()"
   ]
  },
  {
   "cell_type": "markdown",
   "id": "9dfeee51",
   "metadata": {},
   "source": [
    "На этом датасете будет обучаться модель."
   ]
  },
  {
   "cell_type": "code",
   "execution_count": 45,
   "id": "143c9414",
   "metadata": {},
   "outputs": [
    {
     "name": "stdout",
     "output_type": "stream",
     "text": [
      "<class 'pandas.core.frame.DataFrame'>\n",
      "RangeIndex: 118411 entries, 0 to 118410\n",
      "Data columns (total 28 columns):\n",
      " #   Column                       Non-Null Count   Dtype  \n",
      "---  ------                       --------------   -----  \n",
      " 0   index                        118411 non-null  int64  \n",
      " 1   case_id                      118411 non-null  object \n",
      " 2   at_fault                     118411 non-null  int64  \n",
      " 3   party_sobriety               116682 non-null  object \n",
      " 4   cellphone_in_use             107507 non-null  float64\n",
      " 5   case_id                      118411 non-null  object \n",
      " 6   county_city_location         118411 non-null  object \n",
      " 7   county_location              118411 non-null  object \n",
      " 8   distance                     118411 non-null  float64\n",
      " 9   direction                    89466 non-null   object \n",
      " 10  intersection                 118043 non-null  float64\n",
      " 11  weather_1                    118022 non-null  object \n",
      " 12  location_type                55137 non-null   object \n",
      " 13  collision_damage             118411 non-null  object \n",
      " 14  party_count                  118411 non-null  int64  \n",
      " 15  primary_collision_factor     118147 non-null  object \n",
      " 16  pcf_violation_category       116686 non-null  object \n",
      " 17  type_of_collision            117771 non-null  object \n",
      " 18  motor_vehicle_involved_with  118079 non-null  object \n",
      " 19  road_surface                 117645 non-null  object \n",
      " 20  road_condition_1             117843 non-null  object \n",
      " 21  lighting                     118080 non-null  object \n",
      " 22  control_device               117957 non-null  object \n",
      " 23  collision_date               118411 non-null  object \n",
      " 24  collision_time               118283 non-null  object \n",
      " 25  case_id                      118411 non-null  object \n",
      " 26  vehicle_age                  115046 non-null  float64\n",
      " 27  vehicle_type                 118411 non-null  object \n",
      "dtypes: float64(4), int64(3), object(21)\n",
      "memory usage: 25.3+ MB\n"
     ]
    }
   ],
   "source": [
    "df.info()"
   ]
  },
  {
   "cell_type": "code",
   "execution_count": 46,
   "id": "84e3878e",
   "metadata": {},
   "outputs": [
    {
     "data": {
      "text/plain": [
       "0"
      ]
     },
     "execution_count": 46,
     "metadata": {},
     "output_type": "execute_result"
    }
   ],
   "source": [
    "df.duplicated().sum()"
   ]
  },
  {
   "cell_type": "code",
   "execution_count": 47,
   "id": "c1c0a616",
   "metadata": {},
   "outputs": [],
   "source": [
    "columns = ['intersection','weather_1','road_surface','lighting','county_city_location',\n",
    "           'distance','road_condition_1',\n",
    "           'at_fault', 'vehicle_age', 'vehicle_type', 'party_sobriety', 'cellphone_in_use']\n",
    "data = df[columns]"
   ]
  },
  {
   "cell_type": "code",
   "execution_count": 48,
   "id": "98aa3e75",
   "metadata": {},
   "outputs": [
    {
     "name": "stdout",
     "output_type": "stream",
     "text": [
      "<class 'pandas.core.frame.DataFrame'>\n",
      "RangeIndex: 118411 entries, 0 to 118410\n",
      "Data columns (total 12 columns):\n",
      " #   Column                Non-Null Count   Dtype  \n",
      "---  ------                --------------   -----  \n",
      " 0   intersection          118043 non-null  float64\n",
      " 1   weather               118022 non-null  object \n",
      " 2   road_surface          117645 non-null  object \n",
      " 3   lighting              118080 non-null  object \n",
      " 4   county_city_location  118411 non-null  object \n",
      " 5   distance              118411 non-null  float64\n",
      " 6   road_condition        117843 non-null  object \n",
      " 7   at_fault              118411 non-null  int64  \n",
      " 8   vehicle_age           115046 non-null  float64\n",
      " 9   vehicle_type          118411 non-null  object \n",
      " 10  party_sobriety        116682 non-null  object \n",
      " 11  cellphone_in_use      107507 non-null  float64\n",
      "dtypes: float64(4), int64(1), object(7)\n",
      "memory usage: 10.8+ MB\n"
     ]
    }
   ],
   "source": [
    "data = data.rename({'weather_1':'weather', 'road_condition_1':'road_condition'}, axis = 1)\n",
    "data.info()"
   ]
  },
  {
   "cell_type": "markdown",
   "id": "2a1615ac",
   "metadata": {},
   "source": [
    "* intersection - может влиять на риск ДТП, т.к. перекрестки - участки дороги с большим потоком машин.\n",
    "* weather - погода влияет на риск ДТП. Плохая видимость, холодный асфальт, гололед влияют на управление машиной.\n",
    "* road_surface - состояние дороги влияет на управление машиной.\n",
    "* lighting - освещенность влияет на обзор дороги, а следовательно плохая освещенность увеличивает риск ДТП.\n",
    "* county_city_location - если в каких то районах плохое покрытие, это влияет на риск ДТП.\n",
    "* party_count - количество участников может влиять на водителя, отвлечение от дороги увеличивает риск ДТП.\n",
    "* road_condition - материал, из которого сделана дорога также влияет на риск ДТП. Затопленные, узкие участки увеличивают риск ДТП.\n",
    "* vehicle_age - с возврастом машины становятся хуже, влияет на риск ДТП.\n",
    "* vehicle_type - влияет на маневренность машины, а следовательно, может увеличить риск ДТП.\n",
    "\n",
    "**Остальные признаки либо имели большое кол-во выбросов, либо они могли не повлиять на вероятность ДТП, поэтому они не были включены в список.**"
   ]
  },
  {
   "cell_type": "code",
   "execution_count": 49,
   "id": "144f439c",
   "metadata": {},
   "outputs": [
    {
     "data": {
      "text/plain": [
       "0    62795\n",
       "1    55616\n",
       "Name: at_fault, dtype: int64"
      ]
     },
     "execution_count": 49,
     "metadata": {},
     "output_type": "execute_result"
    }
   ],
   "source": [
    "#дисбаланс классов\n",
    "data['at_fault'].value_counts()"
   ]
  },
  {
   "cell_type": "code",
   "execution_count": 50,
   "id": "b707695d",
   "metadata": {},
   "outputs": [],
   "source": [
    "data.loc[data['lighting'] == 'dark with street lights not functioning', 'lighting'] = 'dark with no street lights'\n",
    "data.loc[data['weather'].isin(['wind','snowing','fog']),'weather'] = 'other'\n",
    "data.loc[data['road_surface'].isin(['showy','slippery']),'road_surface'] = 'other'\n",
    "data.loc[data['party_sobriety'].isin(['had been drinking, impairment unknown','not applicable',\n",
    "                                     'had been drinking, not under influence']),'party_sobriety'] = 'other'\n",
    "#for col in data.columns:\n",
    "#    print(data[col].value_counts())\n",
    "data = data.dropna()\n",
    "data = data.astype({'county_city_location':'int64'})"
   ]
  },
  {
   "cell_type": "code",
   "execution_count": 51,
   "id": "0f1c30fb",
   "metadata": {},
   "outputs": [
    {
     "name": "stdout",
     "output_type": "stream",
     "text": [
      "<class 'pandas.core.frame.DataFrame'>\n",
      "Int64Index: 102239 entries, 0 to 118410\n",
      "Data columns (total 12 columns):\n",
      " #   Column                Non-Null Count   Dtype  \n",
      "---  ------                --------------   -----  \n",
      " 0   intersection          102239 non-null  float64\n",
      " 1   weather               102239 non-null  object \n",
      " 2   road_surface          102239 non-null  object \n",
      " 3   lighting              102239 non-null  object \n",
      " 4   county_city_location  102239 non-null  int64  \n",
      " 5   distance              102239 non-null  float64\n",
      " 6   road_condition        102239 non-null  object \n",
      " 7   at_fault              102239 non-null  int64  \n",
      " 8   vehicle_age           102239 non-null  float64\n",
      " 9   vehicle_type          102239 non-null  object \n",
      " 10  party_sobriety        102239 non-null  object \n",
      " 11  cellphone_in_use      102239 non-null  float64\n",
      "dtypes: float64(4), int64(2), object(6)\n",
      "memory usage: 10.1+ MB\n"
     ]
    }
   ],
   "source": [
    "data.info()"
   ]
  },
  {
   "cell_type": "markdown",
   "id": "4fea1486",
   "metadata": {},
   "source": [
    "Теперь столбцы принимают адекватные категориальные значения."
   ]
  },
  {
   "cell_type": "code",
   "execution_count": 52,
   "id": "c39e5781",
   "metadata": {},
   "outputs": [
    {
     "data": {
      "image/png": "[encoded data removed]",
      "text/plain": [
       "<Figure size 1080x288 with 7 Axes>"
      ]
     },
     "metadata": {
      "needs_background": "light"
     },
     "output_type": "display_data"
    }
   ],
   "source": [
    "boxprops = dict(linewidth=1, color='black')\n",
    "whiskerprops = dict(linewidth=1, color='black', linestyle='dashed')\n",
    "flierprops = dict(marker='o', markersize=8, markerfacecolor='red', markeredgecolor='black')\n",
    "medianprops = dict(linewidth=2, color='blue')\n",
    "capprops = dict(linewidth=2, color='green')\n",
    "# Создаем subplots\n",
    "fig, axes = plt.subplots(nrows=1, ncols=7, figsize=(15, 4))\n",
    "i = 0\n",
    "for col in data.select_dtypes(include='number').columns:\n",
    "    data[col].plot(kind='box', ax=axes[i], boxprops=boxprops, whiskerprops=whiskerprops,\n",
    "                     flierprops=flierprops, medianprops=medianprops, capprops=capprops)\n",
    "    axes[i].set_title(f'Boxplot {col}')\n",
    "    i += 1\n",
    "# Убираем лишние пробелы между графиками\n",
    "plt.tight_layout()\n",
    "plt.show()"
   ]
  },
  {
   "cell_type": "code",
   "execution_count": 53,
   "id": "87ec73c7",
   "metadata": {},
   "outputs": [
    {
     "data": {
      "text/html": [
       "<div>\n",
       "<style scoped>\n",
       "    .dataframe tbody tr th:only-of-type {\n",
       "        vertical-align: middle;\n",
       "    }\n",
       "\n",
       "    .dataframe tbody tr th {\n",
       "        vertical-align: top;\n",
       "    }\n",
       "\n",
       "    .dataframe thead th {\n",
       "        text-align: right;\n",
       "    }\n",
       "</style>\n",
       "<table border=\"1\" class=\"dataframe\">\n",
       "  <thead>\n",
       "    <tr style=\"text-align: right;\">\n",
       "      <th></th>\n",
       "      <th>intersection</th>\n",
       "      <th>county_city_location</th>\n",
       "      <th>distance</th>\n",
       "      <th>at_fault</th>\n",
       "      <th>vehicle_age</th>\n",
       "      <th>cellphone_in_use</th>\n",
       "    </tr>\n",
       "  </thead>\n",
       "  <tbody>\n",
       "    <tr>\n",
       "      <th>count</th>\n",
       "      <td>102239.000000</td>\n",
       "      <td>102239.000000</td>\n",
       "      <td>1.022390e+05</td>\n",
       "      <td>102239.000000</td>\n",
       "      <td>102239.000000</td>\n",
       "      <td>102239.000000</td>\n",
       "    </tr>\n",
       "    <tr>\n",
       "      <th>mean</th>\n",
       "      <td>0.214898</td>\n",
       "      <td>2836.946488</td>\n",
       "      <td>8.011964e+02</td>\n",
       "      <td>0.461243</td>\n",
       "      <td>4.910015</td>\n",
       "      <td>0.021205</td>\n",
       "    </tr>\n",
       "    <tr>\n",
       "      <th>std</th>\n",
       "      <td>0.410754</td>\n",
       "      <td>1268.798757</td>\n",
       "      <td>7.407355e+03</td>\n",
       "      <td>0.498498</td>\n",
       "      <td>3.285231</td>\n",
       "      <td>0.144069</td>\n",
       "    </tr>\n",
       "    <tr>\n",
       "      <th>min</th>\n",
       "      <td>0.000000</td>\n",
       "      <td>100.000000</td>\n",
       "      <td>0.000000e+00</td>\n",
       "      <td>0.000000</td>\n",
       "      <td>0.000000</td>\n",
       "      <td>0.000000</td>\n",
       "    </tr>\n",
       "    <tr>\n",
       "      <th>25%</th>\n",
       "      <td>0.000000</td>\n",
       "      <td>1942.000000</td>\n",
       "      <td>1.000000e+01</td>\n",
       "      <td>0.000000</td>\n",
       "      <td>3.000000</td>\n",
       "      <td>0.000000</td>\n",
       "    </tr>\n",
       "    <tr>\n",
       "      <th>50%</th>\n",
       "      <td>0.000000</td>\n",
       "      <td>3009.000000</td>\n",
       "      <td>1.500000e+02</td>\n",
       "      <td>0.000000</td>\n",
       "      <td>4.000000</td>\n",
       "      <td>0.000000</td>\n",
       "    </tr>\n",
       "    <tr>\n",
       "      <th>75%</th>\n",
       "      <td>0.000000</td>\n",
       "      <td>3700.000000</td>\n",
       "      <td>6.000000e+02</td>\n",
       "      <td>1.000000</td>\n",
       "      <td>7.000000</td>\n",
       "      <td>0.000000</td>\n",
       "    </tr>\n",
       "    <tr>\n",
       "      <th>max</th>\n",
       "      <td>1.000000</td>\n",
       "      <td>5802.000000</td>\n",
       "      <td>1.584000e+06</td>\n",
       "      <td>1.000000</td>\n",
       "      <td>161.000000</td>\n",
       "      <td>1.000000</td>\n",
       "    </tr>\n",
       "  </tbody>\n",
       "</table>\n",
       "</div>"
      ],
      "text/plain": [
       "        intersection  county_city_location      distance       at_fault  \\\n",
       "count  102239.000000         102239.000000  1.022390e+05  102239.000000   \n",
       "mean        0.214898           2836.946488  8.011964e+02       0.461243   \n",
       "std         0.410754           1268.798757  7.407355e+03       0.498498   \n",
       "min         0.000000            100.000000  0.000000e+00       0.000000   \n",
       "25%         0.000000           1942.000000  1.000000e+01       0.000000   \n",
       "50%         0.000000           3009.000000  1.500000e+02       0.000000   \n",
       "75%         0.000000           3700.000000  6.000000e+02       1.000000   \n",
       "max         1.000000           5802.000000  1.584000e+06       1.000000   \n",
       "\n",
       "         vehicle_age  cellphone_in_use  \n",
       "count  102239.000000     102239.000000  \n",
       "mean        4.910015          0.021205  \n",
       "std         3.285231          0.144069  \n",
       "min         0.000000          0.000000  \n",
       "25%         3.000000          0.000000  \n",
       "50%         4.000000          0.000000  \n",
       "75%         7.000000          0.000000  \n",
       "max       161.000000          1.000000  "
      ]
     },
     "execution_count": 53,
     "metadata": {},
     "output_type": "execute_result"
    }
   ],
   "source": [
    "data.describe()"
   ]
  },
  {
   "cell_type": "code",
   "execution_count": 54,
   "id": "d4d2c444",
   "metadata": {},
   "outputs": [
    {
     "name": "stdout",
     "output_type": "stream",
     "text": [
      "(102239, 12) before\n"
     ]
    },
    {
     "data": {
      "image/png": "[encoded data removed]",
      "text/plain": [
       "<Figure size 1080x288 with 8 Axes>"
      ]
     },
     "metadata": {
      "needs_background": "light"
     },
     "output_type": "display_data"
    },
    {
     "name": "stdout",
     "output_type": "stream",
     "text": [
      "(97007, 12) after\n"
     ]
    }
   ],
   "source": [
    "print(data.shape, 'before')\n",
    "data = data[data['vehicle_age'] < 20]\n",
    "data = data[data['distance'] < 3000]\n",
    "boxprops = dict(linewidth=1, color='black')\n",
    "whiskerprops = dict(linewidth=1, color='black', linestyle='dashed')\n",
    "flierprops = dict(marker='o', markersize=8, markerfacecolor='red', markeredgecolor='black')\n",
    "medianprops = dict(linewidth=2, color='blue')\n",
    "capprops = dict(linewidth=2, color='green')\n",
    "# Создаем subplots\n",
    "fig, axes = plt.subplots(nrows=1, ncols=8, figsize=(15, 4))\n",
    "i = 0\n",
    "for col in data.select_dtypes(include='number').columns:\n",
    "    data[col].plot(kind='box', ax=axes[i], boxprops=boxprops, whiskerprops=whiskerprops,\n",
    "                     flierprops=flierprops, medianprops=medianprops, capprops=capprops)\n",
    "    axes[i].set_title(f'Боксплот {col}')\n",
    "    i += 1\n",
    "# Убираем лишние пробелы между графиками\n",
    "plt.tight_layout()\n",
    "plt.show()\n",
    "print(data.shape, 'after')"
   ]
  },
  {
   "cell_type": "code",
   "execution_count": 55,
   "id": "fff57074",
   "metadata": {},
   "outputs": [
    {
     "name": "stdout",
     "output_type": "stream",
     "text": [
      "25447\n"
     ]
    }
   ],
   "source": [
    "print(data.duplicated().sum()) #слишком много, удаляем\n",
    "data = data.drop_duplicates()"
   ]
  },
  {
   "cell_type": "code",
   "execution_count": 56,
   "id": "90140081",
   "metadata": {},
   "outputs": [],
   "source": [
    "data_train, data_test = train_test_split(data,test_size = 0.3, random_state = 1)\n",
    "data_test, data_valid = train_test_split(data,test_size = 0.5, random_state = 1)\n",
    "y_train = data_train['at_fault']\n",
    "y_test = data_test['at_fault']\n",
    "y_valid = data_valid['at_fault']\n",
    "x_train = data_train.drop(['at_fault'], axis = 1)\n",
    "x_test = data_test.drop(['at_fault'], axis = 1)\n",
    "x_valid = data_valid.drop(['at_fault'], axis = 1)"
   ]
  },
  {
   "cell_type": "markdown",
   "id": "f6ee6e4b",
   "metadata": {},
   "source": [
    "### Обучение моделей"
   ]
  },
  {
   "cell_type": "markdown",
   "id": "91732034",
   "metadata": {},
   "source": [
    "**RandomForest**"
   ]
  },
  {
   "cell_type": "code",
   "execution_count": 57,
   "id": "b229e981",
   "metadata": {},
   "outputs": [
    {
     "name": "stdout",
     "output_type": "stream",
     "text": [
      "Лучший recall: 0.6018606117943867\n",
      "Лучший f1: 0.6663950883114615\n",
      "Лучший depth: 19\n",
      "Лучший est: 110\n",
      "Матрица ошибок:\n",
      "[[12864  3890]\n",
      " [ 7575 11451]]\n"
     ]
    }
   ],
   "source": [
    "from sklearn.preprocessing import OneHotEncoder\n",
    "x_train_ohe = x_train.copy()\n",
    "x_test_ohe = x_test.copy()\n",
    "ohe_features_ridge = x_train_ohe.select_dtypes(include='object').columns.to_list()\n",
    "encoder_ohe = OneHotEncoder(drop='first', handle_unknown='error', sparse=False)\n",
    "encoder_ohe.fit(x_train_ohe[ohe_features_ridge])\n",
    "\n",
    "x_train_ohe[encoder_ohe.get_feature_names()] = encoder_ohe.transform(x_train_ohe[ohe_features_ridge])\n",
    "x_test_ohe[encoder_ohe.get_feature_names()] = encoder_ohe.transform(x_test_ohe[ohe_features_ridge])\n",
    "\n",
    "x_train_ohe = x_train_ohe.drop(ohe_features_ridge, axis=1)\n",
    "x_test_ohe = x_test_ohe.drop(ohe_features_ridge, axis=1)\n",
    "\n",
    "best_acc = 0\n",
    "best_f1 = 0\n",
    "best_est = 0\n",
    "best_depth = 0\n",
    "for est in [10, 20,30,40,50, 60, 70, 80, 90, 100, 110]:\n",
    "    for depth in [5, 7, 9, 11, 14 , 13, 15, 17, 19]:\n",
    "        model = RandomForestClassifier(n_estimators = est,max_depth = depth, criterion = 'gini',random_state = 12345)\n",
    "        model.fit(x_train_ohe, y_train)\n",
    "        predictions = model.predict(x_test_ohe)\n",
    "        recall = recall_score(y_test, predictions)\n",
    "        f1 = f1_score(y_test,predictions)\n",
    "        if f1 > best_f1:\n",
    "            best_recall_one = recall\n",
    "            best_f1_one = f1\n",
    "            best_model_randomforest = model\n",
    "            best_est = est\n",
    "            best_depth = depth\n",
    "            pred_best = predictions\n",
    "print('Лучший recall:', best_recall_one)\n",
    "print('Лучший f1:', best_f1_one)\n",
    "print('Лучший depth:', best_depth)\n",
    "print('Лучший est:', best_est)\n",
    "print('Матрица ошибок:', confusion_matrix(y_test, pred_best), sep = '\\n')"
   ]
  },
  {
   "cell_type": "markdown",
   "id": "fd1a2fa4",
   "metadata": {},
   "source": [
    "**LogisticRegression**"
   ]
  },
  {
   "cell_type": "code",
   "execution_count": 58,
   "id": "ab20400e",
   "metadata": {},
   "outputs": [
    {
     "name": "stdout",
     "output_type": "stream",
     "text": [
      "Лучший recall: 0.7464311322599569\n",
      "Лучший f1: 0.6663950883114615\n",
      "Лучший pen: l2\n",
      "Лучший sol: saga\n",
      "Матрица ошибок:\n",
      "[[12864  3890]\n",
      " [ 7575 11451]]\n"
     ]
    }
   ],
   "source": [
    "best_acc = 0\n",
    "best_f1 = 0\n",
    "best_est = 0\n",
    "best_depth = 0\n",
    "for sol in [\"newton-cg\", \"lbfgs\", \"liblinear\", \"sag\", \"saga\"]:\n",
    "    for pen in ['l1','l2']:\n",
    "        model_regression = LogisticRegression(solver = sol,random_state = 12345, penalty = pen)\n",
    "        model.fit(x_train_ohe, y_train)\n",
    "        predictions = model.predict(x_test_ohe)\n",
    "        recall = recall_score(predictions, y_test)\n",
    "        f1 = f1_score(predictions, y_test)\n",
    "        if f1 > best_f1:\n",
    "            best_recall_two = recall\n",
    "            best_f1_two = f1\n",
    "            best_model_regression = model_regression\n",
    "            best_sol = sol\n",
    "            best_pen = pen\n",
    "            pred_best = predictions\n",
    "print('Лучший recall:', best_recall_two)\n",
    "print('Лучший f1:', best_f1_two)\n",
    "print('Лучший pen:', best_pen)\n",
    "print('Лучший sol:', best_sol)\n",
    "print('Матрица ошибок:', confusion_matrix(y_test, pred_best), sep = '\\n')"
   ]
  },
  {
   "cell_type": "markdown",
   "id": "93fae4ff",
   "metadata": {},
   "source": [
    "f1 остался таким же, а вот recall уже увеличился значительно."
   ]
  },
  {
   "cell_type": "markdown",
   "id": "00ebf360",
   "metadata": {},
   "source": [
    "**CatBoost**"
   ]
  },
  {
   "cell_type": "code",
   "execution_count": 59,
   "id": "3468ce4a",
   "metadata": {},
   "outputs": [],
   "source": [
    "x_train.loc[x_train['cellphone_in_use'] == 1.0, 'cellphone_in_use'] = 'yes'\n",
    "x_train.loc[x_train['cellphone_in_use'] == 0.0, 'cellphone_in_use'] = 'no'\n",
    "x_test.loc[x_test['cellphone_in_use'] == 1.0, 'cellphone_in_use'] = 'yes'\n",
    "x_test.loc[x_test['cellphone_in_use'] == 0.0, 'cellphone_in_use'] = 'no'\n",
    "x_valid.loc[x_valid['cellphone_in_use'] == 1.0, 'cellphone_in_use'] = 'yes'\n",
    "x_valid.loc[x_valid['cellphone_in_use'] == 0.0, 'cellphone_in_use'] = 'no'\n",
    "\n",
    "x_train.loc[x_train['intersection'] == 1.0, 'intersection'] = 'yes'\n",
    "x_train.loc[x_train['intersection'] == 0.0, 'intersection'] = 'no'\n",
    "x_test.loc[x_test['intersection'] == 1.0, 'intersection'] = 'yes'\n",
    "x_test.loc[x_test['intersection'] == 0.0, 'intersection'] = 'no'\n",
    "x_valid.loc[x_valid['intersection'] == 1.0, 'intersection'] = 'yes'\n",
    "x_valid.loc[x_valid['intersection'] == 0.0, 'intersection'] = 'no'\n",
    "\n",
    "x_train = x_train.astype({'county_city_location':'object'})\n",
    "x_test = x_test.astype({'county_city_location':'object'})\n",
    "x_valid = x_valid.astype({'county_city_location':'object'})\n",
    "\n"
   ]
  },
  {
   "cell_type": "code",
   "execution_count": 60,
   "id": "363ec272",
   "metadata": {},
   "outputs": [
    {
     "name": "stdout",
     "output_type": "stream",
     "text": [
      "0:\tlearn: 0.4924998\ttest: 0.4908786\tbest: 0.4908786 (0)\ttotal: 179ms\tremaining: 2m 58s\n",
      "100:\tlearn: 0.6375561\ttest: 0.5340505\tbest: 0.5769436 (3)\ttotal: 9.39s\tremaining: 1m 23s\n",
      "200:\tlearn: 0.6643837\ttest: 0.5341426\tbest: 0.5769436 (3)\ttotal: 19.1s\tremaining: 1m 15s\n",
      "300:\tlearn: 0.6866733\ttest: 0.5299226\tbest: 0.5769436 (3)\ttotal: 29.1s\tremaining: 1m 7s\n",
      "400:\tlearn: 0.7026872\ttest: 0.5292338\tbest: 0.5769436 (3)\ttotal: 39.3s\tremaining: 58.6s\n",
      "500:\tlearn: 0.7212606\ttest: 0.5236137\tbest: 0.5769436 (3)\ttotal: 49.6s\tremaining: 49.4s\n",
      "600:\tlearn: 0.7351174\ttest: 0.5249348\tbest: 0.5769436 (3)\ttotal: 59.4s\tremaining: 39.4s\n",
      "700:\tlearn: 0.7512597\ttest: 0.5273324\tbest: 0.5769436 (3)\ttotal: 1m 9s\tremaining: 29.9s\n",
      "800:\tlearn: 0.7653886\ttest: 0.5206098\tbest: 0.5769436 (3)\ttotal: 1m 20s\tremaining: 20s\n",
      "900:\tlearn: 0.7804242\ttest: 0.5204955\tbest: 0.5769436 (3)\ttotal: 1m 30s\tremaining: 9.99s\n",
      "999:\tlearn: 0.7939659\ttest: 0.5205345\tbest: 0.5769436 (3)\ttotal: 1m 40s\tremaining: 0us\n",
      "\n",
      "bestTest = 0.5769436276\n",
      "bestIteration = 3\n",
      "\n",
      "Shrink model to first 4 iterations.\n",
      "0.6239575435936315\n",
      "0:\tlearn: 0.4924998\ttest: 0.4908786\tbest: 0.4908786 (0)\ttotal: 117ms\tremaining: 1m 56s\n",
      "100:\tlearn: 0.6391736\ttest: 0.5248143\tbest: 0.5694573 (1)\ttotal: 10.1s\tremaining: 1m 29s\n",
      "200:\tlearn: 0.6654412\ttest: 0.5264950\tbest: 0.5694573 (1)\ttotal: 19.4s\tremaining: 1m 16s\n",
      "300:\tlearn: 0.6910819\ttest: 0.5200517\tbest: 0.5694573 (1)\ttotal: 29.1s\tremaining: 1m 7s\n",
      "400:\tlearn: 0.7100955\ttest: 0.5231196\tbest: 0.5694573 (1)\ttotal: 39s\tremaining: 58.2s\n",
      "500:\tlearn: 0.7293588\ttest: 0.5235736\tbest: 0.5694573 (1)\ttotal: 49.2s\tremaining: 49s\n",
      "600:\tlearn: 0.7451105\ttest: 0.5242008\tbest: 0.5694573 (1)\ttotal: 59.7s\tremaining: 39.6s\n",
      "700:\tlearn: 0.7602140\ttest: 0.5259952\tbest: 0.5694573 (1)\ttotal: 1m 10s\tremaining: 29.9s\n",
      "800:\tlearn: 0.7742581\ttest: 0.5231485\tbest: 0.5694573 (1)\ttotal: 1m 21s\tremaining: 20.1s\n",
      "900:\tlearn: 0.7876647\ttest: 0.5227290\tbest: 0.5694573 (1)\ttotal: 1m 31s\tremaining: 10s\n",
      "999:\tlearn: 0.8008692\ttest: 0.5214085\tbest: 0.5694573 (1)\ttotal: 1m 41s\tremaining: 0us\n",
      "\n",
      "bestTest = 0.5694573097\n",
      "bestIteration = 1\n",
      "\n",
      "Shrink model to first 2 iterations.\n",
      "0.6428677673657593\n"
     ]
    }
   ],
   "source": [
    "objects = x_train.select_dtypes(include=['object', 'category']).columns.to_list()\n",
    "for rate in [0.7,0.8]:\n",
    "    model_cb = CatBoostClassifier(cat_features = objects,\n",
    "                              eval_metric = 'TotalF1',\n",
    "                              verbose = 100,\n",
    "                              random_seed = 42,\n",
    "                             learning_rate = rate)\n",
    "    model_cb.fit(x_train, \n",
    "             y_train,\n",
    "             eval_set = (x_test, y_test))\n",
    "    predictions = model_cb.predict(x_test)\n",
    "    f1_three = f1_score(predictions, y_test)\n",
    "    recall_three = recall_score(predictions, y_test)\n",
    "    print(recall_three)"
   ]
  },
  {
   "cell_type": "markdown",
   "id": "c71847f8",
   "metadata": {},
   "source": [
    "Модель CatBoost показывает результаты по f1 и recall лучше, чем предыдущие модели."
   ]
  },
  {
   "cell_type": "markdown",
   "id": "f2ea2d66",
   "metadata": {},
   "source": [
    "**Обоснование выбора метрики:** мой выбор склонялся к метрике f1, так как она - что то среднее между precision и recall. Так как в нашем случае лучше определить лишние параметры в false positivte, чем false negative, то можно было бы сколняться к метрике recall, но я всё же выбрал f1 в качестве основной метрики, но и не забыл про recall, он играет роль вспомогательной метрики. Например, если бы f1 была одинаковая у двух моделей, а recall сильно разнился, то я бы выбрал лучшую по recall."
   ]
  },
  {
   "cell_type": "code",
   "execution_count": 61,
   "id": "72313aff",
   "metadata": {},
   "outputs": [
    {
     "data": {
      "text/html": [
       "<div>\n",
       "<style scoped>\n",
       "    .dataframe tbody tr th:only-of-type {\n",
       "        vertical-align: middle;\n",
       "    }\n",
       "\n",
       "    .dataframe tbody tr th {\n",
       "        vertical-align: top;\n",
       "    }\n",
       "\n",
       "    .dataframe thead th {\n",
       "        text-align: right;\n",
       "    }\n",
       "</style>\n",
       "<table border=\"1\" class=\"dataframe\">\n",
       "  <thead>\n",
       "    <tr style=\"text-align: right;\">\n",
       "      <th></th>\n",
       "      <th>models</th>\n",
       "      <th>recall</th>\n",
       "      <th>f1</th>\n",
       "    </tr>\n",
       "  </thead>\n",
       "  <tbody>\n",
       "    <tr>\n",
       "      <th>0</th>\n",
       "      <td>RF</td>\n",
       "      <td>0.601861</td>\n",
       "      <td>0.666395</td>\n",
       "    </tr>\n",
       "    <tr>\n",
       "      <th>1</th>\n",
       "      <td>DT</td>\n",
       "      <td>0.746431</td>\n",
       "      <td>0.666395</td>\n",
       "    </tr>\n",
       "    <tr>\n",
       "      <th>2</th>\n",
       "      <td>CB</td>\n",
       "      <td>0.642868</td>\n",
       "      <td>0.569457</td>\n",
       "    </tr>\n",
       "  </tbody>\n",
       "</table>\n",
       "</div>"
      ],
      "text/plain": [
       "  models    recall        f1\n",
       "0     RF  0.601861  0.666395\n",
       "1     DT  0.746431  0.666395\n",
       "2     CB  0.642868  0.569457"
      ]
     },
     "execution_count": 61,
     "metadata": {},
     "output_type": "execute_result"
    }
   ],
   "source": [
    "df = pd.DataFrame()\n",
    "df['models'] = ['RF', 'DT', 'CB']\n",
    "df['recall'] = [best_recall_one, best_recall_two, recall_three]\n",
    "df['f1'] = [best_f1_one, best_f1_two, model_cb.best_score_['validation']['TotalF1']]\n",
    "df.head()"
   ]
  },
  {
   "cell_type": "markdown",
   "id": "552b3bcf",
   "metadata": {},
   "source": [
    "**Итог: в таблице видно, что у модели CatBoost все показатели сильно превосходят показатели других моделей.**"
   ]
  },
  {
   "cell_type": "markdown",
   "id": "e73ff39f",
   "metadata": {},
   "source": [
    "## Тестирование лучшей модели"
   ]
  },
  {
   "cell_type": "code",
   "execution_count": 62,
   "id": "2f03d4d5",
   "metadata": {},
   "outputs": [
    {
     "name": "stdout",
     "output_type": "stream",
     "text": [
      "0:\tlearn: 0.4924998\ttest: 0.4908786\tbest: 0.4908786 (0)\ttotal: 116ms\tremaining: 1m 55s\n",
      "100:\tlearn: 0.6391736\ttest: 0.5248143\tbest: 0.5694573 (1)\ttotal: 10s\tremaining: 1m 29s\n",
      "200:\tlearn: 0.6654412\ttest: 0.5264950\tbest: 0.5694573 (1)\ttotal: 19.3s\tremaining: 1m 16s\n",
      "300:\tlearn: 0.6910819\ttest: 0.5200517\tbest: 0.5694573 (1)\ttotal: 29.1s\tremaining: 1m 7s\n",
      "400:\tlearn: 0.7100955\ttest: 0.5231196\tbest: 0.5694573 (1)\ttotal: 39.1s\tremaining: 58.4s\n",
      "500:\tlearn: 0.7293588\ttest: 0.5235736\tbest: 0.5694573 (1)\ttotal: 49.4s\tremaining: 49.2s\n",
      "600:\tlearn: 0.7451105\ttest: 0.5242008\tbest: 0.5694573 (1)\ttotal: 59.8s\tremaining: 39.7s\n",
      "700:\tlearn: 0.7602140\ttest: 0.5259952\tbest: 0.5694573 (1)\ttotal: 1m 10s\tremaining: 29.9s\n",
      "800:\tlearn: 0.7742581\ttest: 0.5231485\tbest: 0.5694573 (1)\ttotal: 1m 20s\tremaining: 20.1s\n",
      "900:\tlearn: 0.7876647\ttest: 0.5227290\tbest: 0.5694573 (1)\ttotal: 1m 31s\tremaining: 10s\n",
      "999:\tlearn: 0.8008692\ttest: 0.5214085\tbest: 0.5694573 (1)\ttotal: 1m 41s\tremaining: 0us\n",
      "\n",
      "bestTest = 0.5694573097\n",
      "bestIteration = 1\n",
      "\n",
      "Shrink model to first 2 iterations.\n",
      "0.532578252439137 0.6406990521327014\n"
     ]
    }
   ],
   "source": [
    "objects = x_train.select_dtypes(include=['object', 'category']).columns.to_list()\n",
    "\n",
    "model_cb = CatBoostClassifier(cat_features = objects,\n",
    "                              eval_metric = 'TotalF1',\n",
    "                              verbose = 100,\n",
    "                              random_seed = 42,\n",
    "                             learning_rate = 0.8)\n",
    "model_cb.fit(x_train, \n",
    "             y_train,\n",
    "             eval_set = (x_test, y_test))\n",
    "predictions = model_cb.predict(x_valid)\n",
    "f1_three = f1_score(predictions, y_valid)\n",
    "recall_three = recall_score(predictions, y_valid)\n",
    "print(f1_three, recall_three)"
   ]
  },
  {
   "cell_type": "markdown",
   "id": "5227e1b8",
   "metadata": {},
   "source": [
    "## Проведите анализ важности факторов ДТП"
   ]
  },
  {
   "cell_type": "code",
   "execution_count": 69,
   "id": "d57d5062",
   "metadata": {},
   "outputs": [
    {
     "data": {
      "image/png": "[encoded data removed]",
      "text/plain": [
       "<Figure size 576x360 with 3 Axes>"
      ]
     },
     "metadata": {
      "needs_background": "light"
     },
     "output_type": "display_data"
    }
   ],
   "source": [
    "from sklearn.metrics import confusion_matrix, ConfusionMatrixDisplay, precision_recall_curve\n",
    "y_pred = model_cb.predict(x_valid)\n",
    "y_pred_pr = model_cb.predict_proba(x_valid)\n",
    "conf_matrix = confusion_matrix(y_valid, y_pred)\n",
    "conf_matrix\n",
    "precision, recall, _ = precision_recall_curve(y_valid, y_pred_pr[:, 1])\n",
    "\n",
    "disp = ConfusionMatrixDisplay(\n",
    "    conf_matrix,\n",
    "    display_labels=[1, 0]\n",
    ")\n",
    "fig, ax = plt.subplots(1,2, figsize=(8, 5))\n",
    "disp.plot(ax=ax[0])\n",
    "fig.suptitle('Матрица ошибок и Матрица Precision-Recall Curve')\n",
    "ax[0].grid()\n",
    "ax[1].plot(recall, precision, marker='.')\n",
    "ax[1].set_xlabel('Recall')\n",
    "ax[1].set_ylabel('Precision')\n",
    "ax[1].set_title('Precision-Recall Curve')\n",
    "ax[1].grid()\n",
    "plt.tight_layout()\n",
    "plt.show()"
   ]
  },
  {
   "cell_type": "markdown",
   "id": "8ee8b7f6",
   "metadata": {},
   "source": [
    "Очень неплохой результат, модель в очень редких случаях делает ошибки false positive."
   ]
  },
  {
   "cell_type": "code",
   "execution_count": 24,
   "id": "b49dde9b",
   "metadata": {},
   "outputs": [
    {
     "data": {
      "text/html": [
       "<div>\n",
       "<style scoped>\n",
       "    .dataframe tbody tr th:only-of-type {\n",
       "        vertical-align: middle;\n",
       "    }\n",
       "\n",
       "    .dataframe tbody tr th {\n",
       "        vertical-align: top;\n",
       "    }\n",
       "\n",
       "    .dataframe thead th {\n",
       "        text-align: right;\n",
       "    }\n",
       "</style>\n",
       "<table border=\"1\" class=\"dataframe\">\n",
       "  <thead>\n",
       "    <tr style=\"text-align: right;\">\n",
       "      <th></th>\n",
       "      <th>Feature Id</th>\n",
       "      <th>Importances</th>\n",
       "    </tr>\n",
       "  </thead>\n",
       "  <tbody>\n",
       "    <tr>\n",
       "      <th>0</th>\n",
       "      <td>county_city_location</td>\n",
       "      <td>28.171274</td>\n",
       "    </tr>\n",
       "    <tr>\n",
       "      <th>1</th>\n",
       "      <td>distance</td>\n",
       "      <td>16.481986</td>\n",
       "    </tr>\n",
       "    <tr>\n",
       "      <th>2</th>\n",
       "      <td>lighting</td>\n",
       "      <td>11.094466</td>\n",
       "    </tr>\n",
       "    <tr>\n",
       "      <th>3</th>\n",
       "      <td>vehicle_age</td>\n",
       "      <td>10.261872</td>\n",
       "    </tr>\n",
       "    <tr>\n",
       "      <th>4</th>\n",
       "      <td>vehicle_type</td>\n",
       "      <td>10.210692</td>\n",
       "    </tr>\n",
       "    <tr>\n",
       "      <th>5</th>\n",
       "      <td>weather</td>\n",
       "      <td>7.323563</td>\n",
       "    </tr>\n",
       "    <tr>\n",
       "      <th>6</th>\n",
       "      <td>party_sobriety</td>\n",
       "      <td>5.483783</td>\n",
       "    </tr>\n",
       "    <tr>\n",
       "      <th>7</th>\n",
       "      <td>road_surface</td>\n",
       "      <td>4.982017</td>\n",
       "    </tr>\n",
       "    <tr>\n",
       "      <th>8</th>\n",
       "      <td>road_condition</td>\n",
       "      <td>4.472867</td>\n",
       "    </tr>\n",
       "    <tr>\n",
       "      <th>9</th>\n",
       "      <td>cellphone_in_use</td>\n",
       "      <td>0.802730</td>\n",
       "    </tr>\n",
       "  </tbody>\n",
       "</table>\n",
       "</div>"
      ],
      "text/plain": [
       "             Feature Id  Importances\n",
       "0  county_city_location    28.171274\n",
       "1              distance    16.481986\n",
       "2              lighting    11.094466\n",
       "3           vehicle_age    10.261872\n",
       "4          vehicle_type    10.210692\n",
       "5               weather     7.323563\n",
       "6        party_sobriety     5.483783\n",
       "7          road_surface     4.982017\n",
       "8        road_condition     4.472867\n",
       "9      cellphone_in_use     0.802730"
      ]
     },
     "execution_count": 24,
     "metadata": {},
     "output_type": "execute_result"
    }
   ],
   "source": [
    "model_cb.get_feature_importance(prettified = True).head(10)"
   ]
  },
  {
   "cell_type": "markdown",
   "id": "32d306d7",
   "metadata": {},
   "source": [
    "Самые важные признаки - тип района, дистанция до главной дороги, освещение.\n",
    "\n",
    "Посмотрим на зависимость кол-ва участников и переменной."
   ]
  },
  {
   "cell_type": "code",
   "execution_count": 25,
   "id": "21442510",
   "metadata": {},
   "outputs": [
    {
     "data": {
      "image/png": "[encoded data removed]",
      "text/plain": [
       "<Figure size 864x432 with 1 Axes>"
      ]
     },
     "metadata": {
      "needs_background": "light"
     },
     "output_type": "display_data"
    }
   ],
   "source": [
    "df = pd.read_sql_query('''\n",
    "WITH parties AS (\n",
    "    SELECT case_id, at_fault, party_sobriety, cellphone_in_use\n",
    "    FROM parties\n",
    "    WHERE PARTY_TYPE = 'car'\n",
    "),\n",
    "collisions AS (\n",
    "SELECT *\n",
    "FROM collisions\n",
    "WHERE (EXTRACT('YEAR' FROM collision_date ) = 2012) AND (collision_damage <> 'scratch')\n",
    "),\n",
    "vehicles AS (\n",
    "SELECT case_id,vehicle_age,vehicle_type\n",
    "FROM vehicles\n",
    ")\n",
    "SELECT DISTINCT(county_city_location), COUNT(at_fault)\n",
    "FROM parties p\n",
    "INNER JOIN collisions c ON p.case_id = c.case_id\n",
    "INNER JOIN vehicles v ON p.case_id = v.case_id\n",
    "GROUP BY DISTINCT(county_city_location)\n",
    "''', con=engine)\n",
    "plt.figure(figsize=(12, 6))\n",
    "sns.barplot(data=df, x='county_city_location', y='count', color='red', palette='magma')\n",
    "plt.xlabel('Состояние водителя')\n",
    "plt.xlim(125, 150)\n",
    "plt.title('График \"Зависимость состояния водителя и количества ДТП\"')\n",
    "plt.ylabel('Кол-во ДТП');"
   ]
  },
  {
   "cell_type": "markdown",
   "id": "4895694d",
   "metadata": {},
   "source": [
    "**Итог:** Я взял определенный промежуток, чтобы было наглядно понятно, что существуют определенные районы, где аварии происходят очень часто. Возможно, в них есть проблемы с регулированием перекрестков, нанесением разметки, качеством дорожного полотна. Такие районы лучше объезжать, чтобы уменьшить риски.\n",
    "\n",
    "**Предложение:** \n",
    "* Внедренная модель построения маршрута должна будет знать все \"опасные\" районы, в которых часто происходят ДТП. \n",
    "* Также признак трезвости имеет вес у обученной модели. Понятно, что человек в состоянии опьянения с огромной вероятностью попадет в ДТП. В данном случае машину необходимо оборудовать алкотестером, который не разрешит управление, пока человек не дунет в трубку и результат не покажет, что человек трезв.\n",
    "* Освещение и год автомобиля тоже значимы, можно поставить доп.освещение, обновить авто и тд."
   ]
  },
  {
   "cell_type": "markdown",
   "id": "e5e7f188",
   "metadata": {},
   "source": [
    "## Выводы"
   ]
  },
  {
   "cell_type": "markdown",
   "id": "5b6995db",
   "metadata": {},
   "source": [
    "Создание адекватной системы оценки риска возможно, если добыть достаточное кол-во информации. В нашем случае необходимо:\n",
    "* Во-первых, оборудовать авто алкотестером. \n",
    "* Во-вторых, было бы неплохо более точно определить места, в которых ДТП происходят очень часто. Ведь у нас есть информация только по районам, и модель будет указывать объехать весь район (которые зачастую немаленькие), чтобы, возможно, обойти какой-то опасный поворот/перекресток. Это еще и даст прирост на показателе качества модели.\n",
    "\n",
    "Я смог построить вполне неплохую модель, но считаю, что нужно дополнить её данными, чтобы можно было использовать на практике."
   ]
  }
 ],
 "metadata": {
  "ExecuteTimeLog": [
   {
    "duration": 9,
    "start_time": "2024-02-05T15:56:38.030Z"
   },
   {
    "duration": 12,
    "start_time": "2024-02-05T15:56:45.998Z"
   },
   {
    "duration": 45,
    "start_time": "2024-02-05T15:57:22.856Z"
   },
   {
    "duration": 78,
    "start_time": "2024-02-05T15:57:34.491Z"
   },
   {
    "duration": 107,
    "start_time": "2024-02-05T16:01:54.060Z"
   },
   {
    "duration": 94,
    "start_time": "2024-02-05T16:02:13.753Z"
   },
   {
    "duration": 7,
    "start_time": "2024-02-05T16:06:36.982Z"
   },
   {
    "duration": 2839,
    "start_time": "2024-02-05T16:18:11.573Z"
   },
   {
    "duration": 4,
    "start_time": "2024-02-05T16:18:17.593Z"
   },
   {
    "duration": 9,
    "start_time": "2024-02-05T16:18:18.012Z"
   },
   {
    "duration": 9522,
    "start_time": "2024-02-05T16:19:18.536Z"
   },
   {
    "duration": 7,
    "start_time": "2024-02-05T16:19:28.060Z"
   },
   {
    "duration": 7,
    "start_time": "2024-02-05T16:19:43.184Z"
   },
   {
    "duration": 7,
    "start_time": "2024-02-05T16:19:53.399Z"
   },
   {
    "duration": 4,
    "start_time": "2024-02-05T16:19:54.524Z"
   },
   {
    "duration": 6,
    "start_time": "2024-02-05T16:19:54.682Z"
   },
   {
    "duration": 29,
    "start_time": "2024-02-05T16:20:19.850Z"
   },
   {
    "duration": 7,
    "start_time": "2024-02-05T16:20:20.060Z"
   },
   {
    "duration": 11,
    "start_time": "2024-02-05T16:20:26.725Z"
   },
   {
    "duration": 4,
    "start_time": "2024-02-05T16:20:55.339Z"
   },
   {
    "duration": 7,
    "start_time": "2024-02-05T16:20:59.177Z"
   },
   {
    "duration": 3,
    "start_time": "2024-02-05T16:21:03.733Z"
   },
   {
    "duration": 78,
    "start_time": "2024-02-05T16:21:21.329Z"
   },
   {
    "duration": 94,
    "start_time": "2024-02-05T16:21:25.012Z"
   },
   {
    "duration": 4,
    "start_time": "2024-02-05T16:21:33.738Z"
   },
   {
    "duration": 3,
    "start_time": "2024-02-05T16:22:26.778Z"
   },
   {
    "duration": 10,
    "start_time": "2024-02-05T16:22:27.075Z"
   },
   {
    "duration": 3,
    "start_time": "2024-02-05T16:22:40.108Z"
   },
   {
    "duration": 7,
    "start_time": "2024-02-05T16:22:40.568Z"
   },
   {
    "duration": 4,
    "start_time": "2024-02-05T16:22:48.495Z"
   },
   {
    "duration": 5,
    "start_time": "2024-02-05T16:22:55.192Z"
   },
   {
    "duration": 3,
    "start_time": "2024-02-05T16:22:58.201Z"
   },
   {
    "duration": 7,
    "start_time": "2024-02-05T16:22:58.598Z"
   },
   {
    "duration": 2521,
    "start_time": "2024-02-05T16:23:39.587Z"
   },
   {
    "duration": 19,
    "start_time": "2024-02-05T16:23:42.110Z"
   },
   {
    "duration": 12,
    "start_time": "2024-02-05T16:23:42.131Z"
   },
   {
    "duration": 3,
    "start_time": "2024-02-05T16:23:42.210Z"
   },
   {
    "duration": 8,
    "start_time": "2024-02-05T16:23:43.056Z"
   },
   {
    "duration": 8,
    "start_time": "2024-02-05T16:23:50.369Z"
   },
   {
    "duration": 23,
    "start_time": "2024-02-05T16:23:53.172Z"
   },
   {
    "duration": 5,
    "start_time": "2024-02-05T16:23:53.510Z"
   },
   {
    "duration": 2,
    "start_time": "2024-02-05T16:23:54.134Z"
   },
   {
    "duration": 8,
    "start_time": "2024-02-05T16:23:54.566Z"
   },
   {
    "duration": 7,
    "start_time": "2024-02-05T16:25:18.592Z"
   },
   {
    "duration": 25,
    "start_time": "2024-02-05T16:25:21.905Z"
   },
   {
    "duration": 11,
    "start_time": "2024-02-05T16:25:22.143Z"
   },
   {
    "duration": 3,
    "start_time": "2024-02-05T16:25:22.449Z"
   },
   {
    "duration": 9,
    "start_time": "2024-02-05T16:25:22.794Z"
   },
   {
    "duration": 406,
    "start_time": "2024-02-05T16:25:39.417Z"
   },
   {
    "duration": 4,
    "start_time": "2024-02-05T16:25:39.909Z"
   },
   {
    "duration": 2,
    "start_time": "2024-02-05T16:25:40.571Z"
   },
   {
    "duration": 147,
    "start_time": "2024-02-05T16:25:41.261Z"
   },
   {
    "duration": 30,
    "start_time": "2024-02-05T16:25:51.530Z"
   },
   {
    "duration": 13,
    "start_time": "2024-02-05T16:26:00.992Z"
   },
   {
    "duration": 25,
    "start_time": "2024-02-05T16:28:35.890Z"
   },
   {
    "duration": 11,
    "start_time": "2024-02-05T16:28:36.136Z"
   },
   {
    "duration": 20,
    "start_time": "2024-02-05T16:29:39.401Z"
   },
   {
    "duration": 12,
    "start_time": "2024-02-05T16:29:39.553Z"
   },
   {
    "duration": 7,
    "start_time": "2024-02-05T16:29:39.720Z"
   },
   {
    "duration": 35,
    "start_time": "2024-02-05T16:30:38.688Z"
   },
   {
    "duration": 22,
    "start_time": "2024-02-05T16:30:48.355Z"
   },
   {
    "duration": 10,
    "start_time": "2024-02-05T16:30:48.636Z"
   },
   {
    "duration": 9,
    "start_time": "2024-02-05T16:30:49.220Z"
   },
   {
    "duration": 28,
    "start_time": "2024-02-05T16:31:32.987Z"
   },
   {
    "duration": 12,
    "start_time": "2024-02-05T16:31:33.085Z"
   },
   {
    "duration": 9,
    "start_time": "2024-02-05T16:31:33.338Z"
   },
   {
    "duration": 7,
    "start_time": "2024-02-05T16:31:50.411Z"
   },
   {
    "duration": 27,
    "start_time": "2024-02-05T16:31:52.912Z"
   },
   {
    "duration": 11,
    "start_time": "2024-02-05T16:31:53.159Z"
   },
   {
    "duration": 9,
    "start_time": "2024-02-05T16:31:53.429Z"
   },
   {
    "duration": 8,
    "start_time": "2024-02-05T16:33:02.281Z"
   },
   {
    "duration": 43,
    "start_time": "2024-02-05T16:33:05.590Z"
   },
   {
    "duration": 11,
    "start_time": "2024-02-05T16:33:05.769Z"
   },
   {
    "duration": 9,
    "start_time": "2024-02-05T16:33:05.983Z"
   },
   {
    "duration": 25,
    "start_time": "2024-02-05T16:33:36.594Z"
   },
   {
    "duration": 11,
    "start_time": "2024-02-05T16:33:36.802Z"
   },
   {
    "duration": 17,
    "start_time": "2024-02-05T16:33:37.161Z"
   },
   {
    "duration": 9,
    "start_time": "2024-02-05T16:35:24.989Z"
   },
   {
    "duration": 11,
    "start_time": "2024-02-05T16:35:25.350Z"
   },
   {
    "duration": 26,
    "start_time": "2024-02-05T17:06:22.456Z"
   },
   {
    "duration": 12,
    "start_time": "2024-02-05T17:06:22.654Z"
   },
   {
    "duration": 17,
    "start_time": "2024-02-05T17:06:22.706Z"
   },
   {
    "duration": 19,
    "start_time": "2024-02-05T17:06:22.991Z"
   },
   {
    "duration": 15,
    "start_time": "2024-02-05T17:06:23.335Z"
   },
   {
    "duration": 111,
    "start_time": "2024-02-05T17:23:21.099Z"
   },
   {
    "duration": 12,
    "start_time": "2024-02-05T17:23:26.261Z"
   },
   {
    "duration": 9376,
    "start_time": "2024-02-05T17:25:44.463Z"
   },
   {
    "duration": 220,
    "start_time": "2024-02-05T17:26:08.620Z"
   },
   {
    "duration": 238,
    "start_time": "2024-02-05T17:26:30.934Z"
   },
   {
    "duration": 241,
    "start_time": "2024-02-05T17:26:43.290Z"
   },
   {
    "duration": 234,
    "start_time": "2024-02-05T17:27:05.123Z"
   },
   {
    "duration": 232,
    "start_time": "2024-02-05T17:27:12.106Z"
   },
   {
    "duration": 234,
    "start_time": "2024-02-05T17:27:20.606Z"
   },
   {
    "duration": 251,
    "start_time": "2024-02-05T17:27:23.507Z"
   },
   {
    "duration": 17142,
    "start_time": "2024-02-05T17:28:07.416Z"
   },
   {
    "duration": 77,
    "start_time": "2024-02-05T17:29:15.853Z"
   },
   {
    "duration": 9789,
    "start_time": "2024-02-06T05:38:07.810Z"
   },
   {
    "duration": 125,
    "start_time": "2024-02-06T05:39:43.365Z"
   },
   {
    "duration": 263,
    "start_time": "2024-02-06T05:40:45.524Z"
   },
   {
    "duration": 256,
    "start_time": "2024-02-06T05:41:00.274Z"
   },
   {
    "duration": 254,
    "start_time": "2024-02-06T05:41:04.908Z"
   },
   {
    "duration": 1363,
    "start_time": "2024-02-06T05:41:11.800Z"
   },
   {
    "duration": 1179,
    "start_time": "2024-02-06T05:41:15.594Z"
   },
   {
    "duration": 246,
    "start_time": "2024-02-06T05:41:19.001Z"
   },
   {
    "duration": 257,
    "start_time": "2024-02-06T05:42:00.124Z"
   },
   {
    "duration": 123,
    "start_time": "2024-02-06T05:45:37.167Z"
   },
   {
    "duration": 135,
    "start_time": "2024-02-06T05:45:51.178Z"
   },
   {
    "duration": 108,
    "start_time": "2024-02-06T05:45:58.501Z"
   },
   {
    "duration": 127,
    "start_time": "2024-02-06T05:46:18.329Z"
   },
   {
    "duration": 15315,
    "start_time": "2024-02-06T05:46:31.500Z"
   },
   {
    "duration": 105,
    "start_time": "2024-02-06T05:47:36.827Z"
   },
   {
    "duration": 19,
    "start_time": "2024-02-06T05:47:52.437Z"
   },
   {
    "duration": 26,
    "start_time": "2024-02-06T05:51:33.693Z"
   },
   {
    "duration": 35,
    "start_time": "2024-02-06T05:51:45.016Z"
   },
   {
    "duration": 10243,
    "start_time": "2024-02-06T13:44:59.658Z"
   },
   {
    "duration": 334,
    "start_time": "2024-02-06T13:45:09.903Z"
   },
   {
    "duration": 32,
    "start_time": "2024-02-06T13:45:10.238Z"
   },
   {
    "duration": 270,
    "start_time": "2024-02-06T14:01:37.357Z"
   },
   {
    "duration": 10521,
    "start_time": "2024-02-06T14:01:56.348Z"
   },
   {
    "duration": 10097,
    "start_time": "2024-02-06T14:02:14.643Z"
   },
   {
    "duration": 15880,
    "start_time": "2024-02-06T14:09:57.254Z"
   },
   {
    "duration": 14878,
    "start_time": "2024-02-06T14:11:15.466Z"
   },
   {
    "duration": 4121,
    "start_time": "2024-02-06T14:12:33.942Z"
   },
   {
    "duration": 5556,
    "start_time": "2024-02-06T14:13:16.385Z"
   },
   {
    "duration": 518,
    "start_time": "2024-02-06T14:15:01.176Z"
   },
   {
    "duration": 82,
    "start_time": "2024-02-06T14:15:28.950Z"
   },
   {
    "duration": 4758,
    "start_time": "2024-02-06T14:15:33.140Z"
   },
   {
    "duration": 4276,
    "start_time": "2024-02-06T14:15:50.929Z"
   },
   {
    "duration": 5287,
    "start_time": "2024-02-06T14:16:32.603Z"
   },
   {
    "duration": 4325,
    "start_time": "2024-02-06T14:16:54.617Z"
   },
   {
    "duration": 5541,
    "start_time": "2024-02-06T14:17:04.811Z"
   },
   {
    "duration": 115,
    "start_time": "2024-02-06T14:17:30.123Z"
   },
   {
    "duration": 5606,
    "start_time": "2024-02-06T14:17:47.945Z"
   },
   {
    "duration": 1667,
    "start_time": "2024-02-06T14:18:04.310Z"
   },
   {
    "duration": 2290,
    "start_time": "2024-02-06T14:18:29.232Z"
   },
   {
    "duration": 1883,
    "start_time": "2024-02-06T14:19:47.137Z"
   },
   {
    "duration": 2053,
    "start_time": "2024-02-06T14:20:05.507Z"
   },
   {
    "duration": 2251,
    "start_time": "2024-02-06T14:20:27.562Z"
   },
   {
    "duration": 2364,
    "start_time": "2024-02-06T14:20:41.202Z"
   },
   {
    "duration": 2050,
    "start_time": "2024-02-06T14:21:35.769Z"
   },
   {
    "duration": 2008,
    "start_time": "2024-02-06T14:22:18.491Z"
   },
   {
    "duration": 2050,
    "start_time": "2024-02-06T14:22:28.729Z"
   },
   {
    "duration": 119,
    "start_time": "2024-02-06T14:22:46.389Z"
   },
   {
    "duration": 111,
    "start_time": "2024-02-06T14:22:49.934Z"
   },
   {
    "duration": 110,
    "start_time": "2024-02-06T14:22:58.049Z"
   },
   {
    "duration": 2060,
    "start_time": "2024-02-06T14:23:20.326Z"
   },
   {
    "duration": 112,
    "start_time": "2024-02-06T14:23:29.260Z"
   },
   {
    "duration": 2043,
    "start_time": "2024-02-06T14:23:34.068Z"
   },
   {
    "duration": 2056,
    "start_time": "2024-02-06T14:23:59.759Z"
   },
   {
    "duration": 2048,
    "start_time": "2024-02-06T14:24:06.469Z"
   },
   {
    "duration": 101,
    "start_time": "2024-02-06T14:24:43.248Z"
   },
   {
    "duration": 110,
    "start_time": "2024-02-06T14:25:10.718Z"
   },
   {
    "duration": 2082,
    "start_time": "2024-02-06T14:25:17.108Z"
   },
   {
    "duration": 2043,
    "start_time": "2024-02-06T14:25:38.217Z"
   },
   {
    "duration": 2062,
    "start_time": "2024-02-06T14:25:45.954Z"
   },
   {
    "duration": 2093,
    "start_time": "2024-02-06T14:25:59.966Z"
   },
   {
    "duration": 2065,
    "start_time": "2024-02-06T14:26:08.999Z"
   },
   {
    "duration": 131,
    "start_time": "2024-02-06T15:27:30.602Z"
   },
   {
    "duration": 111,
    "start_time": "2024-02-06T15:27:48.266Z"
   },
   {
    "duration": 108,
    "start_time": "2024-02-06T15:28:46.645Z"
   },
   {
    "duration": 10145,
    "start_time": "2024-02-06T15:29:36.026Z"
   },
   {
    "duration": 3759,
    "start_time": "2024-02-06T15:30:01.206Z"
   },
   {
    "duration": 2509,
    "start_time": "2024-02-06T15:32:25.467Z"
   },
   {
    "duration": 187,
    "start_time": "2024-02-06T15:32:47.319Z"
   },
   {
    "duration": 120,
    "start_time": "2024-02-06T15:33:08.237Z"
   },
   {
    "duration": 115,
    "start_time": "2024-02-06T15:33:54.336Z"
   },
   {
    "duration": 112,
    "start_time": "2024-02-06T15:34:22.122Z"
   },
   {
    "duration": 2709,
    "start_time": "2024-02-06T15:34:34.210Z"
   },
   {
    "duration": 116,
    "start_time": "2024-02-06T15:34:48.117Z"
   },
   {
    "duration": 3099,
    "start_time": "2024-02-06T15:35:03.024Z"
   },
   {
    "duration": 2,
    "start_time": "2024-02-06T15:40:15.870Z"
   },
   {
    "duration": 5538,
    "start_time": "2024-02-06T15:40:47.056Z"
   },
   {
    "duration": 4117,
    "start_time": "2024-02-06T15:41:00.900Z"
   },
   {
    "duration": 5524,
    "start_time": "2024-02-06T15:41:23.331Z"
   },
   {
    "duration": 10298,
    "start_time": "2024-02-06T15:45:12.370Z"
   },
   {
    "duration": 65,
    "start_time": "2024-02-06T15:45:22.670Z"
   },
   {
    "duration": 294,
    "start_time": "2024-02-06T15:45:22.737Z"
   },
   {
    "duration": 10974,
    "start_time": "2024-02-06T15:45:23.032Z"
   },
   {
    "duration": 2067,
    "start_time": "2024-02-06T15:45:34.009Z"
   },
   {
    "duration": 2,
    "start_time": "2024-02-06T15:45:36.078Z"
   },
   {
    "duration": 3627,
    "start_time": "2024-02-06T15:45:36.081Z"
   },
   {
    "duration": 2944,
    "start_time": "2024-02-06T15:46:46.534Z"
   },
   {
    "duration": 3568,
    "start_time": "2024-02-06T15:46:52.317Z"
   },
   {
    "duration": 3556,
    "start_time": "2024-02-06T15:46:59.149Z"
   },
   {
    "duration": 269,
    "start_time": "2024-02-06T15:47:41.363Z"
   },
   {
    "duration": 1163,
    "start_time": "2024-02-06T15:47:50.177Z"
   },
   {
    "duration": 111,
    "start_time": "2024-02-06T15:51:23.640Z"
   },
   {
    "duration": 1232,
    "start_time": "2024-02-06T15:51:35.894Z"
   },
   {
    "duration": 2070,
    "start_time": "2024-02-06T15:53:06.389Z"
   },
   {
    "duration": 3135,
    "start_time": "2024-02-06T15:53:39.867Z"
   },
   {
    "duration": 3154,
    "start_time": "2024-02-06T15:54:32.705Z"
   },
   {
    "duration": 2420,
    "start_time": "2024-02-06T15:55:03.280Z"
   },
   {
    "duration": 1298,
    "start_time": "2024-02-06T15:55:17.896Z"
   },
   {
    "duration": 1047,
    "start_time": "2024-02-06T15:59:21.671Z"
   },
   {
    "duration": 3293,
    "start_time": "2024-02-06T15:59:32.876Z"
   },
   {
    "duration": 1251,
    "start_time": "2024-02-06T17:44:39.040Z"
   },
   {
    "duration": 46,
    "start_time": "2024-02-07T10:24:14.036Z"
   },
   {
    "duration": 9506,
    "start_time": "2024-02-07T10:24:17.871Z"
   },
   {
    "duration": 353,
    "start_time": "2024-02-07T10:24:27.380Z"
   },
   {
    "duration": 413,
    "start_time": "2024-02-07T10:24:27.735Z"
   },
   {
    "duration": 11115,
    "start_time": "2024-02-07T10:24:28.150Z"
   },
   {
    "duration": 2994,
    "start_time": "2024-02-07T10:24:39.267Z"
   },
   {
    "duration": 1288,
    "start_time": "2024-02-07T10:24:42.262Z"
   },
   {
    "duration": 3391,
    "start_time": "2024-02-07T10:24:43.552Z"
   },
   {
    "duration": 526,
    "start_time": "2024-02-07T10:24:46.945Z"
   },
   {
    "duration": 208,
    "start_time": "2024-02-07T10:25:37.184Z"
   },
   {
    "duration": 184,
    "start_time": "2024-02-07T10:25:40.206Z"
   },
   {
    "duration": 125,
    "start_time": "2024-02-07T10:25:48.391Z"
   },
   {
    "duration": 126,
    "start_time": "2024-02-07T10:25:52.137Z"
   },
   {
    "duration": 166,
    "start_time": "2024-02-07T10:26:37.475Z"
   },
   {
    "duration": 523,
    "start_time": "2024-02-07T10:26:43.115Z"
   },
   {
    "duration": 127,
    "start_time": "2024-02-07T10:26:53.257Z"
   },
   {
    "duration": 533,
    "start_time": "2024-02-07T10:27:04.759Z"
   },
   {
    "duration": 6,
    "start_time": "2024-02-07T10:27:16.720Z"
   },
   {
    "duration": 521,
    "start_time": "2024-02-07T10:27:28.705Z"
   },
   {
    "duration": 5,
    "start_time": "2024-02-07T10:27:29.228Z"
   },
   {
    "duration": 6601,
    "start_time": "2024-02-07T10:27:42.606Z"
   },
   {
    "duration": 25,
    "start_time": "2024-02-07T10:27:49.209Z"
   },
   {
    "duration": 36,
    "start_time": "2024-02-07T10:28:11.090Z"
   },
   {
    "duration": 38,
    "start_time": "2024-02-07T10:28:14.123Z"
   },
   {
    "duration": 38,
    "start_time": "2024-02-07T10:28:17.339Z"
   },
   {
    "duration": 10,
    "start_time": "2024-02-07T10:28:31.068Z"
   },
   {
    "duration": 4609,
    "start_time": "2024-02-07T10:28:43.069Z"
   },
   {
    "duration": 8,
    "start_time": "2024-02-07T10:28:47.680Z"
   },
   {
    "duration": 7,
    "start_time": "2024-02-07T10:29:03.475Z"
   },
   {
    "duration": 20,
    "start_time": "2024-02-07T10:31:10.157Z"
   },
   {
    "duration": 231,
    "start_time": "2024-02-07T10:35:02.594Z"
   },
   {
    "duration": 42,
    "start_time": "2024-02-07T10:35:25.044Z"
   },
   {
    "duration": 100,
    "start_time": "2024-02-07T10:35:29.774Z"
   },
   {
    "duration": 228,
    "start_time": "2024-02-07T10:35:47.556Z"
   },
   {
    "duration": 20,
    "start_time": "2024-02-07T10:41:08.297Z"
   },
   {
    "duration": 5190,
    "start_time": "2024-02-07T10:41:12.899Z"
   },
   {
    "duration": 208,
    "start_time": "2024-02-07T10:41:18.091Z"
   },
   {
    "duration": 4653,
    "start_time": "2024-02-07T10:41:37.811Z"
   },
   {
    "duration": 251,
    "start_time": "2024-02-07T10:41:42.466Z"
   },
   {
    "duration": 120,
    "start_time": "2024-02-07T10:41:50.401Z"
   },
   {
    "duration": 10243,
    "start_time": "2024-02-07T15:44:12.694Z"
   },
   {
    "duration": 341,
    "start_time": "2024-02-07T15:44:22.939Z"
   },
   {
    "duration": 418,
    "start_time": "2024-02-07T15:44:23.282Z"
   },
   {
    "duration": 11121,
    "start_time": "2024-02-07T15:44:23.702Z"
   },
   {
    "duration": 2095,
    "start_time": "2024-02-07T15:44:34.824Z"
   },
   {
    "duration": 1282,
    "start_time": "2024-02-07T15:44:36.921Z"
   },
   {
    "duration": 1286,
    "start_time": "2024-02-07T15:44:38.205Z"
   },
   {
    "duration": 4663,
    "start_time": "2024-02-07T15:44:39.493Z"
   },
   {
    "duration": 301,
    "start_time": "2024-02-07T15:44:44.159Z"
   },
   {
    "duration": 0,
    "start_time": "2024-02-07T15:44:44.461Z"
   },
   {
    "duration": 0,
    "start_time": "2024-02-07T15:44:44.462Z"
   },
   {
    "duration": 9186,
    "start_time": "2024-02-07T15:47:01.344Z"
   },
   {
    "duration": 417,
    "start_time": "2024-02-07T15:47:10.532Z"
   },
   {
    "duration": 10108,
    "start_time": "2024-02-07T15:47:12.648Z"
   },
   {
    "duration": 446,
    "start_time": "2024-02-07T15:47:22.758Z"
   },
   {
    "duration": 223,
    "start_time": "2024-02-07T15:47:29.043Z"
   },
   {
    "duration": 299,
    "start_time": "2024-02-07T15:48:02.716Z"
   },
   {
    "duration": 306,
    "start_time": "2024-02-07T15:48:20.414Z"
   },
   {
    "duration": 289,
    "start_time": "2024-02-07T15:48:27.228Z"
   },
   {
    "duration": 8,
    "start_time": "2024-02-07T17:00:05.060Z"
   },
   {
    "duration": 542,
    "start_time": "2024-02-07T17:18:04.337Z"
   },
   {
    "duration": 6,
    "start_time": "2024-02-07T17:18:11.182Z"
   },
   {
    "duration": 513,
    "start_time": "2024-02-07T17:18:26.290Z"
   },
   {
    "duration": 489,
    "start_time": "2024-02-07T17:18:34.605Z"
   },
   {
    "duration": 9483,
    "start_time": "2024-02-07T17:19:35.040Z"
   },
   {
    "duration": 560,
    "start_time": "2024-02-07T17:19:44.526Z"
   },
   {
    "duration": 269,
    "start_time": "2024-02-07T17:19:45.088Z"
   },
   {
    "duration": 6,
    "start_time": "2024-02-07T17:19:45.360Z"
   },
   {
    "duration": 479,
    "start_time": "2024-02-07T17:19:45.368Z"
   },
   {
    "duration": 10111,
    "start_time": "2024-02-07T17:25:38.729Z"
   },
   {
    "duration": 547,
    "start_time": "2024-02-07T17:25:48.843Z"
   },
   {
    "duration": 241,
    "start_time": "2024-02-07T17:25:49.391Z"
   },
   {
    "duration": 6,
    "start_time": "2024-02-07T17:25:49.635Z"
   },
   {
    "duration": 469,
    "start_time": "2024-02-07T17:25:49.643Z"
   },
   {
    "duration": 7978,
    "start_time": "2024-02-07T17:26:23.982Z"
   },
   {
    "duration": 505,
    "start_time": "2024-02-07T17:26:31.962Z"
   },
   {
    "duration": 249,
    "start_time": "2024-02-07T17:26:32.469Z"
   },
   {
    "duration": 8,
    "start_time": "2024-02-07T17:26:32.724Z"
   },
   {
    "duration": 58,
    "start_time": "2024-02-07T17:26:32.734Z"
   },
   {
    "duration": 533,
    "start_time": "2024-02-07T17:27:29.788Z"
   },
   {
    "duration": 75,
    "start_time": "2024-02-07T17:27:46.132Z"
   },
   {
    "duration": 459,
    "start_time": "2024-02-07T17:27:58.677Z"
   },
   {
    "duration": 3,
    "start_time": "2024-02-07T17:29:32.558Z"
   },
   {
    "duration": 500,
    "start_time": "2024-02-07T17:29:45.700Z"
   },
   {
    "duration": 120,
    "start_time": "2024-02-07T17:31:20.148Z"
   },
   {
    "duration": 476,
    "start_time": "2024-02-07T17:35:14.888Z"
   },
   {
    "duration": 179,
    "start_time": "2024-02-07T17:35:15.367Z"
   },
   {
    "duration": 117,
    "start_time": "2024-02-07T17:37:00.027Z"
   },
   {
    "duration": 60,
    "start_time": "2024-02-07T17:37:16.958Z"
   },
   {
    "duration": 57,
    "start_time": "2024-02-07T17:37:24.858Z"
   },
   {
    "duration": 66,
    "start_time": "2024-02-07T17:37:36.792Z"
   },
   {
    "duration": 86,
    "start_time": "2024-02-07T17:37:39.295Z"
   },
   {
    "duration": 67,
    "start_time": "2024-02-07T17:37:40.744Z"
   },
   {
    "duration": 64,
    "start_time": "2024-02-07T17:37:48.465Z"
   },
   {
    "duration": 11,
    "start_time": "2024-02-07T17:38:02.262Z"
   },
   {
    "duration": 62,
    "start_time": "2024-02-07T17:38:17.299Z"
   },
   {
    "duration": 172,
    "start_time": "2024-02-07T17:38:27.932Z"
   },
   {
    "duration": 9874,
    "start_time": "2024-02-07T17:39:41.036Z"
   },
   {
    "duration": 566,
    "start_time": "2024-02-07T17:39:50.912Z"
   },
   {
    "duration": 263,
    "start_time": "2024-02-07T17:39:51.480Z"
   },
   {
    "duration": 7,
    "start_time": "2024-02-07T17:39:51.746Z"
   },
   {
    "duration": 190,
    "start_time": "2024-02-07T17:39:51.755Z"
   },
   {
    "duration": 202,
    "start_time": "2024-02-07T17:39:51.947Z"
   },
   {
    "duration": 9,
    "start_time": "2024-02-07T17:40:20.694Z"
   },
   {
    "duration": 1166,
    "start_time": "2024-02-07T17:40:32.779Z"
   },
   {
    "duration": 6,
    "start_time": "2024-02-07T17:40:38.008Z"
   },
   {
    "duration": 502,
    "start_time": "2024-02-07T17:40:55.617Z"
   },
   {
    "duration": 9245,
    "start_time": "2024-02-07T17:40:57.673Z"
   },
   {
    "duration": 502,
    "start_time": "2024-02-07T17:41:06.919Z"
   },
   {
    "duration": 248,
    "start_time": "2024-02-07T17:41:07.423Z"
   },
   {
    "duration": 7,
    "start_time": "2024-02-07T17:41:07.674Z"
   },
   {
    "duration": 167,
    "start_time": "2024-02-07T17:41:07.682Z"
   },
   {
    "duration": 5,
    "start_time": "2024-02-07T17:41:07.851Z"
   },
   {
    "duration": 185,
    "start_time": "2024-02-07T17:41:07.857Z"
   },
   {
    "duration": 474,
    "start_time": "2024-02-07T17:42:28.088Z"
   },
   {
    "duration": 226,
    "start_time": "2024-02-07T17:42:29.073Z"
   },
   {
    "duration": 5,
    "start_time": "2024-02-07T17:42:29.841Z"
   },
   {
    "duration": 138,
    "start_time": "2024-02-07T17:42:30.358Z"
   },
   {
    "duration": 5,
    "start_time": "2024-02-07T17:42:30.693Z"
   },
   {
    "duration": 468,
    "start_time": "2024-02-07T17:42:52.298Z"
   },
   {
    "duration": 215,
    "start_time": "2024-02-07T17:42:52.768Z"
   },
   {
    "duration": 5,
    "start_time": "2024-02-07T17:42:52.985Z"
   },
   {
    "duration": 130,
    "start_time": "2024-02-07T17:42:53.651Z"
   },
   {
    "duration": 164,
    "start_time": "2024-02-07T17:42:54.178Z"
   },
   {
    "duration": 154,
    "start_time": "2024-02-07T17:46:00.785Z"
   },
   {
    "duration": 10477,
    "start_time": "2024-02-07T17:46:35.746Z"
   },
   {
    "duration": 391,
    "start_time": "2024-02-07T17:46:48.973Z"
   },
   {
    "duration": 171,
    "start_time": "2024-02-07T17:46:55.058Z"
   },
   {
    "duration": 383,
    "start_time": "2024-02-07T17:48:23.974Z"
   },
   {
    "duration": 84,
    "start_time": "2024-02-07T17:48:39.563Z"
   },
   {
    "duration": 137,
    "start_time": "2024-02-07T17:48:41.590Z"
   },
   {
    "duration": 11353,
    "start_time": "2024-02-07T18:27:03.356Z"
   },
   {
    "duration": 382,
    "start_time": "2024-02-07T18:27:14.711Z"
   },
   {
    "duration": 163,
    "start_time": "2024-02-07T18:27:15.095Z"
   },
   {
    "duration": 4,
    "start_time": "2024-02-07T18:27:15.260Z"
   },
   {
    "duration": 119,
    "start_time": "2024-02-07T18:27:15.266Z"
   },
   {
    "duration": 112,
    "start_time": "2024-02-07T18:27:15.387Z"
   },
   {
    "duration": 121,
    "start_time": "2024-02-07T18:27:37.797Z"
   },
   {
    "duration": 209,
    "start_time": "2024-02-07T18:27:56.839Z"
   },
   {
    "duration": 113,
    "start_time": "2024-02-07T18:27:57.284Z"
   },
   {
    "duration": 46,
    "start_time": "2024-02-07T18:28:44.473Z"
   },
   {
    "duration": 88,
    "start_time": "2024-02-07T18:29:00.306Z"
   },
   {
    "duration": 495,
    "start_time": "2024-02-07T18:29:04.288Z"
   },
   {
    "duration": 120,
    "start_time": "2024-02-07T18:29:12.643Z"
   },
   {
    "duration": 288,
    "start_time": "2024-02-07T18:30:14.568Z"
   },
   {
    "duration": 106,
    "start_time": "2024-02-07T18:30:16.512Z"
   },
   {
    "duration": 364,
    "start_time": "2024-02-07T18:31:10.056Z"
   },
   {
    "duration": 572,
    "start_time": "2024-02-07T18:31:28.164Z"
   },
   {
    "duration": 729,
    "start_time": "2024-02-07T18:32:03.292Z"
   },
   {
    "duration": 738,
    "start_time": "2024-02-07T18:32:18.616Z"
   },
   {
    "duration": 43,
    "start_time": "2024-02-07T18:33:06.019Z"
   },
   {
    "duration": 920,
    "start_time": "2024-02-07T18:34:10.474Z"
   },
   {
    "duration": 754,
    "start_time": "2024-02-07T18:34:33.245Z"
   },
   {
    "duration": 793,
    "start_time": "2024-02-07T18:36:34.285Z"
   },
   {
    "duration": 11315,
    "start_time": "2024-02-07T18:37:03.142Z"
   },
   {
    "duration": 369,
    "start_time": "2024-02-07T18:37:14.458Z"
   },
   {
    "duration": 143,
    "start_time": "2024-02-07T18:37:14.829Z"
   },
   {
    "duration": 6,
    "start_time": "2024-02-07T18:37:14.974Z"
   },
   {
    "duration": 341,
    "start_time": "2024-02-07T18:37:14.981Z"
   },
   {
    "duration": 106,
    "start_time": "2024-02-07T18:37:15.324Z"
   },
   {
    "duration": 739,
    "start_time": "2024-02-07T18:37:15.432Z"
   },
   {
    "duration": 55,
    "start_time": "2024-02-07T18:37:16.173Z"
   },
   {
    "duration": 794,
    "start_time": "2024-02-07T18:37:16.230Z"
   },
   {
    "duration": 10562,
    "start_time": "2024-02-07T18:37:33.678Z"
   },
   {
    "duration": 390,
    "start_time": "2024-02-07T18:37:44.242Z"
   },
   {
    "duration": 165,
    "start_time": "2024-02-07T18:37:44.634Z"
   },
   {
    "duration": 4,
    "start_time": "2024-02-07T18:37:44.802Z"
   },
   {
    "duration": 349,
    "start_time": "2024-02-07T18:37:44.807Z"
   },
   {
    "duration": 106,
    "start_time": "2024-02-07T18:37:45.158Z"
   },
   {
    "duration": 771,
    "start_time": "2024-02-07T18:37:45.266Z"
   },
   {
    "duration": 42,
    "start_time": "2024-02-07T18:37:46.039Z"
   },
   {
    "duration": 892,
    "start_time": "2024-02-07T18:37:46.082Z"
   },
   {
    "duration": 708,
    "start_time": "2024-02-07T18:38:05.076Z"
   },
   {
    "duration": 698,
    "start_time": "2024-02-07T18:38:12.729Z"
   },
   {
    "duration": 11209,
    "start_time": "2024-02-07T18:38:25.873Z"
   },
   {
    "duration": 391,
    "start_time": "2024-02-07T18:38:37.084Z"
   },
   {
    "duration": 156,
    "start_time": "2024-02-07T18:38:37.477Z"
   },
   {
    "duration": 6,
    "start_time": "2024-02-07T18:38:37.635Z"
   },
   {
    "duration": 352,
    "start_time": "2024-02-07T18:38:37.643Z"
   },
   {
    "duration": 109,
    "start_time": "2024-02-07T18:38:37.997Z"
   },
   {
    "duration": 784,
    "start_time": "2024-02-07T18:38:38.108Z"
   },
   {
    "duration": 58,
    "start_time": "2024-02-07T18:38:38.893Z"
   },
   {
    "duration": 794,
    "start_time": "2024-02-07T18:38:38.952Z"
   },
   {
    "duration": 11393,
    "start_time": "2024-02-07T18:38:53.078Z"
   },
   {
    "duration": 369,
    "start_time": "2024-02-07T18:39:04.473Z"
   },
   {
    "duration": 154,
    "start_time": "2024-02-07T18:39:04.844Z"
   },
   {
    "duration": 17,
    "start_time": "2024-02-07T18:39:05.001Z"
   },
   {
    "duration": 337,
    "start_time": "2024-02-07T18:39:05.019Z"
   },
   {
    "duration": 100,
    "start_time": "2024-02-07T18:39:05.358Z"
   },
   {
    "duration": 770,
    "start_time": "2024-02-07T18:39:05.460Z"
   },
   {
    "duration": 41,
    "start_time": "2024-02-07T18:39:06.232Z"
   },
   {
    "duration": 810,
    "start_time": "2024-02-07T18:39:06.274Z"
   },
   {
    "duration": 11269,
    "start_time": "2024-02-07T18:43:44.011Z"
   },
   {
    "duration": 396,
    "start_time": "2024-02-07T18:43:55.282Z"
   },
   {
    "duration": 163,
    "start_time": "2024-02-07T18:43:57.255Z"
   },
   {
    "duration": 6,
    "start_time": "2024-02-07T18:44:15.457Z"
   },
   {
    "duration": 38,
    "start_time": "2024-02-07T18:44:21.908Z"
   },
   {
    "duration": 5,
    "start_time": "2024-02-07T18:47:16.433Z"
   },
   {
    "duration": 346,
    "start_time": "2024-02-07T18:47:16.846Z"
   },
   {
    "duration": 30,
    "start_time": "2024-02-07T18:47:17.336Z"
   },
   {
    "duration": 11262,
    "start_time": "2024-02-07T18:47:35.756Z"
   },
   {
    "duration": 376,
    "start_time": "2024-02-07T18:47:47.020Z"
   },
   {
    "duration": 175,
    "start_time": "2024-02-07T18:47:47.398Z"
   },
   {
    "duration": 5,
    "start_time": "2024-02-07T18:47:47.575Z"
   },
   {
    "duration": 398,
    "start_time": "2024-02-07T18:47:47.581Z"
   },
   {
    "duration": 285,
    "start_time": "2024-02-07T18:47:54.487Z"
   },
   {
    "duration": 31,
    "start_time": "2024-02-07T18:47:55.010Z"
   },
   {
    "duration": 114,
    "start_time": "2024-02-07T18:48:08.512Z"
   },
   {
    "duration": 8407,
    "start_time": "2024-02-07T18:48:44.941Z"
   },
   {
    "duration": 399,
    "start_time": "2024-02-07T18:48:53.350Z"
   },
   {
    "duration": 158,
    "start_time": "2024-02-07T18:48:53.751Z"
   },
   {
    "duration": 9,
    "start_time": "2024-02-07T18:49:01.864Z"
   },
   {
    "duration": 8,
    "start_time": "2024-02-07T18:49:03.685Z"
   },
   {
    "duration": 6,
    "start_time": "2024-02-07T18:49:10.627Z"
   },
   {
    "duration": 380,
    "start_time": "2024-02-07T18:49:10.867Z"
   },
   {
    "duration": 98,
    "start_time": "2024-02-07T18:49:11.249Z"
   },
   {
    "duration": 591,
    "start_time": "2024-02-07T18:51:21.979Z"
   },
   {
    "duration": 814,
    "start_time": "2024-02-07T18:51:27.895Z"
   },
   {
    "duration": 829,
    "start_time": "2024-02-07T18:51:39.317Z"
   },
   {
    "duration": 44,
    "start_time": "2024-02-07T18:51:48.194Z"
   },
   {
    "duration": 789,
    "start_time": "2024-02-07T18:51:51.982Z"
   },
   {
    "duration": 11664,
    "start_time": "2024-02-07T18:52:04.210Z"
   },
   {
    "duration": 407,
    "start_time": "2024-02-07T18:52:15.875Z"
   },
   {
    "duration": 173,
    "start_time": "2024-02-07T18:52:16.284Z"
   },
   {
    "duration": 4,
    "start_time": "2024-02-07T18:52:16.459Z"
   },
   {
    "duration": 371,
    "start_time": "2024-02-07T18:52:16.464Z"
   },
   {
    "duration": 97,
    "start_time": "2024-02-07T18:52:16.836Z"
   },
   {
    "duration": 833,
    "start_time": "2024-02-07T18:52:16.934Z"
   },
   {
    "duration": 51,
    "start_time": "2024-02-07T18:52:17.768Z"
   },
   {
    "duration": 819,
    "start_time": "2024-02-07T18:52:17.820Z"
   },
   {
    "duration": 974,
    "start_time": "2024-02-07T18:53:17.492Z"
   },
   {
    "duration": 10588,
    "start_time": "2024-02-07T18:53:33.584Z"
   },
   {
    "duration": 409,
    "start_time": "2024-02-07T18:53:44.174Z"
   },
   {
    "duration": 165,
    "start_time": "2024-02-07T18:53:44.584Z"
   },
   {
    "duration": 5,
    "start_time": "2024-02-07T18:53:44.751Z"
   },
   {
    "duration": 380,
    "start_time": "2024-02-07T18:53:44.757Z"
   },
   {
    "duration": 95,
    "start_time": "2024-02-07T18:53:45.138Z"
   },
   {
    "duration": 840,
    "start_time": "2024-02-07T18:53:45.235Z"
   },
   {
    "duration": 50,
    "start_time": "2024-02-07T18:53:46.077Z"
   },
   {
    "duration": 885,
    "start_time": "2024-02-07T18:53:46.128Z"
   },
   {
    "duration": 998,
    "start_time": "2024-02-07T18:54:10.410Z"
   },
   {
    "duration": 12103,
    "start_time": "2024-02-07T18:54:30.570Z"
   },
   {
    "duration": 430,
    "start_time": "2024-02-07T18:54:42.675Z"
   },
   {
    "duration": 188,
    "start_time": "2024-02-07T18:54:43.107Z"
   },
   {
    "duration": 5,
    "start_time": "2024-02-07T18:54:43.297Z"
   },
   {
    "duration": 411,
    "start_time": "2024-02-07T18:54:43.304Z"
   },
   {
    "duration": 107,
    "start_time": "2024-02-07T18:54:43.716Z"
   },
   {
    "duration": 828,
    "start_time": "2024-02-07T18:54:43.825Z"
   },
   {
    "duration": 46,
    "start_time": "2024-02-07T18:54:44.655Z"
   },
   {
    "duration": 885,
    "start_time": "2024-02-07T18:54:44.702Z"
   },
   {
    "duration": 377,
    "start_time": "2024-02-07T19:00:33.257Z"
   },
   {
    "duration": 341,
    "start_time": "2024-02-07T19:00:33.636Z"
   },
   {
    "duration": 419,
    "start_time": "2024-02-07T19:00:33.978Z"
   },
   {
    "duration": 12762,
    "start_time": "2024-02-07T19:00:34.399Z"
   },
   {
    "duration": 2057,
    "start_time": "2024-02-07T19:00:47.163Z"
   },
   {
    "duration": 1378,
    "start_time": "2024-02-07T19:00:49.221Z"
   },
   {
    "duration": 3342,
    "start_time": "2024-02-07T19:00:50.600Z"
   },
   {
    "duration": 11199,
    "start_time": "2024-02-07T19:00:53.943Z"
   },
   {
    "duration": 408,
    "start_time": "2024-02-07T19:01:05.144Z"
   },
   {
    "duration": 180,
    "start_time": "2024-02-07T19:01:05.553Z"
   },
   {
    "duration": 7,
    "start_time": "2024-02-07T19:01:05.735Z"
   },
   {
    "duration": 417,
    "start_time": "2024-02-07T19:01:05.743Z"
   },
   {
    "duration": 120,
    "start_time": "2024-02-07T19:01:06.162Z"
   },
   {
    "duration": 804,
    "start_time": "2024-02-07T19:01:06.285Z"
   },
   {
    "duration": 54,
    "start_time": "2024-02-07T19:01:07.090Z"
   },
   {
    "duration": 902,
    "start_time": "2024-02-07T19:01:08.162Z"
   },
   {
    "duration": 96,
    "start_time": "2024-02-07T19:01:09.066Z"
   },
   {
    "duration": 21,
    "start_time": "2024-02-07T19:01:46.570Z"
   },
   {
    "duration": 1147,
    "start_time": "2024-02-07T19:02:22.849Z"
   },
   {
    "duration": 1155,
    "start_time": "2024-02-07T19:03:18.631Z"
   },
   {
    "duration": 9847,
    "start_time": "2024-02-07T19:03:43.518Z"
   },
   {
    "duration": 319,
    "start_time": "2024-02-07T19:03:53.367Z"
   },
   {
    "duration": 381,
    "start_time": "2024-02-07T19:03:53.688Z"
   },
   {
    "duration": 11620,
    "start_time": "2024-02-07T19:03:54.071Z"
   },
   {
    "duration": 2187,
    "start_time": "2024-02-07T19:04:05.692Z"
   },
   {
    "duration": 1275,
    "start_time": "2024-02-07T19:04:07.881Z"
   },
   {
    "duration": 1280,
    "start_time": "2024-02-07T19:04:09.157Z"
   },
   {
    "duration": 9324,
    "start_time": "2024-02-07T19:04:10.439Z"
   },
   {
    "duration": 293,
    "start_time": "2024-02-07T19:04:19.765Z"
   },
   {
    "duration": 144,
    "start_time": "2024-02-07T19:04:20.060Z"
   },
   {
    "duration": 11,
    "start_time": "2024-02-07T19:04:20.206Z"
   },
   {
    "duration": 322,
    "start_time": "2024-02-07T19:04:20.219Z"
   },
   {
    "duration": 88,
    "start_time": "2024-02-07T19:04:20.542Z"
   },
   {
    "duration": 812,
    "start_time": "2024-02-07T19:04:20.631Z"
   },
   {
    "duration": 45,
    "start_time": "2024-02-07T19:04:21.445Z"
   },
   {
    "duration": 907,
    "start_time": "2024-02-07T19:04:21.491Z"
   },
   {
    "duration": 84,
    "start_time": "2024-02-07T19:04:22.400Z"
   },
   {
    "duration": 121,
    "start_time": "2024-02-07T19:04:22.485Z"
   },
   {
    "duration": 329,
    "start_time": "2024-02-07T19:04:47.659Z"
   },
   {
    "duration": 150,
    "start_time": "2024-02-07T19:05:24.956Z"
   },
   {
    "duration": 155,
    "start_time": "2024-02-07T19:05:45.476Z"
   },
   {
    "duration": 516,
    "start_time": "2024-02-07T19:06:29.087Z"
   },
   {
    "duration": 599,
    "start_time": "2024-02-07T19:06:40.153Z"
   },
   {
    "duration": 562,
    "start_time": "2024-02-07T19:07:07.829Z"
   },
   {
    "duration": 579,
    "start_time": "2024-02-07T19:08:35.121Z"
   },
   {
    "duration": 567,
    "start_time": "2024-02-07T19:09:05.956Z"
   },
   {
    "duration": 1380,
    "start_time": "2024-02-07T19:10:17.523Z"
   },
   {
    "duration": 35,
    "start_time": "2024-02-07T19:10:26.288Z"
   },
   {
    "duration": 9489,
    "start_time": "2024-02-07T19:11:07.452Z"
   },
   {
    "duration": 302,
    "start_time": "2024-02-07T19:11:16.943Z"
   },
   {
    "duration": 136,
    "start_time": "2024-02-07T19:11:17.246Z"
   },
   {
    "duration": 4,
    "start_time": "2024-02-07T19:11:17.384Z"
   },
   {
    "duration": 303,
    "start_time": "2024-02-07T19:11:17.390Z"
   },
   {
    "duration": 84,
    "start_time": "2024-02-07T19:11:17.695Z"
   },
   {
    "duration": 781,
    "start_time": "2024-02-07T19:11:17.780Z"
   },
   {
    "duration": 55,
    "start_time": "2024-02-07T19:11:18.563Z"
   },
   {
    "duration": 908,
    "start_time": "2024-02-07T19:11:18.620Z"
   },
   {
    "duration": 131,
    "start_time": "2024-02-07T19:11:19.530Z"
   },
   {
    "duration": 1373,
    "start_time": "2024-02-07T19:11:19.663Z"
   },
   {
    "duration": 32,
    "start_time": "2024-02-07T19:11:21.037Z"
   },
   {
    "duration": 10578,
    "start_time": "2024-02-07T19:12:41.615Z"
   },
   {
    "duration": 349,
    "start_time": "2024-02-07T19:12:52.195Z"
   },
   {
    "duration": 171,
    "start_time": "2024-02-07T19:12:52.547Z"
   },
   {
    "duration": 6,
    "start_time": "2024-02-07T19:12:52.720Z"
   },
   {
    "duration": 332,
    "start_time": "2024-02-07T19:12:52.727Z"
   },
   {
    "duration": 101,
    "start_time": "2024-02-07T19:12:53.060Z"
   },
   {
    "duration": 872,
    "start_time": "2024-02-07T19:12:53.162Z"
   },
   {
    "duration": 44,
    "start_time": "2024-02-07T19:12:54.036Z"
   },
   {
    "duration": 879,
    "start_time": "2024-02-07T19:12:54.082Z"
   },
   {
    "duration": 130,
    "start_time": "2024-02-07T19:12:54.963Z"
   },
   {
    "duration": 78,
    "start_time": "2024-02-07T19:12:55.095Z"
   },
   {
    "duration": 23,
    "start_time": "2024-02-07T19:13:06.561Z"
   },
   {
    "duration": 25,
    "start_time": "2024-02-07T19:13:12.141Z"
   },
   {
    "duration": 31,
    "start_time": "2024-02-07T19:13:49.457Z"
   },
   {
    "duration": 518,
    "start_time": "2024-02-07T19:16:16.257Z"
   },
   {
    "duration": 81,
    "start_time": "2024-02-07T19:16:19.727Z"
   },
   {
    "duration": 34,
    "start_time": "2024-02-07T19:16:24.203Z"
   },
   {
    "duration": 11068,
    "start_time": "2024-02-07T19:18:31.415Z"
   },
   {
    "duration": 353,
    "start_time": "2024-02-07T19:18:42.484Z"
   },
   {
    "duration": 161,
    "start_time": "2024-02-07T19:18:42.839Z"
   },
   {
    "duration": 15,
    "start_time": "2024-02-07T19:18:43.003Z"
   },
   {
    "duration": 341,
    "start_time": "2024-02-07T19:18:43.020Z"
   },
   {
    "duration": 99,
    "start_time": "2024-02-07T19:18:43.362Z"
   },
   {
    "duration": 791,
    "start_time": "2024-02-07T19:18:43.462Z"
   },
   {
    "duration": 47,
    "start_time": "2024-02-07T19:18:44.254Z"
   },
   {
    "duration": 845,
    "start_time": "2024-02-07T19:18:44.302Z"
   },
   {
    "duration": 138,
    "start_time": "2024-02-07T19:18:45.149Z"
   },
   {
    "duration": 172,
    "start_time": "2024-02-07T19:18:45.289Z"
   },
   {
    "duration": 0,
    "start_time": "2024-02-07T19:18:45.462Z"
   },
   {
    "duration": 12,
    "start_time": "2024-02-07T19:23:10.397Z"
   },
   {
    "duration": 461,
    "start_time": "2024-02-07T19:23:16.347Z"
   },
   {
    "duration": 9,
    "start_time": "2024-02-07T19:23:25.345Z"
   },
   {
    "duration": 501,
    "start_time": "2024-02-07T19:24:11.676Z"
   },
   {
    "duration": 10094,
    "start_time": "2024-02-08T10:33:50.200Z"
   },
   {
    "duration": 335,
    "start_time": "2024-02-08T10:34:00.296Z"
   },
   {
    "duration": 386,
    "start_time": "2024-02-08T10:34:00.633Z"
   },
   {
    "duration": 12810,
    "start_time": "2024-02-08T10:34:01.021Z"
   },
   {
    "duration": 2120,
    "start_time": "2024-02-08T10:34:13.834Z"
   },
   {
    "duration": 1347,
    "start_time": "2024-02-08T10:34:15.956Z"
   },
   {
    "duration": 3072,
    "start_time": "2024-02-08T10:34:17.305Z"
   },
   {
    "duration": 10679,
    "start_time": "2024-02-08T10:34:20.381Z"
   },
   {
    "duration": 332,
    "start_time": "2024-02-08T10:34:31.062Z"
   },
   {
    "duration": 155,
    "start_time": "2024-02-08T10:34:31.396Z"
   },
   {
    "duration": 5,
    "start_time": "2024-02-08T10:34:31.553Z"
   },
   {
    "duration": 416,
    "start_time": "2024-02-08T10:34:31.560Z"
   },
   {
    "duration": 89,
    "start_time": "2024-02-08T10:34:31.977Z"
   },
   {
    "duration": 922,
    "start_time": "2024-02-08T10:34:32.069Z"
   },
   {
    "duration": 51,
    "start_time": "2024-02-08T10:34:32.993Z"
   },
   {
    "duration": 1026,
    "start_time": "2024-02-08T10:34:33.046Z"
   },
   {
    "duration": 87,
    "start_time": "2024-02-08T10:34:34.074Z"
   },
   {
    "duration": 572,
    "start_time": "2024-02-08T10:34:34.163Z"
   },
   {
    "duration": 7,
    "start_time": "2024-02-08T10:34:34.736Z"
   },
   {
    "duration": 146,
    "start_time": "2024-02-08T10:34:34.744Z"
   },
   {
    "duration": 11,
    "start_time": "2024-02-08T10:35:56.461Z"
   },
   {
    "duration": 130,
    "start_time": "2024-02-08T10:36:01.061Z"
   },
   {
    "duration": 7,
    "start_time": "2024-02-08T10:36:09.287Z"
   },
   {
    "duration": 12,
    "start_time": "2024-02-08T10:36:42.355Z"
   },
   {
    "duration": 13,
    "start_time": "2024-02-08T10:36:51.253Z"
   },
   {
    "duration": 12,
    "start_time": "2024-02-08T10:36:59.515Z"
   },
   {
    "duration": 9,
    "start_time": "2024-02-08T10:37:16.243Z"
   },
   {
    "duration": 6,
    "start_time": "2024-02-08T10:37:24.140Z"
   },
   {
    "duration": 17,
    "start_time": "2024-02-08T10:37:26.927Z"
   },
   {
    "duration": 29,
    "start_time": "2024-02-08T10:37:42.714Z"
   },
   {
    "duration": 10,
    "start_time": "2024-02-08T10:39:24.290Z"
   },
   {
    "duration": 11369,
    "start_time": "2024-02-08T10:39:37.958Z"
   },
   {
    "duration": 331,
    "start_time": "2024-02-08T10:39:49.329Z"
   },
   {
    "duration": 395,
    "start_time": "2024-02-08T10:39:49.662Z"
   },
   {
    "duration": 12261,
    "start_time": "2024-02-08T10:39:50.059Z"
   },
   {
    "duration": 2622,
    "start_time": "2024-02-08T10:40:02.322Z"
   },
   {
    "duration": 1324,
    "start_time": "2024-02-08T10:40:04.946Z"
   },
   {
    "duration": 1250,
    "start_time": "2024-02-08T10:40:06.271Z"
   },
   {
    "duration": 2550,
    "start_time": "2024-02-08T10:40:07.522Z"
   },
   {
    "duration": 284,
    "start_time": "2024-02-08T10:40:10.074Z"
   },
   {
    "duration": 151,
    "start_time": "2024-02-08T10:40:10.360Z"
   },
   {
    "duration": 6,
    "start_time": "2024-02-08T10:40:10.513Z"
   },
   {
    "duration": 337,
    "start_time": "2024-02-08T10:40:10.521Z"
   },
   {
    "duration": 88,
    "start_time": "2024-02-08T10:40:10.860Z"
   },
   {
    "duration": 952,
    "start_time": "2024-02-08T10:40:10.951Z"
   },
   {
    "duration": 49,
    "start_time": "2024-02-08T10:40:11.905Z"
   },
   {
    "duration": 990,
    "start_time": "2024-02-08T10:40:11.956Z"
   },
   {
    "duration": 100,
    "start_time": "2024-02-08T10:40:12.948Z"
   },
   {
    "duration": 569,
    "start_time": "2024-02-08T10:40:13.050Z"
   },
   {
    "duration": 27,
    "start_time": "2024-02-08T10:40:13.620Z"
   },
   {
    "duration": 36,
    "start_time": "2024-02-08T10:40:13.649Z"
   },
   {
    "duration": 14,
    "start_time": "2024-02-08T10:40:35.254Z"
   },
   {
    "duration": 5,
    "start_time": "2024-02-08T10:40:40.806Z"
   },
   {
    "duration": 10140,
    "start_time": "2024-02-08T10:45:06.437Z"
   },
   {
    "duration": 316,
    "start_time": "2024-02-08T10:45:16.579Z"
   },
   {
    "duration": 388,
    "start_time": "2024-02-08T10:45:16.897Z"
   },
   {
    "duration": 12838,
    "start_time": "2024-02-08T10:45:17.287Z"
   },
   {
    "duration": 2099,
    "start_time": "2024-02-08T10:45:30.127Z"
   },
   {
    "duration": 1315,
    "start_time": "2024-02-08T10:45:32.228Z"
   },
   {
    "duration": 3540,
    "start_time": "2024-02-08T10:45:33.544Z"
   },
   {
    "duration": 10804,
    "start_time": "2024-02-08T10:45:37.085Z"
   },
   {
    "duration": 329,
    "start_time": "2024-02-08T10:45:47.891Z"
   },
   {
    "duration": 154,
    "start_time": "2024-02-08T10:45:48.221Z"
   },
   {
    "duration": 9,
    "start_time": "2024-02-08T10:45:48.376Z"
   },
   {
    "duration": 376,
    "start_time": "2024-02-08T10:45:48.386Z"
   },
   {
    "duration": 92,
    "start_time": "2024-02-08T10:45:48.764Z"
   },
   {
    "duration": 926,
    "start_time": "2024-02-08T10:45:48.858Z"
   },
   {
    "duration": 52,
    "start_time": "2024-02-08T10:45:49.785Z"
   },
   {
    "duration": 1022,
    "start_time": "2024-02-08T10:45:49.838Z"
   },
   {
    "duration": 73,
    "start_time": "2024-02-08T10:45:50.861Z"
   },
   {
    "duration": 571,
    "start_time": "2024-02-08T10:45:50.936Z"
   },
   {
    "duration": 24,
    "start_time": "2024-02-08T10:45:51.509Z"
   },
   {
    "duration": 21,
    "start_time": "2024-02-08T10:45:51.535Z"
   },
   {
    "duration": 146,
    "start_time": "2024-02-08T10:45:51.558Z"
   },
   {
    "duration": 11913,
    "start_time": "2024-02-08T10:46:47.515Z"
   },
   {
    "duration": 329,
    "start_time": "2024-02-08T10:46:59.430Z"
   },
   {
    "duration": 392,
    "start_time": "2024-02-08T10:46:59.761Z"
   },
   {
    "duration": 12104,
    "start_time": "2024-02-08T10:47:00.155Z"
   },
   {
    "duration": 2082,
    "start_time": "2024-02-08T10:47:12.261Z"
   },
   {
    "duration": 1320,
    "start_time": "2024-02-08T10:47:14.344Z"
   },
   {
    "duration": 1324,
    "start_time": "2024-02-08T10:47:15.666Z"
   },
   {
    "duration": 11108,
    "start_time": "2024-02-08T10:47:16.991Z"
   },
   {
    "duration": 330,
    "start_time": "2024-02-08T10:47:28.100Z"
   },
   {
    "duration": 160,
    "start_time": "2024-02-08T10:47:28.432Z"
   },
   {
    "duration": 6,
    "start_time": "2024-02-08T10:47:28.594Z"
   },
   {
    "duration": 359,
    "start_time": "2024-02-08T10:47:28.601Z"
   },
   {
    "duration": 90,
    "start_time": "2024-02-08T10:47:28.962Z"
   },
   {
    "duration": 951,
    "start_time": "2024-02-08T10:47:29.055Z"
   },
   {
    "duration": 53,
    "start_time": "2024-02-08T10:47:30.008Z"
   },
   {
    "duration": 1095,
    "start_time": "2024-02-08T10:47:30.063Z"
   },
   {
    "duration": 84,
    "start_time": "2024-02-08T10:47:31.160Z"
   },
   {
    "duration": 557,
    "start_time": "2024-02-08T10:47:31.245Z"
   },
   {
    "duration": 24,
    "start_time": "2024-02-08T10:47:31.804Z"
   },
   {
    "duration": 57,
    "start_time": "2024-02-08T10:47:31.829Z"
   },
   {
    "duration": 55,
    "start_time": "2024-02-08T10:47:31.888Z"
   },
   {
    "duration": 11582,
    "start_time": "2024-02-08T15:39:32.992Z"
   },
   {
    "duration": 336,
    "start_time": "2024-02-08T15:39:44.576Z"
   },
   {
    "duration": 415,
    "start_time": "2024-02-08T15:39:44.915Z"
   },
   {
    "duration": 12327,
    "start_time": "2024-02-08T15:39:45.332Z"
   },
   {
    "duration": 2076,
    "start_time": "2024-02-08T15:39:57.662Z"
   },
   {
    "duration": 1348,
    "start_time": "2024-02-08T15:39:59.740Z"
   },
   {
    "duration": 1406,
    "start_time": "2024-02-08T15:40:01.090Z"
   },
   {
    "duration": 11142,
    "start_time": "2024-02-08T15:40:02.497Z"
   },
   {
    "duration": 338,
    "start_time": "2024-02-08T15:40:13.640Z"
   },
   {
    "duration": 159,
    "start_time": "2024-02-08T15:40:13.980Z"
   },
   {
    "duration": 5,
    "start_time": "2024-02-08T15:40:14.141Z"
   },
   {
    "duration": 373,
    "start_time": "2024-02-08T15:40:14.147Z"
   },
   {
    "duration": 93,
    "start_time": "2024-02-08T15:40:14.522Z"
   },
   {
    "duration": 920,
    "start_time": "2024-02-08T15:40:14.618Z"
   },
   {
    "duration": 58,
    "start_time": "2024-02-08T15:40:15.539Z"
   },
   {
    "duration": 966,
    "start_time": "2024-02-08T15:40:15.599Z"
   },
   {
    "duration": 72,
    "start_time": "2024-02-08T15:40:16.567Z"
   },
   {
    "duration": 565,
    "start_time": "2024-02-08T15:40:16.641Z"
   },
   {
    "duration": 25,
    "start_time": "2024-02-08T15:40:17.208Z"
   },
   {
    "duration": 14,
    "start_time": "2024-02-08T15:40:17.235Z"
   },
   {
    "duration": 7,
    "start_time": "2024-02-08T15:40:17.251Z"
   },
   {
    "duration": 257,
    "start_time": "2024-02-08T15:40:17.282Z"
   },
   {
    "duration": 0,
    "start_time": "2024-02-08T15:40:17.541Z"
   },
   {
    "duration": 60,
    "start_time": "2024-02-08T15:49:21.499Z"
   },
   {
    "duration": 55,
    "start_time": "2024-02-08T15:49:33.235Z"
   },
   {
    "duration": 144,
    "start_time": "2024-02-08T15:50:14.382Z"
   },
   {
    "duration": 477,
    "start_time": "2024-02-08T15:50:24.887Z"
   },
   {
    "duration": 470,
    "start_time": "2024-02-08T15:51:27.477Z"
   },
   {
    "duration": 1110,
    "start_time": "2024-02-08T15:52:25.492Z"
   },
   {
    "duration": 345,
    "start_time": "2024-02-08T15:52:35.387Z"
   },
   {
    "duration": 35,
    "start_time": "2024-02-08T15:52:49.097Z"
   },
   {
    "duration": 28,
    "start_time": "2024-02-08T15:52:54.017Z"
   },
   {
    "duration": 328,
    "start_time": "2024-02-08T15:53:23.740Z"
   },
   {
    "duration": 335,
    "start_time": "2024-02-08T15:54:02.120Z"
   },
   {
    "duration": 60,
    "start_time": "2024-02-08T15:54:22.642Z"
   },
   {
    "duration": 42,
    "start_time": "2024-02-08T15:54:43.883Z"
   },
   {
    "duration": 57,
    "start_time": "2024-02-08T15:54:49.819Z"
   },
   {
    "duration": 17,
    "start_time": "2024-02-08T15:57:29.967Z"
   },
   {
    "duration": 14,
    "start_time": "2024-02-08T15:57:34.029Z"
   },
   {
    "duration": 202,
    "start_time": "2024-02-08T15:57:56.931Z"
   },
   {
    "duration": 62,
    "start_time": "2024-02-08T15:58:35.414Z"
   },
   {
    "duration": 144,
    "start_time": "2024-02-08T15:58:39.603Z"
   },
   {
    "duration": 188,
    "start_time": "2024-02-08T15:59:45.634Z"
   },
   {
    "duration": 173,
    "start_time": "2024-02-08T16:00:06.856Z"
   },
   {
    "duration": 68,
    "start_time": "2024-02-08T16:00:22.530Z"
   },
   {
    "duration": 79,
    "start_time": "2024-02-08T16:00:55.801Z"
   },
   {
    "duration": 7,
    "start_time": "2024-02-08T16:01:05.030Z"
   },
   {
    "duration": 368,
    "start_time": "2024-02-08T16:01:05.039Z"
   },
   {
    "duration": 405,
    "start_time": "2024-02-08T16:01:05.408Z"
   },
   {
    "duration": 12190,
    "start_time": "2024-02-08T16:01:05.815Z"
   },
   {
    "duration": 2148,
    "start_time": "2024-02-08T16:01:18.007Z"
   },
   {
    "duration": 1558,
    "start_time": "2024-02-08T16:01:20.157Z"
   },
   {
    "duration": 3191,
    "start_time": "2024-02-08T16:01:21.717Z"
   },
   {
    "duration": 10082,
    "start_time": "2024-02-08T16:01:24.910Z"
   },
   {
    "duration": 398,
    "start_time": "2024-02-08T16:01:34.994Z"
   },
   {
    "duration": 175,
    "start_time": "2024-02-08T16:01:35.396Z"
   },
   {
    "duration": 11,
    "start_time": "2024-02-08T16:01:35.573Z"
   },
   {
    "duration": 419,
    "start_time": "2024-02-08T16:01:35.587Z"
   },
   {
    "duration": 103,
    "start_time": "2024-02-08T16:01:36.008Z"
   },
   {
    "duration": 986,
    "start_time": "2024-02-08T16:01:36.114Z"
   },
   {
    "duration": 50,
    "start_time": "2024-02-08T16:01:37.103Z"
   },
   {
    "duration": 1030,
    "start_time": "2024-02-08T16:01:37.155Z"
   },
   {
    "duration": 140,
    "start_time": "2024-02-08T16:01:38.187Z"
   },
   {
    "duration": 584,
    "start_time": "2024-02-08T16:01:38.329Z"
   },
   {
    "duration": 22,
    "start_time": "2024-02-08T16:01:38.915Z"
   },
   {
    "duration": 9,
    "start_time": "2024-02-08T16:01:38.939Z"
   },
   {
    "duration": 4,
    "start_time": "2024-02-08T16:01:38.950Z"
   },
   {
    "duration": 1406,
    "start_time": "2024-02-08T16:01:42.625Z"
   },
   {
    "duration": 34,
    "start_time": "2024-02-08T16:02:00.983Z"
   },
   {
    "duration": 258534,
    "start_time": "2024-02-08T16:02:13.036Z"
   },
   {
    "duration": 10400,
    "start_time": "2024-02-08T16:08:01.820Z"
   },
   {
    "duration": 317,
    "start_time": "2024-02-08T16:08:12.222Z"
   },
   {
    "duration": 383,
    "start_time": "2024-02-08T16:08:12.540Z"
   },
   {
    "duration": 13392,
    "start_time": "2024-02-08T16:08:12.924Z"
   },
   {
    "duration": 2127,
    "start_time": "2024-02-08T16:08:26.318Z"
   },
   {
    "duration": 1329,
    "start_time": "2024-02-08T16:08:28.446Z"
   },
   {
    "duration": 1351,
    "start_time": "2024-02-08T16:08:29.777Z"
   },
   {
    "duration": 10423,
    "start_time": "2024-02-08T16:08:31.130Z"
   },
   {
    "duration": 328,
    "start_time": "2024-02-08T16:08:41.555Z"
   },
   {
    "duration": 156,
    "start_time": "2024-02-08T16:08:41.885Z"
   },
   {
    "duration": 6,
    "start_time": "2024-02-08T16:08:42.042Z"
   },
   {
    "duration": 365,
    "start_time": "2024-02-08T16:08:42.049Z"
   },
   {
    "duration": 99,
    "start_time": "2024-02-08T16:08:42.416Z"
   },
   {
    "duration": 1021,
    "start_time": "2024-02-08T16:08:42.520Z"
   },
   {
    "duration": 58,
    "start_time": "2024-02-08T16:08:43.543Z"
   },
   {
    "duration": 1027,
    "start_time": "2024-02-08T16:08:43.603Z"
   },
   {
    "duration": 84,
    "start_time": "2024-02-08T16:08:44.632Z"
   },
   {
    "duration": 577,
    "start_time": "2024-02-08T16:08:44.717Z"
   },
   {
    "duration": 31,
    "start_time": "2024-02-08T16:08:45.297Z"
   },
   {
    "duration": 15,
    "start_time": "2024-02-08T16:08:45.330Z"
   },
   {
    "duration": 35,
    "start_time": "2024-02-08T16:08:45.347Z"
   },
   {
    "duration": 263280,
    "start_time": "2024-02-08T16:08:45.384Z"
   },
   {
    "duration": 162,
    "start_time": "2024-02-08T16:13:08.666Z"
   },
   {
    "duration": 14,
    "start_time": "2024-02-08T16:14:47.738Z"
   },
   {
    "duration": 9,
    "start_time": "2024-02-08T16:15:06.791Z"
   },
   {
    "duration": 10634,
    "start_time": "2024-02-08T16:15:19.233Z"
   },
   {
    "duration": 319,
    "start_time": "2024-02-08T16:15:29.869Z"
   },
   {
    "duration": 399,
    "start_time": "2024-02-08T16:15:30.190Z"
   },
   {
    "duration": 13141,
    "start_time": "2024-02-08T16:15:30.591Z"
   },
   {
    "duration": 2086,
    "start_time": "2024-02-08T16:15:43.734Z"
   },
   {
    "duration": 1342,
    "start_time": "2024-02-08T16:15:45.822Z"
   },
   {
    "duration": 1319,
    "start_time": "2024-02-08T16:15:47.165Z"
   },
   {
    "duration": 11930,
    "start_time": "2024-02-08T16:15:48.486Z"
   },
   {
    "duration": 339,
    "start_time": "2024-02-08T16:16:00.418Z"
   },
   {
    "duration": 184,
    "start_time": "2024-02-08T16:16:00.758Z"
   },
   {
    "duration": 6,
    "start_time": "2024-02-08T16:16:00.944Z"
   },
   {
    "duration": 393,
    "start_time": "2024-02-08T16:16:00.953Z"
   },
   {
    "duration": 100,
    "start_time": "2024-02-08T16:16:01.348Z"
   },
   {
    "duration": 1062,
    "start_time": "2024-02-08T16:16:01.450Z"
   },
   {
    "duration": 72,
    "start_time": "2024-02-08T16:16:02.514Z"
   },
   {
    "duration": 1014,
    "start_time": "2024-02-08T16:16:02.588Z"
   },
   {
    "duration": 80,
    "start_time": "2024-02-08T16:16:03.604Z"
   },
   {
    "duration": 604,
    "start_time": "2024-02-08T16:16:03.685Z"
   },
   {
    "duration": 26,
    "start_time": "2024-02-08T16:16:04.291Z"
   },
   {
    "duration": 15,
    "start_time": "2024-02-08T16:16:04.318Z"
   },
   {
    "duration": 48,
    "start_time": "2024-02-08T16:16:04.334Z"
   },
   {
    "duration": 257993,
    "start_time": "2024-02-08T16:16:04.384Z"
   },
   {
    "duration": 2428,
    "start_time": "2024-02-08T16:20:22.378Z"
   },
   {
    "duration": 153,
    "start_time": "2024-02-08T16:29:40.914Z"
   },
   {
    "duration": 6,
    "start_time": "2024-02-08T16:30:02.070Z"
   },
   {
    "duration": 15,
    "start_time": "2024-02-08T16:30:17.600Z"
   },
   {
    "duration": 253,
    "start_time": "2024-02-08T16:30:40.311Z"
   },
   {
    "duration": 272,
    "start_time": "2024-02-08T16:30:54.674Z"
   },
   {
    "duration": 2605,
    "start_time": "2024-02-08T16:30:56.672Z"
   },
   {
    "duration": 2731,
    "start_time": "2024-02-08T16:32:28.303Z"
   },
   {
    "duration": 2801,
    "start_time": "2024-02-08T16:32:43.873Z"
   },
   {
    "duration": 10686,
    "start_time": "2024-02-08T16:33:46.868Z"
   },
   {
    "duration": 318,
    "start_time": "2024-02-08T16:33:57.556Z"
   },
   {
    "duration": 391,
    "start_time": "2024-02-08T16:33:57.876Z"
   },
   {
    "duration": 12649,
    "start_time": "2024-02-08T16:33:58.269Z"
   },
   {
    "duration": 2099,
    "start_time": "2024-02-08T16:34:10.919Z"
   },
   {
    "duration": 1303,
    "start_time": "2024-02-08T16:34:13.020Z"
   },
   {
    "duration": 1322,
    "start_time": "2024-02-08T16:34:14.325Z"
   },
   {
    "duration": 10817,
    "start_time": "2024-02-08T16:34:15.648Z"
   },
   {
    "duration": 335,
    "start_time": "2024-02-08T16:34:26.467Z"
   },
   {
    "duration": 173,
    "start_time": "2024-02-08T16:34:26.805Z"
   },
   {
    "duration": 8,
    "start_time": "2024-02-08T16:34:26.982Z"
   },
   {
    "duration": 355,
    "start_time": "2024-02-08T16:34:26.996Z"
   },
   {
    "duration": 93,
    "start_time": "2024-02-08T16:34:27.353Z"
   },
   {
    "duration": 988,
    "start_time": "2024-02-08T16:34:27.448Z"
   },
   {
    "duration": 57,
    "start_time": "2024-02-08T16:34:28.438Z"
   },
   {
    "duration": 990,
    "start_time": "2024-02-08T16:34:28.497Z"
   },
   {
    "duration": 70,
    "start_time": "2024-02-08T16:34:29.489Z"
   },
   {
    "duration": 604,
    "start_time": "2024-02-08T16:34:29.561Z"
   },
   {
    "duration": 30,
    "start_time": "2024-02-08T16:34:30.167Z"
   },
   {
    "duration": 17,
    "start_time": "2024-02-08T16:34:30.198Z"
   },
   {
    "duration": 17,
    "start_time": "2024-02-08T16:34:30.217Z"
   },
   {
    "duration": 255953,
    "start_time": "2024-02-08T16:34:30.236Z"
   },
   {
    "duration": 65689,
    "start_time": "2024-02-08T16:38:46.191Z"
   },
   {
    "duration": 153,
    "start_time": "2024-02-08T16:49:55.026Z"
   },
   {
    "duration": 10457,
    "start_time": "2024-02-08T16:50:08.089Z"
   },
   {
    "duration": 318,
    "start_time": "2024-02-08T16:50:18.548Z"
   },
   {
    "duration": 388,
    "start_time": "2024-02-08T16:50:18.868Z"
   },
   {
    "duration": 12368,
    "start_time": "2024-02-08T16:50:19.258Z"
   },
   {
    "duration": 2097,
    "start_time": "2024-02-08T16:50:31.629Z"
   },
   {
    "duration": 1315,
    "start_time": "2024-02-08T16:50:33.728Z"
   },
   {
    "duration": 1326,
    "start_time": "2024-02-08T16:50:35.045Z"
   },
   {
    "duration": 9967,
    "start_time": "2024-02-08T16:50:36.373Z"
   },
   {
    "duration": 330,
    "start_time": "2024-02-08T16:50:46.342Z"
   },
   {
    "duration": 150,
    "start_time": "2024-02-08T16:50:46.674Z"
   },
   {
    "duration": 5,
    "start_time": "2024-02-08T16:50:46.826Z"
   },
   {
    "duration": 358,
    "start_time": "2024-02-08T16:50:46.833Z"
   },
   {
    "duration": 93,
    "start_time": "2024-02-08T16:50:47.193Z"
   },
   {
    "duration": 894,
    "start_time": "2024-02-08T16:50:47.288Z"
   },
   {
    "duration": 51,
    "start_time": "2024-02-08T16:50:48.183Z"
   },
   {
    "duration": 1010,
    "start_time": "2024-02-08T16:50:48.236Z"
   },
   {
    "duration": 78,
    "start_time": "2024-02-08T16:50:49.248Z"
   },
   {
    "duration": 583,
    "start_time": "2024-02-08T16:50:49.328Z"
   },
   {
    "duration": 23,
    "start_time": "2024-02-08T16:50:49.913Z"
   },
   {
    "duration": 14,
    "start_time": "2024-02-08T16:50:49.938Z"
   },
   {
    "duration": 30,
    "start_time": "2024-02-08T16:50:49.953Z"
   },
   {
    "duration": 245068,
    "start_time": "2024-02-08T16:50:49.985Z"
   },
   {
    "duration": 62366,
    "start_time": "2024-02-08T16:54:55.055Z"
   },
   {
    "duration": 63594,
    "start_time": "2024-02-08T16:55:57.423Z"
   },
   {
    "duration": 10,
    "start_time": "2024-02-08T16:57:01.019Z"
   },
   {
    "duration": 8,
    "start_time": "2024-02-08T16:57:13.366Z"
   },
   {
    "duration": 62706,
    "start_time": "2024-02-08T17:06:43.520Z"
   },
   {
    "duration": 8,
    "start_time": "2024-02-08T17:07:46.228Z"
   },
   {
    "duration": 9804,
    "start_time": "2024-02-11T05:56:08.995Z"
   },
   {
    "duration": 322,
    "start_time": "2024-02-11T05:56:18.801Z"
   },
   {
    "duration": 405,
    "start_time": "2024-02-11T05:56:19.124Z"
   },
   {
    "duration": 11349,
    "start_time": "2024-02-11T05:56:19.531Z"
   },
   {
    "duration": 2042,
    "start_time": "2024-02-11T05:56:30.882Z"
   },
   {
    "duration": 1290,
    "start_time": "2024-02-11T05:56:32.926Z"
   },
   {
    "duration": 3522,
    "start_time": "2024-02-11T05:56:34.217Z"
   },
   {
    "duration": 9886,
    "start_time": "2024-02-11T05:56:37.741Z"
   },
   {
    "duration": 286,
    "start_time": "2024-02-11T05:56:47.628Z"
   },
   {
    "duration": 136,
    "start_time": "2024-02-11T05:56:47.915Z"
   },
   {
    "duration": 5,
    "start_time": "2024-02-11T05:56:48.052Z"
   },
   {
    "duration": 304,
    "start_time": "2024-02-11T05:56:48.065Z"
   },
   {
    "duration": 83,
    "start_time": "2024-02-11T05:56:48.371Z"
   },
   {
    "duration": 873,
    "start_time": "2024-02-11T05:56:48.464Z"
   },
   {
    "duration": 46,
    "start_time": "2024-02-11T05:56:49.338Z"
   },
   {
    "duration": 874,
    "start_time": "2024-02-11T05:56:49.385Z"
   },
   {
    "duration": 60,
    "start_time": "2024-02-11T05:56:50.265Z"
   },
   {
    "duration": 488,
    "start_time": "2024-02-11T05:56:50.326Z"
   },
   {
    "duration": 21,
    "start_time": "2024-02-11T05:56:50.815Z"
   },
   {
    "duration": 27,
    "start_time": "2024-02-11T05:56:50.838Z"
   },
   {
    "duration": 6,
    "start_time": "2024-02-11T05:56:50.866Z"
   },
   {
    "duration": 201749,
    "start_time": "2024-02-11T05:56:50.874Z"
   },
   {
    "duration": 52064,
    "start_time": "2024-02-11T06:00:12.625Z"
   },
   {
    "duration": 54787,
    "start_time": "2024-02-11T06:01:04.691Z"
   },
   {
    "duration": 8,
    "start_time": "2024-02-11T06:01:59.479Z"
   },
   {
    "duration": 9711,
    "start_time": "2024-02-11T06:03:01.375Z"
   },
   {
    "duration": 319,
    "start_time": "2024-02-11T06:03:11.088Z"
   },
   {
    "duration": 388,
    "start_time": "2024-02-11T06:03:11.409Z"
   },
   {
    "duration": 4569,
    "start_time": "2024-02-11T06:03:11.799Z"
   },
   {
    "duration": 0,
    "start_time": "2024-02-11T06:03:16.370Z"
   },
   {
    "duration": 0,
    "start_time": "2024-02-11T06:03:16.372Z"
   },
   {
    "duration": 0,
    "start_time": "2024-02-11T06:03:16.373Z"
   },
   {
    "duration": 0,
    "start_time": "2024-02-11T06:03:16.375Z"
   },
   {
    "duration": 0,
    "start_time": "2024-02-11T06:03:16.376Z"
   },
   {
    "duration": 0,
    "start_time": "2024-02-11T06:03:16.378Z"
   },
   {
    "duration": 0,
    "start_time": "2024-02-11T06:03:16.380Z"
   },
   {
    "duration": 0,
    "start_time": "2024-02-11T06:03:16.381Z"
   },
   {
    "duration": 0,
    "start_time": "2024-02-11T06:03:16.382Z"
   },
   {
    "duration": 0,
    "start_time": "2024-02-11T06:03:16.384Z"
   },
   {
    "duration": 0,
    "start_time": "2024-02-11T06:03:16.385Z"
   },
   {
    "duration": 0,
    "start_time": "2024-02-11T06:03:16.386Z"
   },
   {
    "duration": 0,
    "start_time": "2024-02-11T06:03:16.388Z"
   },
   {
    "duration": 0,
    "start_time": "2024-02-11T06:03:16.389Z"
   },
   {
    "duration": 0,
    "start_time": "2024-02-11T06:03:16.390Z"
   },
   {
    "duration": 0,
    "start_time": "2024-02-11T06:03:16.392Z"
   },
   {
    "duration": 0,
    "start_time": "2024-02-11T06:03:16.393Z"
   },
   {
    "duration": 0,
    "start_time": "2024-02-11T06:03:16.394Z"
   },
   {
    "duration": 1,
    "start_time": "2024-02-11T06:03:16.395Z"
   },
   {
    "duration": 0,
    "start_time": "2024-02-11T06:03:16.398Z"
   },
   {
    "duration": 0,
    "start_time": "2024-02-11T06:03:16.398Z"
   },
   {
    "duration": 9903,
    "start_time": "2024-02-11T06:03:19.757Z"
   },
   {
    "duration": 315,
    "start_time": "2024-02-11T06:03:29.662Z"
   },
   {
    "duration": 395,
    "start_time": "2024-02-11T06:03:29.981Z"
   },
   {
    "duration": 11954,
    "start_time": "2024-02-11T06:03:30.378Z"
   },
   {
    "duration": 2058,
    "start_time": "2024-02-11T06:03:42.334Z"
   },
   {
    "duration": 2483,
    "start_time": "2024-02-11T06:03:44.395Z"
   },
   {
    "duration": 1236,
    "start_time": "2024-02-11T06:03:46.880Z"
   },
   {
    "duration": 10367,
    "start_time": "2024-02-11T06:03:48.117Z"
   },
   {
    "duration": 408,
    "start_time": "2024-02-11T06:03:58.487Z"
   },
   {
    "duration": 0,
    "start_time": "2024-02-11T06:03:58.896Z"
   },
   {
    "duration": 0,
    "start_time": "2024-02-11T06:03:58.897Z"
   },
   {
    "duration": 0,
    "start_time": "2024-02-11T06:03:58.898Z"
   },
   {
    "duration": 0,
    "start_time": "2024-02-11T06:03:58.900Z"
   },
   {
    "duration": 0,
    "start_time": "2024-02-11T06:03:58.901Z"
   },
   {
    "duration": 0,
    "start_time": "2024-02-11T06:03:58.903Z"
   },
   {
    "duration": 0,
    "start_time": "2024-02-11T06:03:58.904Z"
   },
   {
    "duration": 0,
    "start_time": "2024-02-11T06:03:58.906Z"
   },
   {
    "duration": 0,
    "start_time": "2024-02-11T06:03:58.907Z"
   },
   {
    "duration": 0,
    "start_time": "2024-02-11T06:03:58.908Z"
   },
   {
    "duration": 0,
    "start_time": "2024-02-11T06:03:58.910Z"
   },
   {
    "duration": 0,
    "start_time": "2024-02-11T06:03:58.911Z"
   },
   {
    "duration": 0,
    "start_time": "2024-02-11T06:03:58.915Z"
   },
   {
    "duration": 0,
    "start_time": "2024-02-11T06:03:58.916Z"
   },
   {
    "duration": 0,
    "start_time": "2024-02-11T06:03:58.918Z"
   },
   {
    "duration": 0,
    "start_time": "2024-02-11T06:03:58.919Z"
   },
   {
    "duration": 9829,
    "start_time": "2024-02-11T06:09:30.571Z"
   },
   {
    "duration": 316,
    "start_time": "2024-02-11T06:09:40.402Z"
   },
   {
    "duration": 386,
    "start_time": "2024-02-11T06:09:40.720Z"
   },
   {
    "duration": 11711,
    "start_time": "2024-02-11T06:09:41.107Z"
   },
   {
    "duration": 2300,
    "start_time": "2024-02-11T06:09:52.820Z"
   },
   {
    "duration": 1282,
    "start_time": "2024-02-11T06:09:55.122Z"
   },
   {
    "duration": 1279,
    "start_time": "2024-02-11T06:09:56.406Z"
   },
   {
    "duration": 9626,
    "start_time": "2024-02-11T06:09:57.687Z"
   },
   {
    "duration": 287,
    "start_time": "2024-02-11T06:10:07.315Z"
   },
   {
    "duration": 144,
    "start_time": "2024-02-11T06:10:07.604Z"
   },
   {
    "duration": 5,
    "start_time": "2024-02-11T06:10:07.749Z"
   },
   {
    "duration": 335,
    "start_time": "2024-02-11T06:10:07.765Z"
   },
   {
    "duration": 85,
    "start_time": "2024-02-11T06:10:08.102Z"
   },
   {
    "duration": 975,
    "start_time": "2024-02-11T06:10:08.190Z"
   },
   {
    "duration": 49,
    "start_time": "2024-02-11T06:10:09.166Z"
   },
   {
    "duration": 828,
    "start_time": "2024-02-11T06:10:09.216Z"
   },
   {
    "duration": 0,
    "start_time": "2024-02-11T06:10:10.045Z"
   },
   {
    "duration": 0,
    "start_time": "2024-02-11T06:10:10.046Z"
   },
   {
    "duration": 0,
    "start_time": "2024-02-11T06:10:10.047Z"
   },
   {
    "duration": 0,
    "start_time": "2024-02-11T06:10:10.048Z"
   },
   {
    "duration": 0,
    "start_time": "2024-02-11T06:10:10.049Z"
   },
   {
    "duration": 0,
    "start_time": "2024-02-11T06:10:10.049Z"
   },
   {
    "duration": 0,
    "start_time": "2024-02-11T06:10:10.050Z"
   },
   {
    "duration": 0,
    "start_time": "2024-02-11T06:10:10.064Z"
   },
   {
    "duration": 0,
    "start_time": "2024-02-11T06:10:10.065Z"
   },
   {
    "duration": 647,
    "start_time": "2024-02-11T06:10:45.331Z"
   },
   {
    "duration": 942,
    "start_time": "2024-02-11T06:10:50.258Z"
   },
   {
    "duration": 71,
    "start_time": "2024-02-11T06:10:53.578Z"
   },
   {
    "duration": 537,
    "start_time": "2024-02-11T06:10:53.904Z"
   },
   {
    "duration": 30,
    "start_time": "2024-02-11T06:10:54.443Z"
   },
   {
    "duration": 12,
    "start_time": "2024-02-11T06:10:54.475Z"
   },
   {
    "duration": 6,
    "start_time": "2024-02-11T06:10:54.547Z"
   },
   {
    "duration": 223594,
    "start_time": "2024-02-11T06:10:55.284Z"
   },
   {
    "duration": 59306,
    "start_time": "2024-02-11T06:14:38.880Z"
   },
   {
    "duration": 54311,
    "start_time": "2024-02-11T06:15:38.187Z"
   },
   {
    "duration": 7,
    "start_time": "2024-02-11T06:16:32.500Z"
   },
   {
    "duration": 10055,
    "start_time": "2024-02-11T06:37:46.092Z"
   },
   {
    "duration": 320,
    "start_time": "2024-02-11T06:37:56.149Z"
   },
   {
    "duration": 388,
    "start_time": "2024-02-11T06:37:56.470Z"
   },
   {
    "duration": 11361,
    "start_time": "2024-02-11T06:37:56.859Z"
   },
   {
    "duration": 2037,
    "start_time": "2024-02-11T06:38:08.222Z"
   },
   {
    "duration": 1251,
    "start_time": "2024-02-11T06:38:10.260Z"
   },
   {
    "duration": 1213,
    "start_time": "2024-02-11T06:38:11.513Z"
   },
   {
    "duration": 10795,
    "start_time": "2024-02-11T06:38:12.728Z"
   },
   {
    "duration": 292,
    "start_time": "2024-02-11T06:38:23.525Z"
   },
   {
    "duration": 145,
    "start_time": "2024-02-11T06:38:23.818Z"
   },
   {
    "duration": 5,
    "start_time": "2024-02-11T06:38:23.964Z"
   },
   {
    "duration": 339,
    "start_time": "2024-02-11T06:38:23.970Z"
   },
   {
    "duration": 90,
    "start_time": "2024-02-11T06:38:24.310Z"
   },
   {
    "duration": 795,
    "start_time": "2024-02-11T06:38:24.403Z"
   },
   {
    "duration": 46,
    "start_time": "2024-02-11T06:38:25.200Z"
   },
   {
    "duration": 969,
    "start_time": "2024-02-11T06:38:25.247Z"
   },
   {
    "duration": 73,
    "start_time": "2024-02-11T06:38:26.218Z"
   },
   {
    "duration": 537,
    "start_time": "2024-02-11T06:38:26.293Z"
   },
   {
    "duration": 22,
    "start_time": "2024-02-11T06:38:26.831Z"
   },
   {
    "duration": 19,
    "start_time": "2024-02-11T06:38:26.855Z"
   },
   {
    "duration": 8,
    "start_time": "2024-02-11T06:38:26.875Z"
   },
   {
    "duration": 208640,
    "start_time": "2024-02-11T06:38:26.884Z"
   },
   {
    "duration": 53570,
    "start_time": "2024-02-11T06:41:55.526Z"
   },
   {
    "duration": 54635,
    "start_time": "2024-02-11T06:42:49.099Z"
   },
   {
    "duration": 8,
    "start_time": "2024-02-11T06:43:43.736Z"
   },
   {
    "duration": 54478,
    "start_time": "2024-02-11T06:48:24.756Z"
   },
   {
    "duration": 229,
    "start_time": "2024-02-11T06:50:08.709Z"
   },
   {
    "duration": 204594,
    "start_time": "2024-02-11T06:50:18.032Z"
   },
   {
    "duration": 9198,
    "start_time": "2024-02-11T06:54:45.509Z"
   },
   {
    "duration": 322,
    "start_time": "2024-02-11T06:54:54.708Z"
   },
   {
    "duration": 380,
    "start_time": "2024-02-11T06:54:55.032Z"
   },
   {
    "duration": 11263,
    "start_time": "2024-02-11T06:54:55.414Z"
   },
   {
    "duration": 2043,
    "start_time": "2024-02-11T06:55:06.679Z"
   },
   {
    "duration": 1279,
    "start_time": "2024-02-11T06:55:08.723Z"
   },
   {
    "duration": 1223,
    "start_time": "2024-02-11T06:55:10.004Z"
   },
   {
    "duration": 11456,
    "start_time": "2024-02-11T06:55:11.228Z"
   },
   {
    "duration": 302,
    "start_time": "2024-02-11T06:55:22.686Z"
   },
   {
    "duration": 139,
    "start_time": "2024-02-11T06:55:22.991Z"
   },
   {
    "duration": 5,
    "start_time": "2024-02-11T06:55:23.131Z"
   },
   {
    "duration": 333,
    "start_time": "2024-02-11T06:55:23.138Z"
   },
   {
    "duration": 77,
    "start_time": "2024-02-11T06:55:23.473Z"
   },
   {
    "duration": 818,
    "start_time": "2024-02-11T06:55:23.552Z"
   },
   {
    "duration": 44,
    "start_time": "2024-02-11T06:55:24.372Z"
   },
   {
    "duration": 874,
    "start_time": "2024-02-11T06:55:24.417Z"
   },
   {
    "duration": 74,
    "start_time": "2024-02-11T06:55:25.292Z"
   },
   {
    "duration": 515,
    "start_time": "2024-02-11T06:55:25.368Z"
   },
   {
    "duration": 20,
    "start_time": "2024-02-11T06:55:25.885Z"
   },
   {
    "duration": 11,
    "start_time": "2024-02-11T06:55:25.907Z"
   },
   {
    "duration": 6,
    "start_time": "2024-02-11T06:55:25.920Z"
   },
   {
    "duration": 208585,
    "start_time": "2024-02-11T06:55:25.927Z"
   },
   {
    "duration": 51421,
    "start_time": "2024-02-11T06:58:54.513Z"
   },
   {
    "duration": 55107,
    "start_time": "2024-02-11T06:59:45.936Z"
   },
   {
    "duration": 8,
    "start_time": "2024-02-11T07:00:41.045Z"
   },
   {
    "duration": 134,
    "start_time": "2024-02-11T07:00:41.054Z"
   },
   {
    "duration": 18509,
    "start_time": "2024-02-11T07:46:31.272Z"
   },
   {
    "duration": 55531,
    "start_time": "2024-02-11T07:47:41.524Z"
   },
   {
    "duration": 4,
    "start_time": "2024-02-11T07:48:37.057Z"
   },
   {
    "duration": 4,
    "start_time": "2024-02-11T07:49:01.995Z"
   },
   {
    "duration": 10,
    "start_time": "2024-02-11T07:49:12.625Z"
   },
   {
    "duration": 10,
    "start_time": "2024-02-11T07:53:43.359Z"
   },
   {
    "duration": 12,
    "start_time": "2024-02-11T07:53:58.508Z"
   },
   {
    "duration": 23,
    "start_time": "2024-02-11T07:55:09.665Z"
   },
   {
    "duration": 22,
    "start_time": "2024-02-11T07:55:16.920Z"
   },
   {
    "duration": 10,
    "start_time": "2024-02-11T07:55:21.048Z"
   },
   {
    "duration": 5,
    "start_time": "2024-02-11T07:56:20.605Z"
   },
   {
    "duration": 31,
    "start_time": "2024-02-11T07:57:31.716Z"
   },
   {
    "duration": 155,
    "start_time": "2024-02-11T07:58:05.590Z"
   },
   {
    "duration": 156,
    "start_time": "2024-02-11T07:58:50.870Z"
   },
   {
    "duration": 5,
    "start_time": "2024-02-11T07:59:54.342Z"
   },
   {
    "duration": 3,
    "start_time": "2024-02-11T07:59:57.438Z"
   },
   {
    "duration": 9,
    "start_time": "2024-02-11T08:00:00.789Z"
   },
   {
    "duration": 5,
    "start_time": "2024-02-11T08:00:24.664Z"
   },
   {
    "duration": 5,
    "start_time": "2024-02-11T08:01:08.950Z"
   },
   {
    "duration": 4,
    "start_time": "2024-02-11T08:02:10.844Z"
   },
   {
    "duration": 4,
    "start_time": "2024-02-11T08:02:13.356Z"
   },
   {
    "duration": 9907,
    "start_time": "2024-02-11T08:02:18.909Z"
   },
   {
    "duration": 332,
    "start_time": "2024-02-11T08:02:28.818Z"
   },
   {
    "duration": 414,
    "start_time": "2024-02-11T08:02:29.152Z"
   },
   {
    "duration": 11321,
    "start_time": "2024-02-11T08:02:29.567Z"
   },
   {
    "duration": 2285,
    "start_time": "2024-02-11T08:02:40.891Z"
   },
   {
    "duration": 1277,
    "start_time": "2024-02-11T08:02:43.177Z"
   },
   {
    "duration": 1293,
    "start_time": "2024-02-11T08:02:44.456Z"
   },
   {
    "duration": 11494,
    "start_time": "2024-02-11T08:02:45.751Z"
   },
   {
    "duration": 282,
    "start_time": "2024-02-11T08:02:57.247Z"
   },
   {
    "duration": 150,
    "start_time": "2024-02-11T08:02:57.531Z"
   },
   {
    "duration": 5,
    "start_time": "2024-02-11T08:02:57.682Z"
   },
   {
    "duration": 328,
    "start_time": "2024-02-11T08:02:57.689Z"
   },
   {
    "duration": 79,
    "start_time": "2024-02-11T08:02:58.019Z"
   },
   {
    "duration": 804,
    "start_time": "2024-02-11T08:02:58.101Z"
   },
   {
    "duration": 72,
    "start_time": "2024-02-11T08:02:58.907Z"
   },
   {
    "duration": 947,
    "start_time": "2024-02-11T08:02:58.981Z"
   },
   {
    "duration": 71,
    "start_time": "2024-02-11T08:02:59.930Z"
   },
   {
    "duration": 521,
    "start_time": "2024-02-11T08:03:00.003Z"
   },
   {
    "duration": 22,
    "start_time": "2024-02-11T08:03:00.526Z"
   },
   {
    "duration": 26,
    "start_time": "2024-02-11T08:03:00.549Z"
   },
   {
    "duration": 23,
    "start_time": "2024-02-11T08:03:00.577Z"
   },
   {
    "duration": 211709,
    "start_time": "2024-02-11T08:03:00.601Z"
   },
   {
    "duration": 53701,
    "start_time": "2024-02-11T08:06:32.311Z"
   },
   {
    "duration": 55653,
    "start_time": "2024-02-11T08:07:26.013Z"
   },
   {
    "duration": 91,
    "start_time": "2024-02-11T08:08:21.668Z"
   },
   {
    "duration": 161,
    "start_time": "2024-02-11T08:08:21.765Z"
   },
   {
    "duration": 5,
    "start_time": "2024-02-11T08:08:21.927Z"
   },
   {
    "duration": 128,
    "start_time": "2024-02-11T08:12:29.413Z"
   },
   {
    "duration": 10,
    "start_time": "2024-02-11T08:12:54.561Z"
   },
   {
    "duration": 9,
    "start_time": "2024-02-11T08:13:00.986Z"
   },
   {
    "duration": 54651,
    "start_time": "2024-02-11T08:13:20.975Z"
   },
   {
    "duration": 5,
    "start_time": "2024-02-11T08:14:15.628Z"
   },
   {
    "duration": 11,
    "start_time": "2024-02-11T08:15:54.919Z"
   },
   {
    "duration": 7,
    "start_time": "2024-02-11T08:16:05.843Z"
   },
   {
    "duration": 9,
    "start_time": "2024-02-11T08:16:08.784Z"
   },
   {
    "duration": 11,
    "start_time": "2024-02-11T08:16:11.365Z"
   },
   {
    "duration": 150,
    "start_time": "2024-02-11T08:16:12.657Z"
   },
   {
    "duration": 8,
    "start_time": "2024-02-11T08:16:13.531Z"
   },
   {
    "duration": 13,
    "start_time": "2024-02-11T08:19:27.912Z"
   },
   {
    "duration": 20,
    "start_time": "2024-02-11T08:20:56.919Z"
   },
   {
    "duration": 6,
    "start_time": "2024-02-11T08:21:08.160Z"
   },
   {
    "duration": 330,
    "start_time": "2024-02-11T08:21:08.169Z"
   },
   {
    "duration": 402,
    "start_time": "2024-02-11T08:21:08.500Z"
   },
   {
    "duration": 11642,
    "start_time": "2024-02-11T08:21:08.904Z"
   },
   {
    "duration": 2040,
    "start_time": "2024-02-11T08:21:20.548Z"
   },
   {
    "duration": 3460,
    "start_time": "2024-02-11T08:21:22.590Z"
   },
   {
    "duration": 1263,
    "start_time": "2024-02-11T08:21:26.052Z"
   },
   {
    "duration": 11588,
    "start_time": "2024-02-11T08:21:27.317Z"
   },
   {
    "duration": 373,
    "start_time": "2024-02-11T08:21:38.906Z"
   },
   {
    "duration": 164,
    "start_time": "2024-02-11T08:21:39.281Z"
   },
   {
    "duration": 5,
    "start_time": "2024-02-11T08:21:39.446Z"
   },
   {
    "duration": 380,
    "start_time": "2024-02-11T08:21:39.453Z"
   },
   {
    "duration": 98,
    "start_time": "2024-02-11T08:21:39.834Z"
   },
   {
    "duration": 818,
    "start_time": "2024-02-11T08:21:39.934Z"
   },
   {
    "duration": 44,
    "start_time": "2024-02-11T08:21:40.754Z"
   },
   {
    "duration": 957,
    "start_time": "2024-02-11T08:21:40.799Z"
   },
   {
    "duration": 134,
    "start_time": "2024-02-11T08:21:41.757Z"
   },
   {
    "duration": 519,
    "start_time": "2024-02-11T08:21:41.893Z"
   },
   {
    "duration": 21,
    "start_time": "2024-02-11T08:21:42.413Z"
   },
   {
    "duration": 10,
    "start_time": "2024-02-11T08:21:42.436Z"
   },
   {
    "duration": 19,
    "start_time": "2024-02-11T08:21:42.448Z"
   },
   {
    "duration": 433,
    "start_time": "2024-02-11T08:21:45.001Z"
   },
   {
    "duration": 32,
    "start_time": "2024-02-11T08:22:49.860Z"
   },
   {
    "duration": 1236,
    "start_time": "2024-02-11T08:22:55.312Z"
   },
   {
    "duration": 97453,
    "start_time": "2024-02-11T08:23:30.249Z"
   },
   {
    "duration": 9760,
    "start_time": "2024-02-11T08:25:11.360Z"
   },
   {
    "duration": 323,
    "start_time": "2024-02-11T08:25:21.122Z"
   },
   {
    "duration": 391,
    "start_time": "2024-02-11T08:25:21.447Z"
   },
   {
    "duration": 11497,
    "start_time": "2024-02-11T08:25:21.839Z"
   },
   {
    "duration": 2065,
    "start_time": "2024-02-11T08:25:33.338Z"
   },
   {
    "duration": 1270,
    "start_time": "2024-02-11T08:25:35.405Z"
   },
   {
    "duration": 1227,
    "start_time": "2024-02-11T08:25:36.676Z"
   },
   {
    "duration": 10952,
    "start_time": "2024-02-11T08:25:37.904Z"
   },
   {
    "duration": 312,
    "start_time": "2024-02-11T08:25:48.858Z"
   },
   {
    "duration": 141,
    "start_time": "2024-02-11T08:25:49.171Z"
   },
   {
    "duration": 4,
    "start_time": "2024-02-11T08:25:49.314Z"
   },
   {
    "duration": 326,
    "start_time": "2024-02-11T08:25:49.320Z"
   },
   {
    "duration": 85,
    "start_time": "2024-02-11T08:25:49.648Z"
   },
   {
    "duration": 862,
    "start_time": "2024-02-11T08:25:49.735Z"
   },
   {
    "duration": 48,
    "start_time": "2024-02-11T08:25:50.598Z"
   },
   {
    "duration": 973,
    "start_time": "2024-02-11T08:25:50.648Z"
   },
   {
    "duration": 81,
    "start_time": "2024-02-11T08:25:51.623Z"
   },
   {
    "duration": 194,
    "start_time": "2024-02-11T08:25:51.705Z"
   },
   {
    "duration": 0,
    "start_time": "2024-02-11T08:25:51.901Z"
   },
   {
    "duration": 0,
    "start_time": "2024-02-11T08:25:51.902Z"
   },
   {
    "duration": 0,
    "start_time": "2024-02-11T08:25:51.903Z"
   },
   {
    "duration": 0,
    "start_time": "2024-02-11T08:25:51.904Z"
   },
   {
    "duration": 0,
    "start_time": "2024-02-11T08:25:51.905Z"
   },
   {
    "duration": 208835,
    "start_time": "2024-02-11T08:26:20.014Z"
   },
   {
    "duration": 55100,
    "start_time": "2024-02-11T08:53:21.063Z"
   },
   {
    "duration": 10405,
    "start_time": "2024-02-11T09:10:23.016Z"
   },
   {
    "duration": 310,
    "start_time": "2024-02-11T09:10:33.423Z"
   },
   {
    "duration": 401,
    "start_time": "2024-02-11T09:10:33.735Z"
   },
   {
    "duration": 11926,
    "start_time": "2024-02-11T09:10:34.139Z"
   },
   {
    "duration": 2499,
    "start_time": "2024-02-11T09:10:46.066Z"
   },
   {
    "duration": 1372,
    "start_time": "2024-02-11T09:10:48.566Z"
   },
   {
    "duration": 1374,
    "start_time": "2024-02-11T09:10:49.939Z"
   },
   {
    "duration": 8349,
    "start_time": "2024-02-11T09:10:51.314Z"
   },
   {
    "duration": 332,
    "start_time": "2024-02-11T09:10:59.665Z"
   },
   {
    "duration": 154,
    "start_time": "2024-02-11T09:11:00.000Z"
   },
   {
    "duration": 11,
    "start_time": "2024-02-11T09:11:00.155Z"
   },
   {
    "duration": 360,
    "start_time": "2024-02-11T09:11:00.167Z"
   },
   {
    "duration": 91,
    "start_time": "2024-02-11T09:11:00.529Z"
   },
   {
    "duration": 870,
    "start_time": "2024-02-11T09:11:00.622Z"
   },
   {
    "duration": 45,
    "start_time": "2024-02-11T09:11:01.494Z"
   },
   {
    "duration": 1004,
    "start_time": "2024-02-11T09:11:01.540Z"
   },
   {
    "duration": 78,
    "start_time": "2024-02-11T09:11:02.545Z"
   },
   {
    "duration": 220334,
    "start_time": "2024-02-11T09:11:02.625Z"
   },
   {
    "duration": 55855,
    "start_time": "2024-02-11T09:14:42.960Z"
   },
   {
    "duration": 313827,
    "start_time": "2024-02-11T09:15:38.817Z"
   },
   {
    "duration": 97,
    "start_time": "2024-02-11T09:20:52.646Z"
   },
   {
    "duration": 273,
    "start_time": "2024-02-11T09:20:52.745Z"
   },
   {
    "duration": 11,
    "start_time": "2024-02-11T09:20:53.020Z"
   },
   {
    "duration": 302,
    "start_time": "2024-02-11T09:30:25.263Z"
   },
   {
    "duration": 547,
    "start_time": "2024-02-11T09:30:39.695Z"
   },
   {
    "duration": 10698,
    "start_time": "2024-02-11T09:33:22.617Z"
   },
   {
    "duration": 348,
    "start_time": "2024-02-11T09:33:33.317Z"
   },
   {
    "duration": 159,
    "start_time": "2024-02-11T09:33:33.666Z"
   },
   {
    "duration": 4,
    "start_time": "2024-02-11T09:33:33.827Z"
   },
   {
    "duration": 355,
    "start_time": "2024-02-11T09:33:33.833Z"
   },
   {
    "duration": 96,
    "start_time": "2024-02-11T09:33:34.190Z"
   },
   {
    "duration": 842,
    "start_time": "2024-02-11T09:33:34.287Z"
   },
   {
    "duration": 51,
    "start_time": "2024-02-11T09:33:35.131Z"
   },
   {
    "duration": 1361,
    "start_time": "2024-02-11T09:33:35.184Z"
   },
   {
    "duration": 0,
    "start_time": "2024-02-11T09:33:36.547Z"
   },
   {
    "duration": 0,
    "start_time": "2024-02-11T09:33:36.548Z"
   },
   {
    "duration": 944,
    "start_time": "2024-02-11T09:33:44.955Z"
   },
   {
    "duration": 135,
    "start_time": "2024-02-11T09:33:46.785Z"
   },
   {
    "duration": 9768,
    "start_time": "2024-02-11T09:37:12.290Z"
   },
   {
    "duration": 333,
    "start_time": "2024-02-11T09:37:22.060Z"
   },
   {
    "duration": 394,
    "start_time": "2024-02-11T09:37:22.395Z"
   },
   {
    "duration": 11622,
    "start_time": "2024-02-11T09:37:22.791Z"
   },
   {
    "duration": 2026,
    "start_time": "2024-02-11T09:37:34.415Z"
   },
   {
    "duration": 1273,
    "start_time": "2024-02-11T09:37:36.442Z"
   },
   {
    "duration": 1256,
    "start_time": "2024-02-11T09:37:37.716Z"
   },
   {
    "duration": 10728,
    "start_time": "2024-02-11T09:37:38.974Z"
   },
   {
    "duration": 296,
    "start_time": "2024-02-11T09:37:49.704Z"
   },
   {
    "duration": 148,
    "start_time": "2024-02-11T09:37:50.002Z"
   },
   {
    "duration": 15,
    "start_time": "2024-02-11T09:37:50.151Z"
   },
   {
    "duration": 333,
    "start_time": "2024-02-11T09:37:50.168Z"
   },
   {
    "duration": 90,
    "start_time": "2024-02-11T09:37:50.502Z"
   },
   {
    "duration": 792,
    "start_time": "2024-02-11T09:37:50.595Z"
   },
   {
    "duration": 42,
    "start_time": "2024-02-11T09:37:51.388Z"
   },
   {
    "duration": 916,
    "start_time": "2024-02-11T09:37:51.431Z"
   },
   {
    "duration": 78,
    "start_time": "2024-02-11T09:37:52.348Z"
   },
   {
    "duration": 222806,
    "start_time": "2024-02-11T09:37:52.428Z"
   },
   {
    "duration": 54579,
    "start_time": "2024-02-11T09:41:35.236Z"
   },
   {
    "duration": 319369,
    "start_time": "2024-02-11T09:42:29.817Z"
   },
   {
    "duration": 96,
    "start_time": "2024-02-11T09:47:49.188Z"
   },
   {
    "duration": 306,
    "start_time": "2024-02-11T09:47:49.285Z"
   },
   {
    "duration": 14,
    "start_time": "2024-02-11T09:47:49.593Z"
   },
   {
    "duration": 548,
    "start_time": "2024-02-11T09:47:49.609Z"
   },
   {
    "duration": 287,
    "start_time": "2024-02-11T09:52:31.101Z"
   },
   {
    "duration": 543,
    "start_time": "2024-02-11T09:52:36.315Z"
   },
   {
    "duration": 664,
    "start_time": "2024-02-11T09:52:55.370Z"
   },
   {
    "duration": 642,
    "start_time": "2024-02-11T09:52:59.232Z"
   },
   {
    "duration": 633,
    "start_time": "2024-02-11T09:53:04.318Z"
   },
   {
    "duration": 642,
    "start_time": "2024-02-11T09:53:07.532Z"
   },
   {
    "duration": 550,
    "start_time": "2024-02-11T09:53:15.914Z"
   },
   {
    "duration": 688,
    "start_time": "2024-02-11T09:53:49.818Z"
   },
   {
    "duration": 677,
    "start_time": "2024-02-11T09:54:19.513Z"
   },
   {
    "duration": 697,
    "start_time": "2024-02-11T09:54:57.652Z"
   },
   {
    "duration": 6660,
    "start_time": "2024-02-11T09:56:04.734Z"
   },
   {
    "duration": 6956,
    "start_time": "2024-02-11T09:57:02.197Z"
   },
   {
    "duration": 4383,
    "start_time": "2024-02-11T09:57:41.931Z"
   },
   {
    "duration": 3612,
    "start_time": "2024-02-11T09:57:54.028Z"
   },
   {
    "duration": 2581,
    "start_time": "2024-02-11T09:58:09.881Z"
   },
   {
    "duration": 3124,
    "start_time": "2024-02-11T09:58:19.707Z"
   },
   {
    "duration": 2513,
    "start_time": "2024-02-11T09:58:28.646Z"
   },
   {
    "duration": 2654,
    "start_time": "2024-02-11T09:58:37.798Z"
   },
   {
    "duration": 107,
    "start_time": "2024-02-11T12:04:32.464Z"
   },
   {
    "duration": 6,
    "start_time": "2024-02-11T12:05:19.923Z"
   },
   {
    "duration": 110,
    "start_time": "2024-02-11T12:06:21.933Z"
   },
   {
    "duration": 14,
    "start_time": "2024-02-11T12:06:27.366Z"
   },
   {
    "duration": 88,
    "start_time": "2024-02-11T12:06:30.661Z"
   },
   {
    "duration": 6,
    "start_time": "2024-02-11T12:07:36.056Z"
   },
   {
    "duration": 119,
    "start_time": "2024-02-11T12:08:00.943Z"
   },
   {
    "duration": 91,
    "start_time": "2024-02-11T12:08:01.134Z"
   },
   {
    "duration": 10505,
    "start_time": "2024-02-11T12:09:26.018Z"
   },
   {
    "duration": 324,
    "start_time": "2024-02-11T12:09:36.525Z"
   },
   {
    "duration": 401,
    "start_time": "2024-02-11T12:09:36.850Z"
   },
   {
    "duration": 11790,
    "start_time": "2024-02-11T12:09:37.253Z"
   },
   {
    "duration": 2057,
    "start_time": "2024-02-11T12:09:49.044Z"
   },
   {
    "duration": 1303,
    "start_time": "2024-02-11T12:09:51.103Z"
   },
   {
    "duration": 1259,
    "start_time": "2024-02-11T12:09:52.408Z"
   },
   {
    "duration": 10978,
    "start_time": "2024-02-11T12:09:53.669Z"
   },
   {
    "duration": 303,
    "start_time": "2024-02-11T12:10:04.648Z"
   },
   {
    "duration": 149,
    "start_time": "2024-02-11T12:10:04.953Z"
   },
   {
    "duration": 5,
    "start_time": "2024-02-11T12:10:05.103Z"
   },
   {
    "duration": 344,
    "start_time": "2024-02-11T12:10:05.110Z"
   },
   {
    "duration": 92,
    "start_time": "2024-02-11T12:10:05.456Z"
   },
   {
    "duration": 868,
    "start_time": "2024-02-11T12:10:05.550Z"
   },
   {
    "duration": 46,
    "start_time": "2024-02-11T12:10:06.420Z"
   },
   {
    "duration": 940,
    "start_time": "2024-02-11T12:10:06.468Z"
   },
   {
    "duration": 75,
    "start_time": "2024-02-11T12:10:07.409Z"
   },
   {
    "duration": 218168,
    "start_time": "2024-02-11T12:10:07.485Z"
   },
   {
    "duration": 55527,
    "start_time": "2024-02-11T12:13:45.655Z"
   },
   {
    "duration": 156,
    "start_time": "2024-02-11T12:14:41.184Z"
   },
   {
    "duration": 349822,
    "start_time": "2024-02-11T12:14:41.341Z"
   },
   {
    "duration": 91,
    "start_time": "2024-02-11T12:20:31.165Z"
   },
   {
    "duration": 460,
    "start_time": "2024-02-11T12:20:31.265Z"
   },
   {
    "duration": 15,
    "start_time": "2024-02-11T12:20:31.726Z"
   },
   {
    "duration": 2359,
    "start_time": "2024-02-11T12:20:31.742Z"
   },
   {
    "duration": 356671,
    "start_time": "2024-02-11T12:20:47.549Z"
   },
   {
    "duration": 120475,
    "start_time": "2024-02-11T12:27:01.174Z"
   },
   {
    "duration": 121204,
    "start_time": "2024-02-11T12:29:07.940Z"
   },
   {
    "duration": 121505,
    "start_time": "2024-02-11T12:31:21.966Z"
   },
   {
    "duration": 123193,
    "start_time": "2024-02-11T12:33:30.900Z"
   },
   {
    "duration": 122685,
    "start_time": "2024-02-11T12:35:51.664Z"
   },
   {
    "duration": 123123,
    "start_time": "2024-02-11T12:38:08.650Z"
   },
   {
    "duration": 122404,
    "start_time": "2024-02-11T12:40:24.266Z"
   },
   {
    "duration": 10,
    "start_time": "2024-02-11T12:42:47.803Z"
   },
   {
    "duration": 551,
    "start_time": "2024-02-11T12:42:49.323Z"
   },
   {
    "duration": 14,
    "start_time": "2024-02-11T12:42:50.299Z"
   },
   {
    "duration": 14,
    "start_time": "2024-02-11T12:43:07.313Z"
   },
   {
    "duration": 9761,
    "start_time": "2024-02-11T12:46:18.312Z"
   },
   {
    "duration": 315,
    "start_time": "2024-02-11T12:46:28.075Z"
   },
   {
    "duration": 389,
    "start_time": "2024-02-11T12:46:28.392Z"
   },
   {
    "duration": 11789,
    "start_time": "2024-02-11T12:46:28.782Z"
   },
   {
    "duration": 2056,
    "start_time": "2024-02-11T12:46:40.573Z"
   },
   {
    "duration": 4235,
    "start_time": "2024-02-11T12:46:42.631Z"
   },
   {
    "duration": 1284,
    "start_time": "2024-02-11T12:46:46.868Z"
   },
   {
    "duration": 2433,
    "start_time": "2024-02-11T12:46:48.154Z"
   },
   {
    "duration": 270,
    "start_time": "2024-02-11T12:46:50.589Z"
   },
   {
    "duration": 139,
    "start_time": "2024-02-11T12:46:50.861Z"
   },
   {
    "duration": 4,
    "start_time": "2024-02-11T12:46:51.002Z"
   },
   {
    "duration": 325,
    "start_time": "2024-02-11T12:46:51.008Z"
   },
   {
    "duration": 89,
    "start_time": "2024-02-11T12:46:51.335Z"
   },
   {
    "duration": 783,
    "start_time": "2024-02-11T12:46:51.427Z"
   },
   {
    "duration": 42,
    "start_time": "2024-02-11T12:46:52.211Z"
   },
   {
    "duration": 885,
    "start_time": "2024-02-11T12:46:52.254Z"
   },
   {
    "duration": 78,
    "start_time": "2024-02-11T12:46:53.141Z"
   },
   {
    "duration": 218126,
    "start_time": "2024-02-11T12:46:53.221Z"
   },
   {
    "duration": 55629,
    "start_time": "2024-02-11T12:50:31.349Z"
   },
   {
    "duration": 127,
    "start_time": "2024-02-11T12:51:26.979Z"
   },
   {
    "duration": 241582,
    "start_time": "2024-02-11T12:51:27.108Z"
   },
   {
    "duration": 92,
    "start_time": "2024-02-11T12:55:28.693Z"
   },
   {
    "duration": 550,
    "start_time": "2024-02-11T12:55:28.787Z"
   },
   {
    "duration": 14,
    "start_time": "2024-02-11T12:55:29.338Z"
   },
   {
    "duration": 2337,
    "start_time": "2024-02-11T12:55:29.353Z"
   },
   {
    "duration": 10157,
    "start_time": "2024-02-11T13:54:34.982Z"
   },
   {
    "duration": 64,
    "start_time": "2024-02-11T13:56:12.448Z"
   },
   {
    "duration": 10754,
    "start_time": "2024-02-12T08:56:12.333Z"
   },
   {
    "duration": 73,
    "start_time": "2024-02-12T08:56:23.090Z"
   },
   {
    "duration": 292,
    "start_time": "2024-02-12T08:56:23.165Z"
   },
   {
    "duration": 11472,
    "start_time": "2024-02-12T08:56:23.460Z"
   },
   {
    "duration": 242,
    "start_time": "2024-02-12T08:56:34.934Z"
   },
   {
    "duration": 843,
    "start_time": "2024-02-12T08:56:47.079Z"
   },
   {
    "duration": 846,
    "start_time": "2024-02-12T08:56:59.440Z"
   },
   {
    "duration": 2419,
    "start_time": "2024-02-12T08:57:20.617Z"
   },
   {
    "duration": 841,
    "start_time": "2024-02-12T08:57:34.707Z"
   },
   {
    "duration": 619,
    "start_time": "2024-02-12T08:57:56.277Z"
   },
   {
    "duration": 625,
    "start_time": "2024-02-12T08:58:04.665Z"
   },
   {
    "duration": 731,
    "start_time": "2024-02-12T08:58:48.000Z"
   },
   {
    "duration": 729,
    "start_time": "2024-02-12T08:58:55.593Z"
   },
   {
    "duration": 2050,
    "start_time": "2024-02-12T08:58:59.186Z"
   },
   {
    "duration": 1399,
    "start_time": "2024-02-12T08:59:09.056Z"
   },
   {
    "duration": 110,
    "start_time": "2024-02-12T09:00:25.879Z"
   },
   {
    "duration": 3963,
    "start_time": "2024-02-12T09:01:09.407Z"
   },
   {
    "duration": 138,
    "start_time": "2024-02-12T09:01:24.279Z"
   },
   {
    "duration": 3346,
    "start_time": "2024-02-12T09:01:56.194Z"
   },
   {
    "duration": 107,
    "start_time": "2024-02-12T09:02:06.892Z"
   },
   {
    "duration": 1729,
    "start_time": "2024-02-12T09:03:20.557Z"
   },
   {
    "duration": 10,
    "start_time": "2024-02-12T09:06:36.049Z"
   },
   {
    "duration": 7,
    "start_time": "2024-02-12T09:06:42.759Z"
   },
   {
    "duration": 76,
    "start_time": "2024-02-12T09:06:42.769Z"
   },
   {
    "duration": 276,
    "start_time": "2024-02-12T09:06:42.847Z"
   },
   {
    "duration": 10628,
    "start_time": "2024-02-12T09:06:43.126Z"
   },
   {
    "duration": 3416,
    "start_time": "2024-02-12T09:06:53.756Z"
   },
   {
    "duration": 1725,
    "start_time": "2024-02-12T09:06:57.174Z"
   },
   {
    "duration": 1262,
    "start_time": "2024-02-12T09:06:58.901Z"
   },
   {
    "duration": 1258,
    "start_time": "2024-02-12T09:07:00.165Z"
   },
   {
    "duration": 9627,
    "start_time": "2024-02-12T09:07:01.424Z"
   },
   {
    "duration": 286,
    "start_time": "2024-02-12T09:07:11.054Z"
   },
   {
    "duration": 147,
    "start_time": "2024-02-12T09:07:11.341Z"
   },
   {
    "duration": 5,
    "start_time": "2024-02-12T09:07:11.494Z"
   },
   {
    "duration": 312,
    "start_time": "2024-02-12T09:07:11.500Z"
   },
   {
    "duration": 80,
    "start_time": "2024-02-12T09:07:11.814Z"
   },
   {
    "duration": 865,
    "start_time": "2024-02-12T09:07:11.896Z"
   },
   {
    "duration": 43,
    "start_time": "2024-02-12T09:07:12.763Z"
   },
   {
    "duration": 898,
    "start_time": "2024-02-12T09:07:12.808Z"
   },
   {
    "duration": 135,
    "start_time": "2024-02-12T09:07:13.708Z"
   },
   {
    "duration": 135,
    "start_time": "2024-02-12T09:07:20.961Z"
   },
   {
    "duration": 6,
    "start_time": "2024-02-12T09:10:05.244Z"
   },
   {
    "duration": 95,
    "start_time": "2024-02-12T09:10:05.252Z"
   },
   {
    "duration": 275,
    "start_time": "2024-02-12T09:10:05.348Z"
   },
   {
    "duration": 10696,
    "start_time": "2024-02-12T09:10:05.624Z"
   },
   {
    "duration": 3785,
    "start_time": "2024-02-12T09:10:16.321Z"
   },
   {
    "duration": 1713,
    "start_time": "2024-02-12T09:10:20.108Z"
   },
   {
    "duration": 2978,
    "start_time": "2024-02-12T09:10:21.823Z"
   },
   {
    "duration": 1214,
    "start_time": "2024-02-12T09:10:24.803Z"
   },
   {
    "duration": 9596,
    "start_time": "2024-02-12T09:10:26.018Z"
   },
   {
    "duration": 289,
    "start_time": "2024-02-12T09:10:35.616Z"
   },
   {
    "duration": 556,
    "start_time": "2024-02-12T09:10:36.531Z"
   },
   {
    "duration": 49,
    "start_time": "2024-02-12T09:10:37.112Z"
   },
   {
    "duration": 85,
    "start_time": "2024-02-12T09:11:58.822Z"
   },
   {
    "duration": 5,
    "start_time": "2024-02-12T09:24:29.182Z"
   },
   {
    "duration": 92,
    "start_time": "2024-02-12T09:24:29.189Z"
   },
   {
    "duration": 280,
    "start_time": "2024-02-12T09:24:29.282Z"
   },
   {
    "duration": 11654,
    "start_time": "2024-02-12T09:24:29.564Z"
   },
   {
    "duration": 3512,
    "start_time": "2024-02-12T09:24:41.220Z"
   },
   {
    "duration": 1703,
    "start_time": "2024-02-12T09:24:44.734Z"
   },
   {
    "duration": 1281,
    "start_time": "2024-02-12T09:24:46.438Z"
   },
   {
    "duration": 1302,
    "start_time": "2024-02-12T09:24:47.721Z"
   },
   {
    "duration": 10834,
    "start_time": "2024-02-12T09:24:49.024Z"
   },
   {
    "duration": 307,
    "start_time": "2024-02-12T09:24:59.860Z"
   },
   {
    "duration": 638,
    "start_time": "2024-02-12T09:25:00.169Z"
   },
   {
    "duration": 63,
    "start_time": "2024-02-12T09:25:00.808Z"
   },
   {
    "duration": 179,
    "start_time": "2024-02-12T09:25:00.872Z"
   },
   {
    "duration": 5,
    "start_time": "2024-02-12T09:25:01.054Z"
   },
   {
    "duration": 354,
    "start_time": "2024-02-12T09:25:01.060Z"
   },
   {
    "duration": 96,
    "start_time": "2024-02-12T09:25:01.415Z"
   },
   {
    "duration": 825,
    "start_time": "2024-02-12T09:25:01.513Z"
   },
   {
    "duration": 41,
    "start_time": "2024-02-12T09:25:02.339Z"
   },
   {
    "duration": 866,
    "start_time": "2024-02-12T09:25:02.381Z"
   },
   {
    "duration": 140,
    "start_time": "2024-02-12T09:25:03.248Z"
   },
   {
    "duration": 231067,
    "start_time": "2024-02-12T09:25:03.393Z"
   },
   {
    "duration": 60789,
    "start_time": "2024-02-12T09:28:54.461Z"
   },
   {
    "duration": 165,
    "start_time": "2024-02-12T09:29:55.251Z"
   },
   {
    "duration": 255597,
    "start_time": "2024-02-12T09:29:55.418Z"
   },
   {
    "duration": 100,
    "start_time": "2024-02-12T09:34:11.018Z"
   },
   {
    "duration": 129140,
    "start_time": "2024-02-12T09:34:11.119Z"
   },
   {
    "duration": 0,
    "start_time": "2024-02-12T09:36:20.261Z"
   },
   {
    "duration": 20,
    "start_time": "2024-02-12T09:40:05.025Z"
   },
   {
    "duration": 693,
    "start_time": "2024-02-12T09:41:27.783Z"
   },
   {
    "duration": 0,
    "start_time": "2024-02-12T09:41:28.478Z"
   },
   {
    "duration": 191,
    "start_time": "2024-02-12T09:41:53.112Z"
   },
   {
    "duration": 250990,
    "start_time": "2024-02-12T09:41:54.719Z"
   },
   {
    "duration": 11,
    "start_time": "2024-02-12T09:46:05.711Z"
   },
   {
    "duration": 125096,
    "start_time": "2024-02-12T09:46:05.723Z"
   },
   {
    "duration": 821,
    "start_time": "2024-02-12T09:48:31.863Z"
   },
   {
    "duration": 834,
    "start_time": "2024-02-12T09:49:41.845Z"
   },
   {
    "duration": 907,
    "start_time": "2024-02-12T09:49:54.107Z"
   },
   {
    "duration": 913,
    "start_time": "2024-02-12T09:50:04.099Z"
   },
   {
    "duration": 700,
    "start_time": "2024-02-12T09:50:15.292Z"
   },
   {
    "duration": 885,
    "start_time": "2024-02-12T09:50:21.551Z"
   },
   {
    "duration": 1033,
    "start_time": "2024-02-12T09:51:15.216Z"
   },
   {
    "duration": 1049,
    "start_time": "2024-02-12T09:51:25.703Z"
   },
   {
    "duration": 1030,
    "start_time": "2024-02-12T09:51:36.538Z"
   },
   {
    "duration": 1196,
    "start_time": "2024-02-12T09:51:42.261Z"
   },
   {
    "duration": 1081,
    "start_time": "2024-02-12T09:52:17.895Z"
   },
   {
    "duration": 10126,
    "start_time": "2024-02-12T19:13:02.382Z"
   },
   {
    "duration": 70,
    "start_time": "2024-02-12T19:13:12.510Z"
   },
   {
    "duration": 295,
    "start_time": "2024-02-12T19:13:12.582Z"
   },
   {
    "duration": 11126,
    "start_time": "2024-02-12T19:13:12.879Z"
   },
   {
    "duration": 3089,
    "start_time": "2024-02-12T19:13:24.006Z"
   },
   {
    "duration": 1728,
    "start_time": "2024-02-12T19:13:27.097Z"
   },
   {
    "duration": 2989,
    "start_time": "2024-02-12T19:13:28.826Z"
   },
   {
    "duration": 1310,
    "start_time": "2024-02-12T19:13:31.817Z"
   },
   {
    "duration": 11054,
    "start_time": "2024-02-12T19:13:33.129Z"
   },
   {
    "duration": 249,
    "start_time": "2024-02-12T19:13:44.186Z"
   },
   {
    "duration": 586,
    "start_time": "2024-02-12T19:13:44.437Z"
   },
   {
    "duration": 29,
    "start_time": "2024-02-12T19:13:45.025Z"
   },
   {
    "duration": 211,
    "start_time": "2024-02-12T19:13:45.055Z"
   },
   {
    "duration": 5,
    "start_time": "2024-02-12T19:13:45.268Z"
   },
   {
    "duration": 296,
    "start_time": "2024-02-12T19:13:45.274Z"
   },
   {
    "duration": 86,
    "start_time": "2024-02-12T19:13:45.572Z"
   },
   {
    "duration": 811,
    "start_time": "2024-02-12T19:13:45.659Z"
   },
   {
    "duration": 45,
    "start_time": "2024-02-12T19:13:46.471Z"
   },
   {
    "duration": 846,
    "start_time": "2024-02-12T19:13:46.517Z"
   },
   {
    "duration": 147,
    "start_time": "2024-02-12T19:13:47.365Z"
   },
   {
    "duration": 136,
    "start_time": "2024-02-12T19:13:47.513Z"
   },
   {
    "duration": 11954,
    "start_time": "2024-02-13T05:51:26.132Z"
   },
   {
    "duration": 72,
    "start_time": "2024-02-13T05:51:38.088Z"
   },
   {
    "duration": 288,
    "start_time": "2024-02-13T05:51:38.162Z"
   },
   {
    "duration": 12523,
    "start_time": "2024-02-13T05:51:38.452Z"
   },
   {
    "duration": 628,
    "start_time": "2024-02-13T05:51:52.847Z"
   },
   {
    "duration": 247,
    "start_time": "2024-02-13T05:52:47.004Z"
   },
   {
    "duration": 247,
    "start_time": "2024-02-13T05:53:03.771Z"
   },
   {
    "duration": 116,
    "start_time": "2024-02-13T05:53:17.347Z"
   },
   {
    "duration": 109,
    "start_time": "2024-02-13T05:53:20.538Z"
   },
   {
    "duration": 218,
    "start_time": "2024-02-13T05:54:00.536Z"
   },
   {
    "duration": 10,
    "start_time": "2024-02-13T05:58:03.136Z"
   },
   {
    "duration": 5,
    "start_time": "2024-02-13T05:58:08.513Z"
   },
   {
    "duration": 75,
    "start_time": "2024-02-13T05:58:08.520Z"
   },
   {
    "duration": 275,
    "start_time": "2024-02-13T05:58:08.597Z"
   },
   {
    "duration": 11624,
    "start_time": "2024-02-13T05:58:08.873Z"
   },
   {
    "duration": 211,
    "start_time": "2024-02-13T05:58:20.499Z"
   },
   {
    "duration": 1766,
    "start_time": "2024-02-13T05:58:20.712Z"
   },
   {
    "duration": 1304,
    "start_time": "2024-02-13T05:58:22.480Z"
   },
   {
    "duration": 1228,
    "start_time": "2024-02-13T05:58:23.785Z"
   },
   {
    "duration": 9775,
    "start_time": "2024-02-13T05:58:25.014Z"
   },
   {
    "duration": 290,
    "start_time": "2024-02-13T05:58:34.791Z"
   },
   {
    "duration": 651,
    "start_time": "2024-02-13T05:58:35.083Z"
   },
   {
    "duration": 38,
    "start_time": "2024-02-13T05:58:35.736Z"
   },
   {
    "duration": 150,
    "start_time": "2024-02-13T05:58:35.775Z"
   },
   {
    "duration": 5,
    "start_time": "2024-02-13T05:58:35.927Z"
   },
   {
    "duration": 326,
    "start_time": "2024-02-13T05:58:35.933Z"
   },
   {
    "duration": 88,
    "start_time": "2024-02-13T05:58:36.261Z"
   },
   {
    "duration": 1059,
    "start_time": "2024-02-13T05:58:36.351Z"
   },
   {
    "duration": 44,
    "start_time": "2024-02-13T05:58:37.412Z"
   },
   {
    "duration": 959,
    "start_time": "2024-02-13T05:58:37.458Z"
   },
   {
    "duration": 164,
    "start_time": "2024-02-13T05:58:38.419Z"
   },
   {
    "duration": 302,
    "start_time": "2024-02-13T05:58:43.733Z"
   },
   {
    "duration": 254,
    "start_time": "2024-02-13T05:58:48.230Z"
   },
   {
    "duration": 234,
    "start_time": "2024-02-13T05:58:55.682Z"
   },
   {
    "duration": 15,
    "start_time": "2024-02-13T06:00:06.293Z"
   },
   {
    "duration": 7,
    "start_time": "2024-02-13T06:00:10.340Z"
   },
   {
    "duration": 80,
    "start_time": "2024-02-13T06:00:10.349Z"
   },
   {
    "duration": 283,
    "start_time": "2024-02-13T06:00:10.430Z"
   },
   {
    "duration": 12215,
    "start_time": "2024-02-13T06:00:10.715Z"
   },
   {
    "duration": 305,
    "start_time": "2024-02-13T06:00:22.931Z"
   },
   {
    "duration": 1755,
    "start_time": "2024-02-13T06:00:23.238Z"
   },
   {
    "duration": 1309,
    "start_time": "2024-02-13T06:00:24.994Z"
   },
   {
    "duration": 1219,
    "start_time": "2024-02-13T06:00:26.305Z"
   },
   {
    "duration": 11074,
    "start_time": "2024-02-13T06:00:27.525Z"
   },
   {
    "duration": 312,
    "start_time": "2024-02-13T06:00:38.601Z"
   },
   {
    "duration": 684,
    "start_time": "2024-02-13T06:00:38.915Z"
   },
   {
    "duration": 47,
    "start_time": "2024-02-13T06:00:39.601Z"
   },
   {
    "duration": 166,
    "start_time": "2024-02-13T06:00:39.650Z"
   },
   {
    "duration": 5,
    "start_time": "2024-02-13T06:00:39.818Z"
   },
   {
    "duration": 349,
    "start_time": "2024-02-13T06:00:39.824Z"
   },
   {
    "duration": 100,
    "start_time": "2024-02-13T06:00:40.174Z"
   },
   {
    "duration": 902,
    "start_time": "2024-02-13T06:00:40.276Z"
   },
   {
    "duration": 44,
    "start_time": "2024-02-13T06:00:41.180Z"
   },
   {
    "duration": 979,
    "start_time": "2024-02-13T06:00:41.226Z"
   },
   {
    "duration": 349,
    "start_time": "2024-02-13T06:00:42.207Z"
   },
   {
    "duration": 101,
    "start_time": "2024-02-13T06:00:42.558Z"
   },
   {
    "duration": 181601,
    "start_time": "2024-02-13T06:00:42.661Z"
   },
   {
    "duration": 47029,
    "start_time": "2024-02-13T06:03:44.264Z"
   },
   {
    "duration": 183,
    "start_time": "2024-02-13T06:04:31.296Z"
   },
   {
    "duration": 206467,
    "start_time": "2024-02-13T06:04:31.480Z"
   },
   {
    "duration": 110,
    "start_time": "2024-02-13T06:07:57.949Z"
   },
   {
    "duration": 103661,
    "start_time": "2024-02-13T06:07:58.060Z"
   },
   {
    "duration": 139,
    "start_time": "2024-02-13T06:09:41.724Z"
   },
   {
    "duration": 124,
    "start_time": "2024-02-13T06:11:00.432Z"
   },
   {
    "duration": 115,
    "start_time": "2024-02-13T06:13:14.363Z"
   },
   {
    "duration": 270,
    "start_time": "2024-02-13T06:13:24.057Z"
   },
   {
    "duration": 708,
    "start_time": "2024-02-13T06:14:26.182Z"
   },
   {
    "duration": 640,
    "start_time": "2024-02-13T06:15:25.240Z"
   },
   {
    "duration": 668,
    "start_time": "2024-02-13T06:15:29.386Z"
   }
  ],
  "kernelspec": {
   "display_name": "Python 3 (ipykernel)",
   "language": "python",
   "name": "python3"
  },
  "language_info": {
   "codemirror_mode": {
    "name": "ipython",
    "version": 3
   },
   "file_extension": ".py",
   "mimetype": "text/x-python",
   "name": "python",
   "nbconvert_exporter": "python",
   "pygments_lexer": "ipython3",
   "version": "3.11.6"
  },
  "toc": {
   "base_numbering": 1,
   "nav_menu": {},
   "number_sections": false,
   "sideBar": true,
   "skip_h1_title": false,
   "title_cell": "Table of Contents",
   "title_sidebar": "Contents",
   "toc_cell": false,
   "toc_position": {},
   "toc_section_display": true,
   "toc_window_display": false
  },
  "varInspector": {
   "cols": {
    "lenName": 16,
    "lenType": 16,
    "lenVar": 40
   },
   "kernels_config": {
    "python": {
     "delete_cmd_postfix": "",
     "delete_cmd_prefix": "del ",
     "library": "var_list.py",
     "varRefreshCmd": "print(var_dic_list())"
    },
    "r": {
     "delete_cmd_postfix": ") ",
     "delete_cmd_prefix": "rm(",
     "library": "var_list.r",
     "varRefreshCmd": "cat(var_dic_list()) "
    }
   },
   "types_to_exclude": [
    "module",
    "function",
    "builtin_function_or_method",
    "instance",
    "_Feature"
   ],
   "window_display": false
  }
 },
 "nbformat": 4,
 "nbformat_minor": 5
}
