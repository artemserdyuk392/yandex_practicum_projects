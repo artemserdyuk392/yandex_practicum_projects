{
 "cells": [
  {
   "cell_type": "markdown",
   "metadata": {
    "id": "sIfNaMOxgFyK"
   },
   "source": [
    "## Исследование данных о российском кинопрокате\n",
    "\n"
   ]
  },
  {
   "cell_type": "markdown",
   "metadata": {},
   "source": [
    "Заказчик этого исследования — Министерство культуры Российской Федерации. \n",
    "\n",
    "Нужно изучить рынок российского кинопроката и выявить текущие тренды. Необходимо уделить внимание фильмам, которые получили государственную поддержку. Нужен ответ на вопрос: насколько такие фильмы интересны зрителю. \n",
    "Я будете работать с данными, опубликованными на портале открытых данных Министерства культуры. Набор данных содержит информацию о прокатных удостоверениях, сборах и государственной поддержке фильмов, а также информацию с сайта КиноПоиск. \n"
   ]
  },
  {
   "cell_type": "markdown",
   "metadata": {
    "id": "3bSlkCsbgFyL"
   },
   "source": [
    "### Шаг 1. Открыл файлы с данными \n",
    "</div>"
   ]
  },
  {
   "cell_type": "code",
   "execution_count": 1,
   "metadata": {
    "id": "dw87FlzMgFyM"
   },
   "outputs": [
    {
     "name": "stdout",
     "output_type": "stream",
     "text": [
      "<class 'pandas.core.frame.DataFrame'>\n",
      "RangeIndex: 7486 entries, 0 to 7485\n",
      "Data columns (total 15 columns):\n",
      " #   Column                 Non-Null Count  Dtype  \n",
      "---  ------                 --------------  -----  \n",
      " 0   title                  7486 non-null   object \n",
      " 1   puNumber               7486 non-null   object \n",
      " 2   show_start_date        7486 non-null   object \n",
      " 3   type                   7486 non-null   object \n",
      " 4   film_studio            7468 non-null   object \n",
      " 5   production_country     7484 non-null   object \n",
      " 6   director               7477 non-null   object \n",
      " 7   producer               6918 non-null   object \n",
      " 8   age_restriction        7486 non-null   object \n",
      " 9   refundable_support     332 non-null    float64\n",
      " 10  nonrefundable_support  332 non-null    float64\n",
      " 11  budget                 332 non-null    float64\n",
      " 12  financing_source       332 non-null    object \n",
      " 13  ratings                6519 non-null   object \n",
      " 14  genres                 6510 non-null   object \n",
      "dtypes: float64(3), object(12)\n",
      "memory usage: 877.4+ KB\n"
     ]
    }
   ],
   "source": [
    "import pandas as pd\n",
    "movies = pd.read_csv('/Users/artemmm/Downloads/mkrf_movies.csv')\n",
    "shows = pd.read_csv('/Users/artemmm/Downloads/mkrf_shows.csv')\n",
    "movies.info()"
   ]
  },
  {
   "cell_type": "code",
   "execution_count": 2,
   "metadata": {},
   "outputs": [],
   "source": [
    "movies['puNumber'] = pd.to_numeric(movies['puNumber'], errors = 'coerce')\n",
    "movies['puNumber'].fillna(-1, inplace = True)\n",
    "movies = movies.astype({'puNumber':'int64'})\n",
    "movies =  movies[movies['puNumber'] != -1]"
   ]
  },
  {
   "cell_type": "markdown",
   "metadata": {},
   "source": [
    "Из-за пропусков я не могу изменить тип всего столбца, изначально думал заменить на заглушки, но потом решил удалить их, потому что будут проблемы при объединении столбцов. Удаляю пропуски, чтобы изменить его тип."
   ]
  },
  {
   "cell_type": "markdown",
   "metadata": {},
   "source": [
    "В строчке выше я удалил пропуски, а в следующей строчке заменил тип строки на int64"
   ]
  },
  {
   "cell_type": "code",
   "execution_count": 3,
   "metadata": {},
   "outputs": [
    {
     "name": "stdout",
     "output_type": "stream",
     "text": [
      "<class 'pandas.core.frame.DataFrame'>\n",
      "Index: 7485 entries, 0 to 7485\n",
      "Data columns (total 15 columns):\n",
      " #   Column                 Non-Null Count  Dtype  \n",
      "---  ------                 --------------  -----  \n",
      " 0   title                  7485 non-null   object \n",
      " 1   puNumber               7485 non-null   int64  \n",
      " 2   show_start_date        7485 non-null   object \n",
      " 3   type                   7485 non-null   object \n",
      " 4   film_studio            7467 non-null   object \n",
      " 5   production_country     7483 non-null   object \n",
      " 6   director               7476 non-null   object \n",
      " 7   producer               6917 non-null   object \n",
      " 8   age_restriction        7485 non-null   object \n",
      " 9   refundable_support     332 non-null    float64\n",
      " 10  nonrefundable_support  332 non-null    float64\n",
      " 11  budget                 332 non-null    float64\n",
      " 12  financing_source       332 non-null    object \n",
      " 13  ratings                6519 non-null   object \n",
      " 14  genres                 6510 non-null   object \n",
      "dtypes: float64(3), int64(1), object(11)\n",
      "memory usage: 935.6+ KB\n"
     ]
    }
   ],
   "source": [
    "movies.info()#проверяем"
   ]
  },
  {
   "cell_type": "markdown",
   "metadata": {},
   "source": [
    "Следующим шагом я объединю датафреймы:"
   ]
  },
  {
   "cell_type": "code",
   "execution_count": 4,
   "metadata": {},
   "outputs": [
    {
     "data": {
      "text/html": [
       "<div>\n",
       "<style scoped>\n",
       "    .dataframe tbody tr th:only-of-type {\n",
       "        vertical-align: middle;\n",
       "    }\n",
       "\n",
       "    .dataframe tbody tr th {\n",
       "        vertical-align: top;\n",
       "    }\n",
       "\n",
       "    .dataframe thead th {\n",
       "        text-align: right;\n",
       "    }\n",
       "</style>\n",
       "<table border=\"1\" class=\"dataframe\">\n",
       "  <thead>\n",
       "    <tr style=\"text-align: right;\">\n",
       "      <th></th>\n",
       "      <th>title</th>\n",
       "      <th>puNumber</th>\n",
       "      <th>show_start_date</th>\n",
       "      <th>type</th>\n",
       "      <th>film_studio</th>\n",
       "      <th>production_country</th>\n",
       "      <th>director</th>\n",
       "      <th>producer</th>\n",
       "      <th>age_restriction</th>\n",
       "      <th>refundable_support</th>\n",
       "      <th>nonrefundable_support</th>\n",
       "      <th>budget</th>\n",
       "      <th>financing_source</th>\n",
       "      <th>ratings</th>\n",
       "      <th>genres</th>\n",
       "      <th>box_office</th>\n",
       "    </tr>\n",
       "  </thead>\n",
       "  <tbody>\n",
       "    <tr>\n",
       "      <th>0</th>\n",
       "      <td>Открытый простор</td>\n",
       "      <td>221048915</td>\n",
       "      <td>2015-11-27T12:00:00.000Z</td>\n",
       "      <td>Художественный</td>\n",
       "      <td>Тачстоун Пикчерз, Кобальт Пикчерз, Бикон Пикче...</td>\n",
       "      <td>США</td>\n",
       "      <td>Кевин Костнер</td>\n",
       "      <td>Дэвид Валдес, Кевин Костнер, Джейк Эбертс</td>\n",
       "      <td>«18+» - запрещено для детей</td>\n",
       "      <td>NaN</td>\n",
       "      <td>NaN</td>\n",
       "      <td>NaN</td>\n",
       "      <td>NaN</td>\n",
       "      <td>7.2</td>\n",
       "      <td>боевик,драма,мелодрама</td>\n",
       "      <td>NaN</td>\n",
       "    </tr>\n",
       "    <tr>\n",
       "      <th>1</th>\n",
       "      <td>Особо важное задание</td>\n",
       "      <td>111013716</td>\n",
       "      <td>2016-09-13T12:00:00.000Z</td>\n",
       "      <td>Художественный</td>\n",
       "      <td>Киностудия \"Мосфильм\"</td>\n",
       "      <td>СССР</td>\n",
       "      <td>Е.Матвеев</td>\n",
       "      <td>NaN</td>\n",
       "      <td>«6+» - для детей старше 6 лет</td>\n",
       "      <td>NaN</td>\n",
       "      <td>NaN</td>\n",
       "      <td>NaN</td>\n",
       "      <td>NaN</td>\n",
       "      <td>6.6</td>\n",
       "      <td>драма,военный</td>\n",
       "      <td>NaN</td>\n",
       "    </tr>\n",
       "    <tr>\n",
       "      <th>2</th>\n",
       "      <td>Особо опасен</td>\n",
       "      <td>221038416</td>\n",
       "      <td>2016-10-10T12:00:00.000Z</td>\n",
       "      <td>Художественный</td>\n",
       "      <td>Юниверсал Пикчерз, Кикстарт Продакшнз, Марк Пл...</td>\n",
       "      <td>США</td>\n",
       "      <td>Тимур Бекмамбетов</td>\n",
       "      <td>Джим Лемли, Джейсон Нетер, Марк Е.Платт, Яйн Смит</td>\n",
       "      <td>«18+» - запрещено для детей</td>\n",
       "      <td>NaN</td>\n",
       "      <td>NaN</td>\n",
       "      <td>NaN</td>\n",
       "      <td>NaN</td>\n",
       "      <td>6.8</td>\n",
       "      <td>фантастика,боевик,триллер</td>\n",
       "      <td>NaN</td>\n",
       "    </tr>\n",
       "    <tr>\n",
       "      <th>3</th>\n",
       "      <td>Особо опасен</td>\n",
       "      <td>221026916</td>\n",
       "      <td>2016-06-10T12:00:00.000Z</td>\n",
       "      <td>Художественный</td>\n",
       "      <td>Юниверсал Пикчерз, Кикстарт Продакшнз, Марк Пл...</td>\n",
       "      <td>США</td>\n",
       "      <td>Тимур Бекмамбетов</td>\n",
       "      <td>Джим Лемли, Джейсон Нетер, Марк Е.Платт, Яйн Смит</td>\n",
       "      <td>«18+» - запрещено для детей</td>\n",
       "      <td>NaN</td>\n",
       "      <td>NaN</td>\n",
       "      <td>NaN</td>\n",
       "      <td>NaN</td>\n",
       "      <td>6.8</td>\n",
       "      <td>фантастика,боевик,триллер</td>\n",
       "      <td>NaN</td>\n",
       "    </tr>\n",
       "    <tr>\n",
       "      <th>4</th>\n",
       "      <td>Особо опасен</td>\n",
       "      <td>221030815</td>\n",
       "      <td>2015-07-29T12:00:00.000Z</td>\n",
       "      <td>Художественный</td>\n",
       "      <td>Юниверсал Пикчерз, Кикстарт Продакшнз, Марк Пл...</td>\n",
       "      <td>США</td>\n",
       "      <td>Тимур Бекмамбетов</td>\n",
       "      <td>Джим Лемли, Джейсон Нетер, Марк Е.Платт, Яйн Смит</td>\n",
       "      <td>«18+» - запрещено для детей</td>\n",
       "      <td>NaN</td>\n",
       "      <td>NaN</td>\n",
       "      <td>NaN</td>\n",
       "      <td>NaN</td>\n",
       "      <td>6.8</td>\n",
       "      <td>фантастика,боевик,триллер</td>\n",
       "      <td>NaN</td>\n",
       "    </tr>\n",
       "  </tbody>\n",
       "</table>\n",
       "</div>"
      ],
      "text/plain": [
       "                  title   puNumber           show_start_date            type  \\\n",
       "0      Открытый простор  221048915  2015-11-27T12:00:00.000Z  Художественный   \n",
       "1  Особо важное задание  111013716  2016-09-13T12:00:00.000Z  Художественный   \n",
       "2          Особо опасен  221038416  2016-10-10T12:00:00.000Z  Художественный   \n",
       "3          Особо опасен  221026916  2016-06-10T12:00:00.000Z  Художественный   \n",
       "4          Особо опасен  221030815  2015-07-29T12:00:00.000Z  Художественный   \n",
       "\n",
       "                                         film_studio production_country  \\\n",
       "0  Тачстоун Пикчерз, Кобальт Пикчерз, Бикон Пикче...                США   \n",
       "1                              Киностудия \"Мосфильм\"               СССР   \n",
       "2  Юниверсал Пикчерз, Кикстарт Продакшнз, Марк Пл...                США   \n",
       "3  Юниверсал Пикчерз, Кикстарт Продакшнз, Марк Пл...                США   \n",
       "4  Юниверсал Пикчерз, Кикстарт Продакшнз, Марк Пл...                США   \n",
       "\n",
       "            director                                           producer  \\\n",
       "0      Кевин Костнер          Дэвид Валдес, Кевин Костнер, Джейк Эбертс   \n",
       "1          Е.Матвеев                                                NaN   \n",
       "2  Тимур Бекмамбетов  Джим Лемли, Джейсон Нетер, Марк Е.Платт, Яйн Смит   \n",
       "3  Тимур Бекмамбетов  Джим Лемли, Джейсон Нетер, Марк Е.Платт, Яйн Смит   \n",
       "4  Тимур Бекмамбетов  Джим Лемли, Джейсон Нетер, Марк Е.Платт, Яйн Смит   \n",
       "\n",
       "                 age_restriction  refundable_support  nonrefundable_support  \\\n",
       "0    «18+» - запрещено для детей                 NaN                    NaN   \n",
       "1  «6+» - для детей старше 6 лет                 NaN                    NaN   \n",
       "2    «18+» - запрещено для детей                 NaN                    NaN   \n",
       "3    «18+» - запрещено для детей                 NaN                    NaN   \n",
       "4    «18+» - запрещено для детей                 NaN                    NaN   \n",
       "\n",
       "   budget financing_source ratings                     genres  box_office  \n",
       "0     NaN              NaN     7.2     боевик,драма,мелодрама         NaN  \n",
       "1     NaN              NaN     6.6              драма,военный         NaN  \n",
       "2     NaN              NaN     6.8  фантастика,боевик,триллер         NaN  \n",
       "3     NaN              NaN     6.8  фантастика,боевик,триллер         NaN  \n",
       "4     NaN              NaN     6.8  фантастика,боевик,триллер         NaN  "
      ]
     },
     "execution_count": 4,
     "metadata": {},
     "output_type": "execute_result"
    }
   ],
   "source": [
    "data = movies.merge(shows, on = 'puNumber', how = 'left')\n",
    "data.head()"
   ]
  },
  {
   "cell_type": "markdown",
   "metadata": {},
   "source": [
    "Проверяем - не произошла ли потеря данных после объединения."
   ]
  },
  {
   "cell_type": "code",
   "execution_count": 5,
   "metadata": {},
   "outputs": [
    {
     "name": "stdout",
     "output_type": "stream",
     "text": [
      "(7485, 16)\n",
      "(7485, 15)\n",
      "(3158, 2)\n"
     ]
    }
   ],
   "source": [
    "print(data.shape)\n",
    "print(movies.shape)\n",
    "print(shows.shape)"
   ]
  },
  {
   "cell_type": "markdown",
   "metadata": {},
   "source": [
    "Потери данных не произошло!"
   ]
  },
  {
   "cell_type": "markdown",
   "metadata": {
    "id": "KLDGpPG0gFyM"
   },
   "source": [
    "### Шаг 2. Предобработка данных"
   ]
  },
  {
   "cell_type": "code",
   "execution_count": 6,
   "metadata": {},
   "outputs": [
    {
     "name": "stdout",
     "output_type": "stream",
     "text": [
      "<class 'pandas.core.frame.DataFrame'>\n",
      "RangeIndex: 7485 entries, 0 to 7484\n",
      "Data columns (total 16 columns):\n",
      " #   Column                 Non-Null Count  Dtype  \n",
      "---  ------                 --------------  -----  \n",
      " 0   title                  7485 non-null   object \n",
      " 1   puNumber               7485 non-null   int64  \n",
      " 2   show_start_date        7485 non-null   object \n",
      " 3   type                   7485 non-null   object \n",
      " 4   film_studio            7467 non-null   object \n",
      " 5   production_country     7483 non-null   object \n",
      " 6   director               7476 non-null   object \n",
      " 7   producer               6917 non-null   object \n",
      " 8   age_restriction        7485 non-null   object \n",
      " 9   refundable_support     332 non-null    float64\n",
      " 10  nonrefundable_support  332 non-null    float64\n",
      " 11  budget                 332 non-null    float64\n",
      " 12  financing_source       332 non-null    object \n",
      " 13  ratings                6519 non-null   object \n",
      " 14  genres                 6510 non-null   object \n",
      " 15  box_office             3158 non-null   float64\n",
      "dtypes: float64(4), int64(1), object(11)\n",
      "memory usage: 935.8+ KB\n"
     ]
    }
   ],
   "source": [
    "data.info()"
   ]
  },
  {
   "cell_type": "markdown",
   "metadata": {
    "id": "ssWwKXsxgFyO"
   },
   "source": [
    "#### Шаг 2.1. Проверил типы данных"
   ]
  },
  {
   "cell_type": "code",
   "execution_count": 7,
   "metadata": {},
   "outputs": [
    {
     "data": {
      "text/plain": [
       "title                       0\n",
       "puNumber                    0\n",
       "show_start_date             0\n",
       "type                        0\n",
       "film_studio                18\n",
       "production_country          2\n",
       "director                    9\n",
       "producer                  568\n",
       "age_restriction             0\n",
       "refundable_support       7153\n",
       "nonrefundable_support    7153\n",
       "budget                   7153\n",
       "financing_source         7153\n",
       "ratings                   966\n",
       "genres                    975\n",
       "box_office               4327\n",
       "dtype: int64"
      ]
     },
     "execution_count": 7,
     "metadata": {},
     "output_type": "execute_result"
    }
   ],
   "source": [
    "data.isna().sum()"
   ]
  },
  {
   "cell_type": "markdown",
   "metadata": {},
   "source": [
    "Из-за пропусков в столбце 'ratings' я не могу изменить его тип. Так как их мало, я их удалю. Заполнять пропуски медианным значением -  плохой вариант потому, что это индивидуальная оценка для каждого фильма."
   ]
  },
  {
   "cell_type": "code",
   "execution_count": 8,
   "metadata": {},
   "outputs": [
    {
     "data": {
      "text/plain": [
       "0       2015-11-27T12:00:00.000Z\n",
       "1       2016-09-13T12:00:00.000Z\n",
       "2       2016-10-10T12:00:00.000Z\n",
       "3       2016-06-10T12:00:00.000Z\n",
       "4       2015-07-29T12:00:00.000Z\n",
       "                  ...           \n",
       "7480    2019-12-23T12:00:00.000Z\n",
       "7481    2019-12-24T12:00:00.000Z\n",
       "7482    2019-12-28T12:00:00.000Z\n",
       "7483    2019-12-30T12:00:00.000Z\n",
       "7484    2019-12-30T12:00:00.000Z\n",
       "Name: show_start_date, Length: 7485, dtype: object"
      ]
     },
     "execution_count": 8,
     "metadata": {},
     "output_type": "execute_result"
    }
   ],
   "source": [
    "data['show_start_date']"
   ]
  },
  {
   "cell_type": "code",
   "execution_count": 9,
   "metadata": {
    "id": "kVGSplJOgFyO"
   },
   "outputs": [
    {
     "name": "stdout",
     "output_type": "stream",
     "text": [
      "<class 'pandas.core.frame.DataFrame'>\n",
      "RangeIndex: 7485 entries, 0 to 7484\n",
      "Data columns (total 16 columns):\n",
      " #   Column                 Non-Null Count  Dtype         \n",
      "---  ------                 --------------  -----         \n",
      " 0   title                  7485 non-null   object        \n",
      " 1   puNumber               7485 non-null   int64         \n",
      " 2   show_start_date        7485 non-null   datetime64[ns]\n",
      " 3   type                   7485 non-null   object        \n",
      " 4   film_studio            7467 non-null   object        \n",
      " 5   production_country     7483 non-null   object        \n",
      " 6   director               7476 non-null   object        \n",
      " 7   producer               6917 non-null   object        \n",
      " 8   age_restriction        7485 non-null   object        \n",
      " 9   refundable_support     332 non-null    float64       \n",
      " 10  nonrefundable_support  332 non-null    float64       \n",
      " 11  budget                 332 non-null    float64       \n",
      " 12  financing_source       332 non-null    object        \n",
      " 13  ratings                6490 non-null   float64       \n",
      " 14  genres                 6510 non-null   object        \n",
      " 15  box_office             3158 non-null   float64       \n",
      "dtypes: datetime64[ns](1), float64(5), int64(1), object(9)\n",
      "memory usage: 935.8+ KB\n"
     ]
    }
   ],
   "source": [
    "#data['ratings'].unique() #смотрел уникальные значения\n",
    "data['ratings'] = pd.to_numeric(data['ratings'], errors = 'coerce')\n",
    "data['ratings'].unique()\n",
    "data['ratings'] = data['ratings'].dropna()\n",
    "data = data.astype({'ratings':'float64', 'box_office':'float64'}, errors = 'raise')\n",
    "data['show_start_date'] = pd.to_datetime(\n",
    "    data['show_start_date'], format='%Y-%m-%dT%H:%M:%S.%fZ'\n",
    ")\n",
    "data.info()"
   ]
  },
  {
   "cell_type": "markdown",
   "metadata": {},
   "source": [
    "Вывод: на этом шаге я изменил тип данных в столбцах 'box_office', 'ratings', 'show_start_date' тк они не соответствовали описанию, их тип object, хотя два столбца - числовые, третий - datetime64."
   ]
  },
  {
   "cell_type": "markdown",
   "metadata": {
    "id": "i0MOLbF-gFyP"
   },
   "source": [
    "#### Шаг 2.2. Изучил пропуски в датафрейме"
   ]
  },
  {
   "cell_type": "code",
   "execution_count": 10,
   "metadata": {
    "id": "8MJD_lkngFyP"
   },
   "outputs": [
    {
     "data": {
      "text/plain": [
       "title                       0\n",
       "puNumber                    0\n",
       "show_start_date             0\n",
       "type                        0\n",
       "film_studio                18\n",
       "production_country          2\n",
       "director                    9\n",
       "producer                  568\n",
       "age_restriction             0\n",
       "refundable_support       7153\n",
       "nonrefundable_support    7153\n",
       "budget                   7153\n",
       "financing_source         7153\n",
       "ratings                   995\n",
       "genres                    975\n",
       "box_office               4327\n",
       "dtype: int64"
      ]
     },
     "execution_count": 10,
     "metadata": {},
     "output_type": "execute_result"
    }
   ],
   "source": [
    "data.isna().sum()"
   ]
  },
  {
   "cell_type": "markdown",
   "metadata": {},
   "source": [
    "В данной ситуации нелегко определить дальнейшую судьбу пропусков. \n",
    "\n",
    "Пропуск в столбце 'film_studio' я удалю, тк мы не можем узнать какая именно студия выпустила фильм."
   ]
  },
  {
   "cell_type": "code",
   "execution_count": 11,
   "metadata": {},
   "outputs": [],
   "source": [
    "data_new = data #создаем новый датафрейм в котором будем удалять пропуски"
   ]
  },
  {
   "cell_type": "code",
   "execution_count": 12,
   "metadata": {},
   "outputs": [],
   "source": [
    "data_new['film_studio'] = data_new['film_studio'].dropna()"
   ]
  },
  {
   "cell_type": "markdown",
   "metadata": {},
   "source": [
    "Далее - пропуск в столбце 'production_country'. Посмотрю какая студия сняла фильм."
   ]
  },
  {
   "cell_type": "code",
   "execution_count": 13,
   "metadata": {},
   "outputs": [
    {
     "data": {
      "text/html": [
       "<div>\n",
       "<style scoped>\n",
       "    .dataframe tbody tr th:only-of-type {\n",
       "        vertical-align: middle;\n",
       "    }\n",
       "\n",
       "    .dataframe tbody tr th {\n",
       "        vertical-align: top;\n",
       "    }\n",
       "\n",
       "    .dataframe thead th {\n",
       "        text-align: right;\n",
       "    }\n",
       "</style>\n",
       "<table border=\"1\" class=\"dataframe\">\n",
       "  <thead>\n",
       "    <tr style=\"text-align: right;\">\n",
       "      <th></th>\n",
       "      <th>title</th>\n",
       "      <th>puNumber</th>\n",
       "      <th>show_start_date</th>\n",
       "      <th>type</th>\n",
       "      <th>film_studio</th>\n",
       "      <th>production_country</th>\n",
       "      <th>director</th>\n",
       "      <th>producer</th>\n",
       "      <th>age_restriction</th>\n",
       "      <th>refundable_support</th>\n",
       "      <th>nonrefundable_support</th>\n",
       "      <th>budget</th>\n",
       "      <th>financing_source</th>\n",
       "      <th>ratings</th>\n",
       "      <th>genres</th>\n",
       "      <th>box_office</th>\n",
       "    </tr>\n",
       "  </thead>\n",
       "  <tbody>\n",
       "    <tr>\n",
       "      <th>3185</th>\n",
       "      <td>Детский юмористический киножурнал \"Ералаш. Ну ...</td>\n",
       "      <td>111001216</td>\n",
       "      <td>2016-02-09 12:00:00</td>\n",
       "      <td>Художественный</td>\n",
       "      <td>ООО \"Продюсерский центр ЕРАЛАШ\"</td>\n",
       "      <td>NaN</td>\n",
       "      <td>Р.Светлов, И.Магитон, А.Арутюнян, Л.Мирский, А...</td>\n",
       "      <td>ООО \"Продюсерский центр ЕРАЛАШ\"</td>\n",
       "      <td>«0+» - для любой зрительской аудитории</td>\n",
       "      <td>NaN</td>\n",
       "      <td>NaN</td>\n",
       "      <td>NaN</td>\n",
       "      <td>NaN</td>\n",
       "      <td>7.2</td>\n",
       "      <td>детский,комедия</td>\n",
       "      <td>194527.0</td>\n",
       "    </tr>\n",
       "    <tr>\n",
       "      <th>4440</th>\n",
       "      <td>Мульт личности. Выпуск 5</td>\n",
       "      <td>214000410</td>\n",
       "      <td>2010-01-25 12:00:00</td>\n",
       "      <td>Художественный</td>\n",
       "      <td>NaN</td>\n",
       "      <td>NaN</td>\n",
       "      <td>NaN</td>\n",
       "      <td>NaN</td>\n",
       "      <td>«0+» - для любой зрительской аудитории</td>\n",
       "      <td>NaN</td>\n",
       "      <td>NaN</td>\n",
       "      <td>NaN</td>\n",
       "      <td>NaN</td>\n",
       "      <td>4.0</td>\n",
       "      <td>мультфильм,комедия</td>\n",
       "      <td>NaN</td>\n",
       "    </tr>\n",
       "  </tbody>\n",
       "</table>\n",
       "</div>"
      ],
      "text/plain": [
       "                                                  title   puNumber  \\\n",
       "3185  Детский юмористический киножурнал \"Ералаш. Ну ...  111001216   \n",
       "4440                           Мульт личности. Выпуск 5  214000410   \n",
       "\n",
       "         show_start_date            type                      film_studio  \\\n",
       "3185 2016-02-09 12:00:00  Художественный  ООО \"Продюсерский центр ЕРАЛАШ\"   \n",
       "4440 2010-01-25 12:00:00  Художественный                              NaN   \n",
       "\n",
       "     production_country                                           director  \\\n",
       "3185                NaN  Р.Светлов, И.Магитон, А.Арутюнян, Л.Мирский, А...   \n",
       "4440                NaN                                                NaN   \n",
       "\n",
       "                             producer                         age_restriction  \\\n",
       "3185  ООО \"Продюсерский центр ЕРАЛАШ\"  «0+» - для любой зрительской аудитории   \n",
       "4440                              NaN  «0+» - для любой зрительской аудитории   \n",
       "\n",
       "      refundable_support  nonrefundable_support  budget financing_source  \\\n",
       "3185                 NaN                    NaN     NaN              NaN   \n",
       "4440                 NaN                    NaN     NaN              NaN   \n",
       "\n",
       "      ratings              genres  box_office  \n",
       "3185      7.2     детский,комедия    194527.0  \n",
       "4440      4.0  мультфильм,комедия         NaN  "
      ]
     },
     "execution_count": 13,
     "metadata": {},
     "output_type": "execute_result"
    }
   ],
   "source": [
    "data_new[data_new['production_country'].isna()]"
   ]
  },
  {
   "cell_type": "code",
   "execution_count": 14,
   "metadata": {},
   "outputs": [
    {
     "data": {
      "text/plain": [
       "array(['Россия', nan], dtype=object)"
      ]
     },
     "execution_count": 14,
     "metadata": {},
     "output_type": "execute_result"
    }
   ],
   "source": [
    "data_new.loc[data_new['film_studio'] == 'ООО \"Продюсерский центр ЕРАЛАШ\"', 'production_country'].unique()"
   ]
  },
  {
   "cell_type": "markdown",
   "metadata": {},
   "source": [
    "Меняю пропуск на 'Россия'."
   ]
  },
  {
   "cell_type": "code",
   "execution_count": 15,
   "metadata": {},
   "outputs": [],
   "source": [
    "data_new.loc[3185, 'production_country'] = 'Россия'\n",
    "data_new = data_new.dropna(subset = ['production_country'])"
   ]
  },
  {
   "cell_type": "markdown",
   "metadata": {},
   "source": [
    "Пропуск в столбце 'director' - удаляю, режиссера мы никак не можем узнать. Такая же обстановка со столбцом 'producer'."
   ]
  },
  {
   "cell_type": "code",
   "execution_count": 16,
   "metadata": {},
   "outputs": [],
   "source": [
    "data_new = data_new.dropna(subset = ['director', 'producer'])"
   ]
  },
  {
   "cell_type": "markdown",
   "metadata": {},
   "source": [
    "пропуски в столбцах 'refundable_support', 'nonrefundable_support', 'budget', 'financing_source' меня напрягают, тк их одинаковое кол-во: 7153. Возможно, это пропуски в одних и тех же фильмах, проверю это:"
   ]
  },
  {
   "cell_type": "code",
   "execution_count": 17,
   "metadata": {},
   "outputs": [
    {
     "data": {
      "text/plain": [
       "6582"
      ]
     },
     "execution_count": 17,
     "metadata": {},
     "output_type": "execute_result"
    }
   ],
   "source": [
    "data_new[((data_new['refundable_support'].isna() == True) & (data_new['nonrefundable_support'].isna() == True) & \n",
    " (data_new['budget'].isna() == True) & (data_new['financing_source'].isna() == True))]['title'].count()"
   ]
  },
  {
   "cell_type": "markdown",
   "metadata": {},
   "source": [
    "Да, большинство пропусков это пропуски в одних и тех же фильмах. Возможно, просто это нулевые значения, которые стали пропусками при заполнении. Тк фильмов с пропусками в этих колонках слишком много, оставим их пропусками ;)"
   ]
  },
  {
   "cell_type": "code",
   "execution_count": 18,
   "metadata": {},
   "outputs": [
    {
     "data": {
      "text/plain": [
       "title                       0\n",
       "puNumber                    0\n",
       "show_start_date             0\n",
       "type                        0\n",
       "film_studio                17\n",
       "production_country          0\n",
       "director                    0\n",
       "producer                    0\n",
       "age_restriction             0\n",
       "refundable_support       6582\n",
       "nonrefundable_support    6582\n",
       "budget                   6582\n",
       "financing_source         6582\n",
       "ratings                   902\n",
       "genres                    882\n",
       "box_office               3871\n",
       "dtype: int64"
      ]
     },
     "execution_count": 18,
     "metadata": {},
     "output_type": "execute_result"
    }
   ],
   "source": [
    "data_new.isna().sum()"
   ]
  },
  {
   "cell_type": "code",
   "execution_count": 19,
   "metadata": {},
   "outputs": [],
   "source": [
    "data_new['title'].count() / data['title'].count() #сколько данных удалилось\n",
    "data = data_new"
   ]
  },
  {
   "cell_type": "markdown",
   "metadata": {},
   "source": [
    "В данной ситуации нелегко определить дальнейшую судьбу пропусков. \n",
    "\n",
    "Пропуск в столбце 'film_studio' я удалю, тк мы не можем узнать какая именно студия выпустила фильм.\n",
    "\n",
    "Пропуск в столбце 'production_country' - нашел страну-производителя, и заменил пропуск на него. Остальные удалил.\n",
    "\n",
    "Пропуск в столбце 'director' - удалил, тк не могу узнать режиссера фильма.\n",
    "\n",
    "Пропуски в столбцах 'refundable_support', 'nonrefundable_support', 'budget', 'financing_source' - их равное кол-во, тк в основном это пропуски в одних и тех же фильмах. Заменять их чем-либо не стал, так как это индивидуальное значение для каждого произведения. Так как их много - удалить было плохой идеей, я бы потерял большую часть информации.\n",
    "\n",
    "За весь этот шаг я потерял 8% данных."
   ]
  },
  {
   "cell_type": "markdown",
   "metadata": {
    "id": "4c6k1t9ygFyQ"
   },
   "source": [
    "#### Шаг 2.3. Изучил дубликаты в датафрейме"
   ]
  },
  {
   "cell_type": "code",
   "execution_count": 20,
   "metadata": {
    "id": "aKck8RIdgFyQ"
   },
   "outputs": [
    {
     "data": {
      "text/plain": [
       "0"
      ]
     },
     "execution_count": 20,
     "metadata": {},
     "output_type": "execute_result"
    }
   ],
   "source": [
    "data.duplicated().sum()"
   ]
  },
  {
   "cell_type": "code",
   "execution_count": 21,
   "metadata": {},
   "outputs": [
    {
     "data": {
      "text/plain": [
       "title                    6212\n",
       "puNumber                 6910\n",
       "show_start_date          1946\n",
       "type                        8\n",
       "film_studio              5336\n",
       "production_country        908\n",
       "director                 4489\n",
       "producer                 5344\n",
       "age_restriction             5\n",
       "refundable_support         34\n",
       "nonrefundable_support      75\n",
       "budget                    288\n",
       "financing_source            3\n",
       "ratings                    80\n",
       "genres                    719\n",
       "box_office               2861\n",
       "dtype: int64"
      ]
     },
     "execution_count": 21,
     "metadata": {},
     "output_type": "execute_result"
    }
   ],
   "source": [
    "data.nunique()"
   ]
  },
  {
   "cell_type": "code",
   "execution_count": 22,
   "metadata": {},
   "outputs": [
    {
     "data": {
      "text/html": [
       "<div>\n",
       "<style scoped>\n",
       "    .dataframe tbody tr th:only-of-type {\n",
       "        vertical-align: middle;\n",
       "    }\n",
       "\n",
       "    .dataframe tbody tr th {\n",
       "        vertical-align: top;\n",
       "    }\n",
       "\n",
       "    .dataframe thead th {\n",
       "        text-align: right;\n",
       "    }\n",
       "</style>\n",
       "<table border=\"1\" class=\"dataframe\">\n",
       "  <thead>\n",
       "    <tr style=\"text-align: right;\">\n",
       "      <th></th>\n",
       "      <th>title</th>\n",
       "      <th>puNumber</th>\n",
       "      <th>show_start_date</th>\n",
       "      <th>type</th>\n",
       "      <th>film_studio</th>\n",
       "      <th>production_country</th>\n",
       "      <th>director</th>\n",
       "      <th>producer</th>\n",
       "      <th>age_restriction</th>\n",
       "      <th>refundable_support</th>\n",
       "      <th>nonrefundable_support</th>\n",
       "      <th>budget</th>\n",
       "      <th>financing_source</th>\n",
       "      <th>ratings</th>\n",
       "      <th>genres</th>\n",
       "      <th>box_office</th>\n",
       "    </tr>\n",
       "  </thead>\n",
       "  <tbody>\n",
       "    <tr>\n",
       "      <th>2176</th>\n",
       "      <td>большая афера</td>\n",
       "      <td>121012316</td>\n",
       "      <td>2016-05-23 12:00:00</td>\n",
       "      <td>Художественный</td>\n",
       "      <td>Макс Филмз Продакшнз, Морган Льюис Компани</td>\n",
       "      <td>Канада</td>\n",
       "      <td>Дон МакКеллар</td>\n",
       "      <td>Барбора Доран, Жан-Мари Комю, Роджер Фраппье</td>\n",
       "      <td>«16+» - для детей старше 16 лет</td>\n",
       "      <td>NaN</td>\n",
       "      <td>NaN</td>\n",
       "      <td>NaN</td>\n",
       "      <td>NaN</td>\n",
       "      <td>7.4</td>\n",
       "      <td>комедия,драма</td>\n",
       "      <td>300.0</td>\n",
       "    </tr>\n",
       "    <tr>\n",
       "      <th>2177</th>\n",
       "      <td>большая афера</td>\n",
       "      <td>121016014</td>\n",
       "      <td>2014-07-29 12:00:00</td>\n",
       "      <td>Художественный</td>\n",
       "      <td>Макс Филмз Продакшнз, Морган Льюис Компани</td>\n",
       "      <td>Канада</td>\n",
       "      <td>Дон МакКеллар</td>\n",
       "      <td>Барбора Доран, Жан-Мари Комю, Роджер Фраппье</td>\n",
       "      <td>«16+» - для детей старше 16 лет</td>\n",
       "      <td>NaN</td>\n",
       "      <td>NaN</td>\n",
       "      <td>NaN</td>\n",
       "      <td>NaN</td>\n",
       "      <td>7.4</td>\n",
       "      <td>комедия,драма</td>\n",
       "      <td>1260.0</td>\n",
       "    </tr>\n",
       "  </tbody>\n",
       "</table>\n",
       "</div>"
      ],
      "text/plain": [
       "              title   puNumber     show_start_date            type  \\\n",
       "2176  большая афера  121012316 2016-05-23 12:00:00  Художественный   \n",
       "2177  большая афера  121016014 2014-07-29 12:00:00  Художественный   \n",
       "\n",
       "                                     film_studio production_country  \\\n",
       "2176  Макс Филмз Продакшнз, Морган Льюис Компани             Канада   \n",
       "2177  Макс Филмз Продакшнз, Морган Льюис Компани             Канада   \n",
       "\n",
       "           director                                      producer  \\\n",
       "2176  Дон МакКеллар  Барбора Доран, Жан-Мари Комю, Роджер Фраппье   \n",
       "2177  Дон МакКеллар  Барбора Доран, Жан-Мари Комю, Роджер Фраппье   \n",
       "\n",
       "                      age_restriction  refundable_support  \\\n",
       "2176  «16+» - для детей старше 16 лет                 NaN   \n",
       "2177  «16+» - для детей старше 16 лет                 NaN   \n",
       "\n",
       "      nonrefundable_support  budget financing_source  ratings         genres  \\\n",
       "2176                    NaN     NaN              NaN      7.4  комедия,драма   \n",
       "2177                    NaN     NaN              NaN      7.4  комедия,драма   \n",
       "\n",
       "      box_office  \n",
       "2176       300.0  \n",
       "2177      1260.0  "
      ]
     },
     "execution_count": 22,
     "metadata": {},
     "output_type": "execute_result"
    }
   ],
   "source": [
    "data['title'] = data['title'].str.lower() #приводим к нижнему регистру \n",
    "#data[data['title'].duplicated() == True]#посмотрел дубликаты, выбрал один\n",
    "data[data['title'] == 'большая афера']"
   ]
  },
  {
   "cell_type": "markdown",
   "metadata": {},
   "source": [
    "На примере дубликатов видно: различные даты показов и сумма сбора. Скорее всего, эти фильмы показывали в разных странах. Показывают в одной стране в одну дату, а в другой стране в другую дату, тк фильм нужно успеть перевести на другой язык, озвучить, на это нужно время. Соответственно в разных странах разная сумма сбора, поэтому и возникают дубликаты в столбце 'title'."
   ]
  },
  {
   "cell_type": "code",
   "execution_count": 23,
   "metadata": {},
   "outputs": [
    {
     "data": {
      "text/html": [
       "<div>\n",
       "<style scoped>\n",
       "    .dataframe tbody tr th:only-of-type {\n",
       "        vertical-align: middle;\n",
       "    }\n",
       "\n",
       "    .dataframe tbody tr th {\n",
       "        vertical-align: top;\n",
       "    }\n",
       "\n",
       "    .dataframe thead th {\n",
       "        text-align: right;\n",
       "    }\n",
       "</style>\n",
       "<table border=\"1\" class=\"dataframe\">\n",
       "  <thead>\n",
       "    <tr style=\"text-align: right;\">\n",
       "      <th></th>\n",
       "      <th>title</th>\n",
       "      <th>puNumber</th>\n",
       "      <th>show_start_date</th>\n",
       "      <th>type</th>\n",
       "      <th>film_studio</th>\n",
       "      <th>production_country</th>\n",
       "      <th>director</th>\n",
       "      <th>producer</th>\n",
       "      <th>age_restriction</th>\n",
       "      <th>refundable_support</th>\n",
       "      <th>nonrefundable_support</th>\n",
       "      <th>budget</th>\n",
       "      <th>financing_source</th>\n",
       "      <th>ratings</th>\n",
       "      <th>genres</th>\n",
       "      <th>box_office</th>\n",
       "    </tr>\n",
       "  </thead>\n",
       "  <tbody>\n",
       "    <tr>\n",
       "      <th>4638</th>\n",
       "      <td>иоанна - женщина на папском престоле /по роман...</td>\n",
       "      <td>221154310</td>\n",
       "      <td>2010-12-17 12:00:00</td>\n",
       "      <td>Художественный</td>\n",
       "      <td>Константин Фильм, А Эр Ди Дегето Фильм, Дюне ...</td>\n",
       "      <td>Германия - Великобритания - Италия - Испания</td>\n",
       "      <td>Зенке Вортманн</td>\n",
       "      <td>Оливер Бербен, Дорис Д.Хайнце, Фарук Элтан</td>\n",
       "      <td>«16+» - для детей старше 16 лет</td>\n",
       "      <td>NaN</td>\n",
       "      <td>NaN</td>\n",
       "      <td>NaN</td>\n",
       "      <td>NaN</td>\n",
       "      <td>7.6</td>\n",
       "      <td>драма,мелодрама,история</td>\n",
       "      <td>NaN</td>\n",
       "    </tr>\n",
       "    <tr>\n",
       "      <th>5067</th>\n",
       "      <td>анализируй то!</td>\n",
       "      <td>221054410</td>\n",
       "      <td>2010-05-25 12:00:00</td>\n",
       "      <td>Художественный</td>\n",
       "      <td>Уорнер Бразерс, Виллидж Роадшоу Пикчерз, Эн-Пи...</td>\n",
       "      <td>США</td>\n",
       "      <td>Гарольд Реймис</td>\n",
       "      <td>Джейн Розенталь, Паул Уэйнстейн</td>\n",
       "      <td>«12+» - для детей старше 12 лет</td>\n",
       "      <td>NaN</td>\n",
       "      <td>NaN</td>\n",
       "      <td>NaN</td>\n",
       "      <td>NaN</td>\n",
       "      <td>6.8</td>\n",
       "      <td>комедия,криминал</td>\n",
       "      <td>NaN</td>\n",
       "    </tr>\n",
       "  </tbody>\n",
       "</table>\n",
       "</div>"
      ],
      "text/plain": [
       "                                                  title   puNumber  \\\n",
       "4638  иоанна - женщина на папском престоле /по роман...  221154310   \n",
       "5067                                     анализируй то!  221054410   \n",
       "\n",
       "         show_start_date            type  \\\n",
       "4638 2010-12-17 12:00:00  Художественный   \n",
       "5067 2010-05-25 12:00:00  Художественный   \n",
       "\n",
       "                                            film_studio  \\\n",
       "4638   Константин Фильм, А Эр Ди Дегето Фильм, Дюне ...   \n",
       "5067  Уорнер Бразерс, Виллидж Роадшоу Пикчерз, Эн-Пи...   \n",
       "\n",
       "                                production_country        director  \\\n",
       "4638  Германия - Великобритания - Италия - Испания  Зенке Вортманн   \n",
       "5067                                           США  Гарольд Реймис   \n",
       "\n",
       "                                        producer  \\\n",
       "4638  Оливер Бербен, Дорис Д.Хайнце, Фарук Элтан   \n",
       "5067             Джейн Розенталь, Паул Уэйнстейн   \n",
       "\n",
       "                      age_restriction  refundable_support  \\\n",
       "4638  «16+» - для детей старше 16 лет                 NaN   \n",
       "5067  «12+» - для детей старше 12 лет                 NaN   \n",
       "\n",
       "      nonrefundable_support  budget financing_source  ratings  \\\n",
       "4638                    NaN     NaN              NaN      7.6   \n",
       "5067                    NaN     NaN              NaN      6.8   \n",
       "\n",
       "                       genres  box_office  \n",
       "4638  драма,мелодрама,история         NaN  \n",
       "5067         комедия,криминал         NaN  "
      ]
     },
     "execution_count": 23,
     "metadata": {},
     "output_type": "execute_result"
    }
   ],
   "source": [
    "data[data['puNumber'].duplicated() == True]"
   ]
  },
  {
   "cell_type": "markdown",
   "metadata": {},
   "source": [
    "в puNumber дубликатов нет.\n",
    "\n",
    "Дубликаты в столбце 'show_start_date' означают, что в один день был показ разных фильмов - это возможно.\n",
    "\n",
    "Дубликаты в столбце 'type' означают, что существуют фильмы с одним и тем же типом - реально.\n",
    "\n",
    "Дубликаты в столбце 'film_studio' означают, что у разные фильмы снимали одинаковые студии - реально.\n",
    "\n",
    "Дубликаты в столбце 'production_country' означают, что одна страна снимает разные фильмы - реально.\n",
    "\n",
    "Дубликаты в столбцах 'director' и 'producer' означают, что у разных фильмов бывают один режиссер и продюссер - реально.\n",
    "\n",
    "Дубликаты в столбцах 'age_restriction' означают, что у разных фильмов может быть один возраст ограничения - реально.\n",
    "\n",
    "Дубликаты в столбцах 'refundable_support', 'nonrefundable_support', 'budget', 'financing_source'  означают, что одинаковые суммы могут быть в этих столбцах у разных фильмов - вполне реально.\n",
    "\n",
    "Дубликаты в столбце 'rating' означают, что у одних фильмов может быть одинаковый рейтинг - да, такое может быть.\n",
    "\n",
    "Дубликаты в столбце 'genres' означают, что существуют фильмы с одним и тем же жанром - реально.\n",
    "\n",
    "Дубликаты в столбце 'box_office' означают, что у разных фильмов может быть одинаковая сумма сбора - реально."
   ]
  },
  {
   "cell_type": "markdown",
   "metadata": {
    "id": "52fOPrEBgFyQ"
   },
   "source": [
    "#### Шаг 2.4. Изучил категориальные значения"
   ]
  },
  {
   "cell_type": "code",
   "execution_count": 24,
   "metadata": {
    "id": "PnXKIVdFgFyR"
   },
   "outputs": [
    {
     "data": {
      "text/plain": [
       "array(['Художественный', 'Анимационный', 'Прочие', 'Документальный',\n",
       "       'Научно-популярный', ' Художественный', ' Анимационный',\n",
       "       'Музыкально-развлекательный'], dtype=object)"
      ]
     },
     "execution_count": 24,
     "metadata": {},
     "output_type": "execute_result"
    }
   ],
   "source": [
    "data['type'].unique()"
   ]
  },
  {
   "cell_type": "markdown",
   "metadata": {},
   "source": [
    "В столбце type есть значения, перед которыми появились пробелы. Это нужно исправить."
   ]
  },
  {
   "cell_type": "code",
   "execution_count": 25,
   "metadata": {},
   "outputs": [
    {
     "data": {
      "text/plain": [
       "array(['Художественный', 'Анимационный', 'Прочие', 'Документальный',\n",
       "       'Научно-популярный', 'Музыкально-развлекательный'], dtype=object)"
      ]
     },
     "execution_count": 25,
     "metadata": {},
     "output_type": "execute_result"
    }
   ],
   "source": [
    "data.loc[data['type'] == ' Художественный','type'] = 'Художественный'\n",
    "data.loc[data['type'] == ' Анимационный','type'] = 'Анимационный'\n",
    "data['type'].unique()"
   ]
  },
  {
   "cell_type": "markdown",
   "metadata": {},
   "source": [
    "Значения исправил.\n",
    "\n",
    "Но остались такие же пропуски в других категориальных столбцах, поэтому, применяя .str.strip() я сделаю изменения в каждом категориальном столбце."
   ]
  },
  {
   "cell_type": "code",
   "execution_count": 26,
   "metadata": {},
   "outputs": [],
   "source": [
    "data['film_studio'] = data['film_studio'].str.strip()\n",
    "data['production_country'] = data['production_country'].str.strip()\n",
    "data['director'] = data['director'].str.strip()\n",
    "data['producer'] = data['producer'].str.strip()\n",
    "data['age_restriction'] = data['age_restriction'].str.strip()\n",
    "data['genres'] = data['genres'].str.strip()"
   ]
  },
  {
   "cell_type": "markdown",
   "metadata": {},
   "source": [
    "Практически во всех столбцах встречается проблема - пробелы в начале строки. В этом шаге я исправил данную проблему."
   ]
  },
  {
   "cell_type": "markdown",
   "metadata": {
    "id": "XFSN5lrEgFyR"
   },
   "source": [
    "#### Шаг 2.5. Проверил количественные значения"
   ]
  },
  {
   "cell_type": "code",
   "execution_count": 27,
   "metadata": {
    "id": "YbzClBxagFyS"
   },
   "outputs": [],
   "source": [
    "data[data['budget'] < data['refundable_support'] + data['nonrefundable_support']]\n",
    "data.loc[data['budget'] == 0, 'budget'] = data['refundable_support'] + data['nonrefundable_support']"
   ]
  },
  {
   "cell_type": "markdown",
   "metadata": {},
   "source": [
    "Бюджет 0, но есть финансирование от государства. Думаю, что это фильмы, финансирование которых полностью осуществляется государством. Заменю эти значения на сумму поддержки от государства."
   ]
  },
  {
   "cell_type": "markdown",
   "metadata": {},
   "source": [
    "Проверим аномальные значения финансирования в столбцах 'budget', 'refundable_support', 'nonrefundable_support'"
   ]
  },
  {
   "cell_type": "code",
   "execution_count": 28,
   "metadata": {},
   "outputs": [
    {
     "data": {
      "text/plain": [
       "<Axes: >"
      ]
     },
     "execution_count": 28,
     "metadata": {},
     "output_type": "execute_result"
    },
    {
     "data": {
      "image/png": "[encoded data removed]",
      "text/plain": [
       "<Figure size 640x480 with 1 Axes>"
      ]
     },
     "metadata": {},
     "output_type": "display_data"
    }
   ],
   "source": [
    "data['budget'].plot(kind = 'box')"
   ]
  },
  {
   "cell_type": "markdown",
   "metadata": {},
   "source": [
    "Ящик с усами показывает, что значения выше 0,3 - 0,4 считаются аномальными, для начала посмотрим - сколько их."
   ]
  },
  {
   "cell_type": "code",
   "execution_count": 29,
   "metadata": {},
   "outputs": [
    {
     "data": {
      "text/plain": [
       "28"
      ]
     },
     "execution_count": 29,
     "metadata": {},
     "output_type": "execute_result"
    }
   ],
   "source": [
    "data[data['budget'] > 300000000]['budget'].count()"
   ]
  },
  {
   "cell_type": "markdown",
   "metadata": {},
   "source": [
    "Тк их очень мало, удалим их. создадим новый датафрейм, чтобы следить за процентом удаленной информации, так как она не должна превышать 10%"
   ]
  },
  {
   "cell_type": "code",
   "execution_count": 30,
   "metadata": {},
   "outputs": [],
   "source": [
    "data_new1 = data.copy()"
   ]
  },
  {
   "cell_type": "code",
   "execution_count": 31,
   "metadata": {},
   "outputs": [],
   "source": [
    "data_new1['budget'] = data_new1[data_new1['budget'] < 300000000]['budget']"
   ]
  },
  {
   "cell_type": "code",
   "execution_count": 32,
   "metadata": {},
   "outputs": [
    {
     "name": "stdout",
     "output_type": "stream",
     "text": [
      "61\n"
     ]
    },
    {
     "data": {
      "image/png": "[encoded data removed]",
      "text/plain": [
       "<Figure size 640x480 with 1 Axes>"
      ]
     },
     "metadata": {},
     "output_type": "display_data"
    }
   ],
   "source": [
    "data_new1['refundable_support'].plot(kind = 'box')\n",
    "print(data_new1[data_new1['refundable_support'] > 23000000]['refundable_support'].count())\n",
    "data_new1['refundable_support'] = data_new1[data_new1['refundable_support'] < 40000000]['refundable_support']"
   ]
  },
  {
   "cell_type": "markdown",
   "metadata": {},
   "source": [
    "удалил значения в столбце 'refundable_support', которые ящик с усами показал выбросами, их около 44 штук, поэтому мы теряем небольшую часть общего объема информации."
   ]
  },
  {
   "cell_type": "code",
   "execution_count": 33,
   "metadata": {},
   "outputs": [
    {
     "data": {
      "image/png": "[encoded data removed]",
      "text/plain": [
       "<Figure size 640x480 with 1 Axes>"
      ]
     },
     "metadata": {},
     "output_type": "display_data"
    }
   ],
   "source": [
    "data_new1['nonrefundable_support'].plot(kind = 'box')\n",
    "data_new1[data_new1['nonrefundable_support'] > 50000000]['nonrefundable_support'].count()\n",
    "data_new1['nonrefundable_support'] = data_new1[data_new1['nonrefundable_support'] < 100000000]['nonrefundable_support']"
   ]
  },
  {
   "cell_type": "markdown",
   "metadata": {},
   "source": [
    "30 значений ящик с усами определил выбросами, удалим их."
   ]
  },
  {
   "cell_type": "code",
   "execution_count": 34,
   "metadata": {},
   "outputs": [
    {
     "name": "stdout",
     "output_type": "stream",
     "text": [
      "<class 'pandas.core.frame.DataFrame'>\n",
      "Index: 6912 entries, 0 to 7484\n",
      "Data columns (total 16 columns):\n",
      " #   Column                 Non-Null Count  Dtype         \n",
      "---  ------                 --------------  -----         \n",
      " 0   title                  6912 non-null   object        \n",
      " 1   puNumber               6912 non-null   int64         \n",
      " 2   show_start_date        6912 non-null   datetime64[ns]\n",
      " 3   type                   6912 non-null   object        \n",
      " 4   film_studio            6895 non-null   object        \n",
      " 5   production_country     6912 non-null   object        \n",
      " 6   director               6912 non-null   object        \n",
      " 7   producer               6912 non-null   object        \n",
      " 8   age_restriction        6912 non-null   object        \n",
      " 9   refundable_support     292 non-null    float64       \n",
      " 10  nonrefundable_support  296 non-null    float64       \n",
      " 11  budget                 300 non-null    float64       \n",
      " 12  financing_source       330 non-null    object        \n",
      " 13  ratings                6010 non-null   float64       \n",
      " 14  genres                 6030 non-null   object        \n",
      " 15  box_office             3041 non-null   float64       \n",
      "dtypes: datetime64[ns](1), float64(5), int64(1), object(9)\n",
      "memory usage: 1.1+ MB\n"
     ]
    }
   ],
   "source": [
    "data_new1.info()"
   ]
  },
  {
   "cell_type": "code",
   "execution_count": 35,
   "metadata": {},
   "outputs": [],
   "source": [
    "data = data_new1"
   ]
  },
  {
   "cell_type": "markdown",
   "metadata": {},
   "source": [
    "Раньше у нас было 330 строк в каждом столбце, после удаления аномальных значений стало не более чем на 10% меньше в каждой строке."
   ]
  },
  {
   "cell_type": "markdown",
   "metadata": {
    "id": "Eu6oWp2CgFyS"
   },
   "source": [
    "#### Шаг 2.6. Добавил новые столбцы\n",
    "\n",
    "\n",
    "\n"
   ]
  },
  {
   "cell_type": "markdown",
   "metadata": {
    "id": "7GgW-UpAgFyS"
   },
   "source": [
    "- Создал столбец с информацией о годе проката. Выделил год из даты премьеры фильма."
   ]
  },
  {
   "cell_type": "markdown",
   "metadata": {},
   "source": [
    "Приводим к нормальному формату столбец 'show_start_date'"
   ]
  },
  {
   "cell_type": "code",
   "execution_count": 36,
   "metadata": {},
   "outputs": [],
   "source": [
    "data['show_start_date'] = pd.to_datetime(\n",
    "    data['show_start_date'], format='%Y-%m-%dT%H:%M:%S'\n",
    ")"
   ]
  },
  {
   "cell_type": "markdown",
   "metadata": {},
   "source": [
    "создаем столбец с информацией о годе проката."
   ]
  },
  {
   "cell_type": "code",
   "execution_count": 37,
   "metadata": {
    "id": "I-yd1DkWgFyT"
   },
   "outputs": [],
   "source": [
    "data['year_start_date'] = data['show_start_date'].dt.year"
   ]
  },
  {
   "cell_type": "markdown",
   "metadata": {
    "id": "nFTDLDYOgFyT"
   },
   "source": [
    "- Создайте два столбца: с именем и фамилией главного режиссёра и основным жанром фильма. В столбцы войдут первые значения из списка режиссёров и жанров соответственно.\n",
    "\n",
    "<div id=\"accordion\">\n",
    "    <div class=\"card\">\n",
    "        <div class=\"card-header\" id=\"headingThree\">\n",
    "            <button class=\"btn btn-link collapsed\" data-toggle=\"collapse\" data-target=\"#collapseHint_2\" aria-expanded=\"false\" aria-controls=\"collapseHint_2\">Подсказка</button>\n",
    "        </div>\n",
    "        <div id=\"collapseHint_2\" class=\"collapse\" aria-labelledby=\"headingThree\" data-parent=\"#accordion\">\n",
    "            <div class=\"card-body\">\n",
    "Чтобы создать такие столбцы, лучше всего использовать собственную функцию. Эту функцию можно применить к двум столбцам сразу. \n",
    "            </div>\n",
    "        </div>\n",
    "    </div>\n",
    "</div>"
   ]
  },
  {
   "cell_type": "code",
   "execution_count": 38,
   "metadata": {
    "id": "LSbRZKbMgFyU",
    "scrolled": true
   },
   "outputs": [
    {
     "data": {
      "text/html": [
       "<div>\n",
       "<style scoped>\n",
       "    .dataframe tbody tr th:only-of-type {\n",
       "        vertical-align: middle;\n",
       "    }\n",
       "\n",
       "    .dataframe tbody tr th {\n",
       "        vertical-align: top;\n",
       "    }\n",
       "\n",
       "    .dataframe thead th {\n",
       "        text-align: right;\n",
       "    }\n",
       "</style>\n",
       "<table border=\"1\" class=\"dataframe\">\n",
       "  <thead>\n",
       "    <tr style=\"text-align: right;\">\n",
       "      <th></th>\n",
       "      <th>title</th>\n",
       "      <th>puNumber</th>\n",
       "      <th>show_start_date</th>\n",
       "      <th>type</th>\n",
       "      <th>film_studio</th>\n",
       "      <th>production_country</th>\n",
       "      <th>director</th>\n",
       "      <th>producer</th>\n",
       "      <th>age_restriction</th>\n",
       "      <th>refundable_support</th>\n",
       "      <th>nonrefundable_support</th>\n",
       "      <th>budget</th>\n",
       "      <th>financing_source</th>\n",
       "      <th>ratings</th>\n",
       "      <th>genres</th>\n",
       "      <th>box_office</th>\n",
       "      <th>year_start_date</th>\n",
       "      <th>main_name</th>\n",
       "      <th>main_genre</th>\n",
       "    </tr>\n",
       "  </thead>\n",
       "  <tbody>\n",
       "    <tr>\n",
       "      <th>0</th>\n",
       "      <td>открытый простор</td>\n",
       "      <td>221048915</td>\n",
       "      <td>2015-11-27 12:00:00</td>\n",
       "      <td>Художественный</td>\n",
       "      <td>Тачстоун Пикчерз, Кобальт Пикчерз, Бикон Пикче...</td>\n",
       "      <td>США</td>\n",
       "      <td>Кевин Костнер</td>\n",
       "      <td>Дэвид Валдес, Кевин Костнер, Джейк Эбертс</td>\n",
       "      <td>«18+» - запрещено для детей</td>\n",
       "      <td>NaN</td>\n",
       "      <td>NaN</td>\n",
       "      <td>NaN</td>\n",
       "      <td>NaN</td>\n",
       "      <td>7.2</td>\n",
       "      <td>боевик,драма,мелодрама</td>\n",
       "      <td>NaN</td>\n",
       "      <td>2015</td>\n",
       "      <td>Кевин Костнер</td>\n",
       "      <td>боевик</td>\n",
       "    </tr>\n",
       "    <tr>\n",
       "      <th>2</th>\n",
       "      <td>особо опасен</td>\n",
       "      <td>221038416</td>\n",
       "      <td>2016-10-10 12:00:00</td>\n",
       "      <td>Художественный</td>\n",
       "      <td>Юниверсал Пикчерз, Кикстарт Продакшнз, Марк Пл...</td>\n",
       "      <td>США</td>\n",
       "      <td>Тимур Бекмамбетов</td>\n",
       "      <td>Джим Лемли, Джейсон Нетер, Марк Е.Платт, Яйн Смит</td>\n",
       "      <td>«18+» - запрещено для детей</td>\n",
       "      <td>NaN</td>\n",
       "      <td>NaN</td>\n",
       "      <td>NaN</td>\n",
       "      <td>NaN</td>\n",
       "      <td>6.8</td>\n",
       "      <td>фантастика,боевик,триллер</td>\n",
       "      <td>NaN</td>\n",
       "      <td>2016</td>\n",
       "      <td>Тимур Бекмамбетов</td>\n",
       "      <td>фантастика</td>\n",
       "    </tr>\n",
       "    <tr>\n",
       "      <th>3</th>\n",
       "      <td>особо опасен</td>\n",
       "      <td>221026916</td>\n",
       "      <td>2016-06-10 12:00:00</td>\n",
       "      <td>Художественный</td>\n",
       "      <td>Юниверсал Пикчерз, Кикстарт Продакшнз, Марк Пл...</td>\n",
       "      <td>США</td>\n",
       "      <td>Тимур Бекмамбетов</td>\n",
       "      <td>Джим Лемли, Джейсон Нетер, Марк Е.Платт, Яйн Смит</td>\n",
       "      <td>«18+» - запрещено для детей</td>\n",
       "      <td>NaN</td>\n",
       "      <td>NaN</td>\n",
       "      <td>NaN</td>\n",
       "      <td>NaN</td>\n",
       "      <td>6.8</td>\n",
       "      <td>фантастика,боевик,триллер</td>\n",
       "      <td>NaN</td>\n",
       "      <td>2016</td>\n",
       "      <td>Тимур Бекмамбетов</td>\n",
       "      <td>фантастика</td>\n",
       "    </tr>\n",
       "    <tr>\n",
       "      <th>4</th>\n",
       "      <td>особо опасен</td>\n",
       "      <td>221030815</td>\n",
       "      <td>2015-07-29 12:00:00</td>\n",
       "      <td>Художественный</td>\n",
       "      <td>Юниверсал Пикчерз, Кикстарт Продакшнз, Марк Пл...</td>\n",
       "      <td>США</td>\n",
       "      <td>Тимур Бекмамбетов</td>\n",
       "      <td>Джим Лемли, Джейсон Нетер, Марк Е.Платт, Яйн Смит</td>\n",
       "      <td>«18+» - запрещено для детей</td>\n",
       "      <td>NaN</td>\n",
       "      <td>NaN</td>\n",
       "      <td>NaN</td>\n",
       "      <td>NaN</td>\n",
       "      <td>6.8</td>\n",
       "      <td>фантастика,боевик,триллер</td>\n",
       "      <td>NaN</td>\n",
       "      <td>2015</td>\n",
       "      <td>Тимур Бекмамбетов</td>\n",
       "      <td>фантастика</td>\n",
       "    </tr>\n",
       "    <tr>\n",
       "      <th>7</th>\n",
       "      <td>любовь и сигареты</td>\n",
       "      <td>221074614</td>\n",
       "      <td>2014-12-29 12:00:00</td>\n",
       "      <td>Художественный</td>\n",
       "      <td>Юнайтед Артистс, Грин Стрит Филмз, Айкон Интер...</td>\n",
       "      <td>США</td>\n",
       "      <td>Джон Туртурро</td>\n",
       "      <td>Джон Пенотти, Джон Туртурро</td>\n",
       "      <td>«18+» - запрещено для детей</td>\n",
       "      <td>NaN</td>\n",
       "      <td>NaN</td>\n",
       "      <td>NaN</td>\n",
       "      <td>NaN</td>\n",
       "      <td>6.6</td>\n",
       "      <td>мюзикл,мелодрама,комедия</td>\n",
       "      <td>NaN</td>\n",
       "      <td>2014</td>\n",
       "      <td>Джон Туртурро</td>\n",
       "      <td>мюзикл</td>\n",
       "    </tr>\n",
       "    <tr>\n",
       "      <th>...</th>\n",
       "      <td>...</td>\n",
       "      <td>...</td>\n",
       "      <td>...</td>\n",
       "      <td>...</td>\n",
       "      <td>...</td>\n",
       "      <td>...</td>\n",
       "      <td>...</td>\n",
       "      <td>...</td>\n",
       "      <td>...</td>\n",
       "      <td>...</td>\n",
       "      <td>...</td>\n",
       "      <td>...</td>\n",
       "      <td>...</td>\n",
       "      <td>...</td>\n",
       "      <td>...</td>\n",
       "      <td>...</td>\n",
       "      <td>...</td>\n",
       "      <td>...</td>\n",
       "      <td>...</td>\n",
       "    </tr>\n",
       "    <tr>\n",
       "      <th>7480</th>\n",
       "      <td>сад художника: американский импрессионизм</td>\n",
       "      <td>126008019</td>\n",
       "      <td>2019-12-23 12:00:00</td>\n",
       "      <td>Прочие</td>\n",
       "      <td>Севен Артс Продакшнз</td>\n",
       "      <td>Великобритания</td>\n",
       "      <td>Фил Грабски</td>\n",
       "      <td>Фил Грабски</td>\n",
       "      <td>«12+» - для детей старше 12 лет</td>\n",
       "      <td>NaN</td>\n",
       "      <td>NaN</td>\n",
       "      <td>NaN</td>\n",
       "      <td>NaN</td>\n",
       "      <td>NaN</td>\n",
       "      <td>NaN</td>\n",
       "      <td>NaN</td>\n",
       "      <td>2019</td>\n",
       "      <td>Фил Грабски</td>\n",
       "      <td>nan</td>\n",
       "    </tr>\n",
       "    <tr>\n",
       "      <th>7481</th>\n",
       "      <td>звериная ярость</td>\n",
       "      <td>121037819</td>\n",
       "      <td>2019-12-24 12:00:00</td>\n",
       "      <td>Художественный</td>\n",
       "      <td>Дэниел Гродник Продакшнз, Вандерфилм Медиа Кор...</td>\n",
       "      <td>США</td>\n",
       "      <td>Ник Пауэлл</td>\n",
       "      <td>Джефф Боулер, Дэниэл Гродник, Луильо Руис, Брэ...</td>\n",
       "      <td>«16+» - для детей старше 16 лет</td>\n",
       "      <td>NaN</td>\n",
       "      <td>NaN</td>\n",
       "      <td>NaN</td>\n",
       "      <td>NaN</td>\n",
       "      <td>5.4</td>\n",
       "      <td>боевик,триллер</td>\n",
       "      <td>NaN</td>\n",
       "      <td>2019</td>\n",
       "      <td>Ник Пауэлл</td>\n",
       "      <td>боевик</td>\n",
       "    </tr>\n",
       "    <tr>\n",
       "      <th>7482</th>\n",
       "      <td>щенячий патруль: скорей спешим на помощь!</td>\n",
       "      <td>124010819</td>\n",
       "      <td>2019-12-28 12:00:00</td>\n",
       "      <td>Художественный</td>\n",
       "      <td>Никелодеон Анимейшн Студиос, Спин Мастер</td>\n",
       "      <td>США - Канада</td>\n",
       "      <td>Чарльз Е.Бастьен</td>\n",
       "      <td>Дженнифер Додж</td>\n",
       "      <td>«0+» - для любой зрительской аудитории</td>\n",
       "      <td>NaN</td>\n",
       "      <td>NaN</td>\n",
       "      <td>NaN</td>\n",
       "      <td>NaN</td>\n",
       "      <td>NaN</td>\n",
       "      <td>NaN</td>\n",
       "      <td>NaN</td>\n",
       "      <td>2019</td>\n",
       "      <td>Чарльз Е.Бастьен</td>\n",
       "      <td>nan</td>\n",
       "    </tr>\n",
       "    <tr>\n",
       "      <th>7483</th>\n",
       "      <td>машины песенки. серия \"испанские мотивы\"</td>\n",
       "      <td>124010619</td>\n",
       "      <td>2019-12-30 12:00:00</td>\n",
       "      <td>Анимационный</td>\n",
       "      <td>Анимаккорд Лтд., ООО Студия \"АНИМАККОРД\"</td>\n",
       "      <td>Республика Кипр, Россия</td>\n",
       "      <td>А.Беляев</td>\n",
       "      <td>Д.Ловейко</td>\n",
       "      <td>«0+» - для любой зрительской аудитории</td>\n",
       "      <td>NaN</td>\n",
       "      <td>NaN</td>\n",
       "      <td>NaN</td>\n",
       "      <td>NaN</td>\n",
       "      <td>NaN</td>\n",
       "      <td>NaN</td>\n",
       "      <td>NaN</td>\n",
       "      <td>2019</td>\n",
       "      <td>А.Беляев</td>\n",
       "      <td>nan</td>\n",
       "    </tr>\n",
       "    <tr>\n",
       "      <th>7484</th>\n",
       "      <td>машины песенки. серия \"когда цветут кактусы\"</td>\n",
       "      <td>124010719</td>\n",
       "      <td>2019-12-30 12:00:00</td>\n",
       "      <td>Анимационный</td>\n",
       "      <td>Анимаккорд Лтд., ООО Студия \"АНИМАККОРД\"</td>\n",
       "      <td>Республика Кипр, Россия</td>\n",
       "      <td>И.Трусов</td>\n",
       "      <td>Д.Ловейко</td>\n",
       "      <td>«0+» - для любой зрительской аудитории</td>\n",
       "      <td>NaN</td>\n",
       "      <td>NaN</td>\n",
       "      <td>NaN</td>\n",
       "      <td>NaN</td>\n",
       "      <td>6.3</td>\n",
       "      <td>комедия,вестерн</td>\n",
       "      <td>NaN</td>\n",
       "      <td>2019</td>\n",
       "      <td>И.Трусов</td>\n",
       "      <td>комедия</td>\n",
       "    </tr>\n",
       "  </tbody>\n",
       "</table>\n",
       "<p>6912 rows × 19 columns</p>\n",
       "</div>"
      ],
      "text/plain": [
       "                                             title   puNumber  \\\n",
       "0                                 открытый простор  221048915   \n",
       "2                                     особо опасен  221038416   \n",
       "3                                     особо опасен  221026916   \n",
       "4                                     особо опасен  221030815   \n",
       "7                                любовь и сигареты  221074614   \n",
       "...                                            ...        ...   \n",
       "7480     сад художника: американский импрессионизм  126008019   \n",
       "7481                               звериная ярость  121037819   \n",
       "7482     щенячий патруль: скорей спешим на помощь!  124010819   \n",
       "7483      машины песенки. серия \"испанские мотивы\"  124010619   \n",
       "7484  машины песенки. серия \"когда цветут кактусы\"  124010719   \n",
       "\n",
       "         show_start_date            type  \\\n",
       "0    2015-11-27 12:00:00  Художественный   \n",
       "2    2016-10-10 12:00:00  Художественный   \n",
       "3    2016-06-10 12:00:00  Художественный   \n",
       "4    2015-07-29 12:00:00  Художественный   \n",
       "7    2014-12-29 12:00:00  Художественный   \n",
       "...                  ...             ...   \n",
       "7480 2019-12-23 12:00:00          Прочие   \n",
       "7481 2019-12-24 12:00:00  Художественный   \n",
       "7482 2019-12-28 12:00:00  Художественный   \n",
       "7483 2019-12-30 12:00:00    Анимационный   \n",
       "7484 2019-12-30 12:00:00    Анимационный   \n",
       "\n",
       "                                            film_studio  \\\n",
       "0     Тачстоун Пикчерз, Кобальт Пикчерз, Бикон Пикче...   \n",
       "2     Юниверсал Пикчерз, Кикстарт Продакшнз, Марк Пл...   \n",
       "3     Юниверсал Пикчерз, Кикстарт Продакшнз, Марк Пл...   \n",
       "4     Юниверсал Пикчерз, Кикстарт Продакшнз, Марк Пл...   \n",
       "7     Юнайтед Артистс, Грин Стрит Филмз, Айкон Интер...   \n",
       "...                                                 ...   \n",
       "7480                               Севен Артс Продакшнз   \n",
       "7481  Дэниел Гродник Продакшнз, Вандерфилм Медиа Кор...   \n",
       "7482           Никелодеон Анимейшн Студиос, Спин Мастер   \n",
       "7483           Анимаккорд Лтд., ООО Студия \"АНИМАККОРД\"   \n",
       "7484           Анимаккорд Лтд., ООО Студия \"АНИМАККОРД\"   \n",
       "\n",
       "           production_country           director  \\\n",
       "0                         США      Кевин Костнер   \n",
       "2                         США  Тимур Бекмамбетов   \n",
       "3                         США  Тимур Бекмамбетов   \n",
       "4                         США  Тимур Бекмамбетов   \n",
       "7                         США      Джон Туртурро   \n",
       "...                       ...                ...   \n",
       "7480           Великобритания        Фил Грабски   \n",
       "7481                      США         Ник Пауэлл   \n",
       "7482             США - Канада   Чарльз Е.Бастьен   \n",
       "7483  Республика Кипр, Россия           А.Беляев   \n",
       "7484  Республика Кипр, Россия           И.Трусов   \n",
       "\n",
       "                                               producer  \\\n",
       "0             Дэвид Валдес, Кевин Костнер, Джейк Эбертс   \n",
       "2     Джим Лемли, Джейсон Нетер, Марк Е.Платт, Яйн Смит   \n",
       "3     Джим Лемли, Джейсон Нетер, Марк Е.Платт, Яйн Смит   \n",
       "4     Джим Лемли, Джейсон Нетер, Марк Е.Платт, Яйн Смит   \n",
       "7                           Джон Пенотти, Джон Туртурро   \n",
       "...                                                 ...   \n",
       "7480                                        Фил Грабски   \n",
       "7481  Джефф Боулер, Дэниэл Гродник, Луильо Руис, Брэ...   \n",
       "7482                                     Дженнифер Додж   \n",
       "7483                                          Д.Ловейко   \n",
       "7484                                          Д.Ловейко   \n",
       "\n",
       "                             age_restriction  refundable_support  \\\n",
       "0                «18+» - запрещено для детей                 NaN   \n",
       "2                «18+» - запрещено для детей                 NaN   \n",
       "3                «18+» - запрещено для детей                 NaN   \n",
       "4                «18+» - запрещено для детей                 NaN   \n",
       "7                «18+» - запрещено для детей                 NaN   \n",
       "...                                      ...                 ...   \n",
       "7480         «12+» - для детей старше 12 лет                 NaN   \n",
       "7481         «16+» - для детей старше 16 лет                 NaN   \n",
       "7482  «0+» - для любой зрительской аудитории                 NaN   \n",
       "7483  «0+» - для любой зрительской аудитории                 NaN   \n",
       "7484  «0+» - для любой зрительской аудитории                 NaN   \n",
       "\n",
       "      nonrefundable_support  budget financing_source  ratings  \\\n",
       "0                       NaN     NaN              NaN      7.2   \n",
       "2                       NaN     NaN              NaN      6.8   \n",
       "3                       NaN     NaN              NaN      6.8   \n",
       "4                       NaN     NaN              NaN      6.8   \n",
       "7                       NaN     NaN              NaN      6.6   \n",
       "...                     ...     ...              ...      ...   \n",
       "7480                    NaN     NaN              NaN      NaN   \n",
       "7481                    NaN     NaN              NaN      5.4   \n",
       "7482                    NaN     NaN              NaN      NaN   \n",
       "7483                    NaN     NaN              NaN      NaN   \n",
       "7484                    NaN     NaN              NaN      6.3   \n",
       "\n",
       "                         genres  box_office  year_start_date  \\\n",
       "0        боевик,драма,мелодрама         NaN             2015   \n",
       "2     фантастика,боевик,триллер         NaN             2016   \n",
       "3     фантастика,боевик,триллер         NaN             2016   \n",
       "4     фантастика,боевик,триллер         NaN             2015   \n",
       "7      мюзикл,мелодрама,комедия         NaN             2014   \n",
       "...                         ...         ...              ...   \n",
       "7480                        NaN         NaN             2019   \n",
       "7481             боевик,триллер         NaN             2019   \n",
       "7482                        NaN         NaN             2019   \n",
       "7483                        NaN         NaN             2019   \n",
       "7484            комедия,вестерн         NaN             2019   \n",
       "\n",
       "              main_name  main_genre  \n",
       "0         Кевин Костнер      боевик  \n",
       "2     Тимур Бекмамбетов  фантастика  \n",
       "3     Тимур Бекмамбетов  фантастика  \n",
       "4     Тимур Бекмамбетов  фантастика  \n",
       "7         Джон Туртурро      мюзикл  \n",
       "...                 ...         ...  \n",
       "7480        Фил Грабски         nan  \n",
       "7481         Ник Пауэлл      боевик  \n",
       "7482   Чарльз Е.Бастьен         nan  \n",
       "7483           А.Беляев         nan  \n",
       "7484           И.Трусов     комедия  \n",
       "\n",
       "[6912 rows x 19 columns]"
      ]
     },
     "execution_count": 38,
     "metadata": {},
     "output_type": "execute_result"
    }
   ],
   "source": [
    "def name(row):\n",
    "    name = row['director']\n",
    "    name = str(name).split(',')\n",
    "    name = name[0]\n",
    "    return name\n",
    "data['main_name'] = data.apply(name, axis = 1)\n",
    "def genres(row):\n",
    "    genres = row['genres']\n",
    "    genres = str(genres).split(',')\n",
    "    genres = genres[0]\n",
    "    return genres\n",
    "data['main_genre'] = data.apply(genres, axis = 1)\n",
    "data"
   ]
  },
  {
   "cell_type": "markdown",
   "metadata": {
    "id": "1FsCXHwdgFyU"
   },
   "source": [
    "- Посчитал, какую долю от общего бюджета фильма составляет государственная поддержка."
   ]
  },
  {
   "cell_type": "code",
   "execution_count": 39,
   "metadata": {
    "id": "LV6qFuZLgFyV"
   },
   "outputs": [
    {
     "data": {
      "text/plain": [
       "0.6496963868705403"
      ]
     },
     "execution_count": 39,
     "metadata": {},
     "output_type": "execute_result"
    }
   ],
   "source": [
    "(data['refundable_support'] + data['nonrefundable_support'] / (data['budget'])).median()"
   ]
  },
  {
   "cell_type": "markdown",
   "metadata": {},
   "source": [
    "В среднем 66% бюджета составляет доля гос.поддержки."
   ]
  },
  {
   "cell_type": "markdown",
   "metadata": {
    "id": "6t4EukPLgFyV"
   },
   "source": [
    "### Шаг 3. Провёл исследовательский анализ данных\n"
   ]
  },
  {
   "cell_type": "markdown",
   "metadata": {
    "id": "vAH8WCzugFyV"
   },
   "source": [
    "- Посмотрел, сколько фильмов выходило в прокат каждый год. Посчитал, какую долю составляют фильмы с указанной информацией о прокате в кинотеатрах."
   ]
  },
  {
   "cell_type": "code",
   "execution_count": 40,
   "metadata": {},
   "outputs": [
    {
     "data": {
      "text/plain": [
       "year_start_date\n",
       "2016    518\n",
       "2019    517\n",
       "2018    469\n",
       "2015    450\n",
       "2017    356\n",
       "2014    242\n",
       "2013    154\n",
       "2012    125\n",
       "2011    107\n",
       "2010    103\n",
       "Name: count, dtype: int64"
      ]
     },
     "execution_count": 40,
     "metadata": {},
     "output_type": "execute_result"
    }
   ],
   "source": [
    "data_none_nan = data #создаем промежуточный датафрейм\n",
    "data_none_nan = data_none_nan.dropna(subset = ['box_office'])#удаляем пропуски в колонке с информацией о прокатах\n",
    "data_none_nan.sort_values(by = ['year_start_date'])['year_start_date'].value_counts()#считаем кол-во фильмов в прокате за год"
   ]
  },
  {
   "cell_type": "markdown",
   "metadata": {},
   "source": [
    "Вот столько фильмов выходило в прокат каждый год."
   ]
  },
  {
   "cell_type": "code",
   "execution_count": 41,
   "metadata": {
    "id": "ABeV47y7gFyW"
   },
   "outputs": [
    {
     "data": {
      "text/plain": [
       "<Axes: title={'center': 'количество фильмов в прокате по годам'}, xlabel='year_start_date'>"
      ]
     },
     "execution_count": 41,
     "metadata": {},
     "output_type": "execute_result"
    },
    {
     "data": {
      "image/png": "[encoded data removed]",
      "text/plain": [
       "<Figure size 640x480 with 1 Axes>"
      ]
     },
     "metadata": {},
     "output_type": "display_data"
    }
   ],
   "source": [
    "data_none_nan['year_start_date'].value_counts(sort = True).sort_index().plot(title='количество фильмов в прокате по годам',kind = 'bar', grid = True, color = 'green')"
   ]
  },
  {
   "cell_type": "code",
   "execution_count": 42,
   "metadata": {},
   "outputs": [
    {
     "data": {
      "text/plain": [
       "0.43995949074074076"
      ]
     },
     "execution_count": 42,
     "metadata": {},
     "output_type": "execute_result"
    }
   ],
   "source": [
    "data_none_nan.shape[0]/data.shape[0]"
   ]
  },
  {
   "cell_type": "markdown",
   "metadata": {},
   "source": [
    "Всего 43% фильмов имеют информацию о прокатах."
   ]
  },
  {
   "cell_type": "markdown",
   "metadata": {},
   "source": [
    "Отсортировал по годам, стабильность была видна до 2016, потом резкое падение и снова рост. Думаю, что-то случилось в 2017 году в "
   ]
  },
  {
   "cell_type": "markdown",
   "metadata": {
    "id": "BEOdcIrIgFyW"
   },
   "source": [
    "- Изучил, как менялась динамика проката по годам. В каком году сумма сборов была минимальной, а в каком максимальной."
   ]
  },
  {
   "cell_type": "code",
   "execution_count": 43,
   "metadata": {
    "id": "tfEhofYvgFyX"
   },
   "outputs": [
    {
     "data": {
      "text/plain": [
       "<Axes: title={'center': 'количество фильмов в прокате по годам'}, xlabel='year_start_date'>"
      ]
     },
     "execution_count": 43,
     "metadata": {},
     "output_type": "execute_result"
    },
    {
     "data": {
      "image/png": "[encoded data removed]",
      "text/plain": [
       "<Figure size 640x480 with 1 Axes>"
      ]
     },
     "metadata": {},
     "output_type": "display_data"
    }
   ],
   "source": [
    "data_none_nan.pivot_table(index = 'year_start_date', values = 'box_office', aggfunc = 'sum').plot(title='количество фильмов в прокате по годам',kind = 'area', grid = True, color = 'green')"
   ]
  },
  {
   "cell_type": "markdown",
   "metadata": {},
   "source": [
    "в 2010 сумма сборов была минимальной, затем наблюдался рост, и в 2018 достигла пика - максимума."
   ]
  },
  {
   "cell_type": "markdown",
   "metadata": {
    "id": "G-7qS-N-gFyY"
   },
   "source": [
    "- С помощью сводной таблицы посчитал среднюю и медианную сумму сборов для каждого года."
   ]
  },
  {
   "cell_type": "code",
   "execution_count": 44,
   "metadata": {
    "id": "jmp-rgg9gFyY"
   },
   "outputs": [
    {
     "data": {
      "text/html": [
       "<div>\n",
       "<style scoped>\n",
       "    .dataframe tbody tr th:only-of-type {\n",
       "        vertical-align: middle;\n",
       "    }\n",
       "\n",
       "    .dataframe tbody tr th {\n",
       "        vertical-align: top;\n",
       "    }\n",
       "\n",
       "    .dataframe thead tr th {\n",
       "        text-align: left;\n",
       "    }\n",
       "\n",
       "    .dataframe thead tr:last-of-type th {\n",
       "        text-align: right;\n",
       "    }\n",
       "</style>\n",
       "<table border=\"1\" class=\"dataframe\">\n",
       "  <thead>\n",
       "    <tr>\n",
       "      <th></th>\n",
       "      <th>mean</th>\n",
       "      <th>median</th>\n",
       "    </tr>\n",
       "    <tr>\n",
       "      <th></th>\n",
       "      <th>box_office</th>\n",
       "      <th>box_office</th>\n",
       "    </tr>\n",
       "    <tr>\n",
       "      <th>year_start_date</th>\n",
       "      <th></th>\n",
       "      <th></th>\n",
       "    </tr>\n",
       "  </thead>\n",
       "  <tbody>\n",
       "    <tr>\n",
       "      <th>2010</th>\n",
       "      <td>2.354853e+04</td>\n",
       "      <td>1700.00</td>\n",
       "    </tr>\n",
       "    <tr>\n",
       "      <th>2011</th>\n",
       "      <td>1.317376e+05</td>\n",
       "      <td>3000.00</td>\n",
       "    </tr>\n",
       "    <tr>\n",
       "      <th>2012</th>\n",
       "      <td>5.515434e+04</td>\n",
       "      <td>5560.00</td>\n",
       "    </tr>\n",
       "    <tr>\n",
       "      <th>2013</th>\n",
       "      <td>1.918154e+05</td>\n",
       "      <td>4717.50</td>\n",
       "    </tr>\n",
       "    <tr>\n",
       "      <th>2014</th>\n",
       "      <td>3.074005e+07</td>\n",
       "      <td>69120.00</td>\n",
       "    </tr>\n",
       "    <tr>\n",
       "      <th>2015</th>\n",
       "      <td>8.712729e+07</td>\n",
       "      <td>5244391.50</td>\n",
       "    </tr>\n",
       "    <tr>\n",
       "      <th>2016</th>\n",
       "      <td>9.240322e+07</td>\n",
       "      <td>4091820.05</td>\n",
       "    </tr>\n",
       "    <tr>\n",
       "      <th>2017</th>\n",
       "      <td>1.364108e+08</td>\n",
       "      <td>10177833.50</td>\n",
       "    </tr>\n",
       "    <tr>\n",
       "      <th>2018</th>\n",
       "      <td>1.058053e+08</td>\n",
       "      <td>8891102.21</td>\n",
       "    </tr>\n",
       "    <tr>\n",
       "      <th>2019</th>\n",
       "      <td>9.355226e+07</td>\n",
       "      <td>4732610.10</td>\n",
       "    </tr>\n",
       "  </tbody>\n",
       "</table>\n",
       "</div>"
      ],
      "text/plain": [
       "                         mean       median\n",
       "                   box_office   box_office\n",
       "year_start_date                           \n",
       "2010             2.354853e+04      1700.00\n",
       "2011             1.317376e+05      3000.00\n",
       "2012             5.515434e+04      5560.00\n",
       "2013             1.918154e+05      4717.50\n",
       "2014             3.074005e+07     69120.00\n",
       "2015             8.712729e+07   5244391.50\n",
       "2016             9.240322e+07   4091820.05\n",
       "2017             1.364108e+08  10177833.50\n",
       "2018             1.058053e+08   8891102.21\n",
       "2019             9.355226e+07   4732610.10"
      ]
     },
     "execution_count": 44,
     "metadata": {},
     "output_type": "execute_result"
    }
   ],
   "source": [
    "data_none_nan.pivot_table(index = 'year_start_date', values = 'box_office', aggfunc = ['mean', 'median'])"
   ]
  },
  {
   "cell_type": "markdown",
   "metadata": {},
   "source": [
    "Сводная таблица со средними и медианными суммами сборов для каждого года."
   ]
  },
  {
   "cell_type": "code",
   "execution_count": 45,
   "metadata": {},
   "outputs": [
    {
     "data": {
      "text/plain": [
       "<Axes: xlabel='year_start_date'>"
      ]
     },
     "execution_count": 45,
     "metadata": {},
     "output_type": "execute_result"
    },
    {
     "data": {
      "image/png": "[encoded data removed]",
      "text/plain": [
       "<Figure size 640x480 with 1 Axes>"
      ]
     },
     "metadata": {},
     "output_type": "display_data"
    }
   ],
   "source": [
    "data_none_nan.pivot_table(index = 'year_start_date', values = 'box_office', aggfunc = ['mean', 'median']).plot(kind = 'line')"
   ]
  },
  {
   "cell_type": "markdown",
   "metadata": {},
   "source": [
    "График со средними и медианными суммами сборов для каждого года. В обоих случаях наблюдается рост до 2017 года, далее - падение суммы."
   ]
  },
  {
   "cell_type": "markdown",
   "metadata": {
    "id": "Ok89WFwJgFyZ"
   },
   "source": [
    "- Определил, влияет ли возрастное ограничение аудитории («6+», «12+», «16+», «18+» и т. д.) на сборы фильма в прокате в период с 2015 по 2019 год. Нашел фильмы, с каким возрастным ограничением собрали больше всего денег в прокате. Ответил: меняется ли картина в зависимости от года."
   ]
  },
  {
   "cell_type": "code",
   "execution_count": 46,
   "metadata": {
    "id": "jsSbEqfjgFya"
   },
   "outputs": [
    {
     "data": {
      "text/plain": [
       "<Axes: xlabel='year_start_date'>"
      ]
     },
     "execution_count": 46,
     "metadata": {},
     "output_type": "execute_result"
    },
    {
     "data": {
      "image/png": "[encoded data removed]",
      "text/plain": [
       "<Figure size 1200x1200 with 1 Axes>"
      ]
     },
     "metadata": {},
     "output_type": "display_data"
    }
   ],
   "source": [
    "data_none_nan.pivot_table(index = 'year_start_date', columns = 'age_restriction',values = 'box_office', aggfunc = 'sum').plot(kind = 'line', figsize = (12,12), xlim = [2013,2019])"
   ]
  },
  {
   "cell_type": "markdown",
   "metadata": {},
   "source": [
    "Вывод: да, влияет, фильмы с ограничением 16+ собирают больше остальных, меньше всего - 0+. \n",
    "\n",
    "Думаю, фильмы с 0+ собирают меньше всего, потому что это в основном мультфильмы. Их главная аудитория - дети. \n",
    "\n",
    "Фильмы 16+ собирают больше всего, скорее всего, потому что это разные жанры фильмов для взрослых, их аудитория уже в разы больше, и, несомненно, разнообразие жанров влияет на количество аудитории. \n",
    "\n",
    "Фильмы 18+ на предпоследнем месте в нашем топе. В основном это - хоррор, ужасы. Они нравятся не всем, поэтому аудитория меньше, сборы соответственно тоже."
   ]
  },
  {
   "cell_type": "markdown",
   "metadata": {
    "id": "l_Kg6Ku4gFya"
   },
   "source": [
    "### Шаг 4. Исследовал фильмы, которые получили государственную поддержку"
   ]
  },
  {
   "cell_type": "code",
   "execution_count": 47,
   "metadata": {
    "id": "W9QKpjUdgFyb"
   },
   "outputs": [
    {
     "data": {
      "text/plain": [
       "<Axes: xlabel='year_start_date'>"
      ]
     },
     "execution_count": 47,
     "metadata": {},
     "output_type": "execute_result"
    },
    {
     "data": {
      "image/png": "[encoded data removed]",
      "text/plain": [
       "<Figure size 640x480 with 1 Axes>"
      ]
     },
     "metadata": {},
     "output_type": "display_data"
    }
   ],
   "source": [
    "data_four = data\n",
    "data_four['support'] = data_four['refundable_support'] + data_four['nonrefundable_support']#обьединяем оба типа финансирования\n",
    "data_four.pivot_table(index = 'year_start_date', values = 'support', aggfunc = 'sum' ).plot(kind = 'line')"
   ]
  },
  {
   "cell_type": "markdown",
   "metadata": {},
   "source": [
    "в заданиях ранее мы посчитали суммы сборов за прошлые годы. Графики похожи, следовательно - между суммой сбором и финансированием есть некая зависимость. Когда в 2017 финансирование от государства упало, упали и суммы сборов. "
   ]
  },
  {
   "cell_type": "code",
   "execution_count": 48,
   "metadata": {},
   "outputs": [
    {
     "data": {
      "text/plain": [
       "<Axes: xlabel='main_genre'>"
      ]
     },
     "execution_count": 48,
     "metadata": {},
     "output_type": "execute_result"
    },
    {
     "data": {
      "image/png": "[encoded data removed]",
      "text/plain": [
       "<Figure size 640x480 with 1 Axes>"
      ]
     },
     "metadata": {},
     "output_type": "display_data"
    }
   ],
   "source": [
    "data_four.pivot_table(index = 'main_genre', values = 'support', aggfunc = 'sum',sort=True ).plot(kind = 'bar')"
   ]
  },
  {
   "cell_type": "markdown",
   "metadata": {},
   "source": [
    "Самый частофинансируемый государством жанр - драма."
   ]
  },
  {
   "cell_type": "code",
   "execution_count": 49,
   "metadata": {},
   "outputs": [
    {
     "name": "stdout",
     "output_type": "stream",
     "text": [
      "Всего окупившихся фильмов: 69\n"
     ]
    },
    {
     "name": "stderr",
     "output_type": "stream",
     "text": [
      "/var/folders/yr/04d7xw_d5610csnyxxj8t5p40000gn/T/ipykernel_19247/440912191.py:8: SettingWithCopyWarning: \n",
      "A value is trying to be set on a copy of a slice from a DataFrame.\n",
      "Try using .loc[row_indexer,col_indexer] = value instead\n",
      "\n",
      "See the caveats in the documentation: https://pandas.pydata.org/pandas-docs/stable/user_guide/indexing.html#returning-a-view-versus-a-copy\n",
      "  data['profit'] = data.apply(profit, axis = 1)\n"
     ]
    },
    {
     "data": {
      "text/plain": [
       "<Axes: xlabel='main_genre'>"
      ]
     },
     "execution_count": 49,
     "metadata": {},
     "output_type": "execute_result"
    },
    {
     "data": {
      "image/png": "[encoded data removed]",
      "text/plain": [
       "<Figure size 640x480 with 1 Axes>"
      ]
     },
     "metadata": {},
     "output_type": "display_data"
    }
   ],
   "source": [
    "print('Всего окупившихся фильмов:',data[data['box_office'] > data['budget']]['title'].count())\n",
    "data = data.dropna(subset = ['main_genre', 'box_office', 'support'])\n",
    "def profit(row):\n",
    "    if row['budget'] > row['box_office']:\n",
    "        return 0\n",
    "    else:\n",
    "        return 1\n",
    "data['profit'] = data.apply(profit, axis = 1)\n",
    "data.pivot_table(index = 'main_genre', values = 'profit', aggfunc = ['sum']).plot(kind = 'bar')"
   ]
  },
  {
   "cell_type": "markdown",
   "metadata": {},
   "source": [
    "По нашему графику понятно, что комедия окупает себя лучше всех остальных жанров. Наравне - драма и мультфильмы."
   ]
  },
  {
   "cell_type": "code",
   "execution_count": 50,
   "metadata": {},
   "outputs": [
    {
     "name": "stdout",
     "output_type": "stream",
     "text": [
      "Всего окупивших себя фильмов: profit    49\n",
      "dtype: int64\n"
     ]
    },
    {
     "data": {
      "text/plain": [
       "<Axes: xlabel='ratings'>"
      ]
     },
     "execution_count": 50,
     "metadata": {},
     "output_type": "execute_result"
    },
    {
     "data": {
      "image/png": "[encoded data removed]",
      "text/plain": [
       "<Figure size 1200x1200 with 1 Axes>"
      ]
     },
     "metadata": {},
     "output_type": "display_data"
    }
   ],
   "source": [
    "print('Всего окупивших себя фильмов:', data.pivot_table(index = 'ratings', values = 'profit', aggfunc = 'sum').count())\n",
    "data.pivot_table(index = 'ratings', values = 'profit', aggfunc = 'sum').plot(kind = 'line', figsize = (12,12))"
   ]
  },
  {
   "cell_type": "markdown",
   "metadata": {},
   "source": [
    "Так как до рейтинга 4.5 почти нет фильмов, окупивших затраты, а в середине видно повышение, а затем пик в районе 7.5, то я могу сделать вывод, что зависимость между рейтингом и шансом окупаемости есть. Будучи у нас больше данных, я бы смог подтвердить свое предположение, пока что это остается догадкой."
   ]
  },
  {
   "cell_type": "markdown",
   "metadata": {},
   "source": [
    "В заключении хочу обобщить, что несмотря на то, что государство финансирует по большей части жанр \"драма\", лучше всего по окупаемости себя показывает жанр \"комедия\". Окупаемость этого жанра в 2 раза выше, чем у 'драма'. Поэтому, возможно, стоит изменить финансирование с одного жанра, на другой, более выгодный и прибыльный. Три самых перспективных жанра - 'комедия', 'драма', 'мультфильмы'. Они окупаются в разы чаще остальных жанров. \n",
    "\n",
    "Государства активно финансируют жанры 'фантастика' и 'история'. Возможно, в жанр фантастики нужно вкладывать меньше денег, так как окупаются такие фильмы очень редко. Жанр 'история' находится в такой же ситуации, но не стоит забрасывать этот жанр, так как люди должны иметь представление о предках, важных исторических событиях в прошлом. Наверное, стоит попробовать снизить финансирование этого жанра."
   ]
  },
  {
   "cell_type": "markdown",
   "metadata": {
    "id": "V2gYwMcPgFyd"
   },
   "source": [
    "### Шаг 5. Написал общий вывод"
   ]
  },
  {
   "cell_type": "markdown",
   "metadata": {},
   "source": [
    "Общий вывод: \n",
    "\n",
    "В данной работе я проделал несколько этапов. В самом начале я открыл два датафрейма, поработал с типами столбцов и объединил их в один. После этого снова поработал с типами данных, и приступил к отчистке пропусков. Поработал с дубликатами и непонятными значениями в столбцах. Добавил новые столбцы и изучил значения в некоторых столбцах, после чего приступил к исследованию, на основе которого могу сделать общий вывод: \n",
    "\n",
    "с 2010 по 2016 с каждым годом выходило все больше и больше фильмов, в 2017 было резкое падение, после чего возобновился рост. Думаю, 2017 год был переломный в киноиндустрии, из-за чего и было падение в этом году.\n",
    "\n",
    "В 2018 году был пик по сумме сборов с фильмов, а в 2010 - минимум.\n",
    "\n",
    "В среднем 2017 год был пик по средней сумме сборов. Общий график показывает рост, то есть - киноиндустрия развивается, и, следовательно, больше зарабатывает.\n",
    "\n",
    "Больше всего собирают фильмы с ограничением 16+, меньше всех - 0+.\n",
    "\n",
    "С 2010 государства активно финансировали фильмы, в 2017 резко уменьшили суммы финансирования, из-за этого, возможно и был спад количества фильмов за год в 2017 году.\n",
    "\n",
    "Самый частофинансируемый жанр государства - драма.\n",
    "\n",
    "Самый самоокупаемый жанр - комедия. На втором месте - драма.\n",
    "\n",
    "Из-за недостатка информации нельзя точно сказать по поводу зависимости суммы сборов от рейтинга фильма, но мои догадки на основе 53 произведений разных жанров показывают, что такая зависимость наблюдается.Ъ\n",
    "\n"
   ]
  }
 ],
 "metadata": {
  "ExecuteTimeLog": [
   {
    "duration": 537,
    "start_time": "2021-07-07T10:12:08.634Z"
   },
   {
    "duration": 206,
    "start_time": "2021-07-07T10:12:30.191Z"
   },
   {
    "duration": 227,
    "start_time": "2021-07-07T10:12:33.078Z"
   },
   {
    "duration": 153,
    "start_time": "2021-07-07T10:13:42.146Z"
   },
   {
    "duration": 233,
    "start_time": "2021-07-07T10:30:09.252Z"
   },
   {
    "duration": 19,
    "start_time": "2021-07-07T10:30:15.577Z"
   },
   {
    "duration": 18,
    "start_time": "2021-07-07T10:30:57.348Z"
   },
   {
    "duration": 19,
    "start_time": "2021-07-07T10:31:17.452Z"
   },
   {
    "duration": 21,
    "start_time": "2021-07-07T10:31:32.227Z"
   },
   {
    "duration": 27,
    "start_time": "2021-07-07T10:32:06.588Z"
   },
   {
    "duration": 23,
    "start_time": "2021-07-07T10:32:43.645Z"
   },
   {
    "duration": 24,
    "start_time": "2021-07-07T10:33:06.948Z"
   },
   {
    "duration": 7,
    "start_time": "2021-07-07T10:33:28.558Z"
   },
   {
    "duration": 23,
    "start_time": "2021-07-07T10:33:43.761Z"
   },
   {
    "duration": 28,
    "start_time": "2021-07-07T10:34:13.466Z"
   },
   {
    "duration": 23,
    "start_time": "2021-07-07T10:35:56.187Z"
   },
   {
    "duration": 6,
    "start_time": "2021-07-07T10:36:48.182Z"
   },
   {
    "duration": 14,
    "start_time": "2021-07-07T10:37:49.641Z"
   },
   {
    "duration": 6,
    "start_time": "2021-07-07T10:38:06.694Z"
   },
   {
    "duration": 6,
    "start_time": "2021-07-07T10:38:13.493Z"
   },
   {
    "duration": 19,
    "start_time": "2021-07-07T10:38:44.056Z"
   },
   {
    "duration": 186,
    "start_time": "2021-07-07T10:48:35.618Z"
   },
   {
    "duration": 24,
    "start_time": "2021-07-07T10:48:51.498Z"
   },
   {
    "duration": 20,
    "start_time": "2021-07-07T10:48:59.415Z"
   },
   {
    "duration": 20,
    "start_time": "2021-07-07T10:53:02.195Z"
   },
   {
    "duration": 188,
    "start_time": "2021-07-07T10:54:40.486Z"
   },
   {
    "duration": 115,
    "start_time": "2021-07-07T10:54:52.552Z"
   },
   {
    "duration": 214,
    "start_time": "2021-07-07T10:54:56.354Z"
   },
   {
    "duration": 47,
    "start_time": "2021-07-07T10:54:58.282Z"
   },
   {
    "duration": 217,
    "start_time": "2021-07-07T10:59:16.075Z"
   },
   {
    "duration": 51,
    "start_time": "2021-07-07T10:59:16.243Z"
   },
   {
    "duration": 578,
    "start_time": "2021-07-07T10:59:18.774Z"
   },
   {
    "duration": 161,
    "start_time": "2021-07-07T10:59:21.238Z"
   },
   {
    "duration": 59,
    "start_time": "2021-07-07T10:59:21.453Z"
   },
   {
    "duration": 3,
    "start_time": "2021-07-07T11:02:10.786Z"
   },
   {
    "duration": 13,
    "start_time": "2021-07-07T11:07:07.722Z"
   },
   {
    "duration": 26,
    "start_time": "2021-07-07T11:07:17.958Z"
   },
   {
    "duration": 22,
    "start_time": "2021-07-07T11:08:17.939Z"
   },
   {
    "duration": 212,
    "start_time": "2021-07-07T11:08:19.665Z"
   },
   {
    "duration": 21,
    "start_time": "2021-07-07T11:08:29.945Z"
   },
   {
    "duration": 31,
    "start_time": "2021-07-07T11:08:38.899Z"
   },
   {
    "duration": 23,
    "start_time": "2021-07-07T11:08:54.527Z"
   },
   {
    "duration": 8,
    "start_time": "2021-07-07T11:18:55.974Z"
   },
   {
    "duration": 7,
    "start_time": "2021-07-07T11:19:03.639Z"
   },
   {
    "duration": 7,
    "start_time": "2021-07-07T11:19:06.444Z"
   },
   {
    "duration": 578,
    "start_time": "2021-07-07T12:09:59.576Z"
   },
   {
    "duration": 195,
    "start_time": "2021-07-07T12:10:00.156Z"
   },
   {
    "duration": 115,
    "start_time": "2021-07-07T12:10:00.353Z"
   },
   {
    "duration": 3,
    "start_time": "2021-07-07T12:10:00.470Z"
   },
   {
    "duration": 32,
    "start_time": "2021-07-07T12:10:00.474Z"
   },
   {
    "duration": 23,
    "start_time": "2021-07-07T12:10:00.508Z"
   },
   {
    "duration": 19,
    "start_time": "2021-07-07T12:10:00.533Z"
   },
   {
    "duration": 44,
    "start_time": "2021-07-07T12:10:00.553Z"
   },
   {
    "duration": 7,
    "start_time": "2021-07-07T12:10:00.600Z"
   },
   {
    "duration": 7,
    "start_time": "2021-07-07T12:19:45.761Z"
   },
   {
    "duration": 21,
    "start_time": "2021-07-07T12:21:35.482Z"
   },
   {
    "duration": 21,
    "start_time": "2021-07-07T12:29:23.569Z"
   },
   {
    "duration": 525,
    "start_time": "2021-07-07T12:29:44.542Z"
   },
   {
    "duration": 214,
    "start_time": "2021-07-07T12:29:45.069Z"
   },
   {
    "duration": 92,
    "start_time": "2021-07-07T12:29:45.285Z"
   },
   {
    "duration": 3,
    "start_time": "2021-07-07T12:29:45.379Z"
   },
   {
    "duration": 28,
    "start_time": "2021-07-07T12:29:45.384Z"
   },
   {
    "duration": 23,
    "start_time": "2021-07-07T12:29:45.413Z"
   },
   {
    "duration": 21,
    "start_time": "2021-07-07T12:29:45.437Z"
   },
   {
    "duration": 41,
    "start_time": "2021-07-07T12:29:45.460Z"
   },
   {
    "duration": 7,
    "start_time": "2021-07-07T12:29:45.502Z"
   },
   {
    "duration": 20,
    "start_time": "2021-07-07T12:29:45.511Z"
   },
   {
    "duration": 12,
    "start_time": "2021-07-07T12:34:02.800Z"
   },
   {
    "duration": 7,
    "start_time": "2021-07-07T12:35:10.479Z"
   },
   {
    "duration": 8,
    "start_time": "2021-07-07T12:35:22.440Z"
   },
   {
    "duration": 6,
    "start_time": "2021-07-07T12:35:35.649Z"
   },
   {
    "duration": 6,
    "start_time": "2021-07-07T12:35:43.107Z"
   },
   {
    "duration": 22,
    "start_time": "2021-07-07T12:38:03.029Z"
   },
   {
    "duration": 10,
    "start_time": "2021-07-07T12:38:06.592Z"
   },
   {
    "duration": 563,
    "start_time": "2021-07-07T12:38:46.493Z"
   },
   {
    "duration": 265,
    "start_time": "2021-07-07T12:38:47.058Z"
   },
   {
    "duration": 94,
    "start_time": "2021-07-07T12:38:47.325Z"
   },
   {
    "duration": 3,
    "start_time": "2021-07-07T12:38:47.422Z"
   },
   {
    "duration": 30,
    "start_time": "2021-07-07T12:38:47.427Z"
   },
   {
    "duration": 16,
    "start_time": "2021-07-07T12:38:53.305Z"
   },
   {
    "duration": 10,
    "start_time": "2021-07-07T12:38:53.499Z"
   },
   {
    "duration": 8,
    "start_time": "2021-07-07T12:39:48.161Z"
   },
   {
    "duration": 27,
    "start_time": "2021-07-07T12:41:17.629Z"
   },
   {
    "duration": 17,
    "start_time": "2021-07-07T12:41:17.867Z"
   },
   {
    "duration": 21,
    "start_time": "2021-07-07T12:41:19.310Z"
   },
   {
    "duration": 7,
    "start_time": "2021-07-07T12:41:19.544Z"
   },
   {
    "duration": 20,
    "start_time": "2021-07-07T12:41:20.504Z"
   },
   {
    "duration": 554,
    "start_time": "2021-07-07T12:56:23.696Z"
   },
   {
    "duration": 200,
    "start_time": "2021-07-07T12:56:25.234Z"
   },
   {
    "duration": 119,
    "start_time": "2021-07-07T12:56:25.480Z"
   },
   {
    "duration": 4,
    "start_time": "2021-07-07T12:56:25.762Z"
   },
   {
    "duration": 26,
    "start_time": "2021-07-07T12:56:27.172Z"
   },
   {
    "duration": 12,
    "start_time": "2021-07-07T12:56:29.051Z"
   },
   {
    "duration": 10,
    "start_time": "2021-07-07T12:56:29.291Z"
   },
   {
    "duration": 8,
    "start_time": "2021-07-07T12:56:29.623Z"
   },
   {
    "duration": 28,
    "start_time": "2021-07-07T12:56:32.137Z"
   },
   {
    "duration": 19,
    "start_time": "2021-07-07T12:56:39.785Z"
   },
   {
    "duration": 20,
    "start_time": "2021-07-07T12:56:44.297Z"
   },
   {
    "duration": 7,
    "start_time": "2021-07-07T12:56:45.392Z"
   },
   {
    "duration": 23,
    "start_time": "2021-07-07T12:56:46.615Z"
   },
   {
    "duration": 4,
    "start_time": "2021-07-07T12:57:06.625Z"
   },
   {
    "duration": 32,
    "start_time": "2021-07-07T12:57:36.690Z"
   },
   {
    "duration": 18,
    "start_time": "2021-07-07T12:58:00.149Z"
   },
   {
    "duration": 15,
    "start_time": "2021-07-07T12:59:16.793Z"
   },
   {
    "duration": 7,
    "start_time": "2021-07-07T13:19:22.624Z"
   },
   {
    "duration": 6,
    "start_time": "2021-07-07T14:17:33.527Z"
   },
   {
    "duration": 9,
    "start_time": "2021-07-07T14:17:48.409Z"
   },
   {
    "duration": 8,
    "start_time": "2021-07-07T14:20:13.060Z"
   },
   {
    "duration": 8,
    "start_time": "2021-07-07T14:20:37.957Z"
   },
   {
    "duration": 8,
    "start_time": "2021-07-07T14:20:47.470Z"
   },
   {
    "duration": 9,
    "start_time": "2021-07-07T14:20:54.503Z"
   },
   {
    "duration": 10,
    "start_time": "2021-07-07T14:28:57.763Z"
   },
   {
    "duration": 3,
    "start_time": "2021-07-07T14:30:23.377Z"
   },
   {
    "duration": 3,
    "start_time": "2021-07-07T14:30:36.489Z"
   },
   {
    "duration": 103,
    "start_time": "2021-07-07T14:30:52.351Z"
   },
   {
    "duration": 8,
    "start_time": "2021-07-07T14:30:54.763Z"
   },
   {
    "duration": 8,
    "start_time": "2021-07-07T14:31:29.301Z"
   },
   {
    "duration": 13,
    "start_time": "2021-07-07T14:31:44.516Z"
   },
   {
    "duration": 7,
    "start_time": "2021-07-07T14:33:10.972Z"
   },
   {
    "duration": 11,
    "start_time": "2021-07-07T14:33:27.780Z"
   },
   {
    "duration": 8,
    "start_time": "2021-07-07T14:34:44.588Z"
   },
   {
    "duration": 57,
    "start_time": "2021-07-07T14:35:59.042Z"
   },
   {
    "duration": 3,
    "start_time": "2021-07-07T14:36:28.168Z"
   },
   {
    "duration": 5,
    "start_time": "2021-07-07T14:36:46.254Z"
   },
   {
    "duration": 4,
    "start_time": "2021-07-07T14:36:52.714Z"
   },
   {
    "duration": 3,
    "start_time": "2021-07-07T14:36:56.612Z"
   },
   {
    "duration": 4,
    "start_time": "2021-07-07T14:36:57.049Z"
   },
   {
    "duration": 3,
    "start_time": "2021-07-07T14:39:21.214Z"
   },
   {
    "duration": 7,
    "start_time": "2021-07-07T14:39:52.406Z"
   },
   {
    "duration": 11,
    "start_time": "2021-07-07T14:39:58.576Z"
   },
   {
    "duration": 9,
    "start_time": "2021-07-07T14:40:26.301Z"
   },
   {
    "duration": 10,
    "start_time": "2021-07-07T14:40:31.704Z"
   },
   {
    "duration": 11,
    "start_time": "2021-07-07T14:40:36.249Z"
   },
   {
    "duration": 10,
    "start_time": "2021-07-07T14:40:39.783Z"
   },
   {
    "duration": 9,
    "start_time": "2021-07-07T14:40:48.558Z"
   },
   {
    "duration": 10,
    "start_time": "2021-07-07T14:40:57.143Z"
   },
   {
    "duration": 9,
    "start_time": "2021-07-07T14:41:06.074Z"
   },
   {
    "duration": 4324,
    "start_time": "2021-07-07T14:41:22.004Z"
   },
   {
    "duration": 11,
    "start_time": "2021-07-07T14:41:33.392Z"
   },
   {
    "duration": 9,
    "start_time": "2021-07-07T14:41:39.288Z"
   },
   {
    "duration": 569,
    "start_time": "2021-07-07T14:42:14.387Z"
   },
   {
    "duration": 197,
    "start_time": "2021-07-07T14:42:14.959Z"
   },
   {
    "duration": 84,
    "start_time": "2021-07-07T14:42:16.052Z"
   },
   {
    "duration": 4,
    "start_time": "2021-07-07T14:42:16.900Z"
   },
   {
    "duration": 27,
    "start_time": "2021-07-07T14:42:19.898Z"
   },
   {
    "duration": 12,
    "start_time": "2021-07-07T14:42:21.577Z"
   },
   {
    "duration": 9,
    "start_time": "2021-07-07T14:42:21.813Z"
   },
   {
    "duration": 9,
    "start_time": "2021-07-07T14:42:22.569Z"
   },
   {
    "duration": 29,
    "start_time": "2021-07-07T14:42:25.837Z"
   },
   {
    "duration": 20,
    "start_time": "2021-07-07T14:42:27.003Z"
   },
   {
    "duration": 21,
    "start_time": "2021-07-07T14:42:28.767Z"
   },
   {
    "duration": 7,
    "start_time": "2021-07-07T14:42:29.838Z"
   },
   {
    "duration": 4,
    "start_time": "2021-07-07T14:43:25.493Z"
   },
   {
    "duration": 7,
    "start_time": "2021-07-07T14:43:26.573Z"
   },
   {
    "duration": 10,
    "start_time": "2021-07-07T14:43:31.639Z"
   },
   {
    "duration": 9,
    "start_time": "2021-07-07T14:43:32.046Z"
   },
   {
    "duration": 10,
    "start_time": "2021-07-07T14:43:33.301Z"
   },
   {
    "duration": 12,
    "start_time": "2021-07-07T14:43:33.658Z"
   },
   {
    "duration": 8,
    "start_time": "2021-07-07T14:43:34.552Z"
   },
   {
    "duration": 9,
    "start_time": "2021-07-07T14:43:35.058Z"
   },
   {
    "duration": 12,
    "start_time": "2021-07-07T14:43:35.914Z"
   },
   {
    "duration": 17,
    "start_time": "2021-07-07T14:45:34.368Z"
   },
   {
    "duration": 512,
    "start_time": "2021-07-07T14:51:58.236Z"
   },
   {
    "duration": 223,
    "start_time": "2021-07-07T14:51:58.750Z"
   },
   {
    "duration": 93,
    "start_time": "2021-07-07T14:51:58.977Z"
   },
   {
    "duration": 4,
    "start_time": "2021-07-07T14:51:59.071Z"
   },
   {
    "duration": 37,
    "start_time": "2021-07-07T14:51:59.077Z"
   },
   {
    "duration": 18,
    "start_time": "2021-07-07T14:51:59.116Z"
   },
   {
    "duration": 10,
    "start_time": "2021-07-07T14:51:59.137Z"
   },
   {
    "duration": 8,
    "start_time": "2021-07-07T14:51:59.149Z"
   },
   {
    "duration": 54,
    "start_time": "2021-07-07T14:51:59.158Z"
   },
   {
    "duration": 18,
    "start_time": "2021-07-07T14:51:59.213Z"
   },
   {
    "duration": 22,
    "start_time": "2021-07-07T14:51:59.232Z"
   },
   {
    "duration": 36,
    "start_time": "2021-07-07T14:51:59.255Z"
   },
   {
    "duration": 7,
    "start_time": "2021-07-07T14:51:59.293Z"
   },
   {
    "duration": 10,
    "start_time": "2021-07-07T14:51:59.302Z"
   },
   {
    "duration": 9,
    "start_time": "2021-07-07T14:51:59.313Z"
   },
   {
    "duration": 11,
    "start_time": "2021-07-07T14:51:59.324Z"
   },
   {
    "duration": 8,
    "start_time": "2021-07-07T14:51:59.337Z"
   },
   {
    "duration": 46,
    "start_time": "2021-07-07T14:51:59.347Z"
   },
   {
    "duration": 22,
    "start_time": "2021-07-07T14:51:59.395Z"
   },
   {
    "duration": 24,
    "start_time": "2021-07-07T14:57:32.911Z"
   },
   {
    "duration": 7,
    "start_time": "2021-07-07T14:58:22.070Z"
   },
   {
    "duration": 4,
    "start_time": "2021-07-07T14:59:11.239Z"
   },
   {
    "duration": 25,
    "start_time": "2021-07-07T15:07:22.208Z"
   },
   {
    "duration": 16,
    "start_time": "2021-07-07T15:08:25.560Z"
   },
   {
    "duration": 15,
    "start_time": "2021-07-07T15:08:40.647Z"
   },
   {
    "duration": 14,
    "start_time": "2021-07-07T15:08:46.669Z"
   },
   {
    "duration": 533,
    "start_time": "2021-07-07T15:18:07.440Z"
   },
   {
    "duration": 173,
    "start_time": "2021-07-07T15:18:07.974Z"
   },
   {
    "duration": 84,
    "start_time": "2021-07-07T15:18:08.149Z"
   },
   {
    "duration": 3,
    "start_time": "2021-07-07T15:18:08.235Z"
   },
   {
    "duration": 30,
    "start_time": "2021-07-07T15:18:08.240Z"
   },
   {
    "duration": 22,
    "start_time": "2021-07-07T15:18:08.272Z"
   },
   {
    "duration": 11,
    "start_time": "2021-07-07T15:18:08.295Z"
   },
   {
    "duration": 11,
    "start_time": "2021-07-07T15:18:08.309Z"
   },
   {
    "duration": 40,
    "start_time": "2021-07-07T15:18:08.322Z"
   },
   {
    "duration": 42,
    "start_time": "2021-07-07T15:18:08.364Z"
   },
   {
    "duration": 22,
    "start_time": "2021-07-07T15:18:08.408Z"
   },
   {
    "duration": 5,
    "start_time": "2021-07-07T15:18:08.432Z"
   },
   {
    "duration": 13,
    "start_time": "2021-07-07T15:18:08.439Z"
   },
   {
    "duration": 9,
    "start_time": "2021-07-07T15:18:08.454Z"
   },
   {
    "duration": 32,
    "start_time": "2021-07-07T15:18:08.465Z"
   },
   {
    "duration": 10,
    "start_time": "2021-07-07T15:18:08.501Z"
   },
   {
    "duration": 7,
    "start_time": "2021-07-07T15:18:08.513Z"
   },
   {
    "duration": 11,
    "start_time": "2021-07-07T15:18:08.521Z"
   },
   {
    "duration": 17,
    "start_time": "2021-07-07T15:18:08.534Z"
   },
   {
    "duration": 44,
    "start_time": "2021-07-07T15:18:08.553Z"
   },
   {
    "duration": 22,
    "start_time": "2021-07-07T15:18:08.599Z"
   },
   {
    "duration": 61,
    "start_time": "2021-07-07T15:18:08.622Z"
   },
   {
    "duration": 7,
    "start_time": "2021-07-07T15:18:39.457Z"
   },
   {
    "duration": 5,
    "start_time": "2021-07-07T16:05:17.020Z"
   },
   {
    "duration": 5,
    "start_time": "2021-07-07T16:51:28.794Z"
   },
   {
    "duration": 546,
    "start_time": "2021-07-07T16:52:26.306Z"
   },
   {
    "duration": 203,
    "start_time": "2021-07-07T16:52:27.523Z"
   },
   {
    "duration": 85,
    "start_time": "2021-07-07T16:52:27.736Z"
   },
   {
    "duration": 4,
    "start_time": "2021-07-07T16:52:27.899Z"
   },
   {
    "duration": 25,
    "start_time": "2021-07-07T16:52:28.674Z"
   },
   {
    "duration": 8,
    "start_time": "2021-07-07T16:52:32.956Z"
   },
   {
    "duration": 18,
    "start_time": "2021-07-07T16:52:35.616Z"
   },
   {
    "duration": 6,
    "start_time": "2021-07-07T16:52:36.913Z"
   },
   {
    "duration": 11,
    "start_time": "2021-07-07T16:52:40.258Z"
   },
   {
    "duration": 10,
    "start_time": "2021-07-07T16:52:46.251Z"
   },
   {
    "duration": 8,
    "start_time": "2021-07-07T16:52:47.182Z"
   },
   {
    "duration": 27,
    "start_time": "2021-07-07T16:53:20.391Z"
   },
   {
    "duration": 20,
    "start_time": "2021-07-07T16:53:22.022Z"
   },
   {
    "duration": 23,
    "start_time": "2021-07-07T16:53:23.690Z"
   },
   {
    "duration": 8,
    "start_time": "2021-07-07T16:53:24.261Z"
   },
   {
    "duration": 4,
    "start_time": "2021-07-07T16:53:38.733Z"
   },
   {
    "duration": 7,
    "start_time": "2021-07-07T16:53:40.445Z"
   },
   {
    "duration": 11,
    "start_time": "2021-07-07T16:53:41.348Z"
   },
   {
    "duration": 13,
    "start_time": "2021-07-07T16:53:45.250Z"
   },
   {
    "duration": 12,
    "start_time": "2021-07-07T16:53:45.467Z"
   },
   {
    "duration": 4,
    "start_time": "2021-07-07T16:55:32.704Z"
   },
   {
    "duration": 12,
    "start_time": "2021-07-07T16:55:49.012Z"
   },
   {
    "duration": 18,
    "start_time": "2021-07-07T16:55:49.547Z"
   },
   {
    "duration": 611,
    "start_time": "2021-07-07T16:58:35.156Z"
   },
   {
    "duration": 200,
    "start_time": "2021-07-07T16:58:35.770Z"
   },
   {
    "duration": 86,
    "start_time": "2021-07-07T16:58:35.972Z"
   },
   {
    "duration": 3,
    "start_time": "2021-07-07T16:58:36.060Z"
   },
   {
    "duration": 27,
    "start_time": "2021-07-07T16:58:36.065Z"
   },
   {
    "duration": 8,
    "start_time": "2021-07-07T16:58:36.094Z"
   },
   {
    "duration": 17,
    "start_time": "2021-07-07T16:58:36.103Z"
   },
   {
    "duration": 5,
    "start_time": "2021-07-07T16:58:36.123Z"
   },
   {
    "duration": 11,
    "start_time": "2021-07-07T16:58:36.130Z"
   },
   {
    "duration": 7,
    "start_time": "2021-07-07T16:58:36.143Z"
   },
   {
    "duration": 37,
    "start_time": "2021-07-07T16:58:36.152Z"
   },
   {
    "duration": 27,
    "start_time": "2021-07-07T16:58:36.191Z"
   },
   {
    "duration": 19,
    "start_time": "2021-07-07T16:58:36.219Z"
   },
   {
    "duration": 49,
    "start_time": "2021-07-07T16:58:36.240Z"
   },
   {
    "duration": 6,
    "start_time": "2021-07-07T16:58:36.291Z"
   },
   {
    "duration": 3,
    "start_time": "2021-07-07T16:58:36.299Z"
   },
   {
    "duration": 13,
    "start_time": "2021-07-07T16:58:36.304Z"
   },
   {
    "duration": 10,
    "start_time": "2021-07-07T16:58:36.319Z"
   },
   {
    "duration": 10,
    "start_time": "2021-07-07T16:58:36.331Z"
   },
   {
    "duration": 44,
    "start_time": "2021-07-07T16:58:36.343Z"
   },
   {
    "duration": 4,
    "start_time": "2021-07-07T16:58:36.388Z"
   },
   {
    "duration": 13,
    "start_time": "2021-07-07T16:58:36.394Z"
   },
   {
    "duration": 16,
    "start_time": "2021-07-07T16:58:36.410Z"
   },
   {
    "duration": 8,
    "start_time": "2021-07-07T17:02:31.629Z"
   },
   {
    "duration": 8,
    "start_time": "2021-07-07T17:02:34.308Z"
   },
   {
    "duration": 6,
    "start_time": "2021-07-07T17:05:13.483Z"
   },
   {
    "duration": 17,
    "start_time": "2021-07-07T17:05:20.606Z"
   },
   {
    "duration": 7,
    "start_time": "2021-07-07T17:05:34.638Z"
   },
   {
    "duration": 3,
    "start_time": "2021-07-07T17:06:31.883Z"
   },
   {
    "duration": 570,
    "start_time": "2021-07-07T17:06:37.165Z"
   },
   {
    "duration": 174,
    "start_time": "2021-07-07T17:06:37.737Z"
   },
   {
    "duration": 47,
    "start_time": "2021-07-07T17:06:37.913Z"
   },
   {
    "duration": 3,
    "start_time": "2021-07-07T17:06:37.962Z"
   },
   {
    "duration": 27,
    "start_time": "2021-07-07T17:06:37.967Z"
   },
   {
    "duration": 7,
    "start_time": "2021-07-07T17:06:37.996Z"
   },
   {
    "duration": 16,
    "start_time": "2021-07-07T17:06:38.005Z"
   },
   {
    "duration": 6,
    "start_time": "2021-07-07T17:06:38.024Z"
   },
   {
    "duration": 12,
    "start_time": "2021-07-07T17:06:38.031Z"
   },
   {
    "duration": 41,
    "start_time": "2021-07-07T17:06:38.045Z"
   },
   {
    "duration": 8,
    "start_time": "2021-07-07T17:06:38.088Z"
   },
   {
    "duration": 26,
    "start_time": "2021-07-07T17:06:38.098Z"
   },
   {
    "duration": 17,
    "start_time": "2021-07-07T17:06:38.126Z"
   },
   {
    "duration": 43,
    "start_time": "2021-07-07T17:06:38.144Z"
   },
   {
    "duration": 6,
    "start_time": "2021-07-07T17:06:38.188Z"
   },
   {
    "duration": 5,
    "start_time": "2021-07-07T17:06:38.195Z"
   },
   {
    "duration": 9,
    "start_time": "2021-07-07T17:06:38.201Z"
   },
   {
    "duration": 12,
    "start_time": "2021-07-07T17:06:38.212Z"
   },
   {
    "duration": 11,
    "start_time": "2021-07-07T17:06:38.226Z"
   },
   {
    "duration": 47,
    "start_time": "2021-07-07T17:06:38.239Z"
   },
   {
    "duration": 4,
    "start_time": "2021-07-07T17:06:38.288Z"
   },
   {
    "duration": 13,
    "start_time": "2021-07-07T17:06:38.293Z"
   },
   {
    "duration": 5,
    "start_time": "2021-07-07T17:06:38.309Z"
   },
   {
    "duration": 18,
    "start_time": "2021-07-07T17:06:38.325Z"
   },
   {
    "duration": 20,
    "start_time": "2021-07-07T17:07:02.805Z"
   },
   {
    "duration": 19,
    "start_time": "2021-07-07T17:07:08.527Z"
   },
   {
    "duration": 19,
    "start_time": "2021-07-07T17:07:12.758Z"
   },
   {
    "duration": 22,
    "start_time": "2021-07-07T17:07:17.497Z"
   },
   {
    "duration": 19,
    "start_time": "2021-07-07T17:07:19.645Z"
   },
   {
    "duration": 10,
    "start_time": "2021-07-07T17:07:34.239Z"
   },
   {
    "duration": 17,
    "start_time": "2021-07-07T17:07:54.144Z"
   },
   {
    "duration": 14,
    "start_time": "2021-07-07T17:08:14.357Z"
   },
   {
    "duration": 616,
    "start_time": "2021-07-07T17:08:45.254Z"
   },
   {
    "duration": 178,
    "start_time": "2021-07-07T17:08:45.872Z"
   },
   {
    "duration": 60,
    "start_time": "2021-07-07T17:08:46.054Z"
   },
   {
    "duration": 3,
    "start_time": "2021-07-07T17:08:46.116Z"
   },
   {
    "duration": 26,
    "start_time": "2021-07-07T17:08:46.121Z"
   },
   {
    "duration": 7,
    "start_time": "2021-07-07T17:08:46.149Z"
   },
   {
    "duration": 17,
    "start_time": "2021-07-07T17:08:46.158Z"
   },
   {
    "duration": 14,
    "start_time": "2021-07-07T17:08:46.176Z"
   },
   {
    "duration": 17,
    "start_time": "2021-07-07T17:08:46.193Z"
   },
   {
    "duration": 9,
    "start_time": "2021-07-07T17:08:46.211Z"
   },
   {
    "duration": 21,
    "start_time": "2021-07-07T17:08:46.221Z"
   },
   {
    "duration": 49,
    "start_time": "2021-07-07T17:08:46.244Z"
   },
   {
    "duration": 24,
    "start_time": "2021-07-07T17:08:46.295Z"
   },
   {
    "duration": 22,
    "start_time": "2021-07-07T17:08:46.321Z"
   },
   {
    "duration": 6,
    "start_time": "2021-07-07T17:08:46.345Z"
   },
   {
    "duration": 5,
    "start_time": "2021-07-07T17:08:46.353Z"
   },
   {
    "duration": 13,
    "start_time": "2021-07-07T17:08:46.386Z"
   },
   {
    "duration": 12,
    "start_time": "2021-07-07T17:08:46.402Z"
   },
   {
    "duration": 10,
    "start_time": "2021-07-07T17:08:46.415Z"
   },
   {
    "duration": 7,
    "start_time": "2021-07-07T17:08:46.427Z"
   },
   {
    "duration": 8,
    "start_time": "2021-07-07T17:08:46.435Z"
   },
   {
    "duration": 68,
    "start_time": "2021-07-07T17:08:46.446Z"
   },
   {
    "duration": 13,
    "start_time": "2021-07-07T17:08:46.516Z"
   },
   {
    "duration": 78,
    "start_time": "2021-07-07T17:08:46.530Z"
   },
   {
    "duration": 40,
    "start_time": "2021-07-07T17:09:08.185Z"
   },
   {
    "duration": 16,
    "start_time": "2021-07-07T17:09:19.324Z"
   },
   {
    "duration": 21,
    "start_time": "2021-07-07T17:09:23.290Z"
   },
   {
    "duration": 13,
    "start_time": "2021-07-07T17:09:54.812Z"
   },
   {
    "duration": 13,
    "start_time": "2021-07-07T17:10:02.039Z"
   },
   {
    "duration": 10,
    "start_time": "2021-07-07T17:10:29.632Z"
   },
   {
    "duration": 13,
    "start_time": "2021-07-07T17:10:52.372Z"
   },
   {
    "duration": 13,
    "start_time": "2021-07-07T17:11:17.270Z"
   },
   {
    "duration": 13,
    "start_time": "2021-07-07T17:14:59.284Z"
   },
   {
    "duration": 547,
    "start_time": "2021-07-07T17:18:52.403Z"
   },
   {
    "duration": 163,
    "start_time": "2021-07-07T17:18:52.952Z"
   },
   {
    "duration": 44,
    "start_time": "2021-07-07T17:18:53.117Z"
   },
   {
    "duration": 3,
    "start_time": "2021-07-07T17:18:53.162Z"
   },
   {
    "duration": 26,
    "start_time": "2021-07-07T17:18:53.167Z"
   },
   {
    "duration": 6,
    "start_time": "2021-07-07T17:18:53.195Z"
   },
   {
    "duration": 15,
    "start_time": "2021-07-07T17:18:53.203Z"
   },
   {
    "duration": 5,
    "start_time": "2021-07-07T17:18:53.220Z"
   },
   {
    "duration": 11,
    "start_time": "2021-07-07T17:18:53.228Z"
   },
   {
    "duration": 9,
    "start_time": "2021-07-07T17:18:53.241Z"
   },
   {
    "duration": 41,
    "start_time": "2021-07-07T17:18:53.252Z"
   },
   {
    "duration": 33,
    "start_time": "2021-07-07T17:18:53.295Z"
   },
   {
    "duration": 19,
    "start_time": "2021-07-07T17:18:53.330Z"
   },
   {
    "duration": 49,
    "start_time": "2021-07-07T17:18:53.350Z"
   },
   {
    "duration": 5,
    "start_time": "2021-07-07T17:18:53.401Z"
   },
   {
    "duration": 5,
    "start_time": "2021-07-07T17:18:53.408Z"
   },
   {
    "duration": 11,
    "start_time": "2021-07-07T17:18:53.414Z"
   },
   {
    "duration": 9,
    "start_time": "2021-07-07T17:18:53.427Z"
   },
   {
    "duration": 10,
    "start_time": "2021-07-07T17:18:53.437Z"
   },
   {
    "duration": 39,
    "start_time": "2021-07-07T17:18:53.448Z"
   },
   {
    "duration": 26,
    "start_time": "2021-07-07T17:18:55.799Z"
   },
   {
    "duration": 598,
    "start_time": "2021-07-07T17:20:17.862Z"
   },
   {
    "duration": 161,
    "start_time": "2021-07-07T17:20:18.462Z"
   },
   {
    "duration": 45,
    "start_time": "2021-07-07T17:20:18.626Z"
   },
   {
    "duration": 4,
    "start_time": "2021-07-07T17:20:18.673Z"
   },
   {
    "duration": 38,
    "start_time": "2021-07-07T17:20:26.877Z"
   },
   {
    "duration": 7,
    "start_time": "2021-07-07T17:20:37.405Z"
   },
   {
    "duration": 19,
    "start_time": "2021-07-07T17:20:51.534Z"
   },
   {
    "duration": 5,
    "start_time": "2021-07-07T17:20:57.228Z"
   },
   {
    "duration": 7,
    "start_time": "2021-07-07T17:21:08.235Z"
   },
   {
    "duration": 19,
    "start_time": "2021-07-07T17:21:42.158Z"
   },
   {
    "duration": 14,
    "start_time": "2021-07-07T17:21:50.225Z"
   },
   {
    "duration": 22,
    "start_time": "2021-07-07T17:22:54.104Z"
   },
   {
    "duration": 5,
    "start_time": "2021-07-07T17:22:56.371Z"
   },
   {
    "duration": 14,
    "start_time": "2021-07-07T17:22:58.316Z"
   },
   {
    "duration": 5,
    "start_time": "2021-07-07T17:22:58.493Z"
   },
   {
    "duration": 35,
    "start_time": "2021-07-07T17:22:59.666Z"
   },
   {
    "duration": 6,
    "start_time": "2021-07-07T17:23:02.410Z"
   },
   {
    "duration": 611,
    "start_time": "2021-07-07T17:24:59.664Z"
   },
   {
    "duration": 178,
    "start_time": "2021-07-07T17:25:01.945Z"
   },
   {
    "duration": 47,
    "start_time": "2021-07-07T17:25:02.125Z"
   },
   {
    "duration": 2,
    "start_time": "2021-07-07T17:25:07.903Z"
   },
   {
    "duration": 254,
    "start_time": "2021-07-07T17:25:08.232Z"
   },
   {
    "duration": 182,
    "start_time": "2021-07-07T17:25:08.671Z"
   },
   {
    "duration": 6,
    "start_time": "2021-07-07T17:25:13.104Z"
   },
   {
    "duration": 36,
    "start_time": "2021-07-07T17:25:13.662Z"
   },
   {
    "duration": 7,
    "start_time": "2021-07-07T17:25:14.528Z"
   },
   {
    "duration": 24,
    "start_time": "2021-07-07T17:25:27.982Z"
   },
   {
    "duration": 3,
    "start_time": "2021-07-07T17:25:48.982Z"
   },
   {
    "duration": 165,
    "start_time": "2021-07-07T17:25:48.987Z"
   },
   {
    "duration": 50,
    "start_time": "2021-07-07T17:25:49.154Z"
   },
   {
    "duration": 4,
    "start_time": "2021-07-07T17:25:49.206Z"
   },
   {
    "duration": 26,
    "start_time": "2021-07-07T17:25:49.212Z"
   },
   {
    "duration": 7,
    "start_time": "2021-07-07T17:25:49.240Z"
   },
   {
    "duration": 16,
    "start_time": "2021-07-07T17:25:49.249Z"
   },
   {
    "duration": 22,
    "start_time": "2021-07-07T17:25:49.266Z"
   },
   {
    "duration": 16,
    "start_time": "2021-07-07T17:25:49.291Z"
   },
   {
    "duration": 9,
    "start_time": "2021-07-07T17:25:49.309Z"
   },
   {
    "duration": 7,
    "start_time": "2021-07-07T17:25:49.319Z"
   },
   {
    "duration": 28,
    "start_time": "2021-07-07T17:25:49.328Z"
   },
   {
    "duration": 44,
    "start_time": "2021-07-07T17:25:49.357Z"
   },
   {
    "duration": 22,
    "start_time": "2021-07-07T17:25:49.403Z"
   },
   {
    "duration": 7,
    "start_time": "2021-07-07T17:25:49.427Z"
   },
   {
    "duration": 3,
    "start_time": "2021-07-07T17:25:49.436Z"
   },
   {
    "duration": 44,
    "start_time": "2021-07-07T17:25:49.441Z"
   },
   {
    "duration": 12,
    "start_time": "2021-07-07T17:25:49.488Z"
   },
   {
    "duration": 13,
    "start_time": "2021-07-07T17:25:49.502Z"
   },
   {
    "duration": 10,
    "start_time": "2021-07-07T17:25:49.516Z"
   },
   {
    "duration": 62,
    "start_time": "2021-07-07T17:25:49.527Z"
   },
   {
    "duration": 26,
    "start_time": "2021-07-07T17:26:51.809Z"
   },
   {
    "duration": 26,
    "start_time": "2021-07-07T17:26:55.759Z"
   },
   {
    "duration": 26,
    "start_time": "2021-07-07T17:27:04.501Z"
   },
   {
    "duration": 25,
    "start_time": "2021-07-07T17:28:24.859Z"
   },
   {
    "duration": 21,
    "start_time": "2021-07-07T17:28:55.250Z"
   },
   {
    "duration": 21,
    "start_time": "2021-07-07T17:28:58.885Z"
   },
   {
    "duration": 7,
    "start_time": "2021-07-07T17:45:40.972Z"
   },
   {
    "duration": 13,
    "start_time": "2021-07-07T17:45:42.529Z"
   },
   {
    "duration": 27,
    "start_time": "2021-07-07T17:45:51.026Z"
   },
   {
    "duration": 518,
    "start_time": "2021-07-07T17:46:15.532Z"
   },
   {
    "duration": 235,
    "start_time": "2021-07-07T17:46:16.053Z"
   },
   {
    "duration": 80,
    "start_time": "2021-07-07T17:46:16.292Z"
   },
   {
    "duration": 5,
    "start_time": "2021-07-07T17:46:16.373Z"
   },
   {
    "duration": 26,
    "start_time": "2021-07-07T17:46:16.380Z"
   },
   {
    "duration": 7,
    "start_time": "2021-07-07T17:46:16.408Z"
   },
   {
    "duration": 16,
    "start_time": "2021-07-07T17:46:16.418Z"
   },
   {
    "duration": 5,
    "start_time": "2021-07-07T17:46:16.436Z"
   },
   {
    "duration": 13,
    "start_time": "2021-07-07T17:46:16.442Z"
   },
   {
    "duration": 35,
    "start_time": "2021-07-07T17:46:16.456Z"
   },
   {
    "duration": 8,
    "start_time": "2021-07-07T17:46:16.493Z"
   },
   {
    "duration": 28,
    "start_time": "2021-07-07T17:46:16.502Z"
   },
   {
    "duration": 17,
    "start_time": "2021-07-07T17:46:16.532Z"
   },
   {
    "duration": 44,
    "start_time": "2021-07-07T17:46:16.551Z"
   },
   {
    "duration": 6,
    "start_time": "2021-07-07T17:46:16.597Z"
   },
   {
    "duration": 4,
    "start_time": "2021-07-07T17:46:16.605Z"
   },
   {
    "duration": 9,
    "start_time": "2021-07-07T17:46:16.610Z"
   },
   {
    "duration": 9,
    "start_time": "2021-07-07T17:46:16.621Z"
   },
   {
    "duration": 10,
    "start_time": "2021-07-07T17:46:16.632Z"
   },
   {
    "duration": 43,
    "start_time": "2021-07-07T17:46:16.644Z"
   },
   {
    "duration": 26,
    "start_time": "2021-07-07T17:46:16.689Z"
   },
   {
    "duration": 19,
    "start_time": "2021-07-07T17:46:16.718Z"
   },
   {
    "duration": 8,
    "start_time": "2021-07-07T17:46:16.738Z"
   },
   {
    "duration": 43,
    "start_time": "2021-07-07T17:46:16.747Z"
   },
   {
    "duration": 19,
    "start_time": "2021-07-07T17:46:16.791Z"
   },
   {
    "duration": 9,
    "start_time": "2021-07-07T17:46:16.812Z"
   },
   {
    "duration": 60,
    "start_time": "2021-07-07T17:46:16.822Z"
   },
   {
    "duration": -8,
    "start_time": "2021-07-07T17:46:16.892Z"
   },
   {
    "duration": 12,
    "start_time": "2021-07-07T17:48:47.707Z"
   },
   {
    "duration": 553,
    "start_time": "2021-07-07T18:10:09.350Z"
   },
   {
    "duration": 230,
    "start_time": "2021-07-07T18:10:09.905Z"
   },
   {
    "duration": 97,
    "start_time": "2021-07-07T18:10:10.137Z"
   },
   {
    "duration": 5,
    "start_time": "2021-07-07T18:10:10.236Z"
   },
   {
    "duration": 29,
    "start_time": "2021-07-07T18:10:10.242Z"
   },
   {
    "duration": 7,
    "start_time": "2021-07-07T18:10:10.272Z"
   },
   {
    "duration": 15,
    "start_time": "2021-07-07T18:10:10.281Z"
   },
   {
    "duration": 4,
    "start_time": "2021-07-07T18:10:10.299Z"
   },
   {
    "duration": 14,
    "start_time": "2021-07-07T18:10:10.305Z"
   },
   {
    "duration": 8,
    "start_time": "2021-07-07T18:10:10.321Z"
   },
   {
    "duration": 8,
    "start_time": "2021-07-07T18:10:10.331Z"
   },
   {
    "duration": 56,
    "start_time": "2021-07-07T18:10:10.341Z"
   },
   {
    "duration": 19,
    "start_time": "2021-07-07T18:10:10.399Z"
   },
   {
    "duration": 23,
    "start_time": "2021-07-07T18:10:10.419Z"
   },
   {
    "duration": 6,
    "start_time": "2021-07-07T18:10:10.444Z"
   },
   {
    "duration": 9,
    "start_time": "2021-07-07T18:10:10.451Z"
   },
   {
    "duration": 30,
    "start_time": "2021-07-07T18:10:10.462Z"
   },
   {
    "duration": 9,
    "start_time": "2021-07-07T18:10:10.494Z"
   },
   {
    "duration": 14,
    "start_time": "2021-07-07T18:10:10.505Z"
   },
   {
    "duration": 7,
    "start_time": "2021-07-07T18:10:10.521Z"
   },
   {
    "duration": 26,
    "start_time": "2021-07-07T18:10:10.530Z"
   },
   {
    "duration": 44,
    "start_time": "2021-07-07T18:10:10.558Z"
   },
   {
    "duration": 7,
    "start_time": "2021-07-07T18:10:10.605Z"
   },
   {
    "duration": 11,
    "start_time": "2021-07-07T18:10:10.614Z"
   },
   {
    "duration": 19,
    "start_time": "2021-07-07T18:10:10.626Z"
   },
   {
    "duration": 44,
    "start_time": "2021-07-07T18:10:10.646Z"
   },
   {
    "duration": 516,
    "start_time": "2021-07-07T18:14:00.826Z"
   },
   {
    "duration": 230,
    "start_time": "2021-07-07T18:14:01.344Z"
   },
   {
    "duration": 105,
    "start_time": "2021-07-07T18:14:01.576Z"
   },
   {
    "duration": 5,
    "start_time": "2021-07-07T18:14:01.683Z"
   },
   {
    "duration": 46,
    "start_time": "2021-07-07T18:14:01.690Z"
   },
   {
    "duration": 7,
    "start_time": "2021-07-07T18:14:01.738Z"
   },
   {
    "duration": 20,
    "start_time": "2021-07-07T18:14:01.747Z"
   },
   {
    "duration": 16,
    "start_time": "2021-07-07T18:14:01.769Z"
   },
   {
    "duration": 14,
    "start_time": "2021-07-07T18:14:01.787Z"
   },
   {
    "duration": 15,
    "start_time": "2021-07-07T18:14:01.803Z"
   },
   {
    "duration": 12,
    "start_time": "2021-07-07T18:14:01.820Z"
   },
   {
    "duration": 35,
    "start_time": "2021-07-07T18:14:01.833Z"
   },
   {
    "duration": 31,
    "start_time": "2021-07-07T18:14:01.869Z"
   },
   {
    "duration": 37,
    "start_time": "2021-07-07T18:14:01.902Z"
   },
   {
    "duration": 8,
    "start_time": "2021-07-07T18:14:01.942Z"
   },
   {
    "duration": 16,
    "start_time": "2021-07-07T18:14:01.952Z"
   },
   {
    "duration": 13,
    "start_time": "2021-07-07T18:14:01.970Z"
   },
   {
    "duration": 32,
    "start_time": "2021-07-07T18:14:01.985Z"
   },
   {
    "duration": 11,
    "start_time": "2021-07-07T18:14:02.019Z"
   },
   {
    "duration": 22,
    "start_time": "2021-07-07T18:14:02.031Z"
   },
   {
    "duration": 27,
    "start_time": "2021-07-07T18:14:02.055Z"
   },
   {
    "duration": 18,
    "start_time": "2021-07-07T18:14:02.084Z"
   },
   {
    "duration": 18,
    "start_time": "2021-07-07T18:14:02.106Z"
   },
   {
    "duration": 11,
    "start_time": "2021-07-07T18:14:02.126Z"
   },
   {
    "duration": 21,
    "start_time": "2021-07-07T18:14:02.138Z"
   },
   {
    "duration": 32,
    "start_time": "2021-07-07T18:14:02.161Z"
   },
   {
    "duration": 28,
    "start_time": "2021-07-07T18:14:44.295Z"
   },
   {
    "duration": 6,
    "start_time": "2021-07-07T18:15:05.834Z"
   },
   {
    "duration": 511,
    "start_time": "2021-07-07T18:15:41.541Z"
   },
   {
    "duration": 183,
    "start_time": "2021-07-07T18:15:42.054Z"
   },
   {
    "duration": 50,
    "start_time": "2021-07-07T18:15:42.239Z"
   },
   {
    "duration": 5,
    "start_time": "2021-07-07T18:15:42.291Z"
   },
   {
    "duration": 48,
    "start_time": "2021-07-07T18:15:42.297Z"
   },
   {
    "duration": 8,
    "start_time": "2021-07-07T18:15:42.346Z"
   },
   {
    "duration": 17,
    "start_time": "2021-07-07T18:15:42.356Z"
   },
   {
    "duration": 15,
    "start_time": "2021-07-07T18:15:42.375Z"
   },
   {
    "duration": 12,
    "start_time": "2021-07-07T18:15:42.392Z"
   },
   {
    "duration": 7,
    "start_time": "2021-07-07T18:15:42.406Z"
   },
   {
    "duration": 7,
    "start_time": "2021-07-07T18:15:42.415Z"
   },
   {
    "duration": 29,
    "start_time": "2021-07-07T18:15:42.423Z"
   },
   {
    "duration": 43,
    "start_time": "2021-07-07T18:15:42.453Z"
   },
   {
    "duration": 18,
    "start_time": "2021-07-07T18:15:42.497Z"
   },
   {
    "duration": 6,
    "start_time": "2021-07-07T18:15:42.516Z"
   },
   {
    "duration": 3,
    "start_time": "2021-07-07T18:15:42.523Z"
   },
   {
    "duration": 18,
    "start_time": "2021-07-07T18:15:42.528Z"
   },
   {
    "duration": 10,
    "start_time": "2021-07-07T18:15:42.547Z"
   },
   {
    "duration": 36,
    "start_time": "2021-07-07T18:15:42.559Z"
   },
   {
    "duration": 8,
    "start_time": "2021-07-07T18:15:42.597Z"
   },
   {
    "duration": 28,
    "start_time": "2021-07-07T18:15:42.606Z"
   },
   {
    "duration": 52,
    "start_time": "2021-07-07T18:15:42.635Z"
   },
   {
    "duration": 7,
    "start_time": "2021-07-07T18:15:42.690Z"
   },
   {
    "duration": 10,
    "start_time": "2021-07-07T18:15:42.699Z"
   },
   {
    "duration": 19,
    "start_time": "2021-07-07T18:15:42.711Z"
   },
   {
    "duration": 9,
    "start_time": "2021-07-07T18:15:42.732Z"
   },
   {
    "duration": 5,
    "start_time": "2021-07-07T18:15:42.743Z"
   },
   {
    "duration": 1450,
    "start_time": "2021-07-07T18:15:51.984Z"
   },
   {
    "duration": 161,
    "start_time": "2021-07-07T18:15:53.435Z"
   },
   {
    "duration": 124,
    "start_time": "2021-07-07T18:15:53.598Z"
   },
   {
    "duration": 5,
    "start_time": "2021-07-07T18:15:53.724Z"
   },
   {
    "duration": 34,
    "start_time": "2021-07-07T18:15:53.730Z"
   },
   {
    "duration": 7,
    "start_time": "2021-07-07T18:15:53.765Z"
   },
   {
    "duration": 15,
    "start_time": "2021-07-07T18:15:53.773Z"
   },
   {
    "duration": 5,
    "start_time": "2021-07-07T18:15:53.791Z"
   },
   {
    "duration": 19,
    "start_time": "2021-07-07T18:15:53.798Z"
   },
   {
    "duration": 9,
    "start_time": "2021-07-07T18:15:53.818Z"
   },
   {
    "duration": 19,
    "start_time": "2021-07-07T18:15:53.828Z"
   },
   {
    "duration": 27,
    "start_time": "2021-07-07T18:15:53.848Z"
   },
   {
    "duration": 16,
    "start_time": "2021-07-07T18:15:53.884Z"
   },
   {
    "duration": 29,
    "start_time": "2021-07-07T18:15:53.901Z"
   },
   {
    "duration": 5,
    "start_time": "2021-07-07T18:15:53.932Z"
   },
   {
    "duration": 15,
    "start_time": "2021-07-07T18:15:53.939Z"
   },
   {
    "duration": 13,
    "start_time": "2021-07-07T18:15:53.956Z"
   },
   {
    "duration": 20,
    "start_time": "2021-07-07T18:15:53.971Z"
   },
   {
    "duration": 14,
    "start_time": "2021-07-07T18:15:53.992Z"
   },
   {
    "duration": 9,
    "start_time": "2021-07-07T18:15:54.009Z"
   },
   {
    "duration": 28,
    "start_time": "2021-07-07T18:15:54.020Z"
   },
   {
    "duration": 50,
    "start_time": "2021-07-07T18:15:54.051Z"
   },
   {
    "duration": 8,
    "start_time": "2021-07-07T18:15:54.105Z"
   },
   {
    "duration": 11,
    "start_time": "2021-07-07T18:15:54.115Z"
   },
   {
    "duration": 20,
    "start_time": "2021-07-07T18:15:54.128Z"
   },
   {
    "duration": 13,
    "start_time": "2021-07-07T18:15:54.184Z"
   },
   {
    "duration": 7,
    "start_time": "2021-07-07T18:15:54.199Z"
   },
   {
    "duration": 7,
    "start_time": "2021-07-07T18:17:08.042Z"
   },
   {
    "duration": 8,
    "start_time": "2021-07-07T18:17:21.008Z"
   },
   {
    "duration": 7,
    "start_time": "2021-07-07T18:17:29.003Z"
   },
   {
    "duration": 8,
    "start_time": "2021-07-07T18:17:32.492Z"
   },
   {
    "duration": 9,
    "start_time": "2021-07-07T18:17:41.758Z"
   },
   {
    "duration": 255,
    "start_time": "2021-07-07T18:20:20.897Z"
   },
   {
    "duration": 173,
    "start_time": "2021-07-07T18:20:26.636Z"
   },
   {
    "duration": 7,
    "start_time": "2021-07-07T18:21:47.164Z"
   },
   {
    "duration": 254,
    "start_time": "2021-07-07T18:23:08.703Z"
   },
   {
    "duration": 21,
    "start_time": "2021-07-07T18:23:22.506Z"
   },
   {
    "duration": 315,
    "start_time": "2021-07-07T18:25:54.801Z"
   },
   {
    "duration": 34,
    "start_time": "2021-07-07T18:26:51.817Z"
   },
   {
    "duration": 327,
    "start_time": "2021-07-07T18:26:56.147Z"
   },
   {
    "duration": 342,
    "start_time": "2021-07-07T18:27:15.887Z"
   },
   {
    "duration": 302,
    "start_time": "2021-07-07T18:28:18.569Z"
   },
   {
    "duration": 226,
    "start_time": "2021-07-07T18:29:20.879Z"
   },
   {
    "duration": 207,
    "start_time": "2021-07-07T18:29:58.114Z"
   },
   {
    "duration": 140,
    "start_time": "2021-07-07T18:32:04.372Z"
   },
   {
    "duration": 158,
    "start_time": "2021-07-07T18:32:32.508Z"
   },
   {
    "duration": 145,
    "start_time": "2021-07-07T18:32:41.365Z"
   },
   {
    "duration": 132,
    "start_time": "2021-07-07T18:32:45.199Z"
   },
   {
    "duration": 11,
    "start_time": "2021-07-07T18:35:24.679Z"
   },
   {
    "duration": 268,
    "start_time": "2021-07-07T18:36:16.145Z"
   },
   {
    "duration": 227,
    "start_time": "2021-07-07T18:37:04.918Z"
   },
   {
    "duration": 3,
    "start_time": "2021-07-07T18:37:33.012Z"
   },
   {
    "duration": 671,
    "start_time": "2021-07-07T18:37:38.295Z"
   },
   {
    "duration": 54,
    "start_time": "2021-07-07T18:37:53.406Z"
   },
   {
    "duration": 631,
    "start_time": "2021-07-07T18:37:56.463Z"
   },
   {
    "duration": 19,
    "start_time": "2021-07-07T18:39:40.535Z"
   },
   {
    "duration": 20,
    "start_time": "2021-07-07T18:40:12.236Z"
   },
   {
    "duration": 633,
    "start_time": "2021-07-07T18:42:00.398Z"
   },
   {
    "duration": 218,
    "start_time": "2021-07-07T18:42:01.033Z"
   },
   {
    "duration": 49,
    "start_time": "2021-07-07T18:42:01.253Z"
   },
   {
    "duration": 5,
    "start_time": "2021-07-07T18:42:01.303Z"
   },
   {
    "duration": 27,
    "start_time": "2021-07-07T18:42:01.310Z"
   },
   {
    "duration": 8,
    "start_time": "2021-07-07T18:42:01.339Z"
   },
   {
    "duration": 20,
    "start_time": "2021-07-07T18:42:01.348Z"
   },
   {
    "duration": 6,
    "start_time": "2021-07-07T18:42:01.386Z"
   },
   {
    "duration": 16,
    "start_time": "2021-07-07T18:42:01.394Z"
   },
   {
    "duration": 9,
    "start_time": "2021-07-07T18:42:01.411Z"
   },
   {
    "duration": 11,
    "start_time": "2021-07-07T18:42:01.421Z"
   },
   {
    "duration": 31,
    "start_time": "2021-07-07T18:42:01.434Z"
   },
   {
    "duration": 18,
    "start_time": "2021-07-07T18:42:01.485Z"
   },
   {
    "duration": 23,
    "start_time": "2021-07-07T18:42:01.505Z"
   },
   {
    "duration": 6,
    "start_time": "2021-07-07T18:42:01.530Z"
   },
   {
    "duration": 10,
    "start_time": "2021-07-07T18:42:01.538Z"
   },
   {
    "duration": 13,
    "start_time": "2021-07-07T18:42:01.550Z"
   },
   {
    "duration": 24,
    "start_time": "2021-07-07T18:42:01.564Z"
   },
   {
    "duration": 20,
    "start_time": "2021-07-07T18:42:01.590Z"
   },
   {
    "duration": 8,
    "start_time": "2021-07-07T18:42:01.611Z"
   },
   {
    "duration": 31,
    "start_time": "2021-07-07T18:42:01.620Z"
   },
   {
    "duration": 39,
    "start_time": "2021-07-07T18:42:01.653Z"
   },
   {
    "duration": 8,
    "start_time": "2021-07-07T18:42:01.696Z"
   },
   {
    "duration": 13,
    "start_time": "2021-07-07T18:42:01.705Z"
   },
   {
    "duration": 20,
    "start_time": "2021-07-07T18:42:01.720Z"
   },
   {
    "duration": 12,
    "start_time": "2021-07-07T18:42:01.741Z"
   },
   {
    "duration": 35,
    "start_time": "2021-07-07T18:42:01.755Z"
   },
   {
    "duration": 14,
    "start_time": "2021-07-07T18:42:01.792Z"
   },
   {
    "duration": 188,
    "start_time": "2021-07-07T18:42:01.808Z"
   },
   {
    "duration": 19,
    "start_time": "2021-07-07T18:42:01.998Z"
   },
   {
    "duration": 175,
    "start_time": "2021-07-07T18:42:02.019Z"
   },
   {
    "duration": 134,
    "start_time": "2021-07-07T18:42:02.196Z"
   },
   {
    "duration": 10,
    "start_time": "2021-07-07T18:42:02.331Z"
   },
   {
    "duration": 19,
    "start_time": "2021-07-07T18:42:02.343Z"
   },
   {
    "duration": 628,
    "start_time": "2021-07-07T18:46:30.701Z"
   },
   {
    "duration": 183,
    "start_time": "2021-07-07T18:46:31.331Z"
   },
   {
    "duration": 48,
    "start_time": "2021-07-07T18:46:31.516Z"
   },
   {
    "duration": 5,
    "start_time": "2021-07-07T18:46:31.566Z"
   },
   {
    "duration": 28,
    "start_time": "2021-07-07T18:46:31.572Z"
   },
   {
    "duration": 8,
    "start_time": "2021-07-07T18:46:31.602Z"
   },
   {
    "duration": 19,
    "start_time": "2021-07-07T18:46:31.611Z"
   },
   {
    "duration": 6,
    "start_time": "2021-07-07T18:46:31.633Z"
   },
   {
    "duration": 17,
    "start_time": "2021-07-07T18:46:31.642Z"
   },
   {
    "duration": 10,
    "start_time": "2021-07-07T18:46:31.684Z"
   },
   {
    "duration": 9,
    "start_time": "2021-07-07T18:46:31.695Z"
   },
   {
    "duration": 28,
    "start_time": "2021-07-07T18:46:31.705Z"
   },
   {
    "duration": 18,
    "start_time": "2021-07-07T18:46:31.735Z"
   },
   {
    "duration": 48,
    "start_time": "2021-07-07T18:46:31.755Z"
   },
   {
    "duration": 6,
    "start_time": "2021-07-07T18:46:31.804Z"
   },
   {
    "duration": 4,
    "start_time": "2021-07-07T18:46:31.812Z"
   },
   {
    "duration": 9,
    "start_time": "2021-07-07T18:46:31.817Z"
   },
   {
    "duration": 10,
    "start_time": "2021-07-07T18:46:31.827Z"
   },
   {
    "duration": 12,
    "start_time": "2021-07-07T18:46:31.838Z"
   },
   {
    "duration": 39,
    "start_time": "2021-07-07T18:46:31.851Z"
   },
   {
    "duration": 24,
    "start_time": "2021-07-07T18:46:31.892Z"
   },
   {
    "duration": 15,
    "start_time": "2021-07-07T18:46:31.918Z"
   },
   {
    "duration": 7,
    "start_time": "2021-07-07T18:46:31.936Z"
   },
   {
    "duration": 8,
    "start_time": "2021-07-07T18:46:31.944Z"
   },
   {
    "duration": 19,
    "start_time": "2021-07-07T18:46:31.984Z"
   },
   {
    "duration": 10,
    "start_time": "2021-07-07T18:46:32.004Z"
   },
   {
    "duration": 5,
    "start_time": "2021-07-07T18:46:32.016Z"
   },
   {
    "duration": 9,
    "start_time": "2021-07-07T18:46:32.023Z"
   },
   {
    "duration": 199,
    "start_time": "2021-07-07T18:46:32.033Z"
   },
   {
    "duration": 19,
    "start_time": "2021-07-07T18:46:32.234Z"
   },
   {
    "duration": 159,
    "start_time": "2021-07-07T18:46:32.255Z"
   },
   {
    "duration": 134,
    "start_time": "2021-07-07T18:46:32.416Z"
   },
   {
    "duration": 10,
    "start_time": "2021-07-07T18:46:32.552Z"
   },
   {
    "duration": 34,
    "start_time": "2021-07-07T18:46:32.563Z"
   },
   {
    "duration": 1039,
    "start_time": "2021-07-08T08:41:09.419Z"
   },
   {
    "duration": 333,
    "start_time": "2021-07-08T08:41:10.459Z"
   },
   {
    "duration": 173,
    "start_time": "2021-07-08T08:41:10.794Z"
   },
   {
    "duration": 5,
    "start_time": "2021-07-08T08:41:10.968Z"
   },
   {
    "duration": 25,
    "start_time": "2021-07-08T08:41:10.975Z"
   },
   {
    "duration": 9,
    "start_time": "2021-07-08T08:41:11.002Z"
   },
   {
    "duration": 18,
    "start_time": "2021-07-08T08:41:11.013Z"
   },
   {
    "duration": 6,
    "start_time": "2021-07-08T08:41:11.033Z"
   },
   {
    "duration": 44,
    "start_time": "2021-07-08T08:41:11.042Z"
   },
   {
    "duration": 10,
    "start_time": "2021-07-08T08:41:11.088Z"
   },
   {
    "duration": 9,
    "start_time": "2021-07-08T08:41:11.100Z"
   },
   {
    "duration": 27,
    "start_time": "2021-07-08T08:41:11.111Z"
   },
   {
    "duration": 46,
    "start_time": "2021-07-08T08:41:11.140Z"
   },
   {
    "duration": 17,
    "start_time": "2021-07-08T08:41:11.187Z"
   },
   {
    "duration": 6,
    "start_time": "2021-07-08T08:41:11.206Z"
   },
   {
    "duration": 5,
    "start_time": "2021-07-08T08:41:11.213Z"
   },
   {
    "duration": 10,
    "start_time": "2021-07-08T08:41:11.219Z"
   },
   {
    "duration": 9,
    "start_time": "2021-07-08T08:41:11.230Z"
   },
   {
    "duration": 45,
    "start_time": "2021-07-08T08:41:11.241Z"
   },
   {
    "duration": 7,
    "start_time": "2021-07-08T08:41:11.287Z"
   },
   {
    "duration": 24,
    "start_time": "2021-07-08T08:41:11.296Z"
   },
   {
    "duration": 16,
    "start_time": "2021-07-08T08:41:11.322Z"
   },
   {
    "duration": 7,
    "start_time": "2021-07-08T08:41:11.341Z"
   },
   {
    "duration": 41,
    "start_time": "2021-07-08T08:41:11.349Z"
   },
   {
    "duration": 17,
    "start_time": "2021-07-08T08:41:11.391Z"
   },
   {
    "duration": 9,
    "start_time": "2021-07-08T08:41:11.410Z"
   },
   {
    "duration": 5,
    "start_time": "2021-07-08T08:41:11.421Z"
   },
   {
    "duration": 6,
    "start_time": "2021-07-08T08:41:11.428Z"
   },
   {
    "duration": 198,
    "start_time": "2021-07-08T08:41:11.435Z"
   },
   {
    "duration": 18,
    "start_time": "2021-07-08T08:41:11.635Z"
   },
   {
    "duration": 155,
    "start_time": "2021-07-08T08:41:11.655Z"
   },
   {
    "duration": 138,
    "start_time": "2021-07-08T08:41:11.811Z"
   },
   {
    "duration": 10,
    "start_time": "2021-07-08T08:41:11.950Z"
   },
   {
    "duration": 29,
    "start_time": "2021-07-08T08:41:11.961Z"
   },
   {
    "duration": 171,
    "start_time": "2021-07-08T08:47:44.522Z"
   },
   {
    "duration": 124,
    "start_time": "2021-07-08T08:47:46.872Z"
   },
   {
    "duration": 191,
    "start_time": "2021-07-08T08:47:58.148Z"
   },
   {
    "duration": 191,
    "start_time": "2021-07-08T08:48:07.412Z"
   },
   {
    "duration": 261,
    "start_time": "2021-07-08T08:48:10.385Z"
   },
   {
    "duration": 255,
    "start_time": "2021-07-08T08:48:14.494Z"
   },
   {
    "duration": 219,
    "start_time": "2021-07-08T08:48:22.752Z"
   },
   {
    "duration": 173,
    "start_time": "2021-07-08T08:49:06.395Z"
   },
   {
    "duration": 180,
    "start_time": "2021-07-08T08:49:21.011Z"
   },
   {
    "duration": 6,
    "start_time": "2021-07-08T08:50:31.697Z"
   },
   {
    "duration": 10,
    "start_time": "2021-07-08T08:50:47.394Z"
   },
   {
    "duration": 11,
    "start_time": "2021-07-08T08:53:49.332Z"
   },
   {
    "duration": 171,
    "start_time": "2021-07-08T08:54:28.408Z"
   },
   {
    "duration": 636,
    "start_time": "2021-07-08T09:02:48.385Z"
   },
   {
    "duration": 227,
    "start_time": "2021-07-08T09:02:49.023Z"
   },
   {
    "duration": 104,
    "start_time": "2021-07-08T09:02:49.252Z"
   },
   {
    "duration": 5,
    "start_time": "2021-07-08T09:02:49.358Z"
   },
   {
    "duration": 27,
    "start_time": "2021-07-08T09:02:49.365Z"
   },
   {
    "duration": 8,
    "start_time": "2021-07-08T09:02:49.394Z"
   },
   {
    "duration": 18,
    "start_time": "2021-07-08T09:02:49.404Z"
   },
   {
    "duration": 6,
    "start_time": "2021-07-08T09:02:49.424Z"
   },
   {
    "duration": 11,
    "start_time": "2021-07-08T09:02:49.433Z"
   },
   {
    "duration": 13,
    "start_time": "2021-07-08T09:02:49.485Z"
   },
   {
    "duration": 9,
    "start_time": "2021-07-08T09:02:49.500Z"
   },
   {
    "duration": 38,
    "start_time": "2021-07-08T09:02:49.511Z"
   },
   {
    "duration": 42,
    "start_time": "2021-07-08T09:02:49.551Z"
   },
   {
    "duration": 21,
    "start_time": "2021-07-08T09:02:49.594Z"
   },
   {
    "duration": 6,
    "start_time": "2021-07-08T09:02:49.616Z"
   },
   {
    "duration": 3,
    "start_time": "2021-07-08T09:02:49.623Z"
   },
   {
    "duration": 9,
    "start_time": "2021-07-08T09:02:49.628Z"
   },
   {
    "duration": 52,
    "start_time": "2021-07-08T09:02:49.638Z"
   },
   {
    "duration": 11,
    "start_time": "2021-07-08T09:02:49.692Z"
   },
   {
    "duration": 8,
    "start_time": "2021-07-08T09:02:49.704Z"
   },
   {
    "duration": 27,
    "start_time": "2021-07-08T09:02:49.713Z"
   },
   {
    "duration": 59,
    "start_time": "2021-07-08T09:02:49.741Z"
   },
   {
    "duration": 8,
    "start_time": "2021-07-08T09:02:49.803Z"
   },
   {
    "duration": 14,
    "start_time": "2021-07-08T09:02:49.813Z"
   },
   {
    "duration": 20,
    "start_time": "2021-07-08T09:02:49.829Z"
   },
   {
    "duration": 44,
    "start_time": "2021-07-08T09:02:49.851Z"
   },
   {
    "duration": 14,
    "start_time": "2021-07-08T09:02:49.896Z"
   },
   {
    "duration": 221,
    "start_time": "2021-07-08T09:02:49.912Z"
   },
   {
    "duration": 6,
    "start_time": "2021-07-08T09:02:50.134Z"
   },
   {
    "duration": 206,
    "start_time": "2021-07-08T09:02:50.142Z"
   },
   {
    "duration": 19,
    "start_time": "2021-07-08T09:02:50.350Z"
   },
   {
    "duration": 21,
    "start_time": "2021-07-08T09:02:50.370Z"
   },
   {
    "duration": 20,
    "start_time": "2021-07-08T09:02:50.393Z"
   },
   {
    "duration": 5,
    "start_time": "2021-07-08T09:02:50.414Z"
   },
   {
    "duration": 5,
    "start_time": "2021-07-08T09:03:34.173Z"
   },
   {
    "duration": 6,
    "start_time": "2021-07-08T09:04:49.062Z"
   },
   {
    "duration": 9,
    "start_time": "2021-07-08T09:04:50.118Z"
   },
   {
    "duration": 14,
    "start_time": "2021-07-08T09:04:58.512Z"
   },
   {
    "duration": 9,
    "start_time": "2021-07-08T09:05:10.988Z"
   },
   {
    "duration": 11,
    "start_time": "2021-07-08T09:05:11.743Z"
   },
   {
    "duration": 7,
    "start_time": "2021-07-08T09:05:25.677Z"
   },
   {
    "duration": 13,
    "start_time": "2021-07-08T09:05:47.189Z"
   },
   {
    "duration": 13,
    "start_time": "2021-07-08T09:05:54.755Z"
   },
   {
    "duration": 4,
    "start_time": "2021-07-08T09:06:29.189Z"
   },
   {
    "duration": 244,
    "start_time": "2021-07-08T09:06:29.195Z"
   },
   {
    "duration": 91,
    "start_time": "2021-07-08T09:06:29.441Z"
   },
   {
    "duration": 4,
    "start_time": "2021-07-08T09:06:29.534Z"
   },
   {
    "duration": 28,
    "start_time": "2021-07-08T09:06:29.540Z"
   },
   {
    "duration": 6,
    "start_time": "2021-07-08T09:06:29.570Z"
   },
   {
    "duration": 18,
    "start_time": "2021-07-08T09:06:29.578Z"
   },
   {
    "duration": 5,
    "start_time": "2021-07-08T09:06:29.597Z"
   },
   {
    "duration": 13,
    "start_time": "2021-07-08T09:06:29.605Z"
   },
   {
    "duration": 8,
    "start_time": "2021-07-08T09:06:29.620Z"
   },
   {
    "duration": 7,
    "start_time": "2021-07-08T09:06:29.630Z"
   },
   {
    "duration": 63,
    "start_time": "2021-07-08T09:06:29.639Z"
   },
   {
    "duration": 17,
    "start_time": "2021-07-08T09:06:29.704Z"
   },
   {
    "duration": 20,
    "start_time": "2021-07-08T09:06:29.723Z"
   },
   {
    "duration": 6,
    "start_time": "2021-07-08T09:06:29.745Z"
   },
   {
    "duration": 3,
    "start_time": "2021-07-08T09:06:29.752Z"
   },
   {
    "duration": 7,
    "start_time": "2021-07-08T09:06:29.785Z"
   },
   {
    "duration": 11,
    "start_time": "2021-07-08T09:06:29.794Z"
   },
   {
    "duration": 15,
    "start_time": "2021-07-08T09:06:29.807Z"
   },
   {
    "duration": 8,
    "start_time": "2021-07-08T09:06:29.823Z"
   },
   {
    "duration": 70,
    "start_time": "2021-07-08T09:06:29.832Z"
   },
   {
    "duration": 17,
    "start_time": "2021-07-08T09:06:29.903Z"
   },
   {
    "duration": 9,
    "start_time": "2021-07-08T09:06:29.921Z"
   },
   {
    "duration": 9,
    "start_time": "2021-07-08T09:06:29.932Z"
   },
   {
    "duration": 57,
    "start_time": "2021-07-08T09:06:29.942Z"
   },
   {
    "duration": 11,
    "start_time": "2021-07-08T09:06:30.001Z"
   },
   {
    "duration": 19,
    "start_time": "2021-07-08T09:06:30.016Z"
   },
   {
    "duration": 217,
    "start_time": "2021-07-08T09:06:30.037Z"
   },
   {
    "duration": 6,
    "start_time": "2021-07-08T09:06:30.255Z"
   },
   {
    "duration": 205,
    "start_time": "2021-07-08T09:06:30.263Z"
   },
   {
    "duration": 27,
    "start_time": "2021-07-08T09:06:30.470Z"
   },
   {
    "duration": 11,
    "start_time": "2021-07-08T09:06:30.500Z"
   },
   {
    "duration": 31,
    "start_time": "2021-07-08T09:06:30.513Z"
   },
   {
    "duration": 18,
    "start_time": "2021-07-08T09:06:30.546Z"
   },
   {
    "duration": 11,
    "start_time": "2021-07-08T09:06:30.566Z"
   },
   {
    "duration": 19,
    "start_time": "2021-07-08T09:06:30.579Z"
   },
   {
    "duration": 20,
    "start_time": "2021-07-08T09:06:49.466Z"
   },
   {
    "duration": 9,
    "start_time": "2021-07-08T09:06:51.994Z"
   },
   {
    "duration": 20,
    "start_time": "2021-07-08T09:06:52.273Z"
   },
   {
    "duration": 246,
    "start_time": "2021-07-08T09:10:21.272Z"
   },
   {
    "duration": 84,
    "start_time": "2021-07-08T09:10:21.436Z"
   },
   {
    "duration": 7,
    "start_time": "2021-07-08T09:10:37.608Z"
   },
   {
    "duration": 189,
    "start_time": "2021-07-08T09:10:38.573Z"
   },
   {
    "duration": 185,
    "start_time": "2021-07-08T09:10:53.181Z"
   },
   {
    "duration": 11,
    "start_time": "2021-07-08T09:10:59.549Z"
   },
   {
    "duration": 42,
    "start_time": "2021-07-08T09:10:59.709Z"
   },
   {
    "duration": 12,
    "start_time": "2021-07-08T09:11:02.857Z"
   },
   {
    "duration": 28,
    "start_time": "2021-07-08T09:11:10.062Z"
   },
   {
    "duration": 249,
    "start_time": "2021-07-08T09:11:37.388Z"
   },
   {
    "duration": 232,
    "start_time": "2021-07-08T09:11:49.485Z"
   },
   {
    "duration": 453,
    "start_time": "2021-07-08T09:12:01.546Z"
   },
   {
    "duration": 440,
    "start_time": "2021-07-08T09:12:12.347Z"
   },
   {
    "duration": 213,
    "start_time": "2021-07-08T09:13:32.196Z"
   },
   {
    "duration": 172,
    "start_time": "2021-07-08T09:14:07.400Z"
   },
   {
    "duration": 185,
    "start_time": "2021-07-08T09:14:14.905Z"
   },
   {
    "duration": 209,
    "start_time": "2021-07-08T09:14:40.109Z"
   },
   {
    "duration": 201,
    "start_time": "2021-07-08T09:14:54.506Z"
   },
   {
    "duration": 622,
    "start_time": "2021-07-08T09:18:14.497Z"
   },
   {
    "duration": 220,
    "start_time": "2021-07-08T09:18:15.121Z"
   },
   {
    "duration": 79,
    "start_time": "2021-07-08T09:18:15.343Z"
   },
   {
    "duration": 4,
    "start_time": "2021-07-08T09:18:15.425Z"
   },
   {
    "duration": 24,
    "start_time": "2021-07-08T09:18:15.431Z"
   },
   {
    "duration": 8,
    "start_time": "2021-07-08T09:18:15.457Z"
   },
   {
    "duration": 16,
    "start_time": "2021-07-08T09:18:15.466Z"
   },
   {
    "duration": 5,
    "start_time": "2021-07-08T09:18:15.484Z"
   },
   {
    "duration": 10,
    "start_time": "2021-07-08T09:18:15.493Z"
   },
   {
    "duration": 8,
    "start_time": "2021-07-08T09:18:15.504Z"
   },
   {
    "duration": 7,
    "start_time": "2021-07-08T09:18:15.513Z"
   },
   {
    "duration": 26,
    "start_time": "2021-07-08T09:18:15.522Z"
   },
   {
    "duration": 49,
    "start_time": "2021-07-08T09:18:15.550Z"
   },
   {
    "duration": 21,
    "start_time": "2021-07-08T09:18:15.601Z"
   },
   {
    "duration": 8,
    "start_time": "2021-07-08T09:18:15.624Z"
   },
   {
    "duration": 3,
    "start_time": "2021-07-08T09:18:15.634Z"
   },
   {
    "duration": 8,
    "start_time": "2021-07-08T09:18:15.639Z"
   },
   {
    "duration": 45,
    "start_time": "2021-07-08T09:18:15.649Z"
   },
   {
    "duration": 13,
    "start_time": "2021-07-08T09:18:15.696Z"
   },
   {
    "duration": 10,
    "start_time": "2021-07-08T09:18:15.711Z"
   },
   {
    "duration": 64,
    "start_time": "2021-07-08T09:18:15.722Z"
   },
   {
    "duration": 19,
    "start_time": "2021-07-08T09:18:15.788Z"
   },
   {
    "duration": 9,
    "start_time": "2021-07-08T09:18:15.809Z"
   },
   {
    "duration": 9,
    "start_time": "2021-07-08T09:18:15.820Z"
   },
   {
    "duration": 18,
    "start_time": "2021-07-08T09:18:15.831Z"
   },
   {
    "duration": 43,
    "start_time": "2021-07-08T09:18:15.851Z"
   },
   {
    "duration": 12,
    "start_time": "2021-07-08T09:18:15.897Z"
   },
   {
    "duration": 219,
    "start_time": "2021-07-08T09:18:15.911Z"
   },
   {
    "duration": 8,
    "start_time": "2021-07-08T09:18:16.132Z"
   },
   {
    "duration": 199,
    "start_time": "2021-07-08T09:18:16.141Z"
   },
   {
    "duration": 18,
    "start_time": "2021-07-08T09:18:16.341Z"
   },
   {
    "duration": 24,
    "start_time": "2021-07-08T09:18:16.361Z"
   },
   {
    "duration": 24,
    "start_time": "2021-07-08T09:18:16.387Z"
   },
   {
    "duration": 211,
    "start_time": "2021-07-08T09:18:16.413Z"
   },
   {
    "duration": 18,
    "start_time": "2021-07-08T09:18:16.626Z"
   },
   {
    "duration": 596,
    "start_time": "2021-07-08T10:06:33.623Z"
   },
   {
    "duration": 181,
    "start_time": "2021-07-08T10:06:34.221Z"
   },
   {
    "duration": 176,
    "start_time": "2021-07-08T10:06:34.635Z"
   },
   {
    "duration": 239,
    "start_time": "2021-07-08T10:06:55.572Z"
   },
   {
    "duration": 6,
    "start_time": "2021-07-08T10:06:57.687Z"
   },
   {
    "duration": 4,
    "start_time": "2021-07-08T10:07:03.956Z"
   },
   {
    "duration": 4,
    "start_time": "2021-07-08T10:07:10.376Z"
   },
   {
    "duration": 4,
    "start_time": "2021-07-08T10:17:19.889Z"
   },
   {
    "duration": 3,
    "start_time": "2021-07-08T10:19:19.407Z"
   },
   {
    "duration": 197,
    "start_time": "2021-07-08T10:19:19.412Z"
   },
   {
    "duration": 127,
    "start_time": "2021-07-08T10:19:19.611Z"
   },
   {
    "duration": 4,
    "start_time": "2021-07-08T10:19:19.740Z"
   },
   {
    "duration": 27,
    "start_time": "2021-07-08T10:19:19.746Z"
   },
   {
    "duration": 7,
    "start_time": "2021-07-08T10:19:19.775Z"
   },
   {
    "duration": 30,
    "start_time": "2021-07-08T10:19:19.784Z"
   },
   {
    "duration": 7,
    "start_time": "2021-07-08T10:19:19.817Z"
   },
   {
    "duration": 26,
    "start_time": "2021-07-08T10:19:19.826Z"
   },
   {
    "duration": 18,
    "start_time": "2021-07-08T10:19:19.854Z"
   },
   {
    "duration": 14,
    "start_time": "2021-07-08T10:19:19.874Z"
   },
   {
    "duration": 48,
    "start_time": "2021-07-08T10:19:19.890Z"
   },
   {
    "duration": 17,
    "start_time": "2021-07-08T10:19:19.940Z"
   },
   {
    "duration": 38,
    "start_time": "2021-07-08T10:19:19.959Z"
   },
   {
    "duration": 8,
    "start_time": "2021-07-08T10:19:19.999Z"
   },
   {
    "duration": 15,
    "start_time": "2021-07-08T10:19:20.009Z"
   },
   {
    "duration": 22,
    "start_time": "2021-07-08T10:19:20.026Z"
   },
   {
    "duration": 10,
    "start_time": "2021-07-08T10:19:20.050Z"
   },
   {
    "duration": 10,
    "start_time": "2021-07-08T10:19:20.062Z"
   },
   {
    "duration": 20,
    "start_time": "2021-07-08T10:19:20.073Z"
   },
   {
    "duration": 29,
    "start_time": "2021-07-08T10:19:20.095Z"
   },
   {
    "duration": 17,
    "start_time": "2021-07-08T10:19:20.126Z"
   },
   {
    "duration": 40,
    "start_time": "2021-07-08T10:19:20.146Z"
   },
   {
    "duration": 15,
    "start_time": "2021-07-08T10:19:20.189Z"
   },
   {
    "duration": 19,
    "start_time": "2021-07-08T10:19:20.206Z"
   },
   {
    "duration": 10,
    "start_time": "2021-07-08T10:19:20.226Z"
   },
   {
    "duration": 11,
    "start_time": "2021-07-08T10:19:20.238Z"
   },
   {
    "duration": 297,
    "start_time": "2021-07-08T10:19:20.250Z"
   },
   {
    "duration": 6,
    "start_time": "2021-07-08T10:19:20.549Z"
   },
   {
    "duration": 191,
    "start_time": "2021-07-08T10:19:20.557Z"
   },
   {
    "duration": 19,
    "start_time": "2021-07-08T10:19:20.750Z"
   },
   {
    "duration": 20,
    "start_time": "2021-07-08T10:19:20.771Z"
   },
   {
    "duration": 15,
    "start_time": "2021-07-08T10:19:20.793Z"
   },
   {
    "duration": 222,
    "start_time": "2021-07-08T10:19:20.809Z"
   },
   {
    "duration": 20,
    "start_time": "2021-07-08T10:19:21.033Z"
   },
   {
    "duration": 27,
    "start_time": "2021-07-08T10:45:04.055Z"
   },
   {
    "duration": 8,
    "start_time": "2021-07-08T10:45:08.478Z"
   },
   {
    "duration": 8,
    "start_time": "2021-07-08T10:45:31.982Z"
   },
   {
    "duration": 10,
    "start_time": "2021-07-08T10:46:01.221Z"
   },
   {
    "duration": 17,
    "start_time": "2021-07-08T10:46:40.011Z"
   },
   {
    "duration": 193,
    "start_time": "2021-07-08T10:48:19.471Z"
   },
   {
    "duration": 225,
    "start_time": "2021-07-08T10:49:26.480Z"
   },
   {
    "duration": 204,
    "start_time": "2021-07-08T10:49:59.992Z"
   },
   {
    "duration": 435,
    "start_time": "2021-07-08T10:50:06.779Z"
   },
   {
    "duration": 199,
    "start_time": "2021-07-08T10:50:14.891Z"
   },
   {
    "duration": 204,
    "start_time": "2021-07-08T10:50:18.501Z"
   },
   {
    "duration": 244,
    "start_time": "2021-07-08T10:50:23.359Z"
   },
   {
    "duration": 192,
    "start_time": "2021-07-08T10:50:29.135Z"
   },
   {
    "duration": 218,
    "start_time": "2021-07-08T10:50:33.092Z"
   },
   {
    "duration": 207,
    "start_time": "2021-07-08T10:52:45.381Z"
   },
   {
    "duration": 5,
    "start_time": "2021-07-08T10:53:34.641Z"
   },
   {
    "duration": 196,
    "start_time": "2021-07-08T10:53:41.478Z"
   },
   {
    "duration": 43,
    "start_time": "2021-07-08T10:53:50.335Z"
   },
   {
    "duration": 32,
    "start_time": "2021-07-08T10:53:55.294Z"
   },
   {
    "duration": 55,
    "start_time": "2021-07-08T10:54:09.675Z"
   },
   {
    "duration": 16,
    "start_time": "2021-07-08T10:54:12.260Z"
   },
   {
    "duration": 15,
    "start_time": "2021-07-08T10:54:49.150Z"
   },
   {
    "duration": 20,
    "start_time": "2021-07-08T10:56:07.596Z"
   },
   {
    "duration": 16,
    "start_time": "2021-07-08T10:58:26.276Z"
   },
   {
    "duration": 22,
    "start_time": "2021-07-08T10:59:00.486Z"
   },
   {
    "duration": 18,
    "start_time": "2021-07-08T11:02:09.653Z"
   },
   {
    "duration": 10,
    "start_time": "2021-07-08T11:03:44.331Z"
   },
   {
    "duration": 10,
    "start_time": "2021-07-08T11:03:54.055Z"
   },
   {
    "duration": 12,
    "start_time": "2021-07-08T11:04:41.967Z"
   },
   {
    "duration": 24,
    "start_time": "2021-07-08T11:07:30.732Z"
   },
   {
    "duration": 6,
    "start_time": "2021-07-08T11:07:37.364Z"
   },
   {
    "duration": 16,
    "start_time": "2021-07-08T11:08:01.819Z"
   },
   {
    "duration": 17,
    "start_time": "2021-07-08T11:09:47.488Z"
   },
   {
    "duration": 246,
    "start_time": "2021-07-08T11:10:00.830Z"
   },
   {
    "duration": 18,
    "start_time": "2021-07-08T11:13:55.195Z"
   },
   {
    "duration": 204,
    "start_time": "2021-07-08T11:14:04.951Z"
   },
   {
    "duration": 19,
    "start_time": "2021-07-08T11:15:10.613Z"
   },
   {
    "duration": 680,
    "start_time": "2021-07-08T11:16:25.793Z"
   },
   {
    "duration": 451,
    "start_time": "2021-07-08T11:16:40.313Z"
   },
   {
    "duration": 469,
    "start_time": "2021-07-08T11:17:21.286Z"
   },
   {
    "duration": 20,
    "start_time": "2021-07-08T11:19:12.554Z"
   },
   {
    "duration": 35,
    "start_time": "2021-07-08T11:20:05.484Z"
   },
   {
    "duration": 53,
    "start_time": "2021-07-08T11:21:40.050Z"
   },
   {
    "duration": 13,
    "start_time": "2021-07-08T11:22:26.059Z"
   },
   {
    "duration": 19,
    "start_time": "2021-07-08T11:22:47.419Z"
   },
   {
    "duration": 25,
    "start_time": "2021-07-08T11:23:19.958Z"
   },
   {
    "duration": 29,
    "start_time": "2021-07-08T11:23:25.415Z"
   },
   {
    "duration": 10,
    "start_time": "2021-07-08T11:24:45.138Z"
   },
   {
    "duration": 19,
    "start_time": "2021-07-08T11:24:54.498Z"
   },
   {
    "duration": 12,
    "start_time": "2021-07-08T11:25:32.225Z"
   },
   {
    "duration": 19,
    "start_time": "2021-07-08T11:25:37.092Z"
   },
   {
    "duration": 17,
    "start_time": "2021-07-08T11:25:58.116Z"
   },
   {
    "duration": 15,
    "start_time": "2021-07-08T11:26:02.258Z"
   },
   {
    "duration": 8,
    "start_time": "2021-07-08T11:26:59.682Z"
   },
   {
    "duration": 184,
    "start_time": "2021-07-08T11:27:21.894Z"
   },
   {
    "duration": 8,
    "start_time": "2021-07-08T11:27:23.824Z"
   },
   {
    "duration": 202,
    "start_time": "2021-07-08T11:27:23.962Z"
   },
   {
    "duration": 360,
    "start_time": "2021-07-08T11:28:33.215Z"
   },
   {
    "duration": 231,
    "start_time": "2021-07-08T11:32:05.542Z"
   },
   {
    "duration": 607,
    "start_time": "2021-07-08T11:36:27.854Z"
   },
   {
    "duration": 241,
    "start_time": "2021-07-08T11:36:28.463Z"
   },
   {
    "duration": 67,
    "start_time": "2021-07-08T11:36:28.709Z"
   },
   {
    "duration": 5,
    "start_time": "2021-07-08T11:36:28.778Z"
   },
   {
    "duration": 32,
    "start_time": "2021-07-08T11:36:28.784Z"
   },
   {
    "duration": 11,
    "start_time": "2021-07-08T11:36:28.819Z"
   },
   {
    "duration": 20,
    "start_time": "2021-07-08T11:36:28.834Z"
   },
   {
    "duration": 36,
    "start_time": "2021-07-08T11:36:28.857Z"
   },
   {
    "duration": 16,
    "start_time": "2021-07-08T11:36:28.895Z"
   },
   {
    "duration": 14,
    "start_time": "2021-07-08T11:36:28.913Z"
   },
   {
    "duration": 9,
    "start_time": "2021-07-08T11:36:28.930Z"
   },
   {
    "duration": 55,
    "start_time": "2021-07-08T11:36:28.941Z"
   },
   {
    "duration": 27,
    "start_time": "2021-07-08T11:36:28.999Z"
   },
   {
    "duration": 30,
    "start_time": "2021-07-08T11:36:29.028Z"
   },
   {
    "duration": 31,
    "start_time": "2021-07-08T11:36:29.060Z"
   },
   {
    "duration": 3,
    "start_time": "2021-07-08T11:36:29.093Z"
   },
   {
    "duration": 12,
    "start_time": "2021-07-08T11:36:29.099Z"
   },
   {
    "duration": 11,
    "start_time": "2021-07-08T11:36:29.112Z"
   },
   {
    "duration": 12,
    "start_time": "2021-07-08T11:36:29.125Z"
   },
   {
    "duration": 9,
    "start_time": "2021-07-08T11:36:29.139Z"
   },
   {
    "duration": 31,
    "start_time": "2021-07-08T11:36:29.191Z"
   },
   {
    "duration": 17,
    "start_time": "2021-07-08T11:36:29.226Z"
   },
   {
    "duration": 7,
    "start_time": "2021-07-08T11:36:29.245Z"
   },
   {
    "duration": 10,
    "start_time": "2021-07-08T11:36:29.254Z"
   },
   {
    "duration": 30,
    "start_time": "2021-07-08T11:36:29.292Z"
   },
   {
    "duration": 11,
    "start_time": "2021-07-08T11:36:29.324Z"
   },
   {
    "duration": 11,
    "start_time": "2021-07-08T11:36:29.337Z"
   },
   {
    "duration": 230,
    "start_time": "2021-07-08T11:36:29.349Z"
   },
   {
    "duration": 13,
    "start_time": "2021-07-08T11:36:29.588Z"
   },
   {
    "duration": 205,
    "start_time": "2021-07-08T11:36:29.603Z"
   },
   {
    "duration": 20,
    "start_time": "2021-07-08T11:36:29.810Z"
   },
   {
    "duration": 9,
    "start_time": "2021-07-08T11:36:29.832Z"
   },
   {
    "duration": 16,
    "start_time": "2021-07-08T11:36:29.843Z"
   },
   {
    "duration": 283,
    "start_time": "2021-07-08T11:36:29.861Z"
   },
   {
    "duration": 50,
    "start_time": "2021-07-08T11:36:30.146Z"
   },
   {
    "duration": 14,
    "start_time": "2021-07-08T11:36:30.198Z"
   },
   {
    "duration": 11,
    "start_time": "2021-07-08T11:36:30.214Z"
   },
   {
    "duration": 245,
    "start_time": "2021-07-08T11:36:30.227Z"
   },
   {
    "duration": 439,
    "start_time": "2021-07-08T11:36:30.474Z"
   },
   {
    "duration": 210,
    "start_time": "2021-07-08T11:36:30.915Z"
   },
   {
    "duration": 15,
    "start_time": "2021-07-08T11:36:31.127Z"
   },
   {
    "duration": 17,
    "start_time": "2021-07-08T11:38:20.451Z"
   },
   {
    "duration": 642,
    "start_time": "2021-07-08T11:46:17.881Z"
   },
   {
    "duration": 210,
    "start_time": "2021-07-08T11:46:18.525Z"
   },
   {
    "duration": 104,
    "start_time": "2021-07-08T11:46:18.741Z"
   },
   {
    "duration": 8,
    "start_time": "2021-07-08T11:46:18.847Z"
   },
   {
    "duration": 25,
    "start_time": "2021-07-08T11:46:18.857Z"
   },
   {
    "duration": 14,
    "start_time": "2021-07-08T11:46:18.884Z"
   },
   {
    "duration": 22,
    "start_time": "2021-07-08T11:46:18.900Z"
   },
   {
    "duration": 5,
    "start_time": "2021-07-08T11:46:18.924Z"
   },
   {
    "duration": 13,
    "start_time": "2021-07-08T11:46:18.931Z"
   },
   {
    "duration": 45,
    "start_time": "2021-07-08T11:46:18.946Z"
   },
   {
    "duration": 12,
    "start_time": "2021-07-08T11:46:18.993Z"
   },
   {
    "duration": 38,
    "start_time": "2021-07-08T11:46:19.006Z"
   },
   {
    "duration": 50,
    "start_time": "2021-07-08T11:46:19.046Z"
   },
   {
    "duration": 29,
    "start_time": "2021-07-08T11:46:19.099Z"
   },
   {
    "duration": 7,
    "start_time": "2021-07-08T11:46:19.130Z"
   },
   {
    "duration": 3,
    "start_time": "2021-07-08T11:46:19.139Z"
   },
   {
    "duration": 11,
    "start_time": "2021-07-08T11:46:19.144Z"
   },
   {
    "duration": 40,
    "start_time": "2021-07-08T11:46:19.157Z"
   },
   {
    "duration": 15,
    "start_time": "2021-07-08T11:46:19.199Z"
   },
   {
    "duration": 10,
    "start_time": "2021-07-08T11:46:19.217Z"
   },
   {
    "duration": 68,
    "start_time": "2021-07-08T11:46:19.230Z"
   },
   {
    "duration": 17,
    "start_time": "2021-07-08T11:46:19.301Z"
   },
   {
    "duration": 7,
    "start_time": "2021-07-08T11:46:19.321Z"
   },
   {
    "duration": 11,
    "start_time": "2021-07-08T11:46:19.330Z"
   },
   {
    "duration": 59,
    "start_time": "2021-07-08T11:46:19.343Z"
   },
   {
    "duration": 17,
    "start_time": "2021-07-08T11:46:19.405Z"
   },
   {
    "duration": 16,
    "start_time": "2021-07-08T11:46:19.424Z"
   },
   {
    "duration": 252,
    "start_time": "2021-07-08T11:46:19.443Z"
   },
   {
    "duration": 9,
    "start_time": "2021-07-08T11:46:19.697Z"
   },
   {
    "duration": 224,
    "start_time": "2021-07-08T11:46:19.708Z"
   },
   {
    "duration": 21,
    "start_time": "2021-07-08T11:46:19.934Z"
   },
   {
    "duration": 9,
    "start_time": "2021-07-08T11:46:19.956Z"
   },
   {
    "duration": 32,
    "start_time": "2021-07-08T11:46:19.967Z"
   },
   {
    "duration": 288,
    "start_time": "2021-07-08T11:46:20.004Z"
   },
   {
    "duration": 23,
    "start_time": "2021-07-08T11:46:20.300Z"
   },
   {
    "duration": 11,
    "start_time": "2021-07-08T11:46:20.325Z"
   },
   {
    "duration": 11,
    "start_time": "2021-07-08T11:46:20.339Z"
   },
   {
    "duration": 259,
    "start_time": "2021-07-08T11:46:20.352Z"
   },
   {
    "duration": 438,
    "start_time": "2021-07-08T11:46:20.613Z"
   },
   {
    "duration": 207,
    "start_time": "2021-07-08T11:46:21.054Z"
   },
   {
    "duration": 27,
    "start_time": "2021-07-08T11:46:21.262Z"
   },
   {
    "duration": 19,
    "start_time": "2021-07-08T11:46:21.291Z"
   },
   {
    "duration": 820,
    "start_time": "2021-07-08T11:49:01.655Z"
   },
   {
    "duration": 372,
    "start_time": "2021-07-08T11:49:02.478Z"
   },
   {
    "duration": 98,
    "start_time": "2021-07-08T11:49:02.853Z"
   },
   {
    "duration": 6,
    "start_time": "2021-07-08T11:49:02.953Z"
   },
   {
    "duration": 39,
    "start_time": "2021-07-08T11:49:02.960Z"
   },
   {
    "duration": 9,
    "start_time": "2021-07-08T11:49:03.003Z"
   },
   {
    "duration": 23,
    "start_time": "2021-07-08T11:49:03.014Z"
   },
   {
    "duration": 6,
    "start_time": "2021-07-08T11:49:03.041Z"
   },
   {
    "duration": 20,
    "start_time": "2021-07-08T11:49:03.049Z"
   },
   {
    "duration": 18,
    "start_time": "2021-07-08T11:49:03.084Z"
   },
   {
    "duration": 14,
    "start_time": "2021-07-08T11:49:03.104Z"
   },
   {
    "duration": 39,
    "start_time": "2021-07-08T11:49:03.119Z"
   },
   {
    "duration": 38,
    "start_time": "2021-07-08T11:49:03.160Z"
   },
   {
    "duration": 26,
    "start_time": "2021-07-08T11:49:03.200Z"
   },
   {
    "duration": 7,
    "start_time": "2021-07-08T11:49:03.227Z"
   },
   {
    "duration": 4,
    "start_time": "2021-07-08T11:49:03.236Z"
   },
   {
    "duration": 15,
    "start_time": "2021-07-08T11:49:03.243Z"
   },
   {
    "duration": 21,
    "start_time": "2021-07-08T11:49:03.285Z"
   },
   {
    "duration": 17,
    "start_time": "2021-07-08T11:49:03.309Z"
   },
   {
    "duration": 10,
    "start_time": "2021-07-08T11:49:03.328Z"
   },
   {
    "duration": 65,
    "start_time": "2021-07-08T11:49:03.340Z"
   },
   {
    "duration": 18,
    "start_time": "2021-07-08T11:49:03.407Z"
   },
   {
    "duration": 8,
    "start_time": "2021-07-08T11:49:03.428Z"
   },
   {
    "duration": 15,
    "start_time": "2021-07-08T11:49:03.438Z"
   },
   {
    "duration": 40,
    "start_time": "2021-07-08T11:49:03.455Z"
   },
   {
    "duration": 12,
    "start_time": "2021-07-08T11:49:03.497Z"
   },
   {
    "duration": 29,
    "start_time": "2021-07-08T11:49:03.511Z"
   },
   {
    "duration": 285,
    "start_time": "2021-07-08T11:49:03.542Z"
   },
   {
    "duration": 8,
    "start_time": "2021-07-08T11:49:03.829Z"
   },
   {
    "duration": 227,
    "start_time": "2021-07-08T11:49:03.838Z"
   },
   {
    "duration": 40,
    "start_time": "2021-07-08T11:49:04.066Z"
   },
   {
    "duration": 10,
    "start_time": "2021-07-08T11:49:04.108Z"
   },
   {
    "duration": 26,
    "start_time": "2021-07-08T11:49:04.121Z"
   },
   {
    "duration": 290,
    "start_time": "2021-07-08T11:49:04.149Z"
   },
   {
    "duration": 26,
    "start_time": "2021-07-08T11:49:04.441Z"
   },
   {
    "duration": 31,
    "start_time": "2021-07-08T11:49:04.470Z"
   },
   {
    "duration": 14,
    "start_time": "2021-07-08T11:49:04.503Z"
   },
   {
    "duration": 259,
    "start_time": "2021-07-08T11:49:04.521Z"
   },
   {
    "duration": 480,
    "start_time": "2021-07-08T11:49:04.782Z"
   },
   {
    "duration": 225,
    "start_time": "2021-07-08T11:49:05.264Z"
   },
   {
    "duration": 22,
    "start_time": "2021-07-08T11:49:05.491Z"
   },
   {
    "duration": 24,
    "start_time": "2021-07-08T11:49:05.515Z"
   },
   {
    "duration": 634,
    "start_time": "2021-07-08T11:52:24.960Z"
   },
   {
    "duration": 199,
    "start_time": "2021-07-08T11:52:25.599Z"
   },
   {
    "duration": 106,
    "start_time": "2021-07-08T11:52:25.803Z"
   },
   {
    "duration": 7,
    "start_time": "2021-07-08T11:52:25.911Z"
   },
   {
    "duration": 29,
    "start_time": "2021-07-08T11:52:25.920Z"
   },
   {
    "duration": 7,
    "start_time": "2021-07-08T11:52:25.951Z"
   },
   {
    "duration": 26,
    "start_time": "2021-07-08T11:52:25.961Z"
   },
   {
    "duration": 11,
    "start_time": "2021-07-08T11:52:25.990Z"
   },
   {
    "duration": 29,
    "start_time": "2021-07-08T11:52:26.005Z"
   },
   {
    "duration": 9,
    "start_time": "2021-07-08T11:52:26.036Z"
   },
   {
    "duration": 8,
    "start_time": "2021-07-08T11:52:26.047Z"
   },
   {
    "duration": 63,
    "start_time": "2021-07-08T11:52:26.057Z"
   },
   {
    "duration": 17,
    "start_time": "2021-07-08T11:52:26.122Z"
   },
   {
    "duration": 43,
    "start_time": "2021-07-08T11:52:26.142Z"
   },
   {
    "duration": 17,
    "start_time": "2021-07-08T11:52:26.187Z"
   },
   {
    "duration": 5,
    "start_time": "2021-07-08T11:52:26.206Z"
   },
   {
    "duration": 12,
    "start_time": "2021-07-08T11:52:26.212Z"
   },
   {
    "duration": 11,
    "start_time": "2021-07-08T11:52:26.226Z"
   },
   {
    "duration": 12,
    "start_time": "2021-07-08T11:52:26.238Z"
   },
   {
    "duration": 38,
    "start_time": "2021-07-08T11:52:26.252Z"
   },
   {
    "duration": 40,
    "start_time": "2021-07-08T11:52:26.292Z"
   },
   {
    "duration": 17,
    "start_time": "2021-07-08T11:52:26.336Z"
   },
   {
    "duration": 39,
    "start_time": "2021-07-08T11:52:26.355Z"
   },
   {
    "duration": 11,
    "start_time": "2021-07-08T11:52:26.395Z"
   },
   {
    "duration": 23,
    "start_time": "2021-07-08T11:52:26.408Z"
   },
   {
    "duration": 12,
    "start_time": "2021-07-08T11:52:26.432Z"
   },
   {
    "duration": 41,
    "start_time": "2021-07-08T11:52:26.446Z"
   },
   {
    "duration": 215,
    "start_time": "2021-07-08T11:52:26.493Z"
   },
   {
    "duration": 8,
    "start_time": "2021-07-08T11:52:26.710Z"
   },
   {
    "duration": 228,
    "start_time": "2021-07-08T11:52:26.720Z"
   },
   {
    "duration": 18,
    "start_time": "2021-07-08T11:52:26.950Z"
   },
   {
    "duration": 35,
    "start_time": "2021-07-08T11:52:26.969Z"
   },
   {
    "duration": 23,
    "start_time": "2021-07-08T11:52:27.006Z"
   },
   {
    "duration": 258,
    "start_time": "2021-07-08T11:52:27.030Z"
   },
   {
    "duration": 24,
    "start_time": "2021-07-08T11:52:27.290Z"
   },
   {
    "duration": 12,
    "start_time": "2021-07-08T11:52:27.316Z"
   },
   {
    "duration": 10,
    "start_time": "2021-07-08T11:52:27.329Z"
   },
   {
    "duration": 298,
    "start_time": "2021-07-08T11:52:27.341Z"
   },
   {
    "duration": 436,
    "start_time": "2021-07-08T11:52:27.641Z"
   },
   {
    "duration": 216,
    "start_time": "2021-07-08T11:52:28.079Z"
   },
   {
    "duration": 20,
    "start_time": "2021-07-08T11:52:28.297Z"
   },
   {
    "duration": 17,
    "start_time": "2021-07-08T11:52:28.319Z"
   },
   {
    "duration": 701,
    "start_time": "2023-04-26T18:07:57.605Z"
   },
   {
    "duration": 160,
    "start_time": "2023-04-26T18:08:08.755Z"
   },
   {
    "duration": 153,
    "start_time": "2023-04-26T18:08:16.630Z"
   },
   {
    "duration": 7,
    "start_time": "2023-04-26T18:08:27.388Z"
   },
   {
    "duration": 132,
    "start_time": "2023-04-26T18:10:03.598Z"
   },
   {
    "duration": 10,
    "start_time": "2023-04-26T18:10:08.502Z"
   },
   {
    "duration": 654,
    "start_time": "2023-04-26T18:11:26.495Z"
   },
   {
    "duration": 141,
    "start_time": "2023-04-26T18:11:42.362Z"
   },
   {
    "duration": 525,
    "start_time": "2023-04-26T18:13:25.850Z"
   },
   {
    "duration": 149,
    "start_time": "2023-04-26T18:13:34.147Z"
   },
   {
    "duration": 148,
    "start_time": "2023-04-26T18:13:44.323Z"
   },
   {
    "duration": 5,
    "start_time": "2023-04-26T18:15:11.160Z"
   },
   {
    "duration": 4,
    "start_time": "2023-04-26T18:15:38.494Z"
   },
   {
    "duration": 904,
    "start_time": "2023-04-26T18:15:53.579Z"
   },
   {
    "duration": 4,
    "start_time": "2023-04-26T18:15:55.866Z"
   },
   {
    "duration": 506,
    "start_time": "2023-04-26T18:15:56.294Z"
   },
   {
    "duration": 158,
    "start_time": "2023-04-26T18:16:09.498Z"
   },
   {
    "duration": 5,
    "start_time": "2023-04-26T18:16:09.702Z"
   },
   {
    "duration": 5,
    "start_time": "2023-04-26T18:16:10.217Z"
   },
   {
    "duration": 436,
    "start_time": "2023-04-26T18:16:10.849Z"
   },
   {
    "duration": 599,
    "start_time": "2023-04-26T18:16:16.866Z"
   },
   {
    "duration": 6,
    "start_time": "2023-04-26T18:16:17.467Z"
   },
   {
    "duration": 7,
    "start_time": "2023-04-26T18:16:18.015Z"
   },
   {
    "duration": 616,
    "start_time": "2023-04-26T18:16:18.502Z"
   },
   {
    "duration": 10,
    "start_time": "2023-04-26T18:22:23.973Z"
   },
   {
    "duration": 175,
    "start_time": "2023-04-26T18:22:31.910Z"
   },
   {
    "duration": 5,
    "start_time": "2023-04-26T18:22:32.087Z"
   },
   {
    "duration": 5,
    "start_time": "2023-04-26T18:22:32.398Z"
   },
   {
    "duration": 10,
    "start_time": "2023-04-26T18:22:32.547Z"
   },
   {
    "duration": 30,
    "start_time": "2023-04-26T18:22:33.027Z"
   },
   {
    "duration": 14,
    "start_time": "2023-04-26T18:23:51.376Z"
   },
   {
    "duration": 20,
    "start_time": "2023-04-26T18:26:45.879Z"
   },
   {
    "duration": 17,
    "start_time": "2023-04-26T18:26:57.149Z"
   },
   {
    "duration": 8,
    "start_time": "2023-04-26T18:27:01.152Z"
   },
   {
    "duration": 5,
    "start_time": "2023-04-26T18:27:47.508Z"
   },
   {
    "duration": 8,
    "start_time": "2023-04-26T18:28:21.720Z"
   },
   {
    "duration": 15,
    "start_time": "2023-04-26T18:28:28.108Z"
   },
   {
    "duration": 9,
    "start_time": "2023-04-26T18:29:03.045Z"
   },
   {
    "duration": 15,
    "start_time": "2023-04-26T18:29:08.832Z"
   },
   {
    "duration": 8,
    "start_time": "2023-04-26T18:31:52.586Z"
   },
   {
    "duration": 18,
    "start_time": "2023-04-26T18:32:02.109Z"
   },
   {
    "duration": 151,
    "start_time": "2023-04-26T18:32:12.122Z"
   },
   {
    "duration": 6,
    "start_time": "2023-04-26T18:32:12.288Z"
   },
   {
    "duration": 4,
    "start_time": "2023-04-26T18:32:12.621Z"
   },
   {
    "duration": 8,
    "start_time": "2023-04-26T18:32:12.932Z"
   },
   {
    "duration": 16,
    "start_time": "2023-04-26T18:32:13.098Z"
   },
   {
    "duration": 20,
    "start_time": "2023-04-26T18:32:14.447Z"
   },
   {
    "duration": 20,
    "start_time": "2023-04-26T18:32:22.363Z"
   },
   {
    "duration": 9,
    "start_time": "2023-04-26T18:33:32.518Z"
   },
   {
    "duration": 14,
    "start_time": "2023-04-26T18:33:35.055Z"
   },
   {
    "duration": 13,
    "start_time": "2023-04-26T18:33:45.130Z"
   },
   {
    "duration": 12,
    "start_time": "2023-04-26T18:33:51.319Z"
   },
   {
    "duration": 28,
    "start_time": "2023-04-26T18:33:56.709Z"
   },
   {
    "duration": 14,
    "start_time": "2023-04-26T18:34:29.392Z"
   },
   {
    "duration": 45,
    "start_time": "2023-04-26T18:34:34.012Z"
   },
   {
    "duration": 38,
    "start_time": "2023-04-26T18:34:40.914Z"
   },
   {
    "duration": 25,
    "start_time": "2023-04-26T18:35:16.894Z"
   },
   {
    "duration": 24,
    "start_time": "2023-04-26T18:36:14.435Z"
   },
   {
    "duration": 26,
    "start_time": "2023-04-26T18:36:19.363Z"
   },
   {
    "duration": 532,
    "start_time": "2023-04-26T18:36:34.599Z"
   },
   {
    "duration": 5,
    "start_time": "2023-04-26T18:36:35.642Z"
   },
   {
    "duration": 3,
    "start_time": "2023-04-26T18:36:36.653Z"
   },
   {
    "duration": 9,
    "start_time": "2023-04-26T18:36:37.622Z"
   },
   {
    "duration": 13,
    "start_time": "2023-04-26T18:36:38.158Z"
   },
   {
    "duration": 24,
    "start_time": "2023-04-26T18:36:39.621Z"
   },
   {
    "duration": 126,
    "start_time": "2023-04-26T18:37:32.023Z"
   },
   {
    "duration": 5,
    "start_time": "2023-04-26T18:37:32.203Z"
   },
   {
    "duration": 4,
    "start_time": "2023-04-26T18:37:32.498Z"
   },
   {
    "duration": 65,
    "start_time": "2023-04-26T18:37:32.811Z"
   },
   {
    "duration": 12,
    "start_time": "2023-04-26T18:37:32.928Z"
   },
   {
    "duration": 19,
    "start_time": "2023-04-26T18:37:33.211Z"
   },
   {
    "duration": 4,
    "start_time": "2023-04-26T18:38:59.089Z"
   },
   {
    "duration": 13,
    "start_time": "2023-04-26T18:39:08.302Z"
   },
   {
    "duration": 16,
    "start_time": "2023-04-26T18:39:08.716Z"
   },
   {
    "duration": 22,
    "start_time": "2023-04-26T18:39:09.700Z"
   },
   {
    "duration": 4,
    "start_time": "2023-04-26T18:40:29.162Z"
   },
   {
    "duration": 435,
    "start_time": "2023-04-26T18:40:30.124Z"
   },
   {
    "duration": 125,
    "start_time": "2023-04-26T18:40:32.976Z"
   },
   {
    "duration": 6,
    "start_time": "2023-04-26T18:40:33.291Z"
   },
   {
    "duration": 3,
    "start_time": "2023-04-26T18:40:33.677Z"
   },
   {
    "duration": 335,
    "start_time": "2023-04-26T18:40:34.390Z"
   },
   {
    "duration": 5,
    "start_time": "2023-04-26T18:40:53.180Z"
   },
   {
    "duration": 473,
    "start_time": "2023-04-26T18:41:00.188Z"
   },
   {
    "duration": 6,
    "start_time": "2023-04-26T18:41:00.795Z"
   },
   {
    "duration": 5,
    "start_time": "2023-04-26T18:41:01.912Z"
   },
   {
    "duration": 6,
    "start_time": "2023-04-26T18:41:33.973Z"
   },
   {
    "duration": 4,
    "start_time": "2023-04-26T18:41:36.071Z"
   },
   {
    "duration": 7,
    "start_time": "2023-04-26T18:41:36.725Z"
   },
   {
    "duration": 73,
    "start_time": "2023-04-26T18:42:26.165Z"
   },
   {
    "duration": 9,
    "start_time": "2023-04-26T18:42:32.430Z"
   },
   {
    "duration": 5,
    "start_time": "2023-04-26T18:42:34.724Z"
   },
   {
    "duration": 9,
    "start_time": "2023-04-26T18:42:35.653Z"
   },
   {
    "duration": 16,
    "start_time": "2023-04-26T18:42:36.523Z"
   },
   {
    "duration": 480,
    "start_time": "2023-04-26T18:42:47.281Z"
   },
   {
    "duration": 5,
    "start_time": "2023-04-26T18:42:47.763Z"
   },
   {
    "duration": 9,
    "start_time": "2023-04-26T18:42:47.924Z"
   },
   {
    "duration": 6,
    "start_time": "2023-04-26T18:42:48.311Z"
   },
   {
    "duration": 9,
    "start_time": "2023-04-26T18:42:48.544Z"
   },
   {
    "duration": 19,
    "start_time": "2023-04-26T18:42:49.005Z"
   },
   {
    "duration": 518,
    "start_time": "2023-04-26T18:43:06.929Z"
   },
   {
    "duration": 5,
    "start_time": "2023-04-26T18:43:07.449Z"
   },
   {
    "duration": 32,
    "start_time": "2023-04-26T18:43:07.455Z"
   },
   {
    "duration": 6,
    "start_time": "2023-04-26T18:43:08.049Z"
   },
   {
    "duration": 10,
    "start_time": "2023-04-26T18:43:08.425Z"
   },
   {
    "duration": 21,
    "start_time": "2023-04-26T18:43:09.693Z"
   },
   {
    "duration": 11,
    "start_time": "2023-04-26T18:43:18.602Z"
   },
   {
    "duration": 11,
    "start_time": "2023-04-26T18:43:24.140Z"
   },
   {
    "duration": 13,
    "start_time": "2023-04-26T18:43:30.929Z"
   },
   {
    "duration": 592,
    "start_time": "2023-04-26T18:43:38.441Z"
   },
   {
    "duration": 6,
    "start_time": "2023-04-26T18:43:39.035Z"
   },
   {
    "duration": 9,
    "start_time": "2023-04-26T18:43:39.068Z"
   },
   {
    "duration": 6,
    "start_time": "2023-04-26T18:43:39.401Z"
   },
   {
    "duration": 11,
    "start_time": "2023-04-26T18:43:39.693Z"
   },
   {
    "duration": 21,
    "start_time": "2023-04-26T18:43:40.446Z"
   },
   {
    "duration": 11,
    "start_time": "2023-04-26T18:43:51.283Z"
   },
   {
    "duration": 548,
    "start_time": "2023-04-26T18:44:20.731Z"
   },
   {
    "duration": 5,
    "start_time": "2023-04-26T18:44:21.281Z"
   },
   {
    "duration": 18,
    "start_time": "2023-04-26T18:44:21.287Z"
   },
   {
    "duration": 5,
    "start_time": "2023-04-26T18:44:21.476Z"
   },
   {
    "duration": 9,
    "start_time": "2023-04-26T18:44:21.609Z"
   },
   {
    "duration": 15,
    "start_time": "2023-04-26T18:44:22.259Z"
   },
   {
    "duration": 563,
    "start_time": "2023-04-26T18:44:34.521Z"
   },
   {
    "duration": 5,
    "start_time": "2023-04-26T18:44:35.085Z"
   },
   {
    "duration": 18,
    "start_time": "2023-04-26T18:44:35.092Z"
   },
   {
    "duration": 5,
    "start_time": "2023-04-26T18:44:35.567Z"
   },
   {
    "duration": 10,
    "start_time": "2023-04-26T18:44:35.727Z"
   },
   {
    "duration": 17,
    "start_time": "2023-04-26T18:44:36.077Z"
   },
   {
    "duration": 524,
    "start_time": "2023-04-26T18:44:49.448Z"
   },
   {
    "duration": 7,
    "start_time": "2023-04-26T18:44:49.975Z"
   },
   {
    "duration": 15,
    "start_time": "2023-04-26T18:44:49.984Z"
   },
   {
    "duration": 6,
    "start_time": "2023-04-26T18:44:50.314Z"
   },
   {
    "duration": 11,
    "start_time": "2023-04-26T18:44:50.427Z"
   },
   {
    "duration": 20,
    "start_time": "2023-04-26T18:44:51.239Z"
   },
   {
    "duration": 11,
    "start_time": "2023-04-26T18:45:26.382Z"
   },
   {
    "duration": 12,
    "start_time": "2023-04-26T18:46:03.983Z"
   },
   {
    "duration": 144,
    "start_time": "2023-04-26T18:46:08.814Z"
   },
   {
    "duration": 5,
    "start_time": "2023-04-26T18:46:11.000Z"
   },
   {
    "duration": 17,
    "start_time": "2023-04-26T18:46:14.160Z"
   },
   {
    "duration": 74,
    "start_time": "2023-04-26T18:46:31.905Z"
   },
   {
    "duration": 9,
    "start_time": "2023-04-26T18:46:40.181Z"
   },
   {
    "duration": 11,
    "start_time": "2023-04-26T18:46:42.950Z"
   },
   {
    "duration": 146,
    "start_time": "2023-04-26T18:46:48.222Z"
   },
   {
    "duration": 7,
    "start_time": "2023-04-26T18:46:48.418Z"
   },
   {
    "duration": 8,
    "start_time": "2023-04-26T18:46:52.948Z"
   },
   {
    "duration": 18,
    "start_time": "2023-04-26T18:46:56.026Z"
   },
   {
    "duration": 5,
    "start_time": "2023-04-26T18:47:09.908Z"
   },
   {
    "duration": 5,
    "start_time": "2023-04-26T18:47:12.681Z"
   },
   {
    "duration": 9,
    "start_time": "2023-04-26T18:47:13.077Z"
   },
   {
    "duration": 10,
    "start_time": "2023-04-26T18:47:27.252Z"
   },
   {
    "duration": 13,
    "start_time": "2023-04-26T18:47:41.240Z"
   },
   {
    "duration": 9,
    "start_time": "2023-04-26T18:47:46.553Z"
   },
   {
    "duration": 8,
    "start_time": "2023-04-26T18:48:08.846Z"
   },
   {
    "duration": 9,
    "start_time": "2023-04-26T18:48:14.800Z"
   },
   {
    "duration": 137,
    "start_time": "2023-04-26T18:48:24.332Z"
   },
   {
    "duration": 6,
    "start_time": "2023-04-26T18:48:24.541Z"
   },
   {
    "duration": 20,
    "start_time": "2023-04-26T18:48:30.045Z"
   },
   {
    "duration": 21,
    "start_time": "2023-04-26T18:48:41.790Z"
   },
   {
    "duration": 586,
    "start_time": "2023-04-26T18:48:53.835Z"
   },
   {
    "duration": 26,
    "start_time": "2023-04-26T18:48:54.445Z"
   },
   {
    "duration": 9,
    "start_time": "2023-04-26T18:49:06.822Z"
   },
   {
    "duration": 6,
    "start_time": "2023-04-26T18:49:08.662Z"
   },
   {
    "duration": 12,
    "start_time": "2023-04-26T18:49:09.144Z"
   },
   {
    "duration": 87,
    "start_time": "2023-04-26T18:49:37.521Z"
   },
   {
    "duration": 596,
    "start_time": "2023-04-26T18:50:02.241Z"
   },
   {
    "duration": 29,
    "start_time": "2023-04-26T18:50:02.840Z"
   },
   {
    "duration": 3,
    "start_time": "2023-04-26T18:50:04.363Z"
   },
   {
    "duration": 3,
    "start_time": "2023-04-26T18:50:06.005Z"
   },
   {
    "duration": 16,
    "start_time": "2023-04-26T18:50:06.598Z"
   },
   {
    "duration": 7,
    "start_time": "2023-04-26T18:50:10.683Z"
   },
   {
    "duration": 3,
    "start_time": "2023-04-26T18:50:11.372Z"
   },
   {
    "duration": 10,
    "start_time": "2023-04-26T18:50:11.761Z"
   },
   {
    "duration": 5,
    "start_time": "2023-04-26T18:50:23.870Z"
   },
   {
    "duration": 2,
    "start_time": "2023-04-26T18:50:24.457Z"
   },
   {
    "duration": 9,
    "start_time": "2023-04-26T18:50:24.820Z"
   },
   {
    "duration": 571,
    "start_time": "2023-04-26T18:50:30.722Z"
   },
   {
    "duration": 22,
    "start_time": "2023-04-26T18:50:31.295Z"
   },
   {
    "duration": 5,
    "start_time": "2023-04-26T18:50:31.319Z"
   },
   {
    "duration": 2,
    "start_time": "2023-04-26T18:50:31.479Z"
   },
   {
    "duration": 11,
    "start_time": "2023-04-26T18:50:32.053Z"
   },
   {
    "duration": 12,
    "start_time": "2023-04-26T18:50:33.008Z"
   },
   {
    "duration": 10,
    "start_time": "2023-04-26T18:50:38.829Z"
   },
   {
    "duration": 3,
    "start_time": "2023-04-26T18:50:39.248Z"
   },
   {
    "duration": 10,
    "start_time": "2023-04-26T18:50:39.525Z"
   },
   {
    "duration": 5,
    "start_time": "2023-04-26T18:51:16.726Z"
   },
   {
    "duration": 3,
    "start_time": "2023-04-26T18:51:17.583Z"
   },
   {
    "duration": 67,
    "start_time": "2023-04-26T18:51:17.809Z"
   },
   {
    "duration": 7,
    "start_time": "2023-04-26T18:51:20.425Z"
   },
   {
    "duration": 639,
    "start_time": "2023-04-26T18:51:26.391Z"
   },
   {
    "duration": 36,
    "start_time": "2023-04-26T18:51:27.032Z"
   },
   {
    "duration": 7,
    "start_time": "2023-04-26T18:51:27.069Z"
   },
   {
    "duration": 4,
    "start_time": "2023-04-26T18:51:27.078Z"
   },
   {
    "duration": 93,
    "start_time": "2023-04-26T18:51:27.084Z"
   },
   {
    "duration": 9,
    "start_time": "2023-04-26T18:51:27.717Z"
   },
   {
    "duration": 7,
    "start_time": "2023-04-26T18:51:33.211Z"
   },
   {
    "duration": 562,
    "start_time": "2023-04-26T18:51:43.623Z"
   },
   {
    "duration": 22,
    "start_time": "2023-04-26T18:51:44.188Z"
   },
   {
    "duration": 6,
    "start_time": "2023-04-26T18:51:44.212Z"
   },
   {
    "duration": 2,
    "start_time": "2023-04-26T18:51:44.818Z"
   },
   {
    "duration": 10,
    "start_time": "2023-04-26T18:51:45.747Z"
   },
   {
    "duration": 14,
    "start_time": "2023-04-26T18:51:47.197Z"
   },
   {
    "duration": 59,
    "start_time": "2023-04-26T18:52:13.378Z"
   },
   {
    "duration": 5,
    "start_time": "2023-04-26T18:52:19.145Z"
   },
   {
    "duration": 487,
    "start_time": "2023-04-26T18:52:29.097Z"
   },
   {
    "duration": 21,
    "start_time": "2023-04-26T18:52:29.585Z"
   },
   {
    "duration": 5,
    "start_time": "2023-04-26T18:52:29.861Z"
   },
   {
    "duration": 2,
    "start_time": "2023-04-26T18:52:31.354Z"
   },
   {
    "duration": 14,
    "start_time": "2023-04-26T18:52:31.900Z"
   },
   {
    "duration": 24,
    "start_time": "2023-04-26T18:52:36.563Z"
   },
   {
    "duration": 512,
    "start_time": "2023-04-26T18:54:37.507Z"
   },
   {
    "duration": 30,
    "start_time": "2023-04-26T18:54:38.021Z"
   },
   {
    "duration": 12,
    "start_time": "2023-04-26T18:54:38.053Z"
   },
   {
    "duration": 2,
    "start_time": "2023-04-26T18:54:38.207Z"
   },
   {
    "duration": 16,
    "start_time": "2023-04-26T18:54:38.697Z"
   },
   {
    "duration": 18,
    "start_time": "2023-04-26T18:54:39.265Z"
   },
   {
    "duration": 11,
    "start_time": "2023-04-26T18:54:49.091Z"
   },
   {
    "duration": 146,
    "start_time": "2023-04-26T18:54:55.650Z"
   },
   {
    "duration": 20,
    "start_time": "2023-04-26T18:54:55.799Z"
   },
   {
    "duration": 4,
    "start_time": "2023-04-26T18:54:56.080Z"
   },
   {
    "duration": 12,
    "start_time": "2023-04-26T18:54:56.085Z"
   },
   {
    "duration": 16,
    "start_time": "2023-04-26T18:54:56.503Z"
   },
   {
    "duration": 18,
    "start_time": "2023-04-26T18:54:58.335Z"
   },
   {
    "duration": 65,
    "start_time": "2023-04-26T18:56:14.946Z"
   },
   {
    "duration": 8,
    "start_time": "2023-04-26T18:56:57.097Z"
   },
   {
    "duration": 7,
    "start_time": "2023-04-26T18:57:02.411Z"
   },
   {
    "duration": 4,
    "start_time": "2023-04-26T18:57:07.803Z"
   },
   {
    "duration": 65,
    "start_time": "2023-04-26T18:57:07.808Z"
   },
   {
    "duration": 568,
    "start_time": "2023-04-26T18:57:13.750Z"
   },
   {
    "duration": 30,
    "start_time": "2023-04-26T18:57:14.320Z"
   },
   {
    "duration": 5,
    "start_time": "2023-04-26T18:57:14.365Z"
   },
   {
    "duration": 3,
    "start_time": "2023-04-26T18:57:14.898Z"
   },
   {
    "duration": 9,
    "start_time": "2023-04-26T18:57:15.588Z"
   },
   {
    "duration": 5,
    "start_time": "2023-04-26T18:58:05.323Z"
   },
   {
    "duration": 7,
    "start_time": "2023-04-26T18:58:05.834Z"
   },
   {
    "duration": 10,
    "start_time": "2023-04-26T18:58:05.990Z"
   },
   {
    "duration": 547,
    "start_time": "2023-04-26T18:58:11.346Z"
   },
   {
    "duration": 26,
    "start_time": "2023-04-26T18:58:11.895Z"
   },
   {
    "duration": 11,
    "start_time": "2023-04-26T18:58:11.922Z"
   },
   {
    "duration": 2,
    "start_time": "2023-04-26T18:58:12.068Z"
   },
   {
    "duration": 16,
    "start_time": "2023-04-26T18:58:12.403Z"
   },
   {
    "duration": 547,
    "start_time": "2023-04-26T18:59:56.454Z"
   },
   {
    "duration": 23,
    "start_time": "2023-04-26T18:59:57.003Z"
   },
   {
    "duration": 65,
    "start_time": "2023-04-26T18:59:57.028Z"
   },
   {
    "duration": 11,
    "start_time": "2023-04-26T19:00:06.384Z"
   },
   {
    "duration": 1345,
    "start_time": "2023-04-26T19:00:25.911Z"
   },
   {
    "duration": 2,
    "start_time": "2023-04-26T19:00:27.528Z"
   },
   {
    "duration": 16,
    "start_time": "2023-04-26T19:00:28.159Z"
   },
   {
    "duration": 539,
    "start_time": "2023-04-26T19:00:38.672Z"
   },
   {
    "duration": 30,
    "start_time": "2023-04-26T19:00:39.214Z"
   },
   {
    "duration": 5,
    "start_time": "2023-04-26T19:00:40.421Z"
   },
   {
    "duration": 2,
    "start_time": "2023-04-26T19:00:43.214Z"
   },
   {
    "duration": 15,
    "start_time": "2023-04-26T19:00:43.608Z"
   },
   {
    "duration": 73,
    "start_time": "2023-04-26T19:00:49.260Z"
   },
   {
    "duration": 18,
    "start_time": "2023-04-26T19:00:49.588Z"
   },
   {
    "duration": 8,
    "start_time": "2023-04-26T19:01:32.188Z"
   },
   {
    "duration": 594,
    "start_time": "2023-04-26T19:01:41.157Z"
   },
   {
    "duration": 26,
    "start_time": "2023-04-26T19:01:41.753Z"
   },
   {
    "duration": 6,
    "start_time": "2023-04-26T19:01:41.780Z"
   },
   {
    "duration": 18,
    "start_time": "2023-04-26T19:01:41.790Z"
   },
   {
    "duration": 10,
    "start_time": "2023-04-26T19:01:42.482Z"
   },
   {
    "duration": 5,
    "start_time": "2023-04-26T19:01:53.791Z"
   },
   {
    "duration": 7,
    "start_time": "2023-04-26T19:01:54.563Z"
   },
   {
    "duration": 11,
    "start_time": "2023-04-26T19:01:54.957Z"
   },
   {
    "duration": 621,
    "start_time": "2023-04-26T19:01:59.607Z"
   },
   {
    "duration": 35,
    "start_time": "2023-04-26T19:02:00.231Z"
   },
   {
    "duration": 7,
    "start_time": "2023-04-26T19:02:00.268Z"
   },
   {
    "duration": 96,
    "start_time": "2023-04-26T19:02:01.987Z"
   },
   {
    "duration": 5,
    "start_time": "2023-04-26T19:02:29.274Z"
   },
   {
    "duration": 6,
    "start_time": "2023-04-26T19:02:31.612Z"
   },
   {
    "duration": 10,
    "start_time": "2023-04-26T19:02:35.985Z"
   },
   {
    "duration": 7,
    "start_time": "2023-04-26T19:02:37.048Z"
   },
   {
    "duration": 503,
    "start_time": "2023-04-26T19:14:03.481Z"
   },
   {
    "duration": 23,
    "start_time": "2023-04-26T19:14:03.985Z"
   },
   {
    "duration": 6,
    "start_time": "2023-04-26T19:14:04.752Z"
   },
   {
    "duration": 5,
    "start_time": "2023-04-26T19:14:05.767Z"
   },
   {
    "duration": 549,
    "start_time": "2023-04-26T19:14:29.549Z"
   },
   {
    "duration": 27,
    "start_time": "2023-04-26T19:14:30.100Z"
   },
   {
    "duration": 43,
    "start_time": "2023-04-26T19:14:30.129Z"
   },
   {
    "duration": 10,
    "start_time": "2023-04-26T19:14:51.317Z"
   },
   {
    "duration": 555,
    "start_time": "2023-04-26T19:14:56.023Z"
   },
   {
    "duration": 20,
    "start_time": "2023-04-26T19:14:56.580Z"
   },
   {
    "duration": 32,
    "start_time": "2023-04-26T19:14:56.601Z"
   },
   {
    "duration": 15,
    "start_time": "2023-04-26T19:15:25.482Z"
   },
   {
    "duration": 534,
    "start_time": "2023-04-26T19:15:56.668Z"
   },
   {
    "duration": 20,
    "start_time": "2023-04-26T19:15:57.203Z"
   },
   {
    "duration": 5,
    "start_time": "2023-04-26T19:15:57.224Z"
   },
   {
    "duration": 9,
    "start_time": "2023-04-26T19:15:58.565Z"
   },
   {
    "duration": 9,
    "start_time": "2023-04-26T19:15:59.964Z"
   },
   {
    "duration": 524,
    "start_time": "2023-04-26T19:16:09.469Z"
   },
   {
    "duration": 30,
    "start_time": "2023-04-26T19:16:09.996Z"
   },
   {
    "duration": 38,
    "start_time": "2023-04-26T19:16:10.028Z"
   },
   {
    "duration": 8,
    "start_time": "2023-04-26T19:16:17.646Z"
   },
   {
    "duration": 5,
    "start_time": "2023-04-26T19:16:24.246Z"
   },
   {
    "duration": 4,
    "start_time": "2023-04-26T19:16:37.283Z"
   },
   {
    "duration": 541,
    "start_time": "2023-04-26T19:16:46.246Z"
   },
   {
    "duration": 30,
    "start_time": "2023-04-26T19:16:48.423Z"
   },
   {
    "duration": 15,
    "start_time": "2023-04-26T19:17:09.603Z"
   },
   {
    "duration": 70,
    "start_time": "2023-04-26T19:17:53.200Z"
   },
   {
    "duration": 520,
    "start_time": "2023-04-26T19:18:00.557Z"
   },
   {
    "duration": 63,
    "start_time": "2023-04-26T19:18:02.367Z"
   },
   {
    "duration": 10,
    "start_time": "2023-04-26T19:18:14.601Z"
   },
   {
    "duration": 7,
    "start_time": "2023-04-26T19:18:16.750Z"
   },
   {
    "duration": 527,
    "start_time": "2023-04-26T19:18:23.569Z"
   },
   {
    "duration": 22,
    "start_time": "2023-04-26T19:18:24.098Z"
   },
   {
    "duration": 16,
    "start_time": "2023-04-26T19:18:43.148Z"
   },
   {
    "duration": 5,
    "start_time": "2023-04-26T19:18:52.546Z"
   },
   {
    "duration": 504,
    "start_time": "2023-04-26T19:18:56.687Z"
   },
   {
    "duration": 782,
    "start_time": "2023-04-26T19:18:57.193Z"
   },
   {
    "duration": 509,
    "start_time": "2023-04-26T19:19:11.263Z"
   },
   {
    "duration": 9,
    "start_time": "2023-04-26T19:19:11.775Z"
   },
   {
    "duration": 594,
    "start_time": "2023-04-26T19:20:08.906Z"
   },
   {
    "duration": 855,
    "start_time": "2023-04-26T19:20:09.503Z"
   },
   {
    "duration": 581,
    "start_time": "2023-04-26T19:20:32.402Z"
   },
   {
    "duration": 819,
    "start_time": "2023-04-26T19:20:32.986Z"
   },
   {
    "duration": 666,
    "start_time": "2023-04-26T19:20:46.009Z"
   },
   {
    "duration": 25,
    "start_time": "2023-04-26T19:20:46.678Z"
   },
   {
    "duration": 602,
    "start_time": "2023-04-26T19:25:05.128Z"
   },
   {
    "duration": 9,
    "start_time": "2023-04-26T19:25:05.732Z"
   },
   {
    "duration": 960,
    "start_time": "2023-04-26T19:25:45.828Z"
   },
   {
    "duration": 612,
    "start_time": "2023-04-26T19:25:57.317Z"
   },
   {
    "duration": 933,
    "start_time": "2023-04-26T19:25:57.932Z"
   },
   {
    "duration": 496,
    "start_time": "2023-04-26T19:28:54.199Z"
   },
   {
    "duration": 9,
    "start_time": "2023-04-26T19:28:56.282Z"
   },
   {
    "duration": 5,
    "start_time": "2023-04-26T19:30:59.196Z"
   },
   {
    "duration": 551,
    "start_time": "2023-04-26T19:31:06.137Z"
   },
   {
    "duration": 10,
    "start_time": "2023-04-26T19:31:06.690Z"
   },
   {
    "duration": 5,
    "start_time": "2023-04-26T19:31:13.777Z"
   },
   {
    "duration": 5,
    "start_time": "2023-04-26T19:31:23.932Z"
   },
   {
    "duration": 6,
    "start_time": "2023-04-26T19:31:31.773Z"
   },
   {
    "duration": 131,
    "start_time": "2023-04-26T19:31:41.009Z"
   },
   {
    "duration": 10,
    "start_time": "2023-04-26T19:31:41.692Z"
   },
   {
    "duration": 540,
    "start_time": "2023-04-26T19:32:35.732Z"
   },
   {
    "duration": 77,
    "start_time": "2023-04-26T19:32:36.505Z"
   },
   {
    "duration": 500,
    "start_time": "2023-04-26T19:32:52.699Z"
   },
   {
    "duration": 75,
    "start_time": "2023-04-26T19:32:54.811Z"
   },
   {
    "duration": 543,
    "start_time": "2023-04-26T19:33:08.290Z"
   },
   {
    "duration": 506,
    "start_time": "2023-04-26T19:33:15.954Z"
   },
   {
    "duration": 392,
    "start_time": "2023-04-26T19:33:17.579Z"
   },
   {
    "duration": 24,
    "start_time": "2023-04-26T19:33:26.492Z"
   },
   {
    "duration": 544,
    "start_time": "2023-04-26T19:33:31.971Z"
   },
   {
    "duration": 109,
    "start_time": "2023-04-26T19:33:32.517Z"
   },
   {
    "duration": 10,
    "start_time": "2023-04-26T19:33:59.882Z"
   },
   {
    "duration": 15,
    "start_time": "2023-04-26T19:34:38.046Z"
   },
   {
    "duration": 16,
    "start_time": "2023-04-26T19:34:40.101Z"
   },
   {
    "duration": 11,
    "start_time": "2023-04-26T19:34:42.925Z"
   },
   {
    "duration": 583,
    "start_time": "2023-04-26T19:35:04.218Z"
   },
   {
    "duration": 19,
    "start_time": "2023-04-26T19:35:04.802Z"
   },
   {
    "duration": 18,
    "start_time": "2023-04-26T19:35:04.823Z"
   },
   {
    "duration": 11,
    "start_time": "2023-04-26T19:35:06.160Z"
   },
   {
    "duration": 28,
    "start_time": "2023-04-26T19:35:18.422Z"
   },
   {
    "duration": 31,
    "start_time": "2023-04-26T19:35:24.462Z"
   },
   {
    "duration": 78,
    "start_time": "2023-04-26T19:36:33.378Z"
   },
   {
    "duration": 18,
    "start_time": "2023-04-26T19:36:49.631Z"
   },
   {
    "duration": 524,
    "start_time": "2023-04-26T19:36:55.095Z"
   },
   {
    "duration": 17,
    "start_time": "2023-04-26T19:36:55.620Z"
   },
   {
    "duration": 15,
    "start_time": "2023-04-26T19:36:55.899Z"
   },
   {
    "duration": 73,
    "start_time": "2023-04-26T19:36:56.884Z"
   },
   {
    "duration": 17,
    "start_time": "2023-04-26T19:37:00.092Z"
   },
   {
    "duration": 29,
    "start_time": "2023-04-26T19:37:06.540Z"
   },
   {
    "duration": 900,
    "start_time": "2023-04-27T17:46:49.398Z"
   },
   {
    "duration": 17,
    "start_time": "2023-04-27T17:46:50.300Z"
   },
   {
    "duration": 21,
    "start_time": "2023-04-27T17:46:52.668Z"
   },
   {
    "duration": 32,
    "start_time": "2023-04-27T17:46:53.833Z"
   },
   {
    "duration": 32,
    "start_time": "2023-04-27T17:47:29.861Z"
   },
   {
    "duration": 14,
    "start_time": "2023-04-27T17:47:57.534Z"
   },
   {
    "duration": 13,
    "start_time": "2023-04-27T17:48:02.148Z"
   },
   {
    "duration": 14,
    "start_time": "2023-04-27T17:48:06.443Z"
   },
   {
    "duration": 14,
    "start_time": "2023-04-27T17:48:14.251Z"
   },
   {
    "duration": 14,
    "start_time": "2023-04-27T17:48:40.820Z"
   },
   {
    "duration": 12,
    "start_time": "2023-04-27T17:48:54.165Z"
   },
   {
    "duration": 23,
    "start_time": "2023-04-27T17:49:03.040Z"
   },
   {
    "duration": 528,
    "start_time": "2023-04-27T17:49:21.135Z"
   },
   {
    "duration": 16,
    "start_time": "2023-04-27T17:49:21.664Z"
   },
   {
    "duration": 15,
    "start_time": "2023-04-27T17:49:22.069Z"
   },
   {
    "duration": 35,
    "start_time": "2023-04-27T17:49:22.866Z"
   },
   {
    "duration": 30,
    "start_time": "2023-04-27T17:49:51.663Z"
   },
   {
    "duration": 18,
    "start_time": "2023-04-27T17:50:04.041Z"
   },
   {
    "duration": 63,
    "start_time": "2023-04-27T17:54:33.299Z"
   },
   {
    "duration": 41,
    "start_time": "2023-04-27T17:58:45.989Z"
   },
   {
    "duration": 12,
    "start_time": "2023-04-27T17:58:50.807Z"
   },
   {
    "duration": 10,
    "start_time": "2023-04-27T18:02:04.515Z"
   },
   {
    "duration": 537,
    "start_time": "2023-04-27T18:02:11.424Z"
   },
   {
    "duration": 16,
    "start_time": "2023-04-27T18:02:11.963Z"
   },
   {
    "duration": 15,
    "start_time": "2023-04-27T18:02:12.607Z"
   },
   {
    "duration": 33,
    "start_time": "2023-04-27T18:02:13.133Z"
   },
   {
    "duration": 17,
    "start_time": "2023-04-27T18:02:13.899Z"
   },
   {
    "duration": 12,
    "start_time": "2023-04-27T18:02:14.852Z"
   },
   {
    "duration": 75,
    "start_time": "2023-04-27T18:02:15.769Z"
   },
   {
    "duration": 344,
    "start_time": "2023-04-27T18:02:58.073Z"
   },
   {
    "duration": 5,
    "start_time": "2023-04-27T18:03:42.305Z"
   },
   {
    "duration": 20,
    "start_time": "2023-04-27T18:04:08.315Z"
   },
   {
    "duration": 16,
    "start_time": "2023-04-27T18:06:40.875Z"
   },
   {
    "duration": 68,
    "start_time": "2023-04-27T18:07:06.733Z"
   },
   {
    "duration": 10,
    "start_time": "2023-04-27T18:08:05.798Z"
   },
   {
    "duration": 19,
    "start_time": "2023-04-27T18:08:10.097Z"
   },
   {
    "duration": 16,
    "start_time": "2023-04-27T18:08:27.481Z"
   },
   {
    "duration": 26,
    "start_time": "2023-04-27T18:09:05.743Z"
   },
   {
    "duration": 84,
    "start_time": "2023-04-27T18:09:23.964Z"
   },
   {
    "duration": 19,
    "start_time": "2023-04-27T18:09:34.166Z"
   },
   {
    "duration": 15,
    "start_time": "2023-04-27T18:09:57.070Z"
   },
   {
    "duration": 5,
    "start_time": "2023-04-27T18:10:54.196Z"
   },
   {
    "duration": 28,
    "start_time": "2023-04-27T18:12:10.568Z"
   },
   {
    "duration": 919,
    "start_time": "2023-04-27T18:12:50.429Z"
   },
   {
    "duration": 540,
    "start_time": "2023-04-27T18:13:01.660Z"
   },
   {
    "duration": 18,
    "start_time": "2023-04-27T18:13:02.202Z"
   },
   {
    "duration": 14,
    "start_time": "2023-04-27T18:13:02.749Z"
   },
   {
    "duration": 42,
    "start_time": "2023-04-27T18:13:03.233Z"
   },
   {
    "duration": 21,
    "start_time": "2023-04-27T18:13:04.181Z"
   },
   {
    "duration": 11,
    "start_time": "2023-04-27T18:13:05.339Z"
   },
   {
    "duration": 612,
    "start_time": "2023-04-27T18:13:06.250Z"
   },
   {
    "duration": 1003,
    "start_time": "2023-04-27T18:13:38.945Z"
   },
   {
    "duration": 4,
    "start_time": "2023-04-27T18:13:45.623Z"
   },
   {
    "duration": 1900,
    "start_time": "2023-04-27T18:14:46.002Z"
   },
   {
    "duration": 567,
    "start_time": "2023-04-27T18:15:04.548Z"
   },
   {
    "duration": 19,
    "start_time": "2023-04-27T18:15:05.118Z"
   },
   {
    "duration": 22,
    "start_time": "2023-04-27T18:15:06.535Z"
   },
   {
    "duration": 37,
    "start_time": "2023-04-27T18:15:06.862Z"
   },
   {
    "duration": 19,
    "start_time": "2023-04-27T18:15:07.601Z"
   },
   {
    "duration": 11,
    "start_time": "2023-04-27T18:15:08.522Z"
   },
   {
    "duration": 2285,
    "start_time": "2023-04-27T18:15:09.471Z"
   },
   {
    "duration": 988,
    "start_time": "2023-04-27T18:18:20.800Z"
   },
   {
    "duration": 578,
    "start_time": "2023-04-27T18:18:30.452Z"
   },
   {
    "duration": 17,
    "start_time": "2023-04-27T18:18:31.033Z"
   },
   {
    "duration": 17,
    "start_time": "2023-04-27T18:18:31.160Z"
   },
   {
    "duration": 30,
    "start_time": "2023-04-27T18:18:31.477Z"
   },
   {
    "duration": 16,
    "start_time": "2023-04-27T18:18:31.868Z"
   },
   {
    "duration": 11,
    "start_time": "2023-04-27T18:18:32.407Z"
   },
   {
    "duration": 7,
    "start_time": "2023-04-27T18:18:33.073Z"
   },
   {
    "duration": 20,
    "start_time": "2023-04-27T18:18:40.794Z"
   },
   {
    "duration": 26,
    "start_time": "2023-04-27T18:22:09.859Z"
   },
   {
    "duration": 9,
    "start_time": "2023-04-27T18:22:15.320Z"
   },
   {
    "duration": 5,
    "start_time": "2023-04-27T18:25:34.520Z"
   },
   {
    "duration": 11,
    "start_time": "2023-04-27T18:26:48.045Z"
   },
   {
    "duration": 95,
    "start_time": "2023-04-27T18:27:54.348Z"
   },
   {
    "duration": 7,
    "start_time": "2023-04-27T18:27:57.396Z"
   },
   {
    "duration": 9,
    "start_time": "2023-04-27T18:28:01.728Z"
   },
   {
    "duration": 5,
    "start_time": "2023-04-27T18:28:46.865Z"
   },
   {
    "duration": 15,
    "start_time": "2023-04-27T18:29:04.104Z"
   },
   {
    "duration": 71,
    "start_time": "2023-04-27T18:29:35.822Z"
   },
   {
    "duration": 5,
    "start_time": "2023-04-27T18:29:58.711Z"
   },
   {
    "duration": 89,
    "start_time": "2023-04-27T18:33:27.438Z"
   },
   {
    "duration": 1378,
    "start_time": "2023-04-27T18:33:30.918Z"
   },
   {
    "duration": 6,
    "start_time": "2023-04-27T18:33:53.538Z"
   },
   {
    "duration": 4,
    "start_time": "2023-04-27T18:34:54.268Z"
   },
   {
    "duration": 22,
    "start_time": "2023-04-27T18:36:12.270Z"
   },
   {
    "duration": 7,
    "start_time": "2023-04-27T18:38:36.534Z"
   },
   {
    "duration": 1000,
    "start_time": "2023-04-28T13:17:29.410Z"
   },
   {
    "duration": 18,
    "start_time": "2023-04-28T13:17:30.412Z"
   },
   {
    "duration": 57,
    "start_time": "2023-04-28T13:17:30.431Z"
   },
   {
    "duration": 46,
    "start_time": "2023-04-28T13:17:30.532Z"
   },
   {
    "duration": 16,
    "start_time": "2023-04-28T13:17:31.261Z"
   },
   {
    "duration": 13,
    "start_time": "2023-04-28T13:17:32.150Z"
   },
   {
    "duration": 19,
    "start_time": "2023-04-28T13:17:32.722Z"
   },
   {
    "duration": 9,
    "start_time": "2023-04-28T13:17:33.764Z"
   },
   {
    "duration": 4,
    "start_time": "2023-04-28T13:17:35.814Z"
   },
   {
    "duration": 20,
    "start_time": "2023-04-28T13:17:36.785Z"
   },
   {
    "duration": 6,
    "start_time": "2023-04-28T13:17:37.173Z"
   },
   {
    "duration": 4,
    "start_time": "2023-04-28T13:17:37.814Z"
   },
   {
    "duration": 5,
    "start_time": "2023-04-28T13:17:38.425Z"
   },
   {
    "duration": 15,
    "start_time": "2023-04-28T13:20:47.852Z"
   },
   {
    "duration": 11,
    "start_time": "2023-04-28T13:20:52.868Z"
   },
   {
    "duration": 10,
    "start_time": "2023-04-28T13:21:14.675Z"
   },
   {
    "duration": 12,
    "start_time": "2023-04-28T13:21:39.079Z"
   },
   {
    "duration": 42,
    "start_time": "2023-04-28T13:21:42.414Z"
   },
   {
    "duration": 33,
    "start_time": "2023-04-28T13:22:01.053Z"
   },
   {
    "duration": 41,
    "start_time": "2023-04-28T13:22:19.127Z"
   },
   {
    "duration": 44,
    "start_time": "2023-04-28T13:22:34.659Z"
   },
   {
    "duration": 35,
    "start_time": "2023-04-28T13:22:55.666Z"
   },
   {
    "duration": 150,
    "start_time": "2023-04-28T13:23:12.717Z"
   },
   {
    "duration": 142,
    "start_time": "2023-04-28T13:23:50.334Z"
   },
   {
    "duration": 83,
    "start_time": "2023-04-28T13:24:00.819Z"
   },
   {
    "duration": 84,
    "start_time": "2023-04-28T13:24:50.220Z"
   },
   {
    "duration": 42,
    "start_time": "2023-04-28T13:24:58.321Z"
   },
   {
    "duration": 15,
    "start_time": "2023-04-28T13:25:16.245Z"
   },
   {
    "duration": 49,
    "start_time": "2023-04-28T13:26:59.177Z"
   },
   {
    "duration": 29,
    "start_time": "2023-04-28T13:27:04.627Z"
   },
   {
    "duration": 46,
    "start_time": "2023-04-28T13:27:26.021Z"
   },
   {
    "duration": 10,
    "start_time": "2023-04-28T13:27:47.117Z"
   },
   {
    "duration": 86,
    "start_time": "2023-04-28T13:35:32.533Z"
   },
   {
    "duration": 29,
    "start_time": "2023-04-28T13:35:36.030Z"
   },
   {
    "duration": 12,
    "start_time": "2023-04-28T13:35:40.068Z"
   },
   {
    "duration": 13,
    "start_time": "2023-04-28T13:35:51.775Z"
   },
   {
    "duration": 18,
    "start_time": "2023-04-28T13:36:14.549Z"
   },
   {
    "duration": 31,
    "start_time": "2023-04-28T13:36:45.020Z"
   },
   {
    "duration": 6,
    "start_time": "2023-04-28T13:38:47.904Z"
   },
   {
    "duration": 7,
    "start_time": "2023-04-28T13:38:58.510Z"
   },
   {
    "duration": 6,
    "start_time": "2023-04-28T13:39:04.883Z"
   },
   {
    "duration": 7,
    "start_time": "2023-04-28T13:39:08.398Z"
   },
   {
    "duration": 51,
    "start_time": "2023-04-28T13:39:22.220Z"
   },
   {
    "duration": 24,
    "start_time": "2023-04-28T13:40:26.328Z"
   },
   {
    "duration": 9,
    "start_time": "2023-04-28T13:50:16.173Z"
   },
   {
    "duration": 6,
    "start_time": "2023-04-28T13:50:53.405Z"
   },
   {
    "duration": 13,
    "start_time": "2023-04-28T13:50:56.658Z"
   },
   {
    "duration": 15,
    "start_time": "2023-04-28T13:50:59.771Z"
   },
   {
    "duration": 17,
    "start_time": "2023-04-28T13:51:07.255Z"
   },
   {
    "duration": 18,
    "start_time": "2023-04-28T13:51:11.653Z"
   },
   {
    "duration": 21,
    "start_time": "2023-04-28T13:51:14.063Z"
   },
   {
    "duration": 10,
    "start_time": "2023-04-28T13:51:32.883Z"
   },
   {
    "duration": 38,
    "start_time": "2023-04-28T13:53:16.075Z"
   },
   {
    "duration": 151,
    "start_time": "2023-04-28T14:10:06.208Z"
   },
   {
    "duration": 19,
    "start_time": "2023-04-28T14:10:06.380Z"
   },
   {
    "duration": 14,
    "start_time": "2023-04-28T14:10:07.365Z"
   },
   {
    "duration": 22,
    "start_time": "2023-04-28T14:10:07.726Z"
   },
   {
    "duration": 14,
    "start_time": "2023-04-28T14:10:08.050Z"
   },
   {
    "duration": 9,
    "start_time": "2023-04-28T14:10:08.404Z"
   },
   {
    "duration": 16,
    "start_time": "2023-04-28T14:10:08.805Z"
   },
   {
    "duration": 9,
    "start_time": "2023-04-28T14:10:09.333Z"
   },
   {
    "duration": 5,
    "start_time": "2023-04-28T14:10:09.702Z"
   },
   {
    "duration": 16,
    "start_time": "2023-04-28T14:10:10.058Z"
   },
   {
    "duration": 5,
    "start_time": "2023-04-28T14:10:10.942Z"
   },
   {
    "duration": 3,
    "start_time": "2023-04-28T14:10:13.785Z"
   },
   {
    "duration": 9,
    "start_time": "2023-04-28T14:10:14.029Z"
   },
   {
    "duration": 8,
    "start_time": "2023-04-28T14:10:14.324Z"
   },
   {
    "duration": 13,
    "start_time": "2023-04-28T14:10:15.191Z"
   },
   {
    "duration": 18,
    "start_time": "2023-04-28T14:10:15.500Z"
   },
   {
    "duration": 15,
    "start_time": "2023-04-28T14:10:16.267Z"
   },
   {
    "duration": 13,
    "start_time": "2023-04-28T14:10:20.021Z"
   },
   {
    "duration": 23,
    "start_time": "2023-04-28T14:10:20.918Z"
   },
   {
    "duration": 20,
    "start_time": "2023-04-28T14:14:43.473Z"
   },
   {
    "duration": 5,
    "start_time": "2023-04-28T14:16:52.525Z"
   },
   {
    "duration": 4,
    "start_time": "2023-04-28T14:17:02.222Z"
   },
   {
    "duration": 5,
    "start_time": "2023-04-28T14:18:41.565Z"
   },
   {
    "duration": 5,
    "start_time": "2023-04-28T14:18:55.254Z"
   },
   {
    "duration": 7,
    "start_time": "2023-04-28T14:19:28.087Z"
   },
   {
    "duration": 5,
    "start_time": "2023-04-28T14:20:39.742Z"
   },
   {
    "duration": 5,
    "start_time": "2023-04-28T14:21:37.326Z"
   },
   {
    "duration": 7,
    "start_time": "2023-04-28T14:22:02.120Z"
   },
   {
    "duration": 6,
    "start_time": "2023-04-28T14:22:05.905Z"
   },
   {
    "duration": 4,
    "start_time": "2023-04-28T14:22:10.954Z"
   },
   {
    "duration": 152,
    "start_time": "2023-04-28T14:22:20.366Z"
   },
   {
    "duration": 16,
    "start_time": "2023-04-28T14:22:20.520Z"
   },
   {
    "duration": 20,
    "start_time": "2023-04-28T14:22:20.537Z"
   },
   {
    "duration": 23,
    "start_time": "2023-04-28T14:22:20.559Z"
   },
   {
    "duration": 13,
    "start_time": "2023-04-28T14:22:20.584Z"
   },
   {
    "duration": 11,
    "start_time": "2023-04-28T14:22:20.599Z"
   },
   {
    "duration": 33,
    "start_time": "2023-04-28T14:22:20.612Z"
   },
   {
    "duration": 8,
    "start_time": "2023-04-28T14:22:20.647Z"
   },
   {
    "duration": 17,
    "start_time": "2023-04-28T14:22:20.657Z"
   },
   {
    "duration": 17,
    "start_time": "2023-04-28T14:22:20.677Z"
   },
   {
    "duration": 10,
    "start_time": "2023-04-28T14:22:20.695Z"
   },
   {
    "duration": 11,
    "start_time": "2023-04-28T14:22:20.707Z"
   },
   {
    "duration": 9,
    "start_time": "2023-04-28T14:22:20.720Z"
   },
   {
    "duration": 15,
    "start_time": "2023-04-28T14:22:20.730Z"
   },
   {
    "duration": 15,
    "start_time": "2023-04-28T14:22:20.746Z"
   },
   {
    "duration": 15,
    "start_time": "2023-04-28T14:22:20.763Z"
   },
   {
    "duration": 13,
    "start_time": "2023-04-28T14:22:20.780Z"
   },
   {
    "duration": 15,
    "start_time": "2023-04-28T14:22:20.795Z"
   },
   {
    "duration": 4,
    "start_time": "2023-04-28T14:22:25.784Z"
   },
   {
    "duration": 6,
    "start_time": "2023-04-28T14:22:31.086Z"
   },
   {
    "duration": 6,
    "start_time": "2023-04-28T14:22:35.653Z"
   },
   {
    "duration": 6,
    "start_time": "2023-04-28T14:22:43.783Z"
   },
   {
    "duration": 6,
    "start_time": "2023-04-28T14:22:56.229Z"
   },
   {
    "duration": 8,
    "start_time": "2023-04-28T14:22:57.225Z"
   },
   {
    "duration": 13,
    "start_time": "2023-04-28T14:26:09.961Z"
   },
   {
    "duration": 6,
    "start_time": "2023-04-28T14:27:58.132Z"
   },
   {
    "duration": 133,
    "start_time": "2023-04-28T14:59:42.650Z"
   },
   {
    "duration": 14,
    "start_time": "2023-04-28T14:59:42.802Z"
   },
   {
    "duration": 18,
    "start_time": "2023-04-28T14:59:43.276Z"
   },
   {
    "duration": 24,
    "start_time": "2023-04-28T14:59:43.528Z"
   },
   {
    "duration": 15,
    "start_time": "2023-04-28T14:59:43.920Z"
   },
   {
    "duration": 10,
    "start_time": "2023-04-28T14:59:44.339Z"
   },
   {
    "duration": 17,
    "start_time": "2023-04-28T14:59:44.661Z"
   },
   {
    "duration": 9,
    "start_time": "2023-04-28T14:59:45.434Z"
   },
   {
    "duration": 6,
    "start_time": "2023-04-28T14:59:45.906Z"
   },
   {
    "duration": 17,
    "start_time": "2023-04-28T14:59:46.377Z"
   },
   {
    "duration": 7,
    "start_time": "2023-04-28T14:59:46.680Z"
   },
   {
    "duration": 3,
    "start_time": "2023-04-28T14:59:47.376Z"
   },
   {
    "duration": 7,
    "start_time": "2023-04-28T14:59:48.029Z"
   },
   {
    "duration": 11,
    "start_time": "2023-04-28T14:59:48.895Z"
   },
   {
    "duration": 15,
    "start_time": "2023-04-28T14:59:50.360Z"
   },
   {
    "duration": 21,
    "start_time": "2023-04-28T14:59:50.709Z"
   },
   {
    "duration": 18,
    "start_time": "2023-04-28T14:59:50.998Z"
   },
   {
    "duration": 12,
    "start_time": "2023-04-28T14:59:51.967Z"
   },
   {
    "duration": 4,
    "start_time": "2023-04-28T14:59:53.210Z"
   },
   {
    "duration": 7,
    "start_time": "2023-04-28T14:59:53.939Z"
   },
   {
    "duration": 14,
    "start_time": "2023-04-28T14:59:54.680Z"
   },
   {
    "duration": 21,
    "start_time": "2023-04-28T15:01:35.119Z"
   },
   {
    "duration": 9,
    "start_time": "2023-04-28T15:01:41.482Z"
   },
   {
    "duration": 773,
    "start_time": "2023-04-29T06:43:10.528Z"
   },
   {
    "duration": 25,
    "start_time": "2023-04-29T06:43:11.304Z"
   },
   {
    "duration": 16,
    "start_time": "2023-04-29T06:43:11.360Z"
   },
   {
    "duration": 49,
    "start_time": "2023-04-29T06:43:11.681Z"
   },
   {
    "duration": 23,
    "start_time": "2023-04-29T06:43:12.040Z"
   },
   {
    "duration": 16,
    "start_time": "2023-04-29T06:43:12.384Z"
   },
   {
    "duration": 39,
    "start_time": "2023-04-29T06:43:13.153Z"
   },
   {
    "duration": 9,
    "start_time": "2023-04-29T06:43:13.824Z"
   },
   {
    "duration": 6,
    "start_time": "2023-04-29T06:43:14.277Z"
   },
   {
    "duration": 16,
    "start_time": "2023-04-29T06:43:14.726Z"
   },
   {
    "duration": 6,
    "start_time": "2023-04-29T06:43:14.928Z"
   },
   {
    "duration": 5,
    "start_time": "2023-04-29T06:43:15.348Z"
   },
   {
    "duration": 12,
    "start_time": "2023-04-29T06:43:15.981Z"
   },
   {
    "duration": 11,
    "start_time": "2023-04-29T06:43:16.559Z"
   },
   {
    "duration": 22,
    "start_time": "2023-04-29T06:43:17.768Z"
   },
   {
    "duration": 29,
    "start_time": "2023-04-29T06:43:18.405Z"
   },
   {
    "duration": 23,
    "start_time": "2023-04-29T06:43:18.778Z"
   },
   {
    "duration": 10,
    "start_time": "2023-04-29T06:43:19.441Z"
   },
   {
    "duration": 5,
    "start_time": "2023-04-29T06:43:20.564Z"
   },
   {
    "duration": 9,
    "start_time": "2023-04-29T06:43:21.229Z"
   },
   {
    "duration": 34,
    "start_time": "2023-04-29T06:43:21.973Z"
   },
   {
    "duration": 9,
    "start_time": "2023-04-29T06:43:22.656Z"
   },
   {
    "duration": 37,
    "start_time": "2023-04-29T06:44:09.982Z"
   },
   {
    "duration": 79,
    "start_time": "2023-04-29T06:45:05.322Z"
   },
   {
    "duration": 41,
    "start_time": "2023-04-29T06:45:32.521Z"
   },
   {
    "duration": 11,
    "start_time": "2023-04-29T06:45:42.061Z"
   },
   {
    "duration": 7,
    "start_time": "2023-04-29T06:46:02.481Z"
   },
   {
    "duration": 7,
    "start_time": "2023-04-29T06:46:25.510Z"
   },
   {
    "duration": 13,
    "start_time": "2023-04-29T06:47:27.816Z"
   },
   {
    "duration": 7,
    "start_time": "2023-04-29T06:47:33.593Z"
   },
   {
    "duration": 22,
    "start_time": "2023-04-29T06:47:34.080Z"
   },
   {
    "duration": 174,
    "start_time": "2023-04-29T06:47:38.344Z"
   },
   {
    "duration": 26,
    "start_time": "2023-04-29T06:47:38.521Z"
   },
   {
    "duration": 15,
    "start_time": "2023-04-29T06:47:38.550Z"
   },
   {
    "duration": 38,
    "start_time": "2023-04-29T06:47:38.566Z"
   },
   {
    "duration": 15,
    "start_time": "2023-04-29T06:47:38.608Z"
   },
   {
    "duration": 10,
    "start_time": "2023-04-29T06:47:38.625Z"
   },
   {
    "duration": 24,
    "start_time": "2023-04-29T06:47:38.637Z"
   },
   {
    "duration": 36,
    "start_time": "2023-04-29T06:47:38.663Z"
   },
   {
    "duration": 6,
    "start_time": "2023-04-29T06:47:38.703Z"
   },
   {
    "duration": 25,
    "start_time": "2023-04-29T06:47:38.712Z"
   },
   {
    "duration": 5,
    "start_time": "2023-04-29T06:47:38.739Z"
   },
   {
    "duration": 4,
    "start_time": "2023-04-29T06:47:38.745Z"
   },
   {
    "duration": 6,
    "start_time": "2023-04-29T06:47:38.751Z"
   },
   {
    "duration": 13,
    "start_time": "2023-04-29T06:47:38.787Z"
   },
   {
    "duration": 13,
    "start_time": "2023-04-29T06:47:38.802Z"
   },
   {
    "duration": 18,
    "start_time": "2023-04-29T06:47:38.816Z"
   },
   {
    "duration": 14,
    "start_time": "2023-04-29T06:47:38.835Z"
   },
   {
    "duration": 48,
    "start_time": "2023-04-29T06:47:38.850Z"
   },
   {
    "duration": 5,
    "start_time": "2023-04-29T06:47:38.904Z"
   },
   {
    "duration": 11,
    "start_time": "2023-04-29T06:47:38.911Z"
   },
   {
    "duration": 21,
    "start_time": "2023-04-29T06:47:38.923Z"
   },
   {
    "duration": 6,
    "start_time": "2023-04-29T06:47:42.549Z"
   },
   {
    "duration": 9,
    "start_time": "2023-04-29T06:47:43.664Z"
   },
   {
    "duration": 11,
    "start_time": "2023-04-29T06:47:47.201Z"
   },
   {
    "duration": 7,
    "start_time": "2023-04-29T06:47:54.108Z"
   },
   {
    "duration": 9,
    "start_time": "2023-04-29T06:47:54.567Z"
   },
   {
    "duration": 164,
    "start_time": "2023-04-29T06:48:04.154Z"
   },
   {
    "duration": 24,
    "start_time": "2023-04-29T06:48:04.322Z"
   },
   {
    "duration": 21,
    "start_time": "2023-04-29T06:48:04.702Z"
   },
   {
    "duration": 32,
    "start_time": "2023-04-29T06:48:04.974Z"
   },
   {
    "duration": 18,
    "start_time": "2023-04-29T06:48:05.292Z"
   },
   {
    "duration": 11,
    "start_time": "2023-04-29T06:48:05.529Z"
   },
   {
    "duration": 19,
    "start_time": "2023-04-29T06:48:06.001Z"
   },
   {
    "duration": 11,
    "start_time": "2023-04-29T06:48:06.463Z"
   },
   {
    "duration": 5,
    "start_time": "2023-04-29T06:48:06.729Z"
   },
   {
    "duration": 26,
    "start_time": "2023-04-29T06:48:07.170Z"
   },
   {
    "duration": 8,
    "start_time": "2023-04-29T06:48:07.407Z"
   },
   {
    "duration": 5,
    "start_time": "2023-04-29T06:48:07.945Z"
   },
   {
    "duration": 8,
    "start_time": "2023-04-29T06:48:08.472Z"
   },
   {
    "duration": 9,
    "start_time": "2023-04-29T06:48:09.030Z"
   },
   {
    "duration": 22,
    "start_time": "2023-04-29T06:48:10.186Z"
   },
   {
    "duration": 29,
    "start_time": "2023-04-29T06:48:11.962Z"
   },
   {
    "duration": 15,
    "start_time": "2023-04-29T06:48:12.519Z"
   },
   {
    "duration": 16,
    "start_time": "2023-04-29T06:48:14.507Z"
   },
   {
    "duration": 5,
    "start_time": "2023-04-29T06:48:15.716Z"
   },
   {
    "duration": 8,
    "start_time": "2023-04-29T06:48:16.509Z"
   },
   {
    "duration": 14,
    "start_time": "2023-04-29T06:48:17.104Z"
   },
   {
    "duration": 5,
    "start_time": "2023-04-29T06:48:17.649Z"
   },
   {
    "duration": 17,
    "start_time": "2023-04-29T06:48:18.956Z"
   },
   {
    "duration": 8,
    "start_time": "2023-04-29T06:51:17.443Z"
   },
   {
    "duration": 16,
    "start_time": "2023-04-29T06:51:18.834Z"
   },
   {
    "duration": 640,
    "start_time": "2023-04-29T09:01:56.216Z"
   },
   {
    "duration": 14,
    "start_time": "2023-04-29T09:01:56.857Z"
   },
   {
    "duration": 13,
    "start_time": "2023-04-29T09:01:56.873Z"
   },
   {
    "duration": 27,
    "start_time": "2023-04-29T09:01:57.326Z"
   },
   {
    "duration": 13,
    "start_time": "2023-04-29T09:01:57.641Z"
   },
   {
    "duration": 9,
    "start_time": "2023-04-29T09:01:58.062Z"
   },
   {
    "duration": 16,
    "start_time": "2023-04-29T09:01:58.413Z"
   },
   {
    "duration": 8,
    "start_time": "2023-04-29T09:01:58.895Z"
   },
   {
    "duration": 4,
    "start_time": "2023-04-29T09:01:59.242Z"
   },
   {
    "duration": 14,
    "start_time": "2023-04-29T09:01:59.616Z"
   },
   {
    "duration": 6,
    "start_time": "2023-04-29T09:01:59.842Z"
   },
   {
    "duration": 4,
    "start_time": "2023-04-29T09:02:00.241Z"
   },
   {
    "duration": 9,
    "start_time": "2023-04-29T09:02:00.623Z"
   },
   {
    "duration": 10,
    "start_time": "2023-04-29T09:02:01.048Z"
   },
   {
    "duration": 15,
    "start_time": "2023-04-29T09:02:02.114Z"
   },
   {
    "duration": 20,
    "start_time": "2023-04-29T09:02:02.362Z"
   },
   {
    "duration": 15,
    "start_time": "2023-04-29T09:02:02.823Z"
   },
   {
    "duration": 9,
    "start_time": "2023-04-29T09:02:03.424Z"
   },
   {
    "duration": 4,
    "start_time": "2023-04-29T09:02:04.231Z"
   },
   {
    "duration": 9,
    "start_time": "2023-04-29T09:02:04.744Z"
   },
   {
    "duration": 15,
    "start_time": "2023-04-29T09:02:05.145Z"
   },
   {
    "duration": 6,
    "start_time": "2023-04-29T09:02:05.585Z"
   },
   {
    "duration": 21,
    "start_time": "2023-04-29T09:03:52.576Z"
   },
   {
    "duration": 4,
    "start_time": "2023-04-29T09:18:00.394Z"
   },
   {
    "duration": 21,
    "start_time": "2023-04-29T09:18:04.756Z"
   },
   {
    "duration": 2005,
    "start_time": "2023-04-29T09:18:33.325Z"
   },
   {
    "duration": 19,
    "start_time": "2023-04-29T09:19:00.900Z"
   },
   {
    "duration": 1381,
    "start_time": "2023-04-29T09:19:25.716Z"
   },
   {
    "duration": 26,
    "start_time": "2023-04-29T09:19:33.872Z"
   },
   {
    "duration": 5,
    "start_time": "2023-04-29T09:20:21.330Z"
   },
   {
    "duration": 5,
    "start_time": "2023-04-29T09:20:28.369Z"
   },
   {
    "duration": 5,
    "start_time": "2023-04-29T09:20:36.141Z"
   },
   {
    "duration": 1227,
    "start_time": "2023-04-29T09:20:40.393Z"
   },
   {
    "duration": 4,
    "start_time": "2023-04-29T09:20:44.664Z"
   },
   {
    "duration": 5,
    "start_time": "2023-04-29T09:20:49.504Z"
   },
   {
    "duration": 5,
    "start_time": "2023-04-29T09:20:55.457Z"
   },
   {
    "duration": 5,
    "start_time": "2023-04-29T09:21:06.890Z"
   },
   {
    "duration": 3,
    "start_time": "2023-04-29T09:21:27.499Z"
   },
   {
    "duration": 29,
    "start_time": "2023-04-29T09:21:34.323Z"
   },
   {
    "duration": 44,
    "start_time": "2023-04-29T09:21:40.695Z"
   },
   {
    "duration": 6,
    "start_time": "2023-04-29T09:21:50.149Z"
   },
   {
    "duration": 6,
    "start_time": "2023-04-29T09:21:53.864Z"
   },
   {
    "duration": 5,
    "start_time": "2023-04-29T09:22:01.758Z"
   },
   {
    "duration": 124,
    "start_time": "2023-04-29T09:22:07.522Z"
   },
   {
    "duration": 16,
    "start_time": "2023-04-29T09:22:07.649Z"
   },
   {
    "duration": 33,
    "start_time": "2023-04-29T09:22:07.666Z"
   },
   {
    "duration": 63,
    "start_time": "2023-04-29T09:22:07.702Z"
   },
   {
    "duration": 38,
    "start_time": "2023-04-29T09:22:07.768Z"
   },
   {
    "duration": 12,
    "start_time": "2023-04-29T09:22:07.808Z"
   },
   {
    "duration": 42,
    "start_time": "2023-04-29T09:22:07.822Z"
   },
   {
    "duration": 32,
    "start_time": "2023-04-29T09:22:07.866Z"
   },
   {
    "duration": 14,
    "start_time": "2023-04-29T09:22:07.900Z"
   },
   {
    "duration": 28,
    "start_time": "2023-04-29T09:22:07.915Z"
   },
   {
    "duration": 24,
    "start_time": "2023-04-29T09:22:07.945Z"
   },
   {
    "duration": 44,
    "start_time": "2023-04-29T09:22:07.970Z"
   },
   {
    "duration": 18,
    "start_time": "2023-04-29T09:22:08.016Z"
   },
   {
    "duration": 27,
    "start_time": "2023-04-29T09:22:08.037Z"
   },
   {
    "duration": 27,
    "start_time": "2023-04-29T09:22:08.066Z"
   },
   {
    "duration": 21,
    "start_time": "2023-04-29T09:22:08.095Z"
   },
   {
    "duration": 17,
    "start_time": "2023-04-29T09:22:08.117Z"
   },
   {
    "duration": 27,
    "start_time": "2023-04-29T09:22:08.136Z"
   },
   {
    "duration": 22,
    "start_time": "2023-04-29T09:22:08.166Z"
   },
   {
    "duration": 18,
    "start_time": "2023-04-29T09:22:08.190Z"
   },
   {
    "duration": 45,
    "start_time": "2023-04-29T09:22:08.210Z"
   },
   {
    "duration": 10,
    "start_time": "2023-04-29T09:22:08.258Z"
   },
   {
    "duration": 5,
    "start_time": "2023-04-29T09:22:09.927Z"
   },
   {
    "duration": 5,
    "start_time": "2023-04-29T09:22:11.235Z"
   },
   {
    "duration": 5,
    "start_time": "2023-04-29T09:22:13.187Z"
   },
   {
    "duration": 492,
    "start_time": "2023-04-29T09:22:18.917Z"
   },
   {
    "duration": 15,
    "start_time": "2023-04-29T09:22:19.411Z"
   },
   {
    "duration": 24,
    "start_time": "2023-04-29T09:22:19.427Z"
   },
   {
    "duration": 33,
    "start_time": "2023-04-29T09:22:19.453Z"
   },
   {
    "duration": 16,
    "start_time": "2023-04-29T09:22:19.488Z"
   },
   {
    "duration": 8,
    "start_time": "2023-04-29T09:22:19.505Z"
   },
   {
    "duration": 16,
    "start_time": "2023-04-29T09:22:19.515Z"
   },
   {
    "duration": 7,
    "start_time": "2023-04-29T09:22:19.533Z"
   },
   {
    "duration": 43,
    "start_time": "2023-04-29T09:22:19.541Z"
   },
   {
    "duration": 17,
    "start_time": "2023-04-29T09:22:19.586Z"
   },
   {
    "duration": 11,
    "start_time": "2023-04-29T09:22:19.604Z"
   },
   {
    "duration": 9,
    "start_time": "2023-04-29T09:22:19.616Z"
   },
   {
    "duration": 9,
    "start_time": "2023-04-29T09:22:19.626Z"
   },
   {
    "duration": 17,
    "start_time": "2023-04-29T09:22:19.637Z"
   },
   {
    "duration": 35,
    "start_time": "2023-04-29T09:22:19.656Z"
   },
   {
    "duration": 21,
    "start_time": "2023-04-29T09:22:19.693Z"
   },
   {
    "duration": 16,
    "start_time": "2023-04-29T09:22:19.716Z"
   },
   {
    "duration": 34,
    "start_time": "2023-04-29T09:22:19.734Z"
   },
   {
    "duration": 19,
    "start_time": "2023-04-29T09:22:19.771Z"
   },
   {
    "duration": 21,
    "start_time": "2023-04-29T09:22:19.793Z"
   },
   {
    "duration": 31,
    "start_time": "2023-04-29T09:22:19.816Z"
   },
   {
    "duration": 22,
    "start_time": "2023-04-29T09:22:19.848Z"
   },
   {
    "duration": 6,
    "start_time": "2023-04-29T09:22:29.506Z"
   },
   {
    "duration": 5,
    "start_time": "2023-04-29T09:22:34.651Z"
   },
   {
    "duration": 5,
    "start_time": "2023-04-29T09:22:40.677Z"
   },
   {
    "duration": 6,
    "start_time": "2023-04-29T09:22:43.940Z"
   },
   {
    "duration": 6,
    "start_time": "2023-04-29T09:22:49.012Z"
   },
   {
    "duration": 5,
    "start_time": "2023-04-29T09:22:52.885Z"
   },
   {
    "duration": 4,
    "start_time": "2023-04-29T09:22:55.907Z"
   },
   {
    "duration": 5,
    "start_time": "2023-04-29T09:23:04.646Z"
   },
   {
    "duration": 5,
    "start_time": "2023-04-29T09:23:12.268Z"
   },
   {
    "duration": 5,
    "start_time": "2023-04-29T09:23:18.041Z"
   },
   {
    "duration": 6,
    "start_time": "2023-04-29T09:23:21.717Z"
   },
   {
    "duration": 6,
    "start_time": "2023-04-29T09:23:36.512Z"
   },
   {
    "duration": 6,
    "start_time": "2023-04-29T09:23:39.627Z"
   },
   {
    "duration": 78,
    "start_time": "2023-04-29T09:36:25.786Z"
   },
   {
    "duration": 8,
    "start_time": "2023-04-29T09:40:05.754Z"
   },
   {
    "duration": 11,
    "start_time": "2023-04-29T09:43:33.141Z"
   },
   {
    "duration": 6,
    "start_time": "2023-04-29T09:45:31.947Z"
   },
   {
    "duration": 6,
    "start_time": "2023-04-29T09:45:33.888Z"
   },
   {
    "duration": 38,
    "start_time": "2023-04-29T10:01:19.963Z"
   },
   {
    "duration": 4,
    "start_time": "2023-04-29T10:01:23.931Z"
   },
   {
    "duration": 30,
    "start_time": "2023-04-29T10:02:39.439Z"
   },
   {
    "duration": 3,
    "start_time": "2023-04-29T11:04:19.608Z"
   },
   {
    "duration": 3,
    "start_time": "2023-04-29T11:04:44.191Z"
   },
   {
    "duration": 6,
    "start_time": "2023-04-29T11:04:48.054Z"
   },
   {
    "duration": 8,
    "start_time": "2023-04-29T11:04:52.131Z"
   },
   {
    "duration": 598,
    "start_time": "2023-04-29T11:05:00.853Z"
   },
   {
    "duration": 18,
    "start_time": "2023-04-29T11:05:01.453Z"
   },
   {
    "duration": 32,
    "start_time": "2023-04-29T11:05:01.473Z"
   },
   {
    "duration": 58,
    "start_time": "2023-04-29T11:05:01.508Z"
   },
   {
    "duration": 24,
    "start_time": "2023-04-29T11:05:01.569Z"
   },
   {
    "duration": 138,
    "start_time": "2023-04-29T11:05:01.595Z"
   },
   {
    "duration": 54,
    "start_time": "2023-04-29T11:05:01.736Z"
   },
   {
    "duration": 18,
    "start_time": "2023-04-29T11:05:01.792Z"
   },
   {
    "duration": 66,
    "start_time": "2023-04-29T11:05:01.812Z"
   },
   {
    "duration": 150,
    "start_time": "2023-04-29T11:05:01.880Z"
   },
   {
    "duration": 66,
    "start_time": "2023-04-29T11:05:02.032Z"
   },
   {
    "duration": 32,
    "start_time": "2023-04-29T11:05:02.100Z"
   },
   {
    "duration": 35,
    "start_time": "2023-04-29T11:05:02.133Z"
   },
   {
    "duration": 76,
    "start_time": "2023-04-29T11:05:02.172Z"
   },
   {
    "duration": 50,
    "start_time": "2023-04-29T11:05:02.250Z"
   },
   {
    "duration": 63,
    "start_time": "2023-04-29T11:05:02.302Z"
   },
   {
    "duration": 23,
    "start_time": "2023-04-29T11:05:02.367Z"
   },
   {
    "duration": 39,
    "start_time": "2023-04-29T11:05:02.392Z"
   },
   {
    "duration": 39,
    "start_time": "2023-04-29T11:05:02.432Z"
   },
   {
    "duration": 61,
    "start_time": "2023-04-29T11:05:02.472Z"
   },
   {
    "duration": 33,
    "start_time": "2023-04-29T11:05:02.536Z"
   },
   {
    "duration": 46,
    "start_time": "2023-04-29T11:05:02.571Z"
   },
   {
    "duration": 97,
    "start_time": "2023-04-29T11:05:02.618Z"
   },
   {
    "duration": 58,
    "start_time": "2023-04-29T11:05:02.717Z"
   },
   {
    "duration": 25,
    "start_time": "2023-04-29T11:05:05.643Z"
   },
   {
    "duration": 68,
    "start_time": "2023-04-29T11:06:11.404Z"
   },
   {
    "duration": 25,
    "start_time": "2023-04-29T11:06:16.068Z"
   },
   {
    "duration": 40,
    "start_time": "2023-04-29T11:07:01.304Z"
   },
   {
    "duration": 14,
    "start_time": "2023-04-29T11:08:55.237Z"
   },
   {
    "duration": 13,
    "start_time": "2023-04-29T11:09:09.796Z"
   },
   {
    "duration": 554,
    "start_time": "2023-04-29T11:09:22.601Z"
   },
   {
    "duration": 15,
    "start_time": "2023-04-29T11:09:23.157Z"
   },
   {
    "duration": 15,
    "start_time": "2023-04-29T11:09:23.173Z"
   },
   {
    "duration": 28,
    "start_time": "2023-04-29T11:09:23.190Z"
   },
   {
    "duration": 15,
    "start_time": "2023-04-29T11:09:23.221Z"
   },
   {
    "duration": 9,
    "start_time": "2023-04-29T11:09:23.237Z"
   },
   {
    "duration": 44,
    "start_time": "2023-04-29T11:09:23.248Z"
   },
   {
    "duration": 9,
    "start_time": "2023-04-29T11:09:23.294Z"
   },
   {
    "duration": 7,
    "start_time": "2023-04-29T11:09:23.304Z"
   },
   {
    "duration": 15,
    "start_time": "2023-04-29T11:09:23.312Z"
   },
   {
    "duration": 16,
    "start_time": "2023-04-29T11:09:23.329Z"
   },
   {
    "duration": 18,
    "start_time": "2023-04-29T11:09:23.346Z"
   },
   {
    "duration": 23,
    "start_time": "2023-04-29T11:09:23.365Z"
   },
   {
    "duration": 9,
    "start_time": "2023-04-29T11:09:23.391Z"
   },
   {
    "duration": 14,
    "start_time": "2023-04-29T11:09:23.401Z"
   },
   {
    "duration": 18,
    "start_time": "2023-04-29T11:09:23.416Z"
   },
   {
    "duration": 19,
    "start_time": "2023-04-29T11:09:23.436Z"
   },
   {
    "duration": 33,
    "start_time": "2023-04-29T11:09:23.457Z"
   },
   {
    "duration": 7,
    "start_time": "2023-04-29T11:09:23.492Z"
   },
   {
    "duration": 11,
    "start_time": "2023-04-29T11:09:23.501Z"
   },
   {
    "duration": 20,
    "start_time": "2023-04-29T11:09:23.514Z"
   },
   {
    "duration": 9,
    "start_time": "2023-04-29T11:09:23.536Z"
   },
   {
    "duration": 14,
    "start_time": "2023-04-29T11:09:23.547Z"
   },
   {
    "duration": 8,
    "start_time": "2023-04-29T11:09:23.563Z"
   },
   {
    "duration": 75,
    "start_time": "2023-04-29T11:09:29.004Z"
   },
   {
    "duration": 12,
    "start_time": "2023-04-29T11:09:33.685Z"
   },
   {
    "duration": 11,
    "start_time": "2023-04-29T11:09:50.537Z"
   },
   {
    "duration": 10,
    "start_time": "2023-04-29T11:09:59.293Z"
   },
   {
    "duration": 10,
    "start_time": "2023-04-29T11:10:32.307Z"
   },
   {
    "duration": 11,
    "start_time": "2023-04-29T11:10:39.583Z"
   },
   {
    "duration": 540,
    "start_time": "2023-04-29T11:11:05.249Z"
   },
   {
    "duration": 16,
    "start_time": "2023-04-29T11:11:05.791Z"
   },
   {
    "duration": 18,
    "start_time": "2023-04-29T11:11:05.808Z"
   },
   {
    "duration": 41,
    "start_time": "2023-04-29T11:11:05.828Z"
   },
   {
    "duration": 25,
    "start_time": "2023-04-29T11:11:05.871Z"
   },
   {
    "duration": 16,
    "start_time": "2023-04-29T11:11:05.897Z"
   },
   {
    "duration": 35,
    "start_time": "2023-04-29T11:11:05.914Z"
   },
   {
    "duration": 26,
    "start_time": "2023-04-29T11:11:05.950Z"
   },
   {
    "duration": 7,
    "start_time": "2023-04-29T11:11:05.978Z"
   },
   {
    "duration": 17,
    "start_time": "2023-04-29T11:11:05.987Z"
   },
   {
    "duration": 17,
    "start_time": "2023-04-29T11:11:06.006Z"
   },
   {
    "duration": 16,
    "start_time": "2023-04-29T11:11:06.025Z"
   },
   {
    "duration": 34,
    "start_time": "2023-04-29T11:11:06.043Z"
   },
   {
    "duration": 12,
    "start_time": "2023-04-29T11:11:06.081Z"
   },
   {
    "duration": 29,
    "start_time": "2023-04-29T11:11:06.095Z"
   },
   {
    "duration": 19,
    "start_time": "2023-04-29T11:11:06.126Z"
   },
   {
    "duration": 16,
    "start_time": "2023-04-29T11:11:06.147Z"
   },
   {
    "duration": 12,
    "start_time": "2023-04-29T11:11:06.183Z"
   },
   {
    "duration": 16,
    "start_time": "2023-04-29T11:11:06.196Z"
   },
   {
    "duration": 21,
    "start_time": "2023-04-29T11:11:06.214Z"
   },
   {
    "duration": 21,
    "start_time": "2023-04-29T11:11:06.237Z"
   },
   {
    "duration": 17,
    "start_time": "2023-04-29T11:11:06.260Z"
   },
   {
    "duration": 16,
    "start_time": "2023-04-29T11:11:06.278Z"
   },
   {
    "duration": 15,
    "start_time": "2023-04-29T11:11:06.296Z"
   },
   {
    "duration": 36,
    "start_time": "2023-04-29T11:11:07.957Z"
   },
   {
    "duration": 14,
    "start_time": "2023-04-29T11:11:20.268Z"
   },
   {
    "duration": 75,
    "start_time": "2023-04-29T11:11:27.266Z"
   },
   {
    "duration": 604,
    "start_time": "2023-04-29T11:11:32.678Z"
   },
   {
    "duration": 21,
    "start_time": "2023-04-29T11:11:33.285Z"
   },
   {
    "duration": 34,
    "start_time": "2023-04-29T11:11:33.307Z"
   },
   {
    "duration": 39,
    "start_time": "2023-04-29T11:11:33.345Z"
   },
   {
    "duration": 19,
    "start_time": "2023-04-29T11:11:33.388Z"
   },
   {
    "duration": 21,
    "start_time": "2023-04-29T11:11:33.409Z"
   },
   {
    "duration": 52,
    "start_time": "2023-04-29T11:11:33.432Z"
   },
   {
    "duration": 18,
    "start_time": "2023-04-29T11:11:33.486Z"
   },
   {
    "duration": 24,
    "start_time": "2023-04-29T11:11:33.506Z"
   },
   {
    "duration": 32,
    "start_time": "2023-04-29T11:11:33.532Z"
   },
   {
    "duration": 14,
    "start_time": "2023-04-29T11:11:33.566Z"
   },
   {
    "duration": 34,
    "start_time": "2023-04-29T11:11:33.582Z"
   },
   {
    "duration": 28,
    "start_time": "2023-04-29T11:11:33.618Z"
   },
   {
    "duration": 28,
    "start_time": "2023-04-29T11:11:33.649Z"
   },
   {
    "duration": 24,
    "start_time": "2023-04-29T11:11:33.679Z"
   },
   {
    "duration": 38,
    "start_time": "2023-04-29T11:11:33.704Z"
   },
   {
    "duration": 20,
    "start_time": "2023-04-29T11:11:33.745Z"
   },
   {
    "duration": 60,
    "start_time": "2023-04-29T11:11:33.767Z"
   },
   {
    "duration": 22,
    "start_time": "2023-04-29T11:11:33.828Z"
   },
   {
    "duration": 17,
    "start_time": "2023-04-29T11:11:33.852Z"
   },
   {
    "duration": 19,
    "start_time": "2023-04-29T11:11:33.871Z"
   },
   {
    "duration": 22,
    "start_time": "2023-04-29T11:11:33.892Z"
   },
   {
    "duration": 26,
    "start_time": "2023-04-29T11:11:33.915Z"
   },
   {
    "duration": 34,
    "start_time": "2023-04-29T11:11:33.943Z"
   },
   {
    "duration": 87,
    "start_time": "2023-04-29T11:11:36.185Z"
   },
   {
    "duration": 12,
    "start_time": "2023-04-29T11:11:54.528Z"
   },
   {
    "duration": 627,
    "start_time": "2023-04-29T11:12:01.064Z"
   },
   {
    "duration": 18,
    "start_time": "2023-04-29T11:12:01.693Z"
   },
   {
    "duration": 90,
    "start_time": "2023-04-29T11:12:01.712Z"
   },
   {
    "duration": 79,
    "start_time": "2023-04-29T11:12:01.803Z"
   },
   {
    "duration": 29,
    "start_time": "2023-04-29T11:12:01.884Z"
   },
   {
    "duration": 92,
    "start_time": "2023-04-29T11:12:01.915Z"
   },
   {
    "duration": 123,
    "start_time": "2023-04-29T11:12:02.008Z"
   },
   {
    "duration": 25,
    "start_time": "2023-04-29T11:12:02.134Z"
   },
   {
    "duration": 115,
    "start_time": "2023-04-29T11:12:02.161Z"
   },
   {
    "duration": 42,
    "start_time": "2023-04-29T11:12:02.277Z"
   },
   {
    "duration": 30,
    "start_time": "2023-04-29T11:12:02.321Z"
   },
   {
    "duration": 15,
    "start_time": "2023-04-29T11:12:02.352Z"
   },
   {
    "duration": 83,
    "start_time": "2023-04-29T11:12:02.369Z"
   },
   {
    "duration": 65,
    "start_time": "2023-04-29T11:12:02.455Z"
   },
   {
    "duration": 26,
    "start_time": "2023-04-29T11:12:02.523Z"
   },
   {
    "duration": 49,
    "start_time": "2023-04-29T11:12:02.551Z"
   },
   {
    "duration": 24,
    "start_time": "2023-04-29T11:12:02.603Z"
   },
   {
    "duration": 22,
    "start_time": "2023-04-29T11:12:02.630Z"
   },
   {
    "duration": 29,
    "start_time": "2023-04-29T11:12:02.654Z"
   },
   {
    "duration": 17,
    "start_time": "2023-04-29T11:12:02.686Z"
   },
   {
    "duration": 38,
    "start_time": "2023-04-29T11:12:02.705Z"
   },
   {
    "duration": 23,
    "start_time": "2023-04-29T11:12:02.745Z"
   },
   {
    "duration": 23,
    "start_time": "2023-04-29T11:12:02.770Z"
   },
   {
    "duration": 27,
    "start_time": "2023-04-29T11:12:02.795Z"
   },
   {
    "duration": 78,
    "start_time": "2023-04-29T11:12:11.717Z"
   },
   {
    "duration": 138,
    "start_time": "2023-04-29T11:12:56.416Z"
   },
   {
    "duration": 14,
    "start_time": "2023-04-29T11:12:56.557Z"
   },
   {
    "duration": 14,
    "start_time": "2023-04-29T11:12:56.573Z"
   },
   {
    "duration": 25,
    "start_time": "2023-04-29T11:12:56.589Z"
   },
   {
    "duration": 16,
    "start_time": "2023-04-29T11:12:56.616Z"
   },
   {
    "duration": 9,
    "start_time": "2023-04-29T11:12:56.634Z"
   },
   {
    "duration": 60,
    "start_time": "2023-04-29T11:12:56.645Z"
   },
   {
    "duration": 10,
    "start_time": "2023-04-29T11:12:56.707Z"
   },
   {
    "duration": 13,
    "start_time": "2023-04-29T11:12:56.719Z"
   },
   {
    "duration": 28,
    "start_time": "2023-04-29T11:12:56.734Z"
   },
   {
    "duration": 20,
    "start_time": "2023-04-29T11:12:56.764Z"
   },
   {
    "duration": 7,
    "start_time": "2023-04-29T11:12:56.787Z"
   },
   {
    "duration": 9,
    "start_time": "2023-04-29T11:12:56.797Z"
   },
   {
    "duration": 13,
    "start_time": "2023-04-29T11:12:56.810Z"
   },
   {
    "duration": 13,
    "start_time": "2023-04-29T11:12:56.825Z"
   },
   {
    "duration": 52,
    "start_time": "2023-04-29T11:12:56.840Z"
   },
   {
    "duration": 24,
    "start_time": "2023-04-29T11:12:56.894Z"
   },
   {
    "duration": 20,
    "start_time": "2023-04-29T11:12:56.921Z"
   },
   {
    "duration": 26,
    "start_time": "2023-04-29T11:12:56.943Z"
   },
   {
    "duration": 13,
    "start_time": "2023-04-29T11:12:56.971Z"
   },
   {
    "duration": 30,
    "start_time": "2023-04-29T11:12:56.986Z"
   },
   {
    "duration": 8,
    "start_time": "2023-04-29T11:12:57.018Z"
   },
   {
    "duration": 8,
    "start_time": "2023-04-29T11:12:57.028Z"
   },
   {
    "duration": 7,
    "start_time": "2023-04-29T11:12:57.038Z"
   },
   {
    "duration": 41,
    "start_time": "2023-04-29T11:12:58.994Z"
   },
   {
    "duration": 28,
    "start_time": "2023-04-29T11:13:03.145Z"
   },
   {
    "duration": 12,
    "start_time": "2023-04-29T11:13:42.065Z"
   },
   {
    "duration": 12,
    "start_time": "2023-04-29T11:14:01.155Z"
   },
   {
    "duration": 516,
    "start_time": "2023-04-29T11:14:09.215Z"
   },
   {
    "duration": 24,
    "start_time": "2023-04-29T11:14:09.733Z"
   },
   {
    "duration": 43,
    "start_time": "2023-04-29T11:14:09.759Z"
   },
   {
    "duration": 38,
    "start_time": "2023-04-29T11:14:09.804Z"
   },
   {
    "duration": 33,
    "start_time": "2023-04-29T11:14:09.845Z"
   },
   {
    "duration": 15,
    "start_time": "2023-04-29T11:14:09.883Z"
   },
   {
    "duration": 36,
    "start_time": "2023-04-29T11:14:09.901Z"
   },
   {
    "duration": 10,
    "start_time": "2023-04-29T11:14:09.939Z"
   },
   {
    "duration": 10,
    "start_time": "2023-04-29T11:14:09.950Z"
   },
   {
    "duration": 29,
    "start_time": "2023-04-29T11:14:09.962Z"
   },
   {
    "duration": 10,
    "start_time": "2023-04-29T11:14:09.993Z"
   },
   {
    "duration": 7,
    "start_time": "2023-04-29T11:14:10.005Z"
   },
   {
    "duration": 11,
    "start_time": "2023-04-29T11:14:10.014Z"
   },
   {
    "duration": 14,
    "start_time": "2023-04-29T11:14:10.028Z"
   },
   {
    "duration": 17,
    "start_time": "2023-04-29T11:14:10.043Z"
   },
   {
    "duration": 27,
    "start_time": "2023-04-29T11:14:10.084Z"
   },
   {
    "duration": 18,
    "start_time": "2023-04-29T11:14:10.113Z"
   },
   {
    "duration": 13,
    "start_time": "2023-04-29T11:14:10.133Z"
   },
   {
    "duration": 36,
    "start_time": "2023-04-29T11:14:10.148Z"
   },
   {
    "duration": 8,
    "start_time": "2023-04-29T11:14:10.187Z"
   },
   {
    "duration": 18,
    "start_time": "2023-04-29T11:14:10.197Z"
   },
   {
    "duration": 10,
    "start_time": "2023-04-29T11:14:10.217Z"
   },
   {
    "duration": 12,
    "start_time": "2023-04-29T11:14:10.229Z"
   },
   {
    "duration": 12,
    "start_time": "2023-04-29T11:14:10.243Z"
   },
   {
    "duration": 74,
    "start_time": "2023-04-29T11:14:12.870Z"
   },
   {
    "duration": 11,
    "start_time": "2023-04-29T11:14:16.108Z"
   },
   {
    "duration": 10,
    "start_time": "2023-04-29T11:15:03.605Z"
   },
   {
    "duration": 551,
    "start_time": "2023-04-29T11:15:12.683Z"
   },
   {
    "duration": 17,
    "start_time": "2023-04-29T11:15:13.236Z"
   },
   {
    "duration": 14,
    "start_time": "2023-04-29T11:15:13.254Z"
   },
   {
    "duration": 29,
    "start_time": "2023-04-29T11:15:13.270Z"
   },
   {
    "duration": 13,
    "start_time": "2023-04-29T11:15:13.301Z"
   },
   {
    "duration": 8,
    "start_time": "2023-04-29T11:15:13.316Z"
   },
   {
    "duration": 18,
    "start_time": "2023-04-29T11:15:13.325Z"
   },
   {
    "duration": 8,
    "start_time": "2023-04-29T11:15:13.345Z"
   },
   {
    "duration": 33,
    "start_time": "2023-04-29T11:15:13.354Z"
   },
   {
    "duration": 27,
    "start_time": "2023-04-29T11:15:13.390Z"
   },
   {
    "duration": 9,
    "start_time": "2023-04-29T11:15:13.419Z"
   },
   {
    "duration": 5,
    "start_time": "2023-04-29T11:15:13.429Z"
   },
   {
    "duration": 10,
    "start_time": "2023-04-29T11:15:13.435Z"
   },
   {
    "duration": 10,
    "start_time": "2023-04-29T11:15:13.446Z"
   },
   {
    "duration": 35,
    "start_time": "2023-04-29T11:15:13.457Z"
   },
   {
    "duration": 21,
    "start_time": "2023-04-29T11:15:13.493Z"
   },
   {
    "duration": 15,
    "start_time": "2023-04-29T11:15:13.515Z"
   },
   {
    "duration": 11,
    "start_time": "2023-04-29T11:15:13.532Z"
   },
   {
    "duration": 6,
    "start_time": "2023-04-29T11:15:13.545Z"
   },
   {
    "duration": 35,
    "start_time": "2023-04-29T11:15:13.552Z"
   },
   {
    "duration": 14,
    "start_time": "2023-04-29T11:15:13.589Z"
   },
   {
    "duration": 8,
    "start_time": "2023-04-29T11:15:13.605Z"
   },
   {
    "duration": 7,
    "start_time": "2023-04-29T11:15:13.614Z"
   },
   {
    "duration": 8,
    "start_time": "2023-04-29T11:15:13.622Z"
   },
   {
    "duration": 7,
    "start_time": "2023-04-29T11:15:14.364Z"
   },
   {
    "duration": 69,
    "start_time": "2023-04-29T11:15:16.409Z"
   },
   {
    "duration": 10,
    "start_time": "2023-04-29T11:15:22.400Z"
   },
   {
    "duration": 2,
    "start_time": "2023-04-29T11:16:02.899Z"
   },
   {
    "duration": 11,
    "start_time": "2023-04-29T11:16:03.186Z"
   },
   {
    "duration": 563,
    "start_time": "2023-04-29T11:16:09.282Z"
   },
   {
    "duration": 17,
    "start_time": "2023-04-29T11:16:09.847Z"
   },
   {
    "duration": 19,
    "start_time": "2023-04-29T11:16:09.866Z"
   },
   {
    "duration": 43,
    "start_time": "2023-04-29T11:16:09.887Z"
   },
   {
    "duration": 20,
    "start_time": "2023-04-29T11:16:09.933Z"
   },
   {
    "duration": 17,
    "start_time": "2023-04-29T11:16:09.955Z"
   },
   {
    "duration": 30,
    "start_time": "2023-04-29T11:16:09.984Z"
   },
   {
    "duration": 11,
    "start_time": "2023-04-29T11:16:10.016Z"
   },
   {
    "duration": 18,
    "start_time": "2023-04-29T11:16:10.029Z"
   },
   {
    "duration": 35,
    "start_time": "2023-04-29T11:16:10.049Z"
   },
   {
    "duration": 9,
    "start_time": "2023-04-29T11:16:10.086Z"
   },
   {
    "duration": 10,
    "start_time": "2023-04-29T11:16:10.097Z"
   },
   {
    "duration": 12,
    "start_time": "2023-04-29T11:16:10.109Z"
   },
   {
    "duration": 14,
    "start_time": "2023-04-29T11:16:10.123Z"
   },
   {
    "duration": 35,
    "start_time": "2023-04-29T11:16:10.139Z"
   },
   {
    "duration": 21,
    "start_time": "2023-04-29T11:16:10.176Z"
   },
   {
    "duration": 17,
    "start_time": "2023-04-29T11:16:10.199Z"
   },
   {
    "duration": 16,
    "start_time": "2023-04-29T11:16:10.218Z"
   },
   {
    "duration": 6,
    "start_time": "2023-04-29T11:16:10.236Z"
   },
   {
    "duration": 10,
    "start_time": "2023-04-29T11:16:10.244Z"
   },
   {
    "duration": 17,
    "start_time": "2023-04-29T11:16:10.282Z"
   },
   {
    "duration": 15,
    "start_time": "2023-04-29T11:16:10.301Z"
   },
   {
    "duration": 8,
    "start_time": "2023-04-29T11:16:10.318Z"
   },
   {
    "duration": 8,
    "start_time": "2023-04-29T11:16:10.327Z"
   },
   {
    "duration": 4,
    "start_time": "2023-04-29T11:16:10.337Z"
   },
   {
    "duration": 3,
    "start_time": "2023-04-29T11:16:10.804Z"
   },
   {
    "duration": 7,
    "start_time": "2023-04-29T11:16:11.154Z"
   },
   {
    "duration": 71,
    "start_time": "2023-04-29T11:16:19.956Z"
   },
   {
    "duration": 12,
    "start_time": "2023-04-29T11:16:21.475Z"
   },
   {
    "duration": 8,
    "start_time": "2023-04-29T11:23:12.552Z"
   },
   {
    "duration": 131,
    "start_time": "2023-04-29T11:23:23.072Z"
   },
   {
    "duration": 16,
    "start_time": "2023-04-29T11:23:23.205Z"
   },
   {
    "duration": 16,
    "start_time": "2023-04-29T11:23:23.222Z"
   },
   {
    "duration": 44,
    "start_time": "2023-04-29T11:23:23.240Z"
   },
   {
    "duration": 14,
    "start_time": "2023-04-29T11:23:23.286Z"
   },
   {
    "duration": 9,
    "start_time": "2023-04-29T11:23:23.302Z"
   },
   {
    "duration": 35,
    "start_time": "2023-04-29T11:23:23.313Z"
   },
   {
    "duration": 12,
    "start_time": "2023-04-29T11:23:23.350Z"
   },
   {
    "duration": 22,
    "start_time": "2023-04-29T11:23:23.364Z"
   },
   {
    "duration": 21,
    "start_time": "2023-04-29T11:23:23.389Z"
   },
   {
    "duration": 13,
    "start_time": "2023-04-29T11:23:23.412Z"
   },
   {
    "duration": 6,
    "start_time": "2023-04-29T11:23:23.427Z"
   },
   {
    "duration": 8,
    "start_time": "2023-04-29T11:23:23.434Z"
   },
   {
    "duration": 8,
    "start_time": "2023-04-29T11:23:23.445Z"
   },
   {
    "duration": 37,
    "start_time": "2023-04-29T11:23:23.454Z"
   },
   {
    "duration": 19,
    "start_time": "2023-04-29T11:23:23.493Z"
   },
   {
    "duration": 15,
    "start_time": "2023-04-29T11:23:23.514Z"
   },
   {
    "duration": 47,
    "start_time": "2023-04-29T11:23:23.531Z"
   },
   {
    "duration": 26,
    "start_time": "2023-04-29T11:23:23.580Z"
   },
   {
    "duration": 35,
    "start_time": "2023-04-29T11:23:23.608Z"
   },
   {
    "duration": 22,
    "start_time": "2023-04-29T11:23:23.645Z"
   },
   {
    "duration": 14,
    "start_time": "2023-04-29T11:23:23.668Z"
   },
   {
    "duration": 27,
    "start_time": "2023-04-29T11:23:23.683Z"
   },
   {
    "duration": 4,
    "start_time": "2023-04-29T11:23:25.058Z"
   },
   {
    "duration": 3,
    "start_time": "2023-04-29T11:41:39.547Z"
   },
   {
    "duration": 7,
    "start_time": "2023-04-29T11:41:49.072Z"
   },
   {
    "duration": 11,
    "start_time": "2023-04-29T11:41:54.462Z"
   },
   {
    "duration": 45,
    "start_time": "2023-04-29T11:42:19.747Z"
   },
   {
    "duration": 47,
    "start_time": "2023-04-29T11:42:26.177Z"
   },
   {
    "duration": 76,
    "start_time": "2023-04-29T11:42:31.160Z"
   },
   {
    "duration": 81,
    "start_time": "2023-04-29T11:42:38.440Z"
   },
   {
    "duration": 55,
    "start_time": "2023-04-29T11:42:44.612Z"
   },
   {
    "duration": 41,
    "start_time": "2023-04-29T11:43:03.714Z"
   },
   {
    "duration": 53,
    "start_time": "2023-04-29T11:43:10.875Z"
   },
   {
    "duration": 37,
    "start_time": "2023-04-29T11:43:24.212Z"
   },
   {
    "duration": 38,
    "start_time": "2023-04-29T11:43:43.328Z"
   },
   {
    "duration": 30,
    "start_time": "2023-04-29T11:43:47.433Z"
   },
   {
    "duration": 57,
    "start_time": "2023-04-29T11:43:50.111Z"
   },
   {
    "duration": 57,
    "start_time": "2023-04-29T11:44:08.074Z"
   },
   {
    "duration": 50,
    "start_time": "2023-04-29T11:44:12.549Z"
   },
   {
    "duration": 60,
    "start_time": "2023-04-29T11:44:17.967Z"
   },
   {
    "duration": 58,
    "start_time": "2023-04-29T11:45:11.553Z"
   },
   {
    "duration": 40,
    "start_time": "2023-04-29T11:45:40.173Z"
   },
   {
    "duration": 53,
    "start_time": "2023-04-29T11:46:05.314Z"
   },
   {
    "duration": 86,
    "start_time": "2023-04-29T11:46:12.274Z"
   },
   {
    "duration": 85,
    "start_time": "2023-04-29T11:46:19.856Z"
   },
   {
    "duration": 20,
    "start_time": "2023-04-29T11:46:25.135Z"
   },
   {
    "duration": 62,
    "start_time": "2023-04-29T11:46:32.504Z"
   },
   {
    "duration": 71,
    "start_time": "2023-04-29T11:46:42.340Z"
   },
   {
    "duration": 69,
    "start_time": "2023-04-29T11:47:03.945Z"
   },
   {
    "duration": 143,
    "start_time": "2023-04-29T11:48:21.779Z"
   },
   {
    "duration": 129,
    "start_time": "2023-04-29T11:48:25.014Z"
   },
   {
    "duration": 1501,
    "start_time": "2023-04-29T11:48:35.562Z"
   },
   {
    "duration": 560,
    "start_time": "2023-04-29T11:48:55.741Z"
   },
   {
    "duration": 23,
    "start_time": "2023-04-29T11:48:56.303Z"
   },
   {
    "duration": 47,
    "start_time": "2023-04-29T11:48:56.328Z"
   },
   {
    "duration": 94,
    "start_time": "2023-04-29T11:48:56.377Z"
   },
   {
    "duration": 19,
    "start_time": "2023-04-29T11:48:56.473Z"
   },
   {
    "duration": 44,
    "start_time": "2023-04-29T11:48:56.495Z"
   },
   {
    "duration": 60,
    "start_time": "2023-04-29T11:48:56.542Z"
   },
   {
    "duration": 62,
    "start_time": "2023-04-29T11:48:56.605Z"
   },
   {
    "duration": 54,
    "start_time": "2023-04-29T11:48:56.669Z"
   },
   {
    "duration": 39,
    "start_time": "2023-04-29T11:48:56.726Z"
   },
   {
    "duration": 53,
    "start_time": "2023-04-29T11:48:56.767Z"
   },
   {
    "duration": 41,
    "start_time": "2023-04-29T11:48:56.823Z"
   },
   {
    "duration": 58,
    "start_time": "2023-04-29T11:48:56.866Z"
   },
   {
    "duration": 26,
    "start_time": "2023-04-29T11:48:56.926Z"
   },
   {
    "duration": 28,
    "start_time": "2023-04-29T11:48:56.954Z"
   },
   {
    "duration": 40,
    "start_time": "2023-04-29T11:48:56.989Z"
   },
   {
    "duration": 24,
    "start_time": "2023-04-29T11:48:57.031Z"
   },
   {
    "duration": 33,
    "start_time": "2023-04-29T11:48:57.057Z"
   },
   {
    "duration": 35,
    "start_time": "2023-04-29T11:48:57.092Z"
   },
   {
    "duration": 23,
    "start_time": "2023-04-29T11:48:57.129Z"
   },
   {
    "duration": 68,
    "start_time": "2023-04-29T11:48:57.154Z"
   },
   {
    "duration": 10,
    "start_time": "2023-04-29T11:48:57.224Z"
   },
   {
    "duration": 28,
    "start_time": "2023-04-29T11:48:57.236Z"
   },
   {
    "duration": 11,
    "start_time": "2023-04-29T11:48:57.266Z"
   },
   {
    "duration": 1714,
    "start_time": "2023-04-29T11:48:59.312Z"
   },
   {
    "duration": 84,
    "start_time": "2023-04-29T11:49:21.649Z"
   },
   {
    "duration": 1376,
    "start_time": "2023-04-29T11:49:26.000Z"
   },
   {
    "duration": 43,
    "start_time": "2023-04-29T11:50:06.228Z"
   },
   {
    "duration": 127,
    "start_time": "2023-04-29T11:50:19.533Z"
   },
   {
    "duration": 168,
    "start_time": "2023-04-29T11:56:16.232Z"
   },
   {
    "duration": 713,
    "start_time": "2023-04-30T08:11:15.641Z"
   },
   {
    "duration": 16,
    "start_time": "2023-04-30T08:11:16.356Z"
   },
   {
    "duration": 19,
    "start_time": "2023-04-30T08:11:16.373Z"
   },
   {
    "duration": 31,
    "start_time": "2023-04-30T08:11:16.393Z"
   },
   {
    "duration": 16,
    "start_time": "2023-04-30T08:11:16.426Z"
   },
   {
    "duration": 11,
    "start_time": "2023-04-30T08:11:16.443Z"
   },
   {
    "duration": 39,
    "start_time": "2023-04-30T08:11:16.456Z"
   },
   {
    "duration": 9,
    "start_time": "2023-04-30T08:11:16.497Z"
   },
   {
    "duration": 17,
    "start_time": "2023-04-30T08:11:16.508Z"
   },
   {
    "duration": 31,
    "start_time": "2023-04-30T08:11:16.526Z"
   },
   {
    "duration": 20,
    "start_time": "2023-04-30T08:11:16.559Z"
   },
   {
    "duration": 7,
    "start_time": "2023-04-30T08:11:16.580Z"
   },
   {
    "duration": 23,
    "start_time": "2023-04-30T08:11:16.589Z"
   },
   {
    "duration": 20,
    "start_time": "2023-04-30T08:11:16.615Z"
   },
   {
    "duration": 29,
    "start_time": "2023-04-30T08:11:16.636Z"
   },
   {
    "duration": 22,
    "start_time": "2023-04-30T08:11:16.666Z"
   },
   {
    "duration": 23,
    "start_time": "2023-04-30T08:11:16.690Z"
   },
   {
    "duration": 18,
    "start_time": "2023-04-30T08:11:16.714Z"
   },
   {
    "duration": 21,
    "start_time": "2023-04-30T08:11:16.734Z"
   },
   {
    "duration": 17,
    "start_time": "2023-04-30T08:11:16.757Z"
   },
   {
    "duration": 15,
    "start_time": "2023-04-30T08:11:16.776Z"
   },
   {
    "duration": 11,
    "start_time": "2023-04-30T08:11:16.793Z"
   },
   {
    "duration": 8,
    "start_time": "2023-04-30T08:11:16.806Z"
   },
   {
    "duration": 6,
    "start_time": "2023-04-30T08:11:16.815Z"
   },
   {
    "duration": 84,
    "start_time": "2023-04-30T08:11:22.123Z"
   },
   {
    "duration": 6,
    "start_time": "2023-04-30T08:13:45.741Z"
   },
   {
    "duration": 48,
    "start_time": "2023-04-30T08:14:20.745Z"
   },
   {
    "duration": 7,
    "start_time": "2023-04-30T08:14:25.682Z"
   },
   {
    "duration": 7,
    "start_time": "2023-04-30T08:14:44.435Z"
   },
   {
    "duration": 14,
    "start_time": "2023-04-30T08:16:49.637Z"
   },
   {
    "duration": 525,
    "start_time": "2023-04-30T08:16:59.905Z"
   },
   {
    "duration": 16,
    "start_time": "2023-04-30T08:17:00.432Z"
   },
   {
    "duration": 15,
    "start_time": "2023-04-30T08:17:00.450Z"
   },
   {
    "duration": 56,
    "start_time": "2023-04-30T08:17:00.467Z"
   },
   {
    "duration": 17,
    "start_time": "2023-04-30T08:17:00.525Z"
   },
   {
    "duration": 49,
    "start_time": "2023-04-30T08:17:00.544Z"
   },
   {
    "duration": 20,
    "start_time": "2023-04-30T08:17:00.596Z"
   },
   {
    "duration": 13,
    "start_time": "2023-04-30T08:17:00.618Z"
   },
   {
    "duration": 21,
    "start_time": "2023-04-30T08:17:00.633Z"
   },
   {
    "duration": 37,
    "start_time": "2023-04-30T08:17:00.656Z"
   },
   {
    "duration": 20,
    "start_time": "2023-04-30T08:17:00.695Z"
   },
   {
    "duration": 17,
    "start_time": "2023-04-30T08:17:00.716Z"
   },
   {
    "duration": 29,
    "start_time": "2023-04-30T08:17:00.735Z"
   },
   {
    "duration": 28,
    "start_time": "2023-04-30T08:17:00.766Z"
   },
   {
    "duration": 32,
    "start_time": "2023-04-30T08:17:00.796Z"
   },
   {
    "duration": 38,
    "start_time": "2023-04-30T08:17:00.829Z"
   },
   {
    "duration": 18,
    "start_time": "2023-04-30T08:17:03.257Z"
   },
   {
    "duration": 13,
    "start_time": "2023-04-30T08:17:03.848Z"
   },
   {
    "duration": 10,
    "start_time": "2023-04-30T08:17:14.864Z"
   },
   {
    "duration": 11,
    "start_time": "2023-04-30T08:17:19.261Z"
   },
   {
    "duration": 19,
    "start_time": "2023-04-30T08:17:30.107Z"
   },
   {
    "duration": 18,
    "start_time": "2023-04-30T08:18:00.228Z"
   },
   {
    "duration": 72,
    "start_time": "2023-04-30T08:22:05.176Z"
   },
   {
    "duration": 9,
    "start_time": "2023-04-30T08:22:20.961Z"
   },
   {
    "duration": 129,
    "start_time": "2023-04-30T08:22:25.853Z"
   },
   {
    "duration": 17,
    "start_time": "2023-04-30T08:22:25.985Z"
   },
   {
    "duration": 13,
    "start_time": "2023-04-30T08:22:26.004Z"
   },
   {
    "duration": 22,
    "start_time": "2023-04-30T08:22:26.018Z"
   },
   {
    "duration": 13,
    "start_time": "2023-04-30T08:22:26.042Z"
   },
   {
    "duration": 38,
    "start_time": "2023-04-30T08:22:26.057Z"
   },
   {
    "duration": 20,
    "start_time": "2023-04-30T08:22:26.098Z"
   },
   {
    "duration": 7,
    "start_time": "2023-04-30T08:22:26.120Z"
   },
   {
    "duration": 29,
    "start_time": "2023-04-30T08:22:26.129Z"
   },
   {
    "duration": 28,
    "start_time": "2023-04-30T08:22:26.160Z"
   },
   {
    "duration": 10,
    "start_time": "2023-04-30T08:22:26.190Z"
   },
   {
    "duration": 11,
    "start_time": "2023-04-30T08:22:26.202Z"
   },
   {
    "duration": 8,
    "start_time": "2023-04-30T08:22:26.215Z"
   },
   {
    "duration": 14,
    "start_time": "2023-04-30T08:22:26.227Z"
   },
   {
    "duration": 13,
    "start_time": "2023-04-30T08:22:26.244Z"
   },
   {
    "duration": 39,
    "start_time": "2023-04-30T08:22:26.259Z"
   },
   {
    "duration": 19,
    "start_time": "2023-04-30T08:22:26.299Z"
   },
   {
    "duration": 19,
    "start_time": "2023-04-30T08:22:26.319Z"
   },
   {
    "duration": 13,
    "start_time": "2023-04-30T08:22:26.339Z"
   },
   {
    "duration": 10,
    "start_time": "2023-04-30T08:22:26.353Z"
   },
   {
    "duration": 17,
    "start_time": "2023-04-30T08:22:26.364Z"
   },
   {
    "duration": 19,
    "start_time": "2023-04-30T08:22:26.382Z"
   },
   {
    "duration": 25,
    "start_time": "2023-04-30T08:22:26.402Z"
   },
   {
    "duration": 23,
    "start_time": "2023-04-30T08:22:26.428Z"
   },
   {
    "duration": 126,
    "start_time": "2023-04-30T08:22:26.453Z"
   },
   {
    "duration": 6,
    "start_time": "2023-04-30T08:22:26.580Z"
   },
   {
    "duration": 39,
    "start_time": "2023-04-30T08:22:28.837Z"
   },
   {
    "duration": 11,
    "start_time": "2023-04-30T08:22:36.265Z"
   },
   {
    "duration": 70,
    "start_time": "2023-04-30T08:22:43.253Z"
   },
   {
    "duration": 53,
    "start_time": "2023-04-30T08:22:46.822Z"
   },
   {
    "duration": 27,
    "start_time": "2023-04-30T08:22:48.678Z"
   },
   {
    "duration": 46,
    "start_time": "2023-04-30T08:23:15.326Z"
   },
   {
    "duration": 12,
    "start_time": "2023-04-30T08:23:48.178Z"
   },
   {
    "duration": 43,
    "start_time": "2023-04-30T08:24:14.768Z"
   },
   {
    "duration": 11,
    "start_time": "2023-04-30T08:24:52.066Z"
   },
   {
    "duration": 8,
    "start_time": "2023-04-30T08:25:28.819Z"
   },
   {
    "duration": 8,
    "start_time": "2023-04-30T08:25:36.215Z"
   },
   {
    "duration": 8,
    "start_time": "2023-04-30T08:26:04.717Z"
   },
   {
    "duration": 8,
    "start_time": "2023-04-30T08:26:43.511Z"
   },
   {
    "duration": 14,
    "start_time": "2023-04-30T08:27:01.879Z"
   },
   {
    "duration": 12,
    "start_time": "2023-04-30T08:27:11.531Z"
   },
   {
    "duration": 9,
    "start_time": "2023-04-30T08:27:21.315Z"
   },
   {
    "duration": 11,
    "start_time": "2023-04-30T08:28:42.553Z"
   },
   {
    "duration": 495,
    "start_time": "2023-04-30T08:29:03.016Z"
   },
   {
    "duration": 128,
    "start_time": "2023-04-30T08:29:16.807Z"
   },
   {
    "duration": 8,
    "start_time": "2023-04-30T08:29:54.121Z"
   },
   {
    "duration": 120,
    "start_time": "2023-04-30T08:30:09.327Z"
   },
   {
    "duration": 18,
    "start_time": "2023-04-30T08:30:15.513Z"
   },
   {
    "duration": 140,
    "start_time": "2023-04-30T08:30:22.312Z"
   },
   {
    "duration": 16,
    "start_time": "2023-04-30T08:30:22.453Z"
   },
   {
    "duration": 22,
    "start_time": "2023-04-30T08:30:22.471Z"
   },
   {
    "duration": 31,
    "start_time": "2023-04-30T08:30:22.494Z"
   },
   {
    "duration": 72,
    "start_time": "2023-04-30T08:30:22.527Z"
   },
   {
    "duration": 9,
    "start_time": "2023-04-30T08:30:22.601Z"
   },
   {
    "duration": 26,
    "start_time": "2023-04-30T08:30:22.612Z"
   },
   {
    "duration": 8,
    "start_time": "2023-04-30T08:30:22.640Z"
   },
   {
    "duration": 12,
    "start_time": "2023-04-30T08:30:22.649Z"
   },
   {
    "duration": 32,
    "start_time": "2023-04-30T08:30:22.662Z"
   },
   {
    "duration": 11,
    "start_time": "2023-04-30T08:30:22.696Z"
   },
   {
    "duration": 10,
    "start_time": "2023-04-30T08:30:22.708Z"
   },
   {
    "duration": 16,
    "start_time": "2023-04-30T08:30:22.720Z"
   },
   {
    "duration": 8,
    "start_time": "2023-04-30T08:30:22.739Z"
   },
   {
    "duration": 14,
    "start_time": "2023-04-30T08:30:22.749Z"
   },
   {
    "duration": 32,
    "start_time": "2023-04-30T08:30:22.764Z"
   },
   {
    "duration": 19,
    "start_time": "2023-04-30T08:30:22.798Z"
   },
   {
    "duration": 17,
    "start_time": "2023-04-30T08:30:22.819Z"
   },
   {
    "duration": 5,
    "start_time": "2023-04-30T08:30:22.837Z"
   },
   {
    "duration": 8,
    "start_time": "2023-04-30T08:30:22.844Z"
   },
   {
    "duration": 41,
    "start_time": "2023-04-30T08:30:22.853Z"
   },
   {
    "duration": 7,
    "start_time": "2023-04-30T08:30:22.896Z"
   },
   {
    "duration": 7,
    "start_time": "2023-04-30T08:30:22.905Z"
   },
   {
    "duration": 8,
    "start_time": "2023-04-30T08:30:22.913Z"
   },
   {
    "duration": 108,
    "start_time": "2023-04-30T08:30:22.923Z"
   },
   {
    "duration": 6,
    "start_time": "2023-04-30T08:30:23.033Z"
   },
   {
    "duration": 14,
    "start_time": "2023-04-30T08:30:23.041Z"
   },
   {
    "duration": 7,
    "start_time": "2023-04-30T08:30:27.218Z"
   },
   {
    "duration": 8,
    "start_time": "2023-04-30T08:30:29.707Z"
   },
   {
    "duration": 131,
    "start_time": "2023-04-30T08:30:33.115Z"
   },
   {
    "duration": 15,
    "start_time": "2023-04-30T08:30:33.248Z"
   },
   {
    "duration": 13,
    "start_time": "2023-04-30T08:30:33.265Z"
   },
   {
    "duration": 25,
    "start_time": "2023-04-30T08:30:33.279Z"
   },
   {
    "duration": 14,
    "start_time": "2023-04-30T08:30:33.306Z"
   },
   {
    "duration": 9,
    "start_time": "2023-04-30T08:30:33.321Z"
   },
   {
    "duration": 21,
    "start_time": "2023-04-30T08:30:33.332Z"
   },
   {
    "duration": 7,
    "start_time": "2023-04-30T08:30:33.355Z"
   },
   {
    "duration": 4,
    "start_time": "2023-04-30T08:30:33.364Z"
   },
   {
    "duration": 32,
    "start_time": "2023-04-30T08:30:33.370Z"
   },
   {
    "duration": 6,
    "start_time": "2023-04-30T08:30:33.404Z"
   },
   {
    "duration": 8,
    "start_time": "2023-04-30T08:30:33.411Z"
   },
   {
    "duration": 7,
    "start_time": "2023-04-30T08:30:33.421Z"
   },
   {
    "duration": 8,
    "start_time": "2023-04-30T08:30:33.430Z"
   },
   {
    "duration": 17,
    "start_time": "2023-04-30T08:30:33.440Z"
   },
   {
    "duration": 43,
    "start_time": "2023-04-30T08:30:33.459Z"
   },
   {
    "duration": 19,
    "start_time": "2023-04-30T08:30:33.503Z"
   },
   {
    "duration": 21,
    "start_time": "2023-04-30T08:30:33.523Z"
   },
   {
    "duration": 6,
    "start_time": "2023-04-30T08:30:33.546Z"
   },
   {
    "duration": 12,
    "start_time": "2023-04-30T08:30:33.553Z"
   },
   {
    "duration": 35,
    "start_time": "2023-04-30T08:30:33.566Z"
   },
   {
    "duration": 6,
    "start_time": "2023-04-30T08:30:33.603Z"
   },
   {
    "duration": 5,
    "start_time": "2023-04-30T08:30:33.611Z"
   },
   {
    "duration": 8,
    "start_time": "2023-04-30T08:30:33.618Z"
   },
   {
    "duration": 105,
    "start_time": "2023-04-30T08:30:33.628Z"
   },
   {
    "duration": 6,
    "start_time": "2023-04-30T08:30:33.735Z"
   },
   {
    "duration": 10,
    "start_time": "2023-04-30T08:30:33.742Z"
   },
   {
    "duration": 7,
    "start_time": "2023-04-30T08:30:35.281Z"
   },
   {
    "duration": 7,
    "start_time": "2023-04-30T08:30:42.416Z"
   },
   {
    "duration": 130,
    "start_time": "2023-04-30T08:30:45.304Z"
   },
   {
    "duration": 15,
    "start_time": "2023-04-30T08:30:45.436Z"
   },
   {
    "duration": 14,
    "start_time": "2023-04-30T08:30:45.453Z"
   },
   {
    "duration": 23,
    "start_time": "2023-04-30T08:30:45.469Z"
   },
   {
    "duration": 14,
    "start_time": "2023-04-30T08:30:45.494Z"
   },
   {
    "duration": 15,
    "start_time": "2023-04-30T08:30:45.510Z"
   },
   {
    "duration": 20,
    "start_time": "2023-04-30T08:30:45.528Z"
   },
   {
    "duration": 8,
    "start_time": "2023-04-30T08:30:45.550Z"
   },
   {
    "duration": 3,
    "start_time": "2023-04-30T08:30:45.561Z"
   },
   {
    "duration": 16,
    "start_time": "2023-04-30T08:30:45.593Z"
   },
   {
    "duration": 6,
    "start_time": "2023-04-30T08:30:45.610Z"
   },
   {
    "duration": 10,
    "start_time": "2023-04-30T08:30:45.618Z"
   },
   {
    "duration": 15,
    "start_time": "2023-04-30T08:30:45.630Z"
   },
   {
    "duration": 9,
    "start_time": "2023-04-30T08:30:45.648Z"
   },
   {
    "duration": 28,
    "start_time": "2023-04-30T08:30:45.658Z"
   },
   {
    "duration": 19,
    "start_time": "2023-04-30T08:30:45.692Z"
   },
   {
    "duration": 20,
    "start_time": "2023-04-30T08:30:45.712Z"
   },
   {
    "duration": 11,
    "start_time": "2023-04-30T08:30:45.734Z"
   },
   {
    "duration": 5,
    "start_time": "2023-04-30T08:30:45.747Z"
   },
   {
    "duration": 40,
    "start_time": "2023-04-30T08:30:45.754Z"
   },
   {
    "duration": 15,
    "start_time": "2023-04-30T08:30:45.796Z"
   },
   {
    "duration": 9,
    "start_time": "2023-04-30T08:30:45.813Z"
   },
   {
    "duration": 10,
    "start_time": "2023-04-30T08:30:45.823Z"
   },
   {
    "duration": 6,
    "start_time": "2023-04-30T08:30:45.835Z"
   },
   {
    "duration": 107,
    "start_time": "2023-04-30T08:30:45.843Z"
   },
   {
    "duration": 6,
    "start_time": "2023-04-30T08:30:45.951Z"
   },
   {
    "duration": 37,
    "start_time": "2023-04-30T08:30:45.959Z"
   },
   {
    "duration": 133,
    "start_time": "2023-04-30T08:30:47.111Z"
   },
   {
    "duration": 9,
    "start_time": "2023-04-30T08:32:21.223Z"
   },
   {
    "duration": 132,
    "start_time": "2023-04-30T08:32:26.504Z"
   },
   {
    "duration": 22,
    "start_time": "2023-04-30T08:32:26.639Z"
   },
   {
    "duration": 26,
    "start_time": "2023-04-30T08:32:26.664Z"
   },
   {
    "duration": 30,
    "start_time": "2023-04-30T08:32:26.692Z"
   },
   {
    "duration": 16,
    "start_time": "2023-04-30T08:32:26.725Z"
   },
   {
    "duration": 15,
    "start_time": "2023-04-30T08:32:26.742Z"
   },
   {
    "duration": 40,
    "start_time": "2023-04-30T08:32:26.758Z"
   },
   {
    "duration": 10,
    "start_time": "2023-04-30T08:32:26.800Z"
   },
   {
    "duration": 20,
    "start_time": "2023-04-30T08:32:26.812Z"
   },
   {
    "duration": 26,
    "start_time": "2023-04-30T08:32:26.834Z"
   },
   {
    "duration": 20,
    "start_time": "2023-04-30T08:32:26.862Z"
   },
   {
    "duration": 13,
    "start_time": "2023-04-30T08:32:26.883Z"
   },
   {
    "duration": 12,
    "start_time": "2023-04-30T08:32:26.898Z"
   },
   {
    "duration": 20,
    "start_time": "2023-04-30T08:32:26.915Z"
   },
   {
    "duration": 26,
    "start_time": "2023-04-30T08:32:26.937Z"
   },
   {
    "duration": 21,
    "start_time": "2023-04-30T08:32:26.965Z"
   },
   {
    "duration": 24,
    "start_time": "2023-04-30T08:32:26.987Z"
   },
   {
    "duration": 514,
    "start_time": "2023-04-30T08:32:27.013Z"
   },
   {
    "duration": 16,
    "start_time": "2023-04-30T08:32:27.529Z"
   },
   {
    "duration": 13,
    "start_time": "2023-04-30T08:32:27.547Z"
   },
   {
    "duration": 23,
    "start_time": "2023-04-30T08:32:27.562Z"
   },
   {
    "duration": 21,
    "start_time": "2023-04-30T08:32:27.587Z"
   },
   {
    "duration": 18,
    "start_time": "2023-04-30T08:32:27.610Z"
   },
   {
    "duration": 15,
    "start_time": "2023-04-30T08:32:27.629Z"
   },
   {
    "duration": 111,
    "start_time": "2023-04-30T08:32:27.645Z"
   },
   {
    "duration": 7,
    "start_time": "2023-04-30T08:32:27.758Z"
   },
   {
    "duration": 37,
    "start_time": "2023-04-30T08:32:27.766Z"
   },
   {
    "duration": 11,
    "start_time": "2023-04-30T08:32:29.522Z"
   },
   {
    "duration": 132,
    "start_time": "2023-04-30T08:33:15.599Z"
   },
   {
    "duration": 17,
    "start_time": "2023-04-30T08:33:15.733Z"
   },
   {
    "duration": 15,
    "start_time": "2023-04-30T08:33:15.751Z"
   },
   {
    "duration": 24,
    "start_time": "2023-04-30T08:33:15.767Z"
   },
   {
    "duration": 14,
    "start_time": "2023-04-30T08:33:15.793Z"
   },
   {
    "duration": 8,
    "start_time": "2023-04-30T08:33:15.809Z"
   },
   {
    "duration": 19,
    "start_time": "2023-04-30T08:33:15.818Z"
   },
   {
    "duration": 8,
    "start_time": "2023-04-30T08:33:15.839Z"
   },
   {
    "duration": 5,
    "start_time": "2023-04-30T08:33:15.848Z"
   },
   {
    "duration": 49,
    "start_time": "2023-04-30T08:33:15.854Z"
   },
   {
    "duration": 7,
    "start_time": "2023-04-30T08:33:15.904Z"
   },
   {
    "duration": 4,
    "start_time": "2023-04-30T08:33:15.912Z"
   },
   {
    "duration": 8,
    "start_time": "2023-04-30T08:33:15.917Z"
   },
   {
    "duration": 8,
    "start_time": "2023-04-30T08:33:15.928Z"
   },
   {
    "duration": 18,
    "start_time": "2023-04-30T08:33:15.938Z"
   },
   {
    "duration": 44,
    "start_time": "2023-04-30T08:33:15.957Z"
   },
   {
    "duration": 19,
    "start_time": "2023-04-30T08:33:16.003Z"
   },
   {
    "duration": 23,
    "start_time": "2023-04-30T08:33:16.023Z"
   },
   {
    "duration": 6,
    "start_time": "2023-04-30T08:33:16.047Z"
   },
   {
    "duration": 11,
    "start_time": "2023-04-30T08:33:16.055Z"
   },
   {
    "duration": 29,
    "start_time": "2023-04-30T08:33:16.067Z"
   },
   {
    "duration": 28,
    "start_time": "2023-04-30T08:33:16.098Z"
   },
   {
    "duration": 16,
    "start_time": "2023-04-30T08:33:16.128Z"
   },
   {
    "duration": 14,
    "start_time": "2023-04-30T08:33:16.145Z"
   },
   {
    "duration": 95,
    "start_time": "2023-04-30T08:33:16.161Z"
   },
   {
    "duration": 7,
    "start_time": "2023-04-30T08:33:16.258Z"
   },
   {
    "duration": 15,
    "start_time": "2023-04-30T08:33:16.267Z"
   },
   {
    "duration": 149,
    "start_time": "2023-04-30T08:33:17.477Z"
   },
   {
    "duration": 138,
    "start_time": "2023-04-30T08:34:03.320Z"
   },
   {
    "duration": 19,
    "start_time": "2023-04-30T08:34:03.461Z"
   },
   {
    "duration": 18,
    "start_time": "2023-04-30T08:34:03.482Z"
   },
   {
    "duration": 39,
    "start_time": "2023-04-30T08:34:03.502Z"
   },
   {
    "duration": 22,
    "start_time": "2023-04-30T08:34:03.545Z"
   },
   {
    "duration": 32,
    "start_time": "2023-04-30T08:34:03.569Z"
   },
   {
    "duration": 20,
    "start_time": "2023-04-30T08:34:03.602Z"
   },
   {
    "duration": 8,
    "start_time": "2023-04-30T08:34:03.624Z"
   },
   {
    "duration": 5,
    "start_time": "2023-04-30T08:34:03.634Z"
   },
   {
    "duration": 18,
    "start_time": "2023-04-30T08:34:03.641Z"
   },
   {
    "duration": 35,
    "start_time": "2023-04-30T08:34:03.661Z"
   },
   {
    "duration": 6,
    "start_time": "2023-04-30T08:34:03.698Z"
   },
   {
    "duration": 10,
    "start_time": "2023-04-30T08:34:03.705Z"
   },
   {
    "duration": 18,
    "start_time": "2023-04-30T08:34:03.717Z"
   },
   {
    "duration": 15,
    "start_time": "2023-04-30T08:34:03.736Z"
   },
   {
    "duration": 31,
    "start_time": "2023-04-30T08:34:03.753Z"
   },
   {
    "duration": 18,
    "start_time": "2023-04-30T08:34:03.793Z"
   },
   {
    "duration": 17,
    "start_time": "2023-04-30T08:34:03.814Z"
   },
   {
    "duration": 36,
    "start_time": "2023-04-30T08:34:03.832Z"
   },
   {
    "duration": 9,
    "start_time": "2023-04-30T08:34:03.869Z"
   },
   {
    "duration": 34,
    "start_time": "2023-04-30T08:34:03.880Z"
   },
   {
    "duration": 7,
    "start_time": "2023-04-30T08:34:03.916Z"
   },
   {
    "duration": 9,
    "start_time": "2023-04-30T08:34:03.924Z"
   },
   {
    "duration": 11,
    "start_time": "2023-04-30T08:34:03.935Z"
   },
   {
    "duration": 90,
    "start_time": "2023-04-30T08:34:03.947Z"
   },
   {
    "duration": 7,
    "start_time": "2023-04-30T08:34:04.039Z"
   },
   {
    "duration": 9,
    "start_time": "2023-04-30T08:34:04.048Z"
   },
   {
    "duration": 11,
    "start_time": "2023-04-30T08:34:05.023Z"
   },
   {
    "duration": 131,
    "start_time": "2023-04-30T08:34:37.379Z"
   },
   {
    "duration": 18,
    "start_time": "2023-04-30T08:34:37.512Z"
   },
   {
    "duration": 16,
    "start_time": "2023-04-30T08:34:37.532Z"
   },
   {
    "duration": 44,
    "start_time": "2023-04-30T08:34:37.550Z"
   },
   {
    "duration": 17,
    "start_time": "2023-04-30T08:34:37.597Z"
   },
   {
    "duration": 10,
    "start_time": "2023-04-30T08:34:37.616Z"
   },
   {
    "duration": 25,
    "start_time": "2023-04-30T08:34:37.628Z"
   },
   {
    "duration": 39,
    "start_time": "2023-04-30T08:34:37.656Z"
   },
   {
    "duration": 7,
    "start_time": "2023-04-30T08:34:37.697Z"
   },
   {
    "duration": 25,
    "start_time": "2023-04-30T08:34:37.706Z"
   },
   {
    "duration": 17,
    "start_time": "2023-04-30T08:34:37.732Z"
   },
   {
    "duration": 4,
    "start_time": "2023-04-30T08:34:37.751Z"
   },
   {
    "duration": 11,
    "start_time": "2023-04-30T08:34:37.757Z"
   },
   {
    "duration": 38,
    "start_time": "2023-04-30T08:34:37.770Z"
   },
   {
    "duration": 12,
    "start_time": "2023-04-30T08:34:37.810Z"
   },
   {
    "duration": 19,
    "start_time": "2023-04-30T08:34:37.824Z"
   },
   {
    "duration": 19,
    "start_time": "2023-04-30T08:34:37.844Z"
   },
   {
    "duration": 37,
    "start_time": "2023-04-30T08:34:37.864Z"
   },
   {
    "duration": 6,
    "start_time": "2023-04-30T08:34:37.903Z"
   },
   {
    "duration": 7,
    "start_time": "2023-04-30T08:34:37.912Z"
   },
   {
    "duration": 17,
    "start_time": "2023-04-30T08:34:37.920Z"
   },
   {
    "duration": 7,
    "start_time": "2023-04-30T08:34:37.938Z"
   },
   {
    "duration": 18,
    "start_time": "2023-04-30T08:34:37.946Z"
   },
   {
    "duration": 12,
    "start_time": "2023-04-30T08:34:37.966Z"
   },
   {
    "duration": 94,
    "start_time": "2023-04-30T08:34:37.979Z"
   },
   {
    "duration": 6,
    "start_time": "2023-04-30T08:34:38.075Z"
   },
   {
    "duration": 18,
    "start_time": "2023-04-30T08:34:38.083Z"
   },
   {
    "duration": 9,
    "start_time": "2023-04-30T08:34:39.419Z"
   },
   {
    "duration": 12,
    "start_time": "2023-04-30T08:35:13.455Z"
   },
   {
    "duration": 134,
    "start_time": "2023-04-30T08:35:28.609Z"
   },
   {
    "duration": 17,
    "start_time": "2023-04-30T08:35:28.745Z"
   },
   {
    "duration": 16,
    "start_time": "2023-04-30T08:35:28.764Z"
   },
   {
    "duration": 23,
    "start_time": "2023-04-30T08:35:28.782Z"
   },
   {
    "duration": 13,
    "start_time": "2023-04-30T08:35:28.808Z"
   },
   {
    "duration": 9,
    "start_time": "2023-04-30T08:35:28.823Z"
   },
   {
    "duration": 19,
    "start_time": "2023-04-30T08:35:28.834Z"
   },
   {
    "duration": 39,
    "start_time": "2023-04-30T08:35:28.855Z"
   },
   {
    "duration": 5,
    "start_time": "2023-04-30T08:35:28.896Z"
   },
   {
    "duration": 19,
    "start_time": "2023-04-30T08:35:28.903Z"
   },
   {
    "duration": 6,
    "start_time": "2023-04-30T08:35:28.924Z"
   },
   {
    "duration": 4,
    "start_time": "2023-04-30T08:35:28.932Z"
   },
   {
    "duration": 7,
    "start_time": "2023-04-30T08:35:28.938Z"
   },
   {
    "duration": 9,
    "start_time": "2023-04-30T08:35:28.948Z"
   },
   {
    "duration": 58,
    "start_time": "2023-04-30T08:35:28.959Z"
   },
   {
    "duration": 19,
    "start_time": "2023-04-30T08:35:29.018Z"
   },
   {
    "duration": 19,
    "start_time": "2023-04-30T08:35:29.039Z"
   },
   {
    "duration": 17,
    "start_time": "2023-04-30T08:35:29.059Z"
   },
   {
    "duration": 5,
    "start_time": "2023-04-30T08:35:29.094Z"
   },
   {
    "duration": 8,
    "start_time": "2023-04-30T08:35:29.101Z"
   },
   {
    "duration": 14,
    "start_time": "2023-04-30T08:35:29.111Z"
   },
   {
    "duration": 8,
    "start_time": "2023-04-30T08:35:29.127Z"
   },
   {
    "duration": 10,
    "start_time": "2023-04-30T08:35:29.137Z"
   },
   {
    "duration": 6,
    "start_time": "2023-04-30T08:35:29.149Z"
   },
   {
    "duration": 129,
    "start_time": "2023-04-30T08:35:29.157Z"
   },
   {
    "duration": 6,
    "start_time": "2023-04-30T08:35:29.293Z"
   },
   {
    "duration": 12,
    "start_time": "2023-04-30T08:35:29.300Z"
   },
   {
    "duration": 169,
    "start_time": "2023-04-30T08:35:30.408Z"
   },
   {
    "duration": 149,
    "start_time": "2023-04-30T08:36:11.781Z"
   },
   {
    "duration": 21,
    "start_time": "2023-04-30T08:36:11.933Z"
   },
   {
    "duration": 18,
    "start_time": "2023-04-30T08:36:11.956Z"
   },
   {
    "duration": 34,
    "start_time": "2023-04-30T08:36:11.977Z"
   },
   {
    "duration": 15,
    "start_time": "2023-04-30T08:36:12.013Z"
   },
   {
    "duration": 9,
    "start_time": "2023-04-30T08:36:12.030Z"
   },
   {
    "duration": 22,
    "start_time": "2023-04-30T08:36:12.041Z"
   },
   {
    "duration": 33,
    "start_time": "2023-04-30T08:36:12.065Z"
   },
   {
    "duration": 4,
    "start_time": "2023-04-30T08:36:12.100Z"
   },
   {
    "duration": 19,
    "start_time": "2023-04-30T08:36:12.106Z"
   },
   {
    "duration": 8,
    "start_time": "2023-04-30T08:36:12.126Z"
   },
   {
    "duration": 4,
    "start_time": "2023-04-30T08:36:12.136Z"
   },
   {
    "duration": 7,
    "start_time": "2023-04-30T08:36:12.142Z"
   },
   {
    "duration": 42,
    "start_time": "2023-04-30T08:36:12.151Z"
   },
   {
    "duration": 14,
    "start_time": "2023-04-30T08:36:12.196Z"
   },
   {
    "duration": 19,
    "start_time": "2023-04-30T08:36:12.212Z"
   },
   {
    "duration": 20,
    "start_time": "2023-04-30T08:36:12.233Z"
   },
   {
    "duration": 42,
    "start_time": "2023-04-30T08:36:12.254Z"
   },
   {
    "duration": 5,
    "start_time": "2023-04-30T08:36:12.298Z"
   },
   {
    "duration": 10,
    "start_time": "2023-04-30T08:36:12.305Z"
   },
   {
    "duration": 21,
    "start_time": "2023-04-30T08:36:12.317Z"
   },
   {
    "duration": 8,
    "start_time": "2023-04-30T08:36:12.340Z"
   },
   {
    "duration": 8,
    "start_time": "2023-04-30T08:36:12.350Z"
   },
   {
    "duration": 37,
    "start_time": "2023-04-30T08:36:12.360Z"
   },
   {
    "duration": 113,
    "start_time": "2023-04-30T08:36:12.399Z"
   },
   {
    "duration": 6,
    "start_time": "2023-04-30T08:36:12.514Z"
   },
   {
    "duration": 12,
    "start_time": "2023-04-30T08:36:12.521Z"
   },
   {
    "duration": 138,
    "start_time": "2023-04-30T08:36:13.467Z"
   },
   {
    "duration": 136,
    "start_time": "2023-04-30T08:37:06.515Z"
   },
   {
    "duration": 18,
    "start_time": "2023-04-30T08:37:06.653Z"
   },
   {
    "duration": 14,
    "start_time": "2023-04-30T08:37:06.673Z"
   },
   {
    "duration": 24,
    "start_time": "2023-04-30T08:37:06.689Z"
   },
   {
    "duration": 16,
    "start_time": "2023-04-30T08:37:06.715Z"
   },
   {
    "duration": 10,
    "start_time": "2023-04-30T08:37:06.732Z"
   },
   {
    "duration": 20,
    "start_time": "2023-04-30T08:37:06.744Z"
   },
   {
    "duration": 9,
    "start_time": "2023-04-30T08:37:06.793Z"
   },
   {
    "duration": 6,
    "start_time": "2023-04-30T08:37:06.804Z"
   },
   {
    "duration": 16,
    "start_time": "2023-04-30T08:37:06.812Z"
   },
   {
    "duration": 10,
    "start_time": "2023-04-30T08:37:06.831Z"
   },
   {
    "duration": 8,
    "start_time": "2023-04-30T08:37:06.843Z"
   },
   {
    "duration": 12,
    "start_time": "2023-04-30T08:37:06.853Z"
   },
   {
    "duration": 10,
    "start_time": "2023-04-30T08:37:06.893Z"
   },
   {
    "duration": 25,
    "start_time": "2023-04-30T08:37:06.905Z"
   },
   {
    "duration": 19,
    "start_time": "2023-04-30T08:37:06.932Z"
   },
   {
    "duration": 19,
    "start_time": "2023-04-30T08:37:06.953Z"
   },
   {
    "duration": 14,
    "start_time": "2023-04-30T08:37:06.993Z"
   },
   {
    "duration": 8,
    "start_time": "2023-04-30T08:37:07.009Z"
   },
   {
    "duration": 7,
    "start_time": "2023-04-30T08:37:07.018Z"
   },
   {
    "duration": 14,
    "start_time": "2023-04-30T08:37:07.027Z"
   },
   {
    "duration": 9,
    "start_time": "2023-04-30T08:37:07.042Z"
   },
   {
    "duration": 6,
    "start_time": "2023-04-30T08:37:07.053Z"
   },
   {
    "duration": 6,
    "start_time": "2023-04-30T08:37:07.060Z"
   },
   {
    "duration": 129,
    "start_time": "2023-04-30T08:37:07.067Z"
   },
   {
    "duration": 7,
    "start_time": "2023-04-30T08:37:07.197Z"
   },
   {
    "duration": 16,
    "start_time": "2023-04-30T08:37:07.206Z"
   },
   {
    "duration": 160,
    "start_time": "2023-04-30T08:37:08.136Z"
   },
   {
    "duration": 215,
    "start_time": "2023-04-30T08:38:25.741Z"
   },
   {
    "duration": 149,
    "start_time": "2023-04-30T08:41:30.529Z"
   },
   {
    "duration": 22,
    "start_time": "2023-04-30T08:41:30.681Z"
   },
   {
    "duration": 54,
    "start_time": "2023-04-30T08:41:30.706Z"
   },
   {
    "duration": 44,
    "start_time": "2023-04-30T08:41:30.762Z"
   },
   {
    "duration": 62,
    "start_time": "2023-04-30T08:41:30.809Z"
   },
   {
    "duration": 86,
    "start_time": "2023-04-30T08:41:30.873Z"
   },
   {
    "duration": 93,
    "start_time": "2023-04-30T08:41:30.961Z"
   },
   {
    "duration": 23,
    "start_time": "2023-04-30T08:41:31.057Z"
   },
   {
    "duration": 36,
    "start_time": "2023-04-30T08:41:31.082Z"
   },
   {
    "duration": 51,
    "start_time": "2023-04-30T08:41:31.121Z"
   },
   {
    "duration": 44,
    "start_time": "2023-04-30T08:41:31.174Z"
   },
   {
    "duration": 35,
    "start_time": "2023-04-30T08:41:31.220Z"
   },
   {
    "duration": 21,
    "start_time": "2023-04-30T08:41:31.257Z"
   },
   {
    "duration": 48,
    "start_time": "2023-04-30T08:41:31.281Z"
   },
   {
    "duration": 83,
    "start_time": "2023-04-30T08:41:31.330Z"
   },
   {
    "duration": 47,
    "start_time": "2023-04-30T08:41:31.415Z"
   },
   {
    "duration": 47,
    "start_time": "2023-04-30T08:41:31.464Z"
   },
   {
    "duration": 77,
    "start_time": "2023-04-30T08:41:31.513Z"
   },
   {
    "duration": 62,
    "start_time": "2023-04-30T08:41:31.592Z"
   },
   {
    "duration": 20,
    "start_time": "2023-04-30T08:41:31.657Z"
   },
   {
    "duration": 28,
    "start_time": "2023-04-30T08:41:31.679Z"
   },
   {
    "duration": 34,
    "start_time": "2023-04-30T08:41:31.709Z"
   },
   {
    "duration": 16,
    "start_time": "2023-04-30T08:41:31.746Z"
   },
   {
    "duration": 9,
    "start_time": "2023-04-30T08:41:31.764Z"
   },
   {
    "duration": 151,
    "start_time": "2023-04-30T08:41:31.775Z"
   },
   {
    "duration": 10,
    "start_time": "2023-04-30T08:41:31.928Z"
   },
   {
    "duration": 27,
    "start_time": "2023-04-30T08:41:31.940Z"
   },
   {
    "duration": 153,
    "start_time": "2023-04-30T08:41:33.042Z"
   },
   {
    "duration": 133,
    "start_time": "2023-04-30T08:41:55.816Z"
   },
   {
    "duration": 22,
    "start_time": "2023-04-30T08:41:55.951Z"
   },
   {
    "duration": 29,
    "start_time": "2023-04-30T08:41:55.975Z"
   },
   {
    "duration": 39,
    "start_time": "2023-04-30T08:41:56.006Z"
   },
   {
    "duration": 16,
    "start_time": "2023-04-30T08:41:56.048Z"
   },
   {
    "duration": 33,
    "start_time": "2023-04-30T08:41:56.066Z"
   },
   {
    "duration": 20,
    "start_time": "2023-04-30T08:41:56.101Z"
   },
   {
    "duration": 10,
    "start_time": "2023-04-30T08:41:56.123Z"
   },
   {
    "duration": 6,
    "start_time": "2023-04-30T08:41:56.135Z"
   },
   {
    "duration": 21,
    "start_time": "2023-04-30T08:41:56.143Z"
   },
   {
    "duration": 7,
    "start_time": "2023-04-30T08:41:56.194Z"
   },
   {
    "duration": 12,
    "start_time": "2023-04-30T08:41:56.203Z"
   },
   {
    "duration": 17,
    "start_time": "2023-04-30T08:41:56.217Z"
   },
   {
    "duration": 14,
    "start_time": "2023-04-30T08:41:56.239Z"
   },
   {
    "duration": 37,
    "start_time": "2023-04-30T08:41:56.256Z"
   },
   {
    "duration": 24,
    "start_time": "2023-04-30T08:41:56.295Z"
   },
   {
    "duration": 29,
    "start_time": "2023-04-30T08:41:56.322Z"
   },
   {
    "duration": 13,
    "start_time": "2023-04-30T08:41:56.353Z"
   },
   {
    "duration": 6,
    "start_time": "2023-04-30T08:41:56.393Z"
   },
   {
    "duration": 11,
    "start_time": "2023-04-30T08:41:56.401Z"
   },
   {
    "duration": 22,
    "start_time": "2023-04-30T08:41:56.414Z"
   },
   {
    "duration": 10,
    "start_time": "2023-04-30T08:41:56.438Z"
   },
   {
    "duration": 44,
    "start_time": "2023-04-30T08:41:56.450Z"
   },
   {
    "duration": 6,
    "start_time": "2023-04-30T08:41:56.496Z"
   },
   {
    "duration": 145,
    "start_time": "2023-04-30T08:41:56.504Z"
   },
   {
    "duration": 8,
    "start_time": "2023-04-30T08:41:56.651Z"
   },
   {
    "duration": 39,
    "start_time": "2023-04-30T08:41:56.661Z"
   },
   {
    "duration": 157,
    "start_time": "2023-04-30T08:41:57.554Z"
   },
   {
    "duration": 17,
    "start_time": "2023-04-30T08:43:18.433Z"
   },
   {
    "duration": 148,
    "start_time": "2023-04-30T08:43:21.562Z"
   },
   {
    "duration": 24,
    "start_time": "2023-04-30T08:43:21.712Z"
   },
   {
    "duration": 22,
    "start_time": "2023-04-30T08:43:21.737Z"
   },
   {
    "duration": 65,
    "start_time": "2023-04-30T08:43:21.761Z"
   },
   {
    "duration": 18,
    "start_time": "2023-04-30T08:43:21.833Z"
   },
   {
    "duration": 11,
    "start_time": "2023-04-30T08:43:21.853Z"
   },
   {
    "duration": 34,
    "start_time": "2023-04-30T08:43:21.866Z"
   },
   {
    "duration": 17,
    "start_time": "2023-04-30T08:43:21.904Z"
   },
   {
    "duration": 6,
    "start_time": "2023-04-30T08:43:21.924Z"
   },
   {
    "duration": 24,
    "start_time": "2023-04-30T08:43:21.934Z"
   },
   {
    "duration": 182,
    "start_time": "2023-04-30T08:43:21.960Z"
   },
   {
    "duration": 18,
    "start_time": "2023-04-30T08:43:22.144Z"
   },
   {
    "duration": 11,
    "start_time": "2023-04-30T08:43:22.166Z"
   },
   {
    "duration": 25,
    "start_time": "2023-04-30T08:43:22.181Z"
   },
   {
    "duration": 40,
    "start_time": "2023-04-30T08:43:22.207Z"
   },
   {
    "duration": 35,
    "start_time": "2023-04-30T08:43:22.249Z"
   },
   {
    "duration": 25,
    "start_time": "2023-04-30T08:43:22.287Z"
   },
   {
    "duration": 12,
    "start_time": "2023-04-30T08:43:22.319Z"
   },
   {
    "duration": 56,
    "start_time": "2023-04-30T08:43:22.336Z"
   },
   {
    "duration": 35,
    "start_time": "2023-04-30T08:43:22.394Z"
   },
   {
    "duration": 19,
    "start_time": "2023-04-30T08:43:22.432Z"
   },
   {
    "duration": 14,
    "start_time": "2023-04-30T08:43:22.453Z"
   },
   {
    "duration": 8,
    "start_time": "2023-04-30T08:43:22.468Z"
   },
   {
    "duration": 20,
    "start_time": "2023-04-30T08:43:22.479Z"
   },
   {
    "duration": 128,
    "start_time": "2023-04-30T08:43:22.502Z"
   },
   {
    "duration": 6,
    "start_time": "2023-04-30T08:43:22.631Z"
   },
   {
    "duration": 13,
    "start_time": "2023-04-30T08:43:22.638Z"
   },
   {
    "duration": 12,
    "start_time": "2023-04-30T08:43:23.426Z"
   },
   {
    "duration": 142,
    "start_time": "2023-04-30T08:44:39.235Z"
   },
   {
    "duration": 21,
    "start_time": "2023-04-30T08:44:39.380Z"
   },
   {
    "duration": 23,
    "start_time": "2023-04-30T08:44:39.408Z"
   },
   {
    "duration": 24,
    "start_time": "2023-04-30T08:44:39.433Z"
   },
   {
    "duration": 13,
    "start_time": "2023-04-30T08:44:39.460Z"
   },
   {
    "duration": 23,
    "start_time": "2023-04-30T08:44:39.475Z"
   },
   {
    "duration": 24,
    "start_time": "2023-04-30T08:44:39.500Z"
   },
   {
    "duration": 9,
    "start_time": "2023-04-30T08:44:39.526Z"
   },
   {
    "duration": 3,
    "start_time": "2023-04-30T08:44:39.537Z"
   },
   {
    "duration": 16,
    "start_time": "2023-04-30T08:44:39.541Z"
   },
   {
    "duration": 6,
    "start_time": "2023-04-30T08:44:39.558Z"
   },
   {
    "duration": 29,
    "start_time": "2023-04-30T08:44:39.565Z"
   },
   {
    "duration": 9,
    "start_time": "2023-04-30T08:44:39.599Z"
   },
   {
    "duration": 9,
    "start_time": "2023-04-30T08:44:39.618Z"
   },
   {
    "duration": 14,
    "start_time": "2023-04-30T08:44:39.629Z"
   },
   {
    "duration": 17,
    "start_time": "2023-04-30T08:44:39.644Z"
   },
   {
    "duration": 33,
    "start_time": "2023-04-30T08:44:39.663Z"
   },
   {
    "duration": 12,
    "start_time": "2023-04-30T08:44:39.705Z"
   },
   {
    "duration": 8,
    "start_time": "2023-04-30T08:44:39.719Z"
   },
   {
    "duration": 8,
    "start_time": "2023-04-30T08:44:39.729Z"
   },
   {
    "duration": 15,
    "start_time": "2023-04-30T08:44:39.739Z"
   },
   {
    "duration": 13,
    "start_time": "2023-04-30T08:44:39.756Z"
   },
   {
    "duration": 23,
    "start_time": "2023-04-30T08:44:39.771Z"
   },
   {
    "duration": 10,
    "start_time": "2023-04-30T08:44:39.804Z"
   },
   {
    "duration": 106,
    "start_time": "2023-04-30T08:44:39.816Z"
   },
   {
    "duration": 6,
    "start_time": "2023-04-30T08:44:39.924Z"
   },
   {
    "duration": 20,
    "start_time": "2023-04-30T08:44:39.932Z"
   },
   {
    "duration": 147,
    "start_time": "2023-04-30T08:44:40.743Z"
   },
   {
    "duration": 167,
    "start_time": "2023-04-30T09:38:57.168Z"
   },
   {
    "duration": 168,
    "start_time": "2023-04-30T09:39:05.212Z"
   },
   {
    "duration": 21,
    "start_time": "2023-04-30T09:39:17.632Z"
   },
   {
    "duration": 839,
    "start_time": "2023-04-30T09:39:19.916Z"
   },
   {
    "duration": 35,
    "start_time": "2023-04-30T09:39:43.756Z"
   },
   {
    "duration": 157,
    "start_time": "2023-04-30T09:39:55.353Z"
   },
   {
    "duration": 162,
    "start_time": "2023-04-30T09:40:07.665Z"
   },
   {
    "duration": 167,
    "start_time": "2023-04-30T09:40:28.993Z"
   },
   {
    "duration": 151,
    "start_time": "2023-04-30T09:40:37.516Z"
   },
   {
    "duration": 158,
    "start_time": "2023-04-30T09:41:19.323Z"
   },
   {
    "duration": 162,
    "start_time": "2023-04-30T09:41:36.968Z"
   },
   {
    "duration": 201,
    "start_time": "2023-04-30T09:41:46.469Z"
   },
   {
    "duration": 16,
    "start_time": "2023-04-30T09:41:46.672Z"
   },
   {
    "duration": 34,
    "start_time": "2023-04-30T09:41:46.689Z"
   },
   {
    "duration": 33,
    "start_time": "2023-04-30T09:41:46.725Z"
   },
   {
    "duration": 14,
    "start_time": "2023-04-30T09:41:46.761Z"
   },
   {
    "duration": 9,
    "start_time": "2023-04-30T09:41:46.776Z"
   },
   {
    "duration": 35,
    "start_time": "2023-04-30T09:41:46.787Z"
   },
   {
    "duration": 26,
    "start_time": "2023-04-30T09:41:46.824Z"
   },
   {
    "duration": 7,
    "start_time": "2023-04-30T09:41:46.852Z"
   },
   {
    "duration": 27,
    "start_time": "2023-04-30T09:41:46.861Z"
   },
   {
    "duration": 45,
    "start_time": "2023-04-30T09:41:46.890Z"
   },
   {
    "duration": 9,
    "start_time": "2023-04-30T09:41:46.944Z"
   },
   {
    "duration": 8,
    "start_time": "2023-04-30T09:41:46.956Z"
   },
   {
    "duration": 8,
    "start_time": "2023-04-30T09:41:46.966Z"
   },
   {
    "duration": 36,
    "start_time": "2023-04-30T09:41:46.976Z"
   },
   {
    "duration": 53,
    "start_time": "2023-04-30T09:41:47.015Z"
   },
   {
    "duration": 33,
    "start_time": "2023-04-30T09:41:47.074Z"
   },
   {
    "duration": 20,
    "start_time": "2023-04-30T09:41:47.117Z"
   },
   {
    "duration": 11,
    "start_time": "2023-04-30T09:41:47.140Z"
   },
   {
    "duration": 10,
    "start_time": "2023-04-30T09:41:47.154Z"
   },
   {
    "duration": 17,
    "start_time": "2023-04-30T09:41:47.165Z"
   },
   {
    "duration": 5,
    "start_time": "2023-04-30T09:41:47.184Z"
   },
   {
    "duration": 33,
    "start_time": "2023-04-30T09:41:47.191Z"
   },
   {
    "duration": 20,
    "start_time": "2023-04-30T09:41:47.226Z"
   },
   {
    "duration": 119,
    "start_time": "2023-04-30T09:41:47.252Z"
   },
   {
    "duration": 6,
    "start_time": "2023-04-30T09:41:47.373Z"
   },
   {
    "duration": 24,
    "start_time": "2023-04-30T09:41:47.381Z"
   },
   {
    "duration": 170,
    "start_time": "2023-04-30T09:41:47.407Z"
   },
   {
    "duration": 140,
    "start_time": "2023-04-30T09:41:48.535Z"
   },
   {
    "duration": 192,
    "start_time": "2023-04-30T09:41:55.726Z"
   },
   {
    "duration": 284,
    "start_time": "2023-04-30T09:42:03.247Z"
   },
   {
    "duration": 218,
    "start_time": "2023-04-30T09:44:10.206Z"
   },
   {
    "duration": 6,
    "start_time": "2023-04-30T09:45:38.060Z"
   },
   {
    "duration": 193,
    "start_time": "2023-04-30T09:45:43.759Z"
   },
   {
    "duration": 17,
    "start_time": "2023-04-30T09:45:43.956Z"
   },
   {
    "duration": 17,
    "start_time": "2023-04-30T09:45:43.975Z"
   },
   {
    "duration": 65,
    "start_time": "2023-04-30T09:45:43.994Z"
   },
   {
    "duration": 21,
    "start_time": "2023-04-30T09:45:44.062Z"
   },
   {
    "duration": 13,
    "start_time": "2023-04-30T09:45:44.085Z"
   },
   {
    "duration": 51,
    "start_time": "2023-04-30T09:45:44.100Z"
   },
   {
    "duration": 12,
    "start_time": "2023-04-30T09:45:44.154Z"
   },
   {
    "duration": 6,
    "start_time": "2023-04-30T09:45:44.167Z"
   },
   {
    "duration": 29,
    "start_time": "2023-04-30T09:45:44.174Z"
   },
   {
    "duration": 22,
    "start_time": "2023-04-30T09:45:44.210Z"
   },
   {
    "duration": 8,
    "start_time": "2023-04-30T09:45:44.238Z"
   },
   {
    "duration": 10,
    "start_time": "2023-04-30T09:45:44.250Z"
   },
   {
    "duration": 9,
    "start_time": "2023-04-30T09:45:44.264Z"
   },
   {
    "duration": 17,
    "start_time": "2023-04-30T09:45:44.274Z"
   },
   {
    "duration": 54,
    "start_time": "2023-04-30T09:45:44.293Z"
   },
   {
    "duration": 22,
    "start_time": "2023-04-30T09:45:44.351Z"
   },
   {
    "duration": 14,
    "start_time": "2023-04-30T09:45:44.374Z"
   },
   {
    "duration": 14,
    "start_time": "2023-04-30T09:45:44.389Z"
   },
   {
    "duration": 30,
    "start_time": "2023-04-30T09:45:44.409Z"
   },
   {
    "duration": 25,
    "start_time": "2023-04-30T09:45:44.442Z"
   },
   {
    "duration": 7,
    "start_time": "2023-04-30T09:45:44.469Z"
   },
   {
    "duration": 14,
    "start_time": "2023-04-30T09:45:44.477Z"
   },
   {
    "duration": 22,
    "start_time": "2023-04-30T09:45:44.494Z"
   },
   {
    "duration": 135,
    "start_time": "2023-04-30T09:45:44.528Z"
   },
   {
    "duration": 5,
    "start_time": "2023-04-30T09:45:44.665Z"
   },
   {
    "duration": 27,
    "start_time": "2023-04-30T09:45:44.672Z"
   },
   {
    "duration": 171,
    "start_time": "2023-04-30T09:45:44.705Z"
   },
   {
    "duration": 182,
    "start_time": "2023-04-30T09:45:46.251Z"
   },
   {
    "duration": 5,
    "start_time": "2023-04-30T09:45:46.440Z"
   },
   {
    "duration": 10,
    "start_time": "2023-04-30T09:46:18.357Z"
   },
   {
    "duration": 255,
    "start_time": "2023-04-30T09:46:19.410Z"
   },
   {
    "duration": 18,
    "start_time": "2023-04-30T09:46:19.901Z"
   },
   {
    "duration": 19,
    "start_time": "2023-04-30T09:46:39.021Z"
   },
   {
    "duration": 194,
    "start_time": "2023-04-30T09:46:39.688Z"
   },
   {
    "duration": 5,
    "start_time": "2023-04-30T09:46:40.651Z"
   },
   {
    "duration": 10,
    "start_time": "2023-04-30T09:47:22.351Z"
   },
   {
    "duration": 5,
    "start_time": "2023-04-30T09:47:25.271Z"
   },
   {
    "duration": 154,
    "start_time": "2023-04-30T09:47:34.632Z"
   },
   {
    "duration": 26,
    "start_time": "2023-04-30T09:47:34.788Z"
   },
   {
    "duration": 34,
    "start_time": "2023-04-30T09:47:34.819Z"
   },
   {
    "duration": 34,
    "start_time": "2023-04-30T09:47:34.857Z"
   },
   {
    "duration": 22,
    "start_time": "2023-04-30T09:47:34.902Z"
   },
   {
    "duration": 14,
    "start_time": "2023-04-30T09:47:34.929Z"
   },
   {
    "duration": 21,
    "start_time": "2023-04-30T09:47:34.948Z"
   },
   {
    "duration": 9,
    "start_time": "2023-04-30T09:47:34.971Z"
   },
   {
    "duration": 4,
    "start_time": "2023-04-30T09:47:34.982Z"
   },
   {
    "duration": 52,
    "start_time": "2023-04-30T09:47:34.988Z"
   },
   {
    "duration": 8,
    "start_time": "2023-04-30T09:47:35.042Z"
   },
   {
    "duration": 15,
    "start_time": "2023-04-30T09:47:35.053Z"
   },
   {
    "duration": 14,
    "start_time": "2023-04-30T09:47:35.071Z"
   },
   {
    "duration": 23,
    "start_time": "2023-04-30T09:47:35.089Z"
   },
   {
    "duration": 33,
    "start_time": "2023-04-30T09:47:35.115Z"
   },
   {
    "duration": 28,
    "start_time": "2023-04-30T09:47:35.151Z"
   },
   {
    "duration": 43,
    "start_time": "2023-04-30T09:47:35.180Z"
   },
   {
    "duration": 35,
    "start_time": "2023-04-30T09:47:35.228Z"
   },
   {
    "duration": 25,
    "start_time": "2023-04-30T09:47:35.267Z"
   },
   {
    "duration": 35,
    "start_time": "2023-04-30T09:47:35.304Z"
   },
   {
    "duration": 25,
    "start_time": "2023-04-30T09:47:35.341Z"
   },
   {
    "duration": 22,
    "start_time": "2023-04-30T09:47:35.368Z"
   },
   {
    "duration": 20,
    "start_time": "2023-04-30T09:47:35.392Z"
   },
   {
    "duration": 7,
    "start_time": "2023-04-30T09:47:35.414Z"
   },
   {
    "duration": 141,
    "start_time": "2023-04-30T09:47:35.422Z"
   },
   {
    "duration": 6,
    "start_time": "2023-04-30T09:47:35.565Z"
   },
   {
    "duration": 25,
    "start_time": "2023-04-30T09:47:36.924Z"
   },
   {
    "duration": 180,
    "start_time": "2023-04-30T09:47:37.847Z"
   },
   {
    "duration": 5,
    "start_time": "2023-04-30T09:47:38.262Z"
   },
   {
    "duration": 14,
    "start_time": "2023-04-30T10:06:59.408Z"
   },
   {
    "duration": 228,
    "start_time": "2023-04-30T10:07:10.235Z"
   },
   {
    "duration": 17,
    "start_time": "2023-04-30T10:07:10.469Z"
   },
   {
    "duration": 34,
    "start_time": "2023-04-30T10:07:10.488Z"
   },
   {
    "duration": 53,
    "start_time": "2023-04-30T10:07:10.524Z"
   },
   {
    "duration": 29,
    "start_time": "2023-04-30T10:07:10.580Z"
   },
   {
    "duration": 17,
    "start_time": "2023-04-30T10:07:10.611Z"
   },
   {
    "duration": 41,
    "start_time": "2023-04-30T10:07:10.630Z"
   },
   {
    "duration": 8,
    "start_time": "2023-04-30T10:07:10.676Z"
   },
   {
    "duration": 5,
    "start_time": "2023-04-30T10:07:10.686Z"
   },
   {
    "duration": 36,
    "start_time": "2023-04-30T10:07:10.692Z"
   },
   {
    "duration": 11,
    "start_time": "2023-04-30T10:07:10.737Z"
   },
   {
    "duration": 9,
    "start_time": "2023-04-30T10:07:10.750Z"
   },
   {
    "duration": 17,
    "start_time": "2023-04-30T10:07:10.761Z"
   },
   {
    "duration": 10,
    "start_time": "2023-04-30T10:07:10.782Z"
   },
   {
    "duration": 31,
    "start_time": "2023-04-30T10:07:10.802Z"
   },
   {
    "duration": 36,
    "start_time": "2023-04-30T10:07:10.834Z"
   },
   {
    "duration": 33,
    "start_time": "2023-04-30T10:07:10.874Z"
   },
   {
    "duration": 12,
    "start_time": "2023-04-30T10:07:10.909Z"
   },
   {
    "duration": 24,
    "start_time": "2023-04-30T10:07:10.922Z"
   },
   {
    "duration": 9,
    "start_time": "2023-04-30T10:07:10.948Z"
   },
   {
    "duration": 48,
    "start_time": "2023-04-30T10:07:10.958Z"
   },
   {
    "duration": 7,
    "start_time": "2023-04-30T10:07:11.008Z"
   },
   {
    "duration": 7,
    "start_time": "2023-04-30T10:07:11.017Z"
   },
   {
    "duration": 13,
    "start_time": "2023-04-30T10:07:11.026Z"
   },
   {
    "duration": 192,
    "start_time": "2023-04-30T10:07:11.041Z"
   },
   {
    "duration": 11,
    "start_time": "2023-04-30T10:07:11.235Z"
   },
   {
    "duration": 48,
    "start_time": "2023-04-30T10:07:11.248Z"
   },
   {
    "duration": 229,
    "start_time": "2023-04-30T10:07:11.298Z"
   },
   {
    "duration": 190,
    "start_time": "2023-04-30T10:07:12.606Z"
   },
   {
    "duration": 9,
    "start_time": "2023-04-30T10:07:13.763Z"
   },
   {
    "duration": 26,
    "start_time": "2023-04-30T10:08:19.925Z"
   },
   {
    "duration": 233,
    "start_time": "2023-04-30T10:08:23.937Z"
   },
   {
    "duration": 19,
    "start_time": "2023-04-30T10:08:24.172Z"
   },
   {
    "duration": 27,
    "start_time": "2023-04-30T10:08:24.193Z"
   },
   {
    "duration": 63,
    "start_time": "2023-04-30T10:08:24.222Z"
   },
   {
    "duration": 19,
    "start_time": "2023-04-30T10:08:24.287Z"
   },
   {
    "duration": 41,
    "start_time": "2023-04-30T10:08:24.308Z"
   },
   {
    "duration": 34,
    "start_time": "2023-04-30T10:08:24.354Z"
   },
   {
    "duration": 31,
    "start_time": "2023-04-30T10:08:24.390Z"
   },
   {
    "duration": 11,
    "start_time": "2023-04-30T10:08:24.422Z"
   },
   {
    "duration": 31,
    "start_time": "2023-04-30T10:08:24.435Z"
   },
   {
    "duration": 8,
    "start_time": "2023-04-30T10:08:24.468Z"
   },
   {
    "duration": 23,
    "start_time": "2023-04-30T10:08:24.479Z"
   },
   {
    "duration": 13,
    "start_time": "2023-04-30T10:08:24.511Z"
   },
   {
    "duration": 17,
    "start_time": "2023-04-30T10:08:24.531Z"
   },
   {
    "duration": 23,
    "start_time": "2023-04-30T10:08:25.539Z"
   },
   {
    "duration": 52,
    "start_time": "2023-04-30T10:08:37.223Z"
   },
   {
    "duration": 5,
    "start_time": "2023-04-30T10:10:45.261Z"
   },
   {
    "duration": 9,
    "start_time": "2023-04-30T10:11:00.918Z"
   },
   {
    "duration": 5,
    "start_time": "2023-04-30T10:11:05.980Z"
   },
   {
    "duration": 7,
    "start_time": "2023-04-30T10:11:12.967Z"
   },
   {
    "duration": 1387,
    "start_time": "2023-04-30T10:13:10.382Z"
   },
   {
    "duration": 187,
    "start_time": "2023-04-30T10:13:15.860Z"
   },
   {
    "duration": 21,
    "start_time": "2023-04-30T10:13:16.049Z"
   },
   {
    "duration": 32,
    "start_time": "2023-04-30T10:13:16.072Z"
   },
   {
    "duration": 46,
    "start_time": "2023-04-30T10:13:16.119Z"
   },
   {
    "duration": 16,
    "start_time": "2023-04-30T10:13:16.168Z"
   },
   {
    "duration": 16,
    "start_time": "2023-04-30T10:13:16.186Z"
   },
   {
    "duration": 35,
    "start_time": "2023-04-30T10:13:16.204Z"
   },
   {
    "duration": 15,
    "start_time": "2023-04-30T10:13:16.241Z"
   },
   {
    "duration": 5,
    "start_time": "2023-04-30T10:13:16.264Z"
   },
   {
    "duration": 19,
    "start_time": "2023-04-30T10:13:16.270Z"
   },
   {
    "duration": 24,
    "start_time": "2023-04-30T10:13:16.291Z"
   },
   {
    "duration": 10,
    "start_time": "2023-04-30T10:13:16.317Z"
   },
   {
    "duration": 19,
    "start_time": "2023-04-30T10:13:16.328Z"
   },
   {
    "duration": 12,
    "start_time": "2023-04-30T10:13:16.352Z"
   },
   {
    "duration": 14,
    "start_time": "2023-04-30T10:13:16.366Z"
   },
   {
    "duration": 20,
    "start_time": "2023-04-30T10:13:16.382Z"
   },
   {
    "duration": 29,
    "start_time": "2023-04-30T10:13:16.404Z"
   },
   {
    "duration": 16,
    "start_time": "2023-04-30T10:13:16.435Z"
   },
   {
    "duration": 6,
    "start_time": "2023-04-30T10:13:16.453Z"
   },
   {
    "duration": 18,
    "start_time": "2023-04-30T10:13:16.461Z"
   },
   {
    "duration": 46,
    "start_time": "2023-04-30T10:13:16.481Z"
   },
   {
    "duration": 20,
    "start_time": "2023-04-30T10:13:16.530Z"
   },
   {
    "duration": 15,
    "start_time": "2023-04-30T10:13:16.552Z"
   },
   {
    "duration": 15,
    "start_time": "2023-04-30T10:13:16.569Z"
   },
   {
    "duration": 155,
    "start_time": "2023-04-30T10:13:16.586Z"
   },
   {
    "duration": 13,
    "start_time": "2023-04-30T10:13:16.753Z"
   },
   {
    "duration": 10,
    "start_time": "2023-04-30T10:13:16.768Z"
   },
   {
    "duration": 206,
    "start_time": "2023-04-30T10:13:16.779Z"
   },
   {
    "duration": 200,
    "start_time": "2023-04-30T10:13:19.118Z"
   },
   {
    "duration": 8,
    "start_time": "2023-04-30T10:13:19.550Z"
   },
   {
    "duration": 197,
    "start_time": "2023-04-30T10:14:01.487Z"
   },
   {
    "duration": 36,
    "start_time": "2023-04-30T10:14:01.687Z"
   },
   {
    "duration": 37,
    "start_time": "2023-04-30T10:14:01.725Z"
   },
   {
    "duration": 59,
    "start_time": "2023-04-30T10:14:01.765Z"
   },
   {
    "duration": 27,
    "start_time": "2023-04-30T10:14:01.826Z"
   },
   {
    "duration": 14,
    "start_time": "2023-04-30T10:14:01.854Z"
   },
   {
    "duration": 19,
    "start_time": "2023-04-30T10:14:01.869Z"
   },
   {
    "duration": 41,
    "start_time": "2023-04-30T10:14:01.890Z"
   },
   {
    "duration": 21,
    "start_time": "2023-04-30T10:14:01.935Z"
   },
   {
    "duration": 30,
    "start_time": "2023-04-30T10:14:01.964Z"
   },
   {
    "duration": 41,
    "start_time": "2023-04-30T10:14:01.998Z"
   },
   {
    "duration": 25,
    "start_time": "2023-04-30T10:14:02.041Z"
   },
   {
    "duration": 21,
    "start_time": "2023-04-30T10:14:02.068Z"
   },
   {
    "duration": 47,
    "start_time": "2023-04-30T10:14:02.092Z"
   },
   {
    "duration": 30,
    "start_time": "2023-04-30T10:14:02.141Z"
   },
   {
    "duration": 34,
    "start_time": "2023-04-30T10:14:02.173Z"
   },
   {
    "duration": 47,
    "start_time": "2023-04-30T10:14:02.215Z"
   },
   {
    "duration": 15,
    "start_time": "2023-04-30T10:14:02.263Z"
   },
   {
    "duration": 67,
    "start_time": "2023-04-30T10:14:02.280Z"
   },
   {
    "duration": 35,
    "start_time": "2023-04-30T10:14:02.348Z"
   },
   {
    "duration": 41,
    "start_time": "2023-04-30T10:14:02.386Z"
   },
   {
    "duration": 10,
    "start_time": "2023-04-30T10:14:02.429Z"
   },
   {
    "duration": 39,
    "start_time": "2023-04-30T10:14:02.441Z"
   },
   {
    "duration": 38,
    "start_time": "2023-04-30T10:14:02.482Z"
   },
   {
    "duration": 130,
    "start_time": "2023-04-30T10:14:02.525Z"
   },
   {
    "duration": 9,
    "start_time": "2023-04-30T10:14:02.657Z"
   },
   {
    "duration": 5,
    "start_time": "2023-04-30T10:14:03.756Z"
   },
   {
    "duration": 206,
    "start_time": "2023-04-30T10:15:47.348Z"
   },
   {
    "duration": 15,
    "start_time": "2023-04-30T10:15:47.560Z"
   },
   {
    "duration": 14,
    "start_time": "2023-04-30T10:15:47.577Z"
   },
   {
    "duration": 61,
    "start_time": "2023-04-30T10:15:47.602Z"
   },
   {
    "duration": 19,
    "start_time": "2023-04-30T10:15:47.670Z"
   },
   {
    "duration": 33,
    "start_time": "2023-04-30T10:15:47.691Z"
   },
   {
    "duration": 45,
    "start_time": "2023-04-30T10:15:47.728Z"
   },
   {
    "duration": 11,
    "start_time": "2023-04-30T10:15:47.775Z"
   },
   {
    "duration": 16,
    "start_time": "2023-04-30T10:15:47.787Z"
   },
   {
    "duration": 36,
    "start_time": "2023-04-30T10:15:47.805Z"
   },
   {
    "duration": 8,
    "start_time": "2023-04-30T10:15:47.843Z"
   },
   {
    "duration": 14,
    "start_time": "2023-04-30T10:15:47.854Z"
   },
   {
    "duration": 11,
    "start_time": "2023-04-30T10:15:47.872Z"
   },
   {
    "duration": 41,
    "start_time": "2023-04-30T10:15:47.886Z"
   },
   {
    "duration": 43,
    "start_time": "2023-04-30T10:15:47.931Z"
   },
   {
    "duration": 43,
    "start_time": "2023-04-30T10:15:47.984Z"
   },
   {
    "duration": 28,
    "start_time": "2023-04-30T10:15:48.032Z"
   },
   {
    "duration": 10,
    "start_time": "2023-04-30T10:15:48.062Z"
   },
   {
    "duration": 12,
    "start_time": "2023-04-30T10:15:48.074Z"
   },
   {
    "duration": 16,
    "start_time": "2023-04-30T10:15:48.087Z"
   },
   {
    "duration": 19,
    "start_time": "2023-04-30T10:15:48.104Z"
   },
   {
    "duration": 7,
    "start_time": "2023-04-30T10:15:48.125Z"
   },
   {
    "duration": 6,
    "start_time": "2023-04-30T10:15:48.134Z"
   },
   {
    "duration": 6,
    "start_time": "2023-04-30T10:15:48.142Z"
   },
   {
    "duration": 139,
    "start_time": "2023-04-30T10:15:48.153Z"
   },
   {
    "duration": 18,
    "start_time": "2023-04-30T10:15:48.295Z"
   },
   {
    "duration": 13,
    "start_time": "2023-04-30T10:15:49.622Z"
   },
   {
    "duration": 6,
    "start_time": "2023-04-30T10:15:52.785Z"
   },
   {
    "duration": 13,
    "start_time": "2023-04-30T10:16:35.926Z"
   },
   {
    "duration": 9,
    "start_time": "2023-04-30T10:16:44.719Z"
   },
   {
    "duration": 14,
    "start_time": "2023-04-30T10:16:49.913Z"
   },
   {
    "duration": 6,
    "start_time": "2023-04-30T10:16:58.469Z"
   },
   {
    "duration": 597,
    "start_time": "2023-04-30T10:17:40.370Z"
   },
   {
    "duration": 17,
    "start_time": "2023-04-30T10:17:40.969Z"
   },
   {
    "duration": 22,
    "start_time": "2023-04-30T10:17:40.987Z"
   },
   {
    "duration": 38,
    "start_time": "2023-04-30T10:17:41.010Z"
   },
   {
    "duration": 22,
    "start_time": "2023-04-30T10:17:41.050Z"
   },
   {
    "duration": 10,
    "start_time": "2023-04-30T10:17:43.561Z"
   },
   {
    "duration": 180,
    "start_time": "2023-04-30T10:21:26.914Z"
   },
   {
    "duration": 120,
    "start_time": "2023-04-30T10:21:27.859Z"
   },
   {
    "duration": 12,
    "start_time": "2023-04-30T10:21:28.262Z"
   },
   {
    "duration": 613,
    "start_time": "2023-04-30T10:21:35.386Z"
   },
   {
    "duration": 90,
    "start_time": "2023-04-30T10:21:36.001Z"
   },
   {
    "duration": 20,
    "start_time": "2023-04-30T10:21:59.627Z"
   },
   {
    "duration": 213,
    "start_time": "2023-04-30T10:22:07.163Z"
   },
   {
    "duration": 12,
    "start_time": "2023-04-30T10:22:07.427Z"
   },
   {
    "duration": 193,
    "start_time": "2023-04-30T10:23:56.523Z"
   },
   {
    "duration": 79,
    "start_time": "2023-04-30T10:24:11.881Z"
   },
   {
    "duration": 31,
    "start_time": "2023-04-30T10:24:12.427Z"
   },
   {
    "duration": 69,
    "start_time": "2023-04-30T10:24:15.286Z"
   },
   {
    "duration": 35,
    "start_time": "2023-04-30T10:24:16.313Z"
   },
   {
    "duration": 27,
    "start_time": "2023-04-30T10:24:17.917Z"
   },
   {
    "duration": 33,
    "start_time": "2023-04-30T10:29:56.726Z"
   },
   {
    "duration": 25,
    "start_time": "2023-04-30T10:29:59.420Z"
   },
   {
    "duration": 11,
    "start_time": "2023-04-30T10:30:00.950Z"
   },
   {
    "duration": 10,
    "start_time": "2023-04-30T10:30:10.464Z"
   },
   {
    "duration": 22,
    "start_time": "2023-04-30T10:30:10.856Z"
   },
   {
    "duration": 12,
    "start_time": "2023-04-30T10:30:12.943Z"
   },
   {
    "duration": 4,
    "start_time": "2023-04-30T10:31:17.936Z"
   },
   {
    "duration": 11,
    "start_time": "2023-04-30T10:32:15.761Z"
   },
   {
    "duration": 4,
    "start_time": "2023-04-30T10:32:41.156Z"
   },
   {
    "duration": 4,
    "start_time": "2023-04-30T10:32:46.843Z"
   },
   {
    "duration": 27,
    "start_time": "2023-04-30T10:33:00.716Z"
   },
   {
    "duration": 152,
    "start_time": "2023-04-30T10:33:06.826Z"
   },
   {
    "duration": 23,
    "start_time": "2023-04-30T10:33:06.980Z"
   },
   {
    "duration": 25,
    "start_time": "2023-04-30T10:33:07.007Z"
   },
   {
    "duration": 28,
    "start_time": "2023-04-30T10:33:07.034Z"
   },
   {
    "duration": 14,
    "start_time": "2023-04-30T10:33:07.064Z"
   },
   {
    "duration": 10,
    "start_time": "2023-04-30T10:33:07.079Z"
   },
   {
    "duration": 30,
    "start_time": "2023-04-30T10:33:07.091Z"
   },
   {
    "duration": 12,
    "start_time": "2023-04-30T10:33:07.123Z"
   },
   {
    "duration": 6,
    "start_time": "2023-04-30T10:33:07.137Z"
   },
   {
    "duration": 9,
    "start_time": "2023-04-30T10:33:07.149Z"
   },
   {
    "duration": 19,
    "start_time": "2023-04-30T10:33:07.159Z"
   },
   {
    "duration": 31,
    "start_time": "2023-04-30T10:33:07.180Z"
   },
   {
    "duration": 6,
    "start_time": "2023-04-30T10:33:07.213Z"
   },
   {
    "duration": 10,
    "start_time": "2023-04-30T10:33:07.222Z"
   },
   {
    "duration": 16,
    "start_time": "2023-04-30T10:33:07.237Z"
   },
   {
    "duration": 18,
    "start_time": "2023-04-30T10:33:08.490Z"
   },
   {
    "duration": 7,
    "start_time": "2023-04-30T10:33:08.750Z"
   },
   {
    "duration": 4,
    "start_time": "2023-04-30T10:33:15.944Z"
   },
   {
    "duration": 155,
    "start_time": "2023-04-30T10:33:31.518Z"
   },
   {
    "duration": 15,
    "start_time": "2023-04-30T10:33:31.676Z"
   },
   {
    "duration": 54,
    "start_time": "2023-04-30T10:33:31.692Z"
   },
   {
    "duration": 28,
    "start_time": "2023-04-30T10:33:31.748Z"
   },
   {
    "duration": 46,
    "start_time": "2023-04-30T10:33:31.779Z"
   },
   {
    "duration": 21,
    "start_time": "2023-04-30T10:33:31.830Z"
   },
   {
    "duration": 50,
    "start_time": "2023-04-30T10:33:31.861Z"
   },
   {
    "duration": 20,
    "start_time": "2023-04-30T10:33:31.913Z"
   },
   {
    "duration": 12,
    "start_time": "2023-04-30T10:33:31.939Z"
   },
   {
    "duration": 11,
    "start_time": "2023-04-30T10:33:31.958Z"
   },
   {
    "duration": 49,
    "start_time": "2023-04-30T10:33:31.971Z"
   },
   {
    "duration": 21,
    "start_time": "2023-04-30T10:33:32.026Z"
   },
   {
    "duration": 40,
    "start_time": "2023-04-30T10:33:32.055Z"
   },
   {
    "duration": 57,
    "start_time": "2023-04-30T10:33:32.098Z"
   },
   {
    "duration": 27,
    "start_time": "2023-04-30T10:33:32.157Z"
   },
   {
    "duration": 10,
    "start_time": "2023-04-30T10:33:33.042Z"
   },
   {
    "duration": 13,
    "start_time": "2023-04-30T10:33:33.292Z"
   },
   {
    "duration": 6,
    "start_time": "2023-04-30T10:36:10.453Z"
   },
   {
    "duration": 195,
    "start_time": "2023-04-30T10:36:13.480Z"
   },
   {
    "duration": 15,
    "start_time": "2023-04-30T10:36:13.677Z"
   },
   {
    "duration": 20,
    "start_time": "2023-04-30T10:36:13.696Z"
   },
   {
    "duration": 33,
    "start_time": "2023-04-30T10:36:13.721Z"
   },
   {
    "duration": 14,
    "start_time": "2023-04-30T10:36:13.757Z"
   },
   {
    "duration": 30,
    "start_time": "2023-04-30T10:36:13.773Z"
   },
   {
    "duration": 29,
    "start_time": "2023-04-30T10:36:13.808Z"
   },
   {
    "duration": 12,
    "start_time": "2023-04-30T10:36:13.840Z"
   },
   {
    "duration": 3,
    "start_time": "2023-04-30T10:36:13.853Z"
   },
   {
    "duration": 9,
    "start_time": "2023-04-30T10:36:13.858Z"
   },
   {
    "duration": 20,
    "start_time": "2023-04-30T10:36:13.869Z"
   },
   {
    "duration": 28,
    "start_time": "2023-04-30T10:36:13.891Z"
   },
   {
    "duration": 5,
    "start_time": "2023-04-30T10:36:13.926Z"
   },
   {
    "duration": 10,
    "start_time": "2023-04-30T10:36:13.934Z"
   },
   {
    "duration": 11,
    "start_time": "2023-04-30T10:36:13.945Z"
   },
   {
    "duration": 16,
    "start_time": "2023-04-30T10:36:14.899Z"
   },
   {
    "duration": 8,
    "start_time": "2023-04-30T10:36:15.169Z"
   },
   {
    "duration": 10,
    "start_time": "2023-04-30T10:36:38.638Z"
   },
   {
    "duration": 659,
    "start_time": "2023-04-30T10:36:55.984Z"
   },
   {
    "duration": 23,
    "start_time": "2023-04-30T10:36:56.648Z"
   },
   {
    "duration": 16,
    "start_time": "2023-04-30T10:36:56.673Z"
   },
   {
    "duration": 62,
    "start_time": "2023-04-30T10:36:56.690Z"
   },
   {
    "duration": 25,
    "start_time": "2023-04-30T10:36:56.755Z"
   },
   {
    "duration": 10,
    "start_time": "2023-04-30T10:36:56.782Z"
   },
   {
    "duration": 54,
    "start_time": "2023-04-30T10:36:56.802Z"
   },
   {
    "duration": 34,
    "start_time": "2023-04-30T10:36:58.789Z"
   },
   {
    "duration": 7,
    "start_time": "2023-04-30T10:37:02.522Z"
   },
   {
    "duration": 5,
    "start_time": "2023-04-30T10:37:09.368Z"
   },
   {
    "duration": 25,
    "start_time": "2023-04-30T10:37:16.530Z"
   },
   {
    "duration": 16,
    "start_time": "2023-04-30T10:37:18.026Z"
   },
   {
    "duration": 5,
    "start_time": "2023-04-30T10:39:17.442Z"
   },
   {
    "duration": 6,
    "start_time": "2023-04-30T10:39:22.940Z"
   },
   {
    "duration": 20,
    "start_time": "2023-04-30T10:39:24.179Z"
   },
   {
    "duration": 15,
    "start_time": "2023-04-30T10:40:00.735Z"
   },
   {
    "duration": 160,
    "start_time": "2023-04-30T10:40:05.565Z"
   },
   {
    "duration": 22,
    "start_time": "2023-04-30T10:40:05.731Z"
   },
   {
    "duration": 19,
    "start_time": "2023-04-30T10:40:05.755Z"
   },
   {
    "duration": 31,
    "start_time": "2023-04-30T10:40:05.776Z"
   },
   {
    "duration": 24,
    "start_time": "2023-04-30T10:40:05.809Z"
   },
   {
    "duration": 35,
    "start_time": "2023-04-30T10:40:05.835Z"
   },
   {
    "duration": 23,
    "start_time": "2023-04-30T10:40:05.871Z"
   },
   {
    "duration": 37,
    "start_time": "2023-04-30T10:40:05.896Z"
   },
   {
    "duration": 7,
    "start_time": "2023-04-30T10:40:05.935Z"
   },
   {
    "duration": 12,
    "start_time": "2023-04-30T10:40:05.944Z"
   },
   {
    "duration": 43,
    "start_time": "2023-04-30T10:40:05.958Z"
   },
   {
    "duration": 13,
    "start_time": "2023-04-30T10:40:06.004Z"
   },
   {
    "duration": 16,
    "start_time": "2023-04-30T10:40:06.018Z"
   },
   {
    "duration": 8,
    "start_time": "2023-04-30T10:40:06.043Z"
   },
   {
    "duration": 11,
    "start_time": "2023-04-30T10:40:06.053Z"
   },
   {
    "duration": 17,
    "start_time": "2023-04-30T10:40:07.020Z"
   },
   {
    "duration": 5,
    "start_time": "2023-04-30T10:40:07.453Z"
   },
   {
    "duration": 5,
    "start_time": "2023-04-30T10:40:10.345Z"
   },
   {
    "duration": 9,
    "start_time": "2023-04-30T10:41:29.483Z"
   },
   {
    "duration": 17,
    "start_time": "2023-04-30T10:41:44.820Z"
   },
   {
    "duration": 7,
    "start_time": "2023-04-30T10:41:45.637Z"
   },
   {
    "duration": 5,
    "start_time": "2023-04-30T10:41:45.967Z"
   },
   {
    "duration": 23,
    "start_time": "2023-04-30T10:41:46.880Z"
   },
   {
    "duration": 8,
    "start_time": "2023-04-30T10:41:47.219Z"
   },
   {
    "duration": 9,
    "start_time": "2023-04-30T10:41:48.615Z"
   },
   {
    "duration": 7,
    "start_time": "2023-04-30T10:41:49.067Z"
   },
   {
    "duration": 11,
    "start_time": "2023-04-30T10:41:49.856Z"
   },
   {
    "duration": 23,
    "start_time": "2023-04-30T10:41:50.290Z"
   },
   {
    "duration": 595,
    "start_time": "2023-04-30T10:41:58.077Z"
   },
   {
    "duration": 15,
    "start_time": "2023-04-30T10:41:58.674Z"
   },
   {
    "duration": 44,
    "start_time": "2023-04-30T10:41:58.691Z"
   },
   {
    "duration": 32,
    "start_time": "2023-04-30T10:41:58.744Z"
   },
   {
    "duration": 24,
    "start_time": "2023-04-30T10:41:58.778Z"
   },
   {
    "duration": 26,
    "start_time": "2023-04-30T10:41:58.808Z"
   },
   {
    "duration": 24,
    "start_time": "2023-04-30T10:41:58.842Z"
   },
   {
    "duration": 21,
    "start_time": "2023-04-30T10:42:00.923Z"
   },
   {
    "duration": 4,
    "start_time": "2023-04-30T10:42:02.823Z"
   },
   {
    "duration": 5,
    "start_time": "2023-04-30T10:42:03.876Z"
   },
   {
    "duration": 16,
    "start_time": "2023-04-30T10:42:05.062Z"
   },
   {
    "duration": 7,
    "start_time": "2023-04-30T10:42:06.155Z"
   },
   {
    "duration": 9,
    "start_time": "2023-04-30T10:42:08.229Z"
   },
   {
    "duration": 6,
    "start_time": "2023-04-30T10:42:09.047Z"
   },
   {
    "duration": 21,
    "start_time": "2023-04-30T10:42:09.909Z"
   },
   {
    "duration": 8,
    "start_time": "2023-04-30T10:42:11.452Z"
   },
   {
    "duration": 76,
    "start_time": "2023-04-30T10:45:36.734Z"
   },
   {
    "duration": 21,
    "start_time": "2023-04-30T10:46:23.322Z"
   },
   {
    "duration": 15,
    "start_time": "2023-04-30T10:46:24.923Z"
   },
   {
    "duration": 149,
    "start_time": "2023-04-30T10:46:31.033Z"
   },
   {
    "duration": 25,
    "start_time": "2023-04-30T10:46:31.184Z"
   },
   {
    "duration": 57,
    "start_time": "2023-04-30T10:46:31.211Z"
   },
   {
    "duration": 49,
    "start_time": "2023-04-30T10:46:31.270Z"
   },
   {
    "duration": 26,
    "start_time": "2023-04-30T10:46:31.322Z"
   },
   {
    "duration": 40,
    "start_time": "2023-04-30T10:46:31.349Z"
   },
   {
    "duration": 60,
    "start_time": "2023-04-30T10:46:31.390Z"
   },
   {
    "duration": 26,
    "start_time": "2023-04-30T10:46:31.453Z"
   },
   {
    "duration": 33,
    "start_time": "2023-04-30T10:46:31.481Z"
   },
   {
    "duration": 27,
    "start_time": "2023-04-30T10:46:31.515Z"
   },
   {
    "duration": 43,
    "start_time": "2023-04-30T10:46:31.545Z"
   },
   {
    "duration": 32,
    "start_time": "2023-04-30T10:46:31.590Z"
   },
   {
    "duration": 20,
    "start_time": "2023-04-30T10:46:31.626Z"
   },
   {
    "duration": 22,
    "start_time": "2023-04-30T10:46:31.649Z"
   },
   {
    "duration": 13,
    "start_time": "2023-04-30T10:46:31.673Z"
   },
   {
    "duration": 11,
    "start_time": "2023-04-30T10:46:32.544Z"
   },
   {
    "duration": 9,
    "start_time": "2023-04-30T10:46:33.044Z"
   },
   {
    "duration": 15,
    "start_time": "2023-04-30T10:46:38.888Z"
   },
   {
    "duration": 9,
    "start_time": "2023-04-30T10:47:06.044Z"
   },
   {
    "duration": 14,
    "start_time": "2023-04-30T10:47:18.266Z"
   },
   {
    "duration": 166,
    "start_time": "2023-04-30T10:47:24.143Z"
   },
   {
    "duration": 35,
    "start_time": "2023-04-30T10:47:24.311Z"
   },
   {
    "duration": 14,
    "start_time": "2023-04-30T10:47:24.348Z"
   },
   {
    "duration": 61,
    "start_time": "2023-04-30T10:47:24.363Z"
   },
   {
    "duration": 24,
    "start_time": "2023-04-30T10:47:24.426Z"
   },
   {
    "duration": 11,
    "start_time": "2023-04-30T10:47:24.453Z"
   },
   {
    "duration": 49,
    "start_time": "2023-04-30T10:47:24.465Z"
   },
   {
    "duration": 23,
    "start_time": "2023-04-30T10:47:24.526Z"
   },
   {
    "duration": 10,
    "start_time": "2023-04-30T10:47:24.550Z"
   },
   {
    "duration": 11,
    "start_time": "2023-04-30T10:47:24.561Z"
   },
   {
    "duration": 28,
    "start_time": "2023-04-30T10:47:24.573Z"
   },
   {
    "duration": 6,
    "start_time": "2023-04-30T10:47:24.610Z"
   },
   {
    "duration": 29,
    "start_time": "2023-04-30T10:47:26.393Z"
   },
   {
    "duration": 8,
    "start_time": "2023-04-30T10:47:32.458Z"
   },
   {
    "duration": 27,
    "start_time": "2023-04-30T10:47:34.401Z"
   },
   {
    "duration": 10,
    "start_time": "2023-04-30T10:47:35.654Z"
   },
   {
    "duration": 18,
    "start_time": "2023-04-30T10:47:37.707Z"
   },
   {
    "duration": 19,
    "start_time": "2023-04-30T10:50:08.020Z"
   },
   {
    "duration": 12,
    "start_time": "2023-04-30T10:50:10.424Z"
   },
   {
    "duration": 5,
    "start_time": "2023-04-30T10:50:20.844Z"
   },
   {
    "duration": 10,
    "start_time": "2023-04-30T10:51:29.720Z"
   },
   {
    "duration": 169,
    "start_time": "2023-04-30T10:52:09.058Z"
   },
   {
    "duration": 21,
    "start_time": "2023-04-30T10:52:09.233Z"
   },
   {
    "duration": 15,
    "start_time": "2023-04-30T10:52:09.262Z"
   },
   {
    "duration": 34,
    "start_time": "2023-04-30T10:52:09.279Z"
   },
   {
    "duration": 27,
    "start_time": "2023-04-30T10:52:09.315Z"
   },
   {
    "duration": 12,
    "start_time": "2023-04-30T10:52:09.361Z"
   },
   {
    "duration": 28,
    "start_time": "2023-04-30T10:52:09.375Z"
   },
   {
    "duration": 12,
    "start_time": "2023-04-30T10:52:09.409Z"
   },
   {
    "duration": 4,
    "start_time": "2023-04-30T10:52:09.422Z"
   },
   {
    "duration": 15,
    "start_time": "2023-04-30T10:52:09.428Z"
   },
   {
    "duration": 17,
    "start_time": "2023-04-30T10:52:09.445Z"
   },
   {
    "duration": 6,
    "start_time": "2023-04-30T10:52:09.464Z"
   },
   {
    "duration": 9,
    "start_time": "2023-04-30T10:52:09.472Z"
   },
   {
    "duration": 19,
    "start_time": "2023-04-30T10:52:09.502Z"
   },
   {
    "duration": 12,
    "start_time": "2023-04-30T10:52:09.530Z"
   },
   {
    "duration": 12,
    "start_time": "2023-04-30T10:52:09.544Z"
   },
   {
    "duration": 5,
    "start_time": "2023-04-30T10:52:09.558Z"
   },
   {
    "duration": 24,
    "start_time": "2023-04-30T10:52:09.565Z"
   },
   {
    "duration": 48,
    "start_time": "2023-04-30T10:52:09.591Z"
   },
   {
    "duration": 22,
    "start_time": "2023-04-30T10:52:09.647Z"
   },
   {
    "duration": 15,
    "start_time": "2023-04-30T10:52:09.671Z"
   },
   {
    "duration": 23,
    "start_time": "2023-04-30T10:52:09.687Z"
   },
   {
    "duration": 14,
    "start_time": "2023-04-30T10:52:09.720Z"
   },
   {
    "duration": 23,
    "start_time": "2023-04-30T10:52:09.736Z"
   },
   {
    "duration": 5,
    "start_time": "2023-04-30T10:52:09.761Z"
   },
   {
    "duration": 10,
    "start_time": "2023-04-30T10:52:09.768Z"
   },
   {
    "duration": 11,
    "start_time": "2023-04-30T10:52:09.780Z"
   },
   {
    "duration": 261,
    "start_time": "2023-04-30T10:52:09.793Z"
   },
   {
    "duration": 5,
    "start_time": "2023-04-30T10:52:10.056Z"
   },
   {
    "duration": 24,
    "start_time": "2023-04-30T10:52:35.523Z"
   },
   {
    "duration": 456,
    "start_time": "2023-04-30T10:52:37.031Z"
   },
   {
    "duration": 14,
    "start_time": "2023-04-30T10:52:37.489Z"
   },
   {
    "duration": 14,
    "start_time": "2023-04-30T10:53:18.448Z"
   },
   {
    "duration": 186,
    "start_time": "2023-04-30T10:53:22.885Z"
   },
   {
    "duration": 16,
    "start_time": "2023-04-30T10:53:23.073Z"
   },
   {
    "duration": 26,
    "start_time": "2023-04-30T10:53:23.090Z"
   },
   {
    "duration": 38,
    "start_time": "2023-04-30T10:53:23.119Z"
   },
   {
    "duration": 21,
    "start_time": "2023-04-30T10:53:23.161Z"
   },
   {
    "duration": 25,
    "start_time": "2023-04-30T10:53:23.184Z"
   },
   {
    "duration": 60,
    "start_time": "2023-04-30T10:53:23.219Z"
   },
   {
    "duration": 10,
    "start_time": "2023-04-30T10:53:23.281Z"
   },
   {
    "duration": 10,
    "start_time": "2023-04-30T10:53:23.296Z"
   },
   {
    "duration": 9,
    "start_time": "2023-04-30T10:53:23.316Z"
   },
   {
    "duration": 22,
    "start_time": "2023-04-30T10:53:23.327Z"
   },
   {
    "duration": 7,
    "start_time": "2023-04-30T10:53:23.351Z"
   },
   {
    "duration": 7,
    "start_time": "2023-04-30T10:53:23.361Z"
   },
   {
    "duration": 8,
    "start_time": "2023-04-30T10:53:23.371Z"
   },
   {
    "duration": 9,
    "start_time": "2023-04-30T10:53:23.380Z"
   },
   {
    "duration": 37,
    "start_time": "2023-04-30T10:53:23.390Z"
   },
   {
    "duration": 12,
    "start_time": "2023-04-30T10:53:23.429Z"
   },
   {
    "duration": 26,
    "start_time": "2023-04-30T10:53:23.444Z"
   },
   {
    "duration": 43,
    "start_time": "2023-04-30T10:53:23.471Z"
   },
   {
    "duration": 34,
    "start_time": "2023-04-30T10:53:23.521Z"
   },
   {
    "duration": 16,
    "start_time": "2023-04-30T10:53:23.557Z"
   },
   {
    "duration": 4,
    "start_time": "2023-04-30T10:53:23.574Z"
   },
   {
    "duration": 8,
    "start_time": "2023-04-30T10:53:23.580Z"
   },
   {
    "duration": 58,
    "start_time": "2023-04-30T10:53:23.590Z"
   },
   {
    "duration": 7,
    "start_time": "2023-04-30T10:53:23.654Z"
   },
   {
    "duration": 14,
    "start_time": "2023-04-30T10:53:23.664Z"
   },
   {
    "duration": 20,
    "start_time": "2023-04-30T10:53:23.680Z"
   },
   {
    "duration": 215,
    "start_time": "2023-04-30T10:53:23.702Z"
   },
   {
    "duration": 8,
    "start_time": "2023-04-30T10:53:23.919Z"
   },
   {
    "duration": 15,
    "start_time": "2023-04-30T10:53:23.928Z"
   },
   {
    "duration": 229,
    "start_time": "2023-04-30T10:53:23.945Z"
   },
   {
    "duration": 5,
    "start_time": "2023-04-30T10:53:24.175Z"
   },
   {
    "duration": 198,
    "start_time": "2023-04-30T10:53:24.181Z"
   },
   {
    "duration": 35,
    "start_time": "2023-04-30T10:54:03.625Z"
   },
   {
    "duration": 251,
    "start_time": "2023-04-30T10:54:04.688Z"
   },
   {
    "duration": 26,
    "start_time": "2023-04-30T10:54:25.822Z"
   },
   {
    "duration": 10,
    "start_time": "2023-04-30T10:54:33.118Z"
   },
   {
    "duration": 181,
    "start_time": "2023-04-30T10:54:38.142Z"
   },
   {
    "duration": 25,
    "start_time": "2023-04-30T10:54:38.333Z"
   },
   {
    "duration": 14,
    "start_time": "2023-04-30T10:54:38.361Z"
   },
   {
    "duration": 28,
    "start_time": "2023-04-30T10:54:38.377Z"
   },
   {
    "duration": 22,
    "start_time": "2023-04-30T10:54:38.411Z"
   },
   {
    "duration": 15,
    "start_time": "2023-04-30T10:54:38.439Z"
   },
   {
    "duration": 37,
    "start_time": "2023-04-30T10:54:38.459Z"
   },
   {
    "duration": 11,
    "start_time": "2023-04-30T10:54:38.498Z"
   },
   {
    "duration": 10,
    "start_time": "2023-04-30T10:54:38.511Z"
   },
   {
    "duration": 30,
    "start_time": "2023-04-30T10:54:38.524Z"
   },
   {
    "duration": 24,
    "start_time": "2023-04-30T10:54:38.557Z"
   },
   {
    "duration": 5,
    "start_time": "2023-04-30T10:54:38.583Z"
   },
   {
    "duration": 18,
    "start_time": "2023-04-30T10:54:38.591Z"
   },
   {
    "duration": 9,
    "start_time": "2023-04-30T10:54:38.611Z"
   },
   {
    "duration": 15,
    "start_time": "2023-04-30T10:54:38.632Z"
   },
   {
    "duration": 16,
    "start_time": "2023-04-30T10:54:38.652Z"
   },
   {
    "duration": 5,
    "start_time": "2023-04-30T10:54:38.671Z"
   },
   {
    "duration": 33,
    "start_time": "2023-04-30T10:54:38.678Z"
   },
   {
    "duration": 37,
    "start_time": "2023-04-30T10:54:38.712Z"
   },
   {
    "duration": 24,
    "start_time": "2023-04-30T10:54:38.756Z"
   },
   {
    "duration": 44,
    "start_time": "2023-04-30T10:54:38.781Z"
   },
   {
    "duration": 6,
    "start_time": "2023-04-30T10:54:38.826Z"
   },
   {
    "duration": 14,
    "start_time": "2023-04-30T10:54:38.834Z"
   },
   {
    "duration": 25,
    "start_time": "2023-04-30T10:54:38.849Z"
   },
   {
    "duration": 5,
    "start_time": "2023-04-30T10:54:38.876Z"
   },
   {
    "duration": 28,
    "start_time": "2023-04-30T10:54:38.883Z"
   },
   {
    "duration": 17,
    "start_time": "2023-04-30T10:54:38.913Z"
   },
   {
    "duration": 215,
    "start_time": "2023-04-30T10:54:38.934Z"
   },
   {
    "duration": 6,
    "start_time": "2023-04-30T10:54:39.151Z"
   },
   {
    "duration": 22,
    "start_time": "2023-04-30T10:54:39.159Z"
   },
   {
    "duration": 199,
    "start_time": "2023-04-30T10:54:39.183Z"
   },
   {
    "duration": 5,
    "start_time": "2023-04-30T10:54:39.383Z"
   },
   {
    "duration": 192,
    "start_time": "2023-04-30T10:54:39.394Z"
   },
   {
    "duration": 6,
    "start_time": "2023-04-30T10:54:56.931Z"
   },
   {
    "duration": 9,
    "start_time": "2023-04-30T10:55:09.745Z"
   },
   {
    "duration": 191,
    "start_time": "2023-04-30T10:55:14.685Z"
   },
   {
    "duration": 22,
    "start_time": "2023-04-30T10:55:14.878Z"
   },
   {
    "duration": 29,
    "start_time": "2023-04-30T10:55:14.906Z"
   },
   {
    "duration": 34,
    "start_time": "2023-04-30T10:55:14.944Z"
   },
   {
    "duration": 33,
    "start_time": "2023-04-30T10:55:14.980Z"
   },
   {
    "duration": 30,
    "start_time": "2023-04-30T10:55:15.022Z"
   },
   {
    "duration": 22,
    "start_time": "2023-04-30T10:55:15.060Z"
   },
   {
    "duration": 39,
    "start_time": "2023-04-30T10:55:15.084Z"
   },
   {
    "duration": 7,
    "start_time": "2023-04-30T10:55:15.124Z"
   },
   {
    "duration": 15,
    "start_time": "2023-04-30T10:55:15.133Z"
   },
   {
    "duration": 24,
    "start_time": "2023-04-30T10:55:15.150Z"
   },
   {
    "duration": 7,
    "start_time": "2023-04-30T10:55:15.176Z"
   },
   {
    "duration": 15,
    "start_time": "2023-04-30T10:55:15.185Z"
   },
   {
    "duration": 30,
    "start_time": "2023-04-30T10:55:15.203Z"
   },
   {
    "duration": 36,
    "start_time": "2023-04-30T10:55:15.237Z"
   },
   {
    "duration": 12,
    "start_time": "2023-04-30T10:55:15.275Z"
   },
   {
    "duration": 9,
    "start_time": "2023-04-30T10:55:15.290Z"
   },
   {
    "duration": 38,
    "start_time": "2023-04-30T10:55:15.302Z"
   },
   {
    "duration": 42,
    "start_time": "2023-04-30T10:55:15.345Z"
   },
   {
    "duration": 54,
    "start_time": "2023-04-30T10:55:15.389Z"
   },
   {
    "duration": 32,
    "start_time": "2023-04-30T10:55:15.444Z"
   },
   {
    "duration": 7,
    "start_time": "2023-04-30T10:55:15.478Z"
   },
   {
    "duration": 21,
    "start_time": "2023-04-30T10:55:15.486Z"
   },
   {
    "duration": 43,
    "start_time": "2023-04-30T10:55:15.509Z"
   },
   {
    "duration": 10,
    "start_time": "2023-04-30T10:55:15.554Z"
   },
   {
    "duration": 15,
    "start_time": "2023-04-30T10:55:15.568Z"
   },
   {
    "duration": 5,
    "start_time": "2023-04-30T10:55:15.585Z"
   },
   {
    "duration": 243,
    "start_time": "2023-04-30T10:55:15.592Z"
   },
   {
    "duration": 10,
    "start_time": "2023-04-30T10:55:15.840Z"
   },
   {
    "duration": 20,
    "start_time": "2023-04-30T10:55:15.854Z"
   },
   {
    "duration": 203,
    "start_time": "2023-04-30T10:55:15.876Z"
   },
   {
    "duration": 184,
    "start_time": "2023-04-30T10:55:16.949Z"
   },
   {
    "duration": 5,
    "start_time": "2023-04-30T10:55:17.982Z"
   },
   {
    "duration": 10,
    "start_time": "2023-04-30T10:55:36.458Z"
   },
   {
    "duration": 8,
    "start_time": "2023-04-30T10:56:19.528Z"
   },
   {
    "duration": 192,
    "start_time": "2023-04-30T10:56:25.282Z"
   },
   {
    "duration": 32,
    "start_time": "2023-04-30T10:56:25.477Z"
   },
   {
    "duration": 24,
    "start_time": "2023-04-30T10:56:25.520Z"
   },
   {
    "duration": 25,
    "start_time": "2023-04-30T10:56:25.550Z"
   },
   {
    "duration": 90,
    "start_time": "2023-04-30T10:56:25.577Z"
   },
   {
    "duration": 10,
    "start_time": "2023-04-30T10:56:25.669Z"
   },
   {
    "duration": 48,
    "start_time": "2023-04-30T10:56:25.681Z"
   },
   {
    "duration": 12,
    "start_time": "2023-04-30T10:56:25.731Z"
   },
   {
    "duration": 3,
    "start_time": "2023-04-30T10:56:25.745Z"
   },
   {
    "duration": 6,
    "start_time": "2023-04-30T10:56:25.749Z"
   },
   {
    "duration": 17,
    "start_time": "2023-04-30T10:56:25.756Z"
   },
   {
    "duration": 13,
    "start_time": "2023-04-30T10:56:25.775Z"
   },
   {
    "duration": 10,
    "start_time": "2023-04-30T10:56:25.790Z"
   },
   {
    "duration": 15,
    "start_time": "2023-04-30T10:56:25.803Z"
   },
   {
    "duration": 26,
    "start_time": "2023-04-30T10:56:25.823Z"
   },
   {
    "duration": 9,
    "start_time": "2023-04-30T10:56:25.850Z"
   },
   {
    "duration": 5,
    "start_time": "2023-04-30T10:56:25.861Z"
   },
   {
    "duration": 23,
    "start_time": "2023-04-30T10:56:25.867Z"
   },
   {
    "duration": 34,
    "start_time": "2023-04-30T10:56:25.892Z"
   },
   {
    "duration": 28,
    "start_time": "2023-04-30T10:56:25.927Z"
   },
   {
    "duration": 15,
    "start_time": "2023-04-30T10:56:25.957Z"
   },
   {
    "duration": 37,
    "start_time": "2023-04-30T10:56:25.973Z"
   },
   {
    "duration": 23,
    "start_time": "2023-04-30T10:56:26.012Z"
   },
   {
    "duration": 22,
    "start_time": "2023-04-30T10:56:26.037Z"
   },
   {
    "duration": 6,
    "start_time": "2023-04-30T10:56:26.061Z"
   },
   {
    "duration": 16,
    "start_time": "2023-04-30T10:56:26.069Z"
   },
   {
    "duration": 4,
    "start_time": "2023-04-30T10:56:26.087Z"
   },
   {
    "duration": 197,
    "start_time": "2023-04-30T10:56:26.095Z"
   },
   {
    "duration": 9,
    "start_time": "2023-04-30T10:56:26.302Z"
   },
   {
    "duration": 21,
    "start_time": "2023-04-30T10:56:26.313Z"
   },
   {
    "duration": 186,
    "start_time": "2023-04-30T10:56:26.336Z"
   },
   {
    "duration": 4,
    "start_time": "2023-04-30T10:56:26.524Z"
   },
   {
    "duration": 6,
    "start_time": "2023-04-30T10:56:27.731Z"
   },
   {
    "duration": 176,
    "start_time": "2023-04-30T10:57:31.031Z"
   },
   {
    "duration": 146,
    "start_time": "2023-04-30T10:57:44.527Z"
   },
   {
    "duration": 186,
    "start_time": "2023-04-30T10:57:47.257Z"
   },
   {
    "duration": 1003,
    "start_time": "2023-04-30T13:19:11.454Z"
   },
   {
    "duration": 17,
    "start_time": "2023-04-30T13:19:12.459Z"
   },
   {
    "duration": 16,
    "start_time": "2023-04-30T13:19:14.264Z"
   },
   {
    "duration": 29,
    "start_time": "2023-04-30T13:19:15.387Z"
   },
   {
    "duration": 19,
    "start_time": "2023-04-30T13:19:16.419Z"
   },
   {
    "duration": 9,
    "start_time": "2023-04-30T13:19:17.218Z"
   },
   {
    "duration": 22,
    "start_time": "2023-04-30T13:19:18.017Z"
   },
   {
    "duration": 9,
    "start_time": "2023-04-30T13:19:19.125Z"
   },
   {
    "duration": 3,
    "start_time": "2023-04-30T13:19:20.006Z"
   },
   {
    "duration": 5,
    "start_time": "2023-04-30T13:19:20.344Z"
   },
   {
    "duration": 134,
    "start_time": "2023-04-30T14:15:24.786Z"
   },
   {
    "duration": 16,
    "start_time": "2023-04-30T14:15:24.922Z"
   },
   {
    "duration": 14,
    "start_time": "2023-04-30T14:15:24.940Z"
   },
   {
    "duration": 27,
    "start_time": "2023-04-30T14:15:24.955Z"
   },
   {
    "duration": 21,
    "start_time": "2023-04-30T14:15:24.984Z"
   },
   {
    "duration": 9,
    "start_time": "2023-04-30T14:15:25.006Z"
   },
   {
    "duration": 24,
    "start_time": "2023-04-30T14:15:25.017Z"
   },
   {
    "duration": 8,
    "start_time": "2023-04-30T14:15:25.042Z"
   },
   {
    "duration": 2,
    "start_time": "2023-04-30T14:15:25.052Z"
   },
   {
    "duration": 5,
    "start_time": "2023-04-30T14:15:25.056Z"
   },
   {
    "duration": 44,
    "start_time": "2023-04-30T14:15:25.062Z"
   },
   {
    "duration": 7,
    "start_time": "2023-04-30T14:15:25.107Z"
   },
   {
    "duration": 10,
    "start_time": "2023-04-30T14:15:25.115Z"
   },
   {
    "duration": 10,
    "start_time": "2023-04-30T14:15:25.127Z"
   },
   {
    "duration": 23,
    "start_time": "2023-04-30T14:15:25.139Z"
   },
   {
    "duration": 39,
    "start_time": "2023-04-30T14:15:25.164Z"
   },
   {
    "duration": 4,
    "start_time": "2023-04-30T14:15:25.204Z"
   },
   {
    "duration": 29,
    "start_time": "2023-04-30T14:15:25.210Z"
   },
   {
    "duration": 22,
    "start_time": "2023-04-30T14:15:25.240Z"
   },
   {
    "duration": 20,
    "start_time": "2023-04-30T14:15:25.264Z"
   },
   {
    "duration": 16,
    "start_time": "2023-04-30T14:15:25.292Z"
   },
   {
    "duration": 5,
    "start_time": "2023-04-30T14:15:25.309Z"
   },
   {
    "duration": 7,
    "start_time": "2023-04-30T14:15:25.316Z"
   },
   {
    "duration": 18,
    "start_time": "2023-04-30T14:15:25.324Z"
   },
   {
    "duration": 9,
    "start_time": "2023-04-30T14:15:25.343Z"
   },
   {
    "duration": 40,
    "start_time": "2023-04-30T14:15:25.353Z"
   },
   {
    "duration": 4,
    "start_time": "2023-04-30T14:15:25.395Z"
   },
   {
    "duration": 179,
    "start_time": "2023-04-30T14:15:25.400Z"
   },
   {
    "duration": 14,
    "start_time": "2023-04-30T14:15:25.581Z"
   },
   {
    "duration": 11,
    "start_time": "2023-04-30T14:15:25.596Z"
   },
   {
    "duration": 483,
    "start_time": "2023-04-30T14:15:25.609Z"
   },
   {
    "duration": 4,
    "start_time": "2023-04-30T14:15:26.093Z"
   },
   {
    "duration": 153,
    "start_time": "2023-04-30T14:15:26.099Z"
   },
   {
    "duration": 202,
    "start_time": "2023-04-30T14:15:28.640Z"
   },
   {
    "duration": 69,
    "start_time": "2023-04-30T14:16:59.423Z"
   },
   {
    "duration": 20,
    "start_time": "2023-04-30T14:17:09.048Z"
   },
   {
    "duration": 172,
    "start_time": "2023-04-30T14:22:08.131Z"
   },
   {
    "duration": 19,
    "start_time": "2023-04-30T14:22:25.218Z"
   },
   {
    "duration": 166,
    "start_time": "2023-04-30T14:22:31.819Z"
   },
   {
    "duration": 12,
    "start_time": "2023-04-30T14:42:35.230Z"
   },
   {
    "duration": 20,
    "start_time": "2023-04-30T14:43:05.420Z"
   },
   {
    "duration": 15,
    "start_time": "2023-04-30T14:43:29.722Z"
   },
   {
    "duration": 15,
    "start_time": "2023-04-30T14:43:45.672Z"
   },
   {
    "duration": 167,
    "start_time": "2023-04-30T14:43:50.515Z"
   },
   {
    "duration": 156,
    "start_time": "2023-04-30T14:44:05.233Z"
   },
   {
    "duration": 284,
    "start_time": "2023-04-30T14:44:24.849Z"
   },
   {
    "duration": 15,
    "start_time": "2023-04-30T14:44:39.351Z"
   },
   {
    "duration": 18,
    "start_time": "2023-04-30T14:44:47.525Z"
   },
   {
    "duration": 8,
    "start_time": "2023-04-30T14:44:49.919Z"
   },
   {
    "duration": 13,
    "start_time": "2023-04-30T14:45:04.419Z"
   },
   {
    "duration": 225,
    "start_time": "2023-04-30T14:45:22.884Z"
   },
   {
    "duration": 278,
    "start_time": "2023-04-30T14:45:39.822Z"
   },
   {
    "duration": 168,
    "start_time": "2023-04-30T14:46:03.938Z"
   },
   {
    "duration": 4,
    "start_time": "2023-04-30T14:46:59.849Z"
   },
   {
    "duration": 238,
    "start_time": "2023-04-30T14:47:03.018Z"
   },
   {
    "duration": 248,
    "start_time": "2023-04-30T14:47:10.714Z"
   },
   {
    "duration": 330,
    "start_time": "2023-04-30T14:47:16.038Z"
   },
   {
    "duration": 997,
    "start_time": "2023-05-01T07:19:33.926Z"
   },
   {
    "duration": 37,
    "start_time": "2023-05-01T07:19:34.926Z"
   },
   {
    "duration": 58,
    "start_time": "2023-05-01T07:19:34.966Z"
   },
   {
    "duration": 103,
    "start_time": "2023-05-01T07:19:35.027Z"
   },
   {
    "duration": 30,
    "start_time": "2023-05-01T07:19:35.133Z"
   },
   {
    "duration": 34,
    "start_time": "2023-05-01T07:19:35.166Z"
   },
   {
    "duration": 126,
    "start_time": "2023-05-01T07:19:35.203Z"
   },
   {
    "duration": 83,
    "start_time": "2023-05-01T07:19:35.331Z"
   },
   {
    "duration": 68,
    "start_time": "2023-05-01T07:19:35.417Z"
   },
   {
    "duration": 33,
    "start_time": "2023-05-01T07:19:35.490Z"
   },
   {
    "duration": 96,
    "start_time": "2023-05-01T07:19:35.525Z"
   },
   {
    "duration": 58,
    "start_time": "2023-05-01T07:19:35.624Z"
   },
   {
    "duration": 31,
    "start_time": "2023-05-01T07:19:35.684Z"
   },
   {
    "duration": 16,
    "start_time": "2023-05-01T07:19:35.718Z"
   },
   {
    "duration": 205,
    "start_time": "2023-05-01T07:19:35.736Z"
   },
   {
    "duration": 153,
    "start_time": "2023-05-01T07:19:35.943Z"
   },
   {
    "duration": 77,
    "start_time": "2023-05-01T07:19:36.099Z"
   },
   {
    "duration": 78,
    "start_time": "2023-05-01T07:19:36.187Z"
   },
   {
    "duration": 92,
    "start_time": "2023-05-01T07:19:36.267Z"
   },
   {
    "duration": 75,
    "start_time": "2023-05-01T07:19:36.362Z"
   },
   {
    "duration": 99,
    "start_time": "2023-05-01T07:19:36.444Z"
   },
   {
    "duration": 63,
    "start_time": "2023-05-01T07:19:36.546Z"
   },
   {
    "duration": 17,
    "start_time": "2023-05-01T07:19:36.611Z"
   },
   {
    "duration": 83,
    "start_time": "2023-05-01T07:19:36.631Z"
   },
   {
    "duration": 10,
    "start_time": "2023-05-01T07:19:36.718Z"
   },
   {
    "duration": 68,
    "start_time": "2023-05-01T07:19:36.731Z"
   },
   {
    "duration": 19,
    "start_time": "2023-05-01T07:19:36.802Z"
   },
   {
    "duration": 393,
    "start_time": "2023-05-01T07:19:36.827Z"
   },
   {
    "duration": 20,
    "start_time": "2023-05-01T07:19:37.229Z"
   },
   {
    "duration": 66,
    "start_time": "2023-05-01T07:19:37.273Z"
   },
   {
    "duration": 1084,
    "start_time": "2023-05-01T07:19:37.342Z"
   },
   {
    "duration": 14,
    "start_time": "2023-05-01T07:19:38.429Z"
   },
   {
    "duration": 277,
    "start_time": "2023-05-01T07:19:38.445Z"
   },
   {
    "duration": 48,
    "start_time": "2023-05-01T07:19:38.724Z"
   },
   {
    "duration": 343,
    "start_time": "2023-05-01T07:19:38.775Z"
   },
   {
    "duration": 428,
    "start_time": "2023-05-01T07:19:39.120Z"
   },
   {
    "duration": 102,
    "start_time": "2023-05-01T07:21:31.328Z"
   },
   {
    "duration": 21,
    "start_time": "2023-05-01T07:21:38.898Z"
   },
   {
    "duration": 31,
    "start_time": "2023-05-01T07:22:00.360Z"
   },
   {
    "duration": 31,
    "start_time": "2023-05-01T07:22:08.431Z"
   },
   {
    "duration": 23,
    "start_time": "2023-05-01T07:22:12.902Z"
   },
   {
    "duration": 21,
    "start_time": "2023-05-01T07:22:19.196Z"
   },
   {
    "duration": 19,
    "start_time": "2023-05-01T07:22:24.961Z"
   },
   {
    "duration": 18,
    "start_time": "2023-05-01T07:22:29.612Z"
   },
   {
    "duration": 20,
    "start_time": "2023-05-01T07:22:54.800Z"
   },
   {
    "duration": 239,
    "start_time": "2023-05-01T07:23:26.480Z"
   },
   {
    "duration": 20,
    "start_time": "2023-05-01T07:27:56.715Z"
   },
   {
    "duration": 223,
    "start_time": "2023-05-01T07:28:05.241Z"
   },
   {
    "duration": 13,
    "start_time": "2023-05-01T07:29:43.124Z"
   },
   {
    "duration": 257,
    "start_time": "2023-05-01T07:29:46.322Z"
   },
   {
    "duration": 196,
    "start_time": "2023-05-01T07:31:20.873Z"
   },
   {
    "duration": 191,
    "start_time": "2023-05-01T07:31:43.891Z"
   },
   {
    "duration": 196,
    "start_time": "2023-05-01T07:32:38.602Z"
   },
   {
    "duration": 229,
    "start_time": "2023-05-01T07:33:23.166Z"
   },
   {
    "duration": 24,
    "start_time": "2023-05-01T07:43:30.979Z"
   },
   {
    "duration": 180,
    "start_time": "2023-05-01T07:43:39.810Z"
   },
   {
    "duration": 188,
    "start_time": "2023-05-01T07:43:54.669Z"
   },
   {
    "duration": 503,
    "start_time": "2023-05-01T07:44:02.506Z"
   },
   {
    "duration": 326,
    "start_time": "2023-05-01T07:44:53.683Z"
   },
   {
    "duration": 366,
    "start_time": "2023-05-01T07:46:34.815Z"
   },
   {
    "duration": 366,
    "start_time": "2023-05-01T07:46:48.099Z"
   },
   {
    "duration": 320,
    "start_time": "2023-05-01T07:48:17.998Z"
   },
   {
    "duration": 199,
    "start_time": "2023-05-01T07:48:29.666Z"
   },
   {
    "duration": 24,
    "start_time": "2023-05-01T07:48:29.876Z"
   },
   {
    "duration": 24,
    "start_time": "2023-05-01T07:48:29.902Z"
   },
   {
    "duration": 41,
    "start_time": "2023-05-01T07:48:29.928Z"
   },
   {
    "duration": 32,
    "start_time": "2023-05-01T07:48:29.974Z"
   },
   {
    "duration": 31,
    "start_time": "2023-05-01T07:48:30.008Z"
   },
   {
    "duration": 90,
    "start_time": "2023-05-01T07:48:30.049Z"
   },
   {
    "duration": 77,
    "start_time": "2023-05-01T07:48:30.140Z"
   },
   {
    "duration": 58,
    "start_time": "2023-05-01T07:48:30.219Z"
   },
   {
    "duration": 57,
    "start_time": "2023-05-01T07:48:30.279Z"
   },
   {
    "duration": 82,
    "start_time": "2023-05-01T07:48:30.338Z"
   },
   {
    "duration": 80,
    "start_time": "2023-05-01T07:48:30.423Z"
   },
   {
    "duration": 23,
    "start_time": "2023-05-01T07:48:30.505Z"
   },
   {
    "duration": 81,
    "start_time": "2023-05-01T07:48:30.532Z"
   },
   {
    "duration": 83,
    "start_time": "2023-05-01T07:48:30.616Z"
   },
   {
    "duration": 103,
    "start_time": "2023-05-01T07:48:30.701Z"
   },
   {
    "duration": 103,
    "start_time": "2023-05-01T07:48:30.806Z"
   },
   {
    "duration": 185,
    "start_time": "2023-05-01T07:48:30.911Z"
   },
   {
    "duration": 131,
    "start_time": "2023-05-01T07:48:31.098Z"
   },
   {
    "duration": 65,
    "start_time": "2023-05-01T07:48:31.231Z"
   },
   {
    "duration": 87,
    "start_time": "2023-05-01T07:48:31.298Z"
   },
   {
    "duration": 24,
    "start_time": "2023-05-01T07:48:31.388Z"
   },
   {
    "duration": 99,
    "start_time": "2023-05-01T07:48:31.414Z"
   },
   {
    "duration": 96,
    "start_time": "2023-05-01T07:48:31.515Z"
   },
   {
    "duration": 64,
    "start_time": "2023-05-01T07:48:31.613Z"
   },
   {
    "duration": 43,
    "start_time": "2023-05-01T07:48:31.680Z"
   },
   {
    "duration": 70,
    "start_time": "2023-05-01T07:48:31.725Z"
   },
   {
    "duration": 279,
    "start_time": "2023-05-01T07:48:31.797Z"
   },
   {
    "duration": 9,
    "start_time": "2023-05-01T07:48:32.086Z"
   },
   {
    "duration": 107,
    "start_time": "2023-05-01T07:48:32.097Z"
   },
   {
    "duration": 207,
    "start_time": "2023-05-01T07:48:32.206Z"
   },
   {
    "duration": 6,
    "start_time": "2023-05-01T07:48:32.415Z"
   },
   {
    "duration": 231,
    "start_time": "2023-05-01T07:48:32.423Z"
   },
   {
    "duration": 44,
    "start_time": "2023-05-01T07:48:32.656Z"
   },
   {
    "duration": 281,
    "start_time": "2023-05-01T07:48:32.702Z"
   },
   {
    "duration": 465,
    "start_time": "2023-05-01T07:48:32.985Z"
   },
   {
    "duration": 195,
    "start_time": "2023-05-01T07:48:33.452Z"
   },
   {
    "duration": 397,
    "start_time": "2023-05-01T07:48:33.652Z"
   },
   {
    "duration": 328,
    "start_time": "2023-05-01T07:48:35.487Z"
   },
   {
    "duration": 358,
    "start_time": "2023-05-01T07:48:57.470Z"
   },
   {
    "duration": 182,
    "start_time": "2023-05-01T07:49:08.074Z"
   },
   {
    "duration": 34,
    "start_time": "2023-05-01T07:49:08.258Z"
   },
   {
    "duration": 23,
    "start_time": "2023-05-01T07:49:08.297Z"
   },
   {
    "duration": 104,
    "start_time": "2023-05-01T07:49:08.322Z"
   },
   {
    "duration": 82,
    "start_time": "2023-05-01T07:49:08.429Z"
   },
   {
    "duration": 34,
    "start_time": "2023-05-01T07:49:08.513Z"
   },
   {
    "duration": 79,
    "start_time": "2023-05-01T07:49:08.550Z"
   },
   {
    "duration": 32,
    "start_time": "2023-05-01T07:49:08.631Z"
   },
   {
    "duration": 41,
    "start_time": "2023-05-01T07:49:08.665Z"
   },
   {
    "duration": 24,
    "start_time": "2023-05-01T07:49:08.709Z"
   },
   {
    "duration": 74,
    "start_time": "2023-05-01T07:49:08.735Z"
   },
   {
    "duration": 18,
    "start_time": "2023-05-01T07:49:08.810Z"
   },
   {
    "duration": 87,
    "start_time": "2023-05-01T07:49:08.830Z"
   },
   {
    "duration": 41,
    "start_time": "2023-05-01T07:49:08.921Z"
   },
   {
    "duration": 49,
    "start_time": "2023-05-01T07:49:08.970Z"
   },
   {
    "duration": 18,
    "start_time": "2023-05-01T07:49:09.021Z"
   },
   {
    "duration": 41,
    "start_time": "2023-05-01T07:49:09.043Z"
   },
   {
    "duration": 52,
    "start_time": "2023-05-01T07:49:09.097Z"
   },
   {
    "duration": 44,
    "start_time": "2023-05-01T07:49:09.151Z"
   },
   {
    "duration": 39,
    "start_time": "2023-05-01T07:49:09.198Z"
   },
   {
    "duration": 79,
    "start_time": "2023-05-01T07:49:09.240Z"
   },
   {
    "duration": 19,
    "start_time": "2023-05-01T07:49:09.321Z"
   },
   {
    "duration": 78,
    "start_time": "2023-05-01T07:49:09.342Z"
   },
   {
    "duration": 97,
    "start_time": "2023-05-01T07:49:09.422Z"
   },
   {
    "duration": 18,
    "start_time": "2023-05-01T07:49:09.521Z"
   },
   {
    "duration": 77,
    "start_time": "2023-05-01T07:49:09.541Z"
   },
   {
    "duration": 17,
    "start_time": "2023-05-01T07:49:09.620Z"
   },
   {
    "duration": 263,
    "start_time": "2023-05-01T07:49:09.639Z"
   },
   {
    "duration": 7,
    "start_time": "2023-05-01T07:49:09.904Z"
   },
   {
    "duration": 31,
    "start_time": "2023-05-01T07:49:09.913Z"
   },
   {
    "duration": 250,
    "start_time": "2023-05-01T07:49:09.951Z"
   },
   {
    "duration": 5,
    "start_time": "2023-05-01T07:49:10.203Z"
   },
   {
    "duration": 209,
    "start_time": "2023-05-01T07:49:10.210Z"
   },
   {
    "duration": 47,
    "start_time": "2023-05-01T07:49:10.422Z"
   },
   {
    "duration": 257,
    "start_time": "2023-05-01T07:49:10.478Z"
   },
   {
    "duration": 349,
    "start_time": "2023-05-01T07:49:10.746Z"
   },
   {
    "duration": 329,
    "start_time": "2023-05-01T07:49:11.098Z"
   },
   {
    "duration": 392,
    "start_time": "2023-05-01T07:49:11.430Z"
   },
   {
    "duration": 337,
    "start_time": "2023-05-01T07:49:12.992Z"
   },
   {
    "duration": 374,
    "start_time": "2023-05-01T07:49:28.473Z"
   },
   {
    "duration": 45,
    "start_time": "2023-05-01T13:32:11.265Z"
   },
   {
    "duration": 682,
    "start_time": "2023-05-01T13:32:19.148Z"
   },
   {
    "duration": 14,
    "start_time": "2023-05-01T13:32:19.831Z"
   },
   {
    "duration": 23,
    "start_time": "2023-05-01T13:32:19.847Z"
   },
   {
    "duration": 35,
    "start_time": "2023-05-01T13:32:19.872Z"
   },
   {
    "duration": 14,
    "start_time": "2023-05-01T13:32:19.909Z"
   },
   {
    "duration": 10,
    "start_time": "2023-05-01T13:32:19.924Z"
   },
   {
    "duration": 24,
    "start_time": "2023-05-01T13:32:19.935Z"
   },
   {
    "duration": 18,
    "start_time": "2023-05-01T13:32:19.960Z"
   },
   {
    "duration": 8,
    "start_time": "2023-05-01T13:32:19.979Z"
   },
   {
    "duration": 15,
    "start_time": "2023-05-01T13:32:19.990Z"
   },
   {
    "duration": 23,
    "start_time": "2023-05-01T13:32:20.006Z"
   },
   {
    "duration": 26,
    "start_time": "2023-05-01T13:32:20.031Z"
   },
   {
    "duration": 11,
    "start_time": "2023-05-01T13:32:20.059Z"
   },
   {
    "duration": 25,
    "start_time": "2023-05-01T13:32:20.071Z"
   },
   {
    "duration": 12,
    "start_time": "2023-05-01T13:32:20.098Z"
   },
   {
    "duration": 10,
    "start_time": "2023-05-01T13:32:20.111Z"
   },
   {
    "duration": 26,
    "start_time": "2023-05-01T13:32:20.122Z"
   },
   {
    "duration": 28,
    "start_time": "2023-05-01T13:32:20.150Z"
   },
   {
    "duration": 20,
    "start_time": "2023-05-01T13:32:20.180Z"
   },
   {
    "duration": 19,
    "start_time": "2023-05-01T13:32:20.202Z"
   },
   {
    "duration": 25,
    "start_time": "2023-05-01T13:32:20.222Z"
   },
   {
    "duration": 5,
    "start_time": "2023-05-01T13:32:20.249Z"
   },
   {
    "duration": 16,
    "start_time": "2023-05-01T13:32:20.255Z"
   },
   {
    "duration": 27,
    "start_time": "2023-05-01T13:32:20.272Z"
   },
   {
    "duration": 7,
    "start_time": "2023-05-01T13:32:20.301Z"
   },
   {
    "duration": 17,
    "start_time": "2023-05-01T13:32:20.309Z"
   },
   {
    "duration": 9,
    "start_time": "2023-05-01T13:32:20.328Z"
   },
   {
    "duration": 171,
    "start_time": "2023-05-01T13:32:20.341Z"
   },
   {
    "duration": 5,
    "start_time": "2023-05-01T13:32:20.514Z"
   },
   {
    "duration": 22,
    "start_time": "2023-05-01T13:32:20.521Z"
   },
   {
    "duration": 486,
    "start_time": "2023-05-01T13:32:20.544Z"
   },
   {
    "duration": 4,
    "start_time": "2023-05-01T13:32:21.034Z"
   },
   {
    "duration": 148,
    "start_time": "2023-05-01T13:32:21.039Z"
   },
   {
    "duration": 19,
    "start_time": "2023-05-01T13:32:21.188Z"
   },
   {
    "duration": 204,
    "start_time": "2023-05-01T13:32:21.209Z"
   },
   {
    "duration": 269,
    "start_time": "2023-05-01T13:32:21.416Z"
   },
   {
    "duration": 118,
    "start_time": "2023-05-01T13:32:21.687Z"
   },
   {
    "duration": 263,
    "start_time": "2023-05-01T13:32:21.807Z"
   },
   {
    "duration": 89,
    "start_time": "2023-05-01T13:32:22.072Z"
   },
   {
    "duration": 225,
    "start_time": "2023-05-01T13:32:37.898Z"
   },
   {
    "duration": 214,
    "start_time": "2023-05-01T13:32:48.443Z"
   },
   {
    "duration": 124,
    "start_time": "2023-05-01T13:32:51.892Z"
   },
   {
    "duration": 117,
    "start_time": "2023-05-01T13:32:54.741Z"
   },
   {
    "duration": 209,
    "start_time": "2023-05-01T13:32:57.997Z"
   },
   {
    "duration": 221,
    "start_time": "2023-05-01T13:33:01.837Z"
   },
   {
    "duration": 216,
    "start_time": "2023-05-01T13:33:20.196Z"
   },
   {
    "duration": 9,
    "start_time": "2023-05-01T13:33:24.822Z"
   },
   {
    "duration": 3,
    "start_time": "2023-05-01T13:34:01.687Z"
   },
   {
    "duration": 97,
    "start_time": "2023-05-01T13:34:06.126Z"
   },
   {
    "duration": 211,
    "start_time": "2023-05-01T13:34:22.159Z"
   },
   {
    "duration": 242,
    "start_time": "2023-05-01T13:34:36.697Z"
   },
   {
    "duration": 303,
    "start_time": "2023-05-01T13:35:19.060Z"
   },
   {
    "duration": 240,
    "start_time": "2023-05-01T13:35:58.714Z"
   },
   {
    "duration": 23,
    "start_time": "2023-05-01T13:36:17.647Z"
   },
   {
    "duration": 256,
    "start_time": "2023-05-01T13:36:20.693Z"
   },
   {
    "duration": 265,
    "start_time": "2023-05-01T13:36:32.706Z"
   },
   {
    "duration": 234,
    "start_time": "2023-05-01T13:37:12.739Z"
   },
   {
    "duration": 263,
    "start_time": "2023-05-01T13:37:19.868Z"
   },
   {
    "duration": 445,
    "start_time": "2023-05-01T13:39:45.309Z"
   },
   {
    "duration": 280,
    "start_time": "2023-05-01T13:39:54.743Z"
   },
   {
    "duration": 13,
    "start_time": "2023-05-01T13:42:59.693Z"
   },
   {
    "duration": 325,
    "start_time": "2023-05-01T13:43:07.228Z"
   },
   {
    "duration": 34,
    "start_time": "2023-05-01T13:43:20.836Z"
   },
   {
    "duration": 251,
    "start_time": "2023-05-01T13:43:33.694Z"
   },
   {
    "duration": 253,
    "start_time": "2023-05-01T13:44:09.685Z"
   },
   {
    "duration": 240,
    "start_time": "2023-05-01T13:44:15.840Z"
   },
   {
    "duration": 231,
    "start_time": "2023-05-01T13:44:38.567Z"
   },
   {
    "duration": 16,
    "start_time": "2023-05-01T13:46:08.904Z"
   },
   {
    "duration": 7,
    "start_time": "2023-05-01T13:46:15.544Z"
   },
   {
    "duration": 13,
    "start_time": "2023-05-01T13:46:25.327Z"
   },
   {
    "duration": 75,
    "start_time": "2023-05-01T13:46:44.904Z"
   },
   {
    "duration": 19,
    "start_time": "2023-05-01T13:46:47.262Z"
   },
   {
    "duration": 760,
    "start_time": "2023-05-01T13:46:52.754Z"
   },
   {
    "duration": 691,
    "start_time": "2023-05-01T13:47:08.457Z"
   },
   {
    "duration": 186,
    "start_time": "2023-05-01T13:48:44.995Z"
   },
   {
    "duration": 178,
    "start_time": "2023-05-01T14:04:09.200Z"
   },
   {
    "duration": 13,
    "start_time": "2023-05-01T14:04:16.029Z"
   },
   {
    "duration": 175,
    "start_time": "2023-05-01T14:04:40.048Z"
   },
   {
    "duration": 530,
    "start_time": "2023-05-01T14:06:58.334Z"
   },
   {
    "duration": 14,
    "start_time": "2023-05-01T14:06:58.865Z"
   },
   {
    "duration": 13,
    "start_time": "2023-05-01T14:06:58.880Z"
   },
   {
    "duration": 24,
    "start_time": "2023-05-01T14:06:58.895Z"
   },
   {
    "duration": 15,
    "start_time": "2023-05-01T14:06:58.921Z"
   },
   {
    "duration": 9,
    "start_time": "2023-05-01T14:06:58.937Z"
   },
   {
    "duration": 28,
    "start_time": "2023-05-01T14:06:58.948Z"
   },
   {
    "duration": 8,
    "start_time": "2023-05-01T14:06:58.977Z"
   },
   {
    "duration": 5,
    "start_time": "2023-05-01T14:06:58.986Z"
   },
   {
    "duration": 9,
    "start_time": "2023-05-01T14:06:58.993Z"
   },
   {
    "duration": 15,
    "start_time": "2023-05-01T14:06:59.003Z"
   },
   {
    "duration": 18,
    "start_time": "2023-05-01T14:06:59.019Z"
   },
   {
    "duration": 8,
    "start_time": "2023-05-01T14:06:59.038Z"
   },
   {
    "duration": 12,
    "start_time": "2023-05-01T14:06:59.048Z"
   },
   {
    "duration": 8,
    "start_time": "2023-05-01T14:06:59.062Z"
   },
   {
    "duration": 10,
    "start_time": "2023-05-01T14:06:59.071Z"
   },
   {
    "duration": 4,
    "start_time": "2023-05-01T14:06:59.082Z"
   },
   {
    "duration": 21,
    "start_time": "2023-05-01T14:06:59.088Z"
   },
   {
    "duration": 43,
    "start_time": "2023-05-01T14:06:59.110Z"
   },
   {
    "duration": 18,
    "start_time": "2023-05-01T14:06:59.155Z"
   },
   {
    "duration": 24,
    "start_time": "2023-05-01T14:06:59.175Z"
   },
   {
    "duration": 20,
    "start_time": "2023-05-01T14:06:59.200Z"
   },
   {
    "duration": 7,
    "start_time": "2023-05-01T14:06:59.222Z"
   },
   {
    "duration": 19,
    "start_time": "2023-05-01T14:06:59.231Z"
   },
   {
    "duration": 6,
    "start_time": "2023-05-01T14:06:59.251Z"
   },
   {
    "duration": 11,
    "start_time": "2023-05-01T14:06:59.258Z"
   },
   {
    "duration": 5,
    "start_time": "2023-05-01T14:06:59.270Z"
   },
   {
    "duration": 178,
    "start_time": "2023-05-01T14:06:59.277Z"
   },
   {
    "duration": 7,
    "start_time": "2023-05-01T14:06:59.457Z"
   },
   {
    "duration": 23,
    "start_time": "2023-05-01T14:06:59.466Z"
   },
   {
    "duration": 360,
    "start_time": "2023-05-01T14:06:59.490Z"
   },
   {
    "duration": 3,
    "start_time": "2023-05-01T14:06:59.852Z"
   },
   {
    "duration": 142,
    "start_time": "2023-05-01T14:06:59.857Z"
   },
   {
    "duration": 20,
    "start_time": "2023-05-01T14:07:00.001Z"
   },
   {
    "duration": 161,
    "start_time": "2023-05-01T14:07:00.034Z"
   },
   {
    "duration": 321,
    "start_time": "2023-05-01T14:07:00.197Z"
   },
   {
    "duration": 122,
    "start_time": "2023-05-01T14:07:00.520Z"
   },
   {
    "duration": 280,
    "start_time": "2023-05-01T14:07:00.644Z"
   },
   {
    "duration": 279,
    "start_time": "2023-05-01T14:07:00.926Z"
   },
   {
    "duration": 186,
    "start_time": "2023-05-01T14:07:01.207Z"
   },
   {
    "duration": 46,
    "start_time": "2023-05-03T12:03:06.728Z"
   },
   {
    "duration": 718,
    "start_time": "2023-05-03T12:03:10.833Z"
   },
   {
    "duration": 15,
    "start_time": "2023-05-03T12:03:11.553Z"
   },
   {
    "duration": 11,
    "start_time": "2023-05-03T12:03:12.614Z"
   },
   {
    "duration": 27,
    "start_time": "2023-05-03T12:03:13.911Z"
   },
   {
    "duration": 25,
    "start_time": "2023-05-03T12:03:15.316Z"
   },
   {
    "duration": 7,
    "start_time": "2023-05-03T12:03:24.310Z"
   },
   {
    "duration": 4,
    "start_time": "2023-05-03T12:03:26.618Z"
   },
   {
    "duration": 7,
    "start_time": "2023-05-03T12:03:29.918Z"
   },
   {
    "duration": 4,
    "start_time": "2023-05-03T12:03:33.715Z"
   },
   {
    "duration": 3,
    "start_time": "2023-05-03T12:03:47.318Z"
   },
   {
    "duration": 34,
    "start_time": "2023-05-03T12:07:48.223Z"
   },
   {
    "duration": 537,
    "start_time": "2023-05-03T12:08:35.780Z"
   },
   {
    "duration": 13,
    "start_time": "2023-05-03T12:08:36.319Z"
   },
   {
    "duration": 19,
    "start_time": "2023-05-03T12:08:36.334Z"
   },
   {
    "duration": 33,
    "start_time": "2023-05-03T12:08:36.354Z"
   },
   {
    "duration": 4,
    "start_time": "2023-05-03T12:08:36.389Z"
   },
   {
    "duration": 14,
    "start_time": "2023-05-03T12:08:36.394Z"
   },
   {
    "duration": 8,
    "start_time": "2023-05-03T12:08:36.409Z"
   },
   {
    "duration": 23,
    "start_time": "2023-05-03T12:08:36.418Z"
   },
   {
    "duration": 7,
    "start_time": "2023-05-03T12:08:36.442Z"
   },
   {
    "duration": 2,
    "start_time": "2023-05-03T12:08:36.451Z"
   },
   {
    "duration": 4,
    "start_time": "2023-05-03T12:08:36.472Z"
   },
   {
    "duration": 18,
    "start_time": "2023-05-03T12:08:36.477Z"
   },
   {
    "duration": 7,
    "start_time": "2023-05-03T12:08:36.496Z"
   },
   {
    "duration": 21,
    "start_time": "2023-05-03T12:08:36.505Z"
   },
   {
    "duration": 13,
    "start_time": "2023-05-03T12:08:36.528Z"
   },
   {
    "duration": 18,
    "start_time": "2023-05-03T12:08:36.542Z"
   },
   {
    "duration": 8,
    "start_time": "2023-05-03T12:08:36.561Z"
   },
   {
    "duration": 6,
    "start_time": "2023-05-03T12:08:36.570Z"
   },
   {
    "duration": 20,
    "start_time": "2023-05-03T12:08:36.577Z"
   },
   {
    "duration": 20,
    "start_time": "2023-05-03T12:08:36.598Z"
   },
   {
    "duration": 17,
    "start_time": "2023-05-03T12:08:36.619Z"
   },
   {
    "duration": 35,
    "start_time": "2023-05-03T12:08:36.637Z"
   },
   {
    "duration": 3,
    "start_time": "2023-05-03T12:08:36.674Z"
   },
   {
    "duration": 10,
    "start_time": "2023-05-03T12:08:36.679Z"
   },
   {
    "duration": 16,
    "start_time": "2023-05-03T12:08:36.691Z"
   },
   {
    "duration": 11,
    "start_time": "2023-05-03T12:08:36.708Z"
   },
   {
    "duration": 34,
    "start_time": "2023-05-03T12:08:36.720Z"
   },
   {
    "duration": 5,
    "start_time": "2023-05-03T12:08:36.755Z"
   },
   {
    "duration": 136,
    "start_time": "2023-05-03T12:08:36.761Z"
   },
   {
    "duration": 5,
    "start_time": "2023-05-03T12:08:36.898Z"
   },
   {
    "duration": 11,
    "start_time": "2023-05-03T12:08:36.904Z"
   },
   {
    "duration": 461,
    "start_time": "2023-05-03T12:08:36.916Z"
   },
   {
    "duration": 4,
    "start_time": "2023-05-03T12:08:37.378Z"
   },
   {
    "duration": 185,
    "start_time": "2023-05-03T12:08:37.383Z"
   },
   {
    "duration": 18,
    "start_time": "2023-05-03T12:08:37.571Z"
   },
   {
    "duration": 155,
    "start_time": "2023-05-03T12:08:37.591Z"
   },
   {
    "duration": 272,
    "start_time": "2023-05-03T12:08:37.747Z"
   },
   {
    "duration": 111,
    "start_time": "2023-05-03T12:08:38.020Z"
   },
   {
    "duration": 242,
    "start_time": "2023-05-03T12:08:38.132Z"
   },
   {
    "duration": 223,
    "start_time": "2023-05-03T12:08:38.375Z"
   },
   {
    "duration": 179,
    "start_time": "2023-05-03T12:08:38.601Z"
   },
   {
    "duration": 78,
    "start_time": "2023-05-03T12:11:34.134Z"
   },
   {
    "duration": 6,
    "start_time": "2023-05-03T12:13:53.997Z"
   },
   {
    "duration": 6,
    "start_time": "2023-05-03T12:13:57.013Z"
   },
   {
    "duration": 7,
    "start_time": "2023-05-03T12:13:58.604Z"
   },
   {
    "duration": 8,
    "start_time": "2023-05-03T12:14:04.905Z"
   },
   {
    "duration": 6,
    "start_time": "2023-05-03T12:14:07.907Z"
   },
   {
    "duration": 5,
    "start_time": "2023-05-03T12:14:27.465Z"
   },
   {
    "duration": 6,
    "start_time": "2023-05-03T12:14:38.033Z"
   },
   {
    "duration": 5,
    "start_time": "2023-05-03T12:14:41.646Z"
   },
   {
    "duration": 4,
    "start_time": "2023-05-03T12:14:43.928Z"
   },
   {
    "duration": 5,
    "start_time": "2023-05-03T12:14:45.413Z"
   },
   {
    "duration": 5,
    "start_time": "2023-05-03T12:17:50.763Z"
   },
   {
    "duration": 97,
    "start_time": "2023-05-03T12:18:12.913Z"
   },
   {
    "duration": 99,
    "start_time": "2023-05-03T12:18:49.521Z"
   },
   {
    "duration": 86,
    "start_time": "2023-05-03T12:19:31.102Z"
   },
   {
    "duration": 137,
    "start_time": "2023-05-03T12:19:35.215Z"
   },
   {
    "duration": 87,
    "start_time": "2023-05-03T12:20:23.854Z"
   },
   {
    "duration": 93,
    "start_time": "2023-05-03T12:20:29.762Z"
   },
   {
    "duration": 134,
    "start_time": "2023-05-03T12:20:34.126Z"
   },
   {
    "duration": 12,
    "start_time": "2023-05-03T12:20:34.262Z"
   },
   {
    "duration": 11,
    "start_time": "2023-05-03T12:20:34.275Z"
   },
   {
    "duration": 17,
    "start_time": "2023-05-03T12:20:34.287Z"
   },
   {
    "duration": 3,
    "start_time": "2023-05-03T12:20:34.306Z"
   },
   {
    "duration": 15,
    "start_time": "2023-05-03T12:20:34.310Z"
   },
   {
    "duration": 12,
    "start_time": "2023-05-03T12:20:34.326Z"
   },
   {
    "duration": 38,
    "start_time": "2023-05-03T12:20:34.339Z"
   },
   {
    "duration": 7,
    "start_time": "2023-05-03T12:20:34.378Z"
   },
   {
    "duration": 10,
    "start_time": "2023-05-03T12:20:34.386Z"
   },
   {
    "duration": 18,
    "start_time": "2023-05-03T12:20:34.397Z"
   },
   {
    "duration": 37,
    "start_time": "2023-05-03T12:20:34.416Z"
   },
   {
    "duration": 28,
    "start_time": "2023-05-03T12:20:34.454Z"
   },
   {
    "duration": 33,
    "start_time": "2023-05-03T12:20:34.484Z"
   },
   {
    "duration": 24,
    "start_time": "2023-05-03T12:20:34.518Z"
   },
   {
    "duration": 9,
    "start_time": "2023-05-03T12:20:34.544Z"
   },
   {
    "duration": 21,
    "start_time": "2023-05-03T12:20:34.554Z"
   },
   {
    "duration": 21,
    "start_time": "2023-05-03T12:20:34.576Z"
   },
   {
    "duration": 44,
    "start_time": "2023-05-03T12:20:34.599Z"
   },
   {
    "duration": 32,
    "start_time": "2023-05-03T12:20:34.645Z"
   },
   {
    "duration": 17,
    "start_time": "2023-05-03T12:20:34.678Z"
   },
   {
    "duration": 33,
    "start_time": "2023-05-03T12:20:34.697Z"
   },
   {
    "duration": 22,
    "start_time": "2023-05-03T12:20:34.731Z"
   },
   {
    "duration": 16,
    "start_time": "2023-05-03T12:20:34.754Z"
   },
   {
    "duration": 16,
    "start_time": "2023-05-03T12:20:34.771Z"
   },
   {
    "duration": 15,
    "start_time": "2023-05-03T12:20:34.788Z"
   },
   {
    "duration": 87,
    "start_time": "2023-05-03T12:20:34.805Z"
   },
   {
    "duration": 5,
    "start_time": "2023-05-03T12:20:34.894Z"
   },
   {
    "duration": 5,
    "start_time": "2023-05-03T12:20:34.901Z"
   },
   {
    "duration": 3,
    "start_time": "2023-05-03T12:20:37.339Z"
   },
   {
    "duration": 92,
    "start_time": "2023-05-03T12:20:37.660Z"
   },
   {
    "duration": 90,
    "start_time": "2023-05-03T12:24:02.127Z"
   },
   {
    "duration": 88,
    "start_time": "2023-05-03T12:26:19.625Z"
   },
   {
    "duration": 84,
    "start_time": "2023-05-03T12:27:07.394Z"
   },
   {
    "duration": 87,
    "start_time": "2023-05-03T12:27:10.815Z"
   },
   {
    "duration": 92,
    "start_time": "2023-05-03T12:27:13.325Z"
   },
   {
    "duration": 90,
    "start_time": "2023-05-03T12:27:16.095Z"
   },
   {
    "duration": 133,
    "start_time": "2023-05-03T12:28:09.108Z"
   },
   {
    "duration": 144,
    "start_time": "2023-05-03T12:28:14.812Z"
   },
   {
    "duration": 125,
    "start_time": "2023-05-03T12:28:18.430Z"
   },
   {
    "duration": 16,
    "start_time": "2023-05-03T12:28:18.557Z"
   },
   {
    "duration": 29,
    "start_time": "2023-05-03T12:28:18.575Z"
   },
   {
    "duration": 31,
    "start_time": "2023-05-03T12:28:18.607Z"
   },
   {
    "duration": 3,
    "start_time": "2023-05-03T12:28:18.640Z"
   },
   {
    "duration": 18,
    "start_time": "2023-05-03T12:28:18.644Z"
   },
   {
    "duration": 9,
    "start_time": "2023-05-03T12:28:18.663Z"
   },
   {
    "duration": 25,
    "start_time": "2023-05-03T12:28:18.673Z"
   },
   {
    "duration": 7,
    "start_time": "2023-05-03T12:28:18.700Z"
   },
   {
    "duration": 2,
    "start_time": "2023-05-03T12:28:18.710Z"
   },
   {
    "duration": 10,
    "start_time": "2023-05-03T12:28:18.713Z"
   },
   {
    "duration": 42,
    "start_time": "2023-05-03T12:28:18.724Z"
   },
   {
    "duration": 13,
    "start_time": "2023-05-03T12:28:18.773Z"
   },
   {
    "duration": 16,
    "start_time": "2023-05-03T12:28:18.787Z"
   },
   {
    "duration": 9,
    "start_time": "2023-05-03T12:28:18.805Z"
   },
   {
    "duration": 12,
    "start_time": "2023-05-03T12:28:18.816Z"
   },
   {
    "duration": 21,
    "start_time": "2023-05-03T12:28:18.830Z"
   },
   {
    "duration": 6,
    "start_time": "2023-05-03T12:28:18.853Z"
   },
   {
    "duration": 26,
    "start_time": "2023-05-03T12:28:18.860Z"
   },
   {
    "duration": 19,
    "start_time": "2023-05-03T12:28:18.888Z"
   },
   {
    "duration": 17,
    "start_time": "2023-05-03T12:28:18.909Z"
   },
   {
    "duration": 16,
    "start_time": "2023-05-03T12:28:18.927Z"
   },
   {
    "duration": 29,
    "start_time": "2023-05-03T12:28:18.944Z"
   },
   {
    "duration": 9,
    "start_time": "2023-05-03T12:28:18.974Z"
   },
   {
    "duration": 19,
    "start_time": "2023-05-03T12:28:18.984Z"
   },
   {
    "duration": 5,
    "start_time": "2023-05-03T12:28:19.004Z"
   },
   {
    "duration": 96,
    "start_time": "2023-05-03T12:28:19.011Z"
   },
   {
    "duration": 5,
    "start_time": "2023-05-03T12:28:19.109Z"
   },
   {
    "duration": 14,
    "start_time": "2023-05-03T12:28:19.115Z"
   },
   {
    "duration": 4,
    "start_time": "2023-05-03T12:28:20.615Z"
   },
   {
    "duration": 87,
    "start_time": "2023-05-03T12:28:20.911Z"
   },
   {
    "duration": 119,
    "start_time": "2023-05-03T12:28:26.518Z"
   },
   {
    "duration": 103,
    "start_time": "2023-05-03T12:28:28.940Z"
   },
   {
    "duration": 87,
    "start_time": "2023-05-03T12:28:42.725Z"
   },
   {
    "duration": 86,
    "start_time": "2023-05-03T12:29:39.668Z"
   },
   {
    "duration": 92,
    "start_time": "2023-05-03T12:29:42.921Z"
   },
   {
    "duration": 84,
    "start_time": "2023-05-03T12:29:44.777Z"
   },
   {
    "duration": 11,
    "start_time": "2023-05-03T12:30:26.435Z"
   },
   {
    "duration": 98,
    "start_time": "2023-05-03T12:30:55.770Z"
   },
   {
    "duration": 93,
    "start_time": "2023-05-03T12:31:09.866Z"
   },
   {
    "duration": 134,
    "start_time": "2023-05-03T12:31:27.411Z"
   },
   {
    "duration": 15,
    "start_time": "2023-05-03T12:31:27.546Z"
   },
   {
    "duration": 16,
    "start_time": "2023-05-03T12:31:27.562Z"
   },
   {
    "duration": 22,
    "start_time": "2023-05-03T12:31:27.580Z"
   },
   {
    "duration": 3,
    "start_time": "2023-05-03T12:31:27.604Z"
   },
   {
    "duration": 19,
    "start_time": "2023-05-03T12:31:27.609Z"
   },
   {
    "duration": 9,
    "start_time": "2023-05-03T12:31:27.630Z"
   },
   {
    "duration": 50,
    "start_time": "2023-05-03T12:31:27.640Z"
   },
   {
    "duration": 8,
    "start_time": "2023-05-03T12:31:27.692Z"
   },
   {
    "duration": 3,
    "start_time": "2023-05-03T12:31:27.701Z"
   },
   {
    "duration": 6,
    "start_time": "2023-05-03T12:31:27.705Z"
   },
   {
    "duration": 18,
    "start_time": "2023-05-03T12:31:27.713Z"
   },
   {
    "duration": 7,
    "start_time": "2023-05-03T12:31:27.733Z"
   },
   {
    "duration": 11,
    "start_time": "2023-05-03T12:31:27.742Z"
   },
   {
    "duration": 7,
    "start_time": "2023-05-03T12:31:27.772Z"
   },
   {
    "duration": 18,
    "start_time": "2023-05-03T12:31:27.780Z"
   },
   {
    "duration": 17,
    "start_time": "2023-05-03T12:31:27.799Z"
   },
   {
    "duration": 5,
    "start_time": "2023-05-03T12:31:27.817Z"
   },
   {
    "duration": 30,
    "start_time": "2023-05-03T12:31:27.823Z"
   },
   {
    "duration": 21,
    "start_time": "2023-05-03T12:31:27.854Z"
   },
   {
    "duration": 17,
    "start_time": "2023-05-03T12:31:27.876Z"
   },
   {
    "duration": 15,
    "start_time": "2023-05-03T12:31:27.894Z"
   },
   {
    "duration": 4,
    "start_time": "2023-05-03T12:31:27.910Z"
   },
   {
    "duration": 24,
    "start_time": "2023-05-03T12:31:27.915Z"
   },
   {
    "duration": 33,
    "start_time": "2023-05-03T12:31:27.940Z"
   },
   {
    "duration": 15,
    "start_time": "2023-05-03T12:31:27.975Z"
   },
   {
    "duration": 82,
    "start_time": "2023-05-03T12:31:27.991Z"
   },
   {
    "duration": 4,
    "start_time": "2023-05-03T12:31:28.075Z"
   },
   {
    "duration": 18,
    "start_time": "2023-05-03T12:31:28.080Z"
   },
   {
    "duration": 171,
    "start_time": "2023-05-03T12:31:28.099Z"
   },
   {
    "duration": 102,
    "start_time": "2023-05-03T12:31:28.272Z"
   },
   {
    "duration": 12,
    "start_time": "2023-05-03T12:31:30.342Z"
   },
   {
    "duration": 132,
    "start_time": "2023-05-03T12:48:11.390Z"
   },
   {
    "duration": 13,
    "start_time": "2023-05-03T12:48:11.524Z"
   },
   {
    "duration": 11,
    "start_time": "2023-05-03T12:48:11.539Z"
   },
   {
    "duration": 23,
    "start_time": "2023-05-03T12:48:11.552Z"
   },
   {
    "duration": 4,
    "start_time": "2023-05-03T12:48:11.577Z"
   },
   {
    "duration": 47,
    "start_time": "2023-05-03T12:48:11.582Z"
   },
   {
    "duration": 9,
    "start_time": "2023-05-03T12:48:11.630Z"
   },
   {
    "duration": 24,
    "start_time": "2023-05-03T12:48:11.640Z"
   },
   {
    "duration": 8,
    "start_time": "2023-05-03T12:48:11.666Z"
   },
   {
    "duration": 25,
    "start_time": "2023-05-03T12:48:11.675Z"
   },
   {
    "duration": 6,
    "start_time": "2023-05-03T12:48:11.702Z"
   },
   {
    "duration": 18,
    "start_time": "2023-05-03T12:48:11.710Z"
   },
   {
    "duration": 8,
    "start_time": "2023-05-03T12:48:11.729Z"
   },
   {
    "duration": 11,
    "start_time": "2023-05-03T12:48:11.740Z"
   },
   {
    "duration": 29,
    "start_time": "2023-05-03T12:48:11.752Z"
   },
   {
    "duration": 14,
    "start_time": "2023-05-03T12:48:11.790Z"
   },
   {
    "duration": 7,
    "start_time": "2023-05-03T12:48:11.806Z"
   },
   {
    "duration": 4,
    "start_time": "2023-05-03T12:48:11.814Z"
   },
   {
    "duration": 25,
    "start_time": "2023-05-03T12:48:11.819Z"
   },
   {
    "duration": 35,
    "start_time": "2023-05-03T12:48:11.846Z"
   },
   {
    "duration": 27,
    "start_time": "2023-05-03T12:48:11.882Z"
   },
   {
    "duration": 13,
    "start_time": "2023-05-03T12:48:11.911Z"
   },
   {
    "duration": 4,
    "start_time": "2023-05-03T12:48:11.926Z"
   },
   {
    "duration": 10,
    "start_time": "2023-05-03T12:48:11.931Z"
   },
   {
    "duration": 44,
    "start_time": "2023-05-03T12:48:11.942Z"
   },
   {
    "duration": 6,
    "start_time": "2023-05-03T12:48:11.988Z"
   },
   {
    "duration": 95,
    "start_time": "2023-05-03T12:48:11.995Z"
   },
   {
    "duration": 6,
    "start_time": "2023-05-03T12:48:12.092Z"
   },
   {
    "duration": 8,
    "start_time": "2023-05-03T12:48:12.100Z"
   },
   {
    "duration": 121,
    "start_time": "2023-05-03T12:48:12.109Z"
   },
   {
    "duration": 116,
    "start_time": "2023-05-03T12:48:12.231Z"
   },
   {
    "duration": 14,
    "start_time": "2023-05-03T12:48:15.043Z"
   },
   {
    "duration": 4,
    "start_time": "2023-05-03T12:48:15.560Z"
   },
   {
    "duration": 4,
    "start_time": "2023-05-03T12:48:51.602Z"
   },
   {
    "duration": 4,
    "start_time": "2023-05-03T12:49:01.133Z"
   },
   {
    "duration": 4,
    "start_time": "2023-05-03T12:49:04.588Z"
   },
   {
    "duration": 17,
    "start_time": "2023-05-03T12:49:18.965Z"
   },
   {
    "duration": 544,
    "start_time": "2023-05-03T12:49:30.605Z"
   },
   {
    "duration": 14,
    "start_time": "2023-05-03T12:49:31.150Z"
   },
   {
    "duration": 55,
    "start_time": "2023-05-03T12:49:31.165Z"
   },
   {
    "duration": 40,
    "start_time": "2023-05-03T12:49:31.221Z"
   },
   {
    "duration": 33,
    "start_time": "2023-05-03T12:49:31.263Z"
   },
   {
    "duration": 44,
    "start_time": "2023-05-03T12:49:31.298Z"
   },
   {
    "duration": 53,
    "start_time": "2023-05-03T12:49:31.344Z"
   },
   {
    "duration": 62,
    "start_time": "2023-05-03T12:49:31.401Z"
   },
   {
    "duration": 10,
    "start_time": "2023-05-03T12:49:31.465Z"
   },
   {
    "duration": 53,
    "start_time": "2023-05-03T12:49:31.477Z"
   },
   {
    "duration": 33,
    "start_time": "2023-05-03T12:49:31.531Z"
   },
   {
    "duration": 44,
    "start_time": "2023-05-03T12:49:31.566Z"
   },
   {
    "duration": 50,
    "start_time": "2023-05-03T12:49:31.612Z"
   },
   {
    "duration": 61,
    "start_time": "2023-05-03T12:49:31.665Z"
   },
   {
    "duration": 24,
    "start_time": "2023-05-03T12:49:31.728Z"
   },
   {
    "duration": 49,
    "start_time": "2023-05-03T12:49:31.754Z"
   },
   {
    "duration": 30,
    "start_time": "2023-05-03T12:49:31.805Z"
   },
   {
    "duration": 6,
    "start_time": "2023-05-03T12:49:31.837Z"
   },
   {
    "duration": 70,
    "start_time": "2023-05-03T12:49:31.844Z"
   },
   {
    "duration": 28,
    "start_time": "2023-05-03T12:49:31.916Z"
   },
   {
    "duration": 42,
    "start_time": "2023-05-03T12:49:31.946Z"
   },
   {
    "duration": 24,
    "start_time": "2023-05-03T12:49:31.990Z"
   },
   {
    "duration": 5,
    "start_time": "2023-05-03T12:49:32.016Z"
   },
   {
    "duration": 40,
    "start_time": "2023-05-03T12:49:32.022Z"
   },
   {
    "duration": 28,
    "start_time": "2023-05-03T12:49:32.064Z"
   },
   {
    "duration": 15,
    "start_time": "2023-05-03T12:49:32.094Z"
   },
   {
    "duration": 326,
    "start_time": "2023-05-03T12:49:32.110Z"
   },
   {
    "duration": 5,
    "start_time": "2023-05-03T12:49:32.438Z"
   },
   {
    "duration": 21,
    "start_time": "2023-05-03T12:49:32.444Z"
   },
   {
    "duration": 126,
    "start_time": "2023-05-03T12:49:32.467Z"
   },
   {
    "duration": 110,
    "start_time": "2023-05-03T12:49:32.595Z"
   },
   {
    "duration": 13,
    "start_time": "2023-05-03T12:49:34.027Z"
   },
   {
    "duration": 5,
    "start_time": "2023-05-03T12:49:35.063Z"
   },
   {
    "duration": 3,
    "start_time": "2023-05-03T12:50:23.809Z"
   },
   {
    "duration": 3,
    "start_time": "2023-05-03T12:50:29.526Z"
   },
   {
    "duration": 7,
    "start_time": "2023-05-03T12:50:53.815Z"
   },
   {
    "duration": 17,
    "start_time": "2023-05-03T12:51:00.730Z"
   },
   {
    "duration": 451,
    "start_time": "2023-05-03T12:52:04.417Z"
   },
   {
    "duration": 13,
    "start_time": "2023-05-03T12:52:04.870Z"
   },
   {
    "duration": 11,
    "start_time": "2023-05-03T12:52:04.884Z"
   },
   {
    "duration": 24,
    "start_time": "2023-05-03T12:52:04.896Z"
   },
   {
    "duration": 5,
    "start_time": "2023-05-03T12:52:04.922Z"
   },
   {
    "duration": 20,
    "start_time": "2023-05-03T12:52:04.928Z"
   },
   {
    "duration": 29,
    "start_time": "2023-05-03T12:52:04.950Z"
   },
   {
    "duration": 21,
    "start_time": "2023-05-03T12:52:04.981Z"
   },
   {
    "duration": 7,
    "start_time": "2023-05-03T12:52:05.004Z"
   },
   {
    "duration": 12,
    "start_time": "2023-05-03T12:52:05.012Z"
   },
   {
    "duration": 7,
    "start_time": "2023-05-03T12:52:05.026Z"
   },
   {
    "duration": 39,
    "start_time": "2023-05-03T12:52:05.036Z"
   },
   {
    "duration": 19,
    "start_time": "2023-05-03T12:52:05.077Z"
   },
   {
    "duration": 19,
    "start_time": "2023-05-03T12:52:05.099Z"
   },
   {
    "duration": 14,
    "start_time": "2023-05-03T12:52:05.119Z"
   },
   {
    "duration": 10,
    "start_time": "2023-05-03T12:52:05.134Z"
   },
   {
    "duration": 7,
    "start_time": "2023-05-03T12:52:05.146Z"
   },
   {
    "duration": 13,
    "start_time": "2023-05-03T12:52:05.154Z"
   },
   {
    "duration": 29,
    "start_time": "2023-05-03T12:52:05.168Z"
   },
   {
    "duration": 29,
    "start_time": "2023-05-03T12:52:05.198Z"
   },
   {
    "duration": 17,
    "start_time": "2023-05-03T12:52:05.228Z"
   },
   {
    "duration": 16,
    "start_time": "2023-05-03T12:52:05.246Z"
   },
   {
    "duration": 11,
    "start_time": "2023-05-03T12:52:05.264Z"
   },
   {
    "duration": 12,
    "start_time": "2023-05-03T12:52:05.277Z"
   },
   {
    "duration": 20,
    "start_time": "2023-05-03T12:52:05.290Z"
   },
   {
    "duration": 12,
    "start_time": "2023-05-03T12:52:05.312Z"
   },
   {
    "duration": 321,
    "start_time": "2023-05-03T12:52:05.325Z"
   },
   {
    "duration": 6,
    "start_time": "2023-05-03T12:52:05.648Z"
   },
   {
    "duration": 17,
    "start_time": "2023-05-03T12:52:05.655Z"
   },
   {
    "duration": 136,
    "start_time": "2023-05-03T12:52:05.674Z"
   },
   {
    "duration": 103,
    "start_time": "2023-05-03T12:52:07.155Z"
   },
   {
    "duration": 13,
    "start_time": "2023-05-03T12:52:08.298Z"
   },
   {
    "duration": 13,
    "start_time": "2023-05-03T12:52:08.804Z"
   },
   {
    "duration": 81,
    "start_time": "2023-05-03T12:53:20.000Z"
   },
   {
    "duration": 5,
    "start_time": "2023-05-03T12:53:23.063Z"
   },
   {
    "duration": 85,
    "start_time": "2023-05-03T12:53:23.591Z"
   },
   {
    "duration": 6,
    "start_time": "2023-05-03T12:53:23.969Z"
   },
   {
    "duration": 5,
    "start_time": "2023-05-03T12:53:24.330Z"
   },
   {
    "duration": 158,
    "start_time": "2023-05-03T12:53:24.527Z"
   },
   {
    "duration": 93,
    "start_time": "2023-05-03T12:53:25.149Z"
   },
   {
    "duration": 18,
    "start_time": "2023-05-03T12:53:26.288Z"
   },
   {
    "duration": 11,
    "start_time": "2023-05-03T12:53:28.202Z"
   },
   {
    "duration": 13,
    "start_time": "2023-05-03T12:54:00.335Z"
   },
   {
    "duration": 144,
    "start_time": "2023-05-03T12:54:02.948Z"
   },
   {
    "duration": 16,
    "start_time": "2023-05-03T12:54:03.094Z"
   },
   {
    "duration": 33,
    "start_time": "2023-05-03T12:54:03.112Z"
   },
   {
    "duration": 21,
    "start_time": "2023-05-03T12:54:03.146Z"
   },
   {
    "duration": 8,
    "start_time": "2023-05-03T12:54:03.170Z"
   },
   {
    "duration": 111,
    "start_time": "2023-05-03T12:54:03.179Z"
   },
   {
    "duration": 10,
    "start_time": "2023-05-03T12:54:03.292Z"
   },
   {
    "duration": 32,
    "start_time": "2023-05-03T12:54:03.304Z"
   },
   {
    "duration": 8,
    "start_time": "2023-05-03T12:54:03.338Z"
   },
   {
    "duration": 6,
    "start_time": "2023-05-03T12:54:03.348Z"
   },
   {
    "duration": 18,
    "start_time": "2023-05-03T12:54:03.356Z"
   },
   {
    "duration": 29,
    "start_time": "2023-05-03T12:54:03.376Z"
   },
   {
    "duration": 10,
    "start_time": "2023-05-03T12:54:03.406Z"
   },
   {
    "duration": 9,
    "start_time": "2023-05-03T12:54:03.418Z"
   },
   {
    "duration": 12,
    "start_time": "2023-05-03T12:54:03.428Z"
   },
   {
    "duration": 12,
    "start_time": "2023-05-03T12:54:03.441Z"
   },
   {
    "duration": 26,
    "start_time": "2023-05-03T12:54:03.455Z"
   },
   {
    "duration": 6,
    "start_time": "2023-05-03T12:54:03.483Z"
   },
   {
    "duration": 33,
    "start_time": "2023-05-03T12:54:03.491Z"
   },
   {
    "duration": 23,
    "start_time": "2023-05-03T12:54:03.526Z"
   },
   {
    "duration": 42,
    "start_time": "2023-05-03T12:54:03.550Z"
   },
   {
    "duration": 18,
    "start_time": "2023-05-03T12:54:03.593Z"
   },
   {
    "duration": 5,
    "start_time": "2023-05-03T12:54:03.613Z"
   },
   {
    "duration": 13,
    "start_time": "2023-05-03T12:54:03.620Z"
   },
   {
    "duration": 53,
    "start_time": "2023-05-03T12:54:03.635Z"
   },
   {
    "duration": 8,
    "start_time": "2023-05-03T12:54:03.690Z"
   },
   {
    "duration": 123,
    "start_time": "2023-05-03T12:54:03.700Z"
   },
   {
    "duration": 94,
    "start_time": "2023-05-03T12:54:04.510Z"
   },
   {
    "duration": 14,
    "start_time": "2023-05-03T12:54:04.851Z"
   },
   {
    "duration": 146,
    "start_time": "2023-05-03T12:54:29.467Z"
   },
   {
    "duration": 20,
    "start_time": "2023-05-03T12:54:29.615Z"
   },
   {
    "duration": 16,
    "start_time": "2023-05-03T12:54:29.636Z"
   },
   {
    "duration": 33,
    "start_time": "2023-05-03T12:54:29.653Z"
   },
   {
    "duration": 4,
    "start_time": "2023-05-03T12:54:29.688Z"
   },
   {
    "duration": 38,
    "start_time": "2023-05-03T12:54:29.693Z"
   },
   {
    "duration": 12,
    "start_time": "2023-05-03T12:54:29.733Z"
   },
   {
    "duration": 39,
    "start_time": "2023-05-03T12:54:29.747Z"
   },
   {
    "duration": 8,
    "start_time": "2023-05-03T12:54:29.787Z"
   },
   {
    "duration": 10,
    "start_time": "2023-05-03T12:54:29.797Z"
   },
   {
    "duration": 9,
    "start_time": "2023-05-03T12:54:29.808Z"
   },
   {
    "duration": 19,
    "start_time": "2023-05-03T12:54:29.818Z"
   },
   {
    "duration": 15,
    "start_time": "2023-05-03T12:54:29.839Z"
   },
   {
    "duration": 16,
    "start_time": "2023-05-03T12:54:29.856Z"
   },
   {
    "duration": 6,
    "start_time": "2023-05-03T12:54:29.873Z"
   },
   {
    "duration": 22,
    "start_time": "2023-05-03T12:54:29.880Z"
   },
   {
    "duration": 8,
    "start_time": "2023-05-03T12:54:29.904Z"
   },
   {
    "duration": 5,
    "start_time": "2023-05-03T12:54:29.913Z"
   },
   {
    "duration": 19,
    "start_time": "2023-05-03T12:54:29.919Z"
   },
   {
    "duration": 47,
    "start_time": "2023-05-03T12:54:29.940Z"
   },
   {
    "duration": 24,
    "start_time": "2023-05-03T12:54:29.989Z"
   },
   {
    "duration": 54,
    "start_time": "2023-05-03T12:54:30.014Z"
   },
   {
    "duration": 44,
    "start_time": "2023-05-03T12:54:30.069Z"
   },
   {
    "duration": 16,
    "start_time": "2023-05-03T12:54:30.115Z"
   },
   {
    "duration": 30,
    "start_time": "2023-05-03T12:54:30.132Z"
   },
   {
    "duration": 21,
    "start_time": "2023-05-03T12:54:30.164Z"
   },
   {
    "duration": 114,
    "start_time": "2023-05-03T12:54:30.186Z"
   },
   {
    "duration": 6,
    "start_time": "2023-05-03T12:54:30.301Z"
   },
   {
    "duration": 59,
    "start_time": "2023-05-03T12:54:30.308Z"
   },
   {
    "duration": 133,
    "start_time": "2023-05-03T12:54:30.369Z"
   },
   {
    "duration": 98,
    "start_time": "2023-05-03T12:54:31.503Z"
   },
   {
    "duration": 11,
    "start_time": "2023-05-03T12:54:32.259Z"
   },
   {
    "duration": 12,
    "start_time": "2023-05-03T12:54:59.523Z"
   },
   {
    "duration": 5,
    "start_time": "2023-05-03T12:55:01.041Z"
   },
   {
    "duration": 14,
    "start_time": "2023-05-03T12:55:01.298Z"
   },
   {
    "duration": 126,
    "start_time": "2023-05-03T12:55:04.297Z"
   },
   {
    "duration": 13,
    "start_time": "2023-05-03T12:55:04.425Z"
   },
   {
    "duration": 11,
    "start_time": "2023-05-03T12:55:04.439Z"
   },
   {
    "duration": 20,
    "start_time": "2023-05-03T12:55:04.452Z"
   },
   {
    "duration": 3,
    "start_time": "2023-05-03T12:55:04.474Z"
   },
   {
    "duration": 23,
    "start_time": "2023-05-03T12:55:04.479Z"
   },
   {
    "duration": 11,
    "start_time": "2023-05-03T12:55:04.504Z"
   },
   {
    "duration": 31,
    "start_time": "2023-05-03T12:55:04.517Z"
   },
   {
    "duration": 23,
    "start_time": "2023-05-03T12:55:04.550Z"
   },
   {
    "duration": 3,
    "start_time": "2023-05-03T12:55:04.574Z"
   },
   {
    "duration": 6,
    "start_time": "2023-05-03T12:55:04.578Z"
   },
   {
    "duration": 14,
    "start_time": "2023-05-03T12:55:04.586Z"
   },
   {
    "duration": 12,
    "start_time": "2023-05-03T12:55:04.601Z"
   },
   {
    "duration": 21,
    "start_time": "2023-05-03T12:55:04.615Z"
   },
   {
    "duration": 10,
    "start_time": "2023-05-03T12:55:04.637Z"
   },
   {
    "duration": 11,
    "start_time": "2023-05-03T12:55:04.648Z"
   },
   {
    "duration": 12,
    "start_time": "2023-05-03T12:55:04.661Z"
   },
   {
    "duration": 4,
    "start_time": "2023-05-03T12:55:04.674Z"
   },
   {
    "duration": 20,
    "start_time": "2023-05-03T12:55:04.679Z"
   },
   {
    "duration": 20,
    "start_time": "2023-05-03T12:55:04.700Z"
   },
   {
    "duration": 17,
    "start_time": "2023-05-03T12:55:04.721Z"
   },
   {
    "duration": 45,
    "start_time": "2023-05-03T12:55:04.739Z"
   },
   {
    "duration": 4,
    "start_time": "2023-05-03T12:55:04.786Z"
   },
   {
    "duration": 15,
    "start_time": "2023-05-03T12:55:04.791Z"
   },
   {
    "duration": 26,
    "start_time": "2023-05-03T12:55:04.807Z"
   },
   {
    "duration": 7,
    "start_time": "2023-05-03T12:55:04.835Z"
   },
   {
    "duration": 84,
    "start_time": "2023-05-03T12:55:04.843Z"
   },
   {
    "duration": 5,
    "start_time": "2023-05-03T12:55:04.929Z"
   },
   {
    "duration": 37,
    "start_time": "2023-05-03T12:55:04.936Z"
   },
   {
    "duration": 5,
    "start_time": "2023-05-03T12:55:05.904Z"
   },
   {
    "duration": 13,
    "start_time": "2023-05-03T12:55:06.303Z"
   },
   {
    "duration": 2,
    "start_time": "2023-05-03T12:55:17.654Z"
   },
   {
    "duration": 4,
    "start_time": "2023-05-03T12:55:17.893Z"
   },
   {
    "duration": 12,
    "start_time": "2023-05-03T12:55:18.125Z"
   },
   {
    "duration": 122,
    "start_time": "2023-05-03T12:55:21.805Z"
   },
   {
    "duration": 12,
    "start_time": "2023-05-03T12:55:21.929Z"
   },
   {
    "duration": 11,
    "start_time": "2023-05-03T12:55:21.942Z"
   },
   {
    "duration": 20,
    "start_time": "2023-05-03T12:55:21.954Z"
   },
   {
    "duration": 3,
    "start_time": "2023-05-03T12:55:21.976Z"
   },
   {
    "duration": 15,
    "start_time": "2023-05-03T12:55:21.981Z"
   },
   {
    "duration": 10,
    "start_time": "2023-05-03T12:55:21.998Z"
   },
   {
    "duration": 23,
    "start_time": "2023-05-03T12:55:22.009Z"
   },
   {
    "duration": 9,
    "start_time": "2023-05-03T12:55:22.033Z"
   },
   {
    "duration": 28,
    "start_time": "2023-05-03T12:55:22.044Z"
   },
   {
    "duration": 5,
    "start_time": "2023-05-03T12:55:22.074Z"
   },
   {
    "duration": 23,
    "start_time": "2023-05-03T12:55:22.081Z"
   },
   {
    "duration": 11,
    "start_time": "2023-05-03T12:55:22.106Z"
   },
   {
    "duration": 7,
    "start_time": "2023-05-03T12:55:22.120Z"
   },
   {
    "duration": 9,
    "start_time": "2023-05-03T12:55:22.128Z"
   },
   {
    "duration": 7,
    "start_time": "2023-05-03T12:55:22.139Z"
   },
   {
    "duration": 29,
    "start_time": "2023-05-03T12:55:22.148Z"
   },
   {
    "duration": 4,
    "start_time": "2023-05-03T12:55:22.179Z"
   },
   {
    "duration": 27,
    "start_time": "2023-05-03T12:55:22.184Z"
   },
   {
    "duration": 21,
    "start_time": "2023-05-03T12:55:22.212Z"
   },
   {
    "duration": 17,
    "start_time": "2023-05-03T12:55:22.234Z"
   },
   {
    "duration": 34,
    "start_time": "2023-05-03T12:55:22.252Z"
   },
   {
    "duration": 4,
    "start_time": "2023-05-03T12:55:22.287Z"
   },
   {
    "duration": 8,
    "start_time": "2023-05-03T12:55:22.292Z"
   },
   {
    "duration": 18,
    "start_time": "2023-05-03T12:55:22.301Z"
   },
   {
    "duration": 9,
    "start_time": "2023-05-03T12:55:22.321Z"
   },
   {
    "duration": 95,
    "start_time": "2023-05-03T12:55:22.331Z"
   },
   {
    "duration": 6,
    "start_time": "2023-05-03T12:55:22.427Z"
   },
   {
    "duration": 18,
    "start_time": "2023-05-03T12:55:22.434Z"
   },
   {
    "duration": 6,
    "start_time": "2023-05-03T12:55:22.453Z"
   },
   {
    "duration": 7,
    "start_time": "2023-05-03T12:55:24.707Z"
   },
   {
    "duration": 20,
    "start_time": "2023-05-03T12:55:24.925Z"
   },
   {
    "duration": 3,
    "start_time": "2023-05-03T12:55:30.965Z"
   },
   {
    "duration": 5,
    "start_time": "2023-05-03T12:55:31.410Z"
   },
   {
    "duration": 13,
    "start_time": "2023-05-03T12:55:33.904Z"
   },
   {
    "duration": 137,
    "start_time": "2023-05-03T12:55:42.709Z"
   },
   {
    "duration": 13,
    "start_time": "2023-05-03T12:55:42.848Z"
   },
   {
    "duration": 12,
    "start_time": "2023-05-03T12:55:42.863Z"
   },
   {
    "duration": 23,
    "start_time": "2023-05-03T12:55:42.876Z"
   },
   {
    "duration": 3,
    "start_time": "2023-05-03T12:55:42.902Z"
   },
   {
    "duration": 21,
    "start_time": "2023-05-03T12:55:42.907Z"
   },
   {
    "duration": 9,
    "start_time": "2023-05-03T12:55:42.929Z"
   },
   {
    "duration": 55,
    "start_time": "2023-05-03T12:55:42.940Z"
   },
   {
    "duration": 8,
    "start_time": "2023-05-03T12:55:42.996Z"
   },
   {
    "duration": 17,
    "start_time": "2023-05-03T12:55:43.006Z"
   },
   {
    "duration": 9,
    "start_time": "2023-05-03T12:55:43.024Z"
   },
   {
    "duration": 23,
    "start_time": "2023-05-03T12:55:43.035Z"
   },
   {
    "duration": 13,
    "start_time": "2023-05-03T12:55:43.061Z"
   },
   {
    "duration": 8,
    "start_time": "2023-05-03T12:55:43.078Z"
   },
   {
    "duration": 22,
    "start_time": "2023-05-03T12:55:43.088Z"
   },
   {
    "duration": 10,
    "start_time": "2023-05-03T12:55:43.112Z"
   },
   {
    "duration": 12,
    "start_time": "2023-05-03T12:55:43.123Z"
   },
   {
    "duration": 6,
    "start_time": "2023-05-03T12:55:43.136Z"
   },
   {
    "duration": 38,
    "start_time": "2023-05-03T12:55:43.143Z"
   },
   {
    "duration": 31,
    "start_time": "2023-05-03T12:55:43.183Z"
   },
   {
    "duration": 27,
    "start_time": "2023-05-03T12:55:43.216Z"
   },
   {
    "duration": 37,
    "start_time": "2023-05-03T12:55:43.245Z"
   },
   {
    "duration": 4,
    "start_time": "2023-05-03T12:55:43.283Z"
   },
   {
    "duration": 10,
    "start_time": "2023-05-03T12:55:43.288Z"
   },
   {
    "duration": 18,
    "start_time": "2023-05-03T12:55:43.299Z"
   },
   {
    "duration": 7,
    "start_time": "2023-05-03T12:55:43.319Z"
   },
   {
    "duration": 100,
    "start_time": "2023-05-03T12:55:43.328Z"
   },
   {
    "duration": 5,
    "start_time": "2023-05-03T12:55:43.430Z"
   },
   {
    "duration": 9,
    "start_time": "2023-05-03T12:55:43.436Z"
   },
   {
    "duration": 7,
    "start_time": "2023-05-03T12:55:43.446Z"
   },
   {
    "duration": 5,
    "start_time": "2023-05-03T12:55:48.409Z"
   },
   {
    "duration": 13,
    "start_time": "2023-05-03T12:55:51.029Z"
   },
   {
    "duration": 6,
    "start_time": "2023-05-03T12:56:02.599Z"
   },
   {
    "duration": 14,
    "start_time": "2023-05-03T12:56:02.929Z"
   },
   {
    "duration": 525,
    "start_time": "2023-05-03T12:57:16.208Z"
   },
   {
    "duration": 14,
    "start_time": "2023-05-03T12:57:16.734Z"
   },
   {
    "duration": 16,
    "start_time": "2023-05-03T12:57:16.750Z"
   },
   {
    "duration": 53,
    "start_time": "2023-05-03T12:57:16.768Z"
   },
   {
    "duration": 4,
    "start_time": "2023-05-03T12:57:16.822Z"
   },
   {
    "duration": 31,
    "start_time": "2023-05-03T12:57:16.827Z"
   },
   {
    "duration": 14,
    "start_time": "2023-05-03T12:57:16.859Z"
   },
   {
    "duration": 35,
    "start_time": "2023-05-03T12:57:16.874Z"
   },
   {
    "duration": 7,
    "start_time": "2023-05-03T12:57:16.910Z"
   },
   {
    "duration": 14,
    "start_time": "2023-05-03T12:57:16.919Z"
   },
   {
    "duration": 8,
    "start_time": "2023-05-03T12:57:16.934Z"
   },
   {
    "duration": 15,
    "start_time": "2023-05-03T12:57:16.943Z"
   },
   {
    "duration": 17,
    "start_time": "2023-05-03T12:57:16.960Z"
   },
   {
    "duration": 23,
    "start_time": "2023-05-03T12:57:16.979Z"
   },
   {
    "duration": 12,
    "start_time": "2023-05-03T12:57:17.003Z"
   },
   {
    "duration": 11,
    "start_time": "2023-05-03T12:57:17.017Z"
   },
   {
    "duration": 13,
    "start_time": "2023-05-03T12:57:17.029Z"
   },
   {
    "duration": 12,
    "start_time": "2023-05-03T12:57:17.043Z"
   },
   {
    "duration": 65,
    "start_time": "2023-05-03T12:57:17.057Z"
   },
   {
    "duration": 25,
    "start_time": "2023-05-03T12:57:17.123Z"
   },
   {
    "duration": 17,
    "start_time": "2023-05-03T12:57:17.150Z"
   },
   {
    "duration": 18,
    "start_time": "2023-05-03T12:57:17.168Z"
   },
   {
    "duration": 25,
    "start_time": "2023-05-03T12:57:17.187Z"
   },
   {
    "duration": 56,
    "start_time": "2023-05-03T12:57:17.213Z"
   },
   {
    "duration": 66,
    "start_time": "2023-05-03T12:57:17.270Z"
   },
   {
    "duration": 23,
    "start_time": "2023-05-03T12:57:17.338Z"
   },
   {
    "duration": 385,
    "start_time": "2023-05-03T12:57:17.362Z"
   },
   {
    "duration": 4,
    "start_time": "2023-05-03T12:57:17.750Z"
   },
   {
    "duration": 30,
    "start_time": "2023-05-03T12:57:17.756Z"
   },
   {
    "duration": 3,
    "start_time": "2023-05-03T12:57:18.697Z"
   },
   {
    "duration": 5,
    "start_time": "2023-05-03T12:57:19.022Z"
   },
   {
    "duration": 13,
    "start_time": "2023-05-03T12:57:19.253Z"
   },
   {
    "duration": 3,
    "start_time": "2023-05-03T12:58:42.497Z"
   },
   {
    "duration": 5,
    "start_time": "2023-05-03T12:58:42.915Z"
   },
   {
    "duration": 11,
    "start_time": "2023-05-03T12:58:43.215Z"
   },
   {
    "duration": 489,
    "start_time": "2023-05-03T12:58:50.833Z"
   },
   {
    "duration": 15,
    "start_time": "2023-05-03T12:58:51.324Z"
   },
   {
    "duration": 21,
    "start_time": "2023-05-03T12:58:51.340Z"
   },
   {
    "duration": 50,
    "start_time": "2023-05-03T12:58:51.363Z"
   },
   {
    "duration": 6,
    "start_time": "2023-05-03T12:58:51.415Z"
   },
   {
    "duration": 23,
    "start_time": "2023-05-03T12:58:51.423Z"
   },
   {
    "duration": 8,
    "start_time": "2023-05-03T12:58:51.448Z"
   },
   {
    "duration": 30,
    "start_time": "2023-05-03T12:58:51.457Z"
   },
   {
    "duration": 16,
    "start_time": "2023-05-03T12:58:51.489Z"
   },
   {
    "duration": 13,
    "start_time": "2023-05-03T12:58:51.507Z"
   },
   {
    "duration": 28,
    "start_time": "2023-05-03T12:58:51.521Z"
   },
   {
    "duration": 25,
    "start_time": "2023-05-03T12:58:51.550Z"
   },
   {
    "duration": 20,
    "start_time": "2023-05-03T12:58:51.577Z"
   },
   {
    "duration": 31,
    "start_time": "2023-05-03T12:58:51.599Z"
   },
   {
    "duration": 12,
    "start_time": "2023-05-03T12:58:51.631Z"
   },
   {
    "duration": 16,
    "start_time": "2023-05-03T12:58:51.645Z"
   },
   {
    "duration": 7,
    "start_time": "2023-05-03T12:58:51.663Z"
   },
   {
    "duration": 22,
    "start_time": "2023-05-03T12:58:51.671Z"
   },
   {
    "duration": 41,
    "start_time": "2023-05-03T12:58:51.694Z"
   },
   {
    "duration": 32,
    "start_time": "2023-05-03T12:58:51.736Z"
   },
   {
    "duration": 24,
    "start_time": "2023-05-03T12:58:51.769Z"
   },
   {
    "duration": 25,
    "start_time": "2023-05-03T12:58:51.794Z"
   },
   {
    "duration": 22,
    "start_time": "2023-05-03T12:58:51.821Z"
   },
   {
    "duration": 34,
    "start_time": "2023-05-03T12:58:51.844Z"
   },
   {
    "duration": 35,
    "start_time": "2023-05-03T12:58:51.879Z"
   },
   {
    "duration": 25,
    "start_time": "2023-05-03T12:58:51.915Z"
   },
   {
    "duration": 353,
    "start_time": "2023-05-03T12:58:51.941Z"
   },
   {
    "duration": 4,
    "start_time": "2023-05-03T12:58:52.295Z"
   },
   {
    "duration": 27,
    "start_time": "2023-05-03T12:58:52.301Z"
   },
   {
    "duration": 36,
    "start_time": "2023-05-03T12:58:52.330Z"
   },
   {
    "duration": 6,
    "start_time": "2023-05-03T12:58:53.093Z"
   },
   {
    "duration": 11,
    "start_time": "2023-05-03T12:58:53.329Z"
   },
   {
    "duration": 170,
    "start_time": "2023-05-03T12:59:19.064Z"
   },
   {
    "duration": 15,
    "start_time": "2023-05-03T12:59:19.236Z"
   },
   {
    "duration": 14,
    "start_time": "2023-05-03T12:59:19.252Z"
   },
   {
    "duration": 30,
    "start_time": "2023-05-03T12:59:19.268Z"
   },
   {
    "duration": 4,
    "start_time": "2023-05-03T12:59:19.300Z"
   },
   {
    "duration": 22,
    "start_time": "2023-05-03T12:59:19.305Z"
   },
   {
    "duration": 10,
    "start_time": "2023-05-03T12:59:19.329Z"
   },
   {
    "duration": 46,
    "start_time": "2023-05-03T12:59:19.341Z"
   },
   {
    "duration": 9,
    "start_time": "2023-05-03T12:59:19.389Z"
   },
   {
    "duration": 5,
    "start_time": "2023-05-03T12:59:19.400Z"
   },
   {
    "duration": 9,
    "start_time": "2023-05-03T12:59:19.406Z"
   },
   {
    "duration": 19,
    "start_time": "2023-05-03T12:59:19.417Z"
   },
   {
    "duration": 6,
    "start_time": "2023-05-03T12:59:19.438Z"
   },
   {
    "duration": 26,
    "start_time": "2023-05-03T12:59:19.447Z"
   },
   {
    "duration": 22,
    "start_time": "2023-05-03T12:59:19.474Z"
   },
   {
    "duration": 23,
    "start_time": "2023-05-03T12:59:19.497Z"
   },
   {
    "duration": 13,
    "start_time": "2023-05-03T12:59:19.522Z"
   },
   {
    "duration": 5,
    "start_time": "2023-05-03T12:59:19.537Z"
   },
   {
    "duration": 24,
    "start_time": "2023-05-03T12:59:19.544Z"
   },
   {
    "duration": 27,
    "start_time": "2023-05-03T12:59:19.570Z"
   },
   {
    "duration": 18,
    "start_time": "2023-05-03T12:59:19.598Z"
   },
   {
    "duration": 13,
    "start_time": "2023-05-03T12:59:19.617Z"
   },
   {
    "duration": 4,
    "start_time": "2023-05-03T12:59:19.631Z"
   },
   {
    "duration": 8,
    "start_time": "2023-05-03T12:59:19.636Z"
   },
   {
    "duration": 46,
    "start_time": "2023-05-03T12:59:19.646Z"
   },
   {
    "duration": 5,
    "start_time": "2023-05-03T12:59:19.693Z"
   },
   {
    "duration": 99,
    "start_time": "2023-05-03T12:59:19.700Z"
   },
   {
    "duration": 5,
    "start_time": "2023-05-03T12:59:19.800Z"
   },
   {
    "duration": 6,
    "start_time": "2023-05-03T12:59:19.806Z"
   },
   {
    "duration": 9,
    "start_time": "2023-05-03T12:59:19.813Z"
   },
   {
    "duration": 111,
    "start_time": "2023-05-03T12:59:19.824Z"
   },
   {
    "duration": 129,
    "start_time": "2023-05-03T12:59:19.937Z"
   },
   {
    "duration": 16,
    "start_time": "2023-05-03T12:59:20.067Z"
   },
   {
    "duration": 11,
    "start_time": "2023-05-03T12:59:20.729Z"
   },
   {
    "duration": 13,
    "start_time": "2023-05-03T12:59:20.948Z"
   },
   {
    "duration": 4,
    "start_time": "2023-05-03T12:59:53.688Z"
   },
   {
    "duration": 133,
    "start_time": "2023-05-03T13:00:05.204Z"
   },
   {
    "duration": 13,
    "start_time": "2023-05-03T13:00:05.339Z"
   },
   {
    "duration": 17,
    "start_time": "2023-05-03T13:00:05.354Z"
   },
   {
    "duration": 40,
    "start_time": "2023-05-03T13:00:05.372Z"
   },
   {
    "duration": 49,
    "start_time": "2023-05-03T13:00:05.414Z"
   },
   {
    "duration": 33,
    "start_time": "2023-05-03T13:00:05.464Z"
   },
   {
    "duration": 24,
    "start_time": "2023-05-03T13:00:05.498Z"
   },
   {
    "duration": 37,
    "start_time": "2023-05-03T13:00:05.523Z"
   },
   {
    "duration": 34,
    "start_time": "2023-05-03T13:00:05.561Z"
   },
   {
    "duration": 47,
    "start_time": "2023-05-03T13:00:05.597Z"
   },
   {
    "duration": 36,
    "start_time": "2023-05-03T13:00:05.646Z"
   },
   {
    "duration": 44,
    "start_time": "2023-05-03T13:00:05.684Z"
   },
   {
    "duration": 33,
    "start_time": "2023-05-03T13:00:05.729Z"
   },
   {
    "duration": 21,
    "start_time": "2023-05-03T13:00:05.765Z"
   },
   {
    "duration": 15,
    "start_time": "2023-05-03T13:00:05.788Z"
   },
   {
    "duration": 33,
    "start_time": "2023-05-03T13:00:05.805Z"
   },
   {
    "duration": 24,
    "start_time": "2023-05-03T13:00:05.840Z"
   },
   {
    "duration": 15,
    "start_time": "2023-05-03T13:00:05.865Z"
   },
   {
    "duration": 32,
    "start_time": "2023-05-03T13:00:05.882Z"
   },
   {
    "duration": 32,
    "start_time": "2023-05-03T13:00:05.915Z"
   },
   {
    "duration": 36,
    "start_time": "2023-05-03T13:00:05.948Z"
   },
   {
    "duration": 22,
    "start_time": "2023-05-03T13:00:05.985Z"
   },
   {
    "duration": 18,
    "start_time": "2023-05-03T13:00:06.009Z"
   },
   {
    "duration": 68,
    "start_time": "2023-05-03T13:00:06.028Z"
   },
   {
    "duration": 56,
    "start_time": "2023-05-03T13:00:06.098Z"
   },
   {
    "duration": 35,
    "start_time": "2023-05-03T13:00:06.155Z"
   },
   {
    "duration": 116,
    "start_time": "2023-05-03T13:00:06.191Z"
   },
   {
    "duration": 6,
    "start_time": "2023-05-03T13:00:06.308Z"
   },
   {
    "duration": 40,
    "start_time": "2023-05-03T13:00:06.315Z"
   },
   {
    "duration": 56,
    "start_time": "2023-05-03T13:00:06.356Z"
   },
   {
    "duration": 103,
    "start_time": "2023-05-03T13:00:06.413Z"
   },
   {
    "duration": 101,
    "start_time": "2023-05-03T13:00:06.517Z"
   },
   {
    "duration": 4,
    "start_time": "2023-05-03T13:00:07.597Z"
   },
   {
    "duration": 5,
    "start_time": "2023-05-03T13:00:36.202Z"
   },
   {
    "duration": 140,
    "start_time": "2023-05-03T13:00:39.557Z"
   },
   {
    "duration": 18,
    "start_time": "2023-05-03T13:00:39.699Z"
   },
   {
    "duration": 19,
    "start_time": "2023-05-03T13:00:39.719Z"
   },
   {
    "duration": 22,
    "start_time": "2023-05-03T13:00:39.739Z"
   },
   {
    "duration": 3,
    "start_time": "2023-05-03T13:00:39.763Z"
   },
   {
    "duration": 29,
    "start_time": "2023-05-03T13:00:39.771Z"
   },
   {
    "duration": 19,
    "start_time": "2023-05-03T13:00:39.801Z"
   },
   {
    "duration": 30,
    "start_time": "2023-05-03T13:00:39.821Z"
   },
   {
    "duration": 8,
    "start_time": "2023-05-03T13:00:39.852Z"
   },
   {
    "duration": 11,
    "start_time": "2023-05-03T13:00:39.861Z"
   },
   {
    "duration": 54,
    "start_time": "2023-05-03T13:00:39.873Z"
   },
   {
    "duration": 24,
    "start_time": "2023-05-03T13:00:39.928Z"
   },
   {
    "duration": 18,
    "start_time": "2023-05-03T13:00:39.953Z"
   },
   {
    "duration": 10,
    "start_time": "2023-05-03T13:00:39.982Z"
   },
   {
    "duration": 14,
    "start_time": "2023-05-03T13:00:39.993Z"
   },
   {
    "duration": 21,
    "start_time": "2023-05-03T13:00:40.008Z"
   },
   {
    "duration": 15,
    "start_time": "2023-05-03T13:00:40.030Z"
   },
   {
    "duration": 11,
    "start_time": "2023-05-03T13:00:40.047Z"
   },
   {
    "duration": 29,
    "start_time": "2023-05-03T13:00:40.060Z"
   },
   {
    "duration": 23,
    "start_time": "2023-05-03T13:00:40.090Z"
   },
   {
    "duration": 19,
    "start_time": "2023-05-03T13:00:40.115Z"
   },
   {
    "duration": 27,
    "start_time": "2023-05-03T13:00:40.135Z"
   },
   {
    "duration": 6,
    "start_time": "2023-05-03T13:00:40.172Z"
   },
   {
    "duration": 22,
    "start_time": "2023-05-03T13:00:40.180Z"
   },
   {
    "duration": 20,
    "start_time": "2023-05-03T13:00:40.203Z"
   },
   {
    "duration": 5,
    "start_time": "2023-05-03T13:00:40.224Z"
   },
   {
    "duration": 108,
    "start_time": "2023-05-03T13:00:40.230Z"
   },
   {
    "duration": 5,
    "start_time": "2023-05-03T13:00:40.339Z"
   },
   {
    "duration": 13,
    "start_time": "2023-05-03T13:00:40.346Z"
   },
   {
    "duration": 5,
    "start_time": "2023-05-03T13:00:40.360Z"
   },
   {
    "duration": 5,
    "start_time": "2023-05-03T13:00:41.665Z"
   },
   {
    "duration": 4,
    "start_time": "2023-05-03T13:00:42.024Z"
   },
   {
    "duration": 4,
    "start_time": "2023-05-03T13:00:45.333Z"
   },
   {
    "duration": 12,
    "start_time": "2023-05-03T13:00:49.853Z"
   },
   {
    "duration": 13,
    "start_time": "2023-05-03T13:00:54.352Z"
   },
   {
    "duration": 11,
    "start_time": "2023-05-03T13:00:58.130Z"
   },
   {
    "duration": 124,
    "start_time": "2023-05-03T13:01:11.459Z"
   },
   {
    "duration": 16,
    "start_time": "2023-05-03T13:01:11.584Z"
   },
   {
    "duration": 24,
    "start_time": "2023-05-03T13:01:11.601Z"
   },
   {
    "duration": 33,
    "start_time": "2023-05-03T13:01:11.626Z"
   },
   {
    "duration": 3,
    "start_time": "2023-05-03T13:01:11.661Z"
   },
   {
    "duration": 27,
    "start_time": "2023-05-03T13:01:11.665Z"
   },
   {
    "duration": 11,
    "start_time": "2023-05-03T13:01:11.693Z"
   },
   {
    "duration": 31,
    "start_time": "2023-05-03T13:01:11.705Z"
   },
   {
    "duration": 10,
    "start_time": "2023-05-03T13:01:11.738Z"
   },
   {
    "duration": 22,
    "start_time": "2023-05-03T13:01:11.750Z"
   },
   {
    "duration": 4,
    "start_time": "2023-05-03T13:01:11.774Z"
   },
   {
    "duration": 20,
    "start_time": "2023-05-03T13:01:11.780Z"
   },
   {
    "duration": 20,
    "start_time": "2023-05-03T13:01:11.801Z"
   },
   {
    "duration": 16,
    "start_time": "2023-05-03T13:01:11.824Z"
   },
   {
    "duration": 13,
    "start_time": "2023-05-03T13:01:11.841Z"
   },
   {
    "duration": 15,
    "start_time": "2023-05-03T13:01:11.856Z"
   },
   {
    "duration": 7,
    "start_time": "2023-05-03T13:01:11.872Z"
   },
   {
    "duration": 14,
    "start_time": "2023-05-03T13:01:11.880Z"
   },
   {
    "duration": 27,
    "start_time": "2023-05-03T13:01:11.896Z"
   },
   {
    "duration": 22,
    "start_time": "2023-05-03T13:01:11.925Z"
   },
   {
    "duration": 27,
    "start_time": "2023-05-03T13:01:11.948Z"
   },
   {
    "duration": 36,
    "start_time": "2023-05-03T13:01:11.977Z"
   },
   {
    "duration": 5,
    "start_time": "2023-05-03T13:01:12.015Z"
   },
   {
    "duration": 17,
    "start_time": "2023-05-03T13:01:12.022Z"
   },
   {
    "duration": 23,
    "start_time": "2023-05-03T13:01:12.041Z"
   },
   {
    "duration": 22,
    "start_time": "2023-05-03T13:01:12.066Z"
   },
   {
    "duration": 81,
    "start_time": "2023-05-03T13:01:12.089Z"
   },
   {
    "duration": 5,
    "start_time": "2023-05-03T13:01:12.171Z"
   },
   {
    "duration": 5,
    "start_time": "2023-05-03T13:01:12.177Z"
   },
   {
    "duration": 4,
    "start_time": "2023-05-03T13:01:12.184Z"
   },
   {
    "duration": 97,
    "start_time": "2023-05-03T13:01:12.190Z"
   },
   {
    "duration": 99,
    "start_time": "2023-05-03T13:01:12.289Z"
   },
   {
    "duration": 11,
    "start_time": "2023-05-03T13:01:13.187Z"
   },
   {
    "duration": 12,
    "start_time": "2023-05-03T13:01:16.848Z"
   },
   {
    "duration": 3,
    "start_time": "2023-05-03T13:01:28.605Z"
   },
   {
    "duration": 4,
    "start_time": "2023-05-03T13:01:35.860Z"
   },
   {
    "duration": 4,
    "start_time": "2023-05-03T13:02:01.607Z"
   },
   {
    "duration": 131,
    "start_time": "2023-05-03T13:02:07.837Z"
   },
   {
    "duration": 17,
    "start_time": "2023-05-03T13:02:07.970Z"
   },
   {
    "duration": 18,
    "start_time": "2023-05-03T13:02:07.989Z"
   },
   {
    "duration": 19,
    "start_time": "2023-05-03T13:02:08.008Z"
   },
   {
    "duration": 4,
    "start_time": "2023-05-03T13:02:08.028Z"
   },
   {
    "duration": 19,
    "start_time": "2023-05-03T13:02:08.033Z"
   },
   {
    "duration": 19,
    "start_time": "2023-05-03T13:02:08.053Z"
   },
   {
    "duration": 28,
    "start_time": "2023-05-03T13:02:08.074Z"
   },
   {
    "duration": 16,
    "start_time": "2023-05-03T13:02:08.103Z"
   },
   {
    "duration": 17,
    "start_time": "2023-05-03T13:02:08.121Z"
   },
   {
    "duration": 12,
    "start_time": "2023-05-03T13:02:08.139Z"
   },
   {
    "duration": 17,
    "start_time": "2023-05-03T13:02:08.152Z"
   },
   {
    "duration": 14,
    "start_time": "2023-05-03T13:02:08.171Z"
   },
   {
    "duration": 9,
    "start_time": "2023-05-03T13:02:08.189Z"
   },
   {
    "duration": 10,
    "start_time": "2023-05-03T13:02:08.199Z"
   },
   {
    "duration": 7,
    "start_time": "2023-05-03T13:02:08.211Z"
   },
   {
    "duration": 7,
    "start_time": "2023-05-03T13:02:08.219Z"
   },
   {
    "duration": 5,
    "start_time": "2023-05-03T13:02:08.227Z"
   },
   {
    "duration": 26,
    "start_time": "2023-05-03T13:02:08.233Z"
   },
   {
    "duration": 31,
    "start_time": "2023-05-03T13:02:08.261Z"
   },
   {
    "duration": 16,
    "start_time": "2023-05-03T13:02:08.293Z"
   },
   {
    "duration": 16,
    "start_time": "2023-05-03T13:02:08.310Z"
   },
   {
    "duration": 4,
    "start_time": "2023-05-03T13:02:08.328Z"
   },
   {
    "duration": 8,
    "start_time": "2023-05-03T13:02:08.334Z"
   },
   {
    "duration": 49,
    "start_time": "2023-05-03T13:02:08.344Z"
   },
   {
    "duration": 5,
    "start_time": "2023-05-03T13:02:08.394Z"
   },
   {
    "duration": 97,
    "start_time": "2023-05-03T13:02:08.401Z"
   },
   {
    "duration": 5,
    "start_time": "2023-05-03T13:02:08.499Z"
   },
   {
    "duration": 9,
    "start_time": "2023-05-03T13:02:08.506Z"
   },
   {
    "duration": 7,
    "start_time": "2023-05-03T13:02:08.516Z"
   },
   {
    "duration": 109,
    "start_time": "2023-05-03T13:02:08.524Z"
   },
   {
    "duration": 111,
    "start_time": "2023-05-03T13:02:08.634Z"
   },
   {
    "duration": 4,
    "start_time": "2023-05-03T13:02:09.536Z"
   },
   {
    "duration": 68,
    "start_time": "2023-05-03T13:02:13.288Z"
   },
   {
    "duration": 15,
    "start_time": "2023-05-03T13:02:54.216Z"
   },
   {
    "duration": 13,
    "start_time": "2023-05-03T13:03:02.928Z"
   },
   {
    "duration": 3,
    "start_time": "2023-05-03T13:03:19.848Z"
   },
   {
    "duration": 81,
    "start_time": "2023-05-03T13:04:09.128Z"
   },
   {
    "duration": 18,
    "start_time": "2023-05-03T13:04:10.729Z"
   },
   {
    "duration": 128,
    "start_time": "2023-05-03T13:04:17.460Z"
   },
   {
    "duration": 13,
    "start_time": "2023-05-03T13:04:20.040Z"
   },
   {
    "duration": 93,
    "start_time": "2023-05-03T13:04:27.787Z"
   },
   {
    "duration": 15,
    "start_time": "2023-05-03T13:04:28.453Z"
   },
   {
    "duration": 125,
    "start_time": "2023-05-03T13:04:33.164Z"
   },
   {
    "duration": 14,
    "start_time": "2023-05-03T13:04:33.290Z"
   },
   {
    "duration": 12,
    "start_time": "2023-05-03T13:04:33.305Z"
   },
   {
    "duration": 17,
    "start_time": "2023-05-03T13:04:33.318Z"
   },
   {
    "duration": 3,
    "start_time": "2023-05-03T13:04:33.337Z"
   },
   {
    "duration": 32,
    "start_time": "2023-05-03T13:04:33.341Z"
   },
   {
    "duration": 7,
    "start_time": "2023-05-03T13:04:33.375Z"
   },
   {
    "duration": 22,
    "start_time": "2023-05-03T13:04:33.384Z"
   },
   {
    "duration": 8,
    "start_time": "2023-05-03T13:04:33.408Z"
   },
   {
    "duration": 4,
    "start_time": "2023-05-03T13:04:33.417Z"
   },
   {
    "duration": 7,
    "start_time": "2023-05-03T13:04:33.422Z"
   },
   {
    "duration": 14,
    "start_time": "2023-05-03T13:04:33.431Z"
   },
   {
    "duration": 35,
    "start_time": "2023-05-03T13:04:33.447Z"
   },
   {
    "duration": 12,
    "start_time": "2023-05-03T13:04:33.484Z"
   },
   {
    "duration": 16,
    "start_time": "2023-05-03T13:04:33.497Z"
   },
   {
    "duration": 8,
    "start_time": "2023-05-03T13:04:33.515Z"
   },
   {
    "duration": 11,
    "start_time": "2023-05-03T13:04:33.525Z"
   },
   {
    "duration": 9,
    "start_time": "2023-05-03T13:04:33.538Z"
   },
   {
    "duration": 20,
    "start_time": "2023-05-03T13:04:33.549Z"
   },
   {
    "duration": 20,
    "start_time": "2023-05-03T13:04:33.570Z"
   },
   {
    "duration": 27,
    "start_time": "2023-05-03T13:04:33.592Z"
   },
   {
    "duration": 16,
    "start_time": "2023-05-03T13:04:33.621Z"
   },
   {
    "duration": 4,
    "start_time": "2023-05-03T13:04:33.638Z"
   },
   {
    "duration": 29,
    "start_time": "2023-05-03T13:04:33.644Z"
   },
   {
    "duration": 16,
    "start_time": "2023-05-03T13:04:33.675Z"
   },
   {
    "duration": 10,
    "start_time": "2023-05-03T13:04:33.693Z"
   },
   {
    "duration": 90,
    "start_time": "2023-05-03T13:04:33.704Z"
   },
   {
    "duration": 5,
    "start_time": "2023-05-03T13:04:33.795Z"
   },
   {
    "duration": 5,
    "start_time": "2023-05-03T13:04:33.802Z"
   },
   {
    "duration": 12,
    "start_time": "2023-05-03T13:04:33.808Z"
   },
   {
    "duration": 99,
    "start_time": "2023-05-03T13:04:33.821Z"
   },
   {
    "duration": 112,
    "start_time": "2023-05-03T13:04:33.922Z"
   },
   {
    "duration": 12,
    "start_time": "2023-05-03T13:04:34.857Z"
   },
   {
    "duration": 128,
    "start_time": "2023-05-03T13:04:44.319Z"
   },
   {
    "duration": 14,
    "start_time": "2023-05-03T13:04:44.448Z"
   },
   {
    "duration": 29,
    "start_time": "2023-05-03T13:04:44.463Z"
   },
   {
    "duration": 18,
    "start_time": "2023-05-03T13:04:44.494Z"
   },
   {
    "duration": 3,
    "start_time": "2023-05-03T13:04:44.514Z"
   },
   {
    "duration": 13,
    "start_time": "2023-05-03T13:04:44.519Z"
   },
   {
    "duration": 10,
    "start_time": "2023-05-03T13:04:44.533Z"
   },
   {
    "duration": 34,
    "start_time": "2023-05-03T13:04:44.544Z"
   },
   {
    "duration": 7,
    "start_time": "2023-05-03T13:04:44.579Z"
   },
   {
    "duration": 23,
    "start_time": "2023-05-03T13:04:44.588Z"
   },
   {
    "duration": 7,
    "start_time": "2023-05-03T13:04:44.613Z"
   },
   {
    "duration": 30,
    "start_time": "2023-05-03T13:04:44.622Z"
   },
   {
    "duration": 8,
    "start_time": "2023-05-03T13:04:44.654Z"
   },
   {
    "duration": 15,
    "start_time": "2023-05-03T13:04:44.666Z"
   },
   {
    "duration": 17,
    "start_time": "2023-05-03T13:04:44.682Z"
   },
   {
    "duration": 12,
    "start_time": "2023-05-03T13:04:44.700Z"
   },
   {
    "duration": 22,
    "start_time": "2023-05-03T13:04:44.714Z"
   },
   {
    "duration": 11,
    "start_time": "2023-05-03T13:04:44.737Z"
   },
   {
    "duration": 36,
    "start_time": "2023-05-03T13:04:44.749Z"
   },
   {
    "duration": 18,
    "start_time": "2023-05-03T13:04:44.787Z"
   },
   {
    "duration": 48,
    "start_time": "2023-05-03T13:04:44.807Z"
   },
   {
    "duration": 14,
    "start_time": "2023-05-03T13:04:44.857Z"
   },
   {
    "duration": 5,
    "start_time": "2023-05-03T13:04:44.873Z"
   },
   {
    "duration": 25,
    "start_time": "2023-05-03T13:04:44.880Z"
   },
   {
    "duration": 29,
    "start_time": "2023-05-03T13:04:44.906Z"
   },
   {
    "duration": 6,
    "start_time": "2023-05-03T13:04:44.938Z"
   },
   {
    "duration": 99,
    "start_time": "2023-05-03T13:04:44.945Z"
   },
   {
    "duration": 5,
    "start_time": "2023-05-03T13:04:45.046Z"
   },
   {
    "duration": 27,
    "start_time": "2023-05-03T13:04:45.052Z"
   },
   {
    "duration": 32,
    "start_time": "2023-05-03T13:04:45.081Z"
   },
   {
    "duration": 118,
    "start_time": "2023-05-03T13:04:45.114Z"
   },
   {
    "duration": 107,
    "start_time": "2023-05-03T13:04:45.234Z"
   },
   {
    "duration": 12,
    "start_time": "2023-05-03T13:04:46.208Z"
   },
   {
    "duration": 11,
    "start_time": "2023-05-03T13:04:54.160Z"
   },
   {
    "duration": 10,
    "start_time": "2023-05-03T13:04:54.173Z"
   },
   {
    "duration": 26,
    "start_time": "2023-05-03T13:04:54.184Z"
   },
   {
    "duration": 7,
    "start_time": "2023-05-03T13:04:54.220Z"
   },
   {
    "duration": 141,
    "start_time": "2023-05-03T13:04:54.228Z"
   },
   {
    "duration": 6,
    "start_time": "2023-05-03T13:04:54.461Z"
   },
   {
    "duration": 16,
    "start_time": "2023-05-03T13:04:54.469Z"
   },
   {
    "duration": 160,
    "start_time": "2023-05-03T13:04:56.162Z"
   },
   {
    "duration": 3,
    "start_time": "2023-05-03T13:04:56.324Z"
   },
   {
    "duration": 178,
    "start_time": "2023-05-03T13:04:56.328Z"
   },
   {
    "duration": 17,
    "start_time": "2023-05-03T13:04:56.507Z"
   },
   {
    "duration": 149,
    "start_time": "2023-05-03T13:04:56.526Z"
   },
   {
    "duration": 257,
    "start_time": "2023-05-03T13:04:56.676Z"
   },
   {
    "duration": 115,
    "start_time": "2023-05-03T13:04:56.934Z"
   },
   {
    "duration": 259,
    "start_time": "2023-05-03T13:04:57.051Z"
   },
   {
    "duration": 222,
    "start_time": "2023-05-03T13:04:57.311Z"
   },
   {
    "duration": 185,
    "start_time": "2023-05-03T13:04:57.534Z"
   },
   {
    "duration": 126,
    "start_time": "2023-05-03T13:05:04.961Z"
   },
   {
    "duration": 14,
    "start_time": "2023-05-03T13:05:05.089Z"
   },
   {
    "duration": 43,
    "start_time": "2023-05-03T13:05:05.104Z"
   },
   {
    "duration": 30,
    "start_time": "2023-05-03T13:05:05.148Z"
   },
   {
    "duration": 3,
    "start_time": "2023-05-03T13:05:05.180Z"
   },
   {
    "duration": 22,
    "start_time": "2023-05-03T13:05:05.184Z"
   },
   {
    "duration": 10,
    "start_time": "2023-05-03T13:05:05.208Z"
   },
   {
    "duration": 31,
    "start_time": "2023-05-03T13:05:05.220Z"
   },
   {
    "duration": 14,
    "start_time": "2023-05-03T13:05:05.252Z"
   },
   {
    "duration": 18,
    "start_time": "2023-05-03T13:05:05.267Z"
   },
   {
    "duration": 17,
    "start_time": "2023-05-03T13:05:05.287Z"
   },
   {
    "duration": 27,
    "start_time": "2023-05-03T13:05:05.306Z"
   },
   {
    "duration": 30,
    "start_time": "2023-05-03T13:05:05.336Z"
   },
   {
    "duration": 11,
    "start_time": "2023-05-03T13:05:05.370Z"
   },
   {
    "duration": 9,
    "start_time": "2023-05-03T13:05:05.383Z"
   },
   {
    "duration": 13,
    "start_time": "2023-05-03T13:05:05.393Z"
   },
   {
    "duration": 25,
    "start_time": "2023-05-03T13:05:05.407Z"
   },
   {
    "duration": 12,
    "start_time": "2023-05-03T13:05:05.434Z"
   },
   {
    "duration": 42,
    "start_time": "2023-05-03T13:05:05.447Z"
   },
   {
    "duration": 109,
    "start_time": "2023-05-03T13:05:05.490Z"
   },
   {
    "duration": 29,
    "start_time": "2023-05-03T13:05:05.601Z"
   },
   {
    "duration": 68,
    "start_time": "2023-05-03T13:05:05.631Z"
   },
   {
    "duration": 44,
    "start_time": "2023-05-03T13:05:05.701Z"
   },
   {
    "duration": 29,
    "start_time": "2023-05-03T13:05:05.746Z"
   },
   {
    "duration": 19,
    "start_time": "2023-05-03T13:05:05.777Z"
   },
   {
    "duration": 26,
    "start_time": "2023-05-03T13:05:05.798Z"
   },
   {
    "duration": 94,
    "start_time": "2023-05-03T13:05:05.826Z"
   },
   {
    "duration": 6,
    "start_time": "2023-05-03T13:05:05.921Z"
   },
   {
    "duration": 24,
    "start_time": "2023-05-03T13:05:05.929Z"
   },
   {
    "duration": 18,
    "start_time": "2023-05-03T13:05:05.954Z"
   },
   {
    "duration": 110,
    "start_time": "2023-05-03T13:05:05.974Z"
   },
   {
    "duration": 124,
    "start_time": "2023-05-03T13:05:06.085Z"
   },
   {
    "duration": 12,
    "start_time": "2023-05-03T13:05:07.305Z"
   },
   {
    "duration": 127,
    "start_time": "2023-05-03T13:05:17.435Z"
   },
   {
    "duration": 14,
    "start_time": "2023-05-03T13:05:17.564Z"
   },
   {
    "duration": 35,
    "start_time": "2023-05-03T13:05:17.580Z"
   },
   {
    "duration": 26,
    "start_time": "2023-05-03T13:05:17.616Z"
   },
   {
    "duration": 9,
    "start_time": "2023-05-03T13:05:17.644Z"
   },
   {
    "duration": 15,
    "start_time": "2023-05-03T13:05:17.655Z"
   },
   {
    "duration": 8,
    "start_time": "2023-05-03T13:05:17.671Z"
   },
   {
    "duration": 30,
    "start_time": "2023-05-03T13:05:17.680Z"
   },
   {
    "duration": 7,
    "start_time": "2023-05-03T13:05:17.712Z"
   },
   {
    "duration": 7,
    "start_time": "2023-05-03T13:05:17.720Z"
   },
   {
    "duration": 6,
    "start_time": "2023-05-03T13:05:17.728Z"
   },
   {
    "duration": 19,
    "start_time": "2023-05-03T13:05:17.735Z"
   },
   {
    "duration": 6,
    "start_time": "2023-05-03T13:05:17.771Z"
   },
   {
    "duration": 15,
    "start_time": "2023-05-03T13:05:17.779Z"
   },
   {
    "duration": 10,
    "start_time": "2023-05-03T13:05:17.795Z"
   },
   {
    "duration": 29,
    "start_time": "2023-05-03T13:05:17.806Z"
   },
   {
    "duration": 7,
    "start_time": "2023-05-03T13:05:17.836Z"
   },
   {
    "duration": 9,
    "start_time": "2023-05-03T13:05:17.844Z"
   },
   {
    "duration": 25,
    "start_time": "2023-05-03T13:05:17.854Z"
   },
   {
    "duration": 19,
    "start_time": "2023-05-03T13:05:17.880Z"
   },
   {
    "duration": 18,
    "start_time": "2023-05-03T13:05:17.900Z"
   },
   {
    "duration": 15,
    "start_time": "2023-05-03T13:05:17.919Z"
   },
   {
    "duration": 5,
    "start_time": "2023-05-03T13:05:17.936Z"
   },
   {
    "duration": 33,
    "start_time": "2023-05-03T13:05:17.943Z"
   },
   {
    "duration": 16,
    "start_time": "2023-05-03T13:05:17.978Z"
   },
   {
    "duration": 19,
    "start_time": "2023-05-03T13:05:17.995Z"
   },
   {
    "duration": 87,
    "start_time": "2023-05-03T13:05:18.016Z"
   },
   {
    "duration": 5,
    "start_time": "2023-05-03T13:05:18.105Z"
   },
   {
    "duration": 6,
    "start_time": "2023-05-03T13:05:18.111Z"
   },
   {
    "duration": 6,
    "start_time": "2023-05-03T13:05:18.119Z"
   },
   {
    "duration": 167,
    "start_time": "2023-05-03T13:05:18.127Z"
   },
   {
    "duration": 105,
    "start_time": "2023-05-03T13:05:18.295Z"
   },
   {
    "duration": 15,
    "start_time": "2023-05-03T13:05:19.305Z"
   },
   {
    "duration": 135,
    "start_time": "2023-05-03T13:05:27.501Z"
   },
   {
    "duration": 15,
    "start_time": "2023-05-03T13:05:27.638Z"
   },
   {
    "duration": 12,
    "start_time": "2023-05-03T13:05:27.655Z"
   },
   {
    "duration": 23,
    "start_time": "2023-05-03T13:05:27.669Z"
   },
   {
    "duration": 4,
    "start_time": "2023-05-03T13:05:27.694Z"
   },
   {
    "duration": 15,
    "start_time": "2023-05-03T13:05:27.699Z"
   },
   {
    "duration": 9,
    "start_time": "2023-05-03T13:05:27.716Z"
   },
   {
    "duration": 59,
    "start_time": "2023-05-03T13:05:27.726Z"
   },
   {
    "duration": 8,
    "start_time": "2023-05-03T13:05:27.786Z"
   },
   {
    "duration": 6,
    "start_time": "2023-05-03T13:05:27.796Z"
   },
   {
    "duration": 16,
    "start_time": "2023-05-03T13:05:27.803Z"
   },
   {
    "duration": 18,
    "start_time": "2023-05-03T13:05:27.821Z"
   },
   {
    "duration": 15,
    "start_time": "2023-05-03T13:05:27.840Z"
   },
   {
    "duration": 16,
    "start_time": "2023-05-03T13:05:27.858Z"
   },
   {
    "duration": 7,
    "start_time": "2023-05-03T13:05:27.876Z"
   },
   {
    "duration": 9,
    "start_time": "2023-05-03T13:05:27.884Z"
   },
   {
    "duration": 8,
    "start_time": "2023-05-03T13:05:27.895Z"
   },
   {
    "duration": 7,
    "start_time": "2023-05-03T13:05:27.904Z"
   },
   {
    "duration": 39,
    "start_time": "2023-05-03T13:05:27.913Z"
   },
   {
    "duration": 29,
    "start_time": "2023-05-03T13:05:27.954Z"
   },
   {
    "duration": 19,
    "start_time": "2023-05-03T13:05:27.985Z"
   },
   {
    "duration": 15,
    "start_time": "2023-05-03T13:05:28.006Z"
   },
   {
    "duration": 4,
    "start_time": "2023-05-03T13:05:28.023Z"
   },
   {
    "duration": 9,
    "start_time": "2023-05-03T13:05:28.028Z"
   },
   {
    "duration": 49,
    "start_time": "2023-05-03T13:05:28.038Z"
   },
   {
    "duration": 8,
    "start_time": "2023-05-03T13:05:28.088Z"
   },
   {
    "duration": 102,
    "start_time": "2023-05-03T13:05:28.097Z"
   },
   {
    "duration": 6,
    "start_time": "2023-05-03T13:05:28.201Z"
   },
   {
    "duration": 9,
    "start_time": "2023-05-03T13:05:28.208Z"
   },
   {
    "duration": 10,
    "start_time": "2023-05-03T13:05:28.218Z"
   },
   {
    "duration": 127,
    "start_time": "2023-05-03T13:05:28.230Z"
   },
   {
    "duration": 127,
    "start_time": "2023-05-03T13:05:28.358Z"
   },
   {
    "duration": 13,
    "start_time": "2023-05-03T13:05:29.264Z"
   },
   {
    "duration": 125,
    "start_time": "2023-05-03T13:05:39.438Z"
   },
   {
    "duration": 14,
    "start_time": "2023-05-03T13:05:39.564Z"
   },
   {
    "duration": 19,
    "start_time": "2023-05-03T13:05:39.579Z"
   },
   {
    "duration": 21,
    "start_time": "2023-05-03T13:05:39.600Z"
   },
   {
    "duration": 3,
    "start_time": "2023-05-03T13:05:39.623Z"
   },
   {
    "duration": 27,
    "start_time": "2023-05-03T13:05:39.627Z"
   },
   {
    "duration": 27,
    "start_time": "2023-05-03T13:05:39.655Z"
   },
   {
    "duration": 26,
    "start_time": "2023-05-03T13:05:39.683Z"
   },
   {
    "duration": 6,
    "start_time": "2023-05-03T13:05:39.711Z"
   },
   {
    "duration": 3,
    "start_time": "2023-05-03T13:05:39.719Z"
   },
   {
    "duration": 11,
    "start_time": "2023-05-03T13:05:39.723Z"
   },
   {
    "duration": 16,
    "start_time": "2023-05-03T13:05:39.735Z"
   },
   {
    "duration": 7,
    "start_time": "2023-05-03T13:05:39.752Z"
   },
   {
    "duration": 6,
    "start_time": "2023-05-03T13:05:39.772Z"
   },
   {
    "duration": 8,
    "start_time": "2023-05-03T13:05:39.779Z"
   },
   {
    "duration": 10,
    "start_time": "2023-05-03T13:05:39.788Z"
   },
   {
    "duration": 7,
    "start_time": "2023-05-03T13:05:39.800Z"
   },
   {
    "duration": 5,
    "start_time": "2023-05-03T13:05:39.809Z"
   },
   {
    "duration": 18,
    "start_time": "2023-05-03T13:05:39.816Z"
   },
   {
    "duration": 48,
    "start_time": "2023-05-03T13:05:39.835Z"
   },
   {
    "duration": 17,
    "start_time": "2023-05-03T13:05:39.885Z"
   },
   {
    "duration": 15,
    "start_time": "2023-05-03T13:05:39.903Z"
   },
   {
    "duration": 3,
    "start_time": "2023-05-03T13:05:39.920Z"
   },
   {
    "duration": 11,
    "start_time": "2023-05-03T13:05:39.924Z"
   },
   {
    "duration": 41,
    "start_time": "2023-05-03T13:05:39.937Z"
   },
   {
    "duration": 7,
    "start_time": "2023-05-03T13:05:39.979Z"
   },
   {
    "duration": 94,
    "start_time": "2023-05-03T13:05:39.987Z"
   },
   {
    "duration": 6,
    "start_time": "2023-05-03T13:05:40.082Z"
   },
   {
    "duration": 6,
    "start_time": "2023-05-03T13:05:40.089Z"
   },
   {
    "duration": 4,
    "start_time": "2023-05-03T13:05:40.097Z"
   },
   {
    "duration": 108,
    "start_time": "2023-05-03T13:05:40.103Z"
   },
   {
    "duration": 126,
    "start_time": "2023-05-03T13:05:40.213Z"
   },
   {
    "duration": 19,
    "start_time": "2023-05-03T13:05:43.905Z"
   },
   {
    "duration": 169,
    "start_time": "2023-05-03T13:05:57.429Z"
   },
   {
    "duration": 22,
    "start_time": "2023-05-03T13:05:57.602Z"
   },
   {
    "duration": 18,
    "start_time": "2023-05-03T13:05:57.953Z"
   },
   {
    "duration": 128,
    "start_time": "2023-05-03T13:05:57.974Z"
   },
   {
    "duration": 3,
    "start_time": "2023-05-03T13:05:58.104Z"
   },
   {
    "duration": 17,
    "start_time": "2023-05-03T13:05:58.108Z"
   },
   {
    "duration": 23,
    "start_time": "2023-05-03T13:05:58.127Z"
   },
   {
    "duration": 50,
    "start_time": "2023-05-03T13:05:58.152Z"
   },
   {
    "duration": 11,
    "start_time": "2023-05-03T13:05:59.025Z"
   },
   {
    "duration": 22,
    "start_time": "2023-05-03T13:05:59.039Z"
   },
   {
    "duration": 15,
    "start_time": "2023-05-03T13:05:59.063Z"
   },
   {
    "duration": 16,
    "start_time": "2023-05-03T13:05:59.108Z"
   },
   {
    "duration": 15,
    "start_time": "2023-05-03T13:05:59.126Z"
   },
   {
    "duration": 10,
    "start_time": "2023-05-03T13:05:59.143Z"
   },
   {
    "duration": 8,
    "start_time": "2023-05-03T13:05:59.155Z"
   },
   {
    "duration": 11,
    "start_time": "2023-05-03T13:05:59.165Z"
   },
   {
    "duration": 10,
    "start_time": "2023-05-03T13:05:59.177Z"
   },
   {
    "duration": 4,
    "start_time": "2023-05-03T13:06:07.003Z"
   },
   {
    "duration": 34,
    "start_time": "2023-05-03T13:06:07.010Z"
   },
   {
    "duration": 30,
    "start_time": "2023-05-03T13:06:07.046Z"
   },
   {
    "duration": 26,
    "start_time": "2023-05-03T13:06:07.078Z"
   },
   {
    "duration": 20,
    "start_time": "2023-05-03T13:06:07.106Z"
   },
   {
    "duration": 5,
    "start_time": "2023-05-03T13:06:07.127Z"
   },
   {
    "duration": 40,
    "start_time": "2023-05-03T13:06:07.133Z"
   },
   {
    "duration": 28,
    "start_time": "2023-05-03T13:06:07.174Z"
   },
   {
    "duration": 7,
    "start_time": "2023-05-03T13:06:07.204Z"
   },
   {
    "duration": 143,
    "start_time": "2023-05-03T13:06:07.213Z"
   },
   {
    "duration": 6,
    "start_time": "2023-05-03T13:06:07.359Z"
   },
   {
    "duration": 4,
    "start_time": "2023-05-03T13:06:07.373Z"
   },
   {
    "duration": 20,
    "start_time": "2023-05-03T13:06:07.379Z"
   },
   {
    "duration": 105,
    "start_time": "2023-05-03T13:06:07.401Z"
   },
   {
    "duration": 119,
    "start_time": "2023-05-03T13:06:07.508Z"
   },
   {
    "duration": 17,
    "start_time": "2023-05-03T13:06:07.629Z"
   },
   {
    "duration": 10,
    "start_time": "2023-05-03T13:06:07.648Z"
   },
   {
    "duration": 23,
    "start_time": "2023-05-03T13:06:07.660Z"
   },
   {
    "duration": 11,
    "start_time": "2023-05-03T13:06:07.685Z"
   },
   {
    "duration": 216,
    "start_time": "2023-05-03T13:06:07.697Z"
   },
   {
    "duration": 7,
    "start_time": "2023-05-03T13:06:07.915Z"
   },
   {
    "duration": 19,
    "start_time": "2023-05-03T13:06:07.924Z"
   },
   {
    "duration": 159,
    "start_time": "2023-05-03T13:06:07.946Z"
   },
   {
    "duration": 6,
    "start_time": "2023-05-03T13:06:08.107Z"
   },
   {
    "duration": 143,
    "start_time": "2023-05-03T13:06:08.114Z"
   },
   {
    "duration": 27,
    "start_time": "2023-05-03T13:06:08.259Z"
   },
   {
    "duration": 179,
    "start_time": "2023-05-03T13:06:08.287Z"
   },
   {
    "duration": 324,
    "start_time": "2023-05-03T13:06:08.468Z"
   },
   {
    "duration": 166,
    "start_time": "2023-05-03T13:06:08.793Z"
   },
   {
    "duration": 325,
    "start_time": "2023-05-03T13:06:08.961Z"
   },
   {
    "duration": 250,
    "start_time": "2023-05-03T13:06:09.288Z"
   },
   {
    "duration": 247,
    "start_time": "2023-05-03T13:06:09.539Z"
   },
   {
    "duration": 155,
    "start_time": "2023-05-03T13:06:22.893Z"
   },
   {
    "duration": 14,
    "start_time": "2023-05-03T13:06:23.050Z"
   },
   {
    "duration": 14,
    "start_time": "2023-05-03T13:06:23.066Z"
   },
   {
    "duration": 44,
    "start_time": "2023-05-03T13:06:23.082Z"
   },
   {
    "duration": 4,
    "start_time": "2023-05-03T13:06:23.129Z"
   },
   {
    "duration": 19,
    "start_time": "2023-05-03T13:06:23.134Z"
   },
   {
    "duration": 19,
    "start_time": "2023-05-03T13:06:23.155Z"
   },
   {
    "duration": 23,
    "start_time": "2023-05-03T13:06:23.176Z"
   },
   {
    "duration": 8,
    "start_time": "2023-05-03T13:06:23.201Z"
   },
   {
    "duration": 6,
    "start_time": "2023-05-03T13:06:23.210Z"
   },
   {
    "duration": 6,
    "start_time": "2023-05-03T13:06:23.217Z"
   },
   {
    "duration": 14,
    "start_time": "2023-05-03T13:06:23.225Z"
   },
   {
    "duration": 33,
    "start_time": "2023-05-03T13:06:23.241Z"
   },
   {
    "duration": 7,
    "start_time": "2023-05-03T13:06:23.276Z"
   },
   {
    "duration": 10,
    "start_time": "2023-05-03T13:06:23.284Z"
   },
   {
    "duration": 10,
    "start_time": "2023-05-03T13:06:23.295Z"
   },
   {
    "duration": 12,
    "start_time": "2023-05-03T13:06:23.306Z"
   },
   {
    "duration": 4,
    "start_time": "2023-05-03T13:06:23.320Z"
   },
   {
    "duration": 58,
    "start_time": "2023-05-03T13:06:23.326Z"
   },
   {
    "duration": 26,
    "start_time": "2023-05-03T13:06:23.385Z"
   },
   {
    "duration": 24,
    "start_time": "2023-05-03T13:06:23.413Z"
   },
   {
    "duration": 32,
    "start_time": "2023-05-03T13:06:23.439Z"
   },
   {
    "duration": 4,
    "start_time": "2023-05-03T13:06:23.473Z"
   },
   {
    "duration": 17,
    "start_time": "2023-05-03T13:06:23.479Z"
   },
   {
    "duration": 19,
    "start_time": "2023-05-03T13:06:23.497Z"
   },
   {
    "duration": 18,
    "start_time": "2023-05-03T13:06:23.518Z"
   },
   {
    "duration": 107,
    "start_time": "2023-05-03T13:06:23.538Z"
   },
   {
    "duration": 5,
    "start_time": "2023-05-03T13:06:23.647Z"
   },
   {
    "duration": 19,
    "start_time": "2023-05-03T13:06:23.653Z"
   },
   {
    "duration": 5,
    "start_time": "2023-05-03T13:06:23.673Z"
   },
   {
    "duration": 152,
    "start_time": "2023-05-03T13:06:23.679Z"
   },
   {
    "duration": 110,
    "start_time": "2023-05-03T13:06:23.833Z"
   },
   {
    "duration": 15,
    "start_time": "2023-05-03T13:06:25.895Z"
   },
   {
    "duration": 137,
    "start_time": "2023-05-03T13:06:32.885Z"
   },
   {
    "duration": 15,
    "start_time": "2023-05-03T13:06:33.024Z"
   },
   {
    "duration": 19,
    "start_time": "2023-05-03T13:06:33.040Z"
   },
   {
    "duration": 24,
    "start_time": "2023-05-03T13:06:33.061Z"
   },
   {
    "duration": 4,
    "start_time": "2023-05-03T13:06:33.086Z"
   },
   {
    "duration": 21,
    "start_time": "2023-05-03T13:06:33.092Z"
   },
   {
    "duration": 9,
    "start_time": "2023-05-03T13:06:33.115Z"
   },
   {
    "duration": 27,
    "start_time": "2023-05-03T13:06:33.125Z"
   },
   {
    "duration": 27,
    "start_time": "2023-05-03T13:06:33.154Z"
   },
   {
    "duration": 4,
    "start_time": "2023-05-03T13:06:33.185Z"
   },
   {
    "duration": 11,
    "start_time": "2023-05-03T13:06:33.191Z"
   },
   {
    "duration": 21,
    "start_time": "2023-05-03T13:06:33.204Z"
   },
   {
    "duration": 11,
    "start_time": "2023-05-03T13:06:33.227Z"
   },
   {
    "duration": 11,
    "start_time": "2023-05-03T13:06:33.240Z"
   },
   {
    "duration": 20,
    "start_time": "2023-05-03T13:06:33.252Z"
   },
   {
    "duration": 10,
    "start_time": "2023-05-03T13:06:33.273Z"
   },
   {
    "duration": 9,
    "start_time": "2023-05-03T13:06:33.285Z"
   },
   {
    "duration": 6,
    "start_time": "2023-05-03T13:06:33.295Z"
   },
   {
    "duration": 23,
    "start_time": "2023-05-03T13:06:33.302Z"
   },
   {
    "duration": 20,
    "start_time": "2023-05-03T13:06:33.326Z"
   },
   {
    "duration": 41,
    "start_time": "2023-05-03T13:06:33.347Z"
   },
   {
    "duration": 14,
    "start_time": "2023-05-03T13:06:33.390Z"
   },
   {
    "duration": 5,
    "start_time": "2023-05-03T13:06:33.405Z"
   },
   {
    "duration": 7,
    "start_time": "2023-05-03T13:06:33.412Z"
   },
   {
    "duration": 17,
    "start_time": "2023-05-03T13:06:33.421Z"
   },
   {
    "duration": 36,
    "start_time": "2023-05-03T13:06:33.439Z"
   },
   {
    "duration": 95,
    "start_time": "2023-05-03T13:06:33.477Z"
   },
   {
    "duration": 6,
    "start_time": "2023-05-03T13:06:33.575Z"
   },
   {
    "duration": 12,
    "start_time": "2023-05-03T13:06:33.583Z"
   },
   {
    "duration": 7,
    "start_time": "2023-05-03T13:06:33.596Z"
   },
   {
    "duration": 177,
    "start_time": "2023-05-03T13:06:33.604Z"
   },
   {
    "duration": 112,
    "start_time": "2023-05-03T13:06:33.783Z"
   },
   {
    "duration": 13,
    "start_time": "2023-05-03T13:06:34.660Z"
   },
   {
    "duration": 125,
    "start_time": "2023-05-03T13:06:50.610Z"
   },
   {
    "duration": 14,
    "start_time": "2023-05-03T13:06:50.736Z"
   },
   {
    "duration": 17,
    "start_time": "2023-05-03T13:06:50.751Z"
   },
   {
    "duration": 19,
    "start_time": "2023-05-03T13:06:50.770Z"
   },
   {
    "duration": 8,
    "start_time": "2023-05-03T13:06:50.791Z"
   },
   {
    "duration": 18,
    "start_time": "2023-05-03T13:06:50.800Z"
   },
   {
    "duration": 12,
    "start_time": "2023-05-03T13:06:50.820Z"
   },
   {
    "duration": 43,
    "start_time": "2023-05-03T13:06:50.833Z"
   },
   {
    "duration": 11,
    "start_time": "2023-05-03T13:06:50.878Z"
   },
   {
    "duration": 27,
    "start_time": "2023-05-03T13:06:50.891Z"
   },
   {
    "duration": 12,
    "start_time": "2023-05-03T13:06:50.920Z"
   },
   {
    "duration": 42,
    "start_time": "2023-05-03T13:06:50.933Z"
   },
   {
    "duration": 19,
    "start_time": "2023-05-03T13:06:50.976Z"
   },
   {
    "duration": 19,
    "start_time": "2023-05-03T13:06:50.998Z"
   },
   {
    "duration": 34,
    "start_time": "2023-05-03T13:06:51.018Z"
   },
   {
    "duration": 14,
    "start_time": "2023-05-03T13:06:51.054Z"
   },
   {
    "duration": 10,
    "start_time": "2023-05-03T13:06:51.070Z"
   },
   {
    "duration": 19,
    "start_time": "2023-05-03T13:06:51.082Z"
   },
   {
    "duration": 29,
    "start_time": "2023-05-03T13:06:51.103Z"
   },
   {
    "duration": 27,
    "start_time": "2023-05-03T13:06:51.134Z"
   },
   {
    "duration": 54,
    "start_time": "2023-05-03T13:06:51.163Z"
   },
   {
    "duration": 15,
    "start_time": "2023-05-03T13:06:51.219Z"
   },
   {
    "duration": 7,
    "start_time": "2023-05-03T13:06:51.236Z"
   },
   {
    "duration": 15,
    "start_time": "2023-05-03T13:06:51.244Z"
   },
   {
    "duration": 28,
    "start_time": "2023-05-03T13:06:51.261Z"
   },
   {
    "duration": 23,
    "start_time": "2023-05-03T13:06:51.291Z"
   },
   {
    "duration": 102,
    "start_time": "2023-05-03T13:06:51.316Z"
   },
   {
    "duration": 5,
    "start_time": "2023-05-03T13:06:51.420Z"
   },
   {
    "duration": 7,
    "start_time": "2023-05-03T13:06:51.426Z"
   },
   {
    "duration": 10,
    "start_time": "2023-05-03T13:06:51.434Z"
   },
   {
    "duration": 106,
    "start_time": "2023-05-03T13:06:51.446Z"
   },
   {
    "duration": 137,
    "start_time": "2023-05-03T13:06:51.553Z"
   },
   {
    "duration": 11,
    "start_time": "2023-05-03T13:06:52.599Z"
   },
   {
    "duration": 131,
    "start_time": "2023-05-03T13:07:17.036Z"
   },
   {
    "duration": 14,
    "start_time": "2023-05-03T13:07:17.169Z"
   },
   {
    "duration": 19,
    "start_time": "2023-05-03T13:07:17.184Z"
   },
   {
    "duration": 28,
    "start_time": "2023-05-03T13:07:17.205Z"
   },
   {
    "duration": 4,
    "start_time": "2023-05-03T13:07:17.236Z"
   },
   {
    "duration": 32,
    "start_time": "2023-05-03T13:07:17.242Z"
   },
   {
    "duration": 9,
    "start_time": "2023-05-03T13:07:17.276Z"
   },
   {
    "duration": 22,
    "start_time": "2023-05-03T13:07:17.287Z"
   },
   {
    "duration": 7,
    "start_time": "2023-05-03T13:07:17.311Z"
   },
   {
    "duration": 8,
    "start_time": "2023-05-03T13:07:17.320Z"
   },
   {
    "duration": 12,
    "start_time": "2023-05-03T13:07:17.329Z"
   },
   {
    "duration": 43,
    "start_time": "2023-05-03T13:07:17.343Z"
   },
   {
    "duration": 8,
    "start_time": "2023-05-03T13:07:17.388Z"
   },
   {
    "duration": 11,
    "start_time": "2023-05-03T13:07:17.399Z"
   },
   {
    "duration": 11,
    "start_time": "2023-05-03T13:07:17.412Z"
   },
   {
    "duration": 12,
    "start_time": "2023-05-03T13:07:17.424Z"
   },
   {
    "duration": 9,
    "start_time": "2023-05-03T13:07:17.438Z"
   },
   {
    "duration": 27,
    "start_time": "2023-05-03T13:07:17.449Z"
   },
   {
    "duration": 32,
    "start_time": "2023-05-03T13:07:17.478Z"
   },
   {
    "duration": 23,
    "start_time": "2023-05-03T13:07:17.512Z"
   },
   {
    "duration": 45,
    "start_time": "2023-05-03T13:07:17.537Z"
   },
   {
    "duration": 24,
    "start_time": "2023-05-03T13:07:17.584Z"
   },
   {
    "duration": 5,
    "start_time": "2023-05-03T13:07:17.609Z"
   },
   {
    "duration": 20,
    "start_time": "2023-05-03T13:07:17.616Z"
   },
   {
    "duration": 46,
    "start_time": "2023-05-03T13:07:17.638Z"
   },
   {
    "duration": 7,
    "start_time": "2023-05-03T13:07:17.686Z"
   },
   {
    "duration": 104,
    "start_time": "2023-05-03T13:07:17.695Z"
   },
   {
    "duration": 5,
    "start_time": "2023-05-03T13:07:17.801Z"
   },
   {
    "duration": 6,
    "start_time": "2023-05-03T13:07:17.807Z"
   },
   {
    "duration": 11,
    "start_time": "2023-05-03T13:07:17.815Z"
   },
   {
    "duration": 117,
    "start_time": "2023-05-03T13:07:17.827Z"
   },
   {
    "duration": 121,
    "start_time": "2023-05-03T13:07:17.946Z"
   },
   {
    "duration": 14,
    "start_time": "2023-05-03T13:07:21.904Z"
   },
   {
    "duration": 129,
    "start_time": "2023-05-03T13:07:35.166Z"
   },
   {
    "duration": 13,
    "start_time": "2023-05-03T13:07:35.297Z"
   },
   {
    "duration": 25,
    "start_time": "2023-05-03T13:07:35.311Z"
   },
   {
    "duration": 51,
    "start_time": "2023-05-03T13:07:35.338Z"
   },
   {
    "duration": 5,
    "start_time": "2023-05-03T13:07:35.392Z"
   },
   {
    "duration": 27,
    "start_time": "2023-05-03T13:07:35.399Z"
   },
   {
    "duration": 10,
    "start_time": "2023-05-03T13:07:35.428Z"
   },
   {
    "duration": 30,
    "start_time": "2023-05-03T13:07:35.439Z"
   },
   {
    "duration": 10,
    "start_time": "2023-05-03T13:07:35.471Z"
   },
   {
    "duration": 7,
    "start_time": "2023-05-03T13:07:35.483Z"
   },
   {
    "duration": 10,
    "start_time": "2023-05-03T13:07:35.492Z"
   },
   {
    "duration": 19,
    "start_time": "2023-05-03T13:07:35.504Z"
   },
   {
    "duration": 31,
    "start_time": "2023-05-03T13:07:35.525Z"
   },
   {
    "duration": 46,
    "start_time": "2023-05-03T13:07:35.559Z"
   },
   {
    "duration": 62,
    "start_time": "2023-05-03T13:07:35.606Z"
   },
   {
    "duration": 27,
    "start_time": "2023-05-03T13:07:35.670Z"
   },
   {
    "duration": 42,
    "start_time": "2023-05-03T13:07:35.699Z"
   },
   {
    "duration": 5,
    "start_time": "2023-05-03T13:07:35.743Z"
   },
   {
    "duration": 35,
    "start_time": "2023-05-03T13:07:35.751Z"
   },
   {
    "duration": 22,
    "start_time": "2023-05-03T13:07:35.787Z"
   },
   {
    "duration": 19,
    "start_time": "2023-05-03T13:07:35.810Z"
   },
   {
    "duration": 19,
    "start_time": "2023-05-03T13:07:35.830Z"
   },
   {
    "duration": 6,
    "start_time": "2023-05-03T13:07:35.873Z"
   },
   {
    "duration": 15,
    "start_time": "2023-05-03T13:07:35.880Z"
   },
   {
    "duration": 22,
    "start_time": "2023-05-03T13:07:35.897Z"
   },
   {
    "duration": 6,
    "start_time": "2023-05-03T13:07:35.920Z"
   },
   {
    "duration": 100,
    "start_time": "2023-05-03T13:07:35.928Z"
   },
   {
    "duration": 5,
    "start_time": "2023-05-03T13:07:36.029Z"
   },
   {
    "duration": 15,
    "start_time": "2023-05-03T13:07:36.036Z"
   },
   {
    "duration": 8,
    "start_time": "2023-05-03T13:07:36.053Z"
   },
   {
    "duration": 135,
    "start_time": "2023-05-03T13:07:36.071Z"
   },
   {
    "duration": 122,
    "start_time": "2023-05-03T13:07:36.208Z"
   },
   {
    "duration": 11,
    "start_time": "2023-05-03T13:07:37.624Z"
   },
   {
    "duration": 140,
    "start_time": "2023-05-03T13:07:49.044Z"
   },
   {
    "duration": 16,
    "start_time": "2023-05-03T13:07:49.188Z"
   },
   {
    "duration": 26,
    "start_time": "2023-05-03T13:07:49.206Z"
   },
   {
    "duration": 20,
    "start_time": "2023-05-03T13:07:49.234Z"
   },
   {
    "duration": 17,
    "start_time": "2023-05-03T13:07:49.257Z"
   },
   {
    "duration": 17,
    "start_time": "2023-05-03T13:07:49.275Z"
   },
   {
    "duration": 12,
    "start_time": "2023-05-03T13:07:49.293Z"
   },
   {
    "duration": 22,
    "start_time": "2023-05-03T13:07:49.307Z"
   },
   {
    "duration": 7,
    "start_time": "2023-05-03T13:07:49.331Z"
   },
   {
    "duration": 4,
    "start_time": "2023-05-03T13:07:49.372Z"
   },
   {
    "duration": 6,
    "start_time": "2023-05-03T13:07:49.378Z"
   },
   {
    "duration": 16,
    "start_time": "2023-05-03T13:07:49.386Z"
   },
   {
    "duration": 9,
    "start_time": "2023-05-03T13:07:49.403Z"
   },
   {
    "duration": 9,
    "start_time": "2023-05-03T13:07:49.417Z"
   },
   {
    "duration": 10,
    "start_time": "2023-05-03T13:07:49.428Z"
   },
   {
    "duration": 34,
    "start_time": "2023-05-03T13:07:49.439Z"
   },
   {
    "duration": 8,
    "start_time": "2023-05-03T13:07:49.475Z"
   },
   {
    "duration": 5,
    "start_time": "2023-05-03T13:07:49.484Z"
   },
   {
    "duration": 21,
    "start_time": "2023-05-03T13:07:49.491Z"
   },
   {
    "duration": 26,
    "start_time": "2023-05-03T13:07:49.514Z"
   },
   {
    "duration": 46,
    "start_time": "2023-05-03T13:07:49.542Z"
   },
   {
    "duration": 72,
    "start_time": "2023-05-03T13:07:49.590Z"
   },
   {
    "duration": 14,
    "start_time": "2023-05-03T13:07:49.664Z"
   },
   {
    "duration": 8,
    "start_time": "2023-05-03T13:07:49.680Z"
   },
   {
    "duration": 16,
    "start_time": "2023-05-03T13:07:49.690Z"
   },
   {
    "duration": 6,
    "start_time": "2023-05-03T13:07:49.708Z"
   },
   {
    "duration": 97,
    "start_time": "2023-05-03T13:07:49.716Z"
   },
   {
    "duration": 7,
    "start_time": "2023-05-03T13:07:49.815Z"
   },
   {
    "duration": 13,
    "start_time": "2023-05-03T13:07:49.824Z"
   },
   {
    "duration": 6,
    "start_time": "2023-05-03T13:07:49.839Z"
   },
   {
    "duration": 121,
    "start_time": "2023-05-03T13:07:49.847Z"
   },
   {
    "duration": 135,
    "start_time": "2023-05-03T13:07:49.972Z"
   },
   {
    "duration": 18,
    "start_time": "2023-05-03T13:07:51.705Z"
   },
   {
    "duration": 45,
    "start_time": "2023-06-12T15:32:42.541Z"
   }
  ],
  "colab": {
   "name": "DA+. Сборный проект 1. Шаблон (1).ipynb",
   "provenance": []
  },
  "kernelspec": {
   "display_name": "Python 3 (ipykernel)",
   "language": "python",
   "name": "python3"
  },
  "language_info": {
   "codemirror_mode": {
    "name": "ipython",
    "version": 3
   },
   "file_extension": ".py",
   "mimetype": "text/x-python",
   "name": "python",
   "nbconvert_exporter": "python",
   "pygments_lexer": "ipython3",
   "version": "3.11.6"
  },
  "toc": {
   "base_numbering": 1,
   "nav_menu": {},
   "number_sections": true,
   "sideBar": true,
   "skip_h1_title": true,
   "title_cell": "Table of Contents",
   "title_sidebar": "Contents",
   "toc_cell": false,
   "toc_position": {
    "height": "calc(100% - 180px)",
    "left": "10px",
    "top": "150px",
    "width": "375.391px"
   },
   "toc_section_display": true,
   "toc_window_display": false
  }
 },
 "nbformat": 4,
 "nbformat_minor": 1
}
