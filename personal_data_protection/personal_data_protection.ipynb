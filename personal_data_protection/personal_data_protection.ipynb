{
 "cells": [
  {
   "cell_type": "markdown",
   "metadata": {
    "toc": true
   },
   "source": [
    "<h1>Содержание<span class=\"tocSkip\"></span></h1>\n",
    "<div class=\"toc\"><ul class=\"toc-item\"><li><span><a href=\"#Загрузка-данных\" data-toc-modified-id=\"Загрузка-данных-1\"><span class=\"toc-item-num\">1&nbsp;&nbsp;</span>Загрузка данных</a></span></li><li><span><a href=\"#Умножение-матриц\" data-toc-modified-id=\"Умножение-матриц-2\"><span class=\"toc-item-num\">2&nbsp;&nbsp;</span>Умножение матриц</a></span></li><li><span><a href=\"#Алгоритм-преобразования\" data-toc-modified-id=\"Алгоритм-преобразования-3\"><span class=\"toc-item-num\">3&nbsp;&nbsp;</span>Алгоритм преобразования</a></span></li><li><span><a href=\"#Проверка-алгоритма\" data-toc-modified-id=\"Проверка-алгоритма-4\"><span class=\"toc-item-num\">4&nbsp;&nbsp;</span>Проверка алгоритма</a></span></li><li><span><a href=\"#Чек-лист-проверки\" data-toc-modified-id=\"Чек-лист-проверки-5\"><span class=\"toc-item-num\">5&nbsp;&nbsp;</span>Чек-лист проверки</a></span></li></ul></div>"
   ]
  },
  {
   "cell_type": "markdown",
   "metadata": {},
   "source": [
    "# Защита персональных данных клиентов"
   ]
  },
  {
   "cell_type": "markdown",
   "metadata": {},
   "source": [
    "Вам нужно защитить данные клиентов страховой компании «Хоть потоп». Разработайте такой метод преобразования данных, чтобы по ним было сложно восстановить персональную информацию. Обоснуйте корректность его работы.\n",
    "\n",
    "Нужно защитить данные, чтобы при преобразовании качество моделей машинного обучения не ухудшилось. Подбирать наилучшую модель не требуется."
   ]
  },
  {
   "cell_type": "markdown",
   "metadata": {},
   "source": [
    "## Загрузка данных"
   ]
  },
  {
   "cell_type": "code",
   "execution_count": 1,
   "metadata": {},
   "outputs": [],
   "source": [
    "import pandas as pd\n",
    "from sklearn.model_selection import train_test_split\n",
    "from sklearn.linear_model import LinearRegression \n",
    "from sklearn.metrics import mean_absolute_error\n",
    "from sklearn.metrics import mean_squared_error \n",
    "from sklearn.metrics import r2_score\n",
    "import numpy as np"
   ]
  },
  {
   "cell_type": "code",
   "execution_count": 2,
   "metadata": {},
   "outputs": [],
   "source": [
    "data = pd.read_csv('/Users/artemmm/Downloads/insurance.csv')"
   ]
  },
  {
   "cell_type": "code",
   "execution_count": 3,
   "metadata": {},
   "outputs": [
    {
     "data": {
      "text/html": [
       "<div>\n",
       "<style scoped>\n",
       "    .dataframe tbody tr th:only-of-type {\n",
       "        vertical-align: middle;\n",
       "    }\n",
       "\n",
       "    .dataframe tbody tr th {\n",
       "        vertical-align: top;\n",
       "    }\n",
       "\n",
       "    .dataframe thead th {\n",
       "        text-align: right;\n",
       "    }\n",
       "</style>\n",
       "<table border=\"1\" class=\"dataframe\">\n",
       "  <thead>\n",
       "    <tr style=\"text-align: right;\">\n",
       "      <th></th>\n",
       "      <th>Пол</th>\n",
       "      <th>Возраст</th>\n",
       "      <th>Зарплата</th>\n",
       "      <th>Члены семьи</th>\n",
       "      <th>Страховые выплаты</th>\n",
       "    </tr>\n",
       "  </thead>\n",
       "  <tbody>\n",
       "    <tr>\n",
       "      <th>0</th>\n",
       "      <td>1</td>\n",
       "      <td>41.0</td>\n",
       "      <td>49600.0</td>\n",
       "      <td>1</td>\n",
       "      <td>0</td>\n",
       "    </tr>\n",
       "    <tr>\n",
       "      <th>1</th>\n",
       "      <td>0</td>\n",
       "      <td>46.0</td>\n",
       "      <td>38000.0</td>\n",
       "      <td>1</td>\n",
       "      <td>1</td>\n",
       "    </tr>\n",
       "    <tr>\n",
       "      <th>2</th>\n",
       "      <td>0</td>\n",
       "      <td>29.0</td>\n",
       "      <td>21000.0</td>\n",
       "      <td>0</td>\n",
       "      <td>0</td>\n",
       "    </tr>\n",
       "    <tr>\n",
       "      <th>3</th>\n",
       "      <td>0</td>\n",
       "      <td>21.0</td>\n",
       "      <td>41700.0</td>\n",
       "      <td>2</td>\n",
       "      <td>0</td>\n",
       "    </tr>\n",
       "    <tr>\n",
       "      <th>4</th>\n",
       "      <td>1</td>\n",
       "      <td>28.0</td>\n",
       "      <td>26100.0</td>\n",
       "      <td>0</td>\n",
       "      <td>0</td>\n",
       "    </tr>\n",
       "  </tbody>\n",
       "</table>\n",
       "</div>"
      ],
      "text/plain": [
       "   Пол  Возраст  Зарплата  Члены семьи  Страховые выплаты\n",
       "0    1     41.0   49600.0            1                  0\n",
       "1    0     46.0   38000.0            1                  1\n",
       "2    0     29.0   21000.0            0                  0\n",
       "3    0     21.0   41700.0            2                  0\n",
       "4    1     28.0   26100.0            0                  0"
      ]
     },
     "execution_count": 3,
     "metadata": {},
     "output_type": "execute_result"
    }
   ],
   "source": [
    "data.head()"
   ]
  },
  {
   "cell_type": "code",
   "execution_count": 4,
   "metadata": {},
   "outputs": [
    {
     "name": "stdout",
     "output_type": "stream",
     "text": [
      "<class 'pandas.core.frame.DataFrame'>\n",
      "RangeIndex: 5000 entries, 0 to 4999\n",
      "Data columns (total 5 columns):\n",
      " #   Column             Non-Null Count  Dtype  \n",
      "---  ------             --------------  -----  \n",
      " 0   Пол                5000 non-null   int64  \n",
      " 1   Возраст            5000 non-null   float64\n",
      " 2   Зарплата           5000 non-null   float64\n",
      " 3   Члены семьи        5000 non-null   int64  \n",
      " 4   Страховые выплаты  5000 non-null   int64  \n",
      "dtypes: float64(2), int64(3)\n",
      "memory usage: 195.4 KB\n"
     ]
    }
   ],
   "source": [
    "data.info()"
   ]
  },
  {
   "cell_type": "code",
   "execution_count": 5,
   "metadata": {},
   "outputs": [
    {
     "data": {
      "text/plain": [
       "Пол                  0\n",
       "Возраст              0\n",
       "Зарплата             0\n",
       "Члены семьи          0\n",
       "Страховые выплаты    0\n",
       "dtype: int64"
      ]
     },
     "execution_count": 5,
     "metadata": {},
     "output_type": "execute_result"
    }
   ],
   "source": [
    "data.isna().sum()"
   ]
  },
  {
   "cell_type": "code",
   "execution_count": 6,
   "metadata": {},
   "outputs": [
    {
     "data": {
      "text/plain": [
       "array([41., 46., 29., 21., 28., 43., 39., 25., 36., 32., 38., 23., 40.,\n",
       "       34., 26., 42., 27., 33., 47., 30., 19., 31., 22., 20., 24., 18.,\n",
       "       37., 48., 45., 44., 52., 49., 35., 56., 65., 55., 57., 54., 50.,\n",
       "       53., 51., 58., 59., 60., 61., 62.])"
      ]
     },
     "execution_count": 6,
     "metadata": {},
     "output_type": "execute_result"
    }
   ],
   "source": [
    "data['Возраст'].unique()"
   ]
  },
  {
   "cell_type": "code",
   "execution_count": 7,
   "metadata": {},
   "outputs": [
    {
     "name": "stdout",
     "output_type": "stream",
     "text": [
      "<class 'pandas.core.frame.DataFrame'>\n",
      "RangeIndex: 5000 entries, 0 to 4999\n",
      "Data columns (total 5 columns):\n",
      " #   Column             Non-Null Count  Dtype  \n",
      "---  ------             --------------  -----  \n",
      " 0   Пол                5000 non-null   int64  \n",
      " 1   Возраст            5000 non-null   int64  \n",
      " 2   Зарплата           5000 non-null   float64\n",
      " 3   Члены семьи        5000 non-null   int64  \n",
      " 4   Страховые выплаты  5000 non-null   int64  \n",
      "dtypes: float64(1), int64(4)\n",
      "memory usage: 195.4 KB\n"
     ]
    }
   ],
   "source": [
    "data = data.astype({'Возраст':int})\n",
    "data.info()"
   ]
  },
  {
   "cell_type": "markdown",
   "metadata": {},
   "source": [
    "На первый взгляд данные в порядке."
   ]
  },
  {
   "cell_type": "markdown",
   "metadata": {},
   "source": [
    "## Умножение матриц"
   ]
  },
  {
   "cell_type": "markdown",
   "metadata": {},
   "source": [
    "Обозначения:\n",
    "\n",
    "- $X$ — матрица признаков (нулевой столбец состоит из единиц)\n",
    "\n",
    "- $y$ — вектор целевого признака\n",
    "\n",
    "- $P$ — матрица, на которую умножаются признаки\n",
    "\n",
    "- $w$ — вектор весов линейной регрессии (нулевой элемент равен сдвигу)\n",
    "\n",
    "Ответьте на вопрос и обоснуйте решение. \n",
    "\n",
    "Признаки умножают на обратимую матрицу. Изменится ли качество линейной регрессии? (Её можно обучить заново.)\n",
    "\n",
    "a. Изменится. Приведите примеры матриц.\n",
    "\n",
    "b. Не изменится. Укажите, как связаны параметры линейной регрессии в исходной задаче и в преобразованной."
   ]
  },
  {
   "cell_type": "markdown",
   "metadata": {},
   "source": [
    "Предсказания:\n",
    "\n",
    "$$\n",
    "a = Xw\n",
    "$$\n",
    "\n",
    "Задача обучения:\n",
    "\n",
    "$$\n",
    "w = \\arg\\min_w MSE(Xw, y)\n",
    "$$\n",
    "\n",
    "Формула обучения:\n",
    "\n",
    "$$\n",
    "w = (X^T X)^{-1} X^T y\n",
    "$$"
   ]
  },
  {
   "cell_type": "markdown",
   "metadata": {},
   "source": [
    "**Ответ:** Нет, не изменится.\n",
    "\n",
    "**Обоснование:** Код ниже. Как мы видим - метрика примерно одинаковая до и после умножения.\n",
    "\n",
    "* Думаю, что линейная регрессия может обучаться и находить веса, даже в умноженной матрице. \n",
    "* Также умножение на матрицу не изменяет сами зависимости между признаками, а просто переводит в другую \"форму\".\n",
    "\n",
    "У нас есть возможность перевести матрицу из умноженой в обычную, умножив ее на обратную матрицу второго множителя.\n",
    "\n",
    "Математическое обоснование:\n",
    "$$\n",
    "w' = (P^T X^T X P)^{-1} (XP)^T y\n",
    "$$\n",
    "    \n",
    "А теперь поставим скобочки чтобы лучше было видно: \n",
    "    \n",
    "    \n",
    "$$\n",
    "w' = (P^T (X^T X) P)^{-1} P^T X^T y\n",
    "$$    \n",
    "\n",
    "$$\n",
    "w' = p^{-1} (X^{T}X)^{-1} (P^{t})^{-1} P{T}X{T}y =\n",
    "$$\n",
    "\n",
    "$$\n",
    "w = (X^{T}X)^{-1} X^{T} y, поэтому\n",
    "$$\n",
    "\n",
    "$$\n",
    "w' = P^{-1}w\n",
    "$$\n",
    "\n",
    "$$\n",
    "Соотношение между wp и w:\n",
    "$$\n",
    "\n",
    "\n",
    "$$\n",
    "XP w_p = X w\n",
    "$$\n",
    "\n",
    "$$\n",
    "XPw*p^{-1} = Xw * p$$\n",
    "**Как связаны параметры линейной регрессии в исходной задаче и преобразованной:** В исходной задаче и в преобразованной параметры имеют одни и те же зависимости и веса, только в \"разных системах координат\". Грубо говоря, в преобразованной матрице все параметры показаны в неизвестных нам величинах, но сами значения не изменялись."
   ]
  },
  {
   "cell_type": "markdown",
   "metadata": {},
   "source": [
    "## Алгоритм преобразования"
   ]
  },
  {
   "cell_type": "markdown",
   "metadata": {},
   "source": [
    "**Алгоритм**\n",
    "\n",
    "Создавать рандомную матрицу, перемножать матрицу признаков на созданную матрицу. Главные условия рандомной матрицы - она должна быть обратимой и размерность должна быть: кол-во строк = кол-во столбцов.\n"
   ]
  },
  {
   "cell_type": "markdown",
   "metadata": {},
   "source": [
    "**Обоснование**\n",
    "\n",
    "Их произведение получится умноженная матрица с теми же самыми зависимостями, только в другой форме. Данный способ основывается на том, что для восстановления изначальной информации нужна обратная матрица первого множителя, т.е. созданной матрицы. Это гарантирует проблемы при восстановлении исходных данных, ведь не имея рандомной матрицы будет тяжело перевести матрицу произведения в исходную матрицу."
   ]
  },
  {
   "cell_type": "markdown",
   "metadata": {},
   "source": [
    "## Проверка алгоритма"
   ]
  },
  {
   "cell_type": "markdown",
   "metadata": {},
   "source": [
    "Алгоритм линейной регрессии."
   ]
  },
  {
   "cell_type": "code",
   "execution_count": 8,
   "metadata": {},
   "outputs": [],
   "source": [
    "class LinearRegression:\n",
    "    def fit(self, train_features, train_target):\n",
    "        X = np.concatenate((np.ones((train_features.shape[0], 1)), train_features), axis=1)\n",
    "        y = train_target\n",
    "        w = np.linalg.inv(X.T.dot(X)).dot(X.T).dot(y)\n",
    "        self.w = w[1:]\n",
    "        self.w0 = w[0]\n",
    "\n",
    "    def predict(self, test_features):\n",
    "        return test_features.dot(self.w) + self.w0\n"
   ]
  },
  {
   "cell_type": "markdown",
   "metadata": {},
   "source": [
    "Рандомная матрица."
   ]
  },
  {
   "cell_type": "code",
   "execution_count": 9,
   "metadata": {},
   "outputs": [
    {
     "name": "stdout",
     "output_type": "stream",
     "text": [
      "[[ 1.  0. -0.  0.]\n",
      " [-0.  1. -0.  0.]\n",
      " [-0.  0.  1.  0.]\n",
      " [ 0. -0.  0.  1.]]\n"
     ]
    }
   ],
   "source": [
    "import numpy as np\n",
    "np.set_printoptions(suppress = True) \n",
    "#создаем матрицу\n",
    "matr = np.random.randint(1,50, size=(data.shape[1] - 1 ,data.shape[1] - 1))\n",
    "#проверяем на обратимость\n",
    "matr_inv = np.linalg.inv(matr)\n",
    "print(np.dot(matr, matr_inv))"
   ]
  },
  {
   "cell_type": "markdown",
   "metadata": {},
   "source": [
    "Перемножение матриц"
   ]
  },
  {
   "cell_type": "code",
   "execution_count": 10,
   "metadata": {},
   "outputs": [
    {
     "name": "stdout",
     "output_type": "stream",
     "text": [
      "До умножения: 0.43522757127026657\n",
      "После умножения: 0.346160613845519\n"
     ]
    }
   ],
   "source": [
    "#обучение линейной регрессии до умножения\n",
    "df, test = train_test_split(data, test_size= 0.25, random_state = 12345)\n",
    "df_t = df['Страховые выплаты']\n",
    "df_f = df.drop('Страховые выплаты', axis = 1)\n",
    "\n",
    "tr_t = test['Страховые выплаты']\n",
    "tr_f = test.drop('Страховые выплаты', axis = 1)\n",
    "pered_u = []\n",
    "for i in range(5):\n",
    "    model = LinearRegression()\n",
    "    model.fit(df_f.values, df_t.values)\n",
    "    predictions = model.predict(tr_f)\n",
    "    pered_u.append(r2_score(tr_t, predictions))\n",
    "print('До умножения:', sum(pered_u)/len(pered_u))\n",
    "\n",
    "#coef1 = model.coef_\n",
    "\n",
    "#умножение и обучение\n",
    "df, test = train_test_split(data, test_size= 0.25)\n",
    "df_t = df['Страховые выплаты']\n",
    "df_f = df.drop('Страховые выплаты', axis = 1)\n",
    "\n",
    "tr_t = test['Страховые выплаты']\n",
    "tr_f = test.drop('Страховые выплаты', axis = 1)\n",
    "df_f = df_f.values @ matr\n",
    "\n",
    "tr_f = tr_f.values @ matr\n",
    "\n",
    "posle_u = []\n",
    "for i in range(5):\n",
    "    model = LinearRegression()\n",
    "    model.fit(df_f, df_t.values)\n",
    "    predictions = model.predict(tr_f)\n",
    "    posle_u.append(r2_score(tr_t, predictions))\n",
    "print('После умножения:', sum(posle_u)/len(posle_u))\n",
    "\n",
    "#coef2 = model.coef_\n",
    "\n",
    "#print(coef1 / (coef2 @ matr_inv))"
   ]
  },
  {
   "cell_type": "code",
   "execution_count": 11,
   "metadata": {},
   "outputs": [
    {
     "name": "stdout",
     "output_type": "stream",
     "text": [
      "[-0.03631314  0.02358289 -0.00001201 -0.04578236]\n",
      "0.3099772375620381\n",
      "[0.13655643 0.11219784 0.14062875 0.10737832]\n",
      "0.3099772375614255\n"
     ]
    }
   ],
   "source": [
    "train, test = train_test_split(data, test_size= 0.25)\n",
    "X = train.drop('Страховые выплаты', axis = 1).values\n",
    "y = train['Страховые выплаты'].values\n",
    "\n",
    "X_t = test.drop('Страховые выплаты', axis = 1).values\n",
    "y_t = test['Страховые выплаты'].values\n",
    "w = np.linalg.inv((X.T@X))@X.T@y\n",
    "print(w)\n",
    "y_hat = X@w\n",
    "print(r2_score(y, y_hat))\n",
    "\n",
    "np.random.seed(1)\n",
    "matr = np.random.randn(4,4)\n",
    "X_m = X@matr\n",
    "inv_matr = np.linalg.inv(matr)\n",
    "\n",
    "w_m = np.linalg.inv((X_m.T@X_m))@X_m.T@y\n",
    "print(w_m)\n",
    "y_hat_m = X_m@w_m\n",
    "print(r2_score(y, y_hat_m))"
   ]
  },
  {
   "cell_type": "markdown",
   "metadata": {},
   "source": [
    "Чтобы перевести преобразованные данные в исходные, нужно умножить преобразованную матрицу на матрицу обратную второму множителю."
   ]
  },
  {
   "cell_type": "code",
   "execution_count": 12,
   "metadata": {},
   "outputs": [
    {
     "name": "stdout",
     "output_type": "stream",
     "text": [
      "[[   7815.27973135   -6163.88528811   35735.36286157  -50295.48720626]\n",
      " [  14383.26454187  -11293.39865044   65850.08010116  -92731.02923259]\n",
      " [  16832.39933005  -13192.45263899   77091.47414108 -108586.16194235]\n",
      " ...\n",
      " [  15271.38156506  -11977.8264696    69933.5134543   -98494.85597778]\n",
      " [  11683.1190451    -9202.36473401   53443.70597514  -75231.14054456]\n",
      " [   8446.86354953   -6647.82099612   38648.50426739  -54409.02852396]]\n",
      "/\n",
      "[[    1.    34. 24400.     1.]\n",
      " [   -0.    31. 45000.     1.]\n",
      " [   -0.    22. 52700.    -0.]\n",
      " ...\n",
      " [   -0.    25. 47800.     1.]\n",
      " [    1.    43. 36500.     2.]\n",
      " [   -0.    28. 26400.    -0.]]\n"
     ]
    }
   ],
   "source": [
    "print(X_m)\n",
    "print('/')\n",
    "print(X_m @ inv_matr)"
   ]
  },
  {
   "cell_type": "markdown",
   "metadata": {},
   "source": [
    "**Итог проекта:**\n",
    "\n",
    "Задача проекта: Защитить данные клиентов страховой компании «Хоть потоп». Разработать такой метод преобразования данных, чтобы по ним было сложно восстановить персональную информацию. Обосновать корректность его работы.\n",
    "\n",
    "В ходе проекта:\n",
    "* Загрузил и изучил данные, исправил типы столбцов.\n",
    "* Ответил на вопрос: \"Признаки умножают на обратимую матрицу. Изменится ли качество линейной регрессии? \"\n",
    "* Обосновал ответ на вопрос в практической форме (сделав код) и теоретической (формулами).\n",
    "* Предложил алгоритм преобразования данных для решения задачи.\n",
    "* Запрограммировал алгоритм.\n",
    "\n",
    "Кратко: оказалось, что качество регрессии не изменяется, если матрицу признаков умножить на любую обратимую матрицу, воспользовавшись этим, я придумал алгоритм перевода исходной матрицы признаков в матрицу признаков \"другого измерения\". То есть, не имея матрицы признаков получить исходные данные очень сложно. После чего запрограммировал этот алгоритм. Он доказал, что качество линейной регрессии не изменилось. "
   ]
  },
  {
   "cell_type": "markdown",
   "metadata": {},
   "source": [
    "## Чек-лист проверки"
   ]
  },
  {
   "cell_type": "markdown",
   "metadata": {},
   "source": [
    "Поставьте 'x' в выполненных пунктах. Далее нажмите Shift+Enter."
   ]
  },
  {
   "cell_type": "markdown",
   "metadata": {},
   "source": [
    "- [x]  Jupyter Notebook открыт\n",
    "- [x]  Весь код выполняется без ошибок\n",
    "- [x]  Ячейки с кодом расположены в порядке исполнения\n",
    "- [x]  Выполнен шаг 1: данные загружены\n",
    "- [x]  Выполнен шаг 2: получен ответ на вопрос об умножении матриц\n",
    "    - [x]  Указан правильный вариант ответа\n",
    "    - [x]  Вариант обоснован\n",
    "- [x]  Выполнен шаг 3: предложен алгоритм преобразования\n",
    "    - [x]  Алгоритм описан\n",
    "    - [x]  Алгоритм обоснован\n",
    "- [x]  Выполнен шаг 4: алгоритм проверен\n",
    "    - [x]  Алгоритм реализован\n",
    "    - [x]  Проведено сравнение качества моделей до и после преобразования"
   ]
  }
 ],
 "metadata": {
  "ExecuteTimeLog": [
   {
    "duration": 388,
    "start_time": "2023-11-09T09:22:24.436Z"
   },
   {
    "duration": 75,
    "start_time": "2023-11-09T09:22:24.826Z"
   },
   {
    "duration": 13,
    "start_time": "2023-11-09T09:22:25.274Z"
   },
   {
    "duration": 10,
    "start_time": "2023-11-09T09:22:25.775Z"
   },
   {
    "duration": 465,
    "start_time": "2023-11-10T14:36:34.401Z"
   },
   {
    "duration": 79,
    "start_time": "2023-11-10T14:36:34.868Z"
   },
   {
    "duration": 18,
    "start_time": "2023-11-10T14:36:35.212Z"
   },
   {
    "duration": 13,
    "start_time": "2023-11-10T14:36:35.626Z"
   },
   {
    "duration": 13,
    "start_time": "2023-11-10T14:36:35.963Z"
   },
   {
    "duration": 65,
    "start_time": "2023-11-10T14:36:40.795Z"
   },
   {
    "duration": 12,
    "start_time": "2023-11-10T14:36:43.386Z"
   },
   {
    "duration": 5,
    "start_time": "2023-11-10T14:36:57.049Z"
   },
   {
    "duration": 12,
    "start_time": "2023-11-10T14:37:17.958Z"
   },
   {
    "duration": 13,
    "start_time": "2023-11-10T14:37:34.082Z"
   },
   {
    "duration": 6,
    "start_time": "2023-11-10T14:37:37.937Z"
   },
   {
    "duration": 857,
    "start_time": "2023-11-10T14:51:44.560Z"
   },
   {
    "duration": 30,
    "start_time": "2023-11-10T14:51:45.420Z"
   },
   {
    "duration": 10,
    "start_time": "2023-11-10T14:51:45.452Z"
   },
   {
    "duration": 23,
    "start_time": "2023-11-10T14:51:45.464Z"
   },
   {
    "duration": 6,
    "start_time": "2023-11-10T14:51:46.294Z"
   },
   {
    "duration": 6,
    "start_time": "2023-11-10T14:51:46.889Z"
   },
   {
    "duration": 16,
    "start_time": "2023-11-10T14:51:47.082Z"
   },
   {
    "duration": 23,
    "start_time": "2023-11-10T14:52:01.895Z"
   },
   {
    "duration": 31,
    "start_time": "2023-11-10T14:52:02.074Z"
   },
   {
    "duration": 10,
    "start_time": "2023-11-10T14:52:02.381Z"
   },
   {
    "duration": 12,
    "start_time": "2023-11-10T14:52:02.521Z"
   },
   {
    "duration": 5,
    "start_time": "2023-11-10T14:52:02.641Z"
   },
   {
    "duration": 6,
    "start_time": "2023-11-10T14:52:02.893Z"
   },
   {
    "duration": 12,
    "start_time": "2023-11-10T14:52:03.326Z"
   },
   {
    "duration": 4,
    "start_time": "2023-11-10T14:52:06.007Z"
   },
   {
    "duration": 8,
    "start_time": "2023-11-10T14:52:14.395Z"
   },
   {
    "duration": 3,
    "start_time": "2023-11-10T14:54:19.882Z"
   },
   {
    "duration": 30,
    "start_time": "2023-11-10T14:54:20.073Z"
   },
   {
    "duration": 10,
    "start_time": "2023-11-10T14:54:20.240Z"
   },
   {
    "duration": 14,
    "start_time": "2023-11-10T14:54:20.396Z"
   },
   {
    "duration": 9,
    "start_time": "2023-11-10T14:54:20.533Z"
   },
   {
    "duration": 5,
    "start_time": "2023-11-10T14:54:20.660Z"
   },
   {
    "duration": 12,
    "start_time": "2023-11-10T14:54:20.841Z"
   },
   {
    "duration": 8,
    "start_time": "2023-11-10T14:54:23.279Z"
   },
   {
    "duration": 10,
    "start_time": "2023-11-10T14:54:23.690Z"
   },
   {
    "duration": 54,
    "start_time": "2023-11-10T14:55:40.856Z"
   },
   {
    "duration": 3,
    "start_time": "2023-11-10T14:55:45.127Z"
   },
   {
    "duration": 32,
    "start_time": "2023-11-10T14:55:45.196Z"
   },
   {
    "duration": 11,
    "start_time": "2023-11-10T14:55:45.396Z"
   },
   {
    "duration": 10,
    "start_time": "2023-11-10T14:55:45.578Z"
   },
   {
    "duration": 6,
    "start_time": "2023-11-10T14:55:45.725Z"
   },
   {
    "duration": 5,
    "start_time": "2023-11-10T14:55:45.856Z"
   },
   {
    "duration": 12,
    "start_time": "2023-11-10T14:55:46.005Z"
   },
   {
    "duration": 7,
    "start_time": "2023-11-10T14:55:47.808Z"
   },
   {
    "duration": 9,
    "start_time": "2023-11-10T14:55:48.194Z"
   },
   {
    "duration": 10,
    "start_time": "2023-11-10T14:55:48.606Z"
   },
   {
    "duration": 94,
    "start_time": "2023-11-10T14:55:52.787Z"
   },
   {
    "duration": 87,
    "start_time": "2023-11-10T14:56:36.145Z"
   },
   {
    "duration": 90,
    "start_time": "2023-11-10T14:56:42.828Z"
   },
   {
    "duration": 81,
    "start_time": "2023-11-10T14:56:49.029Z"
   },
   {
    "duration": 3,
    "start_time": "2023-11-10T15:02:29.235Z"
   },
   {
    "duration": 14,
    "start_time": "2023-11-10T15:02:29.933Z"
   },
   {
    "duration": 3,
    "start_time": "2023-11-10T15:03:32.146Z"
   },
   {
    "duration": 5,
    "start_time": "2023-11-10T15:03:32.621Z"
   },
   {
    "duration": 8,
    "start_time": "2023-11-10T15:03:35.453Z"
   },
   {
    "duration": 3,
    "start_time": "2023-11-10T15:03:39.369Z"
   },
   {
    "duration": 3,
    "start_time": "2023-11-10T15:03:58.033Z"
   },
   {
    "duration": 5,
    "start_time": "2023-11-10T15:04:19.628Z"
   },
   {
    "duration": 4,
    "start_time": "2023-11-10T15:04:21.262Z"
   },
   {
    "duration": 5,
    "start_time": "2023-11-10T15:04:21.474Z"
   },
   {
    "duration": 6,
    "start_time": "2023-11-10T15:04:21.707Z"
   },
   {
    "duration": 11,
    "start_time": "2023-11-10T15:07:08.213Z"
   },
   {
    "duration": 6,
    "start_time": "2023-11-10T15:07:09.546Z"
   },
   {
    "duration": 6,
    "start_time": "2023-11-10T15:07:09.923Z"
   },
   {
    "duration": 4,
    "start_time": "2023-11-10T15:07:11.421Z"
   },
   {
    "duration": 5,
    "start_time": "2023-11-10T15:07:11.687Z"
   },
   {
    "duration": 6,
    "start_time": "2023-11-10T15:07:12.116Z"
   },
   {
    "duration": 4,
    "start_time": "2023-11-10T15:07:21.787Z"
   },
   {
    "duration": 5,
    "start_time": "2023-11-10T15:07:22.065Z"
   },
   {
    "duration": 7,
    "start_time": "2023-11-10T15:07:22.460Z"
   },
   {
    "duration": 5,
    "start_time": "2023-11-10T15:07:24.253Z"
   },
   {
    "duration": 4,
    "start_time": "2023-11-10T15:07:25.516Z"
   },
   {
    "duration": 5,
    "start_time": "2023-11-10T15:07:25.684Z"
   },
   {
    "duration": 7,
    "start_time": "2023-11-10T15:07:26.121Z"
   },
   {
    "duration": 10,
    "start_time": "2023-11-10T15:07:36.065Z"
   },
   {
    "duration": 4,
    "start_time": "2023-11-10T15:12:25.116Z"
   },
   {
    "duration": 3,
    "start_time": "2023-11-10T15:12:29.325Z"
   },
   {
    "duration": 4,
    "start_time": "2023-11-10T15:12:30.637Z"
   },
   {
    "duration": 4,
    "start_time": "2023-11-10T15:12:31.537Z"
   },
   {
    "duration": 12,
    "start_time": "2023-11-10T15:37:57.437Z"
   },
   {
    "duration": 5,
    "start_time": "2023-11-10T15:38:05.660Z"
   },
   {
    "duration": 6,
    "start_time": "2023-11-10T15:38:43.689Z"
   },
   {
    "duration": 5,
    "start_time": "2023-11-10T15:40:40.462Z"
   },
   {
    "duration": 5,
    "start_time": "2023-11-10T15:40:49.249Z"
   },
   {
    "duration": 5,
    "start_time": "2023-11-10T15:43:59.806Z"
   },
   {
    "duration": 14,
    "start_time": "2023-11-10T15:44:36.272Z"
   },
   {
    "duration": 5,
    "start_time": "2023-11-10T15:44:45.956Z"
   },
   {
    "duration": 9,
    "start_time": "2023-11-10T15:45:28.830Z"
   },
   {
    "duration": 6,
    "start_time": "2023-11-10T15:45:31.345Z"
   },
   {
    "duration": 8,
    "start_time": "2023-11-10T15:45:31.625Z"
   },
   {
    "duration": 12,
    "start_time": "2023-11-10T15:47:19.186Z"
   },
   {
    "duration": 10,
    "start_time": "2023-11-10T15:47:24.776Z"
   },
   {
    "duration": 19,
    "start_time": "2023-11-10T15:47:32.812Z"
   },
   {
    "duration": 17,
    "start_time": "2023-11-10T15:47:39.314Z"
   },
   {
    "duration": 15,
    "start_time": "2023-11-10T15:48:47.214Z"
   },
   {
    "duration": 9,
    "start_time": "2023-11-10T15:49:08.689Z"
   },
   {
    "duration": 4,
    "start_time": "2023-11-10T15:50:43.730Z"
   },
   {
    "duration": 4,
    "start_time": "2023-11-10T15:52:45.861Z"
   },
   {
    "duration": 4,
    "start_time": "2023-11-10T15:52:54.881Z"
   },
   {
    "duration": 4,
    "start_time": "2023-11-10T15:53:02.904Z"
   },
   {
    "duration": 4,
    "start_time": "2023-11-10T15:53:06.212Z"
   },
   {
    "duration": 14,
    "start_time": "2023-11-10T15:53:58.230Z"
   },
   {
    "duration": 11,
    "start_time": "2023-11-10T15:54:02.642Z"
   },
   {
    "duration": 13,
    "start_time": "2023-11-10T15:54:05.925Z"
   },
   {
    "duration": 5,
    "start_time": "2023-11-10T15:54:10.180Z"
   },
   {
    "duration": 5,
    "start_time": "2023-11-10T15:54:19.358Z"
   },
   {
    "duration": 4,
    "start_time": "2023-11-10T15:54:21.675Z"
   },
   {
    "duration": 4,
    "start_time": "2023-11-10T15:54:26.226Z"
   },
   {
    "duration": 4,
    "start_time": "2023-11-10T15:54:30.562Z"
   },
   {
    "duration": 4,
    "start_time": "2023-11-10T15:54:36.123Z"
   },
   {
    "duration": 5,
    "start_time": "2023-11-10T15:55:10.673Z"
   },
   {
    "duration": 10,
    "start_time": "2023-11-10T15:55:33.753Z"
   },
   {
    "duration": 8,
    "start_time": "2023-11-10T15:55:39.469Z"
   },
   {
    "duration": 7,
    "start_time": "2023-11-10T15:55:41.301Z"
   },
   {
    "duration": 14,
    "start_time": "2023-11-10T15:56:19.670Z"
   },
   {
    "duration": 12,
    "start_time": "2023-11-10T15:56:22.893Z"
   },
   {
    "duration": 10,
    "start_time": "2023-11-10T15:56:30.086Z"
   },
   {
    "duration": 8,
    "start_time": "2023-11-10T15:56:32.931Z"
   },
   {
    "duration": 8,
    "start_time": "2023-11-10T15:56:45.013Z"
   },
   {
    "duration": 8,
    "start_time": "2023-11-10T15:57:31.081Z"
   },
   {
    "duration": 6,
    "start_time": "2023-11-10T15:57:54.003Z"
   },
   {
    "duration": 82,
    "start_time": "2023-11-10T15:58:30.796Z"
   },
   {
    "duration": 26,
    "start_time": "2023-11-10T15:58:36.430Z"
   },
   {
    "duration": 21,
    "start_time": "2023-11-10T15:59:14.819Z"
   },
   {
    "duration": 21,
    "start_time": "2023-11-10T15:59:33.722Z"
   },
   {
    "duration": 6,
    "start_time": "2023-11-10T16:01:15.987Z"
   },
   {
    "duration": 8,
    "start_time": "2023-11-10T16:01:23.304Z"
   },
   {
    "duration": 28,
    "start_time": "2023-11-10T16:01:32.873Z"
   },
   {
    "duration": 19,
    "start_time": "2023-11-10T16:01:42.158Z"
   },
   {
    "duration": 18,
    "start_time": "2023-11-10T16:02:30.592Z"
   },
   {
    "duration": 12,
    "start_time": "2023-11-10T16:02:51.543Z"
   },
   {
    "duration": 12,
    "start_time": "2023-11-10T16:03:11.583Z"
   },
   {
    "duration": 14,
    "start_time": "2023-11-10T16:03:36.343Z"
   },
   {
    "duration": 11,
    "start_time": "2023-11-10T16:04:20.420Z"
   },
   {
    "duration": 141,
    "start_time": "2023-11-10T16:04:20.876Z"
   },
   {
    "duration": 91,
    "start_time": "2023-11-10T16:04:35.271Z"
   },
   {
    "duration": 7,
    "start_time": "2023-11-10T16:04:40.818Z"
   },
   {
    "duration": 95,
    "start_time": "2023-11-10T16:04:48.587Z"
   },
   {
    "duration": 6,
    "start_time": "2023-11-10T16:04:50.272Z"
   },
   {
    "duration": 11,
    "start_time": "2023-11-10T16:05:03.697Z"
   },
   {
    "duration": 12,
    "start_time": "2023-11-10T16:05:04.652Z"
   },
   {
    "duration": 8,
    "start_time": "2023-11-10T16:05:08.950Z"
   },
   {
    "duration": 5,
    "start_time": "2023-11-10T16:05:12.542Z"
   },
   {
    "duration": 10,
    "start_time": "2023-11-10T16:05:12.993Z"
   },
   {
    "duration": 11,
    "start_time": "2023-11-10T16:05:13.421Z"
   },
   {
    "duration": 5,
    "start_time": "2023-11-10T16:05:26.374Z"
   },
   {
    "duration": 10,
    "start_time": "2023-11-10T16:05:26.826Z"
   },
   {
    "duration": 10,
    "start_time": "2023-11-10T16:05:27.210Z"
   },
   {
    "duration": 5,
    "start_time": "2023-11-10T16:07:15.815Z"
   },
   {
    "duration": 15,
    "start_time": "2023-11-10T16:07:16.210Z"
   },
   {
    "duration": 15,
    "start_time": "2023-11-10T16:07:16.554Z"
   },
   {
    "duration": 3,
    "start_time": "2023-11-10T16:07:20.349Z"
   },
   {
    "duration": 10,
    "start_time": "2023-11-10T16:07:24.132Z"
   },
   {
    "duration": 11,
    "start_time": "2023-11-10T16:07:24.969Z"
   },
   {
    "duration": 6,
    "start_time": "2023-11-10T16:07:30.564Z"
   },
   {
    "duration": 11,
    "start_time": "2023-11-10T16:07:30.850Z"
   },
   {
    "duration": 10,
    "start_time": "2023-11-10T16:07:31.287Z"
   },
   {
    "duration": 4,
    "start_time": "2023-11-10T16:08:10.557Z"
   },
   {
    "duration": 5,
    "start_time": "2023-11-10T16:08:13.074Z"
   },
   {
    "duration": 12,
    "start_time": "2023-11-10T16:08:13.391Z"
   },
   {
    "duration": 11,
    "start_time": "2023-11-10T16:08:13.766Z"
   },
   {
    "duration": 5,
    "start_time": "2023-11-10T16:09:59.815Z"
   },
   {
    "duration": 11,
    "start_time": "2023-11-10T16:10:00.434Z"
   },
   {
    "duration": 12,
    "start_time": "2023-11-10T16:10:01.119Z"
   },
   {
    "duration": 7,
    "start_time": "2023-11-10T16:11:16.238Z"
   },
   {
    "duration": 10,
    "start_time": "2023-11-10T16:11:16.535Z"
   },
   {
    "duration": 14,
    "start_time": "2023-11-10T16:11:16.828Z"
   },
   {
    "duration": 12,
    "start_time": "2023-11-10T16:11:20.053Z"
   },
   {
    "duration": 6,
    "start_time": "2023-11-10T16:11:23.082Z"
   },
   {
    "duration": 11,
    "start_time": "2023-11-10T16:11:23.324Z"
   },
   {
    "duration": 11,
    "start_time": "2023-11-10T16:11:23.679Z"
   },
   {
    "duration": 8,
    "start_time": "2023-11-10T16:11:27.787Z"
   },
   {
    "duration": 10,
    "start_time": "2023-11-10T16:11:28.105Z"
   },
   {
    "duration": 15,
    "start_time": "2023-11-10T16:11:28.423Z"
   },
   {
    "duration": 3,
    "start_time": "2023-11-10T16:20:01.933Z"
   },
   {
    "duration": 7,
    "start_time": "2023-11-10T16:20:05.187Z"
   },
   {
    "duration": 9,
    "start_time": "2023-11-10T16:20:14.026Z"
   },
   {
    "duration": 8,
    "start_time": "2023-11-10T16:20:19.064Z"
   },
   {
    "duration": 51,
    "start_time": "2023-11-10T16:24:34.248Z"
   },
   {
    "duration": 1247,
    "start_time": "2023-11-10T16:24:41.538Z"
   },
   {
    "duration": 101,
    "start_time": "2023-11-10T16:24:42.787Z"
   },
   {
    "duration": 18,
    "start_time": "2023-11-10T16:24:42.891Z"
   },
   {
    "duration": 16,
    "start_time": "2023-11-10T16:24:42.911Z"
   },
   {
    "duration": 6,
    "start_time": "2023-11-10T16:24:42.930Z"
   },
   {
    "duration": 15,
    "start_time": "2023-11-10T16:24:42.938Z"
   },
   {
    "duration": 14,
    "start_time": "2023-11-10T16:24:42.955Z"
   },
   {
    "duration": 44,
    "start_time": "2023-11-10T16:24:42.970Z"
   },
   {
    "duration": 7,
    "start_time": "2023-11-10T16:24:43.265Z"
   },
   {
    "duration": 73,
    "start_time": "2023-11-10T16:24:43.724Z"
   },
   {
    "duration": 9,
    "start_time": "2023-11-10T16:25:04.244Z"
   },
   {
    "duration": 1903,
    "start_time": "2023-11-10T16:25:14.881Z"
   },
   {
    "duration": 1973,
    "start_time": "2023-11-10T16:25:28.861Z"
   },
   {
    "duration": 13,
    "start_time": "2023-11-10T16:25:40.642Z"
   },
   {
    "duration": 9,
    "start_time": "2023-11-10T16:25:44.457Z"
   },
   {
    "duration": 23,
    "start_time": "2023-11-10T16:25:50.859Z"
   },
   {
    "duration": 9,
    "start_time": "2023-11-10T16:25:52.956Z"
   },
   {
    "duration": 20,
    "start_time": "2023-11-10T16:26:00.538Z"
   },
   {
    "duration": 9,
    "start_time": "2023-11-10T16:26:04.943Z"
   },
   {
    "duration": 15,
    "start_time": "2023-11-10T16:26:39.444Z"
   },
   {
    "duration": 5,
    "start_time": "2023-11-10T16:26:51.874Z"
   },
   {
    "duration": 10,
    "start_time": "2023-11-10T16:26:53.957Z"
   },
   {
    "duration": 10,
    "start_time": "2023-11-10T16:27:01.421Z"
   },
   {
    "duration": 8,
    "start_time": "2023-11-10T16:27:03.077Z"
   },
   {
    "duration": 902,
    "start_time": "2023-11-10T16:28:18.898Z"
   },
   {
    "duration": 18,
    "start_time": "2023-11-10T16:28:34.249Z"
   },
   {
    "duration": 7,
    "start_time": "2023-11-10T16:28:57.381Z"
   },
   {
    "duration": 21,
    "start_time": "2023-11-10T16:29:22.520Z"
   },
   {
    "duration": 14,
    "start_time": "2023-11-10T16:29:36.005Z"
   },
   {
    "duration": 12,
    "start_time": "2023-11-10T16:29:41.414Z"
   },
   {
    "duration": 21,
    "start_time": "2023-11-10T16:31:49.665Z"
   },
   {
    "duration": 22,
    "start_time": "2023-11-10T16:32:05.998Z"
   },
   {
    "duration": 20,
    "start_time": "2023-11-10T16:34:00.535Z"
   },
   {
    "duration": 21,
    "start_time": "2023-11-10T16:34:08.190Z"
   },
   {
    "duration": 12,
    "start_time": "2023-11-10T16:34:14.456Z"
   },
   {
    "duration": 30,
    "start_time": "2023-11-10T16:34:21.660Z"
   },
   {
    "duration": 9,
    "start_time": "2023-11-10T16:34:22.205Z"
   },
   {
    "duration": 12,
    "start_time": "2023-11-10T16:34:22.319Z"
   },
   {
    "duration": 6,
    "start_time": "2023-11-10T16:34:22.452Z"
   },
   {
    "duration": 5,
    "start_time": "2023-11-10T16:34:22.579Z"
   },
   {
    "duration": 17,
    "start_time": "2023-11-10T16:34:22.655Z"
   },
   {
    "duration": 6,
    "start_time": "2023-11-10T16:34:23.726Z"
   },
   {
    "duration": 99,
    "start_time": "2023-11-10T16:34:23.816Z"
   },
   {
    "duration": 21,
    "start_time": "2023-11-10T16:34:23.945Z"
   },
   {
    "duration": 1164,
    "start_time": "2023-11-10T16:34:51.783Z"
   },
   {
    "duration": 30,
    "start_time": "2023-11-10T16:34:52.949Z"
   },
   {
    "duration": 16,
    "start_time": "2023-11-10T16:34:52.981Z"
   },
   {
    "duration": 10,
    "start_time": "2023-11-10T16:34:52.999Z"
   },
   {
    "duration": 6,
    "start_time": "2023-11-10T16:34:53.011Z"
   },
   {
    "duration": 10,
    "start_time": "2023-11-10T16:34:53.018Z"
   },
   {
    "duration": 28,
    "start_time": "2023-11-10T16:34:53.030Z"
   },
   {
    "duration": 5,
    "start_time": "2023-11-10T16:34:54.025Z"
   },
   {
    "duration": 142,
    "start_time": "2023-11-10T16:34:54.443Z"
   },
   {
    "duration": 18,
    "start_time": "2023-11-10T16:34:54.971Z"
   },
   {
    "duration": 8,
    "start_time": "2023-11-10T16:35:01.981Z"
   },
   {
    "duration": 1067,
    "start_time": "2023-11-10T18:07:24.422Z"
   },
   {
    "duration": 76,
    "start_time": "2023-11-10T18:07:25.491Z"
   },
   {
    "duration": 14,
    "start_time": "2023-11-10T18:07:25.568Z"
   },
   {
    "duration": 12,
    "start_time": "2023-11-10T18:07:25.584Z"
   },
   {
    "duration": 6,
    "start_time": "2023-11-10T18:07:25.597Z"
   },
   {
    "duration": 25,
    "start_time": "2023-11-10T18:07:25.604Z"
   },
   {
    "duration": 22,
    "start_time": "2023-11-10T18:07:25.630Z"
   },
   {
    "duration": 6,
    "start_time": "2023-11-10T18:07:25.654Z"
   },
   {
    "duration": 10,
    "start_time": "2023-11-10T18:07:25.661Z"
   },
   {
    "duration": 7,
    "start_time": "2023-11-10T18:07:27.324Z"
   },
   {
    "duration": 16,
    "start_time": "2023-11-10T18:07:27.582Z"
   },
   {
    "duration": 92,
    "start_time": "2023-11-10T18:10:08.793Z"
   },
   {
    "duration": 8,
    "start_time": "2023-11-10T18:10:18.491Z"
   },
   {
    "duration": 3,
    "start_time": "2023-11-10T18:10:27.150Z"
   },
   {
    "duration": 1021,
    "start_time": "2023-11-10T18:13:14.182Z"
   },
   {
    "duration": 28,
    "start_time": "2023-11-10T18:13:15.205Z"
   },
   {
    "duration": 13,
    "start_time": "2023-11-10T18:13:15.235Z"
   },
   {
    "duration": 9,
    "start_time": "2023-11-10T18:13:15.250Z"
   },
   {
    "duration": 8,
    "start_time": "2023-11-10T18:13:15.261Z"
   },
   {
    "duration": 3,
    "start_time": "2023-11-10T18:13:15.271Z"
   },
   {
    "duration": 32,
    "start_time": "2023-11-10T18:13:15.276Z"
   },
   {
    "duration": 4,
    "start_time": "2023-11-10T18:13:15.310Z"
   },
   {
    "duration": 26,
    "start_time": "2023-11-10T18:13:15.315Z"
   },
   {
    "duration": 104,
    "start_time": "2023-11-10T18:13:15.342Z"
   },
   {
    "duration": 178,
    "start_time": "2023-11-10T18:15:38.265Z"
   },
   {
    "duration": 2,
    "start_time": "2023-11-10T18:15:42.321Z"
   },
   {
    "duration": 29,
    "start_time": "2023-11-10T18:15:42.327Z"
   },
   {
    "duration": 7,
    "start_time": "2023-11-10T18:15:42.358Z"
   },
   {
    "duration": 20,
    "start_time": "2023-11-10T18:15:42.366Z"
   },
   {
    "duration": 7,
    "start_time": "2023-11-10T18:15:42.389Z"
   },
   {
    "duration": 6,
    "start_time": "2023-11-10T18:15:42.397Z"
   },
   {
    "duration": 13,
    "start_time": "2023-11-10T18:15:42.408Z"
   },
   {
    "duration": 92,
    "start_time": "2023-11-10T18:15:43.798Z"
   },
   {
    "duration": 4,
    "start_time": "2023-11-10T18:17:08.833Z"
   },
   {
    "duration": 19,
    "start_time": "2023-11-10T18:17:41.696Z"
   },
   {
    "duration": 18,
    "start_time": "2023-11-10T18:17:51.731Z"
   },
   {
    "duration": 15,
    "start_time": "2023-11-10T18:18:36.680Z"
   },
   {
    "duration": 14,
    "start_time": "2023-11-10T18:19:02.945Z"
   },
   {
    "duration": 26,
    "start_time": "2023-11-10T18:20:33.586Z"
   },
   {
    "duration": 23,
    "start_time": "2023-11-10T18:20:40.743Z"
   },
   {
    "duration": 14,
    "start_time": "2023-11-10T18:21:25.400Z"
   },
   {
    "duration": 16,
    "start_time": "2023-11-10T18:24:21.211Z"
   },
   {
    "duration": 17,
    "start_time": "2023-11-10T18:25:09.996Z"
   },
   {
    "duration": 20,
    "start_time": "2023-11-10T18:25:17.551Z"
   },
   {
    "duration": 15,
    "start_time": "2023-11-10T18:25:39.249Z"
   },
   {
    "duration": 15,
    "start_time": "2023-11-10T18:26:00.401Z"
   },
   {
    "duration": 15,
    "start_time": "2023-11-10T18:26:16.274Z"
   },
   {
    "duration": 16,
    "start_time": "2023-11-10T18:26:23.757Z"
   },
   {
    "duration": 14,
    "start_time": "2023-11-10T18:27:20.735Z"
   },
   {
    "duration": 14,
    "start_time": "2023-11-10T18:27:22.193Z"
   },
   {
    "duration": 15,
    "start_time": "2023-11-10T18:28:01.330Z"
   },
   {
    "duration": 15,
    "start_time": "2023-11-10T18:28:20.037Z"
   },
   {
    "duration": 18,
    "start_time": "2023-11-10T18:28:23.612Z"
   },
   {
    "duration": 1115,
    "start_time": "2023-11-10T18:36:13.512Z"
   },
   {
    "duration": 28,
    "start_time": "2023-11-10T18:36:14.629Z"
   },
   {
    "duration": 14,
    "start_time": "2023-11-10T18:36:14.659Z"
   },
   {
    "duration": 19,
    "start_time": "2023-11-10T18:36:14.674Z"
   },
   {
    "duration": 5,
    "start_time": "2023-11-10T18:36:14.694Z"
   },
   {
    "duration": 4,
    "start_time": "2023-11-10T18:36:14.701Z"
   },
   {
    "duration": 10,
    "start_time": "2023-11-10T18:36:14.707Z"
   },
   {
    "duration": 26,
    "start_time": "2023-11-10T18:36:14.718Z"
   },
   {
    "duration": 13,
    "start_time": "2023-11-10T18:36:14.746Z"
   },
   {
    "duration": 18,
    "start_time": "2023-11-10T18:36:14.841Z"
   },
   {
    "duration": 14,
    "start_time": "2023-11-10T18:36:19.217Z"
   },
   {
    "duration": 1073,
    "start_time": "2023-11-10T18:37:36.625Z"
   },
   {
    "duration": 29,
    "start_time": "2023-11-10T18:37:37.699Z"
   },
   {
    "duration": 16,
    "start_time": "2023-11-10T18:37:37.729Z"
   },
   {
    "duration": 10,
    "start_time": "2023-11-10T18:37:37.748Z"
   },
   {
    "duration": 9,
    "start_time": "2023-11-10T18:37:37.759Z"
   },
   {
    "duration": 4,
    "start_time": "2023-11-10T18:37:37.769Z"
   },
   {
    "duration": 19,
    "start_time": "2023-11-10T18:37:37.775Z"
   },
   {
    "duration": 5,
    "start_time": "2023-11-10T18:37:37.795Z"
   },
   {
    "duration": 9,
    "start_time": "2023-11-10T18:37:37.840Z"
   },
   {
    "duration": 97,
    "start_time": "2023-11-10T18:37:37.851Z"
   },
   {
    "duration": 1097,
    "start_time": "2023-11-11T12:36:20.519Z"
   },
   {
    "duration": 79,
    "start_time": "2023-11-11T12:36:21.618Z"
   },
   {
    "duration": 17,
    "start_time": "2023-11-11T12:36:21.698Z"
   },
   {
    "duration": 11,
    "start_time": "2023-11-11T12:36:21.716Z"
   },
   {
    "duration": 6,
    "start_time": "2023-11-11T12:36:21.728Z"
   },
   {
    "duration": 4,
    "start_time": "2023-11-11T12:36:21.736Z"
   },
   {
    "duration": 12,
    "start_time": "2023-11-11T12:36:21.742Z"
   },
   {
    "duration": 5,
    "start_time": "2023-11-11T12:36:21.755Z"
   },
   {
    "duration": 55,
    "start_time": "2023-11-11T12:36:21.762Z"
   },
   {
    "duration": 101,
    "start_time": "2023-11-11T12:36:21.819Z"
   },
   {
    "duration": 16,
    "start_time": "2023-11-11T12:36:50.572Z"
   },
   {
    "duration": 8,
    "start_time": "2023-11-11T12:36:54.860Z"
   },
   {
    "duration": 11,
    "start_time": "2023-11-11T12:36:55.164Z"
   },
   {
    "duration": 18,
    "start_time": "2023-11-11T12:36:55.435Z"
   },
   {
    "duration": 18,
    "start_time": "2023-11-11T12:37:09.682Z"
   },
   {
    "duration": 20,
    "start_time": "2023-11-11T12:37:29.858Z"
   },
   {
    "duration": 5,
    "start_time": "2023-11-11T12:37:33.556Z"
   },
   {
    "duration": 8,
    "start_time": "2023-11-11T12:37:33.753Z"
   },
   {
    "duration": 1396,
    "start_time": "2023-11-11T12:37:34.010Z"
   },
   {
    "duration": 23,
    "start_time": "2023-11-11T12:37:49.340Z"
   },
   {
    "duration": 6,
    "start_time": "2023-11-11T12:37:52.964Z"
   },
   {
    "duration": 8,
    "start_time": "2023-11-11T12:37:53.177Z"
   },
   {
    "duration": 17,
    "start_time": "2023-11-11T12:37:53.454Z"
   },
   {
    "duration": 18,
    "start_time": "2023-11-11T12:37:56.816Z"
   },
   {
    "duration": 18,
    "start_time": "2023-11-11T12:37:57.951Z"
   },
   {
    "duration": 21,
    "start_time": "2023-11-11T12:38:01.051Z"
   },
   {
    "duration": 17,
    "start_time": "2023-11-11T12:38:01.965Z"
   },
   {
    "duration": 16,
    "start_time": "2023-11-11T12:38:02.924Z"
   },
   {
    "duration": 7,
    "start_time": "2023-11-11T12:39:54.070Z"
   },
   {
    "duration": 22,
    "start_time": "2023-11-11T12:39:54.956Z"
   },
   {
    "duration": 5,
    "start_time": "2023-11-11T12:39:59.745Z"
   },
   {
    "duration": 17,
    "start_time": "2023-11-11T12:40:00.243Z"
   },
   {
    "duration": 28,
    "start_time": "2023-11-11T12:44:48.848Z"
   },
   {
    "duration": 28,
    "start_time": "2023-11-11T12:44:53.662Z"
   },
   {
    "duration": 37,
    "start_time": "2023-11-11T12:45:19.830Z"
   },
   {
    "duration": 46,
    "start_time": "2023-11-11T12:45:36.014Z"
   },
   {
    "duration": 36,
    "start_time": "2023-11-11T12:45:37.658Z"
   },
   {
    "duration": 32,
    "start_time": "2023-11-11T12:45:38.669Z"
   },
   {
    "duration": 1086,
    "start_time": "2023-11-11T15:02:36.609Z"
   },
   {
    "duration": 31,
    "start_time": "2023-11-11T15:02:39.493Z"
   },
   {
    "duration": 16,
    "start_time": "2023-11-11T15:02:40.195Z"
   },
   {
    "duration": 10,
    "start_time": "2023-11-11T15:02:40.587Z"
   },
   {
    "duration": 6,
    "start_time": "2023-11-11T15:02:40.808Z"
   },
   {
    "duration": 5,
    "start_time": "2023-11-11T15:02:41.033Z"
   },
   {
    "duration": 12,
    "start_time": "2023-11-11T15:02:41.811Z"
   },
   {
    "duration": 5,
    "start_time": "2023-11-11T15:02:43.449Z"
   },
   {
    "duration": 31,
    "start_time": "2023-11-11T15:02:44.064Z"
   },
   {
    "duration": 4,
    "start_time": "2023-11-11T15:02:46.401Z"
   },
   {
    "duration": 5,
    "start_time": "2023-11-11T15:02:47.269Z"
   },
   {
    "duration": 216,
    "start_time": "2023-11-11T15:02:48.154Z"
   },
   {
    "duration": 15,
    "start_time": "2023-11-11T15:03:41.256Z"
   },
   {
    "duration": 24,
    "start_time": "2023-11-11T15:03:46.308Z"
   },
   {
    "duration": 39,
    "start_time": "2023-11-11T15:03:55.877Z"
   },
   {
    "duration": 22,
    "start_time": "2023-11-11T15:04:00.131Z"
   },
   {
    "duration": 25,
    "start_time": "2023-11-11T15:04:01.503Z"
   },
   {
    "duration": 53,
    "start_time": "2023-11-11T15:04:02.358Z"
   },
   {
    "duration": 87,
    "start_time": "2023-11-11T15:04:03.330Z"
   },
   {
    "duration": 56,
    "start_time": "2023-11-11T15:04:04.262Z"
   },
   {
    "duration": 24,
    "start_time": "2023-11-11T15:04:05.324Z"
   },
   {
    "duration": 5,
    "start_time": "2023-11-11T15:05:37.215Z"
   },
   {
    "duration": 1111,
    "start_time": "2023-11-11T15:10:44.835Z"
   },
   {
    "duration": 77,
    "start_time": "2023-11-11T15:10:45.947Z"
   },
   {
    "duration": 15,
    "start_time": "2023-11-11T15:10:46.483Z"
   },
   {
    "duration": 10,
    "start_time": "2023-11-11T15:10:46.681Z"
   },
   {
    "duration": 5,
    "start_time": "2023-11-11T15:10:46.848Z"
   },
   {
    "duration": 5,
    "start_time": "2023-11-11T15:10:46.982Z"
   },
   {
    "duration": 11,
    "start_time": "2023-11-11T15:10:47.152Z"
   },
   {
    "duration": 6,
    "start_time": "2023-11-11T15:10:48.561Z"
   },
   {
    "duration": 36,
    "start_time": "2023-11-11T15:10:48.922Z"
   },
   {
    "duration": 4,
    "start_time": "2023-11-11T15:10:50.156Z"
   },
   {
    "duration": 5,
    "start_time": "2023-11-11T15:10:50.644Z"
   },
   {
    "duration": 101,
    "start_time": "2023-11-11T15:10:51.316Z"
   },
   {
    "duration": 81,
    "start_time": "2023-11-11T15:10:52.156Z"
   },
   {
    "duration": 7,
    "start_time": "2023-11-11T15:11:03.901Z"
   },
   {
    "duration": 8,
    "start_time": "2023-11-11T15:11:20.070Z"
   },
   {
    "duration": 5,
    "start_time": "2023-11-11T15:11:54.812Z"
   },
   {
    "duration": 2857,
    "start_time": "2023-11-11T16:26:11.385Z"
   },
   {
    "duration": 83,
    "start_time": "2023-11-11T16:26:14.244Z"
   },
   {
    "duration": 16,
    "start_time": "2023-11-11T16:26:14.329Z"
   },
   {
    "duration": 11,
    "start_time": "2023-11-11T16:26:14.347Z"
   },
   {
    "duration": 10,
    "start_time": "2023-11-11T16:26:14.360Z"
   },
   {
    "duration": 5,
    "start_time": "2023-11-11T16:26:14.372Z"
   },
   {
    "duration": 16,
    "start_time": "2023-11-11T16:26:14.379Z"
   },
   {
    "duration": 10,
    "start_time": "2023-11-11T16:26:14.430Z"
   },
   {
    "duration": 198,
    "start_time": "2023-11-11T16:26:14.443Z"
   },
   {
    "duration": 3,
    "start_time": "2023-11-11T16:26:14.643Z"
   },
   {
    "duration": 10,
    "start_time": "2023-11-11T16:26:14.648Z"
   },
   {
    "duration": 179,
    "start_time": "2023-11-11T16:26:14.660Z"
   },
   {
    "duration": 93,
    "start_time": "2023-11-11T16:26:14.841Z"
   },
   {
    "duration": 1281,
    "start_time": "2023-11-11T17:17:47.348Z"
   },
   {
    "duration": 80,
    "start_time": "2023-11-11T17:17:50.508Z"
   },
   {
    "duration": 14,
    "start_time": "2023-11-11T17:17:50.730Z"
   },
   {
    "duration": 10,
    "start_time": "2023-11-11T17:17:50.996Z"
   },
   {
    "duration": 7,
    "start_time": "2023-11-11T17:17:51.191Z"
   },
   {
    "duration": 6,
    "start_time": "2023-11-11T17:17:51.367Z"
   },
   {
    "duration": 11,
    "start_time": "2023-11-11T17:17:51.547Z"
   },
   {
    "duration": 5,
    "start_time": "2023-11-11T17:17:53.635Z"
   },
   {
    "duration": 31,
    "start_time": "2023-11-11T17:17:54.396Z"
   },
   {
    "duration": 237,
    "start_time": "2023-11-11T17:17:56.400Z"
   },
   {
    "duration": 12,
    "start_time": "2023-11-11T17:18:48.710Z"
   },
   {
    "duration": 10,
    "start_time": "2023-11-11T17:18:56.453Z"
   },
   {
    "duration": 12,
    "start_time": "2023-11-11T17:19:08.732Z"
   },
   {
    "duration": 33,
    "start_time": "2023-11-11T17:21:19.598Z"
   },
   {
    "duration": 34,
    "start_time": "2023-11-11T17:21:19.633Z"
   },
   {
    "duration": 3,
    "start_time": "2023-11-11T17:21:19.675Z"
   },
   {
    "duration": 1153,
    "start_time": "2023-11-12T10:02:06.335Z"
   },
   {
    "duration": 150,
    "start_time": "2023-11-12T10:02:07.491Z"
   },
   {
    "duration": 0,
    "start_time": "2023-11-12T10:02:07.644Z"
   },
   {
    "duration": 0,
    "start_time": "2023-11-12T10:02:07.645Z"
   },
   {
    "duration": 0,
    "start_time": "2023-11-12T10:02:07.646Z"
   },
   {
    "duration": 0,
    "start_time": "2023-11-12T10:02:07.648Z"
   },
   {
    "duration": 0,
    "start_time": "2023-11-12T10:02:07.649Z"
   },
   {
    "duration": 0,
    "start_time": "2023-11-12T10:02:07.650Z"
   },
   {
    "duration": 0,
    "start_time": "2023-11-12T10:02:07.652Z"
   },
   {
    "duration": 0,
    "start_time": "2023-11-12T10:02:07.653Z"
   },
   {
    "duration": 0,
    "start_time": "2023-11-12T10:02:07.654Z"
   },
   {
    "duration": 0,
    "start_time": "2023-11-12T10:02:07.655Z"
   },
   {
    "duration": 0,
    "start_time": "2023-11-12T10:02:07.657Z"
   },
   {
    "duration": 0,
    "start_time": "2023-11-12T10:02:07.658Z"
   },
   {
    "duration": 0,
    "start_time": "2023-11-12T10:02:07.659Z"
   },
   {
    "duration": 89,
    "start_time": "2023-11-12T10:02:17.744Z"
   },
   {
    "duration": 1107,
    "start_time": "2023-11-12T10:02:21.538Z"
   },
   {
    "duration": 29,
    "start_time": "2023-11-12T10:02:22.647Z"
   },
   {
    "duration": 15,
    "start_time": "2023-11-12T10:02:22.678Z"
   },
   {
    "duration": 13,
    "start_time": "2023-11-12T10:02:22.694Z"
   },
   {
    "duration": 17,
    "start_time": "2023-11-12T10:02:22.709Z"
   },
   {
    "duration": 16,
    "start_time": "2023-11-12T10:02:22.728Z"
   },
   {
    "duration": 13,
    "start_time": "2023-11-12T10:02:22.745Z"
   },
   {
    "duration": 11,
    "start_time": "2023-11-12T10:02:22.760Z"
   },
   {
    "duration": 144,
    "start_time": "2023-11-12T10:02:22.773Z"
   },
   {
    "duration": 88,
    "start_time": "2023-11-12T10:02:22.919Z"
   },
   {
    "duration": 7,
    "start_time": "2023-11-12T10:02:23.009Z"
   },
   {
    "duration": 108,
    "start_time": "2023-11-12T10:02:23.018Z"
   },
   {
    "duration": 192,
    "start_time": "2023-11-12T10:02:23.128Z"
   },
   {
    "duration": 180,
    "start_time": "2023-11-12T10:02:23.323Z"
   },
   {
    "duration": 14,
    "start_time": "2023-11-12T10:02:23.505Z"
   },
   {
    "duration": 376,
    "start_time": "2023-11-12T10:08:05.695Z"
   },
   {
    "duration": 14,
    "start_time": "2023-11-12T10:09:45.148Z"
   },
   {
    "duration": 13,
    "start_time": "2023-11-12T10:09:57.429Z"
   },
   {
    "duration": 4,
    "start_time": "2023-11-12T10:10:02.386Z"
   },
   {
    "duration": 4,
    "start_time": "2023-11-12T10:10:13.825Z"
   },
   {
    "duration": 1100,
    "start_time": "2023-11-12T10:15:09.302Z"
   },
   {
    "duration": 30,
    "start_time": "2023-11-12T10:15:10.404Z"
   },
   {
    "duration": 16,
    "start_time": "2023-11-12T10:15:10.435Z"
   },
   {
    "duration": 12,
    "start_time": "2023-11-12T10:15:10.452Z"
   },
   {
    "duration": 5,
    "start_time": "2023-11-12T10:15:10.466Z"
   },
   {
    "duration": 6,
    "start_time": "2023-11-12T10:15:10.472Z"
   },
   {
    "duration": 11,
    "start_time": "2023-11-12T10:15:10.479Z"
   },
   {
    "duration": 4,
    "start_time": "2023-11-12T10:15:10.491Z"
   },
   {
    "duration": 5,
    "start_time": "2023-11-12T10:15:10.499Z"
   },
   {
    "duration": 202,
    "start_time": "2023-11-12T10:15:10.505Z"
   },
   {
    "duration": 187,
    "start_time": "2023-11-12T10:15:10.713Z"
   },
   {
    "duration": 97,
    "start_time": "2023-11-12T10:15:10.902Z"
   }
  ],
  "kernelspec": {
   "display_name": "Python 3 (ipykernel)",
   "language": "python",
   "name": "python3"
  },
  "language_info": {
   "codemirror_mode": {
    "name": "ipython",
    "version": 3
   },
   "file_extension": ".py",
   "mimetype": "text/x-python",
   "name": "python",
   "nbconvert_exporter": "python",
   "pygments_lexer": "ipython3",
   "version": "3.11.6"
  },
  "toc": {
   "base_numbering": 1,
   "nav_menu": {},
   "number_sections": true,
   "sideBar": true,
   "skip_h1_title": true,
   "title_cell": "Содержание",
   "title_sidebar": "Contents",
   "toc_cell": true,
   "toc_position": {},
   "toc_section_display": true,
   "toc_window_display": false
  }
 },
 "nbformat": 4,
 "nbformat_minor": 2
}
