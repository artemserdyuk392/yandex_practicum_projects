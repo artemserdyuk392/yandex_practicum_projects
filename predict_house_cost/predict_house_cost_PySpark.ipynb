{
 "cells": [
  {
   "cell_type": "markdown",
   "id": "GEqQaHzsZ_bA",
   "metadata": {
    "id": "GEqQaHzsZ_bA"
   },
   "source": [
    "## Предсказание стоимости жилья\n",
    "\n",
    "В проекте вам нужно обучить модель линейной регрессии на данных о жилье в Калифорнии в 1990 году. На основе данных нужно предсказать медианную стоимость дома в жилом массиве. Обучите модель и сделайте предсказания на тестовой выборке. Для оценки качества модели используйте метрики RMSE, MAE и R2."
   ]
  },
  {
   "cell_type": "markdown",
   "id": "53871372",
   "metadata": {
    "id": "53871372"
   },
   "source": [
    "# Подготовка данных"
   ]
  },
  {
   "cell_type": "code",
   "execution_count": 1,
   "id": "b7830aa6",
   "metadata": {},
   "outputs": [
    {
     "name": "stderr",
     "output_type": "stream",
     "text": [
      "                                                                                \r"
     ]
    }
   ],
   "source": [
    "import pandas as pd \n",
    "import numpy as np\n",
    "import matplotlib.pyplot as plt\n",
    "import seaborn as sns\n",
    "\n",
    "import pyspark\n",
    "from pyspark.sql import SparkSession\n",
    "from pyspark.sql.types import *\n",
    "import pyspark.sql.functions as F\n",
    "\n",
    "from pyspark.ml.feature import StringIndexer, VectorAssembler, StandardScaler\n",
    "from pyspark.ml.regression import LinearRegression\n",
    "from pyspark.ml.evaluation import BinaryClassificationEvaluator, MulticlassClassificationEvaluator\n",
    "from pyspark.mllib.evaluation import RegressionMetrics\n",
    "\n",
    "pyspark_version = pyspark.__version__\n",
    "if int(pyspark_version[:1]) == 3:\n",
    "    from pyspark.ml.feature import OneHotEncoder    \n",
    "elif int(pyspark_version[:1]) == 2:\n",
    "    from pyspark.ml.feature import OneHotEncodeEstimator\n",
    "        \n",
    "RANDOM_SEED = 2022\n",
    "\n",
    "spark = SparkSession.builder \\\n",
    "                    .master(\"local\") \\\n",
    "                    .appName(\"housing\") \\\n",
    "                    .getOrCreate()\n",
    "\n",
    "df = spark.read.option('header', 'true').csv('/datasets/housing.csv', inferSchema = True)"
   ]
  },
  {
   "cell_type": "code",
   "execution_count": 2,
   "id": "df92e3ec",
   "metadata": {
    "id": "df92e3ec"
   },
   "outputs": [],
   "source": [
    "df.createOrReplaceTempView('df')"
   ]
  },
  {
   "cell_type": "code",
   "execution_count": 3,
   "id": "aff5701e",
   "metadata": {},
   "outputs": [
    {
     "name": "stdout",
     "output_type": "stream",
     "text": [
      "root\n",
      " |-- longitude: double (nullable = true)\n",
      " |-- latitude: double (nullable = true)\n",
      " |-- housing_median_age: double (nullable = true)\n",
      " |-- total_rooms: double (nullable = true)\n",
      " |-- total_bedrooms: double (nullable = true)\n",
      " |-- population: double (nullable = true)\n",
      " |-- households: double (nullable = true)\n",
      " |-- median_income: double (nullable = true)\n",
      " |-- median_house_value: double (nullable = true)\n",
      " |-- ocean_proximity: string (nullable = true)\n",
      "\n",
      "-RECORD 0----------------------\n",
      " longitude          | -122.23  \n",
      " latitude           | 37.88    \n",
      " housing_median_age | 41.0     \n",
      " total_rooms        | 880.0    \n",
      " total_bedrooms     | 129.0    \n",
      " population         | 322.0    \n",
      " households         | 126.0    \n",
      " median_income      | 8.3252   \n",
      " median_house_value | 452600.0 \n",
      " ocean_proximity    | NEAR BAY \n",
      "only showing top 1 row\n",
      "\n"
     ]
    }
   ],
   "source": [
    "df.printSchema()\n",
    "\n",
    "df.show(1, vertical = True)"
   ]
  },
  {
   "cell_type": "markdown",
   "id": "bd7a69ed",
   "metadata": {},
   "source": [
    "типы данных изменять не нужно, они соответствуют столбцам."
   ]
  },
  {
   "cell_type": "markdown",
   "id": "4efbb575",
   "metadata": {},
   "source": [
    "# Предобработка данных"
   ]
  },
  {
   "cell_type": "code",
   "execution_count": 4,
   "id": "e6df4d82",
   "metadata": {},
   "outputs": [
    {
     "name": "stdout",
     "output_type": "stream",
     "text": [
      "+---------+--------+------------------+-----------+--------------+----------+----------+-------------+------------------+---------------+\n",
      "|longitude|latitude|housing_median_age|total_rooms|total_bedrooms|population|households|median_income|median_house_value|ocean_proximity|\n",
      "+---------+--------+------------------+-----------+--------------+----------+----------+-------------+------------------+---------------+\n",
      "|        0|       0|                 0|          0|           207|         0|         0|            0|                 0|              0|\n",
      "+---------+--------+------------------+-----------+--------------+----------+----------+-------------+------------------+---------------+\n",
      "\n"
     ]
    }
   ],
   "source": [
    "mv = df.agg(*[F.sum(F.col(c).isNull().cast(\"int\")).alias(c) for c in df.columns])\n",
    "mv.show(10)"
   ]
  },
  {
   "cell_type": "code",
   "execution_count": 5,
   "id": "8452aa44",
   "metadata": {
    "scrolled": false
   },
   "outputs": [
    {
     "data": {
      "text/plain": [
       "<AxesSubplot:>"
      ]
     },
     "execution_count": 5,
     "metadata": {},
     "output_type": "execute_result"
    },
    {
     "data": {
      "image/png": "[encoded data removed]",
      "text/plain": [
       "<Figure size 432x288 with 1 Axes>"
      ]
     },
     "metadata": {
      "needs_background": "light"
     },
     "output_type": "display_data"
    }
   ],
   "source": [
    "sample_size = 1000 \n",
    "sample_data = df.select('total_bedrooms').sample(False, 0.1, seed=42).limit(sample_size).toPandas()\n",
    "\n",
    "sample_data.plot(kind='box')"
   ]
  },
  {
   "cell_type": "markdown",
   "id": "397cc127",
   "metadata": {},
   "source": [
    "Эти значения я заполню медианой."
   ]
  },
  {
   "cell_type": "code",
   "execution_count": 6,
   "id": "54bf9b02",
   "metadata": {},
   "outputs": [],
   "source": [
    "from pyspark.sql.functions import lit, when\n",
    "median_value = df.selectExpr('percentile_approx(total_bedrooms, 0.5) as median').collect()[0]['median']\n",
    "df = df.withColumn('total_bedrooms', when(df['total_bedrooms'].isNull(), lit(median_value)).otherwise(df['total_bedrooms']))"
   ]
  },
  {
   "cell_type": "code",
   "execution_count": 7,
   "id": "9c6f95f6",
   "metadata": {},
   "outputs": [
    {
     "data": {
      "text/html": [
       "<div>\n",
       "<style scoped>\n",
       "    .dataframe tbody tr th:only-of-type {\n",
       "        vertical-align: middle;\n",
       "    }\n",
       "\n",
       "    .dataframe tbody tr th {\n",
       "        vertical-align: top;\n",
       "    }\n",
       "\n",
       "    .dataframe thead th {\n",
       "        text-align: right;\n",
       "    }\n",
       "</style>\n",
       "<table border=\"1\" class=\"dataframe\">\n",
       "  <thead>\n",
       "    <tr style=\"text-align: right;\">\n",
       "      <th></th>\n",
       "      <th>longitude</th>\n",
       "      <th>latitude</th>\n",
       "      <th>housing_median_age</th>\n",
       "      <th>total_rooms</th>\n",
       "      <th>total_bedrooms</th>\n",
       "      <th>population</th>\n",
       "      <th>households</th>\n",
       "      <th>median_income</th>\n",
       "      <th>median_house_value</th>\n",
       "      <th>ocean_proximity</th>\n",
       "    </tr>\n",
       "  </thead>\n",
       "  <tbody>\n",
       "    <tr>\n",
       "      <th>0</th>\n",
       "      <td>0</td>\n",
       "      <td>0</td>\n",
       "      <td>0</td>\n",
       "      <td>0</td>\n",
       "      <td>0</td>\n",
       "      <td>0</td>\n",
       "      <td>0</td>\n",
       "      <td>0</td>\n",
       "      <td>0</td>\n",
       "      <td>0</td>\n",
       "    </tr>\n",
       "  </tbody>\n",
       "</table>\n",
       "</div>"
      ],
      "text/plain": [
       "   longitude  latitude  housing_median_age  total_rooms  total_bedrooms  \\\n",
       "0          0         0                   0            0               0   \n",
       "\n",
       "   population  households  median_income  median_house_value  ocean_proximity  \n",
       "0           0           0              0                   0                0  "
      ]
     },
     "execution_count": 7,
     "metadata": {},
     "output_type": "execute_result"
    }
   ],
   "source": [
    "missing_values = df.agg(*[F.sum(F.col(c).isNull().cast(\"int\")).alias(c) for c in df.columns]).toPandas()\n",
    "missing_values.head()"
   ]
  },
  {
   "cell_type": "code",
   "execution_count": 8,
   "id": "5362b773",
   "metadata": {
    "scrolled": true
   },
   "outputs": [
    {
     "data": {
      "text/html": [
       "<div>\n",
       "<style scoped>\n",
       "    .dataframe tbody tr th:only-of-type {\n",
       "        vertical-align: middle;\n",
       "    }\n",
       "\n",
       "    .dataframe tbody tr th {\n",
       "        vertical-align: top;\n",
       "    }\n",
       "\n",
       "    .dataframe thead th {\n",
       "        text-align: right;\n",
       "    }\n",
       "</style>\n",
       "<table border=\"1\" class=\"dataframe\">\n",
       "  <thead>\n",
       "    <tr style=\"text-align: right;\">\n",
       "      <th></th>\n",
       "      <th>longitude</th>\n",
       "      <th>latitude</th>\n",
       "      <th>housing_median_age</th>\n",
       "      <th>total_rooms</th>\n",
       "      <th>total_bedrooms</th>\n",
       "      <th>population</th>\n",
       "      <th>households</th>\n",
       "      <th>median_income</th>\n",
       "      <th>median_house_value</th>\n",
       "    </tr>\n",
       "  </thead>\n",
       "  <tbody>\n",
       "    <tr>\n",
       "      <th>count</th>\n",
       "      <td>2114.000000</td>\n",
       "      <td>2114.000000</td>\n",
       "      <td>2114.000000</td>\n",
       "      <td>2114.000000</td>\n",
       "      <td>2114.000000</td>\n",
       "      <td>2114.000000</td>\n",
       "      <td>2114.000000</td>\n",
       "      <td>2114.000000</td>\n",
       "      <td>2114.000000</td>\n",
       "    </tr>\n",
       "    <tr>\n",
       "      <th>mean</th>\n",
       "      <td>-119.534063</td>\n",
       "      <td>35.610076</td>\n",
       "      <td>27.987228</td>\n",
       "      <td>2654.428098</td>\n",
       "      <td>542.511353</td>\n",
       "      <td>1431.135762</td>\n",
       "      <td>506.735572</td>\n",
       "      <td>3.890371</td>\n",
       "      <td>208353.923368</td>\n",
       "    </tr>\n",
       "    <tr>\n",
       "      <th>std</th>\n",
       "      <td>1.992566</td>\n",
       "      <td>2.147320</td>\n",
       "      <td>12.438636</td>\n",
       "      <td>2153.201129</td>\n",
       "      <td>410.982730</td>\n",
       "      <td>1081.720166</td>\n",
       "      <td>381.078286</td>\n",
       "      <td>1.887208</td>\n",
       "      <td>114340.031829</td>\n",
       "    </tr>\n",
       "    <tr>\n",
       "      <th>min</th>\n",
       "      <td>-124.190000</td>\n",
       "      <td>32.560000</td>\n",
       "      <td>2.000000</td>\n",
       "      <td>12.000000</td>\n",
       "      <td>4.000000</td>\n",
       "      <td>13.000000</td>\n",
       "      <td>7.000000</td>\n",
       "      <td>0.499900</td>\n",
       "      <td>27500.000000</td>\n",
       "    </tr>\n",
       "    <tr>\n",
       "      <th>25%</th>\n",
       "      <td>-121.740000</td>\n",
       "      <td>33.930000</td>\n",
       "      <td>18.000000</td>\n",
       "      <td>1469.250000</td>\n",
       "      <td>300.000000</td>\n",
       "      <td>809.250000</td>\n",
       "      <td>286.000000</td>\n",
       "      <td>2.603000</td>\n",
       "      <td>123125.000000</td>\n",
       "    </tr>\n",
       "    <tr>\n",
       "      <th>50%</th>\n",
       "      <td>-118.460000</td>\n",
       "      <td>34.240000</td>\n",
       "      <td>28.000000</td>\n",
       "      <td>2231.000000</td>\n",
       "      <td>451.000000</td>\n",
       "      <td>1195.000000</td>\n",
       "      <td>427.500000</td>\n",
       "      <td>3.603950</td>\n",
       "      <td>181850.000000</td>\n",
       "    </tr>\n",
       "    <tr>\n",
       "      <th>75%</th>\n",
       "      <td>-117.990000</td>\n",
       "      <td>37.707500</td>\n",
       "      <td>37.000000</td>\n",
       "      <td>3182.250000</td>\n",
       "      <td>664.000000</td>\n",
       "      <td>1749.750000</td>\n",
       "      <td>618.750000</td>\n",
       "      <td>4.766025</td>\n",
       "      <td>263875.000000</td>\n",
       "    </tr>\n",
       "    <tr>\n",
       "      <th>max</th>\n",
       "      <td>-114.600000</td>\n",
       "      <td>41.860000</td>\n",
       "      <td>52.000000</td>\n",
       "      <td>37937.000000</td>\n",
       "      <td>5471.000000</td>\n",
       "      <td>16122.000000</td>\n",
       "      <td>5189.000000</td>\n",
       "      <td>15.000100</td>\n",
       "      <td>500001.000000</td>\n",
       "    </tr>\n",
       "  </tbody>\n",
       "</table>\n",
       "</div>"
      ],
      "text/plain": [
       "         longitude     latitude  housing_median_age   total_rooms  \\\n",
       "count  2114.000000  2114.000000         2114.000000   2114.000000   \n",
       "mean   -119.534063    35.610076           27.987228   2654.428098   \n",
       "std       1.992566     2.147320           12.438636   2153.201129   \n",
       "min    -124.190000    32.560000            2.000000     12.000000   \n",
       "25%    -121.740000    33.930000           18.000000   1469.250000   \n",
       "50%    -118.460000    34.240000           28.000000   2231.000000   \n",
       "75%    -117.990000    37.707500           37.000000   3182.250000   \n",
       "max    -114.600000    41.860000           52.000000  37937.000000   \n",
       "\n",
       "       total_bedrooms    population   households  median_income  \\\n",
       "count     2114.000000   2114.000000  2114.000000    2114.000000   \n",
       "mean       542.511353   1431.135762   506.735572       3.890371   \n",
       "std        410.982730   1081.720166   381.078286       1.887208   \n",
       "min          4.000000     13.000000     7.000000       0.499900   \n",
       "25%        300.000000    809.250000   286.000000       2.603000   \n",
       "50%        451.000000   1195.000000   427.500000       3.603950   \n",
       "75%        664.000000   1749.750000   618.750000       4.766025   \n",
       "max       5471.000000  16122.000000  5189.000000      15.000100   \n",
       "\n",
       "       median_house_value  \n",
       "count         2114.000000  \n",
       "mean        208353.923368  \n",
       "std         114340.031829  \n",
       "min          27500.000000  \n",
       "25%         123125.000000  \n",
       "50%         181850.000000  \n",
       "75%         263875.000000  \n",
       "max         500001.000000  "
      ]
     },
     "execution_count": 8,
     "metadata": {},
     "output_type": "execute_result"
    }
   ],
   "source": [
    "data1 = df.sample(True, 0.1, seed=42)\n",
    "data1.toPandas().describe()"
   ]
  },
  {
   "cell_type": "code",
   "execution_count": 9,
   "id": "89599379",
   "metadata": {},
   "outputs": [
    {
     "data": {
      "image/png": "[encoded data removed]",
      "text/plain": [
       "<Figure size 1080x360 with 9 Axes>"
      ]
     },
     "metadata": {
      "needs_background": "light"
     },
     "output_type": "display_data"
    }
   ],
   "source": [
    "data = df.sample(True, 1.0, seed=42)\n",
    "data = data.toPandas()\n",
    "data.plot(kind = 'box', subplots = True, figsize = (15,5));"
   ]
  },
  {
   "cell_type": "markdown",
   "id": "6d32b596",
   "metadata": {},
   "source": [
    "Есть множество выбросов, "
   ]
  },
  {
   "cell_type": "markdown",
   "id": "64104eec",
   "metadata": {},
   "source": [
    "# Выборки"
   ]
  },
  {
   "cell_type": "code",
   "execution_count": 10,
   "id": "29350cbd",
   "metadata": {
    "scrolled": true
   },
   "outputs": [
    {
     "name": "stderr",
     "output_type": "stream",
     "text": [
      "                                                                                \r"
     ]
    },
    {
     "name": "stdout",
     "output_type": "stream",
     "text": [
      "16418 4222\n"
     ]
    }
   ],
   "source": [
    "train_data, test_data = df.randomSplit([.8,.2], seed=RANDOM_SEED)\n",
    "print(train_data.count(), test_data.count())"
   ]
  },
  {
   "cell_type": "markdown",
   "id": "e5959e16",
   "metadata": {},
   "source": [
    "# OHE"
   ]
  },
  {
   "cell_type": "code",
   "execution_count": 11,
   "id": "5173b75e",
   "metadata": {
    "scrolled": true
   },
   "outputs": [
    {
     "name": "stderr",
     "output_type": "stream",
     "text": [
      "                                                                                \r"
     ]
    },
    {
     "name": "stdout",
     "output_type": "stream",
     "text": [
      "+---------------+\n",
      "|ocean_proximity|\n",
      "+---------------+\n",
      "|       NEAR BAY|\n",
      "|       NEAR BAY|\n",
      "|       NEAR BAY|\n",
      "+---------------+\n",
      "only showing top 3 rows\n",
      "\n"
     ]
    }
   ],
   "source": [
    "categorical_cols = ['ocean_proximity']\n",
    "numerical_cols  = ['longitude', 'latitude', 'housing_median_age', 'total_rooms', 'total_bedrooms',\n",
    "                  'population', 'households', 'median_income']\n",
    "target = 'median_house_value'\n",
    "\n",
    "indexer = StringIndexer(inputCols=categorical_cols, \n",
    "                        outputCols=[c+'_idx' for c in categorical_cols]) \n",
    "indexer.setHandleInvalid(\"keep\")\n",
    "indexer = indexer.fit(train_data)\n",
    "train_data = indexer.transform(train_data)\n",
    "test_data = indexer.transform(test_data)\n",
    "\n",
    "cols = [c for c in df.columns for i in categorical_cols if (c.startswith(i))]\n",
    "df.select(cols).show(3) "
   ]
  },
  {
   "cell_type": "code",
   "execution_count": 12,
   "id": "1a499c9f",
   "metadata": {},
   "outputs": [
    {
     "name": "stdout",
     "output_type": "stream",
     "text": [
      "+---------------+\n",
      "|ocean_proximity|\n",
      "+---------------+\n",
      "|       NEAR BAY|\n",
      "|       NEAR BAY|\n",
      "|       NEAR BAY|\n",
      "+---------------+\n",
      "only showing top 3 rows\n",
      "\n"
     ]
    }
   ],
   "source": [
    "encoder = OneHotEncoder(inputCols=[c+'_idx' for c in categorical_cols],\n",
    "                        outputCols=[c+'_ohe' for c in categorical_cols])\n",
    "encoder = encoder.fit(train_data)\n",
    "train_data = encoder.transform(train_data)\n",
    "test_data = encoder.transform(test_data)\n",
    "\n",
    "cols = [c for c in df.columns for i in categorical_cols if (c.startswith(i))]\n",
    "df.select(cols).show(3) "
   ]
  },
  {
   "cell_type": "code",
   "execution_count": 13,
   "id": "3e1537a1",
   "metadata": {},
   "outputs": [],
   "source": [
    "categorical_assembler = \\\n",
    "        VectorAssembler(inputCols=[c+'_ohe' for c in categorical_cols],\n",
    "                                        outputCol=\"categorical_features\")\n",
    "train_data = categorical_assembler.transform(train_data)\n",
    "test_data = categorical_assembler.transform(test_data)"
   ]
  },
  {
   "cell_type": "code",
   "execution_count": 14,
   "id": "83d9dfe2",
   "metadata": {},
   "outputs": [],
   "source": [
    "numerical_assembler = VectorAssembler(inputCols=numerical_cols,\n",
    "                                                                            outputCol=\"numerical_features\")\n",
    "train_data = numerical_assembler.transform(train_data)\n",
    "test_data = numerical_assembler.transform(test_data)"
   ]
  },
  {
   "cell_type": "code",
   "execution_count": 15,
   "id": "200aca5d",
   "metadata": {},
   "outputs": [
    {
     "name": "stderr",
     "output_type": "stream",
     "text": [
      "                                                                                \r"
     ]
    }
   ],
   "source": [
    "standardScaler = StandardScaler(inputCol='numerical_features', outputCol=\"numerical_features_scaled\")\n",
    "standardScaler = standardScaler.fit(train_data)\n",
    "train_data = standardScaler.transform(train_data)\n",
    "test_data = standardScaler.transform(test_data)"
   ]
  },
  {
   "cell_type": "code",
   "execution_count": 16,
   "id": "ce923044",
   "metadata": {},
   "outputs": [
    {
     "name": "stdout",
     "output_type": "stream",
     "text": [
      "+--------------------+-------------------------+\n",
      "|categorical_features|numerical_features_scaled|\n",
      "+--------------------+-------------------------+\n",
      "|       (4,[2],[1.0])|     [-61.952887791441...|\n",
      "|       (4,[2],[1.0])|     [-61.927977100733...|\n",
      "|       (4,[2],[1.0])|     [-61.913030686308...|\n",
      "+--------------------+-------------------------+\n",
      "only showing top 3 rows\n",
      "\n"
     ]
    }
   ],
   "source": [
    "all_features = ['categorical_features','numerical_features_scaled']\n",
    "\n",
    "final_assembler = VectorAssembler(inputCols=all_features, \n",
    "                                  outputCol=\"features\") \n",
    "train_data = final_assembler.transform(train_data)\n",
    "test_data = final_assembler.transform(test_data)\n",
    "\n",
    "train_data.select(all_features).show(3)"
   ]
  },
  {
   "cell_type": "markdown",
   "id": "9f0a82f3",
   "metadata": {
    "id": "9f0a82f3"
   },
   "source": [
    "# Обучение моделей"
   ]
  },
  {
   "cell_type": "code",
   "execution_count": 17,
   "id": "bddb08c4",
   "metadata": {
    "id": "bddb08c4"
   },
   "outputs": [
    {
     "name": "stderr",
     "output_type": "stream",
     "text": [
      "24/02/13 08:20:50 WARN Instrumentation: [807dcda5] regParam is zero, which might cause numerical instability and overfitting.\n",
      "24/02/13 08:20:50 WARN BLAS: Failed to load implementation from: com.github.fommil.netlib.NativeSystemBLAS\n",
      "24/02/13 08:20:50 WARN BLAS: Failed to load implementation from: com.github.fommil.netlib.NativeRefBLAS\n",
      "24/02/13 08:20:51 WARN LAPACK: Failed to load implementation from: com.github.fommil.netlib.NativeSystemLAPACK\n",
      "24/02/13 08:20:51 WARN LAPACK: Failed to load implementation from: com.github.fommil.netlib.NativeRefLAPACK\n",
      "24/02/13 08:20:51 WARN Instrumentation: [807dcda5] Cholesky solver failed due to singular covariance matrix. Retrying with Quasi-Newton solver.\n",
      "24/02/13 08:20:52 ERROR LBFGS: Failure! Resetting history: breeze.optimize.FirstOrderException: Line search zoom failed\n",
      "24/02/13 08:20:52 ERROR LBFGS: Failure! Resetting history: breeze.optimize.FirstOrderException: Line search zoom failed\n",
      "                                                                                \r"
     ]
    }
   ],
   "source": [
    "lr = LinearRegression(labelCol=target, featuresCol='features')\n",
    "\n",
    "model = lr.fit(train_data)"
   ]
  },
  {
   "cell_type": "code",
   "execution_count": 18,
   "id": "25417028",
   "metadata": {},
   "outputs": [
    {
     "name": "stdout",
     "output_type": "stream",
     "text": [
      "+------------------+------------------+\n",
      "|median_house_value|        prediction|\n",
      "+------------------+------------------+\n",
      "|          103600.0| 152990.3715510266|\n",
      "|           50800.0|214967.38530553272|\n",
      "|           58100.0|142714.15593254054|\n",
      "|           68400.0| 132483.0438585477|\n",
      "|           72200.0|164098.83915469842|\n",
      "|           67000.0| 154443.3475532611|\n",
      "|           81300.0|152868.89401633572|\n",
      "|           70500.0|164579.10987743875|\n",
      "|           60000.0|142736.46965603065|\n",
      "|          109400.0|171312.66106254095|\n",
      "|           74100.0|150617.92406168673|\n",
      "|           74700.0|167873.14974967577|\n",
      "|           90000.0|209844.44161841832|\n",
      "|          104200.0|200499.70447348617|\n",
      "|           74100.0|157152.61928658327|\n",
      "|           67500.0|148318.58372470038|\n",
      "|          103100.0| 47444.65998452902|\n",
      "|           92500.0|166737.20305493847|\n",
      "|          128100.0|222099.40397158777|\n",
      "|           99600.0|187273.64443719992|\n",
      "+------------------+------------------+\n",
      "only showing top 20 rows\n",
      "\n"
     ]
    }
   ],
   "source": [
    "predictions_lr1 = model.transform(test_data)\n",
    "\n",
    "predictedLabes = predictions_lr1.select(\"median_house_value\", \"prediction\")\n",
    "predictedLabes.show()"
   ]
  },
  {
   "cell_type": "code",
   "execution_count": 19,
   "id": "9bbe00ae",
   "metadata": {},
   "outputs": [
    {
     "name": "stdout",
     "output_type": "stream",
     "text": [
      "root\n",
      " |-- longitude: double (nullable = true)\n",
      " |-- latitude: double (nullable = true)\n",
      " |-- housing_median_age: double (nullable = true)\n",
      " |-- total_rooms: double (nullable = true)\n",
      " |-- total_bedrooms: double (nullable = true)\n",
      " |-- population: double (nullable = true)\n",
      " |-- households: double (nullable = true)\n",
      " |-- median_income: double (nullable = true)\n",
      " |-- median_house_value: double (nullable = true)\n",
      " |-- ocean_proximity: string (nullable = true)\n",
      " |-- ocean_proximity_idx: double (nullable = false)\n",
      " |-- ocean_proximity_ohe: vector (nullable = true)\n",
      " |-- categorical_features: vector (nullable = true)\n",
      " |-- numerical_features: vector (nullable = true)\n",
      " |-- numerical_features_scaled: vector (nullable = true)\n",
      " |-- features: vector (nullable = true)\n",
      "\n"
     ]
    }
   ],
   "source": [
    "train_data.printSchema()"
   ]
  },
  {
   "cell_type": "markdown",
   "id": "7e4c32cf",
   "metadata": {},
   "source": [
    "2-ая модель"
   ]
  },
  {
   "cell_type": "code",
   "execution_count": 20,
   "id": "1786c5a1",
   "metadata": {},
   "outputs": [
    {
     "name": "stderr",
     "output_type": "stream",
     "text": [
      "24/02/13 08:20:55 WARN Instrumentation: [acad0027] regParam is zero, which might cause numerical instability and overfitting.\n"
     ]
    },
    {
     "name": "stdout",
     "output_type": "stream",
     "text": [
      "+------------------+------------------+\n",
      "|median_house_value|        prediction|\n",
      "+------------------+------------------+\n",
      "|          103600.0|101397.02412162302|\n",
      "|           50800.0|183325.89393630996|\n",
      "|           58100.0|109609.16753139347|\n",
      "|           68400.0| 80433.62265204126|\n",
      "|           72200.0|129998.26626467239|\n",
      "|           67000.0|120450.76353007555|\n",
      "|           81300.0|118114.86731983256|\n",
      "|           70500.0|130753.57019857969|\n",
      "|           60000.0|110063.38701110613|\n",
      "|          109400.0|118242.89485678216|\n",
      "|           74100.0|117747.20196598629|\n",
      "|           74700.0|134462.40087530483|\n",
      "|           90000.0|176029.64032920683|\n",
      "|          104200.0|166600.68830535607|\n",
      "|           74100.0|123045.08642223617|\n",
      "|           67500.0|113810.87810349511|\n",
      "|          103100.0|-8400.804344731849|\n",
      "|           92500.0|140926.28126488067|\n",
      "|          128100.0|191273.72227955237|\n",
      "|           99600.0|152718.59373970423|\n",
      "+------------------+------------------+\n",
      "only showing top 20 rows\n",
      "\n"
     ]
    }
   ],
   "source": [
    "numerical_cols = ['longitude', 'latitude', 'housing_median_age', 'total_rooms', 'total_bedrooms', 'population', 'households', 'median_income']\n",
    "train_data_numerical = train_data.select(numerical_cols)\n",
    "test_data_numerical = test_data.select(numerical_cols)\n",
    "\n",
    "assembler = VectorAssembler(inputCols=numerical_cols, outputCol='numerical_featuress')\n",
    "train_data_numerical = assembler.transform(train_data)\n",
    "test_data_numerical = assembler.transform(test_data)\n",
    "\n",
    "lr = LinearRegression(labelCol=target, featuresCol='numerical_featuress')\n",
    "model = lr.fit(train_data_numerical)\n",
    "\n",
    "predictions_lr2 = model.transform(test_data_numerical)\n",
    "\n",
    "predictedLabes = predictions_lr2.select(\"median_house_value\", \"prediction\")\n",
    "predictedLabes.show()"
   ]
  },
  {
   "cell_type": "markdown",
   "id": "757fd103",
   "metadata": {
    "id": "757fd103"
   },
   "source": [
    "# Анализ результатов"
   ]
  },
  {
   "cell_type": "code",
   "execution_count": 21,
   "id": "2b63e935",
   "metadata": {
    "scrolled": true
   },
   "outputs": [
    {
     "name": "stderr",
     "output_type": "stream",
     "text": [
      "                                                                                \r"
     ]
    },
    {
     "name": "stdout",
     "output_type": "stream",
     "text": [
      "RMSE = 68486.7300501659\n",
      "R-squared = 0.6535582201164198\n",
      "MAE = 49867.04607181885\n"
     ]
    }
   ],
   "source": [
    "results = predictions_lr1.select(['prediction', 'median_house_value'])\n",
    " \n",
    "## prepare score-label set\n",
    "results_collect = results.collect()\n",
    "results_list = [ (float(i[0]), float(i[1])) for i in results_collect]\n",
    "scoreAndLabels = spark.sparkContext.parallelize(results_list)\n",
    "\n",
    "metrics = RegressionMetrics(scoreAndLabels)\n",
    "print(\"RMSE = %s\" % metrics.rootMeanSquaredError)\n",
    "print(\"R-squared = %s\" % metrics.r2)\n",
    "print(\"MAE = %s\" % metrics.meanAbsoluteError)"
   ]
  },
  {
   "cell_type": "code",
   "execution_count": 22,
   "id": "5e8186ca",
   "metadata": {},
   "outputs": [
    {
     "name": "stdout",
     "output_type": "stream",
     "text": [
      "RMSE = 69212.86125283771\n",
      "R-squared = 0.6461729709936699\n",
      "MAE = 50866.55977305509\n"
     ]
    }
   ],
   "source": [
    "results = predictions_lr2.select(['prediction', 'median_house_value'])\n",
    " \n",
    "## prepare score-label set\n",
    "results_collect = results.collect()\n",
    "results_list = [ (float(i[0]), float(i[1])) for i in results_collect]\n",
    "scoreAndLabels = spark.sparkContext.parallelize(results_list)\n",
    "\n",
    "metrics = RegressionMetrics(scoreAndLabels)\n",
    "print(\"RMSE = %s\" % metrics.rootMeanSquaredError)\n",
    "print(\"R-squared = %s\" % metrics.r2)\n",
    "print(\"MAE = %s\" % metrics.meanAbsoluteError)"
   ]
  },
  {
   "cell_type": "code",
   "execution_count": 23,
   "id": "ca27e857",
   "metadata": {},
   "outputs": [],
   "source": [
    "spark.stop()"
   ]
  },
  {
   "cell_type": "markdown",
   "id": "eef4655d",
   "metadata": {},
   "source": [
    "*Вывод:* В ходе работы мне пришлось:\n",
    "- использовать Spark для манипуляции с данными\n",
    "- применять трансформеры из библиотеки MLlib для предобработки данных\n",
    "- строить две модели линейной регрессии на разных наборах данных\n",
    "- применять OHE и StandardScaler.\n",
    "\n",
    "Обучив модель и оценив ее на двух видах данных: с категориальными столбцами и без, могу сказать, что лучше показывает себя модель на общих данных,т.е. на всех столбцах. Метрики RMSE и MAE на ней показывают себя лучше, чем на модели без категориальных столбцов."
   ]
  }
 ],
 "metadata": {
  "ExecuteTimeLog": [
   {
    "duration": 26158,
    "start_time": "2023-10-19T09:31:29.568Z"
   },
   {
    "duration": 28963,
    "start_time": "2023-10-19T17:37:45.986Z"
   },
   {
    "duration": 607,
    "start_time": "2023-10-19T17:38:14.952Z"
   },
   {
    "duration": 229,
    "start_time": "2023-10-19T17:38:46.457Z"
   },
   {
    "duration": 82,
    "start_time": "2023-10-19T17:46:27.411Z"
   },
   {
    "duration": 797,
    "start_time": "2023-10-19T17:46:31.860Z"
   },
   {
    "duration": 345,
    "start_time": "2023-10-19T17:47:13.414Z"
   },
   {
    "duration": 264,
    "start_time": "2023-10-19T17:47:57.900Z"
   },
   {
    "duration": 410,
    "start_time": "2023-10-19T17:48:27.353Z"
   },
   {
    "duration": 280,
    "start_time": "2023-10-19T17:48:39.509Z"
   },
   {
    "duration": 5,
    "start_time": "2023-10-19T17:59:56.535Z"
   },
   {
    "duration": 10,
    "start_time": "2023-10-19T18:00:11.539Z"
   },
   {
    "duration": 4,
    "start_time": "2023-10-19T18:00:12.065Z"
   },
   {
    "duration": 276,
    "start_time": "2023-10-19T18:00:41.975Z"
   },
   {
    "duration": 1120,
    "start_time": "2023-10-19T18:06:39.156Z"
   },
   {
    "duration": 76,
    "start_time": "2023-10-19T18:07:01.816Z"
   },
   {
    "duration": 1615,
    "start_time": "2023-10-19T18:07:04.648Z"
   },
   {
    "duration": 1427,
    "start_time": "2023-10-19T18:07:13.403Z"
   },
   {
    "duration": 1490,
    "start_time": "2023-10-19T18:07:21.938Z"
   },
   {
    "duration": 1758,
    "start_time": "2023-10-19T18:07:38.160Z"
   },
   {
    "duration": 1403,
    "start_time": "2023-10-19T18:07:45.179Z"
   },
   {
    "duration": 5167,
    "start_time": "2023-10-19T18:09:33.581Z"
   },
   {
    "duration": 697,
    "start_time": "2023-10-19T18:19:02.589Z"
   },
   {
    "duration": 67,
    "start_time": "2023-10-19T18:19:03.288Z"
   },
   {
    "duration": 132,
    "start_time": "2023-10-19T18:19:03.989Z"
   },
   {
    "duration": 3034,
    "start_time": "2023-10-19T18:19:06.414Z"
   },
   {
    "duration": 3182,
    "start_time": "2023-10-19T18:19:20.070Z"
   },
   {
    "duration": 22,
    "start_time": "2023-10-19T18:20:10.642Z"
   },
   {
    "duration": 12,
    "start_time": "2023-10-19T18:20:35.574Z"
   },
   {
    "duration": 2445,
    "start_time": "2023-10-19T18:20:39.581Z"
   },
   {
    "duration": 514,
    "start_time": "2023-10-19T18:22:29.341Z"
   },
   {
    "duration": 13,
    "start_time": "2023-10-19T18:23:44.215Z"
   },
   {
    "duration": 12,
    "start_time": "2023-10-19T18:23:51.957Z"
   },
   {
    "duration": 5,
    "start_time": "2023-10-19T18:24:45.459Z"
   },
   {
    "duration": 78,
    "start_time": "2023-10-19T18:24:48.729Z"
   },
   {
    "duration": 90,
    "start_time": "2023-10-19T18:24:55.486Z"
   },
   {
    "duration": 136,
    "start_time": "2023-10-19T18:25:11.449Z"
   },
   {
    "duration": 128,
    "start_time": "2023-10-19T18:25:23.671Z"
   },
   {
    "duration": 109,
    "start_time": "2023-10-19T18:25:27.534Z"
   },
   {
    "duration": 106,
    "start_time": "2023-10-19T18:25:40.128Z"
   },
   {
    "duration": 377,
    "start_time": "2023-10-19T18:26:06.642Z"
   },
   {
    "duration": 438,
    "start_time": "2023-10-19T18:26:26.073Z"
   },
   {
    "duration": 312,
    "start_time": "2023-10-19T18:28:23.185Z"
   },
   {
    "duration": 329,
    "start_time": "2023-10-19T18:28:29.306Z"
   },
   {
    "duration": 10,
    "start_time": "2023-10-19T18:28:33.946Z"
   },
   {
    "duration": 115,
    "start_time": "2023-10-19T18:28:45.341Z"
   },
   {
    "duration": 444,
    "start_time": "2023-10-19T18:29:27.508Z"
   },
   {
    "duration": 9,
    "start_time": "2023-10-19T18:29:27.954Z"
   },
   {
    "duration": 227,
    "start_time": "2023-10-19T18:29:27.965Z"
   },
   {
    "duration": 566,
    "start_time": "2023-10-19T18:29:28.194Z"
   },
   {
    "duration": 268,
    "start_time": "2023-10-19T18:29:28.762Z"
   },
   {
    "duration": 91,
    "start_time": "2023-10-19T18:29:31.342Z"
   },
   {
    "duration": 314,
    "start_time": "2023-10-19T18:30:17.867Z"
   },
   {
    "duration": 357,
    "start_time": "2023-10-19T18:30:23.599Z"
   },
   {
    "duration": 7,
    "start_time": "2023-10-19T18:30:23.958Z"
   },
   {
    "duration": 142,
    "start_time": "2023-10-19T18:30:23.967Z"
   },
   {
    "duration": 435,
    "start_time": "2023-10-19T18:30:24.112Z"
   },
   {
    "duration": 327,
    "start_time": "2023-10-19T18:30:24.550Z"
   },
   {
    "duration": 328,
    "start_time": "2023-10-19T18:30:25.234Z"
   },
   {
    "duration": 199,
    "start_time": "2023-10-19T18:30:30.265Z"
   },
   {
    "duration": 311,
    "start_time": "2023-10-19T18:31:03.890Z"
   },
   {
    "duration": 9,
    "start_time": "2023-10-19T18:31:04.203Z"
   },
   {
    "duration": 101,
    "start_time": "2023-10-19T18:31:04.213Z"
   },
   {
    "duration": 308,
    "start_time": "2023-10-19T18:31:04.317Z"
   },
   {
    "duration": 323,
    "start_time": "2023-10-19T18:31:04.627Z"
   },
   {
    "duration": 754,
    "start_time": "2023-10-19T18:31:05.218Z"
   },
   {
    "duration": 308,
    "start_time": "2023-10-19T18:31:32.755Z"
   },
   {
    "duration": 267,
    "start_time": "2023-10-19T18:31:42.596Z"
   },
   {
    "duration": 5,
    "start_time": "2023-10-19T18:31:44.246Z"
   },
   {
    "duration": 510,
    "start_time": "2023-10-19T18:31:57.981Z"
   },
   {
    "duration": 4,
    "start_time": "2023-10-20T15:57:03.068Z"
   },
   {
    "duration": 25908,
    "start_time": "2023-10-20T16:05:57.049Z"
   },
   {
    "duration": 515,
    "start_time": "2023-10-20T16:06:22.960Z"
   },
   {
    "duration": 782,
    "start_time": "2023-10-20T16:06:23.476Z"
   },
   {
    "duration": 1301,
    "start_time": "2023-10-20T16:06:24.261Z"
   },
   {
    "duration": 1575,
    "start_time": "2023-10-20T16:06:25.564Z"
   },
   {
    "duration": 1432,
    "start_time": "2023-10-20T16:06:27.143Z"
   },
   {
    "duration": 1075,
    "start_time": "2023-10-20T16:06:28.577Z"
   },
   {
    "duration": 906,
    "start_time": "2023-10-20T16:06:29.653Z"
   },
   {
    "duration": 1620,
    "start_time": "2023-10-20T16:06:30.561Z"
   },
   {
    "duration": 94,
    "start_time": "2023-10-20T16:06:32.184Z"
   },
   {
    "duration": 1866,
    "start_time": "2023-10-20T16:08:33.198Z"
   },
   {
    "duration": 134,
    "start_time": "2023-10-20T16:08:58.543Z"
   },
   {
    "duration": 131,
    "start_time": "2023-10-20T16:09:06.785Z"
   },
   {
    "duration": 588,
    "start_time": "2023-10-20T16:09:15.881Z"
   },
   {
    "duration": 11,
    "start_time": "2023-10-20T16:09:16.472Z"
   },
   {
    "duration": 369,
    "start_time": "2023-10-20T16:09:16.484Z"
   },
   {
    "duration": 614,
    "start_time": "2023-10-20T16:09:16.855Z"
   },
   {
    "duration": 498,
    "start_time": "2023-10-20T16:09:17.471Z"
   },
   {
    "duration": 492,
    "start_time": "2023-10-20T16:09:17.971Z"
   },
   {
    "duration": 643,
    "start_time": "2023-10-20T16:09:18.464Z"
   },
   {
    "duration": 391,
    "start_time": "2023-10-20T16:09:19.109Z"
   },
   {
    "duration": 1063,
    "start_time": "2023-10-20T16:09:19.503Z"
   },
   {
    "duration": 656,
    "start_time": "2023-10-20T16:09:20.726Z"
   },
   {
    "duration": 169,
    "start_time": "2023-10-20T16:09:21.928Z"
   },
   {
    "duration": 603,
    "start_time": "2023-10-20T16:10:05.463Z"
   },
   {
    "duration": 44,
    "start_time": "2023-10-20T16:10:08.631Z"
   },
   {
    "duration": 27,
    "start_time": "2023-10-20T16:10:57.481Z"
   },
   {
    "duration": 1331,
    "start_time": "2023-10-20T16:11:12.932Z"
   },
   {
    "duration": 375,
    "start_time": "2023-10-20T16:11:48.588Z"
   },
   {
    "duration": 26452,
    "start_time": "2023-10-21T11:17:18.800Z"
   },
   {
    "duration": 385,
    "start_time": "2023-10-21T11:17:45.254Z"
   },
   {
    "duration": 598,
    "start_time": "2023-10-21T11:17:45.641Z"
   },
   {
    "duration": 1220,
    "start_time": "2023-10-21T11:17:46.241Z"
   },
   {
    "duration": 918,
    "start_time": "2023-10-21T11:17:47.462Z"
   },
   {
    "duration": 1161,
    "start_time": "2023-10-21T11:17:48.381Z"
   },
   {
    "duration": 834,
    "start_time": "2023-10-21T11:17:49.543Z"
   },
   {
    "duration": 664,
    "start_time": "2023-10-21T11:17:50.379Z"
   },
   {
    "duration": 1015,
    "start_time": "2023-10-21T11:17:51.044Z"
   },
   {
    "duration": 1595,
    "start_time": "2023-10-21T11:17:52.062Z"
   },
   {
    "duration": 625,
    "start_time": "2023-10-21T11:17:53.659Z"
   },
   {
    "duration": 105,
    "start_time": "2023-10-21T11:17:54.340Z"
   },
   {
    "duration": 93,
    "start_time": "2023-10-21T11:17:54.446Z"
   },
   {
    "duration": 1322,
    "start_time": "2023-10-21T11:17:54.541Z"
   },
   {
    "duration": 576,
    "start_time": "2023-10-21T11:17:55.864Z"
   },
   {
    "duration": 2816,
    "start_time": "2023-10-21T11:17:56.442Z"
   },
   {
    "duration": 22605,
    "start_time": "2023-10-21T13:38:17.284Z"
   },
   {
    "duration": 366,
    "start_time": "2023-10-21T13:38:39.891Z"
   },
   {
    "duration": 608,
    "start_time": "2023-10-21T13:38:40.259Z"
   },
   {
    "duration": 1112,
    "start_time": "2023-10-21T13:38:40.869Z"
   },
   {
    "duration": 963,
    "start_time": "2023-10-21T13:38:41.983Z"
   },
   {
    "duration": 1305,
    "start_time": "2023-10-21T13:38:42.948Z"
   },
   {
    "duration": 842,
    "start_time": "2023-10-21T13:38:44.254Z"
   },
   {
    "duration": 576,
    "start_time": "2023-10-21T13:38:45.140Z"
   },
   {
    "duration": 1061,
    "start_time": "2023-10-21T13:38:45.739Z"
   },
   {
    "duration": 1547,
    "start_time": "2023-10-21T13:38:46.802Z"
   },
   {
    "duration": 637,
    "start_time": "2023-10-21T13:38:48.351Z"
   },
   {
    "duration": 36,
    "start_time": "2023-10-21T13:38:49.039Z"
   },
   {
    "duration": 164,
    "start_time": "2023-10-21T13:38:49.076Z"
   },
   {
    "duration": 1211,
    "start_time": "2023-10-21T13:38:49.242Z"
   },
   {
    "duration": 407,
    "start_time": "2023-10-21T13:38:50.454Z"
   },
   {
    "duration": 3010,
    "start_time": "2023-10-21T13:38:50.863Z"
   },
   {
    "duration": 5214412,
    "start_time": "2023-10-21T13:38:53.875Z"
   },
   {
    "duration": 0,
    "start_time": "2023-10-21T15:05:48.340Z"
   },
   {
    "duration": 0,
    "start_time": "2023-10-21T15:05:48.341Z"
   },
   {
    "duration": 0,
    "start_time": "2023-10-21T15:05:48.341Z"
   },
   {
    "duration": 13714,
    "start_time": "2023-10-21T15:05:50.279Z"
   },
   {
    "duration": 24743,
    "start_time": "2023-10-21T15:06:09.916Z"
   },
   {
    "duration": 273,
    "start_time": "2023-10-21T15:06:36.023Z"
   },
   {
    "duration": 78003,
    "start_time": "2023-10-21T15:06:44.318Z"
   },
   {
    "duration": 0,
    "start_time": "2023-10-21T15:08:02.322Z"
   },
   {
    "duration": 0,
    "start_time": "2023-10-21T15:08:02.323Z"
   },
   {
    "duration": 0,
    "start_time": "2023-10-21T15:08:02.339Z"
   },
   {
    "duration": 0,
    "start_time": "2023-10-21T15:08:02.340Z"
   },
   {
    "duration": 0,
    "start_time": "2023-10-21T15:08:02.340Z"
   },
   {
    "duration": 0,
    "start_time": "2023-10-21T15:08:02.341Z"
   },
   {
    "duration": 0,
    "start_time": "2023-10-21T15:08:02.341Z"
   },
   {
    "duration": 0,
    "start_time": "2023-10-21T15:08:02.342Z"
   },
   {
    "duration": 0,
    "start_time": "2023-10-21T15:08:02.343Z"
   },
   {
    "duration": 0,
    "start_time": "2023-10-21T15:08:02.343Z"
   },
   {
    "duration": 0,
    "start_time": "2023-10-21T15:08:02.344Z"
   },
   {
    "duration": 0,
    "start_time": "2023-10-21T15:08:02.350Z"
   },
   {
    "duration": 0,
    "start_time": "2023-10-21T15:08:02.360Z"
   },
   {
    "duration": 0,
    "start_time": "2023-10-21T15:08:02.361Z"
   },
   {
    "duration": 0,
    "start_time": "2023-10-21T15:08:02.362Z"
   },
   {
    "duration": 0,
    "start_time": "2023-10-21T15:08:02.363Z"
   },
   {
    "duration": 25007,
    "start_time": "2023-10-21T15:08:05.638Z"
   },
   {
    "duration": 406,
    "start_time": "2023-10-21T15:08:30.647Z"
   },
   {
    "duration": 710,
    "start_time": "2023-10-21T15:08:31.054Z"
   },
   {
    "duration": 1305,
    "start_time": "2023-10-21T15:08:31.767Z"
   },
   {
    "duration": 1493,
    "start_time": "2023-10-21T15:08:33.074Z"
   },
   {
    "duration": 1596,
    "start_time": "2023-10-21T15:08:34.568Z"
   },
   {
    "duration": 991,
    "start_time": "2023-10-21T15:08:36.165Z"
   },
   {
    "duration": 572,
    "start_time": "2023-10-21T15:08:37.157Z"
   },
   {
    "duration": 1134,
    "start_time": "2023-10-21T15:08:37.731Z"
   },
   {
    "duration": 1900,
    "start_time": "2023-10-21T15:08:38.867Z"
   },
   {
    "duration": 685,
    "start_time": "2023-10-21T15:08:40.768Z"
   },
   {
    "duration": 107,
    "start_time": "2023-10-21T15:08:41.455Z"
   },
   {
    "duration": 105,
    "start_time": "2023-10-21T15:08:41.563Z"
   },
   {
    "duration": 1371,
    "start_time": "2023-10-21T15:08:41.673Z"
   },
   {
    "duration": 496,
    "start_time": "2023-10-21T15:08:43.048Z"
   },
   {
    "duration": 3222,
    "start_time": "2023-10-21T15:08:43.545Z"
   },
   {
    "duration": 23968,
    "start_time": "2023-10-21T15:10:00.986Z"
   },
   {
    "duration": 402,
    "start_time": "2023-10-21T15:10:24.956Z"
   },
   {
    "duration": 704,
    "start_time": "2023-10-21T15:10:25.359Z"
   },
   {
    "duration": 1190,
    "start_time": "2023-10-21T15:10:26.065Z"
   },
   {
    "duration": 1013,
    "start_time": "2023-10-21T15:10:27.256Z"
   },
   {
    "duration": 1406,
    "start_time": "2023-10-21T15:10:28.270Z"
   },
   {
    "duration": 1327,
    "start_time": "2023-10-21T15:10:29.739Z"
   },
   {
    "duration": 789,
    "start_time": "2023-10-21T15:10:31.068Z"
   },
   {
    "duration": 1539,
    "start_time": "2023-10-21T15:10:31.859Z"
   },
   {
    "duration": 1667,
    "start_time": "2023-10-21T15:10:33.400Z"
   },
   {
    "duration": 781,
    "start_time": "2023-10-21T15:10:35.069Z"
   },
   {
    "duration": 106,
    "start_time": "2023-10-21T15:10:35.852Z"
   },
   {
    "duration": 100,
    "start_time": "2023-10-21T15:10:35.959Z"
   },
   {
    "duration": 1313,
    "start_time": "2023-10-21T15:10:36.062Z"
   },
   {
    "duration": 625,
    "start_time": "2023-10-21T15:10:37.376Z"
   },
   {
    "duration": 3255,
    "start_time": "2023-10-21T15:10:38.002Z"
   },
   {
    "duration": 353,
    "start_time": "2023-10-21T15:10:41.259Z"
   },
   {
    "duration": 24370,
    "start_time": "2023-10-21T15:15:10.910Z"
   },
   {
    "duration": 475,
    "start_time": "2023-10-21T15:15:35.282Z"
   },
   {
    "duration": 680,
    "start_time": "2023-10-21T15:15:35.759Z"
   },
   {
    "duration": 1215,
    "start_time": "2023-10-21T15:15:36.444Z"
   },
   {
    "duration": 1317,
    "start_time": "2023-10-21T15:15:37.661Z"
   },
   {
    "duration": 1565,
    "start_time": "2023-10-21T15:15:38.979Z"
   },
   {
    "duration": 1057,
    "start_time": "2023-10-21T15:15:40.545Z"
   },
   {
    "duration": 663,
    "start_time": "2023-10-21T15:15:41.603Z"
   },
   {
    "duration": 1407,
    "start_time": "2023-10-21T15:15:42.268Z"
   },
   {
    "duration": 1789,
    "start_time": "2023-10-21T15:15:43.677Z"
   },
   {
    "duration": 906,
    "start_time": "2023-10-21T15:15:45.468Z"
   },
   {
    "duration": 112,
    "start_time": "2023-10-21T15:15:46.376Z"
   },
   {
    "duration": 94,
    "start_time": "2023-10-21T15:15:46.489Z"
   },
   {
    "duration": 1575,
    "start_time": "2023-10-21T15:15:46.585Z"
   },
   {
    "duration": 602,
    "start_time": "2023-10-21T15:15:48.162Z"
   },
   {
    "duration": 3489,
    "start_time": "2023-10-21T15:15:48.767Z"
   },
   {
    "duration": 187,
    "start_time": "2023-10-22T10:37:34.907Z"
   },
   {
    "duration": 88,
    "start_time": "2023-10-22T10:37:48.155Z"
   },
   {
    "duration": 27971,
    "start_time": "2023-10-22T16:24:26.607Z"
   },
   {
    "duration": 369,
    "start_time": "2023-10-22T16:24:54.581Z"
   },
   {
    "duration": 830,
    "start_time": "2023-10-22T16:24:54.952Z"
   },
   {
    "duration": 1566,
    "start_time": "2023-10-22T16:24:55.784Z"
   },
   {
    "duration": 1317,
    "start_time": "2023-10-22T16:24:57.351Z"
   },
   {
    "duration": 1681,
    "start_time": "2023-10-22T16:24:58.671Z"
   },
   {
    "duration": 1304,
    "start_time": "2023-10-22T16:25:00.354Z"
   },
   {
    "duration": 807,
    "start_time": "2023-10-22T16:25:01.663Z"
   },
   {
    "duration": 1523,
    "start_time": "2023-10-22T16:25:02.472Z"
   },
   {
    "duration": 2053,
    "start_time": "2023-10-22T16:25:03.997Z"
   },
   {
    "duration": 1034,
    "start_time": "2023-10-22T16:25:06.052Z"
   },
   {
    "duration": 163,
    "start_time": "2023-10-22T16:25:07.087Z"
   },
   {
    "duration": 103,
    "start_time": "2023-10-22T16:25:07.254Z"
   },
   {
    "duration": 1599,
    "start_time": "2023-10-22T16:25:07.359Z"
   },
   {
    "duration": 713,
    "start_time": "2023-10-22T16:25:08.960Z"
   },
   {
    "duration": 3904,
    "start_time": "2023-10-22T16:25:09.674Z"
   },
   {
    "duration": 1079706,
    "start_time": "2023-10-22T16:25:13.580Z"
   },
   {
    "duration": 0,
    "start_time": "2023-10-22T16:43:13.287Z"
   },
   {
    "duration": 41729,
    "start_time": "2023-10-22T16:43:15.833Z"
   },
   {
    "duration": 120689,
    "start_time": "2023-10-22T16:44:44.559Z"
   },
   {
    "duration": 1,
    "start_time": "2023-10-22T16:46:45.272Z"
   },
   {
    "duration": 0,
    "start_time": "2023-10-22T16:46:45.274Z"
   },
   {
    "duration": 0,
    "start_time": "2023-10-22T16:46:45.276Z"
   },
   {
    "duration": 0,
    "start_time": "2023-10-22T16:46:45.279Z"
   },
   {
    "duration": 0,
    "start_time": "2023-10-22T16:46:45.280Z"
   },
   {
    "duration": 0,
    "start_time": "2023-10-22T16:46:45.282Z"
   },
   {
    "duration": 0,
    "start_time": "2023-10-22T16:46:45.283Z"
   },
   {
    "duration": 0,
    "start_time": "2023-10-22T16:46:45.343Z"
   },
   {
    "duration": 0,
    "start_time": "2023-10-22T16:46:45.345Z"
   },
   {
    "duration": 0,
    "start_time": "2023-10-22T16:46:45.347Z"
   },
   {
    "duration": 0,
    "start_time": "2023-10-22T16:46:45.350Z"
   },
   {
    "duration": 0,
    "start_time": "2023-10-22T16:46:45.351Z"
   },
   {
    "duration": 0,
    "start_time": "2023-10-22T16:46:45.355Z"
   },
   {
    "duration": 0,
    "start_time": "2023-10-22T16:46:45.357Z"
   },
   {
    "duration": 0,
    "start_time": "2023-10-22T16:46:45.358Z"
   },
   {
    "duration": 0,
    "start_time": "2023-10-22T16:46:45.360Z"
   },
   {
    "duration": 0,
    "start_time": "2023-10-22T16:46:45.361Z"
   },
   {
    "duration": 0,
    "start_time": "2023-10-22T16:46:45.362Z"
   },
   {
    "duration": 0,
    "start_time": "2023-10-22T16:46:45.364Z"
   },
   {
    "duration": 43769,
    "start_time": "2023-10-22T16:47:25.960Z"
   },
   {
    "duration": 0,
    "start_time": "2023-10-22T16:48:15.470Z"
   },
   {
    "duration": 0,
    "start_time": "2023-10-22T16:48:15.473Z"
   },
   {
    "duration": 0,
    "start_time": "2023-10-22T16:48:15.477Z"
   },
   {
    "duration": 0,
    "start_time": "2023-10-22T16:48:15.545Z"
   },
   {
    "duration": 0,
    "start_time": "2023-10-22T16:48:15.550Z"
   },
   {
    "duration": 0,
    "start_time": "2023-10-22T16:48:15.555Z"
   },
   {
    "duration": 0,
    "start_time": "2023-10-22T16:48:15.559Z"
   },
   {
    "duration": 0,
    "start_time": "2023-10-22T16:48:15.562Z"
   },
   {
    "duration": 0,
    "start_time": "2023-10-22T16:48:15.576Z"
   },
   {
    "duration": 0,
    "start_time": "2023-10-22T16:48:15.577Z"
   },
   {
    "duration": 0,
    "start_time": "2023-10-22T16:48:15.578Z"
   },
   {
    "duration": 0,
    "start_time": "2023-10-22T16:48:15.579Z"
   },
   {
    "duration": 0,
    "start_time": "2023-10-22T16:48:15.580Z"
   },
   {
    "duration": 0,
    "start_time": "2023-10-22T16:48:15.582Z"
   },
   {
    "duration": 0,
    "start_time": "2023-10-22T16:48:15.582Z"
   },
   {
    "duration": 0,
    "start_time": "2023-10-22T16:48:15.583Z"
   },
   {
    "duration": 0,
    "start_time": "2023-10-22T16:48:15.584Z"
   },
   {
    "duration": 0,
    "start_time": "2023-10-22T16:48:15.645Z"
   },
   {
    "duration": 31594,
    "start_time": "2023-10-22T16:48:18.752Z"
   },
   {
    "duration": 529,
    "start_time": "2023-10-22T16:48:50.349Z"
   },
   {
    "duration": 992,
    "start_time": "2023-10-22T16:48:50.880Z"
   },
   {
    "duration": 1709,
    "start_time": "2023-10-22T16:48:51.875Z"
   },
   {
    "duration": 1306,
    "start_time": "2023-10-22T16:48:53.587Z"
   },
   {
    "duration": 1688,
    "start_time": "2023-10-22T16:48:54.895Z"
   },
   {
    "duration": 1364,
    "start_time": "2023-10-22T16:48:56.585Z"
   },
   {
    "duration": 765,
    "start_time": "2023-10-22T16:48:57.952Z"
   },
   {
    "duration": 1440,
    "start_time": "2023-10-22T16:48:58.718Z"
   },
   {
    "duration": 2093,
    "start_time": "2023-10-22T16:49:00.162Z"
   },
   {
    "duration": 708,
    "start_time": "2023-10-22T16:49:02.260Z"
   },
   {
    "duration": 186,
    "start_time": "2023-10-22T16:49:02.971Z"
   },
   {
    "duration": 108,
    "start_time": "2023-10-22T16:49:03.160Z"
   },
   {
    "duration": 1701,
    "start_time": "2023-10-22T16:49:03.271Z"
   },
   {
    "duration": 695,
    "start_time": "2023-10-22T16:49:04.974Z"
   },
   {
    "duration": 3813,
    "start_time": "2023-10-22T16:49:05.671Z"
   },
   {
    "duration": 6905713,
    "start_time": "2023-10-22T16:49:09.544Z"
   },
   {
    "duration": 0,
    "start_time": "2023-10-22T18:44:15.259Z"
   },
   {
    "duration": 8,
    "start_time": "2023-10-22T19:16:26.182Z"
   },
   {
    "duration": 8,
    "start_time": "2023-10-22T19:18:23.694Z"
   },
   {
    "duration": 19,
    "start_time": "2023-10-23T13:47:05.767Z"
   },
   {
    "duration": 23,
    "start_time": "2023-10-23T13:47:06.703Z"
   },
   {
    "duration": 27403,
    "start_time": "2023-10-23T13:47:13.261Z"
   },
   {
    "duration": 424,
    "start_time": "2023-10-23T13:47:40.667Z"
   },
   {
    "duration": 955,
    "start_time": "2023-10-23T13:47:41.093Z"
   },
   {
    "duration": 1314,
    "start_time": "2023-10-23T13:47:42.050Z"
   },
   {
    "duration": 1072,
    "start_time": "2023-10-23T13:47:43.366Z"
   },
   {
    "duration": 1750,
    "start_time": "2023-10-23T13:47:44.439Z"
   },
   {
    "duration": 1029,
    "start_time": "2023-10-23T13:47:46.249Z"
   },
   {
    "duration": 824,
    "start_time": "2023-10-23T13:47:47.280Z"
   },
   {
    "duration": 1345,
    "start_time": "2023-10-23T13:47:48.105Z"
   },
   {
    "duration": 2026,
    "start_time": "2023-10-23T13:47:49.452Z"
   },
   {
    "duration": 693,
    "start_time": "2023-10-23T13:47:51.479Z"
   },
   {
    "duration": 109,
    "start_time": "2023-10-23T13:47:52.174Z"
   },
   {
    "duration": 90,
    "start_time": "2023-10-23T13:47:52.286Z"
   },
   {
    "duration": 1511,
    "start_time": "2023-10-23T13:47:52.444Z"
   },
   {
    "duration": 703,
    "start_time": "2023-10-23T13:47:53.957Z"
   },
   {
    "duration": 3700,
    "start_time": "2023-10-23T13:47:54.662Z"
   },
   {
    "duration": 6970484,
    "start_time": "2023-10-23T13:47:58.364Z"
   },
   {
    "duration": 25034,
    "start_time": "2023-10-24T16:20:39.974Z"
   },
   {
    "duration": 419,
    "start_time": "2023-10-24T16:21:05.010Z"
   },
   {
    "duration": 688,
    "start_time": "2023-10-24T16:21:12.543Z"
   },
   {
    "duration": 1247,
    "start_time": "2023-10-24T16:21:14.189Z"
   },
   {
    "duration": 1226,
    "start_time": "2023-10-24T16:21:15.437Z"
   },
   {
    "duration": 1343,
    "start_time": "2023-10-24T16:21:16.665Z"
   },
   {
    "duration": 1304,
    "start_time": "2023-10-24T16:21:18.011Z"
   },
   {
    "duration": 598,
    "start_time": "2023-10-24T16:21:19.317Z"
   },
   {
    "duration": 1556,
    "start_time": "2023-10-24T16:21:19.916Z"
   },
   {
    "duration": 1844,
    "start_time": "2023-10-24T16:21:21.474Z"
   },
   {
    "duration": 778,
    "start_time": "2023-10-24T16:21:24.133Z"
   },
   {
    "duration": 45,
    "start_time": "2023-10-24T16:21:25.478Z"
   },
   {
    "duration": 36,
    "start_time": "2023-10-24T16:21:26.111Z"
   },
   {
    "duration": 1247,
    "start_time": "2023-10-24T16:21:26.681Z"
   },
   {
    "duration": 577,
    "start_time": "2023-10-24T16:21:27.931Z"
   },
   {
    "duration": 3360,
    "start_time": "2023-10-24T16:21:28.672Z"
   },
   {
    "duration": 26597,
    "start_time": "2023-10-24T17:48:25.471Z"
   },
   {
    "duration": 511,
    "start_time": "2023-10-24T17:48:52.126Z"
   },
   {
    "duration": 912,
    "start_time": "2023-10-24T17:48:52.639Z"
   },
   {
    "duration": 1298,
    "start_time": "2023-10-24T17:48:53.553Z"
   },
   {
    "duration": 1654,
    "start_time": "2023-10-24T17:48:54.853Z"
   },
   {
    "duration": 1623,
    "start_time": "2023-10-24T17:48:56.510Z"
   },
   {
    "duration": 1025,
    "start_time": "2023-10-24T17:48:58.136Z"
   },
   {
    "duration": 548,
    "start_time": "2023-10-24T17:48:59.163Z"
   },
   {
    "duration": 1345,
    "start_time": "2023-10-24T17:48:59.713Z"
   },
   {
    "duration": 1890,
    "start_time": "2023-10-24T17:49:01.061Z"
   },
   {
    "duration": 802,
    "start_time": "2023-10-24T17:49:02.954Z"
   },
   {
    "duration": 171,
    "start_time": "2023-10-24T17:49:03.757Z"
   },
   {
    "duration": 114,
    "start_time": "2023-10-24T17:49:03.931Z"
   },
   {
    "duration": 1493,
    "start_time": "2023-10-24T17:49:04.048Z"
   },
   {
    "duration": 600,
    "start_time": "2023-10-24T17:49:05.542Z"
   },
   {
    "duration": 3615,
    "start_time": "2023-10-24T17:49:06.144Z"
   },
   {
    "duration": 496898,
    "start_time": "2023-10-24T17:49:09.761Z"
   },
   {
    "duration": 0,
    "start_time": "2023-10-24T17:57:26.664Z"
   },
   {
    "duration": 0,
    "start_time": "2023-10-24T17:57:26.665Z"
   },
   {
    "duration": 0,
    "start_time": "2023-10-24T17:57:26.666Z"
   },
   {
    "duration": 30903,
    "start_time": "2023-10-24T18:02:11.069Z"
   },
   {
    "duration": 606,
    "start_time": "2023-10-24T18:02:41.980Z"
   },
   {
    "duration": 915,
    "start_time": "2023-10-24T18:02:42.627Z"
   },
   {
    "duration": 1817,
    "start_time": "2023-10-24T18:02:43.550Z"
   },
   {
    "duration": 1895,
    "start_time": "2023-10-24T18:02:45.373Z"
   },
   {
    "duration": 1897,
    "start_time": "2023-10-24T18:02:47.274Z"
   },
   {
    "duration": 1412,
    "start_time": "2023-10-24T18:02:49.234Z"
   },
   {
    "duration": 818,
    "start_time": "2023-10-24T18:02:50.652Z"
   },
   {
    "duration": 1672,
    "start_time": "2023-10-24T18:02:51.472Z"
   },
   {
    "duration": 2522,
    "start_time": "2023-10-24T18:02:53.146Z"
   },
   {
    "duration": 1163,
    "start_time": "2023-10-24T18:02:55.671Z"
   },
   {
    "duration": 141,
    "start_time": "2023-10-24T18:02:56.841Z"
   },
   {
    "duration": 154,
    "start_time": "2023-10-24T18:02:56.984Z"
   },
   {
    "duration": 1798,
    "start_time": "2023-10-24T18:02:57.146Z"
   },
   {
    "duration": 718,
    "start_time": "2023-10-24T18:02:58.946Z"
   },
   {
    "duration": 5085,
    "start_time": "2023-10-24T18:02:59.666Z"
   },
   {
    "duration": 165,
    "start_time": "2023-10-24T18:03:04.752Z"
   },
   {
    "duration": 11960,
    "start_time": "2023-10-24T18:03:30.974Z"
   },
   {
    "duration": 795,
    "start_time": "2023-10-24T18:09:32.330Z"
   },
   {
    "duration": 26909,
    "start_time": "2023-10-24T18:09:55.805Z"
   },
   {
    "duration": 256,
    "start_time": "2023-10-24T18:10:27.994Z"
   },
   {
    "duration": 713,
    "start_time": "2023-10-24T18:10:28.302Z"
   },
   {
    "duration": 1314,
    "start_time": "2023-10-24T18:10:29.099Z"
   },
   {
    "duration": 1126,
    "start_time": "2023-10-24T18:10:30.416Z"
   },
   {
    "duration": 1486,
    "start_time": "2023-10-24T18:10:31.544Z"
   },
   {
    "duration": 1129,
    "start_time": "2023-10-24T18:10:33.033Z"
   },
   {
    "duration": 744,
    "start_time": "2023-10-24T18:10:34.164Z"
   },
   {
    "duration": 1368,
    "start_time": "2023-10-24T18:10:34.910Z"
   },
   {
    "duration": 1960,
    "start_time": "2023-10-24T18:10:36.280Z"
   },
   {
    "duration": 778,
    "start_time": "2023-10-24T18:10:38.242Z"
   },
   {
    "duration": 112,
    "start_time": "2023-10-24T18:10:39.022Z"
   },
   {
    "duration": 198,
    "start_time": "2023-10-24T18:10:39.138Z"
   },
   {
    "duration": 1328,
    "start_time": "2023-10-24T18:10:39.401Z"
   },
   {
    "duration": 615,
    "start_time": "2023-10-24T18:10:40.731Z"
   },
   {
    "duration": 3483,
    "start_time": "2023-10-24T18:10:41.348Z"
   },
   {
    "duration": 4386,
    "start_time": "2023-10-24T18:10:44.833Z"
   },
   {
    "duration": 377,
    "start_time": "2023-10-24T18:10:54.632Z"
   },
   {
    "duration": 173,
    "start_time": "2023-10-24T18:12:16.544Z"
   },
   {
    "duration": 1205,
    "start_time": "2023-10-24T18:12:30.328Z"
   },
   {
    "duration": 25725,
    "start_time": "2023-10-24T18:12:45.499Z"
   },
   {
    "duration": 479,
    "start_time": "2023-10-24T18:13:11.229Z"
   },
   {
    "duration": 794,
    "start_time": "2023-10-24T18:13:11.709Z"
   },
   {
    "duration": 2039,
    "start_time": "2023-10-24T18:13:12.505Z"
   },
   {
    "duration": 1097,
    "start_time": "2023-10-24T18:13:23.127Z"
   },
   {
    "duration": 933,
    "start_time": "2023-10-24T18:13:24.888Z"
   },
   {
    "duration": 1678,
    "start_time": "2023-10-24T18:13:25.823Z"
   },
   {
    "duration": 718,
    "start_time": "2023-10-24T18:13:27.503Z"
   },
   {
    "duration": 1383,
    "start_time": "2023-10-24T18:13:28.222Z"
   },
   {
    "duration": 1800,
    "start_time": "2023-10-24T18:13:29.608Z"
   },
   {
    "duration": 90,
    "start_time": "2023-10-24T18:16:35.797Z"
   },
   {
    "duration": 2113,
    "start_time": "2023-10-24T18:16:43.898Z"
   },
   {
    "duration": 154,
    "start_time": "2023-10-24T18:16:46.397Z"
   },
   {
    "duration": 26074,
    "start_time": "2023-10-24T18:17:00.748Z"
   },
   {
    "duration": 507,
    "start_time": "2023-10-24T18:17:26.825Z"
   },
   {
    "duration": 874,
    "start_time": "2023-10-24T18:17:27.333Z"
   },
   {
    "duration": 2098,
    "start_time": "2023-10-24T18:17:28.210Z"
   },
   {
    "duration": 1406,
    "start_time": "2023-10-24T18:17:30.310Z"
   },
   {
    "duration": 1095,
    "start_time": "2023-10-24T18:17:31.717Z"
   },
   {
    "duration": 1113,
    "start_time": "2023-10-24T18:17:32.814Z"
   },
   {
    "duration": 1112,
    "start_time": "2023-10-24T18:17:33.929Z"
   },
   {
    "duration": 1802,
    "start_time": "2023-10-24T18:17:35.043Z"
   },
   {
    "duration": 1884,
    "start_time": "2023-10-24T18:17:36.847Z"
   },
   {
    "duration": 2135,
    "start_time": "2023-10-24T18:17:38.733Z"
   },
   {
    "duration": 132,
    "start_time": "2023-10-24T18:19:03.376Z"
   },
   {
    "duration": 25609,
    "start_time": "2023-10-24T18:20:28.701Z"
   },
   {
    "duration": 503,
    "start_time": "2023-10-24T18:20:54.313Z"
   },
   {
    "duration": 712,
    "start_time": "2023-10-24T18:20:54.818Z"
   },
   {
    "duration": 1924,
    "start_time": "2023-10-24T18:20:55.601Z"
   },
   {
    "duration": 1665,
    "start_time": "2023-10-24T18:20:57.527Z"
   },
   {
    "duration": 1012,
    "start_time": "2023-10-24T18:20:59.194Z"
   },
   {
    "duration": 1112,
    "start_time": "2023-10-24T18:21:00.207Z"
   },
   {
    "duration": 1207,
    "start_time": "2023-10-24T18:21:01.321Z"
   },
   {
    "duration": 1867,
    "start_time": "2023-10-24T18:21:02.531Z"
   },
   {
    "duration": 1932,
    "start_time": "2023-10-24T18:21:04.402Z"
   },
   {
    "duration": 2702,
    "start_time": "2023-10-24T18:21:06.335Z"
   },
   {
    "duration": 25556,
    "start_time": "2023-10-24T18:21:22.058Z"
   },
   {
    "duration": 310,
    "start_time": "2023-10-24T18:21:47.616Z"
   },
   {
    "duration": 785,
    "start_time": "2023-10-24T18:21:47.928Z"
   },
   {
    "duration": 2094,
    "start_time": "2023-10-24T18:21:48.716Z"
   },
   {
    "duration": 1397,
    "start_time": "2023-10-24T18:21:50.812Z"
   },
   {
    "duration": 999,
    "start_time": "2023-10-24T18:21:52.211Z"
   },
   {
    "duration": 934,
    "start_time": "2023-10-24T18:21:53.212Z"
   },
   {
    "duration": 1099,
    "start_time": "2023-10-24T18:21:54.147Z"
   },
   {
    "duration": 1592,
    "start_time": "2023-10-24T18:21:55.248Z"
   },
   {
    "duration": 1681,
    "start_time": "2023-10-24T18:21:56.842Z"
   },
   {
    "duration": 2003,
    "start_time": "2023-10-24T18:21:58.525Z"
   },
   {
    "duration": 161,
    "start_time": "2023-10-24T18:22:15.750Z"
   },
   {
    "duration": 123,
    "start_time": "2023-10-24T18:22:26.787Z"
   },
   {
    "duration": 24746,
    "start_time": "2023-10-24T18:22:38.964Z"
   },
   {
    "duration": 491,
    "start_time": "2023-10-24T18:23:03.713Z"
   },
   {
    "duration": 809,
    "start_time": "2023-10-24T18:23:04.206Z"
   },
   {
    "duration": 1893,
    "start_time": "2023-10-24T18:23:05.018Z"
   },
   {
    "duration": 1395,
    "start_time": "2023-10-24T18:23:06.913Z"
   },
   {
    "duration": 1017,
    "start_time": "2023-10-24T18:23:08.309Z"
   },
   {
    "duration": 1084,
    "start_time": "2023-10-24T18:23:09.328Z"
   },
   {
    "duration": 1092,
    "start_time": "2023-10-24T18:23:10.413Z"
   },
   {
    "duration": 1349,
    "start_time": "2023-10-24T18:23:11.507Z"
   },
   {
    "duration": 1572,
    "start_time": "2023-10-24T18:23:12.859Z"
   },
   {
    "duration": 2026,
    "start_time": "2023-10-24T18:23:14.433Z"
   },
   {
    "duration": 24999,
    "start_time": "2023-10-24T18:23:50.410Z"
   },
   {
    "duration": 404,
    "start_time": "2023-10-24T18:24:15.414Z"
   },
   {
    "duration": 696,
    "start_time": "2023-10-24T18:24:15.820Z"
   },
   {
    "duration": 1903,
    "start_time": "2023-10-24T18:24:16.518Z"
   },
   {
    "duration": 1514,
    "start_time": "2023-10-24T18:24:18.423Z"
   },
   {
    "duration": 995,
    "start_time": "2023-10-24T18:24:19.939Z"
   },
   {
    "duration": 912,
    "start_time": "2023-10-24T18:24:20.937Z"
   },
   {
    "duration": 852,
    "start_time": "2023-10-24T18:24:21.851Z"
   },
   {
    "duration": 1145,
    "start_time": "2023-10-24T18:24:22.705Z"
   },
   {
    "duration": 1751,
    "start_time": "2023-10-24T18:24:23.851Z"
   },
   {
    "duration": 1905,
    "start_time": "2023-10-24T18:24:25.604Z"
   },
   {
    "duration": 524,
    "start_time": "2023-10-24T18:25:14.785Z"
   },
   {
    "duration": 99,
    "start_time": "2023-10-24T18:26:21.302Z"
   },
   {
    "duration": 58,
    "start_time": "2023-10-24T18:26:22.044Z"
   },
   {
    "duration": 1431,
    "start_time": "2023-10-24T18:27:15.101Z"
   },
   {
    "duration": 736,
    "start_time": "2023-10-24T18:27:43.202Z"
   },
   {
    "duration": 3225,
    "start_time": "2023-10-24T18:27:49.209Z"
   },
   {
    "duration": 686,
    "start_time": "2023-10-24T18:28:10.717Z"
   },
   {
    "duration": 1249,
    "start_time": "2023-10-24T18:28:26.354Z"
   },
   {
    "duration": 561,
    "start_time": "2023-10-24T18:30:46.555Z"
   },
   {
    "duration": 550,
    "start_time": "2023-10-24T18:31:06.061Z"
   },
   {
    "duration": 25558,
    "start_time": "2023-10-24T18:31:21.459Z"
   },
   {
    "duration": 499,
    "start_time": "2023-10-24T18:31:47.019Z"
   },
   {
    "duration": 704,
    "start_time": "2023-10-24T18:31:47.520Z"
   },
   {
    "duration": 1875,
    "start_time": "2023-10-24T18:31:48.226Z"
   },
   {
    "duration": 1203,
    "start_time": "2023-10-24T18:31:50.103Z"
   },
   {
    "duration": 993,
    "start_time": "2023-10-24T18:31:51.308Z"
   },
   {
    "duration": 1022,
    "start_time": "2023-10-24T18:31:52.303Z"
   },
   {
    "duration": 1176,
    "start_time": "2023-10-24T18:31:53.327Z"
   },
   {
    "duration": 1317,
    "start_time": "2023-10-24T18:31:54.505Z"
   },
   {
    "duration": 25708,
    "start_time": "2023-10-24T18:35:30.303Z"
   },
   {
    "duration": 402,
    "start_time": "2023-10-24T18:35:56.013Z"
   },
   {
    "duration": 715,
    "start_time": "2023-10-24T18:35:56.417Z"
   },
   {
    "duration": 2127,
    "start_time": "2023-10-24T18:35:57.203Z"
   },
   {
    "duration": 1258,
    "start_time": "2023-10-24T18:35:59.332Z"
   },
   {
    "duration": 1015,
    "start_time": "2023-10-24T18:36:00.592Z"
   },
   {
    "duration": 932,
    "start_time": "2023-10-24T18:36:01.609Z"
   },
   {
    "duration": 1104,
    "start_time": "2023-10-24T18:36:02.544Z"
   },
   {
    "duration": 1419,
    "start_time": "2023-10-24T18:36:03.649Z"
   },
   {
    "duration": 1847,
    "start_time": "2023-10-24T18:36:05.071Z"
   },
   {
    "duration": 1998,
    "start_time": "2023-10-24T18:36:06.920Z"
   },
   {
    "duration": 588,
    "start_time": "2023-10-24T18:36:08.920Z"
   },
   {
    "duration": 120,
    "start_time": "2023-10-24T18:36:09.510Z"
   },
   {
    "duration": 172,
    "start_time": "2023-10-24T18:36:09.632Z"
   },
   {
    "duration": 1405,
    "start_time": "2023-10-24T18:36:09.806Z"
   },
   {
    "duration": 735,
    "start_time": "2023-10-24T18:36:11.213Z"
   },
   {
    "duration": 3374,
    "start_time": "2023-10-24T18:36:11.950Z"
   },
   {
    "duration": 679,
    "start_time": "2023-10-24T18:36:15.326Z"
   },
   {
    "duration": 1277,
    "start_time": "2023-10-24T18:36:16.007Z"
   },
   {
    "duration": 0,
    "start_time": "2023-10-24T18:36:17.302Z"
   },
   {
    "duration": 25331,
    "start_time": "2023-10-24T18:37:48.306Z"
   },
   {
    "duration": 501,
    "start_time": "2023-10-24T18:38:13.640Z"
   },
   {
    "duration": 781,
    "start_time": "2023-10-24T18:38:14.143Z"
   },
   {
    "duration": 2092,
    "start_time": "2023-10-24T18:38:14.926Z"
   },
   {
    "duration": 1310,
    "start_time": "2023-10-24T18:38:17.021Z"
   },
   {
    "duration": 1080,
    "start_time": "2023-10-24T18:38:18.333Z"
   },
   {
    "duration": 1000,
    "start_time": "2023-10-24T18:38:19.415Z"
   },
   {
    "duration": 1112,
    "start_time": "2023-10-24T18:38:20.416Z"
   },
   {
    "duration": 1793,
    "start_time": "2023-10-24T18:38:21.530Z"
   },
   {
    "duration": 1900,
    "start_time": "2023-10-24T18:38:23.326Z"
   },
   {
    "duration": 2174,
    "start_time": "2023-10-24T18:38:25.228Z"
   },
   {
    "duration": 540,
    "start_time": "2023-10-24T18:38:27.404Z"
   },
   {
    "duration": 187,
    "start_time": "2023-10-24T18:38:27.946Z"
   },
   {
    "duration": 174,
    "start_time": "2023-10-24T18:38:28.135Z"
   },
   {
    "duration": 1715,
    "start_time": "2023-10-24T18:38:28.311Z"
   },
   {
    "duration": 880,
    "start_time": "2023-10-24T18:38:30.029Z"
   },
   {
    "duration": 4313,
    "start_time": "2023-10-24T18:38:30.911Z"
   },
   {
    "duration": 710,
    "start_time": "2023-10-24T18:38:35.227Z"
   },
   {
    "duration": 1564,
    "start_time": "2023-10-24T18:38:35.939Z"
   },
   {
    "duration": 1170,
    "start_time": "2023-10-24T18:39:11.590Z"
   },
   {
    "duration": 922,
    "start_time": "2023-10-24T18:39:25.107Z"
   },
   {
    "duration": 13,
    "start_time": "2023-10-24T18:43:56.008Z"
   },
   {
    "duration": 563,
    "start_time": "2023-10-24T18:44:06.649Z"
   },
   {
    "duration": 2055,
    "start_time": "2023-10-24T18:45:58.064Z"
   },
   {
    "duration": 974,
    "start_time": "2023-10-24T18:47:10.129Z"
   },
   {
    "duration": 935,
    "start_time": "2023-10-24T18:47:29.889Z"
   },
   {
    "duration": 906,
    "start_time": "2023-10-24T18:47:34.204Z"
   },
   {
    "duration": 830,
    "start_time": "2023-10-24T18:47:51.595Z"
   },
   {
    "duration": 4,
    "start_time": "2023-10-24T18:51:42.534Z"
   },
   {
    "duration": 182,
    "start_time": "2023-10-24T18:54:43.968Z"
   },
   {
    "duration": 27108,
    "start_time": "2023-10-24T18:54:54.333Z"
   },
   {
    "duration": 519,
    "start_time": "2023-10-24T18:55:21.503Z"
   },
   {
    "duration": 888,
    "start_time": "2023-10-24T18:55:22.025Z"
   },
   {
    "duration": 2302,
    "start_time": "2023-10-24T18:55:22.916Z"
   },
   {
    "duration": 1396,
    "start_time": "2023-10-24T18:55:25.220Z"
   },
   {
    "duration": 1187,
    "start_time": "2023-10-24T18:55:26.619Z"
   },
   {
    "duration": 1133,
    "start_time": "2023-10-24T18:55:27.808Z"
   },
   {
    "duration": 1394,
    "start_time": "2023-10-24T18:55:28.943Z"
   },
   {
    "duration": 1402,
    "start_time": "2023-10-24T18:55:30.339Z"
   },
   {
    "duration": 2057,
    "start_time": "2023-10-24T18:55:31.745Z"
   },
   {
    "duration": 2116,
    "start_time": "2023-10-24T18:55:33.804Z"
   },
   {
    "duration": 687,
    "start_time": "2023-10-24T18:55:35.922Z"
   },
   {
    "duration": 211,
    "start_time": "2023-10-24T18:55:36.612Z"
   },
   {
    "duration": 200,
    "start_time": "2023-10-24T18:55:36.826Z"
   },
   {
    "duration": 1793,
    "start_time": "2023-10-24T18:55:37.028Z"
   },
   {
    "duration": 1003,
    "start_time": "2023-10-24T18:55:38.823Z"
   },
   {
    "duration": 4505,
    "start_time": "2023-10-24T18:55:39.829Z"
   },
   {
    "duration": 766,
    "start_time": "2023-10-24T18:55:44.336Z"
   },
   {
    "duration": 5,
    "start_time": "2023-10-24T18:55:45.104Z"
   },
   {
    "duration": 327,
    "start_time": "2023-10-24T18:55:45.111Z"
   },
   {
    "duration": 0,
    "start_time": "2023-10-24T18:55:45.440Z"
   },
   {
    "duration": 0,
    "start_time": "2023-10-24T18:55:45.441Z"
   },
   {
    "duration": 219,
    "start_time": "2023-10-24T18:58:18.690Z"
   },
   {
    "duration": 26079,
    "start_time": "2023-10-24T18:59:24.862Z"
   },
   {
    "duration": 406,
    "start_time": "2023-10-24T18:59:51.003Z"
   },
   {
    "duration": 806,
    "start_time": "2023-10-24T18:59:51.411Z"
   },
   {
    "duration": 2184,
    "start_time": "2023-10-24T18:59:52.219Z"
   },
   {
    "duration": 1817,
    "start_time": "2023-10-24T18:59:54.405Z"
   },
   {
    "duration": 1092,
    "start_time": "2023-10-24T18:59:56.223Z"
   },
   {
    "duration": 1003,
    "start_time": "2023-10-24T18:59:57.316Z"
   },
   {
    "duration": 1122,
    "start_time": "2023-10-24T18:59:58.321Z"
   },
   {
    "duration": 1382,
    "start_time": "2023-10-24T18:59:59.445Z"
   },
   {
    "duration": 1902,
    "start_time": "2023-10-24T19:00:00.830Z"
   },
   {
    "duration": 2369,
    "start_time": "2023-10-24T19:00:02.735Z"
   },
   {
    "duration": 504,
    "start_time": "2023-10-24T19:00:05.107Z"
   },
   {
    "duration": 124,
    "start_time": "2023-10-24T19:00:05.612Z"
   },
   {
    "duration": 269,
    "start_time": "2023-10-24T19:00:05.738Z"
   },
   {
    "duration": 1525,
    "start_time": "2023-10-24T19:00:06.009Z"
   },
   {
    "duration": 968,
    "start_time": "2023-10-24T19:00:07.536Z"
   },
   {
    "duration": 4216,
    "start_time": "2023-10-24T19:00:08.507Z"
   },
   {
    "duration": 694,
    "start_time": "2023-10-24T19:00:12.725Z"
   },
   {
    "duration": 4,
    "start_time": "2023-10-24T19:00:13.421Z"
   },
   {
    "duration": 369,
    "start_time": "2023-10-24T19:00:13.427Z"
   },
   {
    "duration": 0,
    "start_time": "2023-10-24T19:00:13.798Z"
   },
   {
    "duration": 1,
    "start_time": "2023-10-24T19:00:13.799Z"
   },
   {
    "duration": 3010,
    "start_time": "2023-10-24T19:00:32.417Z"
   },
   {
    "duration": 2412,
    "start_time": "2023-10-24T19:00:37.514Z"
   },
   {
    "duration": 973,
    "start_time": "2023-10-24T19:00:39.928Z"
   },
   {
    "duration": 753,
    "start_time": "2023-10-24T19:00:55.103Z"
   },
   {
    "duration": 24842,
    "start_time": "2023-10-24T19:48:25.160Z"
   },
   {
    "duration": 403,
    "start_time": "2023-10-24T19:48:50.004Z"
   },
   {
    "duration": 704,
    "start_time": "2023-10-24T19:48:50.409Z"
   },
   {
    "duration": 2014,
    "start_time": "2023-10-24T19:48:51.115Z"
   },
   {
    "duration": 1289,
    "start_time": "2023-10-24T19:48:53.133Z"
   },
   {
    "duration": 1096,
    "start_time": "2023-10-24T19:48:54.424Z"
   },
   {
    "duration": 1022,
    "start_time": "2023-10-24T19:48:55.522Z"
   },
   {
    "duration": 1210,
    "start_time": "2023-10-24T19:48:56.602Z"
   },
   {
    "duration": 1585,
    "start_time": "2023-10-24T19:48:57.814Z"
   },
   {
    "duration": 1616,
    "start_time": "2023-10-24T19:48:59.401Z"
   },
   {
    "duration": 1984,
    "start_time": "2023-10-24T19:49:01.019Z"
   },
   {
    "duration": 535,
    "start_time": "2023-10-24T19:49:03.005Z"
   },
   {
    "duration": 171,
    "start_time": "2023-10-24T19:49:03.542Z"
   },
   {
    "duration": 108,
    "start_time": "2023-10-24T19:49:03.717Z"
   },
   {
    "duration": 1398,
    "start_time": "2023-10-24T19:49:03.826Z"
   },
   {
    "duration": 781,
    "start_time": "2023-10-24T19:49:05.226Z"
   },
   {
    "duration": 3610,
    "start_time": "2023-10-24T19:49:06.009Z"
   },
   {
    "duration": 689,
    "start_time": "2023-10-24T19:49:09.621Z"
   },
   {
    "duration": 4,
    "start_time": "2023-10-24T19:49:10.312Z"
   },
   {
    "duration": 2897,
    "start_time": "2023-10-24T19:49:10.318Z"
   },
   {
    "duration": 2405,
    "start_time": "2023-10-24T19:49:13.217Z"
   },
   {
    "duration": 980,
    "start_time": "2023-10-24T19:49:15.623Z"
   },
   {
    "duration": 934,
    "start_time": "2023-10-24T19:49:16.605Z"
   },
   {
    "duration": 59,
    "start_time": "2023-10-25T10:16:41.868Z"
   },
   {
    "duration": 8,
    "start_time": "2023-10-25T10:18:53.136Z"
   },
   {
    "duration": 27936,
    "start_time": "2023-10-25T10:18:57.407Z"
   },
   {
    "duration": 621,
    "start_time": "2023-10-25T10:19:25.406Z"
   },
   {
    "duration": 1008,
    "start_time": "2023-10-25T10:19:26.029Z"
   },
   {
    "duration": 1982,
    "start_time": "2023-10-25T10:19:27.040Z"
   },
   {
    "duration": 1983,
    "start_time": "2023-10-25T10:19:29.024Z"
   },
   {
    "duration": 1131,
    "start_time": "2023-10-25T10:19:31.010Z"
   },
   {
    "duration": 1172,
    "start_time": "2023-10-25T10:19:32.142Z"
   },
   {
    "duration": 1057,
    "start_time": "2023-10-25T10:19:33.317Z"
   },
   {
    "duration": 233,
    "start_time": "2023-10-25T10:19:34.376Z"
   },
   {
    "duration": 1058,
    "start_time": "2023-10-25T10:19:48.375Z"
   },
   {
    "duration": 76,
    "start_time": "2023-10-25T10:19:49.435Z"
   },
   {
    "duration": 397,
    "start_time": "2023-10-25T10:19:49.514Z"
   },
   {
    "duration": 664,
    "start_time": "2023-10-25T10:19:50.275Z"
   },
   {
    "duration": 488,
    "start_time": "2023-10-25T10:19:51.846Z"
   },
   {
    "duration": 401,
    "start_time": "2023-10-25T10:19:52.841Z"
   },
   {
    "duration": 673,
    "start_time": "2023-10-25T10:19:53.306Z"
   },
   {
    "duration": 512,
    "start_time": "2023-10-25T10:19:53.980Z"
   },
   {
    "duration": 104,
    "start_time": "2023-10-25T10:19:54.817Z"
   },
   {
    "duration": 28392,
    "start_time": "2023-10-25T10:20:02.861Z"
   },
   {
    "duration": 422,
    "start_time": "2023-10-25T10:20:31.308Z"
   },
   {
    "duration": 816,
    "start_time": "2023-10-25T10:20:31.732Z"
   },
   {
    "duration": 2430,
    "start_time": "2023-10-25T10:20:32.621Z"
   },
   {
    "duration": 1249,
    "start_time": "2023-10-25T10:20:35.111Z"
   },
   {
    "duration": 1526,
    "start_time": "2023-10-25T10:20:36.414Z"
   },
   {
    "duration": 1575,
    "start_time": "2023-10-25T10:20:37.942Z"
   },
   {
    "duration": 1253,
    "start_time": "2023-10-25T10:20:39.529Z"
   },
   {
    "duration": 217,
    "start_time": "2023-10-25T10:20:40.784Z"
   },
   {
    "duration": 153,
    "start_time": "2023-10-25T10:21:27.081Z"
   },
   {
    "duration": 27144,
    "start_time": "2023-10-25T10:21:45.478Z"
   },
   {
    "duration": 481,
    "start_time": "2023-10-25T10:22:12.628Z"
   },
   {
    "duration": 812,
    "start_time": "2023-10-25T10:22:13.113Z"
   },
   {
    "duration": 2223,
    "start_time": "2023-10-25T10:22:13.926Z"
   },
   {
    "duration": 1046,
    "start_time": "2023-10-25T10:22:16.151Z"
   },
   {
    "duration": 1151,
    "start_time": "2023-10-25T10:22:17.198Z"
   },
   {
    "duration": 1291,
    "start_time": "2023-10-25T10:22:18.351Z"
   },
   {
    "duration": 799,
    "start_time": "2023-10-25T10:22:20.833Z"
   },
   {
    "duration": 386,
    "start_time": "2023-10-25T10:22:21.634Z"
   },
   {
    "duration": 35,
    "start_time": "2023-10-25T10:23:28.564Z"
   },
   {
    "duration": 26745,
    "start_time": "2023-10-25T10:23:36.199Z"
   },
   {
    "duration": 444,
    "start_time": "2023-10-25T10:24:03.008Z"
   },
   {
    "duration": 858,
    "start_time": "2023-10-25T10:24:03.454Z"
   },
   {
    "duration": 2317,
    "start_time": "2023-10-25T10:24:04.314Z"
   },
   {
    "duration": 1109,
    "start_time": "2023-10-25T10:24:06.634Z"
   },
   {
    "duration": 1268,
    "start_time": "2023-10-25T10:24:07.745Z"
   },
   {
    "duration": 1323,
    "start_time": "2023-10-25T10:24:09.015Z"
   },
   {
    "duration": 781,
    "start_time": "2023-10-25T10:24:11.417Z"
   },
   {
    "duration": 165,
    "start_time": "2023-10-25T10:24:12.200Z"
   },
   {
    "duration": 25,
    "start_time": "2023-10-25T10:24:24.483Z"
   },
   {
    "duration": 35,
    "start_time": "2023-10-25T10:24:40.219Z"
   },
   {
    "duration": 28042,
    "start_time": "2023-10-25T10:27:07.887Z"
   },
   {
    "duration": 581,
    "start_time": "2023-10-25T10:27:35.933Z"
   },
   {
    "duration": 894,
    "start_time": "2023-10-25T10:27:36.521Z"
   },
   {
    "duration": 2398,
    "start_time": "2023-10-25T10:27:37.418Z"
   },
   {
    "duration": 1619,
    "start_time": "2023-10-25T10:27:39.818Z"
   },
   {
    "duration": 429,
    "start_time": "2023-10-25T10:27:52.302Z"
   },
   {
    "duration": 122,
    "start_time": "2023-10-25T10:28:32.115Z"
   },
   {
    "duration": 121,
    "start_time": "2023-10-25T10:34:56.537Z"
   },
   {
    "duration": 14,
    "start_time": "2023-10-25T10:35:08.818Z"
   },
   {
    "duration": 12,
    "start_time": "2023-10-25T10:35:13.603Z"
   },
   {
    "duration": 1129,
    "start_time": "2023-10-25T10:35:28.287Z"
   },
   {
    "duration": 1509,
    "start_time": "2023-10-25T10:35:48.704Z"
   },
   {
    "duration": 1549,
    "start_time": "2023-10-25T10:35:56.239Z"
   },
   {
    "duration": 1327,
    "start_time": "2023-10-25T10:35:59.068Z"
   },
   {
    "duration": 1490,
    "start_time": "2023-10-25T10:36:05.657Z"
   },
   {
    "duration": 25112,
    "start_time": "2023-10-25T10:37:05.911Z"
   },
   {
    "duration": 396,
    "start_time": "2023-10-25T10:37:31.026Z"
   },
   {
    "duration": 706,
    "start_time": "2023-10-25T10:37:31.424Z"
   },
   {
    "duration": 1707,
    "start_time": "2023-10-25T10:37:32.133Z"
   },
   {
    "duration": 720,
    "start_time": "2023-10-25T10:37:33.842Z"
   },
   {
    "duration": 979,
    "start_time": "2023-10-25T10:37:34.564Z"
   },
   {
    "duration": 932,
    "start_time": "2023-10-25T10:37:35.607Z"
   },
   {
    "duration": 1211,
    "start_time": "2023-10-25T10:37:36.541Z"
   },
   {
    "duration": 1739,
    "start_time": "2023-10-25T10:37:37.754Z"
   },
   {
    "duration": 1715,
    "start_time": "2023-10-25T10:37:39.496Z"
   },
   {
    "duration": 1800,
    "start_time": "2023-10-25T10:37:41.213Z"
   },
   {
    "duration": 598,
    "start_time": "2023-10-25T10:37:43.015Z"
   },
   {
    "duration": 114,
    "start_time": "2023-10-25T10:37:43.614Z"
   },
   {
    "duration": 106,
    "start_time": "2023-10-25T10:37:43.729Z"
   },
   {
    "duration": 1294,
    "start_time": "2023-10-25T10:37:43.837Z"
   },
   {
    "duration": 779,
    "start_time": "2023-10-25T10:37:45.133Z"
   },
   {
    "duration": 3593,
    "start_time": "2023-10-25T10:37:45.914Z"
   },
   {
    "duration": 601,
    "start_time": "2023-10-25T10:37:49.509Z"
   },
   {
    "duration": 4,
    "start_time": "2023-10-25T10:37:50.111Z"
   },
   {
    "duration": 2633,
    "start_time": "2023-10-25T10:37:50.116Z"
   },
   {
    "duration": 1783,
    "start_time": "2023-10-25T10:37:52.750Z"
   },
   {
    "duration": 784,
    "start_time": "2023-10-25T10:37:54.535Z"
   },
   {
    "duration": 1000,
    "start_time": "2023-10-25T10:37:55.321Z"
   },
   {
    "duration": 32085,
    "start_time": "2023-10-25T20:26:06.225Z"
   },
   {
    "duration": 0,
    "start_time": "2023-10-25T20:26:38.312Z"
   },
   {
    "duration": 0,
    "start_time": "2023-10-25T20:26:38.355Z"
   },
   {
    "duration": 0,
    "start_time": "2023-10-25T20:26:38.359Z"
   },
   {
    "duration": 0,
    "start_time": "2023-10-25T20:26:38.359Z"
   },
   {
    "duration": 0,
    "start_time": "2023-10-25T20:26:38.364Z"
   },
   {
    "duration": 0,
    "start_time": "2023-10-25T20:26:38.367Z"
   },
   {
    "duration": 0,
    "start_time": "2023-10-25T20:26:38.370Z"
   },
   {
    "duration": 0,
    "start_time": "2023-10-25T20:26:38.372Z"
   },
   {
    "duration": 30799,
    "start_time": "2023-10-25T20:26:46.798Z"
   },
   {
    "duration": 673,
    "start_time": "2023-10-25T20:27:17.599Z"
   },
   {
    "duration": 910,
    "start_time": "2023-10-25T20:27:18.273Z"
   },
   {
    "duration": 2678,
    "start_time": "2023-10-25T20:27:19.185Z"
   },
   {
    "duration": 1026,
    "start_time": "2023-10-25T20:27:21.865Z"
   },
   {
    "duration": 1314,
    "start_time": "2023-10-25T20:27:22.901Z"
   },
   {
    "duration": 1579,
    "start_time": "2023-10-25T20:27:24.218Z"
   },
   {
    "duration": 1722,
    "start_time": "2023-10-25T20:27:25.799Z"
   },
   {
    "duration": 2523,
    "start_time": "2023-10-25T20:27:27.522Z"
   },
   {
    "duration": 26317,
    "start_time": "2023-10-26T06:35:02.709Z"
   },
   {
    "duration": 486,
    "start_time": "2023-10-26T06:35:29.029Z"
   },
   {
    "duration": 698,
    "start_time": "2023-10-26T06:35:29.518Z"
   },
   {
    "duration": 2123,
    "start_time": "2023-10-26T06:35:30.219Z"
   },
   {
    "duration": 707,
    "start_time": "2023-10-26T06:35:32.344Z"
   },
   {
    "duration": 1111,
    "start_time": "2023-10-26T06:35:33.106Z"
   },
   {
    "duration": 1132,
    "start_time": "2023-10-26T06:35:34.219Z"
   },
   {
    "duration": 1179,
    "start_time": "2023-10-26T06:35:35.406Z"
   },
   {
    "duration": 122,
    "start_time": "2023-10-26T06:35:36.586Z"
   },
   {
    "duration": 690,
    "start_time": "2023-10-26T06:45:26.142Z"
   },
   {
    "duration": 15,
    "start_time": "2023-10-26T06:45:27.278Z"
   },
   {
    "duration": 231,
    "start_time": "2023-10-26T06:45:27.485Z"
   },
   {
    "duration": 669,
    "start_time": "2023-10-26T06:45:28.741Z"
   },
   {
    "duration": 470,
    "start_time": "2023-10-26T06:45:30.438Z"
   },
   {
    "duration": 353,
    "start_time": "2023-10-26T06:45:31.870Z"
   },
   {
    "duration": 635,
    "start_time": "2023-10-26T06:45:32.815Z"
   },
   {
    "duration": 493,
    "start_time": "2023-10-26T06:45:34.343Z"
   },
   {
    "duration": 605,
    "start_time": "2023-10-26T06:47:20.419Z"
   },
   {
    "duration": 107,
    "start_time": "2023-10-26T06:48:05.389Z"
   },
   {
    "duration": 483,
    "start_time": "2023-10-26T06:48:58.961Z"
   },
   {
    "duration": 12,
    "start_time": "2023-10-26T06:49:19.716Z"
   },
   {
    "duration": 1473,
    "start_time": "2023-10-26T06:49:26.855Z"
   },
   {
    "duration": 26104,
    "start_time": "2024-02-13T08:12:56.718Z"
   },
   {
    "duration": 329,
    "start_time": "2024-02-13T08:13:22.873Z"
   },
   {
    "duration": 772,
    "start_time": "2024-02-13T08:13:23.203Z"
   },
   {
    "duration": 1917,
    "start_time": "2024-02-13T08:13:23.978Z"
   },
   {
    "duration": 912,
    "start_time": "2024-02-13T08:13:25.897Z"
   },
   {
    "duration": 1089,
    "start_time": "2024-02-13T08:13:26.811Z"
   },
   {
    "duration": 987,
    "start_time": "2024-02-13T08:13:27.902Z"
   },
   {
    "duration": 782,
    "start_time": "2024-02-13T08:13:28.891Z"
   },
   {
    "duration": 1848,
    "start_time": "2024-02-13T08:13:29.675Z"
   },
   {
    "duration": 1879,
    "start_time": "2024-02-13T08:13:31.526Z"
   },
   {
    "duration": 1873,
    "start_time": "2024-02-13T08:13:33.407Z"
   },
   {
    "duration": 698,
    "start_time": "2024-02-13T08:13:35.282Z"
   },
   {
    "duration": 108,
    "start_time": "2024-02-13T08:13:35.982Z"
   },
   {
    "duration": 108,
    "start_time": "2024-02-13T08:13:36.092Z"
   },
   {
    "duration": 1387,
    "start_time": "2024-02-13T08:13:36.202Z"
   },
   {
    "duration": 718,
    "start_time": "2024-02-13T08:13:37.590Z"
   },
   {
    "duration": 4176,
    "start_time": "2024-02-13T08:13:38.310Z"
   },
   {
    "duration": 611,
    "start_time": "2024-02-13T08:13:42.488Z"
   },
   {
    "duration": 4,
    "start_time": "2024-02-13T08:13:43.101Z"
   },
   {
    "duration": 2717,
    "start_time": "2024-02-13T08:13:43.107Z"
   },
   {
    "duration": 1920,
    "start_time": "2024-02-13T08:13:45.874Z"
   },
   {
    "duration": 983,
    "start_time": "2024-02-13T08:13:47.795Z"
   },
   {
    "duration": 1000,
    "start_time": "2024-02-13T08:13:48.780Z"
   },
   {
    "duration": 25181,
    "start_time": "2024-02-13T08:20:08.805Z"
   },
   {
    "duration": 418,
    "start_time": "2024-02-13T08:20:33.988Z"
   },
   {
    "duration": 768,
    "start_time": "2024-02-13T08:20:34.408Z"
   },
   {
    "duration": 1836,
    "start_time": "2024-02-13T08:20:35.178Z"
   },
   {
    "duration": 991,
    "start_time": "2024-02-13T08:20:37.016Z"
   },
   {
    "duration": 930,
    "start_time": "2024-02-13T08:20:38.074Z"
   },
   {
    "duration": 887,
    "start_time": "2024-02-13T08:20:39.006Z"
   },
   {
    "duration": 713,
    "start_time": "2024-02-13T08:20:39.895Z"
   },
   {
    "duration": 2303,
    "start_time": "2024-02-13T08:20:40.609Z"
   },
   {
    "duration": 1759,
    "start_time": "2024-02-13T08:20:42.914Z"
   },
   {
    "duration": 1906,
    "start_time": "2024-02-13T08:20:44.675Z"
   },
   {
    "duration": 694,
    "start_time": "2024-02-13T08:20:46.582Z"
   },
   {
    "duration": 125,
    "start_time": "2024-02-13T08:20:47.278Z"
   },
   {
    "duration": 166,
    "start_time": "2024-02-13T08:20:47.407Z"
   },
   {
    "duration": 1298,
    "start_time": "2024-02-13T08:20:47.575Z"
   },
   {
    "duration": 698,
    "start_time": "2024-02-13T08:20:48.875Z"
   },
   {
    "duration": 4217,
    "start_time": "2024-02-13T08:20:49.575Z"
   },
   {
    "duration": 683,
    "start_time": "2024-02-13T08:20:53.794Z"
   },
   {
    "duration": 3,
    "start_time": "2024-02-13T08:20:54.479Z"
   },
   {
    "duration": 2699,
    "start_time": "2024-02-13T08:20:54.483Z"
   },
   {
    "duration": 2012,
    "start_time": "2024-02-13T08:20:57.184Z"
   },
   {
    "duration": 883,
    "start_time": "2024-02-13T08:20:59.198Z"
   },
   {
    "duration": 999,
    "start_time": "2024-02-13T08:21:00.083Z"
   }
  ],
  "colab": {
   "name": "PySparkSprint.ipynb",
   "provenance": []
  },
  "kernelspec": {
   "display_name": "Python 3 (ipykernel)",
   "language": "python",
   "name": "python3"
  },
  "language_info": {
   "codemirror_mode": {
    "name": "ipython",
    "version": 3
   },
   "file_extension": ".py",
   "mimetype": "text/x-python",
   "name": "python",
   "nbconvert_exporter": "python",
   "pygments_lexer": "ipython3",
   "version": "3.9.5"
  },
  "toc": {
   "base_numbering": 1,
   "nav_menu": {},
   "number_sections": true,
   "sideBar": true,
   "skip_h1_title": true,
   "title_cell": "Table of Contents",
   "title_sidebar": "Contents",
   "toc_cell": false,
   "toc_position": {},
   "toc_section_display": true,
   "toc_window_display": false
  }
 },
 "nbformat": 4,
 "nbformat_minor": 5
}
