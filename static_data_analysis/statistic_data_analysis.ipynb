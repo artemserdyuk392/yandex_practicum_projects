{
 "cells": [
  {
   "cell_type": "markdown",
   "id": "f7e26344",
   "metadata": {},
   "source": [
    "# Описание проекта:\n",
    "\n",
    "Вы аналитик популярного сервиса аренды самокатов GoFast. Вам передали данные о некоторых пользователях из нескольких городов, а также об их поездках. Проанализируйте данные и проверьте некоторые гипотезы, которые могут помочь бизнесу вырасти.\n",
    "Чтобы совершать поездки по городу, пользователи сервиса GoFast пользуются мобильным приложением. Сервисом можно пользоваться:\n",
    "без подписки \n",
    "абонентская плата отсутствует;\n",
    "стоимость одной минуты поездки — 8 рублей;\n",
    "стоимость старта (начала поездки) — 50 рублей; с подпиской Ultra \n",
    "абонентская плата — 199 рублей в месяц;\n",
    "стоимость одной минуты поездки — 6 рублей;\n",
    "стоимость старта — бесплатно."
   ]
  },
  {
   "cell_type": "markdown",
   "id": "2749f64f",
   "metadata": {},
   "source": [
    "Описание столбцов:"
   ]
  },
  {
   "cell_type": "markdown",
   "id": "6bee103b",
   "metadata": {},
   "source": [
    "Датасет: users_go.csv\n",
    "- `user_id` - уникальный идентификатор пользователя.\n",
    "- `name` - имя пользователя\n",
    "- `age` - возраст пользователя\n",
    "- `city` - город пользователя\n",
    "- `subscription_type` - тип подписки пользователя (ultra, free)"
   ]
  },
  {
   "cell_type": "markdown",
   "id": "a06acd0c",
   "metadata": {},
   "source": [
    "Датасет: rides_go.csv\n",
    "- `user_id` - уникальный идентификатор пользователя\n",
    "- `distance` - расстояние, которое пользователь проехал в текущей сессии (в метрах)\n",
    "- `duration` - продолжительность сессии (в минутах) — время с того момента, как пользователь нажал кнопку «Начать поездку» до момента, как он нажал кнопку «Завершить поездку»\n",
    "- `date` - дата совершения поездки"
   ]
  },
  {
   "cell_type": "markdown",
   "id": "aac42a01",
   "metadata": {},
   "source": [
    "Датафрейм: subscriptions_go.csv\n",
    "\n",
    "- `subscription_type` - тип подписки (ultra, free)\n",
    "- `minute_price` - стоимость одной минуты по данной подписке\n",
    "- `start_ride_price` - стоимость начала поездки\n",
    "- `subscription_fee` - стоимость ежемесячного платежа"
   ]
  },
  {
   "cell_type": "markdown",
   "id": "c42cbe00",
   "metadata": {},
   "source": [
    "#### Шаг 1. Загрузка данных"
   ]
  },
  {
   "cell_type": "code",
   "execution_count": 1,
   "id": "fd3eb8ee",
   "metadata": {},
   "outputs": [],
   "source": [
    "import pandas as pd\n",
    "import numpy as np\n",
    "from scipy import stats as st\n",
    "import matplotlib.pyplot as plt"
   ]
  },
  {
   "cell_type": "code",
   "execution_count": 2,
   "id": "eff9f206",
   "metadata": {
    "scrolled": true
   },
   "outputs": [],
   "source": [
    "users = pd.read_csv('/Users/artemmm/Downloads/users_go.csv')\n",
    "rides = pd.read_csv('/Users/artemmm/Downloads/rides_go.csv')\n",
    "subscr = pd.read_csv('/Users/artemmm/Downloads/subscriptions_go.csv')"
   ]
  },
  {
   "cell_type": "markdown",
   "id": "18eb14ea",
   "metadata": {},
   "source": [
    "импортирую все датафреймы"
   ]
  },
  {
   "cell_type": "code",
   "execution_count": 3,
   "id": "d1a6b708",
   "metadata": {},
   "outputs": [
    {
     "data": {
      "text/html": [
       "<div>\n",
       "<style scoped>\n",
       "    .dataframe tbody tr th:only-of-type {\n",
       "        vertical-align: middle;\n",
       "    }\n",
       "\n",
       "    .dataframe tbody tr th {\n",
       "        vertical-align: top;\n",
       "    }\n",
       "\n",
       "    .dataframe thead th {\n",
       "        text-align: right;\n",
       "    }\n",
       "</style>\n",
       "<table border=\"1\" class=\"dataframe\">\n",
       "  <thead>\n",
       "    <tr style=\"text-align: right;\">\n",
       "      <th></th>\n",
       "      <th>user_id</th>\n",
       "      <th>name</th>\n",
       "      <th>age</th>\n",
       "      <th>city</th>\n",
       "      <th>subscription_type</th>\n",
       "    </tr>\n",
       "  </thead>\n",
       "  <tbody>\n",
       "    <tr>\n",
       "      <th>0</th>\n",
       "      <td>1</td>\n",
       "      <td>Кира</td>\n",
       "      <td>22</td>\n",
       "      <td>Тюмень</td>\n",
       "      <td>ultra</td>\n",
       "    </tr>\n",
       "    <tr>\n",
       "      <th>1</th>\n",
       "      <td>2</td>\n",
       "      <td>Станислав</td>\n",
       "      <td>31</td>\n",
       "      <td>Омск</td>\n",
       "      <td>ultra</td>\n",
       "    </tr>\n",
       "    <tr>\n",
       "      <th>2</th>\n",
       "      <td>3</td>\n",
       "      <td>Алексей</td>\n",
       "      <td>20</td>\n",
       "      <td>Москва</td>\n",
       "      <td>ultra</td>\n",
       "    </tr>\n",
       "    <tr>\n",
       "      <th>3</th>\n",
       "      <td>4</td>\n",
       "      <td>Константин</td>\n",
       "      <td>26</td>\n",
       "      <td>Ростов-на-Дону</td>\n",
       "      <td>ultra</td>\n",
       "    </tr>\n",
       "    <tr>\n",
       "      <th>4</th>\n",
       "      <td>5</td>\n",
       "      <td>Адель</td>\n",
       "      <td>28</td>\n",
       "      <td>Омск</td>\n",
       "      <td>ultra</td>\n",
       "    </tr>\n",
       "  </tbody>\n",
       "</table>\n",
       "</div>"
      ],
      "text/plain": [
       "   user_id        name  age            city subscription_type\n",
       "0        1        Кира   22          Тюмень             ultra\n",
       "1        2   Станислав   31            Омск             ultra\n",
       "2        3     Алексей   20          Москва             ultra\n",
       "3        4  Константин   26  Ростов-на-Дону             ultra\n",
       "4        5       Адель   28            Омск             ultra"
      ]
     },
     "execution_count": 3,
     "metadata": {},
     "output_type": "execute_result"
    }
   ],
   "source": [
    "users.head()"
   ]
  },
  {
   "cell_type": "code",
   "execution_count": 4,
   "id": "880d627c",
   "metadata": {},
   "outputs": [
    {
     "data": {
      "text/html": [
       "<div>\n",
       "<style scoped>\n",
       "    .dataframe tbody tr th:only-of-type {\n",
       "        vertical-align: middle;\n",
       "    }\n",
       "\n",
       "    .dataframe tbody tr th {\n",
       "        vertical-align: top;\n",
       "    }\n",
       "\n",
       "    .dataframe thead th {\n",
       "        text-align: right;\n",
       "    }\n",
       "</style>\n",
       "<table border=\"1\" class=\"dataframe\">\n",
       "  <thead>\n",
       "    <tr style=\"text-align: right;\">\n",
       "      <th></th>\n",
       "      <th>user_id</th>\n",
       "      <th>distance</th>\n",
       "      <th>duration</th>\n",
       "      <th>date</th>\n",
       "    </tr>\n",
       "  </thead>\n",
       "  <tbody>\n",
       "    <tr>\n",
       "      <th>0</th>\n",
       "      <td>1</td>\n",
       "      <td>4409.919140</td>\n",
       "      <td>25.599769</td>\n",
       "      <td>2021-01-01</td>\n",
       "    </tr>\n",
       "    <tr>\n",
       "      <th>1</th>\n",
       "      <td>1</td>\n",
       "      <td>2617.592153</td>\n",
       "      <td>15.816871</td>\n",
       "      <td>2021-01-18</td>\n",
       "    </tr>\n",
       "    <tr>\n",
       "      <th>2</th>\n",
       "      <td>1</td>\n",
       "      <td>754.159807</td>\n",
       "      <td>6.232113</td>\n",
       "      <td>2021-04-20</td>\n",
       "    </tr>\n",
       "    <tr>\n",
       "      <th>3</th>\n",
       "      <td>1</td>\n",
       "      <td>2694.783254</td>\n",
       "      <td>18.511000</td>\n",
       "      <td>2021-08-11</td>\n",
       "    </tr>\n",
       "    <tr>\n",
       "      <th>4</th>\n",
       "      <td>1</td>\n",
       "      <td>4028.687306</td>\n",
       "      <td>26.265803</td>\n",
       "      <td>2021-08-28</td>\n",
       "    </tr>\n",
       "  </tbody>\n",
       "</table>\n",
       "</div>"
      ],
      "text/plain": [
       "   user_id     distance   duration        date\n",
       "0        1  4409.919140  25.599769  2021-01-01\n",
       "1        1  2617.592153  15.816871  2021-01-18\n",
       "2        1   754.159807   6.232113  2021-04-20\n",
       "3        1  2694.783254  18.511000  2021-08-11\n",
       "4        1  4028.687306  26.265803  2021-08-28"
      ]
     },
     "execution_count": 4,
     "metadata": {},
     "output_type": "execute_result"
    }
   ],
   "source": [
    "rides.head()"
   ]
  },
  {
   "cell_type": "code",
   "execution_count": 5,
   "id": "b3a769d9",
   "metadata": {},
   "outputs": [
    {
     "data": {
      "text/html": [
       "<div>\n",
       "<style scoped>\n",
       "    .dataframe tbody tr th:only-of-type {\n",
       "        vertical-align: middle;\n",
       "    }\n",
       "\n",
       "    .dataframe tbody tr th {\n",
       "        vertical-align: top;\n",
       "    }\n",
       "\n",
       "    .dataframe thead th {\n",
       "        text-align: right;\n",
       "    }\n",
       "</style>\n",
       "<table border=\"1\" class=\"dataframe\">\n",
       "  <thead>\n",
       "    <tr style=\"text-align: right;\">\n",
       "      <th></th>\n",
       "      <th>subscription_type</th>\n",
       "      <th>minute_price</th>\n",
       "      <th>start_ride_price</th>\n",
       "      <th>subscription_fee</th>\n",
       "    </tr>\n",
       "  </thead>\n",
       "  <tbody>\n",
       "    <tr>\n",
       "      <th>0</th>\n",
       "      <td>free</td>\n",
       "      <td>8</td>\n",
       "      <td>50</td>\n",
       "      <td>0</td>\n",
       "    </tr>\n",
       "    <tr>\n",
       "      <th>1</th>\n",
       "      <td>ultra</td>\n",
       "      <td>6</td>\n",
       "      <td>0</td>\n",
       "      <td>199</td>\n",
       "    </tr>\n",
       "  </tbody>\n",
       "</table>\n",
       "</div>"
      ],
      "text/plain": [
       "  subscription_type  minute_price  start_ride_price  subscription_fee\n",
       "0              free             8                50                 0\n",
       "1             ultra             6                 0               199"
      ]
     },
     "execution_count": 5,
     "metadata": {},
     "output_type": "execute_result"
    }
   ],
   "source": [
    "subscr.head()"
   ]
  },
  {
   "cell_type": "markdown",
   "id": "47683b96",
   "metadata": {},
   "source": [
    "просмотрел первые 5 строк каждого датафрейма"
   ]
  },
  {
   "cell_type": "code",
   "execution_count": 6,
   "id": "7ff04746",
   "metadata": {},
   "outputs": [
    {
     "name": "stdout",
     "output_type": "stream",
     "text": [
      "<class 'pandas.core.frame.DataFrame'>\n",
      "RangeIndex: 1565 entries, 0 to 1564\n",
      "Data columns (total 5 columns):\n",
      " #   Column             Non-Null Count  Dtype \n",
      "---  ------             --------------  ----- \n",
      " 0   user_id            1565 non-null   int64 \n",
      " 1   name               1565 non-null   object\n",
      " 2   age                1565 non-null   int64 \n",
      " 3   city               1565 non-null   object\n",
      " 4   subscription_type  1565 non-null   object\n",
      "dtypes: int64(2), object(3)\n",
      "memory usage: 61.3+ KB\n",
      "<class 'pandas.core.frame.DataFrame'>\n",
      "RangeIndex: 18068 entries, 0 to 18067\n",
      "Data columns (total 4 columns):\n",
      " #   Column    Non-Null Count  Dtype  \n",
      "---  ------    --------------  -----  \n",
      " 0   user_id   18068 non-null  int64  \n",
      " 1   distance  18068 non-null  float64\n",
      " 2   duration  18068 non-null  float64\n",
      " 3   date      18068 non-null  object \n",
      "dtypes: float64(2), int64(1), object(1)\n",
      "memory usage: 564.8+ KB\n",
      "<class 'pandas.core.frame.DataFrame'>\n",
      "RangeIndex: 2 entries, 0 to 1\n",
      "Data columns (total 4 columns):\n",
      " #   Column             Non-Null Count  Dtype \n",
      "---  ------             --------------  ----- \n",
      " 0   subscription_type  2 non-null      object\n",
      " 1   minute_price       2 non-null      int64 \n",
      " 2   start_ride_price   2 non-null      int64 \n",
      " 3   subscription_fee   2 non-null      int64 \n",
      "dtypes: int64(3), object(1)\n",
      "memory usage: 196.0+ bytes\n"
     ]
    }
   ],
   "source": [
    "users.info()\n",
    "rides.info()\n",
    "subscr.info()"
   ]
  },
  {
   "cell_type": "markdown",
   "id": "1403e787",
   "metadata": {},
   "source": [
    "изучил информацию о каждом датафрейме"
   ]
  },
  {
   "cell_type": "markdown",
   "id": "6a58f47a",
   "metadata": {},
   "source": [
    "Вывод: Датасеты импортировались успешно. Все типы столбцов, кроме столбца 'date' в датафрейме 'rides' правильные."
   ]
  },
  {
   "cell_type": "markdown",
   "id": "e95ebca7",
   "metadata": {},
   "source": [
    "#### Шаг 2. Предобработка данных"
   ]
  },
  {
   "cell_type": "markdown",
   "id": "35951719",
   "metadata": {},
   "source": [
    "ОБРАБОТКА ДУБЛИКАТОВ"
   ]
  },
  {
   "cell_type": "code",
   "execution_count": 7,
   "id": "af6d202c",
   "metadata": {},
   "outputs": [
    {
     "name": "stdout",
     "output_type": "stream",
     "text": [
      "<class 'pandas.core.frame.DataFrame'>\n",
      "RangeIndex: 18068 entries, 0 to 18067\n",
      "Data columns (total 4 columns):\n",
      " #   Column    Non-Null Count  Dtype         \n",
      "---  ------    --------------  -----         \n",
      " 0   user_id   18068 non-null  int64         \n",
      " 1   distance  18068 non-null  float64       \n",
      " 2   duration  18068 non-null  float64       \n",
      " 3   date      18068 non-null  datetime64[ns]\n",
      "dtypes: datetime64[ns](1), float64(2), int64(1)\n",
      "memory usage: 564.8 KB\n"
     ]
    }
   ],
   "source": [
    "rides['date'] = pd.to_datetime(\n",
    "    rides['date'], format='%Y-%m-%d'\n",
    ")\n",
    "rides.info()"
   ]
  },
  {
   "cell_type": "markdown",
   "id": "acab84eb",
   "metadata": {},
   "source": [
    "поменял тип столбца date с object, на datetime64"
   ]
  },
  {
   "cell_type": "code",
   "execution_count": 8,
   "id": "fe1c88a3",
   "metadata": {},
   "outputs": [
    {
     "data": {
      "text/html": [
       "<div>\n",
       "<style scoped>\n",
       "    .dataframe tbody tr th:only-of-type {\n",
       "        vertical-align: middle;\n",
       "    }\n",
       "\n",
       "    .dataframe tbody tr th {\n",
       "        vertical-align: top;\n",
       "    }\n",
       "\n",
       "    .dataframe thead th {\n",
       "        text-align: right;\n",
       "    }\n",
       "</style>\n",
       "<table border=\"1\" class=\"dataframe\">\n",
       "  <thead>\n",
       "    <tr style=\"text-align: right;\">\n",
       "      <th></th>\n",
       "      <th>user_id</th>\n",
       "      <th>distance</th>\n",
       "      <th>duration</th>\n",
       "      <th>date</th>\n",
       "      <th>month</th>\n",
       "    </tr>\n",
       "  </thead>\n",
       "  <tbody>\n",
       "    <tr>\n",
       "      <th>0</th>\n",
       "      <td>1</td>\n",
       "      <td>4409.919140</td>\n",
       "      <td>25.599769</td>\n",
       "      <td>2021-01-01</td>\n",
       "      <td>1</td>\n",
       "    </tr>\n",
       "    <tr>\n",
       "      <th>1</th>\n",
       "      <td>1</td>\n",
       "      <td>2617.592153</td>\n",
       "      <td>15.816871</td>\n",
       "      <td>2021-01-18</td>\n",
       "      <td>1</td>\n",
       "    </tr>\n",
       "    <tr>\n",
       "      <th>2</th>\n",
       "      <td>1</td>\n",
       "      <td>754.159807</td>\n",
       "      <td>6.232113</td>\n",
       "      <td>2021-04-20</td>\n",
       "      <td>4</td>\n",
       "    </tr>\n",
       "    <tr>\n",
       "      <th>3</th>\n",
       "      <td>1</td>\n",
       "      <td>2694.783254</td>\n",
       "      <td>18.511000</td>\n",
       "      <td>2021-08-11</td>\n",
       "      <td>8</td>\n",
       "    </tr>\n",
       "    <tr>\n",
       "      <th>4</th>\n",
       "      <td>1</td>\n",
       "      <td>4028.687306</td>\n",
       "      <td>26.265803</td>\n",
       "      <td>2021-08-28</td>\n",
       "      <td>8</td>\n",
       "    </tr>\n",
       "  </tbody>\n",
       "</table>\n",
       "</div>"
      ],
      "text/plain": [
       "   user_id     distance   duration       date  month\n",
       "0        1  4409.919140  25.599769 2021-01-01      1\n",
       "1        1  2617.592153  15.816871 2021-01-18      1\n",
       "2        1   754.159807   6.232113 2021-04-20      4\n",
       "3        1  2694.783254  18.511000 2021-08-11      8\n",
       "4        1  4028.687306  26.265803 2021-08-28      8"
      ]
     },
     "execution_count": 8,
     "metadata": {},
     "output_type": "execute_result"
    }
   ],
   "source": [
    "rides['month'] = rides['date'].dt.month\n",
    "rides.head()"
   ]
  },
  {
   "cell_type": "markdown",
   "id": "5a279d9a",
   "metadata": {},
   "source": [
    "добавил столбец с номером месяца в датафрейм rides"
   ]
  },
  {
   "cell_type": "code",
   "execution_count": 9,
   "id": "dfc733c4",
   "metadata": {},
   "outputs": [
    {
     "data": {
      "text/plain": [
       "0"
      ]
     },
     "execution_count": 9,
     "metadata": {},
     "output_type": "execute_result"
    }
   ],
   "source": [
    "rides.duplicated().sum()"
   ]
  },
  {
   "cell_type": "code",
   "execution_count": 10,
   "id": "01d2cb05",
   "metadata": {},
   "outputs": [
    {
     "data": {
      "text/plain": [
       "31"
      ]
     },
     "execution_count": 10,
     "metadata": {},
     "output_type": "execute_result"
    }
   ],
   "source": [
    "users.duplicated().sum()"
   ]
  },
  {
   "cell_type": "code",
   "execution_count": 11,
   "id": "d1cc07ab",
   "metadata": {},
   "outputs": [
    {
     "name": "stdout",
     "output_type": "stream",
     "text": [
      "      user_id   name  age       city subscription_type\n",
      "292       293  Агата   26  Краснодар             ultra\n",
      "1534      293  Агата   26  Краснодар             ultra\n"
     ]
    }
   ],
   "source": [
    "#print(users[users.duplicated() == True]) #смотрел дубликаты и выбрал один для сравнения\n",
    "print(users[users['user_id'] == 293])"
   ]
  },
  {
   "cell_type": "markdown",
   "id": "83e9ff36",
   "metadata": {},
   "source": [
    "в датафрейме users были найдены дублирующие строчки. Их 31 штука, удалим."
   ]
  },
  {
   "cell_type": "code",
   "execution_count": 12,
   "id": "056bfa2a",
   "metadata": {},
   "outputs": [
    {
     "data": {
      "text/plain": [
       "0"
      ]
     },
     "execution_count": 12,
     "metadata": {},
     "output_type": "execute_result"
    }
   ],
   "source": [
    "users = users.drop_duplicates()\n",
    "users.duplicated().sum()"
   ]
  },
  {
   "cell_type": "markdown",
   "id": "97eefff8",
   "metadata": {},
   "source": [
    "ОБРАБОТКА ПРОПУЩЕННЫХ ЗНАЧЕНИЙ"
   ]
  },
  {
   "cell_type": "code",
   "execution_count": 13,
   "id": "06e4ca37",
   "metadata": {},
   "outputs": [
    {
     "data": {
      "text/plain": [
       "user_id     0\n",
       "distance    0\n",
       "duration    0\n",
       "date        0\n",
       "month       0\n",
       "dtype: int64"
      ]
     },
     "execution_count": 13,
     "metadata": {},
     "output_type": "execute_result"
    }
   ],
   "source": [
    "rides.isna().sum()"
   ]
  },
  {
   "cell_type": "code",
   "execution_count": 14,
   "id": "ceaec4ff",
   "metadata": {},
   "outputs": [
    {
     "data": {
      "text/plain": [
       "user_id              0\n",
       "name                 0\n",
       "age                  0\n",
       "city                 0\n",
       "subscription_type    0\n",
       "dtype: int64"
      ]
     },
     "execution_count": 14,
     "metadata": {},
     "output_type": "execute_result"
    }
   ],
   "source": [
    "users.isna().sum()"
   ]
  },
  {
   "cell_type": "markdown",
   "id": "887efc36",
   "metadata": {},
   "source": [
    "пропущенных значений не найдено"
   ]
  },
  {
   "cell_type": "markdown",
   "id": "212593c7",
   "metadata": {},
   "source": [
    "#### Шаг 3. Исследовательский анализ данных"
   ]
  },
  {
   "cell_type": "markdown",
   "id": "26bcd0b7",
   "metadata": {},
   "source": [
    "3.1 частота встречаемости городов;"
   ]
  },
  {
   "cell_type": "code",
   "execution_count": 15,
   "id": "e3a4274c",
   "metadata": {},
   "outputs": [
    {
     "data": {
      "image/png": "[encoded data removed]",
      "text/plain": [
       "<Figure size 640x480 with 1 Axes>"
      ]
     },
     "metadata": {},
     "output_type": "display_data"
    }
   ],
   "source": [
    "users.pivot_table(index = 'city', values = 'user_id', aggfunc = 'count').sort_values(by = 'user_id', ascending = False).plot(kind = 'bar', xlabel = 'города', ylabel = 'кол-во пользователей', title = 'частота встречаемости городов');"
   ]
  },
  {
   "cell_type": "markdown",
   "id": "4ab07f9c",
   "metadata": {},
   "source": [
    "Видимого различия между частотой встречаемости городов нет, самый частовстречаемый - Пятигорск, редковстречаемый - Москва ;)"
   ]
  },
  {
   "cell_type": "markdown",
   "id": "e03c3aa3",
   "metadata": {},
   "source": [
    "3.2 соотношение пользователей с подпиской и без подписки;"
   ]
  },
  {
   "cell_type": "code",
   "execution_count": 16,
   "id": "7be99988",
   "metadata": {},
   "outputs": [
    {
     "data": {
      "image/png": "[encoded data removed]",
      "text/plain": [
       "<Figure size 640x480 with 1 Axes>"
      ]
     },
     "metadata": {},
     "output_type": "display_data"
    }
   ],
   "source": [
    "users.pivot_table(index= 'subscription_type', values = 'user_id', aggfunc = 'count').plot(kind = 'pie', y = 'user_id', title = 'соотношение пользователей с подпиской и без подписки');\n",
    "plt.ylabel('100% - все пользователи')\n",
    "plt.xlabel('~54% - free \\n ~46% - ultra')\n",
    "plt.show()"
   ]
  },
  {
   "cell_type": "markdown",
   "id": "34079647",
   "metadata": {},
   "source": [
    "На плоте видно, что бесплатной подпиской пользуется большее кол-во пользователей, примерно на 120 человек больше, чем платной."
   ]
  },
  {
   "cell_type": "markdown",
   "id": "d1b651ee",
   "metadata": {},
   "source": [
    "3.3 возраст пользователей;"
   ]
  },
  {
   "cell_type": "code",
   "execution_count": 17,
   "id": "0084eaf8",
   "metadata": {},
   "outputs": [
    {
     "data": {
      "image/png": "[encoded data removed]",
      "text/plain": [
       "<Figure size 640x480 with 1 Axes>"
      ]
     },
     "metadata": {},
     "output_type": "display_data"
    }
   ],
   "source": [
    "users.pivot_table(index= 'age', values = 'user_id', aggfunc = 'count').plot(kind = 'bar', color = 'green', ylabel = 'кол-во пользователей', xlabel = 'возраст', title = 'возраст пользователей');"
   ]
  },
  {
   "cell_type": "markdown",
   "id": "b5672c98",
   "metadata": {},
   "source": [
    "возраст 25 лет встречается чаще всего. Разброс возрастов идет от 12 до 43. "
   ]
  },
  {
   "cell_type": "markdown",
   "id": "a5e8e77e",
   "metadata": {},
   "source": [
    "3.4 расстояние, которое пользователь преодолел за одну поездку;"
   ]
  },
  {
   "cell_type": "code",
   "execution_count": 18,
   "id": "d5be1a34",
   "metadata": {},
   "outputs": [
    {
     "data": {
      "image/png": "[encoded data removed]",
      "text/plain": [
       "<Figure size 640x480 with 1 Axes>"
      ]
     },
     "metadata": {},
     "output_type": "display_data"
    }
   ],
   "source": [
    "rides.pivot_table(index= 'user_id', values = 'distance').plot(kind = 'hist', title = 'расстояние за одну поездку', xlabel = 'расстояние', ylabel = 'кол-во пользователей');\n",
    "plt.xlabel('расстояние (в метрах)')\n",
    "plt.ylabel('кол-во пользователей')\n",
    "plt.show()"
   ]
  },
  {
   "cell_type": "markdown",
   "id": "301dab81",
   "metadata": {},
   "source": [
    "чаще всего совершаются поездки около 3000-3200 метров."
   ]
  },
  {
   "cell_type": "markdown",
   "id": "92d78449",
   "metadata": {},
   "source": [
    "3.5 продолжительность поездок."
   ]
  },
  {
   "cell_type": "code",
   "execution_count": 19,
   "id": "f38cb0f6",
   "metadata": {},
   "outputs": [
    {
     "data": {
      "image/png": "[encoded data removed]",
      "text/plain": [
       "<Figure size 640x480 with 1 Axes>"
      ]
     },
     "metadata": {},
     "output_type": "display_data"
    }
   ],
   "source": [
    "rides.pivot_table(index= 'user_id', values = 'duration').plot(kind = 'hist', title = 'продолжительность поездок');\n",
    "plt.xlabel('минуты')\n",
    "plt.ylabel('кол-во пользователей')\n",
    "plt.show()"
   ]
  },
  {
   "cell_type": "markdown",
   "id": "468487e0",
   "metadata": {},
   "source": [
    "график показывает, что поездки совершаются чаще всего в районе 18 минут."
   ]
  },
  {
   "cell_type": "markdown",
   "id": "4ef51331",
   "metadata": {},
   "source": [
    "#### Шаг 4. Объединение данных"
   ]
  },
  {
   "cell_type": "markdown",
   "id": "63f89b2f",
   "metadata": {},
   "source": [
    "4.1 Объедините данные о пользователях, поездках и подписках в один датафрейм. Для этого воспользуйтесь методом merge()."
   ]
  },
  {
   "cell_type": "code",
   "execution_count": 20,
   "id": "6bf288b5",
   "metadata": {},
   "outputs": [
    {
     "data": {
      "text/html": [
       "<div>\n",
       "<style scoped>\n",
       "    .dataframe tbody tr th:only-of-type {\n",
       "        vertical-align: middle;\n",
       "    }\n",
       "\n",
       "    .dataframe tbody tr th {\n",
       "        vertical-align: top;\n",
       "    }\n",
       "\n",
       "    .dataframe thead th {\n",
       "        text-align: right;\n",
       "    }\n",
       "</style>\n",
       "<table border=\"1\" class=\"dataframe\">\n",
       "  <thead>\n",
       "    <tr style=\"text-align: right;\">\n",
       "      <th></th>\n",
       "      <th>user_id</th>\n",
       "      <th>distance</th>\n",
       "      <th>duration</th>\n",
       "      <th>date</th>\n",
       "      <th>month</th>\n",
       "      <th>name</th>\n",
       "      <th>age</th>\n",
       "      <th>city</th>\n",
       "      <th>subscription_type</th>\n",
       "      <th>minute_price</th>\n",
       "      <th>start_ride_price</th>\n",
       "      <th>subscription_fee</th>\n",
       "    </tr>\n",
       "  </thead>\n",
       "  <tbody>\n",
       "    <tr>\n",
       "      <th>6500</th>\n",
       "      <td>700</td>\n",
       "      <td>2515.690719</td>\n",
       "      <td>14.944286</td>\n",
       "      <td>2021-01-02</td>\n",
       "      <td>1</td>\n",
       "      <td>Айдар</td>\n",
       "      <td>22</td>\n",
       "      <td>Омск</td>\n",
       "      <td>free</td>\n",
       "      <td>8</td>\n",
       "      <td>50</td>\n",
       "      <td>0</td>\n",
       "    </tr>\n",
       "    <tr>\n",
       "      <th>6501</th>\n",
       "      <td>700</td>\n",
       "      <td>846.932642</td>\n",
       "      <td>16.234663</td>\n",
       "      <td>2021-02-01</td>\n",
       "      <td>2</td>\n",
       "      <td>Айдар</td>\n",
       "      <td>22</td>\n",
       "      <td>Омск</td>\n",
       "      <td>free</td>\n",
       "      <td>8</td>\n",
       "      <td>50</td>\n",
       "      <td>0</td>\n",
       "    </tr>\n",
       "    <tr>\n",
       "      <th>6502</th>\n",
       "      <td>700</td>\n",
       "      <td>4004.434142</td>\n",
       "      <td>20.016628</td>\n",
       "      <td>2021-02-04</td>\n",
       "      <td>2</td>\n",
       "      <td>Айдар</td>\n",
       "      <td>22</td>\n",
       "      <td>Омск</td>\n",
       "      <td>free</td>\n",
       "      <td>8</td>\n",
       "      <td>50</td>\n",
       "      <td>0</td>\n",
       "    </tr>\n",
       "    <tr>\n",
       "      <th>6503</th>\n",
       "      <td>700</td>\n",
       "      <td>1205.911290</td>\n",
       "      <td>9.782872</td>\n",
       "      <td>2021-02-10</td>\n",
       "      <td>2</td>\n",
       "      <td>Айдар</td>\n",
       "      <td>22</td>\n",
       "      <td>Омск</td>\n",
       "      <td>free</td>\n",
       "      <td>8</td>\n",
       "      <td>50</td>\n",
       "      <td>0</td>\n",
       "    </tr>\n",
       "    <tr>\n",
       "      <th>6504</th>\n",
       "      <td>700</td>\n",
       "      <td>3047.379435</td>\n",
       "      <td>17.427673</td>\n",
       "      <td>2021-02-14</td>\n",
       "      <td>2</td>\n",
       "      <td>Айдар</td>\n",
       "      <td>22</td>\n",
       "      <td>Омск</td>\n",
       "      <td>free</td>\n",
       "      <td>8</td>\n",
       "      <td>50</td>\n",
       "      <td>0</td>\n",
       "    </tr>\n",
       "    <tr>\n",
       "      <th>6505</th>\n",
       "      <td>700</td>\n",
       "      <td>4342.002254</td>\n",
       "      <td>22.368009</td>\n",
       "      <td>2021-02-23</td>\n",
       "      <td>2</td>\n",
       "      <td>Айдар</td>\n",
       "      <td>22</td>\n",
       "      <td>Омск</td>\n",
       "      <td>free</td>\n",
       "      <td>8</td>\n",
       "      <td>50</td>\n",
       "      <td>0</td>\n",
       "    </tr>\n",
       "    <tr>\n",
       "      <th>6506</th>\n",
       "      <td>700</td>\n",
       "      <td>3798.334905</td>\n",
       "      <td>18.243756</td>\n",
       "      <td>2021-03-03</td>\n",
       "      <td>3</td>\n",
       "      <td>Айдар</td>\n",
       "      <td>22</td>\n",
       "      <td>Омск</td>\n",
       "      <td>free</td>\n",
       "      <td>8</td>\n",
       "      <td>50</td>\n",
       "      <td>0</td>\n",
       "    </tr>\n",
       "    <tr>\n",
       "      <th>6507</th>\n",
       "      <td>700</td>\n",
       "      <td>2984.551206</td>\n",
       "      <td>15.424899</td>\n",
       "      <td>2021-04-09</td>\n",
       "      <td>4</td>\n",
       "      <td>Айдар</td>\n",
       "      <td>22</td>\n",
       "      <td>Омск</td>\n",
       "      <td>free</td>\n",
       "      <td>8</td>\n",
       "      <td>50</td>\n",
       "      <td>0</td>\n",
       "    </tr>\n",
       "    <tr>\n",
       "      <th>6508</th>\n",
       "      <td>700</td>\n",
       "      <td>3360.107141</td>\n",
       "      <td>16.765497</td>\n",
       "      <td>2021-06-12</td>\n",
       "      <td>6</td>\n",
       "      <td>Айдар</td>\n",
       "      <td>22</td>\n",
       "      <td>Омск</td>\n",
       "      <td>free</td>\n",
       "      <td>8</td>\n",
       "      <td>50</td>\n",
       "      <td>0</td>\n",
       "    </tr>\n",
       "    <tr>\n",
       "      <th>6509</th>\n",
       "      <td>700</td>\n",
       "      <td>2567.543847</td>\n",
       "      <td>11.312160</td>\n",
       "      <td>2021-06-23</td>\n",
       "      <td>6</td>\n",
       "      <td>Айдар</td>\n",
       "      <td>22</td>\n",
       "      <td>Омск</td>\n",
       "      <td>free</td>\n",
       "      <td>8</td>\n",
       "      <td>50</td>\n",
       "      <td>0</td>\n",
       "    </tr>\n",
       "    <tr>\n",
       "      <th>6510</th>\n",
       "      <td>700</td>\n",
       "      <td>4110.232038</td>\n",
       "      <td>15.807640</td>\n",
       "      <td>2021-07-08</td>\n",
       "      <td>7</td>\n",
       "      <td>Айдар</td>\n",
       "      <td>22</td>\n",
       "      <td>Омск</td>\n",
       "      <td>free</td>\n",
       "      <td>8</td>\n",
       "      <td>50</td>\n",
       "      <td>0</td>\n",
       "    </tr>\n",
       "    <tr>\n",
       "      <th>6511</th>\n",
       "      <td>700</td>\n",
       "      <td>288.974241</td>\n",
       "      <td>4.788112</td>\n",
       "      <td>2021-07-18</td>\n",
       "      <td>7</td>\n",
       "      <td>Айдар</td>\n",
       "      <td>22</td>\n",
       "      <td>Омск</td>\n",
       "      <td>free</td>\n",
       "      <td>8</td>\n",
       "      <td>50</td>\n",
       "      <td>0</td>\n",
       "    </tr>\n",
       "    <tr>\n",
       "      <th>6512</th>\n",
       "      <td>700</td>\n",
       "      <td>4071.654669</td>\n",
       "      <td>16.370546</td>\n",
       "      <td>2021-08-17</td>\n",
       "      <td>8</td>\n",
       "      <td>Айдар</td>\n",
       "      <td>22</td>\n",
       "      <td>Омск</td>\n",
       "      <td>free</td>\n",
       "      <td>8</td>\n",
       "      <td>50</td>\n",
       "      <td>0</td>\n",
       "    </tr>\n",
       "    <tr>\n",
       "      <th>6513</th>\n",
       "      <td>700</td>\n",
       "      <td>1920.188901</td>\n",
       "      <td>9.608453</td>\n",
       "      <td>2021-10-08</td>\n",
       "      <td>10</td>\n",
       "      <td>Айдар</td>\n",
       "      <td>22</td>\n",
       "      <td>Омск</td>\n",
       "      <td>free</td>\n",
       "      <td>8</td>\n",
       "      <td>50</td>\n",
       "      <td>0</td>\n",
       "    </tr>\n",
       "    <tr>\n",
       "      <th>6514</th>\n",
       "      <td>700</td>\n",
       "      <td>4402.389717</td>\n",
       "      <td>33.013035</td>\n",
       "      <td>2021-10-15</td>\n",
       "      <td>10</td>\n",
       "      <td>Айдар</td>\n",
       "      <td>22</td>\n",
       "      <td>Омск</td>\n",
       "      <td>free</td>\n",
       "      <td>8</td>\n",
       "      <td>50</td>\n",
       "      <td>0</td>\n",
       "    </tr>\n",
       "    <tr>\n",
       "      <th>6515</th>\n",
       "      <td>700</td>\n",
       "      <td>2409.555418</td>\n",
       "      <td>8.560513</td>\n",
       "      <td>2021-11-03</td>\n",
       "      <td>11</td>\n",
       "      <td>Айдар</td>\n",
       "      <td>22</td>\n",
       "      <td>Омск</td>\n",
       "      <td>free</td>\n",
       "      <td>8</td>\n",
       "      <td>50</td>\n",
       "      <td>0</td>\n",
       "    </tr>\n",
       "    <tr>\n",
       "      <th>6516</th>\n",
       "      <td>700</td>\n",
       "      <td>2639.817512</td>\n",
       "      <td>8.656752</td>\n",
       "      <td>2021-11-14</td>\n",
       "      <td>11</td>\n",
       "      <td>Айдар</td>\n",
       "      <td>22</td>\n",
       "      <td>Омск</td>\n",
       "      <td>free</td>\n",
       "      <td>8</td>\n",
       "      <td>50</td>\n",
       "      <td>0</td>\n",
       "    </tr>\n",
       "    <tr>\n",
       "      <th>6517</th>\n",
       "      <td>700</td>\n",
       "      <td>3686.409695</td>\n",
       "      <td>13.899449</td>\n",
       "      <td>2021-11-21</td>\n",
       "      <td>11</td>\n",
       "      <td>Айдар</td>\n",
       "      <td>22</td>\n",
       "      <td>Омск</td>\n",
       "      <td>free</td>\n",
       "      <td>8</td>\n",
       "      <td>50</td>\n",
       "      <td>0</td>\n",
       "    </tr>\n",
       "  </tbody>\n",
       "</table>\n",
       "</div>"
      ],
      "text/plain": [
       "      user_id     distance   duration       date  month   name  age  city  \\\n",
       "6500      700  2515.690719  14.944286 2021-01-02      1  Айдар   22  Омск   \n",
       "6501      700   846.932642  16.234663 2021-02-01      2  Айдар   22  Омск   \n",
       "6502      700  4004.434142  20.016628 2021-02-04      2  Айдар   22  Омск   \n",
       "6503      700  1205.911290   9.782872 2021-02-10      2  Айдар   22  Омск   \n",
       "6504      700  3047.379435  17.427673 2021-02-14      2  Айдар   22  Омск   \n",
       "6505      700  4342.002254  22.368009 2021-02-23      2  Айдар   22  Омск   \n",
       "6506      700  3798.334905  18.243756 2021-03-03      3  Айдар   22  Омск   \n",
       "6507      700  2984.551206  15.424899 2021-04-09      4  Айдар   22  Омск   \n",
       "6508      700  3360.107141  16.765497 2021-06-12      6  Айдар   22  Омск   \n",
       "6509      700  2567.543847  11.312160 2021-06-23      6  Айдар   22  Омск   \n",
       "6510      700  4110.232038  15.807640 2021-07-08      7  Айдар   22  Омск   \n",
       "6511      700   288.974241   4.788112 2021-07-18      7  Айдар   22  Омск   \n",
       "6512      700  4071.654669  16.370546 2021-08-17      8  Айдар   22  Омск   \n",
       "6513      700  1920.188901   9.608453 2021-10-08     10  Айдар   22  Омск   \n",
       "6514      700  4402.389717  33.013035 2021-10-15     10  Айдар   22  Омск   \n",
       "6515      700  2409.555418   8.560513 2021-11-03     11  Айдар   22  Омск   \n",
       "6516      700  2639.817512   8.656752 2021-11-14     11  Айдар   22  Омск   \n",
       "6517      700  3686.409695  13.899449 2021-11-21     11  Айдар   22  Омск   \n",
       "\n",
       "     subscription_type  minute_price  start_ride_price  subscription_fee  \n",
       "6500              free             8                50                 0  \n",
       "6501              free             8                50                 0  \n",
       "6502              free             8                50                 0  \n",
       "6503              free             8                50                 0  \n",
       "6504              free             8                50                 0  \n",
       "6505              free             8                50                 0  \n",
       "6506              free             8                50                 0  \n",
       "6507              free             8                50                 0  \n",
       "6508              free             8                50                 0  \n",
       "6509              free             8                50                 0  \n",
       "6510              free             8                50                 0  \n",
       "6511              free             8                50                 0  \n",
       "6512              free             8                50                 0  \n",
       "6513              free             8                50                 0  \n",
       "6514              free             8                50                 0  \n",
       "6515              free             8                50                 0  \n",
       "6516              free             8                50                 0  \n",
       "6517              free             8                50                 0  "
      ]
     },
     "execution_count": 20,
     "metadata": {},
     "output_type": "execute_result"
    }
   ],
   "source": [
    "data = rides.merge(users,how = 'inner')\n",
    "data = data.merge(subscr, how = 'inner')\n",
    "data[data['user_id'] == 700]"
   ]
  },
  {
   "cell_type": "code",
   "execution_count": 21,
   "id": "49d66cba",
   "metadata": {},
   "outputs": [
    {
     "name": "stdout",
     "output_type": "stream",
     "text": [
      "<class 'pandas.core.frame.DataFrame'>\n",
      "RangeIndex: 18068 entries, 0 to 18067\n",
      "Data columns (total 12 columns):\n",
      " #   Column             Non-Null Count  Dtype         \n",
      "---  ------             --------------  -----         \n",
      " 0   user_id            18068 non-null  int64         \n",
      " 1   distance           18068 non-null  float64       \n",
      " 2   duration           18068 non-null  float64       \n",
      " 3   date               18068 non-null  datetime64[ns]\n",
      " 4   month              18068 non-null  int32         \n",
      " 5   name               18068 non-null  object        \n",
      " 6   age                18068 non-null  int64         \n",
      " 7   city               18068 non-null  object        \n",
      " 8   subscription_type  18068 non-null  object        \n",
      " 9   minute_price       18068 non-null  int64         \n",
      " 10  start_ride_price   18068 non-null  int64         \n",
      " 11  subscription_fee   18068 non-null  int64         \n",
      "dtypes: datetime64[ns](1), float64(2), int32(1), int64(5), object(3)\n",
      "memory usage: 1.6+ MB\n"
     ]
    }
   ],
   "source": [
    "data.info()"
   ]
  },
  {
   "cell_type": "markdown",
   "id": "53b3bd9f",
   "metadata": {},
   "source": [
    "18068 строк получилось после объединения. Все три датафрейма были объеденины без потери данных."
   ]
  },
  {
   "cell_type": "markdown",
   "id": "3d56d320",
   "metadata": {},
   "source": [
    "4.2 Создайте ещё два датафрейма из датафрейма, созданного на этапе 4.1:\n",
    "c данными о пользователях без подписки;\n",
    "с данными о пользователях с подпиской."
   ]
  },
  {
   "cell_type": "code",
   "execution_count": 22,
   "id": "8731673d",
   "metadata": {},
   "outputs": [],
   "source": [
    "data_without_sub = data[data['subscription_type'] == 'free']\n",
    "data_with_sub = data[data['subscription_type'] == 'ultra']"
   ]
  },
  {
   "cell_type": "code",
   "execution_count": 23,
   "id": "5d22832e",
   "metadata": {},
   "outputs": [
    {
     "name": "stdout",
     "output_type": "stream",
     "text": [
      "<class 'pandas.core.frame.DataFrame'>\n",
      "Index: 11568 entries, 6500 to 18067\n",
      "Data columns (total 12 columns):\n",
      " #   Column             Non-Null Count  Dtype         \n",
      "---  ------             --------------  -----         \n",
      " 0   user_id            11568 non-null  int64         \n",
      " 1   distance           11568 non-null  float64       \n",
      " 2   duration           11568 non-null  float64       \n",
      " 3   date               11568 non-null  datetime64[ns]\n",
      " 4   month              11568 non-null  int32         \n",
      " 5   name               11568 non-null  object        \n",
      " 6   age                11568 non-null  int64         \n",
      " 7   city               11568 non-null  object        \n",
      " 8   subscription_type  11568 non-null  object        \n",
      " 9   minute_price       11568 non-null  int64         \n",
      " 10  start_ride_price   11568 non-null  int64         \n",
      " 11  subscription_fee   11568 non-null  int64         \n",
      "dtypes: datetime64[ns](1), float64(2), int32(1), int64(5), object(3)\n",
      "memory usage: 1.1+ MB\n"
     ]
    }
   ],
   "source": [
    "data_without_sub.info()"
   ]
  },
  {
   "cell_type": "markdown",
   "id": "02e0039d",
   "metadata": {},
   "source": [
    "11568 поездок без подписки."
   ]
  },
  {
   "cell_type": "code",
   "execution_count": 24,
   "id": "99ec5f50",
   "metadata": {},
   "outputs": [
    {
     "name": "stdout",
     "output_type": "stream",
     "text": [
      "<class 'pandas.core.frame.DataFrame'>\n",
      "Index: 6500 entries, 0 to 6499\n",
      "Data columns (total 12 columns):\n",
      " #   Column             Non-Null Count  Dtype         \n",
      "---  ------             --------------  -----         \n",
      " 0   user_id            6500 non-null   int64         \n",
      " 1   distance           6500 non-null   float64       \n",
      " 2   duration           6500 non-null   float64       \n",
      " 3   date               6500 non-null   datetime64[ns]\n",
      " 4   month              6500 non-null   int32         \n",
      " 5   name               6500 non-null   object        \n",
      " 6   age                6500 non-null   int64         \n",
      " 7   city               6500 non-null   object        \n",
      " 8   subscription_type  6500 non-null   object        \n",
      " 9   minute_price       6500 non-null   int64         \n",
      " 10  start_ride_price   6500 non-null   int64         \n",
      " 11  subscription_fee   6500 non-null   int64         \n",
      "dtypes: datetime64[ns](1), float64(2), int32(1), int64(5), object(3)\n",
      "memory usage: 634.8+ KB\n"
     ]
    }
   ],
   "source": [
    "data_with_sub.info()"
   ]
  },
  {
   "cell_type": "markdown",
   "id": "5b79367c",
   "metadata": {},
   "source": [
    "6500 поездок с использованием подписки."
   ]
  },
  {
   "cell_type": "markdown",
   "id": "bf11ddb7",
   "metadata": {},
   "source": [
    "4.3 Визуализируйте информацию о расстоянии и времени поездок для пользователей обеих категорий.\n"
   ]
  },
  {
   "cell_type": "code",
   "execution_count": 25,
   "id": "d95e3414",
   "metadata": {},
   "outputs": [
    {
     "data": {
      "image/png": "[encoded data removed]",
      "text/plain": [
       "<Figure size 640x480 with 1 Axes>"
      ]
     },
     "metadata": {},
     "output_type": "display_data"
    }
   ],
   "source": [
    "data.pivot_table(index = 'user_id', columns = 'subscription_type',values = 'duration').plot(kind = 'hist', color = ['red', 'green'], ylabel = 'кол-во пользователей', xlabel = 'минут в пути', title = 'гистограмма о времени поездок для пользователей двух категорий');\n",
    "plt.ylabel('кол-во пользователей')\n",
    "plt.xlabel('время (в минутах)')\n",
    "plt.show()"
   ]
  },
  {
   "cell_type": "markdown",
   "id": "0f8c278e",
   "metadata": {},
   "source": [
    "на графике видно, что время поездки отличается не сильно в зависимости от подписки, пользователи с подпиской ездят чуть дольше, чем те, кто подпиской не пользуются, но разница незначимая."
   ]
  },
  {
   "cell_type": "code",
   "execution_count": 26,
   "id": "c67e8d7e",
   "metadata": {},
   "outputs": [
    {
     "data": {
      "image/png": "[encoded data removed]",
      "text/plain": [
       "<Figure size 640x480 with 1 Axes>"
      ]
     },
     "metadata": {},
     "output_type": "display_data"
    }
   ],
   "source": [
    "data.pivot_table(index = 'user_id', columns = 'subscription_type',values = 'distance').plot(kind = 'hist', color = ['red', 'green'], ylabel = 'расстояние за сессию', xlabel = 'кол-во пользователей', title = 'график о расстоянии за сессию для пользователей обеих категорий');\n",
    "plt.xlabel('расстояние (в метрах)')\n",
    "plt.ylabel('кол-во сессий')\n",
    "plt.show()"
   ]
  },
  {
   "cell_type": "markdown",
   "id": "61d0a22e",
   "metadata": {},
   "source": [
    "С расстоянием поездки та же ситуация, что неудивительно - расстояние поездки примерно одинаковое что у пользователей с подпиской, что без неё."
   ]
  },
  {
   "cell_type": "markdown",
   "id": "402d620f",
   "metadata": {},
   "source": [
    "#### Шаг 5. Подсчёт выручки"
   ]
  },
  {
   "cell_type": "markdown",
   "id": "2117597a",
   "metadata": {},
   "source": [
    "5.1 Создайте датафрейм с агрегированными данными о поездках на основе датафрейма с объединёнными данными из шага 4: найдите суммарное расстояние, количество поездок и суммарное время для каждого пользователя за каждый месяц."
   ]
  },
  {
   "cell_type": "code",
   "execution_count": 27,
   "id": "7e2cd8b1",
   "metadata": {},
   "outputs": [],
   "source": [
    "data['values'] = 1"
   ]
  },
  {
   "cell_type": "markdown",
   "id": "1bd738ee",
   "metadata": {},
   "source": [
    "Создаем столбец 'values', в котором каждая строчка будет заполнена числом 1 - она означает 1 поездку."
   ]
  },
  {
   "cell_type": "code",
   "execution_count": 28,
   "id": "53049e0a",
   "metadata": {},
   "outputs": [
    {
     "data": {
      "text/html": [
       "<div>\n",
       "<style scoped>\n",
       "    .dataframe tbody tr th:only-of-type {\n",
       "        vertical-align: middle;\n",
       "    }\n",
       "\n",
       "    .dataframe tbody tr th {\n",
       "        vertical-align: top;\n",
       "    }\n",
       "\n",
       "    .dataframe thead th {\n",
       "        text-align: right;\n",
       "    }\n",
       "</style>\n",
       "<table border=\"1\" class=\"dataframe\">\n",
       "  <thead>\n",
       "    <tr style=\"text-align: right;\">\n",
       "      <th></th>\n",
       "      <th>user_id</th>\n",
       "      <th>month</th>\n",
       "      <th>subscription_type</th>\n",
       "      <th>distance</th>\n",
       "      <th>duration</th>\n",
       "      <th>values</th>\n",
       "    </tr>\n",
       "  </thead>\n",
       "  <tbody>\n",
       "    <tr>\n",
       "      <th>0</th>\n",
       "      <td>1</td>\n",
       "      <td>1</td>\n",
       "      <td>ultra</td>\n",
       "      <td>7027.511294</td>\n",
       "      <td>41.416640</td>\n",
       "      <td>2</td>\n",
       "    </tr>\n",
       "    <tr>\n",
       "      <th>1</th>\n",
       "      <td>1</td>\n",
       "      <td>4</td>\n",
       "      <td>ultra</td>\n",
       "      <td>754.159807</td>\n",
       "      <td>6.232113</td>\n",
       "      <td>1</td>\n",
       "    </tr>\n",
       "    <tr>\n",
       "      <th>2</th>\n",
       "      <td>1</td>\n",
       "      <td>8</td>\n",
       "      <td>ultra</td>\n",
       "      <td>6723.470560</td>\n",
       "      <td>44.776802</td>\n",
       "      <td>2</td>\n",
       "    </tr>\n",
       "    <tr>\n",
       "      <th>3</th>\n",
       "      <td>1</td>\n",
       "      <td>10</td>\n",
       "      <td>ultra</td>\n",
       "      <td>5809.911100</td>\n",
       "      <td>31.578017</td>\n",
       "      <td>2</td>\n",
       "    </tr>\n",
       "    <tr>\n",
       "      <th>4</th>\n",
       "      <td>1</td>\n",
       "      <td>11</td>\n",
       "      <td>ultra</td>\n",
       "      <td>7003.499363</td>\n",
       "      <td>53.397424</td>\n",
       "      <td>3</td>\n",
       "    </tr>\n",
       "  </tbody>\n",
       "</table>\n",
       "</div>"
      ],
      "text/plain": [
       "   user_id  month subscription_type     distance   duration  values\n",
       "0        1      1             ultra  7027.511294  41.416640       2\n",
       "1        1      4             ultra   754.159807   6.232113       1\n",
       "2        1      8             ultra  6723.470560  44.776802       2\n",
       "3        1     10             ultra  5809.911100  31.578017       2\n",
       "4        1     11             ultra  7003.499363  53.397424       3"
      ]
     },
     "execution_count": 28,
     "metadata": {},
     "output_type": "execute_result"
    }
   ],
   "source": [
    "data_stat = data.pivot_table(index = ['user_id', 'month', 'subscription_type'], values = ['duration','distance', 'values'], aggfunc = {'duration':'sum', 'distance':'sum', 'values':'sum'})\n",
    "data_stat = data_stat.reset_index()\n",
    "data_stat.head()"
   ]
  },
  {
   "cell_type": "markdown",
   "id": "326e1645",
   "metadata": {},
   "source": [
    "через сводную таблицу было посчитано: общее расстояние, общее время, кол-во поездок за каждый месяц для каждого пользователя."
   ]
  },
  {
   "cell_type": "markdown",
   "id": "86dbead5",
   "metadata": {},
   "source": [
    "5.2 В этот же датафрейм добавьте столбец с помесячной выручкой, которую принёс каждый пользователь. Для этого обратитесь к информации об условиях оплаты для подписчиков и тех, у кого нет подписки. Продолжительность каждой поездки в каждой строке исходного датафрейма для подсчёта стоимости округляется до следующего целого числа: например, значения 25.3, 25.5 и 26.0 должны быть преобразованы к 26"
   ]
  },
  {
   "cell_type": "code",
   "execution_count": 29,
   "id": "e1b62c10",
   "metadata": {},
   "outputs": [
    {
     "data": {
      "text/html": [
       "<div>\n",
       "<style scoped>\n",
       "    .dataframe tbody tr th:only-of-type {\n",
       "        vertical-align: middle;\n",
       "    }\n",
       "\n",
       "    .dataframe tbody tr th {\n",
       "        vertical-align: top;\n",
       "    }\n",
       "\n",
       "    .dataframe thead th {\n",
       "        text-align: right;\n",
       "    }\n",
       "</style>\n",
       "<table border=\"1\" class=\"dataframe\">\n",
       "  <thead>\n",
       "    <tr style=\"text-align: right;\">\n",
       "      <th></th>\n",
       "      <th>user_id</th>\n",
       "      <th>month</th>\n",
       "      <th>subscription_type</th>\n",
       "      <th>distance</th>\n",
       "      <th>duration</th>\n",
       "      <th>values</th>\n",
       "      <th>minute_price</th>\n",
       "      <th>start_ride_price</th>\n",
       "      <th>subscription_fee</th>\n",
       "    </tr>\n",
       "  </thead>\n",
       "  <tbody>\n",
       "    <tr>\n",
       "      <th>0</th>\n",
       "      <td>1</td>\n",
       "      <td>1</td>\n",
       "      <td>ultra</td>\n",
       "      <td>7027.511294</td>\n",
       "      <td>41.416640</td>\n",
       "      <td>2</td>\n",
       "      <td>6</td>\n",
       "      <td>0</td>\n",
       "      <td>199</td>\n",
       "    </tr>\n",
       "    <tr>\n",
       "      <th>1</th>\n",
       "      <td>1</td>\n",
       "      <td>4</td>\n",
       "      <td>ultra</td>\n",
       "      <td>754.159807</td>\n",
       "      <td>6.232113</td>\n",
       "      <td>1</td>\n",
       "      <td>6</td>\n",
       "      <td>0</td>\n",
       "      <td>199</td>\n",
       "    </tr>\n",
       "    <tr>\n",
       "      <th>2</th>\n",
       "      <td>1</td>\n",
       "      <td>8</td>\n",
       "      <td>ultra</td>\n",
       "      <td>6723.470560</td>\n",
       "      <td>44.776802</td>\n",
       "      <td>2</td>\n",
       "      <td>6</td>\n",
       "      <td>0</td>\n",
       "      <td>199</td>\n",
       "    </tr>\n",
       "    <tr>\n",
       "      <th>3</th>\n",
       "      <td>1</td>\n",
       "      <td>10</td>\n",
       "      <td>ultra</td>\n",
       "      <td>5809.911100</td>\n",
       "      <td>31.578017</td>\n",
       "      <td>2</td>\n",
       "      <td>6</td>\n",
       "      <td>0</td>\n",
       "      <td>199</td>\n",
       "    </tr>\n",
       "    <tr>\n",
       "      <th>4</th>\n",
       "      <td>1</td>\n",
       "      <td>11</td>\n",
       "      <td>ultra</td>\n",
       "      <td>7003.499363</td>\n",
       "      <td>53.397424</td>\n",
       "      <td>3</td>\n",
       "      <td>6</td>\n",
       "      <td>0</td>\n",
       "      <td>199</td>\n",
       "    </tr>\n",
       "  </tbody>\n",
       "</table>\n",
       "</div>"
      ],
      "text/plain": [
       "   user_id  month subscription_type     distance   duration  values  \\\n",
       "0        1      1             ultra  7027.511294  41.416640       2   \n",
       "1        1      4             ultra   754.159807   6.232113       1   \n",
       "2        1      8             ultra  6723.470560  44.776802       2   \n",
       "3        1     10             ultra  5809.911100  31.578017       2   \n",
       "4        1     11             ultra  7003.499363  53.397424       3   \n",
       "\n",
       "   minute_price  start_ride_price  subscription_fee  \n",
       "0             6                 0               199  \n",
       "1             6                 0               199  \n",
       "2             6                 0               199  \n",
       "3             6                 0               199  \n",
       "4             6                 0               199  "
      ]
     },
     "execution_count": 29,
     "metadata": {},
     "output_type": "execute_result"
    }
   ],
   "source": [
    "data_stat = data_stat.merge(subscr, on = 'subscription_type', how = 'left')\n",
    "data_stat.head()"
   ]
  },
  {
   "cell_type": "markdown",
   "id": "6328a414",
   "metadata": {},
   "source": [
    "Датафреймы объеденины. Добавляем столбец с выручкой."
   ]
  },
  {
   "cell_type": "code",
   "execution_count": 30,
   "id": "752468a5",
   "metadata": {},
   "outputs": [
    {
     "data": {
      "text/html": [
       "<div>\n",
       "<style scoped>\n",
       "    .dataframe tbody tr th:only-of-type {\n",
       "        vertical-align: middle;\n",
       "    }\n",
       "\n",
       "    .dataframe tbody tr th {\n",
       "        vertical-align: top;\n",
       "    }\n",
       "\n",
       "    .dataframe thead th {\n",
       "        text-align: right;\n",
       "    }\n",
       "</style>\n",
       "<table border=\"1\" class=\"dataframe\">\n",
       "  <thead>\n",
       "    <tr style=\"text-align: right;\">\n",
       "      <th></th>\n",
       "      <th>user_id</th>\n",
       "      <th>month</th>\n",
       "      <th>subscription_type</th>\n",
       "      <th>distance</th>\n",
       "      <th>duration</th>\n",
       "      <th>values</th>\n",
       "      <th>minute_price</th>\n",
       "      <th>start_ride_price</th>\n",
       "      <th>subscription_fee</th>\n",
       "      <th>profit</th>\n",
       "    </tr>\n",
       "  </thead>\n",
       "  <tbody>\n",
       "    <tr>\n",
       "      <th>0</th>\n",
       "      <td>1</td>\n",
       "      <td>1</td>\n",
       "      <td>ultra</td>\n",
       "      <td>7027.511294</td>\n",
       "      <td>41.416640</td>\n",
       "      <td>2</td>\n",
       "      <td>6</td>\n",
       "      <td>0</td>\n",
       "      <td>199</td>\n",
       "      <td>448</td>\n",
       "    </tr>\n",
       "    <tr>\n",
       "      <th>1</th>\n",
       "      <td>1</td>\n",
       "      <td>4</td>\n",
       "      <td>ultra</td>\n",
       "      <td>754.159807</td>\n",
       "      <td>6.232113</td>\n",
       "      <td>1</td>\n",
       "      <td>6</td>\n",
       "      <td>0</td>\n",
       "      <td>199</td>\n",
       "      <td>237</td>\n",
       "    </tr>\n",
       "    <tr>\n",
       "      <th>2</th>\n",
       "      <td>1</td>\n",
       "      <td>8</td>\n",
       "      <td>ultra</td>\n",
       "      <td>6723.470560</td>\n",
       "      <td>44.776802</td>\n",
       "      <td>2</td>\n",
       "      <td>6</td>\n",
       "      <td>0</td>\n",
       "      <td>199</td>\n",
       "      <td>468</td>\n",
       "    </tr>\n",
       "    <tr>\n",
       "      <th>3</th>\n",
       "      <td>1</td>\n",
       "      <td>10</td>\n",
       "      <td>ultra</td>\n",
       "      <td>5809.911100</td>\n",
       "      <td>31.578017</td>\n",
       "      <td>2</td>\n",
       "      <td>6</td>\n",
       "      <td>0</td>\n",
       "      <td>199</td>\n",
       "      <td>389</td>\n",
       "    </tr>\n",
       "    <tr>\n",
       "      <th>4</th>\n",
       "      <td>1</td>\n",
       "      <td>11</td>\n",
       "      <td>ultra</td>\n",
       "      <td>7003.499363</td>\n",
       "      <td>53.397424</td>\n",
       "      <td>3</td>\n",
       "      <td>6</td>\n",
       "      <td>0</td>\n",
       "      <td>199</td>\n",
       "      <td>520</td>\n",
       "    </tr>\n",
       "  </tbody>\n",
       "</table>\n",
       "</div>"
      ],
      "text/plain": [
       "   user_id  month subscription_type     distance   duration  values  \\\n",
       "0        1      1             ultra  7027.511294  41.416640       2   \n",
       "1        1      4             ultra   754.159807   6.232113       1   \n",
       "2        1      8             ultra  6723.470560  44.776802       2   \n",
       "3        1     10             ultra  5809.911100  31.578017       2   \n",
       "4        1     11             ultra  7003.499363  53.397424       3   \n",
       "\n",
       "   minute_price  start_ride_price  subscription_fee  profit  \n",
       "0             6                 0               199     448  \n",
       "1             6                 0               199     237  \n",
       "2             6                 0               199     468  \n",
       "3             6                 0               199     389  \n",
       "4             6                 0               199     520  "
      ]
     },
     "execution_count": 30,
     "metadata": {},
     "output_type": "execute_result"
    }
   ],
   "source": [
    "def profit(row):\n",
    "    if row['subscription_type'] == 'ultra':\n",
    "        return (199 + (row['duration'] * 6))\n",
    "    else:\n",
    "        return (50 * row['values'] + (row['duration'] * 8))\n",
    "data_stat['profit'] = data_stat.apply(profit, axis = 1)\n",
    "data_stat['profit'] = np.ceil(data_stat['profit'])\n",
    "data_stat['profit'] = data_stat['profit'].astype(int)\n",
    "data_stat.head()"
   ]
  },
  {
   "cell_type": "markdown",
   "id": "4ec82a13",
   "metadata": {},
   "source": [
    "Столбец 'profit' - это столбец с прибылью за каждый месяц. Прибыль посчитана и округлена."
   ]
  },
  {
   "cell_type": "markdown",
   "id": "41545ac0",
   "metadata": {},
   "source": [
    "#### Шаг 6. Проверка гипотез"
   ]
  },
  {
   "cell_type": "markdown",
   "id": "8871418d",
   "metadata": {},
   "source": [
    "6.1 Важно понять, тратят ли пользователи с подпиской больше времени на поездки? Если да, то пользователи с подпиской могут быть «выгоднее» для компании. Проверьте гипотезу. Используйте исходные данные о продолжительности каждой сессии — отдельно для подписчиков и тех, у кого нет подписки."
   ]
  },
  {
   "cell_type": "code",
   "execution_count": 31,
   "id": "b8f6ba58",
   "metadata": {},
   "outputs": [
    {
     "name": "stdout",
     "output_type": "stream",
     "text": [
      "Дисперсия пользователей без подписки: 40.02497415138629\n",
      "Среднее пользователей без подписки: 17.39090929866399\n",
      "Стандартное отклонение пользователей без подписки: 6.32652939228028 \n",
      "\n",
      "Дисперсия пользователей с подпиской: 31.04294601091915\n",
      "Среднее пользователей с подпиской: 18.54198516280583\n",
      "Стандартное отклонение пользователей с подпиской: 5.571619693672492 \n",
      "\n",
      "Дисперсия пользователей: 37.09885345286466\n",
      "Среднее пользователей: 17.80501119798444\n",
      "Стандартное отклонение пользователей: 6.090882813916605 \n",
      "\n"
     ]
    }
   ],
   "source": [
    "var = 0\n",
    "mean = data_without_sub['duration'].mean()\n",
    "for i in data_without_sub['duration']:\n",
    "    var += (i - mean) * (i - mean)\n",
    "var /= len(data_without_sub['duration'])\n",
    "print('Дисперсия пользователей без подписки:', var)\n",
    "print('Среднее пользователей без подписки:', data_without_sub['duration'].mean())\n",
    "\n",
    "\n",
    "var = 0\n",
    "for i in data_without_sub['duration']:\n",
    "    var += (i - mean) * (i - mean)\n",
    "var /= len(data_without_sub['duration'])\n",
    "std = var**0.5 # извлекаем корень\n",
    "\n",
    "print('Стандартное отклонение пользователей без подписки:', std, '\\n')\n",
    "\n",
    "mean = data_with_sub['duration'].mean()\n",
    "var = 0\n",
    "for i in data_with_sub['duration']:\n",
    "    var += (i - mean) * (i - mean)\n",
    "var /= len(data_with_sub['duration'])\n",
    "print('Дисперсия пользователей с подпиской:', var)\n",
    "print('Среднее пользователей с подпиской:', data_with_sub['duration'].mean())\n",
    "\n",
    "var = 0\n",
    "for i in data_with_sub['duration']:\n",
    "    var += (i - mean) * (i - mean)\n",
    "var /= len(data_with_sub['duration'])\n",
    "std = var**0.5 # извлекаем корень\n",
    "\n",
    "print('Стандартное отклонение пользователей с подпиской:', std, '\\n')\n",
    "\n",
    "mean = data['duration'].mean()\n",
    "var = 0\n",
    "for i in data['duration']:\n",
    "    var += (i - mean) * (i - mean)\n",
    "var /= len(data['duration'])\n",
    "print('Дисперсия пользователей:', var)\n",
    "print('Среднее пользователей:', data['duration'].mean())\n",
    "\n",
    "var = 0\n",
    "for i in data['duration']:\n",
    "    var += (i - mean) * (i - mean)\n",
    "var /= len(data['duration'])\n",
    "std = var**0.5 # извлекаем корень\n",
    "\n",
    "print('Стандартное отклонение пользователей:', std, '\\n')"
   ]
  },
  {
   "cell_type": "markdown",
   "id": "685490fa",
   "metadata": {},
   "source": [
    "Формулируем гипотезу так: H0 - среднее выборки пользователей с подпиской ultra <=  среднему выборки пользователей с подпиской free (меньше или равно). H1 - среднее выборки пользователей с подпиской ultra > среднее выборки пользователей с подпиской free. Будем использовать тест Стьюдента, который на выходе покажет - отвергать гипотезу или нет (больше)."
   ]
  },
  {
   "cell_type": "code",
   "execution_count": 32,
   "id": "67852f2b",
   "metadata": {},
   "outputs": [
    {
     "name": "stdout",
     "output_type": "stream",
     "text": [
      "p-значение: 1.2804098316645618e-34\n",
      "stat: 12.241203729044017\n",
      "Отвергаем нулевую гипотезу в пользу альтернативной: среднее значение выборки ultra <= (меньше или равно) среднего значения выборки free\n"
     ]
    }
   ],
   "source": [
    "alpha = 0.05\n",
    "\n",
    "stat,results = st.ttest_ind(data_with_sub['duration'], data_without_sub['duration'], alternative = 'greater')\n",
    "\n",
    "print('p-значение:', results)\n",
    "print('stat:', stat)\n",
    "\n",
    "if (results < alpha):\n",
    "    print(\"Отвергаем нулевую гипотезу в пользу альтернативной: среднее значение выборки ultra <= (меньше или равно) среднего значения выборки free\")\n",
    "else:\n",
    "    print(\"Не получилось отвергнуть нулевую гипотезу: среднее значение выборки ultra > (больше) среднего значения выборки free\")"
   ]
  },
  {
   "cell_type": "markdown",
   "id": "5d2c955b",
   "metadata": {},
   "source": [
    "Тест показал, что нужно отвергнуть нулевую гипотезу, следовательно - она неверна."
   ]
  },
  {
   "cell_type": "markdown",
   "id": "68cb18e8",
   "metadata": {},
   "source": [
    "Вывод: тест Стьюдента отвергнул нулевую гипотезу, потому что среднее значение первой выборки оказалось меньше, чем среднее значение второй выборки, т.е. пользователи с подпиской в среднем тратят меньше времени на поездки, чем без подписки."
   ]
  },
  {
   "cell_type": "markdown",
   "id": "7ee8d238",
   "metadata": {},
   "source": [
    "6.2 Расстояние одной поездки в 3130 метров — оптимальное с точки зрения износа самоката. Можно ли сказать, что расстояние, которое проезжают пользователи с подпиской за одну поездку, не превышает 3130 метров? Проверьте гипотезу и сделайте выводы."
   ]
  },
  {
   "cell_type": "markdown",
   "id": "6dbe37ba",
   "metadata": {},
   "source": [
    "Формируем гипотезу: \n",
    "H0 - среднее расстояние выборки, которое проезжают пользователи с подпиской за одну поездку <= 3130.(меньше или равно)\n",
    "H1 - среднее расстояние выборки, которое проезжают пользователи с подпиской за одну поездку больше 3130.\n",
    "Будем использовать тест Стьюдента."
   ]
  },
  {
   "cell_type": "code",
   "execution_count": 33,
   "id": "cac0709f",
   "metadata": {},
   "outputs": [
    {
     "name": "stdout",
     "output_type": "stream",
     "text": [
      "p-значение: 0.9195368847849785\n",
      "Не получилось отвергнуть нулевую гипотезу: расстояние, которое проезжают пользователи в среднем с подпиской за одну поездку больше 3130 метров\n"
     ]
    }
   ],
   "source": [
    "interested_value = 3130\n",
    "alpha = 0.025\n",
    "results = st.ttest_1samp(data_with_sub['distance'], interested_value, alternative = 'greater')\n",
    "print('p-значение:', results.pvalue )\n",
    "if (results.pvalue < alpha) :\n",
    "    print('Отвергаем нулевую гипотезу в пользу альтернативной: расстояние, которое проезжают пользователи с подпиской за одну поездку в среднем меньше или равно 3130 метров.')\n",
    "else:\n",
    "    print('Не получилось отвергнуть нулевую гипотезу: расстояние, которое проезжают пользователи в среднем с подпиской за одну поездку больше 3130 метров') "
   ]
  },
  {
   "cell_type": "markdown",
   "id": "1c870211",
   "metadata": {},
   "source": [
    "Да, альтернативная гипотеза была отвергнута, следовательно, нулевая гипотеза верна."
   ]
  },
  {
   "cell_type": "markdown",
   "id": "5c749e04",
   "metadata": {},
   "source": [
    "Вывод: тесты Стъюдента показали, что нулевая гипотеза оказалась верна. Среднее расстояние, которое проезжают пользователи с подпиской не первышает 3130 метров."
   ]
  },
  {
   "cell_type": "markdown",
   "id": "0c655220",
   "metadata": {},
   "source": [
    "6.3. Проверьте гипотезу о том, будет ли помесячная выручка от пользователей с подпиской по месяцам выше, чем выручка от пользователей без подписки. Сделайте вывод."
   ]
  },
  {
   "cell_type": "code",
   "execution_count": 34,
   "id": "c864ec51",
   "metadata": {},
   "outputs": [
    {
     "name": "stdout",
     "output_type": "stream",
     "text": [
      "Дисперсия пользователей без подписки: 7461.007496025567\n",
      "Среднее пользователей без подписки: 359.02978160158835\n",
      "Стандартное отклонение пользователей без подписки: 86.3771236846051 \n",
      "\n",
      "Дисперсия пользователей с подпиской: 32582.00618209609\n",
      "Среднее пользователей с подпиской: 322.32362459546925\n",
      "Стандартное отклонение пользователей с подпиской: 180.5048647047943 \n",
      "\n",
      "Дисперсия пользователей: 22855.65283462835\n",
      "Среднее пользователей: 337.0080310652193\n",
      "Стандартное отклонение пользователей: 151.18086133710295 \n",
      "\n"
     ]
    }
   ],
   "source": [
    "data_without_sub = data_stat[data_stat['subscription_type'] == 'ultra']\n",
    "data_with_sub = data_stat[data_stat['subscription_type'] == 'free']\n",
    "\n",
    "var = 0\n",
    "mean = data_without_sub['profit'].mean()\n",
    "for i in data_without_sub['profit']:\n",
    "    var += (i - mean) * (i - mean)\n",
    "var /= len(data_without_sub['profit'])\n",
    "print('Дисперсия пользователей без подписки:', var)\n",
    "print('Среднее пользователей без подписки:', data_without_sub['profit'].mean())\n",
    "\n",
    "\n",
    "var = 0\n",
    "for i in data_without_sub['profit']:\n",
    "    var += (i - mean) * (i - mean)\n",
    "var /= len(data_without_sub['profit'])\n",
    "std = var**0.5 # извлекаем корень\n",
    "\n",
    "print('Стандартное отклонение пользователей без подписки:', std, '\\n')\n",
    "\n",
    "mean = data_with_sub['profit'].mean()\n",
    "var = 0\n",
    "for i in data_with_sub['profit']:\n",
    "    var += (i - mean) * (i - mean)\n",
    "var /= len(data_with_sub['profit'])\n",
    "print('Дисперсия пользователей с подпиской:', var)\n",
    "print('Среднее пользователей с подпиской:', data_with_sub['profit'].mean())\n",
    "\n",
    "var = 0\n",
    "for i in data_with_sub['profit']:\n",
    "    var += (i - mean) * (i - mean)\n",
    "var /= len(data_with_sub['profit'])\n",
    "std = var**0.5 # извлекаем корень\n",
    "\n",
    "print('Стандартное отклонение пользователей с подпиской:', std, '\\n')\n",
    "\n",
    "mean = data_stat['profit'].mean()\n",
    "var = 0\n",
    "for i in data_stat['profit']:\n",
    "    var += (i - mean) * (i - mean)\n",
    "var /= len(data_stat['profit'])\n",
    "print('Дисперсия пользователей:', var)\n",
    "print('Среднее пользователей:', data_stat['profit'].mean())\n",
    "\n",
    "var = 0\n",
    "for i in data_stat['profit']:\n",
    "    var += (i - mean) * (i - mean)\n",
    "var /= len(data_stat['profit'])\n",
    "std = var**0.5 # извлекаем корень\n",
    "\n",
    "print('Стандартное отклонение пользователей:', std, '\\n')"
   ]
  },
  {
   "cell_type": "markdown",
   "id": "47a27a07",
   "metadata": {},
   "source": [
    "H0 - средняя помесячная выручка пользователей с подпиской по месяцам <= средней помесячной выручке пользователей без подписки по месяцам (меньше или равно). H1 - средняя помесячная выручка пользователей с подпиской по месяцам > средняя помесячная выручка пользователей без подписки по месяцам (больше). Воспользуемся тестом Стьюдента."
   ]
  },
  {
   "cell_type": "code",
   "execution_count": 35,
   "id": "641eeefa",
   "metadata": {},
   "outputs": [
    {
     "name": "stdout",
     "output_type": "stream",
     "text": [
      "p-значение: 2.758832300750934e-37\n",
      "stat 12.751091742764944\n",
      "Отвергаем нулевую гипотезу в пользу альтернативной: средняя помесячная выручка пользователей с подпиской по месяцам меньше или равно (>=) средней помесячной выручки пользователей без подписки по месяцам\n"
     ]
    }
   ],
   "source": [
    "alpha = 0.05\n",
    "\n",
    "stat, results = st.ttest_ind(data_stat[data_stat['subscription_type'] == 'ultra']['profit'],\n",
    "                             data_stat[data_stat['subscription_type'] == 'free']['profit'],\n",
    "                             alternative = 'greater')\n",
    "\n",
    "\n",
    "print('p-значение:', results)\n",
    "print('stat', stat)\n",
    "\n",
    "if (results < alpha):\n",
    "    print(\"Отвергаем нулевую гипотезу в пользу альтернативной: средняя помесячная выручка пользователей с подпиской по месяцам меньше или равно (>=) средней помесячной выручки пользователей без подписки по месяцам\")\n",
    "else:\n",
    "    print(\"Не получилось отвергнуть нулевую гипотезу: средняя помесячная выручка пользователей с подпиской по месяцам больше (>) средней помесячной выручки пользователей выборки без подписки по месяцам\")"
   ]
  },
  {
   "cell_type": "markdown",
   "id": "da110a90",
   "metadata": {},
   "source": [
    "На основе теста Стьюдента можно сделать вывод, что выручка от пользователей с подпиской не выше, чем от пользователей без подписки, это значит, что нужно привлекать пользователей, не использующих подписку, покупать её."
   ]
  },
  {
   "cell_type": "markdown",
   "id": "513a3355",
   "metadata": {},
   "source": [
    "6.4. Представьте такую ситуацию: техническая команда сервиса обновила сервера, с которыми взаимодействует мобильное приложение. Она надеется, что из-за этого количество обращений в техподдержку значимо снизилось. Некоторый файл содержит для каждого пользователя данные о количестве обращений до обновления и после него. Какой тест вам понадобился бы для проверки этой гипотезы?"
   ]
  },
  {
   "cell_type": "markdown",
   "id": "675b0bcb",
   "metadata": {},
   "source": [
    "Для проверки этой гипотезы мне бы понадобился метод для проверки гипотезы о равенстве среднего двух генеральных совокупностей по взятым из них выборкам: scipy.stats.ttest_ind(array1, array2, equal_var, alternative)"
   ]
  },
  {
   "cell_type": "markdown",
   "id": "61213c5e",
   "metadata": {},
   "source": [
    "#### Шаг 7. Распределения"
   ]
  },
  {
   "cell_type": "markdown",
   "id": "aee94b24",
   "metadata": {},
   "source": [
    "*ВЫВОД:* В ходе проектной работы я побывал в роли аналитика популярного сервиса аренды самокатов GoFast. Моя работа заключалась в проверке данных и гипотез, которые могут помочь бизнесу вырасти.\n",
    "\n",
    "Я описал и визуализировал:\n",
    "- частоту встречаемости городов: самый частовстречаемый - Пятигорск. Красивый город с большим количеством туристов; самый редковстречаемый - Москва. Скорее всего, самокатов сервиса GoFast в Москве довольно мало, поэтому пользователей оттуда малое количество, возможно нужно нарастить масштабы.\n",
    "- соотношение пользователей с подпиской и без: примерно 54% пользователей не используют платную подписку, остальная часть - пользоавтели с подпиской.\n",
    "- возраст пользователей: 25 лет - самый частовстречаемый возраст пользователей. График показал: чем дальше возраст от 25 лет, тем меньше пользователей этого возраста.\n",
    "- расстояние, которое пользователи преодолевают за одну поездку: 3000-3200 метров самое частое пройденное расстояние за сессию.\n",
    "- продолжительность поездок: чаще всего в районе 18 минут. График показал идеальное распределение, то есть, чем дальше брать время от 18 минут, тем меньше пользователей заканчивали одну сессию за это время.\n",
    "\n",
    "Проверенные гипотезы:\n",
    "- Проверил гипотезу о том, что пользователи с подпиской совершают более длительные поездки, чем пользователи без неё\n",
    "- Проверил гипотезу о том, что расстояние пользователей с подпиской за одну сессию не превышает 3130 метров.\n",
    "- Проверил гипотезу о том, что выручка по месяцам от пользователей с подпиской выше, чем выручка по месяцам от пользователей без подписки.\n",
    "\n",
    "Выводы гипотез:\n",
    "- Гипотеза №1 оказалась неверной, статесты показали, что пользователи с подпиской в среднем проезжают меньшее расстояние, чем пользователи без неё.\n",
    "- Гипотеза №2 показала, что пользователи с подпиской в среднем проезжают расстояние больше 3130 метров.\n",
    "- Гипотеза №3 дала понять, что средняя выручка от пользователей с подпиской ниже, чем средняя выручка пользователей без подписки.\n",
    "\n",
    "Предложения для сервиса: \n",
    "1. Так как пользователи без подписки проезжают большее расстояние, чем пользователи с подпиской. Так как сервису выгоднее, чтобы пользователи с подпиской проезжали расстояние больше, чем пользователи без нее, то, возможными решениями для привлечения людей к покупке подписок будут: \n",
    "- снижение цены за подписку.\n",
    "- повышение цены за поминутное использование сервиса для пользователей без подписки.\n",
    "2. Повышение предложения аренды самокатов в Москве. Москва - столица России, самый крупный город России с большим количеством туристов, которые создают огромный спрос, а в нашем сервисе меньше всего пользователей оттуда. Если нарастить масштабы предложения самокатов в этом крупном городе, то, скорее всего, пользователей станет намного больше."
   ]
  }
 ],
 "metadata": {
  "ExecuteTimeLog": [
   {
    "duration": 94,
    "start_time": "2023-06-12T14:42:02.284Z"
   },
   {
    "duration": 415,
    "start_time": "2023-06-12T14:42:07.358Z"
   },
   {
    "duration": 362,
    "start_time": "2023-06-12T14:42:07.946Z"
   },
   {
    "duration": 17,
    "start_time": "2023-06-12T14:42:56.505Z"
   },
   {
    "duration": 11,
    "start_time": "2023-06-12T14:43:03.449Z"
   },
   {
    "duration": 19,
    "start_time": "2023-06-12T14:43:10.250Z"
   },
   {
    "duration": 25,
    "start_time": "2023-06-12T14:43:58.643Z"
   },
   {
    "duration": 25,
    "start_time": "2023-06-12T14:44:06.276Z"
   },
   {
    "duration": 3,
    "start_time": "2023-06-12T14:45:02.788Z"
   },
   {
    "duration": 68,
    "start_time": "2023-06-12T14:45:03.206Z"
   },
   {
    "duration": 10,
    "start_time": "2023-06-12T14:45:03.750Z"
   },
   {
    "duration": 9,
    "start_time": "2023-06-12T14:45:04.303Z"
   },
   {
    "duration": 7,
    "start_time": "2023-06-12T14:45:04.783Z"
   },
   {
    "duration": 36,
    "start_time": "2023-06-12T14:45:05.392Z"
   },
   {
    "duration": 791,
    "start_time": "2023-06-12T14:47:58.450Z"
   },
   {
    "duration": 14,
    "start_time": "2023-06-12T14:48:17.304Z"
   },
   {
    "duration": 5,
    "start_time": "2023-06-12T14:49:16.028Z"
   },
   {
    "duration": 11,
    "start_time": "2023-06-12T14:51:40.681Z"
   },
   {
    "duration": 795,
    "start_time": "2023-06-12T14:52:02.613Z"
   },
   {
    "duration": 9,
    "start_time": "2023-06-12T14:52:09.182Z"
   },
   {
    "duration": 8,
    "start_time": "2023-06-12T14:52:13.681Z"
   },
   {
    "duration": 12,
    "start_time": "2023-06-12T14:52:16.518Z"
   },
   {
    "duration": 7,
    "start_time": "2023-06-12T14:54:03.377Z"
   },
   {
    "duration": 15,
    "start_time": "2023-06-12T14:54:08.989Z"
   },
   {
    "duration": 14,
    "start_time": "2023-06-12T14:55:00.909Z"
   },
   {
    "duration": 10,
    "start_time": "2023-06-12T14:55:05.054Z"
   },
   {
    "duration": 12,
    "start_time": "2023-06-12T14:55:26.250Z"
   },
   {
    "duration": 7,
    "start_time": "2023-06-12T14:55:33.112Z"
   },
   {
    "duration": 5,
    "start_time": "2023-06-12T14:55:42.879Z"
   },
   {
    "duration": 10,
    "start_time": "2023-06-12T14:55:44.167Z"
   },
   {
    "duration": 5,
    "start_time": "2023-06-12T14:55:44.353Z"
   },
   {
    "duration": 8,
    "start_time": "2023-06-12T14:56:06.091Z"
   },
   {
    "duration": 967,
    "start_time": "2023-06-12T14:56:30.525Z"
   },
   {
    "duration": 13,
    "start_time": "2023-06-12T14:56:46.804Z"
   },
   {
    "duration": 814,
    "start_time": "2023-06-12T14:57:35.012Z"
   },
   {
    "duration": 876,
    "start_time": "2023-06-12T14:57:39.754Z"
   },
   {
    "duration": 897,
    "start_time": "2023-06-12T14:57:48.678Z"
   },
   {
    "duration": 9,
    "start_time": "2023-06-12T14:58:09.350Z"
   },
   {
    "duration": 6,
    "start_time": "2023-06-12T14:59:38.388Z"
   },
   {
    "duration": 11,
    "start_time": "2023-06-12T14:59:53.969Z"
   },
   {
    "duration": 12,
    "start_time": "2023-06-12T14:59:56.752Z"
   },
   {
    "duration": 9,
    "start_time": "2023-06-12T14:59:57.199Z"
   },
   {
    "duration": 6,
    "start_time": "2023-06-12T15:00:06.746Z"
   },
   {
    "duration": 9,
    "start_time": "2023-06-12T15:00:07.887Z"
   },
   {
    "duration": 409,
    "start_time": "2023-06-12T15:00:17.079Z"
   },
   {
    "duration": 80,
    "start_time": "2023-06-12T15:00:17.490Z"
   },
   {
    "duration": 18,
    "start_time": "2023-06-12T15:00:18.680Z"
   },
   {
    "duration": 9,
    "start_time": "2023-06-12T15:00:19.076Z"
   },
   {
    "duration": 7,
    "start_time": "2023-06-12T15:00:19.213Z"
   },
   {
    "duration": 30,
    "start_time": "2023-06-12T15:00:19.545Z"
   },
   {
    "duration": 15,
    "start_time": "2023-06-12T15:00:20.501Z"
   },
   {
    "duration": 15,
    "start_time": "2023-06-12T15:00:22.275Z"
   },
   {
    "duration": 10,
    "start_time": "2023-06-12T15:00:23.505Z"
   },
   {
    "duration": 7,
    "start_time": "2023-06-12T15:00:23.942Z"
   },
   {
    "duration": 8,
    "start_time": "2023-06-12T15:00:25.376Z"
   },
   {
    "duration": 8,
    "start_time": "2023-06-12T15:00:26.796Z"
   },
   {
    "duration": 54,
    "start_time": "2023-06-12T15:01:58.985Z"
   },
   {
    "duration": 12,
    "start_time": "2023-06-12T15:01:59.470Z"
   },
   {
    "duration": 10,
    "start_time": "2023-06-12T15:01:59.824Z"
   },
   {
    "duration": 7,
    "start_time": "2023-06-12T15:02:00.074Z"
   },
   {
    "duration": 7,
    "start_time": "2023-06-12T15:02:00.449Z"
   },
   {
    "duration": 11,
    "start_time": "2023-06-12T15:02:02.012Z"
   },
   {
    "duration": 10,
    "start_time": "2023-06-12T15:02:18.742Z"
   },
   {
    "duration": 19,
    "start_time": "2023-06-12T15:02:51.787Z"
   },
   {
    "duration": 16,
    "start_time": "2023-06-12T15:02:52.111Z"
   },
   {
    "duration": 11,
    "start_time": "2023-06-12T15:02:52.388Z"
   },
   {
    "duration": 7,
    "start_time": "2023-06-12T15:02:52.543Z"
   },
   {
    "duration": 14,
    "start_time": "2023-06-12T15:02:52.656Z"
   },
   {
    "duration": 9,
    "start_time": "2023-06-12T15:02:53.301Z"
   },
   {
    "duration": 17,
    "start_time": "2023-06-12T15:03:32.182Z"
   },
   {
    "duration": 7,
    "start_time": "2023-06-12T15:03:38.426Z"
   },
   {
    "duration": 7,
    "start_time": "2023-06-12T15:03:49.145Z"
   },
   {
    "duration": 7,
    "start_time": "2023-06-12T15:04:40.677Z"
   },
   {
    "duration": 7,
    "start_time": "2023-06-12T15:04:40.880Z"
   },
   {
    "duration": 3,
    "start_time": "2023-06-12T15:23:55.037Z"
   },
   {
    "duration": 73,
    "start_time": "2023-06-12T15:23:55.299Z"
   },
   {
    "duration": 11,
    "start_time": "2023-06-12T15:23:55.595Z"
   },
   {
    "duration": 9,
    "start_time": "2023-06-12T15:23:55.724Z"
   },
   {
    "duration": 9,
    "start_time": "2023-06-12T15:23:55.920Z"
   },
   {
    "duration": 34,
    "start_time": "2023-06-12T15:23:56.192Z"
   },
   {
    "duration": 20,
    "start_time": "2023-06-12T15:23:56.677Z"
   },
   {
    "duration": 15,
    "start_time": "2023-06-12T15:23:56.929Z"
   },
   {
    "duration": 10,
    "start_time": "2023-06-12T15:23:57.203Z"
   },
   {
    "duration": 7,
    "start_time": "2023-06-12T15:23:57.356Z"
   },
   {
    "duration": 6,
    "start_time": "2023-06-12T15:23:57.571Z"
   },
   {
    "duration": 11,
    "start_time": "2023-06-12T15:23:57.857Z"
   },
   {
    "duration": 7,
    "start_time": "2023-06-12T15:23:58.170Z"
   },
   {
    "duration": 7,
    "start_time": "2023-06-12T15:23:58.381Z"
   },
   {
    "duration": 8,
    "start_time": "2023-06-12T15:23:59.786Z"
   },
   {
    "duration": 514,
    "start_time": "2023-06-12T15:24:05.718Z"
   },
   {
    "duration": 9,
    "start_time": "2023-06-12T15:24:13.086Z"
   },
   {
    "duration": 160,
    "start_time": "2023-06-12T15:24:58.543Z"
   },
   {
    "duration": 83,
    "start_time": "2023-06-12T15:26:57.939Z"
   },
   {
    "duration": 283,
    "start_time": "2023-06-12T15:27:05.843Z"
   },
   {
    "duration": 242,
    "start_time": "2023-06-12T15:27:27.473Z"
   },
   {
    "duration": 236,
    "start_time": "2023-06-12T15:27:33.560Z"
   },
   {
    "duration": 263,
    "start_time": "2023-06-12T15:27:39.913Z"
   },
   {
    "duration": 56,
    "start_time": "2023-06-12T15:27:52.915Z"
   },
   {
    "duration": 170,
    "start_time": "2023-06-12T15:27:56.852Z"
   },
   {
    "duration": 14,
    "start_time": "2023-06-12T15:28:07.275Z"
   },
   {
    "duration": 19,
    "start_time": "2023-06-12T15:28:11.074Z"
   },
   {
    "duration": 32,
    "start_time": "2023-06-12T15:28:25.842Z"
   },
   {
    "duration": 206,
    "start_time": "2023-06-12T15:28:34.944Z"
   },
   {
    "duration": 7,
    "start_time": "2023-06-12T15:32:16.274Z"
   },
   {
    "duration": 151,
    "start_time": "2023-06-12T15:32:22.199Z"
   },
   {
    "duration": 10,
    "start_time": "2023-06-12T15:32:51.549Z"
   },
   {
    "duration": 8,
    "start_time": "2023-06-12T15:33:14.787Z"
   },
   {
    "duration": 11,
    "start_time": "2023-06-12T15:33:21.478Z"
   },
   {
    "duration": 12,
    "start_time": "2023-06-12T15:33:25.681Z"
   },
   {
    "duration": 207,
    "start_time": "2023-06-12T15:33:37.463Z"
   },
   {
    "duration": 191,
    "start_time": "2023-06-12T15:38:43.787Z"
   },
   {
    "duration": 148,
    "start_time": "2023-06-12T15:39:00.668Z"
   },
   {
    "duration": 152,
    "start_time": "2023-06-12T15:39:08.059Z"
   },
   {
    "duration": 341,
    "start_time": "2023-06-12T15:42:16.244Z"
   },
   {
    "duration": 384,
    "start_time": "2023-06-14T07:17:21.025Z"
   },
   {
    "duration": 363,
    "start_time": "2023-06-14T07:17:21.447Z"
   },
   {
    "duration": 16,
    "start_time": "2023-06-14T07:17:22.166Z"
   },
   {
    "duration": 9,
    "start_time": "2023-06-14T07:17:22.661Z"
   },
   {
    "duration": 10,
    "start_time": "2023-06-14T07:17:23.062Z"
   },
   {
    "duration": 24,
    "start_time": "2023-06-14T07:17:23.890Z"
   },
   {
    "duration": 27,
    "start_time": "2023-06-14T07:17:25.372Z"
   },
   {
    "duration": 10,
    "start_time": "2023-06-14T07:17:26.156Z"
   },
   {
    "duration": 8,
    "start_time": "2023-06-14T07:17:26.946Z"
   },
   {
    "duration": 7,
    "start_time": "2023-06-14T07:17:27.518Z"
   },
   {
    "duration": 9,
    "start_time": "2023-06-14T07:17:27.812Z"
   },
   {
    "duration": 8,
    "start_time": "2023-06-14T07:17:28.433Z"
   },
   {
    "duration": 6,
    "start_time": "2023-06-14T07:17:29.097Z"
   },
   {
    "duration": 6,
    "start_time": "2023-06-14T07:17:29.489Z"
   },
   {
    "duration": 582,
    "start_time": "2023-06-14T07:17:31.016Z"
   },
   {
    "duration": 138,
    "start_time": "2023-06-14T07:17:31.996Z"
   },
   {
    "duration": 248,
    "start_time": "2023-06-14T07:17:33.098Z"
   },
   {
    "duration": 91,
    "start_time": "2023-06-14T07:19:19.395Z"
   },
   {
    "duration": 200,
    "start_time": "2023-06-14T07:19:43.444Z"
   },
   {
    "duration": 20,
    "start_time": "2023-06-14T07:20:52.500Z"
   },
   {
    "duration": 449,
    "start_time": "2023-06-14T07:23:57.063Z"
   },
   {
    "duration": 94,
    "start_time": "2023-06-14T07:23:57.514Z"
   },
   {
    "duration": 24,
    "start_time": "2023-06-14T07:23:57.612Z"
   },
   {
    "duration": 9,
    "start_time": "2023-06-14T07:23:57.638Z"
   },
   {
    "duration": 7,
    "start_time": "2023-06-14T07:23:57.659Z"
   },
   {
    "duration": 24,
    "start_time": "2023-06-14T07:23:58.908Z"
   },
   {
    "duration": 15,
    "start_time": "2023-06-14T07:23:59.630Z"
   },
   {
    "duration": 11,
    "start_time": "2023-06-14T07:23:59.935Z"
   },
   {
    "duration": 10,
    "start_time": "2023-06-14T07:24:00.269Z"
   },
   {
    "duration": 9,
    "start_time": "2023-06-14T07:24:00.424Z"
   },
   {
    "duration": 15,
    "start_time": "2023-06-14T07:24:00.596Z"
   },
   {
    "duration": 8,
    "start_time": "2023-06-14T07:24:00.908Z"
   },
   {
    "duration": 7,
    "start_time": "2023-06-14T07:24:01.256Z"
   },
   {
    "duration": 6,
    "start_time": "2023-06-14T07:24:01.445Z"
   },
   {
    "duration": 464,
    "start_time": "2023-06-14T07:24:02.499Z"
   },
   {
    "duration": 168,
    "start_time": "2023-06-14T07:24:02.989Z"
   },
   {
    "duration": 353,
    "start_time": "2023-06-14T07:24:04.151Z"
   },
   {
    "duration": 80,
    "start_time": "2023-06-14T07:24:48.838Z"
   },
   {
    "duration": 396,
    "start_time": "2023-06-14T07:24:56.044Z"
   },
   {
    "duration": 66,
    "start_time": "2023-06-14T07:24:56.702Z"
   },
   {
    "duration": 912,
    "start_time": "2023-06-15T07:51:58.597Z"
   },
   {
    "duration": 109,
    "start_time": "2023-06-15T07:51:59.511Z"
   },
   {
    "duration": 0,
    "start_time": "2023-06-15T07:51:59.623Z"
   },
   {
    "duration": 0,
    "start_time": "2023-06-15T07:51:59.624Z"
   },
   {
    "duration": 0,
    "start_time": "2023-06-15T07:51:59.625Z"
   },
   {
    "duration": 0,
    "start_time": "2023-06-15T07:51:59.626Z"
   },
   {
    "duration": 0,
    "start_time": "2023-06-15T07:51:59.627Z"
   },
   {
    "duration": 0,
    "start_time": "2023-06-15T07:51:59.628Z"
   },
   {
    "duration": 0,
    "start_time": "2023-06-15T07:51:59.630Z"
   },
   {
    "duration": 0,
    "start_time": "2023-06-15T07:51:59.630Z"
   },
   {
    "duration": 0,
    "start_time": "2023-06-15T07:51:59.632Z"
   },
   {
    "duration": 0,
    "start_time": "2023-06-15T07:51:59.633Z"
   },
   {
    "duration": 0,
    "start_time": "2023-06-15T07:51:59.634Z"
   },
   {
    "duration": 0,
    "start_time": "2023-06-15T07:51:59.635Z"
   },
   {
    "duration": 0,
    "start_time": "2023-06-15T07:51:59.636Z"
   },
   {
    "duration": 0,
    "start_time": "2023-06-15T07:51:59.658Z"
   },
   {
    "duration": 0,
    "start_time": "2023-06-15T07:51:59.660Z"
   },
   {
    "duration": 0,
    "start_time": "2023-06-15T07:51:59.661Z"
   },
   {
    "duration": 0,
    "start_time": "2023-06-15T07:51:59.662Z"
   },
   {
    "duration": 0,
    "start_time": "2023-06-15T07:51:59.663Z"
   },
   {
    "duration": 0,
    "start_time": "2023-06-15T07:51:59.664Z"
   },
   {
    "duration": 0,
    "start_time": "2023-06-15T07:51:59.665Z"
   },
   {
    "duration": 0,
    "start_time": "2023-06-15T07:51:59.666Z"
   },
   {
    "duration": 0,
    "start_time": "2023-06-15T07:51:59.666Z"
   },
   {
    "duration": 0,
    "start_time": "2023-06-15T07:51:59.668Z"
   },
   {
    "duration": 0,
    "start_time": "2023-06-15T07:51:59.669Z"
   },
   {
    "duration": 0,
    "start_time": "2023-06-15T07:51:59.670Z"
   },
   {
    "duration": 0,
    "start_time": "2023-06-15T07:51:59.670Z"
   },
   {
    "duration": 0,
    "start_time": "2023-06-15T07:51:59.671Z"
   },
   {
    "duration": 0,
    "start_time": "2023-06-15T07:51:59.672Z"
   },
   {
    "duration": 0,
    "start_time": "2023-06-15T07:51:59.674Z"
   },
   {
    "duration": 0,
    "start_time": "2023-06-15T07:51:59.676Z"
   },
   {
    "duration": 0,
    "start_time": "2023-06-15T07:51:59.677Z"
   },
   {
    "duration": 0,
    "start_time": "2023-06-15T07:51:59.678Z"
   },
   {
    "duration": 0,
    "start_time": "2023-06-15T07:51:59.680Z"
   },
   {
    "duration": 0,
    "start_time": "2023-06-15T07:51:59.681Z"
   },
   {
    "duration": 0,
    "start_time": "2023-06-15T07:51:59.682Z"
   },
   {
    "duration": 847,
    "start_time": "2023-06-15T08:07:28.119Z"
   },
   {
    "duration": 121,
    "start_time": "2023-06-15T08:07:28.968Z"
   },
   {
    "duration": 0,
    "start_time": "2023-06-15T08:07:29.091Z"
   },
   {
    "duration": 0,
    "start_time": "2023-06-15T08:07:29.092Z"
   },
   {
    "duration": 0,
    "start_time": "2023-06-15T08:07:29.093Z"
   },
   {
    "duration": 0,
    "start_time": "2023-06-15T08:07:29.094Z"
   },
   {
    "duration": 0,
    "start_time": "2023-06-15T08:07:29.095Z"
   },
   {
    "duration": 0,
    "start_time": "2023-06-15T08:07:29.095Z"
   },
   {
    "duration": 0,
    "start_time": "2023-06-15T08:07:29.096Z"
   },
   {
    "duration": 0,
    "start_time": "2023-06-15T08:07:29.098Z"
   },
   {
    "duration": 0,
    "start_time": "2023-06-15T08:07:29.098Z"
   },
   {
    "duration": 0,
    "start_time": "2023-06-15T08:07:29.099Z"
   },
   {
    "duration": 0,
    "start_time": "2023-06-15T08:07:29.100Z"
   },
   {
    "duration": 0,
    "start_time": "2023-06-15T08:07:29.101Z"
   },
   {
    "duration": 0,
    "start_time": "2023-06-15T08:07:29.102Z"
   },
   {
    "duration": 0,
    "start_time": "2023-06-15T08:07:29.103Z"
   },
   {
    "duration": 0,
    "start_time": "2023-06-15T08:07:29.104Z"
   },
   {
    "duration": 0,
    "start_time": "2023-06-15T08:07:29.104Z"
   },
   {
    "duration": 0,
    "start_time": "2023-06-15T08:07:29.105Z"
   },
   {
    "duration": 0,
    "start_time": "2023-06-15T08:07:29.132Z"
   },
   {
    "duration": 0,
    "start_time": "2023-06-15T08:07:29.133Z"
   },
   {
    "duration": 0,
    "start_time": "2023-06-15T08:07:29.133Z"
   },
   {
    "duration": 0,
    "start_time": "2023-06-15T08:07:29.134Z"
   },
   {
    "duration": 0,
    "start_time": "2023-06-15T08:07:29.134Z"
   },
   {
    "duration": 0,
    "start_time": "2023-06-15T08:07:29.135Z"
   },
   {
    "duration": 0,
    "start_time": "2023-06-15T08:07:29.135Z"
   },
   {
    "duration": 0,
    "start_time": "2023-06-15T08:07:29.136Z"
   },
   {
    "duration": 0,
    "start_time": "2023-06-15T08:07:29.138Z"
   },
   {
    "duration": 0,
    "start_time": "2023-06-15T08:07:29.139Z"
   },
   {
    "duration": 0,
    "start_time": "2023-06-15T08:07:29.139Z"
   },
   {
    "duration": 0,
    "start_time": "2023-06-15T08:07:29.140Z"
   },
   {
    "duration": 0,
    "start_time": "2023-06-15T08:07:29.141Z"
   },
   {
    "duration": 0,
    "start_time": "2023-06-15T08:07:29.142Z"
   },
   {
    "duration": 0,
    "start_time": "2023-06-15T08:07:29.142Z"
   },
   {
    "duration": 0,
    "start_time": "2023-06-15T08:07:29.143Z"
   },
   {
    "duration": 0,
    "start_time": "2023-06-15T08:07:29.144Z"
   },
   {
    "duration": 0,
    "start_time": "2023-06-15T08:07:29.145Z"
   },
   {
    "duration": 243,
    "start_time": "2023-06-15T08:08:31.657Z"
   },
   {
    "duration": 144,
    "start_time": "2023-06-15T08:10:12.718Z"
   },
   {
    "duration": 3,
    "start_time": "2023-06-15T08:15:30.262Z"
   },
   {
    "duration": 817,
    "start_time": "2023-06-15T08:15:49.132Z"
   },
   {
    "duration": 86,
    "start_time": "2023-06-15T08:15:49.951Z"
   },
   {
    "duration": 15,
    "start_time": "2023-06-15T08:15:50.038Z"
   },
   {
    "duration": 103,
    "start_time": "2023-06-15T08:15:50.055Z"
   },
   {
    "duration": 18,
    "start_time": "2023-06-15T08:15:50.160Z"
   },
   {
    "duration": 29,
    "start_time": "2023-06-15T08:15:50.179Z"
   },
   {
    "duration": 21,
    "start_time": "2023-06-15T08:15:50.210Z"
   },
   {
    "duration": 9,
    "start_time": "2023-06-15T08:15:50.233Z"
   },
   {
    "duration": 24,
    "start_time": "2023-06-15T08:15:50.244Z"
   },
   {
    "duration": 5,
    "start_time": "2023-06-15T08:15:50.270Z"
   },
   {
    "duration": 12,
    "start_time": "2023-06-15T08:15:50.276Z"
   },
   {
    "duration": 7,
    "start_time": "2023-06-15T08:15:50.289Z"
   },
   {
    "duration": 7,
    "start_time": "2023-06-15T08:15:50.298Z"
   },
   {
    "duration": 23,
    "start_time": "2023-06-15T08:15:50.308Z"
   },
   {
    "duration": 629,
    "start_time": "2023-06-15T08:15:50.332Z"
   },
   {
    "duration": 193,
    "start_time": "2023-06-15T08:15:50.963Z"
   },
   {
    "duration": 253,
    "start_time": "2023-06-15T08:15:51.158Z"
   },
   {
    "duration": 132,
    "start_time": "2023-06-15T08:15:51.412Z"
   },
   {
    "duration": 146,
    "start_time": "2023-06-15T08:15:51.546Z"
   },
   {
    "duration": 37,
    "start_time": "2023-06-15T08:15:51.693Z"
   },
   {
    "duration": 62,
    "start_time": "2023-06-15T08:15:51.732Z"
   },
   {
    "duration": 34,
    "start_time": "2023-06-15T08:15:51.796Z"
   },
   {
    "duration": 68,
    "start_time": "2023-06-15T08:15:51.832Z"
   },
   {
    "duration": 17,
    "start_time": "2023-06-15T08:15:51.901Z"
   },
   {
    "duration": 817,
    "start_time": "2023-06-15T08:16:18.154Z"
   },
   {
    "duration": 83,
    "start_time": "2023-06-15T08:16:18.973Z"
   },
   {
    "duration": 17,
    "start_time": "2023-06-15T08:16:19.058Z"
   },
   {
    "duration": 14,
    "start_time": "2023-06-15T08:16:19.077Z"
   },
   {
    "duration": 13,
    "start_time": "2023-06-15T08:16:19.093Z"
   },
   {
    "duration": 64,
    "start_time": "2023-06-15T08:16:19.108Z"
   },
   {
    "duration": 15,
    "start_time": "2023-06-15T08:16:19.175Z"
   },
   {
    "duration": 21,
    "start_time": "2023-06-15T08:16:19.191Z"
   },
   {
    "duration": 60,
    "start_time": "2023-06-15T08:16:19.214Z"
   },
   {
    "duration": 13,
    "start_time": "2023-06-15T08:16:19.276Z"
   },
   {
    "duration": 13,
    "start_time": "2023-06-15T08:16:19.291Z"
   },
   {
    "duration": 46,
    "start_time": "2023-06-15T08:16:19.306Z"
   },
   {
    "duration": 9,
    "start_time": "2023-06-15T08:16:19.354Z"
   },
   {
    "duration": 30,
    "start_time": "2023-06-15T08:16:19.365Z"
   },
   {
    "duration": 418,
    "start_time": "2023-06-15T08:16:19.397Z"
   },
   {
    "duration": 140,
    "start_time": "2023-06-15T08:16:19.816Z"
   },
   {
    "duration": 247,
    "start_time": "2023-06-15T08:16:19.957Z"
   },
   {
    "duration": 130,
    "start_time": "2023-06-15T08:16:20.205Z"
   },
   {
    "duration": 138,
    "start_time": "2023-06-15T08:16:20.336Z"
   },
   {
    "duration": 29,
    "start_time": "2023-06-15T08:16:20.476Z"
   },
   {
    "duration": 23,
    "start_time": "2023-06-15T08:16:20.506Z"
   },
   {
    "duration": 9,
    "start_time": "2023-06-15T08:16:20.531Z"
   },
   {
    "duration": 21,
    "start_time": "2023-06-15T08:16:20.541Z"
   },
   {
    "duration": 33,
    "start_time": "2023-06-15T08:16:20.563Z"
   },
   {
    "duration": 18856,
    "start_time": "2023-06-15T08:16:20.598Z"
   },
   {
    "duration": 19043,
    "start_time": "2023-06-15T08:16:39.456Z"
   },
   {
    "duration": 3,
    "start_time": "2023-06-15T08:16:58.501Z"
   },
   {
    "duration": 43,
    "start_time": "2023-06-15T08:16:58.508Z"
   },
   {
    "duration": 13,
    "start_time": "2023-06-15T08:16:58.553Z"
   },
   {
    "duration": 145,
    "start_time": "2023-06-15T08:16:58.567Z"
   },
   {
    "duration": 50,
    "start_time": "2023-06-15T08:16:58.714Z"
   },
   {
    "duration": 6,
    "start_time": "2023-06-15T08:16:58.766Z"
   },
   {
    "duration": 22,
    "start_time": "2023-06-15T08:16:58.773Z"
   },
   {
    "duration": 12,
    "start_time": "2023-06-15T08:16:58.797Z"
   },
   {
    "duration": 49,
    "start_time": "2023-06-15T08:16:58.810Z"
   },
   {
    "duration": 5,
    "start_time": "2023-06-15T08:16:58.860Z"
   },
   {
    "duration": 27,
    "start_time": "2023-06-15T08:16:58.866Z"
   },
   {
    "duration": 797,
    "start_time": "2023-06-15T12:52:21.924Z"
   },
   {
    "duration": 192,
    "start_time": "2023-06-15T12:52:22.722Z"
   },
   {
    "duration": 12,
    "start_time": "2023-06-15T12:52:22.915Z"
   },
   {
    "duration": 33,
    "start_time": "2023-06-15T12:52:22.928Z"
   },
   {
    "duration": 50,
    "start_time": "2023-06-15T12:52:22.962Z"
   },
   {
    "duration": 55,
    "start_time": "2023-06-15T12:52:23.014Z"
   },
   {
    "duration": 35,
    "start_time": "2023-06-15T12:52:23.071Z"
   },
   {
    "duration": 34,
    "start_time": "2023-06-15T12:52:23.108Z"
   },
   {
    "duration": 43,
    "start_time": "2023-06-15T12:52:23.143Z"
   },
   {
    "duration": 40,
    "start_time": "2023-06-15T12:52:23.187Z"
   },
   {
    "duration": 37,
    "start_time": "2023-06-15T12:52:23.228Z"
   },
   {
    "duration": 26,
    "start_time": "2023-06-15T12:52:23.266Z"
   },
   {
    "duration": 28,
    "start_time": "2023-06-15T12:52:23.293Z"
   },
   {
    "duration": 32,
    "start_time": "2023-06-15T12:52:23.323Z"
   },
   {
    "duration": 547,
    "start_time": "2023-06-15T12:52:23.357Z"
   },
   {
    "duration": 127,
    "start_time": "2023-06-15T12:52:23.906Z"
   },
   {
    "duration": 214,
    "start_time": "2023-06-15T12:52:24.035Z"
   },
   {
    "duration": 115,
    "start_time": "2023-06-15T12:52:24.250Z"
   },
   {
    "duration": 124,
    "start_time": "2023-06-15T12:52:24.366Z"
   },
   {
    "duration": 35,
    "start_time": "2023-06-15T12:52:24.492Z"
   },
   {
    "duration": 20,
    "start_time": "2023-06-15T12:52:24.528Z"
   },
   {
    "duration": 39,
    "start_time": "2023-06-15T12:52:24.550Z"
   },
   {
    "duration": 56,
    "start_time": "2023-06-15T12:52:24.591Z"
   },
   {
    "duration": 66,
    "start_time": "2023-06-15T12:52:24.649Z"
   },
   {
    "duration": 18197,
    "start_time": "2023-06-15T12:52:24.716Z"
   },
   {
    "duration": 17193,
    "start_time": "2023-06-15T12:52:42.914Z"
   },
   {
    "duration": 3,
    "start_time": "2023-06-15T12:53:00.109Z"
   },
   {
    "duration": 65,
    "start_time": "2023-06-15T12:53:00.114Z"
   },
   {
    "duration": 13,
    "start_time": "2023-06-15T12:53:00.181Z"
   },
   {
    "duration": 140,
    "start_time": "2023-06-15T12:53:00.195Z"
   },
   {
    "duration": 34,
    "start_time": "2023-06-15T12:53:00.338Z"
   },
   {
    "duration": 43,
    "start_time": "2023-06-15T12:53:00.373Z"
   },
   {
    "duration": 35,
    "start_time": "2023-06-15T12:53:00.417Z"
   },
   {
    "duration": 45,
    "start_time": "2023-06-15T12:53:00.453Z"
   },
   {
    "duration": 67,
    "start_time": "2023-06-15T12:53:00.499Z"
   },
   {
    "duration": 31,
    "start_time": "2023-06-15T12:53:00.568Z"
   },
   {
    "duration": 35,
    "start_time": "2023-06-15T12:53:00.601Z"
   },
   {
    "duration": 7,
    "start_time": "2023-06-15T12:54:12.530Z"
   },
   {
    "duration": 5,
    "start_time": "2023-06-15T13:00:37.812Z"
   },
   {
    "duration": 7,
    "start_time": "2023-06-15T13:01:10.971Z"
   },
   {
    "duration": 5,
    "start_time": "2023-06-15T13:08:23.229Z"
   },
   {
    "duration": 5,
    "start_time": "2023-06-15T13:08:34.335Z"
   },
   {
    "duration": 77,
    "start_time": "2023-06-15T13:32:10.823Z"
   },
   {
    "duration": 994,
    "start_time": "2023-06-15T13:32:16.214Z"
   },
   {
    "duration": 337,
    "start_time": "2023-06-15T13:32:17.211Z"
   },
   {
    "duration": 21,
    "start_time": "2023-06-15T13:32:17.557Z"
   },
   {
    "duration": 12,
    "start_time": "2023-06-15T13:32:17.580Z"
   },
   {
    "duration": 8,
    "start_time": "2023-06-15T13:32:17.595Z"
   },
   {
    "duration": 50,
    "start_time": "2023-06-15T13:32:17.605Z"
   },
   {
    "duration": 19,
    "start_time": "2023-06-15T13:32:17.667Z"
   },
   {
    "duration": 12,
    "start_time": "2023-06-15T13:32:17.690Z"
   },
   {
    "duration": 11,
    "start_time": "2023-06-15T13:32:17.704Z"
   },
   {
    "duration": 7,
    "start_time": "2023-06-15T13:32:17.717Z"
   },
   {
    "duration": 31,
    "start_time": "2023-06-15T13:32:17.725Z"
   },
   {
    "duration": 18,
    "start_time": "2023-06-15T13:32:17.760Z"
   },
   {
    "duration": 12,
    "start_time": "2023-06-15T13:32:17.780Z"
   },
   {
    "duration": 7,
    "start_time": "2023-06-15T13:32:17.797Z"
   },
   {
    "duration": 724,
    "start_time": "2023-06-15T13:32:17.807Z"
   },
   {
    "duration": 194,
    "start_time": "2023-06-15T13:32:18.533Z"
   },
   {
    "duration": 340,
    "start_time": "2023-06-15T13:32:18.729Z"
   },
   {
    "duration": 233,
    "start_time": "2023-06-15T13:32:19.071Z"
   },
   {
    "duration": 355,
    "start_time": "2023-06-15T13:32:19.307Z"
   },
   {
    "duration": 91,
    "start_time": "2023-06-15T13:32:19.665Z"
   },
   {
    "duration": 17,
    "start_time": "2023-06-15T13:32:19.760Z"
   },
   {
    "duration": 8,
    "start_time": "2023-06-15T13:32:19.779Z"
   },
   {
    "duration": 73,
    "start_time": "2023-06-15T13:32:19.789Z"
   },
   {
    "duration": 21,
    "start_time": "2023-06-15T13:32:19.864Z"
   },
   {
    "duration": 28031,
    "start_time": "2023-06-15T13:32:19.887Z"
   },
   {
    "duration": 29282,
    "start_time": "2023-06-15T13:32:47.921Z"
   },
   {
    "duration": 5,
    "start_time": "2023-06-15T13:33:17.206Z"
   },
   {
    "duration": 68,
    "start_time": "2023-06-15T13:33:17.213Z"
   },
   {
    "duration": 25,
    "start_time": "2023-06-15T13:33:17.284Z"
   },
   {
    "duration": 231,
    "start_time": "2023-06-15T13:33:17.311Z"
   },
   {
    "duration": 67,
    "start_time": "2023-06-15T13:33:17.544Z"
   },
   {
    "duration": 8,
    "start_time": "2023-06-15T13:33:17.614Z"
   },
   {
    "duration": 34,
    "start_time": "2023-06-15T13:33:17.624Z"
   },
   {
    "duration": 18,
    "start_time": "2023-06-15T13:33:17.660Z"
   },
   {
    "duration": 84,
    "start_time": "2023-06-15T13:33:17.681Z"
   },
   {
    "duration": 10,
    "start_time": "2023-06-15T13:33:17.768Z"
   },
   {
    "duration": 10,
    "start_time": "2023-06-15T13:33:17.785Z"
   },
   {
    "duration": 157,
    "start_time": "2023-06-15T13:33:51.411Z"
   },
   {
    "duration": 30,
    "start_time": "2023-06-15T13:34:00.288Z"
   },
   {
    "duration": 230,
    "start_time": "2023-06-15T13:34:11.556Z"
   },
   {
    "duration": 242,
    "start_time": "2023-06-15T13:34:18.869Z"
   },
   {
    "duration": 263,
    "start_time": "2023-06-15T13:34:34.812Z"
   },
   {
    "duration": 223,
    "start_time": "2023-06-15T13:34:39.611Z"
   },
   {
    "duration": 188,
    "start_time": "2023-06-15T13:35:41.271Z"
   },
   {
    "duration": 195,
    "start_time": "2023-06-15T13:35:48.469Z"
   },
   {
    "duration": 233,
    "start_time": "2023-06-15T13:36:10.224Z"
   },
   {
    "duration": 244,
    "start_time": "2023-06-15T13:36:37.127Z"
   },
   {
    "duration": 26,
    "start_time": "2023-06-15T13:37:15.139Z"
   },
   {
    "duration": 186,
    "start_time": "2023-06-15T13:37:41.229Z"
   },
   {
    "duration": 166,
    "start_time": "2023-06-15T13:37:51.248Z"
   },
   {
    "duration": 165,
    "start_time": "2023-06-15T13:38:26.803Z"
   },
   {
    "duration": 18,
    "start_time": "2023-06-15T13:39:33.326Z"
   },
   {
    "duration": 10,
    "start_time": "2023-06-15T13:40:24.684Z"
   },
   {
    "duration": 155,
    "start_time": "2023-06-15T13:40:40.940Z"
   },
   {
    "duration": 211,
    "start_time": "2023-06-15T13:40:56.562Z"
   },
   {
    "duration": 239,
    "start_time": "2023-06-15T13:41:33.627Z"
   },
   {
    "duration": 149,
    "start_time": "2023-06-15T13:41:41.571Z"
   },
   {
    "duration": 220,
    "start_time": "2023-06-15T13:42:35.321Z"
   },
   {
    "duration": 152,
    "start_time": "2023-06-15T13:43:18.063Z"
   },
   {
    "duration": 269,
    "start_time": "2023-06-15T13:43:24.015Z"
   },
   {
    "duration": 713,
    "start_time": "2023-06-15T13:44:42.283Z"
   },
   {
    "duration": 362,
    "start_time": "2023-06-15T13:44:46.984Z"
   },
   {
    "duration": 227,
    "start_time": "2023-06-15T13:48:51.224Z"
   },
   {
    "duration": 208,
    "start_time": "2023-06-15T13:49:10.738Z"
   },
   {
    "duration": 322,
    "start_time": "2023-06-15T13:49:26.980Z"
   },
   {
    "duration": 7,
    "start_time": "2023-06-15T14:13:29.660Z"
   },
   {
    "duration": 10,
    "start_time": "2023-06-15T14:14:12.672Z"
   },
   {
    "duration": 11,
    "start_time": "2023-06-15T14:14:19.922Z"
   },
   {
    "duration": 6,
    "start_time": "2023-06-15T14:14:26.699Z"
   },
   {
    "duration": 5,
    "start_time": "2023-06-15T14:14:33.025Z"
   },
   {
    "duration": 7,
    "start_time": "2023-06-15T14:17:14.097Z"
   },
   {
    "duration": 6,
    "start_time": "2023-06-15T14:17:40.992Z"
   },
   {
    "duration": 6,
    "start_time": "2023-06-15T14:20:13.600Z"
   },
   {
    "duration": 5,
    "start_time": "2023-06-15T14:23:56.404Z"
   },
   {
    "duration": 5,
    "start_time": "2023-06-15T14:24:05.006Z"
   },
   {
    "duration": 5,
    "start_time": "2023-06-15T14:24:17.995Z"
   },
   {
    "duration": 7,
    "start_time": "2023-06-15T14:30:31.856Z"
   },
   {
    "duration": 6,
    "start_time": "2023-06-15T14:32:06.171Z"
   },
   {
    "duration": 7,
    "start_time": "2023-06-15T14:32:08.942Z"
   },
   {
    "duration": 6,
    "start_time": "2023-06-15T14:39:40.719Z"
   },
   {
    "duration": 7,
    "start_time": "2023-06-15T14:40:46.214Z"
   },
   {
    "duration": 6,
    "start_time": "2023-06-15T14:41:00.216Z"
   },
   {
    "duration": 6,
    "start_time": "2023-06-15T14:41:20.920Z"
   },
   {
    "duration": 6,
    "start_time": "2023-06-15T14:41:41.687Z"
   },
   {
    "duration": 6,
    "start_time": "2023-06-15T14:42:32.475Z"
   },
   {
    "duration": 6,
    "start_time": "2023-06-15T14:43:10.114Z"
   },
   {
    "duration": 5,
    "start_time": "2023-06-15T14:43:30.345Z"
   },
   {
    "duration": 8,
    "start_time": "2023-06-15T14:45:02.504Z"
   },
   {
    "duration": 6,
    "start_time": "2023-06-15T14:45:06.141Z"
   },
   {
    "duration": 5,
    "start_time": "2023-06-15T14:45:09.568Z"
   },
   {
    "duration": 8,
    "start_time": "2023-06-15T14:45:14.871Z"
   },
   {
    "duration": 6,
    "start_time": "2023-06-15T14:45:18.246Z"
   },
   {
    "duration": 7,
    "start_time": "2023-06-15T14:46:16.328Z"
   },
   {
    "duration": 6,
    "start_time": "2023-06-15T14:46:16.550Z"
   },
   {
    "duration": 5,
    "start_time": "2023-06-15T14:46:17.663Z"
   },
   {
    "duration": 62,
    "start_time": "2023-06-15T14:46:24.134Z"
   },
   {
    "duration": 9,
    "start_time": "2023-06-15T14:50:44.373Z"
   },
   {
    "duration": 8,
    "start_time": "2023-06-15T14:51:18.749Z"
   },
   {
    "duration": 6,
    "start_time": "2023-06-15T14:51:38.835Z"
   },
   {
    "duration": 6,
    "start_time": "2023-06-15T14:52:41.145Z"
   },
   {
    "duration": 7,
    "start_time": "2023-06-15T14:53:16.738Z"
   },
   {
    "duration": 6,
    "start_time": "2023-06-15T14:54:16.800Z"
   },
   {
    "duration": 6,
    "start_time": "2023-06-15T14:54:31.413Z"
   },
   {
    "duration": 6,
    "start_time": "2023-06-15T14:57:20.936Z"
   },
   {
    "duration": 68,
    "start_time": "2023-06-15T14:59:04.235Z"
   },
   {
    "duration": 7,
    "start_time": "2023-06-15T14:59:12.004Z"
   },
   {
    "duration": 7,
    "start_time": "2023-06-15T15:00:01.047Z"
   },
   {
    "duration": 7,
    "start_time": "2023-06-15T15:00:52.000Z"
   },
   {
    "duration": 267,
    "start_time": "2023-06-15T15:05:57.529Z"
   },
   {
    "duration": 9,
    "start_time": "2023-06-15T15:06:52.871Z"
   },
   {
    "duration": 8,
    "start_time": "2023-06-15T15:07:23.466Z"
   },
   {
    "duration": 134,
    "start_time": "2023-06-15T15:07:27.862Z"
   },
   {
    "duration": 155,
    "start_time": "2023-06-15T15:08:02.924Z"
   },
   {
    "duration": 171,
    "start_time": "2023-06-15T15:08:23.908Z"
   },
   {
    "duration": 154,
    "start_time": "2023-06-15T15:08:52.257Z"
   },
   {
    "duration": 173,
    "start_time": "2023-06-15T15:08:59.432Z"
   },
   {
    "duration": 161,
    "start_time": "2023-06-15T15:10:29.536Z"
   },
   {
    "duration": 171,
    "start_time": "2023-06-15T15:11:10.424Z"
   },
   {
    "duration": 824,
    "start_time": "2023-06-15T21:08:52.010Z"
   },
   {
    "duration": 65,
    "start_time": "2023-06-15T21:08:52.836Z"
   },
   {
    "duration": 14,
    "start_time": "2023-06-15T21:08:52.902Z"
   },
   {
    "duration": 18,
    "start_time": "2023-06-15T21:08:52.918Z"
   },
   {
    "duration": 24,
    "start_time": "2023-06-15T21:08:52.937Z"
   },
   {
    "duration": 31,
    "start_time": "2023-06-15T21:08:52.962Z"
   },
   {
    "duration": 18,
    "start_time": "2023-06-15T21:08:52.995Z"
   },
   {
    "duration": 33,
    "start_time": "2023-06-15T21:08:53.015Z"
   },
   {
    "duration": 7,
    "start_time": "2023-06-15T21:08:53.049Z"
   },
   {
    "duration": 7,
    "start_time": "2023-06-15T21:08:53.058Z"
   },
   {
    "duration": 20,
    "start_time": "2023-06-15T21:08:53.067Z"
   },
   {
    "duration": 26,
    "start_time": "2023-06-15T21:08:53.088Z"
   },
   {
    "duration": 7,
    "start_time": "2023-06-15T21:08:53.116Z"
   },
   {
    "duration": 10,
    "start_time": "2023-06-15T21:08:53.124Z"
   },
   {
    "duration": 404,
    "start_time": "2023-06-15T21:08:53.135Z"
   },
   {
    "duration": 128,
    "start_time": "2023-06-15T21:08:53.541Z"
   },
   {
    "duration": 241,
    "start_time": "2023-06-15T21:08:53.670Z"
   },
   {
    "duration": 137,
    "start_time": "2023-06-15T21:08:53.912Z"
   },
   {
    "duration": 149,
    "start_time": "2023-06-15T21:08:54.051Z"
   },
   {
    "duration": 39,
    "start_time": "2023-06-15T21:08:54.202Z"
   },
   {
    "duration": 12,
    "start_time": "2023-06-15T21:08:54.243Z"
   },
   {
    "duration": 14,
    "start_time": "2023-06-15T21:08:54.256Z"
   },
   {
    "duration": 30,
    "start_time": "2023-06-15T21:08:54.272Z"
   },
   {
    "duration": 16,
    "start_time": "2023-06-15T21:08:54.304Z"
   },
   {
    "duration": 175,
    "start_time": "2023-06-15T21:08:54.321Z"
   },
   {
    "duration": 175,
    "start_time": "2023-06-15T21:08:54.498Z"
   },
   {
    "duration": 3,
    "start_time": "2023-06-15T21:08:54.675Z"
   },
   {
    "duration": 44,
    "start_time": "2023-06-15T21:08:54.681Z"
   },
   {
    "duration": 11,
    "start_time": "2023-06-15T21:08:54.727Z"
   },
   {
    "duration": 134,
    "start_time": "2023-06-15T21:08:54.740Z"
   },
   {
    "duration": 35,
    "start_time": "2023-06-15T21:08:54.875Z"
   },
   {
    "duration": 6,
    "start_time": "2023-06-15T21:08:54.920Z"
   },
   {
    "duration": 16,
    "start_time": "2023-06-15T21:08:54.927Z"
   },
   {
    "duration": 11,
    "start_time": "2023-06-15T21:08:54.945Z"
   },
   {
    "duration": 9,
    "start_time": "2023-06-15T21:08:54.958Z"
   },
   {
    "duration": 43,
    "start_time": "2023-06-15T21:08:54.969Z"
   },
   {
    "duration": 78,
    "start_time": "2023-06-15T21:08:55.014Z"
   },
   {
    "duration": 61,
    "start_time": "2023-06-15T21:08:55.094Z"
   },
   {
    "duration": 6,
    "start_time": "2023-06-15T21:08:55.157Z"
   },
   {
    "duration": 34,
    "start_time": "2023-06-15T21:08:55.164Z"
   },
   {
    "duration": 13,
    "start_time": "2023-06-15T21:08:55.199Z"
   },
   {
    "duration": 89,
    "start_time": "2023-06-15T21:19:00.355Z"
   },
   {
    "duration": 116,
    "start_time": "2023-06-15T21:22:35.124Z"
   },
   {
    "duration": 169,
    "start_time": "2023-06-15T21:22:45.828Z"
   },
   {
    "duration": 176,
    "start_time": "2023-06-15T21:23:01.244Z"
   },
   {
    "duration": 107,
    "start_time": "2023-06-15T21:40:19.137Z"
   },
   {
    "duration": 55,
    "start_time": "2023-06-16T06:56:46.191Z"
   },
   {
    "duration": 777,
    "start_time": "2023-06-16T06:56:51.051Z"
   },
   {
    "duration": 302,
    "start_time": "2023-06-16T06:56:51.830Z"
   },
   {
    "duration": 13,
    "start_time": "2023-06-16T06:56:52.134Z"
   },
   {
    "duration": 27,
    "start_time": "2023-06-16T06:56:52.149Z"
   },
   {
    "duration": 22,
    "start_time": "2023-06-16T06:56:52.177Z"
   },
   {
    "duration": 30,
    "start_time": "2023-06-16T06:56:52.200Z"
   },
   {
    "duration": 20,
    "start_time": "2023-06-16T06:56:52.232Z"
   },
   {
    "duration": 28,
    "start_time": "2023-06-16T06:56:52.254Z"
   },
   {
    "duration": 8,
    "start_time": "2023-06-16T06:56:52.284Z"
   },
   {
    "duration": 5,
    "start_time": "2023-06-16T06:56:52.294Z"
   },
   {
    "duration": 61,
    "start_time": "2023-06-16T06:56:52.300Z"
   },
   {
    "duration": 42,
    "start_time": "2023-06-16T06:56:52.363Z"
   },
   {
    "duration": 46,
    "start_time": "2023-06-16T06:56:52.406Z"
   },
   {
    "duration": 12,
    "start_time": "2023-06-16T06:56:52.454Z"
   },
   {
    "duration": 584,
    "start_time": "2023-06-16T06:56:52.468Z"
   },
   {
    "duration": 135,
    "start_time": "2023-06-16T06:56:53.053Z"
   },
   {
    "duration": 270,
    "start_time": "2023-06-16T06:56:53.190Z"
   },
   {
    "duration": 152,
    "start_time": "2023-06-16T06:56:53.462Z"
   },
   {
    "duration": 167,
    "start_time": "2023-06-16T06:56:53.616Z"
   },
   {
    "duration": 38,
    "start_time": "2023-06-16T06:56:53.784Z"
   },
   {
    "duration": 13,
    "start_time": "2023-06-16T06:56:53.824Z"
   },
   {
    "duration": 16,
    "start_time": "2023-06-16T06:56:53.839Z"
   },
   {
    "duration": 16,
    "start_time": "2023-06-16T06:56:53.856Z"
   },
   {
    "duration": 31,
    "start_time": "2023-06-16T06:56:53.874Z"
   },
   {
    "duration": 194,
    "start_time": "2023-06-16T06:56:53.907Z"
   },
   {
    "duration": 201,
    "start_time": "2023-06-16T06:56:54.102Z"
   },
   {
    "duration": 4,
    "start_time": "2023-06-16T06:56:54.306Z"
   },
   {
    "duration": 62,
    "start_time": "2023-06-16T06:56:54.314Z"
   },
   {
    "duration": 17,
    "start_time": "2023-06-16T06:56:54.378Z"
   },
   {
    "duration": 124,
    "start_time": "2023-06-16T06:56:54.397Z"
   },
   {
    "duration": 35,
    "start_time": "2023-06-16T06:56:54.523Z"
   },
   {
    "duration": 4,
    "start_time": "2023-06-16T06:56:54.560Z"
   },
   {
    "duration": 22,
    "start_time": "2023-06-16T06:56:54.566Z"
   },
   {
    "duration": 30,
    "start_time": "2023-06-16T06:56:54.590Z"
   },
   {
    "duration": 40,
    "start_time": "2023-06-16T06:56:54.622Z"
   },
   {
    "duration": 20,
    "start_time": "2023-06-16T06:56:54.664Z"
   },
   {
    "duration": 30,
    "start_time": "2023-06-16T06:56:54.686Z"
   },
   {
    "duration": 49,
    "start_time": "2023-06-16T06:56:54.718Z"
   },
   {
    "duration": 6,
    "start_time": "2023-06-16T06:56:54.769Z"
   },
   {
    "duration": 22,
    "start_time": "2023-06-16T06:56:54.776Z"
   },
   {
    "duration": 16,
    "start_time": "2023-06-16T06:56:54.799Z"
   },
   {
    "duration": 217,
    "start_time": "2023-06-16T06:59:49.991Z"
   },
   {
    "duration": 3,
    "start_time": "2023-06-16T07:00:07.371Z"
   },
   {
    "duration": 63,
    "start_time": "2023-06-16T07:00:08.344Z"
   },
   {
    "duration": 8,
    "start_time": "2023-06-16T07:00:08.806Z"
   },
   {
    "duration": 7,
    "start_time": "2023-06-16T07:00:08.966Z"
   },
   {
    "duration": 7,
    "start_time": "2023-06-16T07:00:09.401Z"
   },
   {
    "duration": 23,
    "start_time": "2023-06-16T07:00:09.991Z"
   },
   {
    "duration": 14,
    "start_time": "2023-06-16T07:00:10.569Z"
   },
   {
    "duration": 10,
    "start_time": "2023-06-16T07:00:10.819Z"
   },
   {
    "duration": 7,
    "start_time": "2023-06-16T07:00:11.073Z"
   },
   {
    "duration": 5,
    "start_time": "2023-06-16T07:00:11.157Z"
   },
   {
    "duration": 6,
    "start_time": "2023-06-16T07:00:11.242Z"
   },
   {
    "duration": 8,
    "start_time": "2023-06-16T07:00:11.502Z"
   },
   {
    "duration": 6,
    "start_time": "2023-06-16T07:00:11.661Z"
   },
   {
    "duration": 6,
    "start_time": "2023-06-16T07:00:11.741Z"
   },
   {
    "duration": 205,
    "start_time": "2023-06-16T07:00:12.161Z"
   },
   {
    "duration": 119,
    "start_time": "2023-06-16T07:00:12.828Z"
   },
   {
    "duration": 233,
    "start_time": "2023-06-16T07:00:13.327Z"
   },
   {
    "duration": 128,
    "start_time": "2023-06-16T07:00:13.661Z"
   },
   {
    "duration": 138,
    "start_time": "2023-06-16T07:00:14.077Z"
   },
   {
    "duration": 132,
    "start_time": "2023-06-16T07:00:26.466Z"
   },
   {
    "duration": 139,
    "start_time": "2023-06-16T07:01:00.046Z"
   },
   {
    "duration": 158,
    "start_time": "2023-06-16T07:03:43.877Z"
   },
   {
    "duration": 152,
    "start_time": "2023-06-16T07:04:00.352Z"
   },
   {
    "duration": 142,
    "start_time": "2023-06-16T07:04:10.845Z"
   },
   {
    "duration": 217,
    "start_time": "2023-06-16T07:06:10.972Z"
   },
   {
    "duration": 121,
    "start_time": "2023-06-16T07:06:32.052Z"
   },
   {
    "duration": 118,
    "start_time": "2023-06-16T07:06:51.749Z"
   },
   {
    "duration": 142,
    "start_time": "2023-06-16T07:07:01.912Z"
   },
   {
    "duration": 130,
    "start_time": "2023-06-16T07:07:36.830Z"
   },
   {
    "duration": 140,
    "start_time": "2023-06-16T07:08:00.698Z"
   },
   {
    "duration": 122,
    "start_time": "2023-06-16T07:08:44.832Z"
   },
   {
    "duration": 130,
    "start_time": "2023-06-16T07:08:48.613Z"
   },
   {
    "duration": 154,
    "start_time": "2023-06-16T07:08:55.102Z"
   },
   {
    "duration": 139,
    "start_time": "2023-06-16T07:09:03.710Z"
   },
   {
    "duration": 135,
    "start_time": "2023-06-16T07:09:07.173Z"
   },
   {
    "duration": 177,
    "start_time": "2023-06-16T07:12:21.809Z"
   },
   {
    "duration": 176,
    "start_time": "2023-06-16T07:12:26.675Z"
   },
   {
    "duration": 278,
    "start_time": "2023-06-16T07:14:01.468Z"
   },
   {
    "duration": 171,
    "start_time": "2023-06-16T07:14:08.930Z"
   },
   {
    "duration": 5,
    "start_time": "2023-06-16T07:31:24.964Z"
   },
   {
    "duration": 6,
    "start_time": "2023-06-16T07:32:16.581Z"
   },
   {
    "duration": 7,
    "start_time": "2023-06-16T07:32:40.715Z"
   },
   {
    "duration": 7,
    "start_time": "2023-06-16T07:34:05.696Z"
   },
   {
    "duration": 5,
    "start_time": "2023-06-16T07:34:06.434Z"
   },
   {
    "duration": 7,
    "start_time": "2023-06-16T07:34:08.959Z"
   },
   {
    "duration": 5,
    "start_time": "2023-06-16T07:38:42.114Z"
   },
   {
    "duration": 5,
    "start_time": "2023-06-16T07:40:24.706Z"
   },
   {
    "duration": 6,
    "start_time": "2023-06-16T07:40:26.261Z"
   },
   {
    "duration": 6,
    "start_time": "2023-06-16T07:43:03.988Z"
   },
   {
    "duration": 8,
    "start_time": "2023-06-16T07:43:12.501Z"
   },
   {
    "duration": 5,
    "start_time": "2023-06-16T07:43:58.592Z"
   },
   {
    "duration": 7,
    "start_time": "2023-06-16T08:00:30.143Z"
   },
   {
    "duration": 6,
    "start_time": "2023-06-16T08:01:21.932Z"
   },
   {
    "duration": 15,
    "start_time": "2023-06-16T08:01:52.628Z"
   },
   {
    "duration": 7,
    "start_time": "2023-06-16T08:02:04.558Z"
   },
   {
    "duration": 7,
    "start_time": "2023-06-16T08:02:08.152Z"
   },
   {
    "duration": 6,
    "start_time": "2023-06-16T08:02:09.669Z"
   },
   {
    "duration": 7,
    "start_time": "2023-06-16T08:02:39.625Z"
   },
   {
    "duration": 5,
    "start_time": "2023-06-16T08:03:08.661Z"
   },
   {
    "duration": 8,
    "start_time": "2023-06-16T08:03:39.318Z"
   },
   {
    "duration": 5,
    "start_time": "2023-06-16T08:03:56.753Z"
   },
   {
    "duration": 12,
    "start_time": "2023-06-16T08:07:01.107Z"
   },
   {
    "duration": 5,
    "start_time": "2023-06-16T08:08:56.884Z"
   },
   {
    "duration": 6,
    "start_time": "2023-06-16T08:10:18.221Z"
   },
   {
    "duration": 6,
    "start_time": "2023-06-16T08:11:10.996Z"
   },
   {
    "duration": 16,
    "start_time": "2023-06-16T08:11:24.582Z"
   },
   {
    "duration": 5,
    "start_time": "2023-06-16T08:12:28.376Z"
   },
   {
    "duration": 7,
    "start_time": "2023-06-16T08:13:04.556Z"
   },
   {
    "duration": 1165,
    "start_time": "2023-06-16T08:32:34.624Z"
   },
   {
    "duration": 143,
    "start_time": "2023-06-16T08:32:35.791Z"
   },
   {
    "duration": 22,
    "start_time": "2023-06-16T08:32:35.936Z"
   },
   {
    "duration": 24,
    "start_time": "2023-06-16T08:32:35.961Z"
   },
   {
    "duration": 15,
    "start_time": "2023-06-16T08:32:35.986Z"
   },
   {
    "duration": 55,
    "start_time": "2023-06-16T08:32:36.004Z"
   },
   {
    "duration": 13,
    "start_time": "2023-06-16T08:32:36.060Z"
   },
   {
    "duration": 19,
    "start_time": "2023-06-16T08:32:36.075Z"
   },
   {
    "duration": 9,
    "start_time": "2023-06-16T08:32:36.096Z"
   },
   {
    "duration": 22,
    "start_time": "2023-06-16T08:32:36.108Z"
   },
   {
    "duration": 23,
    "start_time": "2023-06-16T08:32:36.132Z"
   },
   {
    "duration": 10,
    "start_time": "2023-06-16T08:32:36.160Z"
   },
   {
    "duration": 7,
    "start_time": "2023-06-16T08:32:36.173Z"
   },
   {
    "duration": 7,
    "start_time": "2023-06-16T08:32:36.181Z"
   },
   {
    "duration": 204,
    "start_time": "2023-06-16T08:32:36.190Z"
   },
   {
    "duration": 209,
    "start_time": "2023-06-16T08:32:36.397Z"
   },
   {
    "duration": 347,
    "start_time": "2023-06-16T08:32:36.608Z"
   },
   {
    "duration": 208,
    "start_time": "2023-06-16T08:32:36.959Z"
   },
   {
    "duration": 179,
    "start_time": "2023-06-16T08:32:37.169Z"
   },
   {
    "duration": 37,
    "start_time": "2023-06-16T08:32:37.349Z"
   },
   {
    "duration": 24,
    "start_time": "2023-06-16T08:32:37.387Z"
   },
   {
    "duration": 9,
    "start_time": "2023-06-16T08:32:37.413Z"
   },
   {
    "duration": 26,
    "start_time": "2023-06-16T08:32:37.424Z"
   },
   {
    "duration": 11,
    "start_time": "2023-06-16T08:32:37.461Z"
   },
   {
    "duration": 255,
    "start_time": "2023-06-16T08:32:37.474Z"
   },
   {
    "duration": 220,
    "start_time": "2023-06-16T08:32:37.731Z"
   },
   {
    "duration": 4,
    "start_time": "2023-06-16T08:32:37.953Z"
   },
   {
    "duration": 37,
    "start_time": "2023-06-16T08:32:37.958Z"
   },
   {
    "duration": 37,
    "start_time": "2023-06-16T08:32:37.997Z"
   },
   {
    "duration": 162,
    "start_time": "2023-06-16T08:32:38.038Z"
   },
   {
    "duration": 69,
    "start_time": "2023-06-16T08:32:38.202Z"
   },
   {
    "duration": 5,
    "start_time": "2023-06-16T08:32:38.273Z"
   },
   {
    "duration": 26,
    "start_time": "2023-06-16T08:32:38.279Z"
   },
   {
    "duration": 19,
    "start_time": "2023-06-16T08:32:38.307Z"
   },
   {
    "duration": 30,
    "start_time": "2023-06-16T08:32:38.328Z"
   },
   {
    "duration": 6,
    "start_time": "2023-06-16T08:32:38.362Z"
   },
   {
    "duration": 7,
    "start_time": "2023-06-16T08:32:38.371Z"
   },
   {
    "duration": 69,
    "start_time": "2023-06-16T08:32:38.380Z"
   },
   {
    "duration": 7,
    "start_time": "2023-06-16T08:32:38.451Z"
   },
   {
    "duration": 11,
    "start_time": "2023-06-16T08:32:38.462Z"
   },
   {
    "duration": 8,
    "start_time": "2023-06-16T08:32:38.474Z"
   },
   {
    "duration": 5,
    "start_time": "2023-06-16T08:34:28.358Z"
   },
   {
    "duration": 15,
    "start_time": "2023-06-16T08:34:30.620Z"
   },
   {
    "duration": 6,
    "start_time": "2023-06-16T08:36:14.361Z"
   },
   {
    "duration": 15,
    "start_time": "2023-06-16T08:36:36.824Z"
   },
   {
    "duration": 86,
    "start_time": "2023-06-16T08:36:36.841Z"
   },
   {
    "duration": 10,
    "start_time": "2023-06-16T08:36:36.928Z"
   },
   {
    "duration": 8,
    "start_time": "2023-06-16T08:36:36.939Z"
   },
   {
    "duration": 14,
    "start_time": "2023-06-16T08:36:36.948Z"
   },
   {
    "duration": 23,
    "start_time": "2023-06-16T08:36:36.963Z"
   },
   {
    "duration": 12,
    "start_time": "2023-06-16T08:36:36.987Z"
   },
   {
    "duration": 14,
    "start_time": "2023-06-16T08:36:37.000Z"
   },
   {
    "duration": 17,
    "start_time": "2023-06-16T08:36:37.016Z"
   },
   {
    "duration": 9,
    "start_time": "2023-06-16T08:36:37.035Z"
   },
   {
    "duration": 5,
    "start_time": "2023-06-16T08:36:37.045Z"
   },
   {
    "duration": 12,
    "start_time": "2023-06-16T08:36:37.052Z"
   },
   {
    "duration": 7,
    "start_time": "2023-06-16T08:36:37.065Z"
   },
   {
    "duration": 5,
    "start_time": "2023-06-16T08:36:37.073Z"
   },
   {
    "duration": 188,
    "start_time": "2023-06-16T08:36:37.079Z"
   },
   {
    "duration": 162,
    "start_time": "2023-06-16T08:36:37.269Z"
   },
   {
    "duration": 276,
    "start_time": "2023-06-16T08:36:37.432Z"
   },
   {
    "duration": 160,
    "start_time": "2023-06-16T08:36:37.711Z"
   },
   {
    "duration": 166,
    "start_time": "2023-06-16T08:36:37.873Z"
   },
   {
    "duration": 37,
    "start_time": "2023-06-16T08:36:38.041Z"
   },
   {
    "duration": 12,
    "start_time": "2023-06-16T08:36:38.079Z"
   },
   {
    "duration": 25,
    "start_time": "2023-06-16T08:36:38.092Z"
   },
   {
    "duration": 23,
    "start_time": "2023-06-16T08:36:38.119Z"
   },
   {
    "duration": 10,
    "start_time": "2023-06-16T08:36:38.144Z"
   },
   {
    "duration": 212,
    "start_time": "2023-06-16T08:36:38.156Z"
   },
   {
    "duration": 286,
    "start_time": "2023-06-16T08:36:38.370Z"
   },
   {
    "duration": 3,
    "start_time": "2023-06-16T08:36:38.658Z"
   },
   {
    "duration": 45,
    "start_time": "2023-06-16T08:36:38.662Z"
   },
   {
    "duration": 26,
    "start_time": "2023-06-16T08:36:38.712Z"
   },
   {
    "duration": 160,
    "start_time": "2023-06-16T08:36:38.739Z"
   },
   {
    "duration": 51,
    "start_time": "2023-06-16T08:36:38.906Z"
   },
   {
    "duration": 5,
    "start_time": "2023-06-16T08:36:38.959Z"
   },
   {
    "duration": 34,
    "start_time": "2023-06-16T08:36:38.966Z"
   },
   {
    "duration": 33,
    "start_time": "2023-06-16T08:36:39.002Z"
   },
   {
    "duration": 7,
    "start_time": "2023-06-16T08:36:39.040Z"
   },
   {
    "duration": 10,
    "start_time": "2023-06-16T08:36:39.049Z"
   },
   {
    "duration": 21,
    "start_time": "2023-06-16T08:36:39.061Z"
   },
   {
    "duration": 63,
    "start_time": "2023-06-16T08:36:39.084Z"
   },
   {
    "duration": 7,
    "start_time": "2023-06-16T08:36:39.150Z"
   },
   {
    "duration": 6,
    "start_time": "2023-06-16T08:36:39.162Z"
   },
   {
    "duration": 7,
    "start_time": "2023-06-16T08:36:39.169Z"
   },
   {
    "duration": 8,
    "start_time": "2023-06-16T08:36:42.922Z"
   },
   {
    "duration": 6,
    "start_time": "2023-06-16T08:36:44.655Z"
   },
   {
    "duration": 5,
    "start_time": "2023-06-16T08:36:46.200Z"
   },
   {
    "duration": 11,
    "start_time": "2023-06-16T08:36:49.520Z"
   },
   {
    "duration": 6,
    "start_time": "2023-06-16T08:36:53.677Z"
   },
   {
    "duration": 989,
    "start_time": "2023-06-16T08:37:12.243Z"
   },
   {
    "duration": 123,
    "start_time": "2023-06-16T08:37:13.239Z"
   },
   {
    "duration": 11,
    "start_time": "2023-06-16T08:37:13.363Z"
   },
   {
    "duration": 7,
    "start_time": "2023-06-16T08:37:13.375Z"
   },
   {
    "duration": 8,
    "start_time": "2023-06-16T08:37:13.384Z"
   },
   {
    "duration": 28,
    "start_time": "2023-06-16T08:37:13.393Z"
   },
   {
    "duration": 21,
    "start_time": "2023-06-16T08:37:13.427Z"
   },
   {
    "duration": 17,
    "start_time": "2023-06-16T08:37:13.450Z"
   },
   {
    "duration": 16,
    "start_time": "2023-06-16T08:37:13.468Z"
   },
   {
    "duration": 24,
    "start_time": "2023-06-16T08:37:13.486Z"
   },
   {
    "duration": 11,
    "start_time": "2023-06-16T08:37:13.515Z"
   },
   {
    "duration": 10,
    "start_time": "2023-06-16T08:37:13.527Z"
   },
   {
    "duration": 8,
    "start_time": "2023-06-16T08:37:13.539Z"
   },
   {
    "duration": 7,
    "start_time": "2023-06-16T08:37:13.548Z"
   },
   {
    "duration": 183,
    "start_time": "2023-06-16T08:37:13.556Z"
   },
   {
    "duration": 141,
    "start_time": "2023-06-16T08:37:13.741Z"
   },
   {
    "duration": 281,
    "start_time": "2023-06-16T08:37:13.884Z"
   },
   {
    "duration": 176,
    "start_time": "2023-06-16T08:37:14.167Z"
   },
   {
    "duration": 149,
    "start_time": "2023-06-16T08:37:14.344Z"
   },
   {
    "duration": 40,
    "start_time": "2023-06-16T08:37:14.495Z"
   },
   {
    "duration": 16,
    "start_time": "2023-06-16T08:37:14.537Z"
   },
   {
    "duration": 6,
    "start_time": "2023-06-16T08:37:14.554Z"
   },
   {
    "duration": 13,
    "start_time": "2023-06-16T08:37:14.562Z"
   },
   {
    "duration": 12,
    "start_time": "2023-06-16T08:37:14.576Z"
   },
   {
    "duration": 220,
    "start_time": "2023-06-16T08:37:14.621Z"
   },
   {
    "duration": 196,
    "start_time": "2023-06-16T08:37:14.843Z"
   },
   {
    "duration": 4,
    "start_time": "2023-06-16T08:37:15.041Z"
   },
   {
    "duration": 45,
    "start_time": "2023-06-16T08:37:15.048Z"
   },
   {
    "duration": 36,
    "start_time": "2023-06-16T08:37:15.095Z"
   },
   {
    "duration": 130,
    "start_time": "2023-06-16T08:37:15.138Z"
   },
   {
    "duration": 42,
    "start_time": "2023-06-16T08:37:15.270Z"
   },
   {
    "duration": 20,
    "start_time": "2023-06-16T08:37:15.313Z"
   },
   {
    "duration": 22,
    "start_time": "2023-06-16T08:37:15.337Z"
   },
   {
    "duration": 6,
    "start_time": "2023-06-16T08:37:15.360Z"
   },
   {
    "duration": 16,
    "start_time": "2023-06-16T08:37:15.367Z"
   },
   {
    "duration": 16,
    "start_time": "2023-06-16T08:37:15.384Z"
   },
   {
    "duration": 21,
    "start_time": "2023-06-16T08:37:15.402Z"
   },
   {
    "duration": 44,
    "start_time": "2023-06-16T08:37:15.424Z"
   },
   {
    "duration": 6,
    "start_time": "2023-06-16T08:37:15.469Z"
   },
   {
    "duration": 15,
    "start_time": "2023-06-16T08:37:15.476Z"
   },
   {
    "duration": 29,
    "start_time": "2023-06-16T08:37:15.493Z"
   },
   {
    "duration": 7,
    "start_time": "2023-06-16T08:37:18.497Z"
   },
   {
    "duration": 5,
    "start_time": "2023-06-16T08:37:24.136Z"
   },
   {
    "duration": 1031,
    "start_time": "2023-06-16T08:38:04.007Z"
   },
   {
    "duration": 128,
    "start_time": "2023-06-16T08:38:05.040Z"
   },
   {
    "duration": 15,
    "start_time": "2023-06-16T08:38:05.170Z"
   },
   {
    "duration": 12,
    "start_time": "2023-06-16T08:38:05.188Z"
   },
   {
    "duration": 43,
    "start_time": "2023-06-16T08:38:05.202Z"
   },
   {
    "duration": 35,
    "start_time": "2023-06-16T08:38:05.247Z"
   },
   {
    "duration": 18,
    "start_time": "2023-06-16T08:38:05.284Z"
   },
   {
    "duration": 35,
    "start_time": "2023-06-16T08:38:05.304Z"
   },
   {
    "duration": 10,
    "start_time": "2023-06-16T08:38:05.345Z"
   },
   {
    "duration": 7,
    "start_time": "2023-06-16T08:38:05.358Z"
   },
   {
    "duration": 9,
    "start_time": "2023-06-16T08:38:05.367Z"
   },
   {
    "duration": 12,
    "start_time": "2023-06-16T08:38:05.377Z"
   },
   {
    "duration": 8,
    "start_time": "2023-06-16T08:38:05.390Z"
   },
   {
    "duration": 13,
    "start_time": "2023-06-16T08:38:05.400Z"
   },
   {
    "duration": 204,
    "start_time": "2023-06-16T08:38:05.421Z"
   },
   {
    "duration": 162,
    "start_time": "2023-06-16T08:38:05.631Z"
   },
   {
    "duration": 300,
    "start_time": "2023-06-16T08:38:05.795Z"
   },
   {
    "duration": 171,
    "start_time": "2023-06-16T08:38:06.097Z"
   },
   {
    "duration": 175,
    "start_time": "2023-06-16T08:38:06.270Z"
   },
   {
    "duration": 31,
    "start_time": "2023-06-16T08:38:06.449Z"
   },
   {
    "duration": 27,
    "start_time": "2023-06-16T08:38:06.482Z"
   },
   {
    "duration": 13,
    "start_time": "2023-06-16T08:38:06.515Z"
   },
   {
    "duration": 38,
    "start_time": "2023-06-16T08:38:06.531Z"
   },
   {
    "duration": 19,
    "start_time": "2023-06-16T08:38:06.571Z"
   },
   {
    "duration": 221,
    "start_time": "2023-06-16T08:38:06.592Z"
   },
   {
    "duration": 211,
    "start_time": "2023-06-16T08:38:06.817Z"
   },
   {
    "duration": 7,
    "start_time": "2023-06-16T08:38:07.036Z"
   },
   {
    "duration": 56,
    "start_time": "2023-06-16T08:38:07.046Z"
   },
   {
    "duration": 17,
    "start_time": "2023-06-16T08:38:07.103Z"
   },
   {
    "duration": 155,
    "start_time": "2023-06-16T08:38:07.122Z"
   },
   {
    "duration": 59,
    "start_time": "2023-06-16T08:38:07.279Z"
   },
   {
    "duration": 7,
    "start_time": "2023-06-16T08:38:07.339Z"
   },
   {
    "duration": 23,
    "start_time": "2023-06-16T08:38:07.348Z"
   },
   {
    "duration": 27,
    "start_time": "2023-06-16T08:38:07.373Z"
   },
   {
    "duration": 55,
    "start_time": "2023-06-16T08:38:07.401Z"
   },
   {
    "duration": 34,
    "start_time": "2023-06-16T08:38:07.457Z"
   },
   {
    "duration": 37,
    "start_time": "2023-06-16T08:38:07.493Z"
   },
   {
    "duration": 52,
    "start_time": "2023-06-16T08:38:07.531Z"
   },
   {
    "duration": 23,
    "start_time": "2023-06-16T08:38:07.585Z"
   },
   {
    "duration": 35,
    "start_time": "2023-06-16T08:38:07.610Z"
   },
   {
    "duration": 17,
    "start_time": "2023-06-16T08:38:07.647Z"
   },
   {
    "duration": 12,
    "start_time": "2023-06-16T08:38:13.425Z"
   },
   {
    "duration": 6,
    "start_time": "2023-06-16T08:38:20.841Z"
   },
   {
    "duration": 7,
    "start_time": "2023-06-16T08:38:23.049Z"
   },
   {
    "duration": 10,
    "start_time": "2023-06-16T08:38:25.003Z"
   },
   {
    "duration": 6,
    "start_time": "2023-06-16T08:38:31.250Z"
   },
   {
    "duration": 5,
    "start_time": "2023-06-16T08:56:39.170Z"
   },
   {
    "duration": 1035,
    "start_time": "2023-06-16T14:31:31.650Z"
   },
   {
    "duration": 107,
    "start_time": "2023-06-16T14:31:32.687Z"
   },
   {
    "duration": 31,
    "start_time": "2023-06-16T14:31:32.796Z"
   },
   {
    "duration": 19,
    "start_time": "2023-06-16T14:31:32.828Z"
   },
   {
    "duration": 9,
    "start_time": "2023-06-16T14:31:32.849Z"
   },
   {
    "duration": 26,
    "start_time": "2023-06-16T14:31:32.859Z"
   },
   {
    "duration": 16,
    "start_time": "2023-06-16T14:31:32.887Z"
   },
   {
    "duration": 28,
    "start_time": "2023-06-16T14:31:32.912Z"
   },
   {
    "duration": 22,
    "start_time": "2023-06-16T14:31:32.942Z"
   },
   {
    "duration": 9,
    "start_time": "2023-06-16T14:31:32.965Z"
   },
   {
    "duration": 12,
    "start_time": "2023-06-16T14:31:32.976Z"
   },
   {
    "duration": 47,
    "start_time": "2023-06-16T14:31:32.990Z"
   },
   {
    "duration": 12,
    "start_time": "2023-06-16T14:31:33.039Z"
   },
   {
    "duration": 6,
    "start_time": "2023-06-16T14:31:33.056Z"
   },
   {
    "duration": 192,
    "start_time": "2023-06-16T14:31:33.064Z"
   },
   {
    "duration": 172,
    "start_time": "2023-06-16T14:31:33.258Z"
   },
   {
    "duration": 256,
    "start_time": "2023-06-16T14:31:33.431Z"
   },
   {
    "duration": 157,
    "start_time": "2023-06-16T14:31:33.689Z"
   },
   {
    "duration": 141,
    "start_time": "2023-06-16T14:31:33.847Z"
   },
   {
    "duration": 43,
    "start_time": "2023-06-16T14:31:33.990Z"
   },
   {
    "duration": 14,
    "start_time": "2023-06-16T14:31:34.035Z"
   },
   {
    "duration": 15,
    "start_time": "2023-06-16T14:31:34.051Z"
   },
   {
    "duration": 21,
    "start_time": "2023-06-16T14:31:34.068Z"
   },
   {
    "duration": 23,
    "start_time": "2023-06-16T14:31:34.090Z"
   },
   {
    "duration": 225,
    "start_time": "2023-06-16T14:31:34.124Z"
   },
   {
    "duration": 182,
    "start_time": "2023-06-16T14:31:34.350Z"
   },
   {
    "duration": 3,
    "start_time": "2023-06-16T14:31:34.535Z"
   },
   {
    "duration": 30,
    "start_time": "2023-06-16T14:31:34.540Z"
   },
   {
    "duration": 11,
    "start_time": "2023-06-16T14:31:34.572Z"
   },
   {
    "duration": 154,
    "start_time": "2023-06-16T14:31:34.585Z"
   },
   {
    "duration": 33,
    "start_time": "2023-06-16T14:31:34.740Z"
   },
   {
    "duration": 5,
    "start_time": "2023-06-16T14:31:34.774Z"
   },
   {
    "duration": 31,
    "start_time": "2023-06-16T14:31:34.781Z"
   },
   {
    "duration": 17,
    "start_time": "2023-06-16T14:31:34.819Z"
   },
   {
    "duration": 22,
    "start_time": "2023-06-16T14:31:34.838Z"
   },
   {
    "duration": 21,
    "start_time": "2023-06-16T14:31:34.861Z"
   },
   {
    "duration": 47,
    "start_time": "2023-06-16T14:31:34.884Z"
   },
   {
    "duration": 44,
    "start_time": "2023-06-16T14:31:34.932Z"
   },
   {
    "duration": 5,
    "start_time": "2023-06-16T14:31:34.978Z"
   },
   {
    "duration": 14,
    "start_time": "2023-06-16T14:31:34.984Z"
   },
   {
    "duration": 36,
    "start_time": "2023-06-16T14:31:35.001Z"
   },
   {
    "duration": 6,
    "start_time": "2023-06-16T14:47:32.327Z"
   },
   {
    "duration": 295,
    "start_time": "2023-06-16T14:50:30.014Z"
   },
   {
    "duration": 373,
    "start_time": "2023-06-16T14:51:07.083Z"
   },
   {
    "duration": 116,
    "start_time": "2023-06-16T14:52:23.359Z"
   },
   {
    "duration": 13,
    "start_time": "2023-06-16T15:09:41.342Z"
   },
   {
    "duration": 1563,
    "start_time": "2023-06-16T15:09:49.254Z"
   },
   {
    "duration": 11,
    "start_time": "2023-06-16T15:09:56.757Z"
   },
   {
    "duration": 7,
    "start_time": "2023-06-16T15:10:24.598Z"
   },
   {
    "duration": 6,
    "start_time": "2023-06-16T15:11:31.710Z"
   },
   {
    "duration": 6,
    "start_time": "2023-06-16T15:11:39.377Z"
   },
   {
    "duration": 13,
    "start_time": "2023-06-16T15:12:23.693Z"
   },
   {
    "duration": 5,
    "start_time": "2023-06-16T15:13:55.639Z"
   },
   {
    "duration": 91,
    "start_time": "2023-06-16T15:29:00.449Z"
   },
   {
    "duration": 55,
    "start_time": "2023-06-16T21:30:30.877Z"
   },
   {
    "duration": 1221,
    "start_time": "2023-06-16T21:30:35.622Z"
   },
   {
    "duration": 345,
    "start_time": "2023-06-16T21:30:36.846Z"
   },
   {
    "duration": 14,
    "start_time": "2023-06-16T21:30:37.193Z"
   },
   {
    "duration": 9,
    "start_time": "2023-06-16T21:30:37.209Z"
   },
   {
    "duration": 8,
    "start_time": "2023-06-16T21:30:37.220Z"
   },
   {
    "duration": 31,
    "start_time": "2023-06-16T21:30:37.230Z"
   },
   {
    "duration": 17,
    "start_time": "2023-06-16T21:30:37.263Z"
   },
   {
    "duration": 11,
    "start_time": "2023-06-16T21:30:37.282Z"
   },
   {
    "duration": 8,
    "start_time": "2023-06-16T21:30:37.295Z"
   },
   {
    "duration": 6,
    "start_time": "2023-06-16T21:30:37.305Z"
   },
   {
    "duration": 39,
    "start_time": "2023-06-16T21:30:37.312Z"
   },
   {
    "duration": 10,
    "start_time": "2023-06-16T21:30:37.359Z"
   },
   {
    "duration": 7,
    "start_time": "2023-06-16T21:30:37.371Z"
   },
   {
    "duration": 8,
    "start_time": "2023-06-16T21:30:37.379Z"
   },
   {
    "duration": 195,
    "start_time": "2023-06-16T21:30:37.388Z"
   },
   {
    "duration": 148,
    "start_time": "2023-06-16T21:30:37.585Z"
   },
   {
    "duration": 276,
    "start_time": "2023-06-16T21:30:37.735Z"
   },
   {
    "duration": 183,
    "start_time": "2023-06-16T21:30:38.013Z"
   },
   {
    "duration": 179,
    "start_time": "2023-06-16T21:30:38.198Z"
   },
   {
    "duration": 31,
    "start_time": "2023-06-16T21:30:38.379Z"
   },
   {
    "duration": 12,
    "start_time": "2023-06-16T21:30:38.412Z"
   },
   {
    "duration": 25,
    "start_time": "2023-06-16T21:30:38.426Z"
   },
   {
    "duration": 21,
    "start_time": "2023-06-16T21:30:38.453Z"
   },
   {
    "duration": 16,
    "start_time": "2023-06-16T21:30:38.476Z"
   },
   {
    "duration": 202,
    "start_time": "2023-06-16T21:30:38.494Z"
   },
   {
    "duration": 187,
    "start_time": "2023-06-16T21:30:38.698Z"
   },
   {
    "duration": 3,
    "start_time": "2023-06-16T21:30:38.887Z"
   },
   {
    "duration": 29,
    "start_time": "2023-06-16T21:30:38.893Z"
   },
   {
    "duration": 43,
    "start_time": "2023-06-16T21:30:38.923Z"
   },
   {
    "duration": 124,
    "start_time": "2023-06-16T21:30:38.967Z"
   },
   {
    "duration": 40,
    "start_time": "2023-06-16T21:30:39.093Z"
   },
   {
    "duration": 19,
    "start_time": "2023-06-16T21:30:39.135Z"
   },
   {
    "duration": 13,
    "start_time": "2023-06-16T21:30:39.156Z"
   },
   {
    "duration": 5,
    "start_time": "2023-06-16T21:30:39.171Z"
   },
   {
    "duration": 6,
    "start_time": "2023-06-16T21:30:39.177Z"
   },
   {
    "duration": 7,
    "start_time": "2023-06-16T21:30:39.184Z"
   },
   {
    "duration": 20,
    "start_time": "2023-06-16T21:30:39.192Z"
   },
   {
    "duration": 58,
    "start_time": "2023-06-16T21:30:39.214Z"
   },
   {
    "duration": 6,
    "start_time": "2023-06-16T21:30:39.273Z"
   },
   {
    "duration": 16,
    "start_time": "2023-06-16T21:30:39.280Z"
   },
   {
    "duration": 8,
    "start_time": "2023-06-16T21:30:39.298Z"
   },
   {
    "duration": 7,
    "start_time": "2023-06-16T21:30:45.722Z"
   },
   {
    "duration": 969,
    "start_time": "2023-06-16T21:34:51.210Z"
   },
   {
    "duration": 99,
    "start_time": "2023-06-16T21:34:52.181Z"
   },
   {
    "duration": 13,
    "start_time": "2023-06-16T21:34:52.281Z"
   },
   {
    "duration": 14,
    "start_time": "2023-06-16T21:34:52.296Z"
   },
   {
    "duration": 31,
    "start_time": "2023-06-16T21:34:52.312Z"
   },
   {
    "duration": 38,
    "start_time": "2023-06-16T21:34:52.344Z"
   },
   {
    "duration": 13,
    "start_time": "2023-06-16T21:34:52.383Z"
   },
   {
    "duration": 13,
    "start_time": "2023-06-16T21:34:52.397Z"
   },
   {
    "duration": 8,
    "start_time": "2023-06-16T21:34:52.411Z"
   },
   {
    "duration": 23,
    "start_time": "2023-06-16T21:34:52.421Z"
   },
   {
    "duration": 26,
    "start_time": "2023-06-16T21:34:52.446Z"
   },
   {
    "duration": 27,
    "start_time": "2023-06-16T21:34:52.474Z"
   },
   {
    "duration": 13,
    "start_time": "2023-06-16T21:34:52.503Z"
   },
   {
    "duration": 7,
    "start_time": "2023-06-16T21:34:52.520Z"
   },
   {
    "duration": 180,
    "start_time": "2023-06-16T21:34:52.528Z"
   },
   {
    "duration": 152,
    "start_time": "2023-06-16T21:34:52.710Z"
   },
   {
    "duration": 263,
    "start_time": "2023-06-16T21:34:52.864Z"
   },
   {
    "duration": 164,
    "start_time": "2023-06-16T21:34:53.128Z"
   },
   {
    "duration": 172,
    "start_time": "2023-06-16T21:34:53.294Z"
   },
   {
    "duration": 32,
    "start_time": "2023-06-16T21:34:53.468Z"
   },
   {
    "duration": 12,
    "start_time": "2023-06-16T21:34:53.501Z"
   },
   {
    "duration": 10,
    "start_time": "2023-06-16T21:34:53.515Z"
   },
   {
    "duration": 36,
    "start_time": "2023-06-16T21:34:53.526Z"
   },
   {
    "duration": 12,
    "start_time": "2023-06-16T21:34:53.564Z"
   },
   {
    "duration": 207,
    "start_time": "2023-06-16T21:34:53.578Z"
   },
   {
    "duration": 197,
    "start_time": "2023-06-16T21:34:53.787Z"
   },
   {
    "duration": 3,
    "start_time": "2023-06-16T21:34:53.986Z"
   },
   {
    "duration": 45,
    "start_time": "2023-06-16T21:34:53.991Z"
   },
   {
    "duration": 31,
    "start_time": "2023-06-16T21:34:54.038Z"
   },
   {
    "duration": 191,
    "start_time": "2023-06-16T21:34:54.070Z"
   },
   {
    "duration": 47,
    "start_time": "2023-06-16T21:34:54.265Z"
   },
   {
    "duration": 6,
    "start_time": "2023-06-16T21:34:54.314Z"
   },
   {
    "duration": 19,
    "start_time": "2023-06-16T21:34:54.322Z"
   },
   {
    "duration": 53,
    "start_time": "2023-06-16T21:34:54.343Z"
   },
   {
    "duration": 6,
    "start_time": "2023-06-16T21:34:54.398Z"
   },
   {
    "duration": 7,
    "start_time": "2023-06-16T21:34:54.405Z"
   },
   {
    "duration": 6,
    "start_time": "2023-06-16T21:34:54.413Z"
   },
   {
    "duration": 10,
    "start_time": "2023-06-16T21:51:04.869Z"
   },
   {
    "duration": 1030,
    "start_time": "2023-06-16T21:51:20.727Z"
   },
   {
    "duration": 124,
    "start_time": "2023-06-16T21:51:21.762Z"
   },
   {
    "duration": 12,
    "start_time": "2023-06-16T21:51:21.888Z"
   },
   {
    "duration": 8,
    "start_time": "2023-06-16T21:51:21.903Z"
   },
   {
    "duration": 10,
    "start_time": "2023-06-16T21:51:21.913Z"
   },
   {
    "duration": 37,
    "start_time": "2023-06-16T21:51:21.925Z"
   },
   {
    "duration": 14,
    "start_time": "2023-06-16T21:51:21.963Z"
   },
   {
    "duration": 20,
    "start_time": "2023-06-16T21:51:21.978Z"
   },
   {
    "duration": 9,
    "start_time": "2023-06-16T21:51:21.999Z"
   },
   {
    "duration": 9,
    "start_time": "2023-06-16T21:51:22.010Z"
   },
   {
    "duration": 6,
    "start_time": "2023-06-16T21:51:22.021Z"
   },
   {
    "duration": 8,
    "start_time": "2023-06-16T21:51:22.028Z"
   },
   {
    "duration": 29,
    "start_time": "2023-06-16T21:51:22.037Z"
   },
   {
    "duration": 8,
    "start_time": "2023-06-16T21:51:22.068Z"
   },
   {
    "duration": 168,
    "start_time": "2023-06-16T21:51:22.077Z"
   },
   {
    "duration": 156,
    "start_time": "2023-06-16T21:51:22.247Z"
   },
   {
    "duration": 282,
    "start_time": "2023-06-16T21:51:22.405Z"
   },
   {
    "duration": 169,
    "start_time": "2023-06-16T21:51:22.689Z"
   },
   {
    "duration": 152,
    "start_time": "2023-06-16T21:51:22.866Z"
   },
   {
    "duration": 41,
    "start_time": "2023-06-16T21:51:23.020Z"
   },
   {
    "duration": 13,
    "start_time": "2023-06-16T21:51:23.066Z"
   },
   {
    "duration": 7,
    "start_time": "2023-06-16T21:51:23.080Z"
   },
   {
    "duration": 12,
    "start_time": "2023-06-16T21:51:23.088Z"
   },
   {
    "duration": 11,
    "start_time": "2023-06-16T21:51:23.101Z"
   },
   {
    "duration": 215,
    "start_time": "2023-06-16T21:51:23.113Z"
   },
   {
    "duration": 202,
    "start_time": "2023-06-16T21:51:23.330Z"
   },
   {
    "duration": 3,
    "start_time": "2023-06-16T21:51:23.533Z"
   },
   {
    "duration": 39,
    "start_time": "2023-06-16T21:51:23.539Z"
   },
   {
    "duration": 13,
    "start_time": "2023-06-16T21:51:23.580Z"
   },
   {
    "duration": 141,
    "start_time": "2023-06-16T21:51:23.594Z"
   },
   {
    "duration": 50,
    "start_time": "2023-06-16T21:51:23.737Z"
   },
   {
    "duration": 5,
    "start_time": "2023-06-16T21:51:23.789Z"
   },
   {
    "duration": 8,
    "start_time": "2023-06-16T21:51:23.795Z"
   },
   {
    "duration": 59,
    "start_time": "2023-06-16T21:51:23.804Z"
   },
   {
    "duration": 6,
    "start_time": "2023-06-16T21:51:23.865Z"
   },
   {
    "duration": 11,
    "start_time": "2023-06-16T21:51:23.872Z"
   },
   {
    "duration": 4,
    "start_time": "2023-06-16T21:53:20.039Z"
   },
   {
    "duration": 11,
    "start_time": "2023-06-16T21:53:26.960Z"
   },
   {
    "duration": 11,
    "start_time": "2023-06-16T21:54:42.057Z"
   },
   {
    "duration": 13,
    "start_time": "2023-06-16T21:54:50.285Z"
   },
   {
    "duration": 13,
    "start_time": "2023-06-16T21:56:55.659Z"
   },
   {
    "duration": 1028,
    "start_time": "2023-06-16T21:57:24.635Z"
   },
   {
    "duration": 121,
    "start_time": "2023-06-16T21:57:25.665Z"
   },
   {
    "duration": 11,
    "start_time": "2023-06-16T21:57:25.788Z"
   },
   {
    "duration": 8,
    "start_time": "2023-06-16T21:57:25.801Z"
   },
   {
    "duration": 6,
    "start_time": "2023-06-16T21:57:25.810Z"
   },
   {
    "duration": 35,
    "start_time": "2023-06-16T21:57:25.817Z"
   },
   {
    "duration": 15,
    "start_time": "2023-06-16T21:57:25.859Z"
   },
   {
    "duration": 14,
    "start_time": "2023-06-16T21:57:25.876Z"
   },
   {
    "duration": 8,
    "start_time": "2023-06-16T21:57:25.892Z"
   },
   {
    "duration": 5,
    "start_time": "2023-06-16T21:57:25.902Z"
   },
   {
    "duration": 6,
    "start_time": "2023-06-16T21:57:25.908Z"
   },
   {
    "duration": 43,
    "start_time": "2023-06-16T21:57:25.916Z"
   },
   {
    "duration": 6,
    "start_time": "2023-06-16T21:57:25.964Z"
   },
   {
    "duration": 7,
    "start_time": "2023-06-16T21:57:25.972Z"
   },
   {
    "duration": 182,
    "start_time": "2023-06-16T21:57:25.980Z"
   },
   {
    "duration": 129,
    "start_time": "2023-06-16T21:57:26.163Z"
   },
   {
    "duration": 287,
    "start_time": "2023-06-16T21:57:26.293Z"
   },
   {
    "duration": 160,
    "start_time": "2023-06-16T21:57:26.582Z"
   },
   {
    "duration": 163,
    "start_time": "2023-06-16T21:57:26.744Z"
   },
   {
    "duration": 30,
    "start_time": "2023-06-16T21:57:26.909Z"
   },
   {
    "duration": 21,
    "start_time": "2023-06-16T21:57:26.950Z"
   },
   {
    "duration": 7,
    "start_time": "2023-06-16T21:57:26.972Z"
   },
   {
    "duration": 10,
    "start_time": "2023-06-16T21:57:26.980Z"
   },
   {
    "duration": 10,
    "start_time": "2023-06-16T21:57:26.992Z"
   },
   {
    "duration": 213,
    "start_time": "2023-06-16T21:57:27.004Z"
   },
   {
    "duration": 191,
    "start_time": "2023-06-16T21:57:27.218Z"
   },
   {
    "duration": 3,
    "start_time": "2023-06-16T21:57:27.411Z"
   },
   {
    "duration": 46,
    "start_time": "2023-06-16T21:57:27.416Z"
   },
   {
    "duration": 15,
    "start_time": "2023-06-16T21:57:27.463Z"
   },
   {
    "duration": 132,
    "start_time": "2023-06-16T21:57:27.479Z"
   },
   {
    "duration": 54,
    "start_time": "2023-06-16T21:57:27.612Z"
   },
   {
    "duration": 6,
    "start_time": "2023-06-16T21:57:27.668Z"
   },
   {
    "duration": 6,
    "start_time": "2023-06-16T21:57:27.675Z"
   },
   {
    "duration": 36,
    "start_time": "2023-06-16T21:57:27.682Z"
   },
   {
    "duration": 8,
    "start_time": "2023-06-16T21:57:27.720Z"
   },
   {
    "duration": 1035,
    "start_time": "2023-06-16T22:00:57.948Z"
   },
   {
    "duration": 121,
    "start_time": "2023-06-16T22:00:58.985Z"
   },
   {
    "duration": 13,
    "start_time": "2023-06-16T22:00:59.107Z"
   },
   {
    "duration": 21,
    "start_time": "2023-06-16T22:00:59.122Z"
   },
   {
    "duration": 17,
    "start_time": "2023-06-16T22:00:59.145Z"
   },
   {
    "duration": 24,
    "start_time": "2023-06-16T22:00:59.164Z"
   },
   {
    "duration": 13,
    "start_time": "2023-06-16T22:00:59.189Z"
   },
   {
    "duration": 11,
    "start_time": "2023-06-16T22:00:59.204Z"
   },
   {
    "duration": 7,
    "start_time": "2023-06-16T22:00:59.217Z"
   },
   {
    "duration": 29,
    "start_time": "2023-06-16T22:00:59.225Z"
   },
   {
    "duration": 9,
    "start_time": "2023-06-16T22:00:59.258Z"
   },
   {
    "duration": 7,
    "start_time": "2023-06-16T22:00:59.268Z"
   },
   {
    "duration": 6,
    "start_time": "2023-06-16T22:00:59.276Z"
   },
   {
    "duration": 6,
    "start_time": "2023-06-16T22:00:59.284Z"
   },
   {
    "duration": 204,
    "start_time": "2023-06-16T22:00:59.292Z"
   },
   {
    "duration": 145,
    "start_time": "2023-06-16T22:00:59.498Z"
   },
   {
    "duration": 284,
    "start_time": "2023-06-16T22:00:59.645Z"
   },
   {
    "duration": 166,
    "start_time": "2023-06-16T22:00:59.931Z"
   },
   {
    "duration": 180,
    "start_time": "2023-06-16T22:01:00.099Z"
   },
   {
    "duration": 31,
    "start_time": "2023-06-16T22:01:00.282Z"
   },
   {
    "duration": 13,
    "start_time": "2023-06-16T22:01:00.315Z"
   },
   {
    "duration": 53,
    "start_time": "2023-06-16T22:01:00.329Z"
   },
   {
    "duration": 39,
    "start_time": "2023-06-16T22:01:00.384Z"
   },
   {
    "duration": 42,
    "start_time": "2023-06-16T22:01:00.425Z"
   },
   {
    "duration": 234,
    "start_time": "2023-06-16T22:01:00.469Z"
   },
   {
    "duration": 200,
    "start_time": "2023-06-16T22:01:00.705Z"
   },
   {
    "duration": 4,
    "start_time": "2023-06-16T22:01:00.907Z"
   },
   {
    "duration": 83,
    "start_time": "2023-06-16T22:01:00.912Z"
   },
   {
    "duration": 33,
    "start_time": "2023-06-16T22:01:00.997Z"
   },
   {
    "duration": 172,
    "start_time": "2023-06-16T22:01:01.032Z"
   },
   {
    "duration": 50,
    "start_time": "2023-06-16T22:01:01.206Z"
   },
   {
    "duration": 30,
    "start_time": "2023-06-16T22:01:01.257Z"
   },
   {
    "duration": 49,
    "start_time": "2023-06-16T22:01:01.289Z"
   },
   {
    "duration": 61,
    "start_time": "2023-06-16T22:01:01.340Z"
   },
   {
    "duration": 10,
    "start_time": "2023-06-16T22:01:01.403Z"
   },
   {
    "duration": 5,
    "start_time": "2023-06-16T22:02:22.079Z"
   },
   {
    "duration": 990,
    "start_time": "2023-06-16T22:06:50.991Z"
   },
   {
    "duration": 125,
    "start_time": "2023-06-16T22:06:51.983Z"
   },
   {
    "duration": 12,
    "start_time": "2023-06-16T22:06:52.110Z"
   },
   {
    "duration": 21,
    "start_time": "2023-06-16T22:06:52.124Z"
   },
   {
    "duration": 23,
    "start_time": "2023-06-16T22:06:52.147Z"
   },
   {
    "duration": 45,
    "start_time": "2023-06-16T22:06:52.172Z"
   },
   {
    "duration": 13,
    "start_time": "2023-06-16T22:06:52.218Z"
   },
   {
    "duration": 12,
    "start_time": "2023-06-16T22:06:52.232Z"
   },
   {
    "duration": 9,
    "start_time": "2023-06-16T22:06:52.246Z"
   },
   {
    "duration": 8,
    "start_time": "2023-06-16T22:06:52.261Z"
   },
   {
    "duration": 6,
    "start_time": "2023-06-16T22:06:52.271Z"
   },
   {
    "duration": 19,
    "start_time": "2023-06-16T22:06:52.278Z"
   },
   {
    "duration": 6,
    "start_time": "2023-06-16T22:06:52.299Z"
   },
   {
    "duration": 10,
    "start_time": "2023-06-16T22:06:52.307Z"
   },
   {
    "duration": 225,
    "start_time": "2023-06-16T22:06:52.318Z"
   },
   {
    "duration": 152,
    "start_time": "2023-06-16T22:06:52.553Z"
   },
   {
    "duration": 287,
    "start_time": "2023-06-16T22:06:52.706Z"
   },
   {
    "duration": 170,
    "start_time": "2023-06-16T22:06:52.995Z"
   },
   {
    "duration": 180,
    "start_time": "2023-06-16T22:06:53.167Z"
   },
   {
    "duration": 37,
    "start_time": "2023-06-16T22:06:53.349Z"
   },
   {
    "duration": 13,
    "start_time": "2023-06-16T22:06:53.387Z"
   },
   {
    "duration": 7,
    "start_time": "2023-06-16T22:06:53.402Z"
   },
   {
    "duration": 22,
    "start_time": "2023-06-16T22:06:53.410Z"
   },
   {
    "duration": 38,
    "start_time": "2023-06-16T22:06:53.434Z"
   },
   {
    "duration": 213,
    "start_time": "2023-06-16T22:06:53.474Z"
   },
   {
    "duration": 199,
    "start_time": "2023-06-16T22:06:53.689Z"
   },
   {
    "duration": 3,
    "start_time": "2023-06-16T22:06:53.889Z"
   },
   {
    "duration": 31,
    "start_time": "2023-06-16T22:06:53.895Z"
   },
   {
    "duration": 36,
    "start_time": "2023-06-16T22:06:53.928Z"
   },
   {
    "duration": 133,
    "start_time": "2023-06-16T22:06:53.966Z"
   },
   {
    "duration": 49,
    "start_time": "2023-06-16T22:06:54.101Z"
   },
   {
    "duration": 13,
    "start_time": "2023-06-16T22:06:54.163Z"
   },
   {
    "duration": 11,
    "start_time": "2023-06-16T22:06:54.177Z"
   },
   {
    "duration": 44,
    "start_time": "2023-06-16T22:06:54.190Z"
   },
   {
    "duration": 19,
    "start_time": "2023-06-16T22:06:54.236Z"
   },
   {
    "duration": 1135,
    "start_time": "2023-06-17T07:18:07.743Z"
   },
   {
    "duration": 117,
    "start_time": "2023-06-17T07:18:08.880Z"
   },
   {
    "duration": 24,
    "start_time": "2023-06-17T07:18:08.999Z"
   },
   {
    "duration": 26,
    "start_time": "2023-06-17T07:18:09.025Z"
   },
   {
    "duration": 26,
    "start_time": "2023-06-17T07:18:09.053Z"
   },
   {
    "duration": 45,
    "start_time": "2023-06-17T07:18:09.081Z"
   },
   {
    "duration": 21,
    "start_time": "2023-06-17T07:18:09.128Z"
   },
   {
    "duration": 17,
    "start_time": "2023-06-17T07:18:09.152Z"
   },
   {
    "duration": 43,
    "start_time": "2023-06-17T07:18:09.171Z"
   },
   {
    "duration": 13,
    "start_time": "2023-06-17T07:18:09.217Z"
   },
   {
    "duration": 13,
    "start_time": "2023-06-17T07:18:09.232Z"
   },
   {
    "duration": 14,
    "start_time": "2023-06-17T07:18:09.247Z"
   },
   {
    "duration": 6,
    "start_time": "2023-06-17T07:18:09.263Z"
   },
   {
    "duration": 9,
    "start_time": "2023-06-17T07:18:09.273Z"
   },
   {
    "duration": 240,
    "start_time": "2023-06-17T07:18:09.284Z"
   },
   {
    "duration": 135,
    "start_time": "2023-06-17T07:18:09.525Z"
   },
   {
    "duration": 263,
    "start_time": "2023-06-17T07:18:09.663Z"
   },
   {
    "duration": 158,
    "start_time": "2023-06-17T07:18:09.928Z"
   },
   {
    "duration": 165,
    "start_time": "2023-06-17T07:18:10.087Z"
   },
   {
    "duration": 33,
    "start_time": "2023-06-17T07:18:10.254Z"
   },
   {
    "duration": 22,
    "start_time": "2023-06-17T07:18:10.299Z"
   },
   {
    "duration": 27,
    "start_time": "2023-06-17T07:18:10.323Z"
   },
   {
    "duration": 27,
    "start_time": "2023-06-17T07:18:10.352Z"
   },
   {
    "duration": 13,
    "start_time": "2023-06-17T07:18:10.381Z"
   },
   {
    "duration": 197,
    "start_time": "2023-06-17T07:18:10.396Z"
   },
   {
    "duration": 234,
    "start_time": "2023-06-17T07:18:10.595Z"
   },
   {
    "duration": 9,
    "start_time": "2023-06-17T07:18:10.835Z"
   },
   {
    "duration": 37,
    "start_time": "2023-06-17T07:18:10.845Z"
   },
   {
    "duration": 32,
    "start_time": "2023-06-17T07:18:10.885Z"
   },
   {
    "duration": 148,
    "start_time": "2023-06-17T07:18:10.919Z"
   },
   {
    "duration": 55,
    "start_time": "2023-06-17T07:18:11.068Z"
   },
   {
    "duration": 16,
    "start_time": "2023-06-17T07:18:11.125Z"
   },
   {
    "duration": 20,
    "start_time": "2023-06-17T07:18:11.143Z"
   },
   {
    "duration": 58,
    "start_time": "2023-06-17T07:18:11.165Z"
   },
   {
    "duration": 11,
    "start_time": "2023-06-17T07:18:11.225Z"
   }
  ],
  "kernelspec": {
   "display_name": "Python 3 (ipykernel)",
   "language": "python",
   "name": "python3"
  },
  "language_info": {
   "codemirror_mode": {
    "name": "ipython",
    "version": 3
   },
   "file_extension": ".py",
   "mimetype": "text/x-python",
   "name": "python",
   "nbconvert_exporter": "python",
   "pygments_lexer": "ipython3",
   "version": "3.11.6"
  },
  "toc": {
   "base_numbering": 1,
   "nav_menu": {},
   "number_sections": true,
   "sideBar": true,
   "skip_h1_title": true,
   "title_cell": "Table of Contents",
   "title_sidebar": "Contents",
   "toc_cell": false,
   "toc_position": {},
   "toc_section_display": true,
   "toc_window_display": true
  }
 },
 "nbformat": 4,
 "nbformat_minor": 5
}
