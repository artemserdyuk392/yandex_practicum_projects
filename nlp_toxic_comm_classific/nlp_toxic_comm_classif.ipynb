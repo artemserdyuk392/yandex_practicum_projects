{
 "cells": [
  {
   "cell_type": "markdown",
   "metadata": {
    "id": "sM_dhHlwXFD1",
    "toc": true
   },
   "source": [
    "<h1>Содержание<span class=\"tocSkip\"></span></h1>\n",
    "<div class=\"toc\"><ul class=\"toc-item\"><li><span><a href=\"#Подготовка\" data-toc-modified-id=\"Подготовка-1\"><span class=\"toc-item-num\">1&nbsp;&nbsp;</span>Подготовка</a></span><ul class=\"toc-item\"><li><ul class=\"toc-item\"><li><span><a href=\"#Обработка-текста\" data-toc-modified-id=\"Обработка-текста-1.0.1\"><span class=\"toc-item-num\">1.0.1&nbsp;&nbsp;</span>Обработка текста</a></span></li><li><span><a href=\"#Лемматизация\" data-toc-modified-id=\"Лемматизация-1.0.2\"><span class=\"toc-item-num\">1.0.2&nbsp;&nbsp;</span>Лемматизация</a></span></li></ul></li><li><span><a href=\"#Дисбаланс---downsampling\" data-toc-modified-id=\"Дисбаланс---downsampling-1.1\"><span class=\"toc-item-num\">1.1&nbsp;&nbsp;</span>Дисбаланс - downsampling</a></span></li></ul></li><li><span><a href=\"#Обучение\" data-toc-modified-id=\"Обучение-2\"><span class=\"toc-item-num\">2&nbsp;&nbsp;</span>Обучение</a></span><ul class=\"toc-item\"><li><span><a href=\"#baseline\" data-toc-modified-id=\"baseline-2.1\"><span class=\"toc-item-num\">2.1&nbsp;&nbsp;</span>baseline</a></span></li><li><span><a href=\"#catboost-TF-IDF\" data-toc-modified-id=\"catboost-TF-IDF-2.2\"><span class=\"toc-item-num\">2.2&nbsp;&nbsp;</span>catboost TF-IDF</a></span><ul class=\"toc-item\"><li><span><a href=\"#TF-IDF\" data-toc-modified-id=\"TF-IDF-2.2.1\"><span class=\"toc-item-num\">2.2.1&nbsp;&nbsp;</span>TF-IDF</a></span></li></ul></li><li><span><a href=\"#BERT---модель-взята-с-HuggingFace\" data-toc-modified-id=\"BERT---модель-взята-с-HuggingFace-2.3\"><span class=\"toc-item-num\">2.3&nbsp;&nbsp;</span>BERT - модель взята с HuggingFace</a></span></li><li><span><a href=\"#Итоговое-тестирование-модели\" data-toc-modified-id=\"Итоговое-тестирование-модели-2.4\"><span class=\"toc-item-num\">2.4&nbsp;&nbsp;</span>Итоговое тестирование модели</a></span></li></ul></li><li><span><a href=\"#Выводы\" data-toc-modified-id=\"Выводы-3\"><span class=\"toc-item-num\">3&nbsp;&nbsp;</span>Выводы</a></span><ul class=\"toc-item\"><li><span><a href=\"#Вывод:\" data-toc-modified-id=\"Вывод:-3.1\"><span class=\"toc-item-num\">3.1&nbsp;&nbsp;</span>Вывод:</a></span></li></ul></li><li><span><a href=\"#Чек-лист-проверки\" data-toc-modified-id=\"Чек-лист-проверки-4\"><span class=\"toc-item-num\">4&nbsp;&nbsp;</span>Чек-лист проверки</a></span></li></ul></div>"
   ]
  },
  {
   "cell_type": "markdown",
   "metadata": {
    "id": "O_6Fz5wxXFD9"
   },
   "source": [
    "# Проект для «Викишоп» TDF-IDF and BERT from HuggingFace"
   ]
  },
  {
   "cell_type": "markdown",
   "metadata": {
    "id": "M0DMZZBVXFD9"
   },
   "source": [
    "Интернет-магазин «Викишоп» запускает новый сервис. Теперь пользователи могут редактировать и дополнять описания товаров, как в вики-сообществах. То есть клиенты предлагают свои правки и комментируют изменения других. Магазину нужен инструмент, который будет искать токсичные комментарии и отправлять их на модерацию.\n",
    "\n",
    "Обучите модель классифицировать комментарии на позитивные и негативные. В вашем распоряжении набор данных с разметкой о токсичности правок.\n",
    "\n",
    "Постройте модель со значением метрики качества *F1* не меньше 0.75.\n",
    "\n",
    "**Инструкция по выполнению проекта**\n",
    "\n",
    "1. Загрузите и подготовьте данные.\n",
    "2. Обучите разные модели.\n",
    "3. Сделайте выводы.\n",
    "\n",
    "Для выполнения проекта применять *BERT* необязательно, но вы можете попробовать.\n",
    "\n",
    "**Описание данных**\n",
    "\n",
    "Данные находятся в файле `toxic_comments.csv`. Столбец *text* в нём содержит текст комментария, а *toxic* — целевой признак."
   ]
  },
  {
   "cell_type": "markdown",
   "metadata": {
    "id": "ANbA3o4oXFD-"
   },
   "source": [
    "## Подготовка"
   ]
  },
  {
   "cell_type": "code",
   "execution_count": 1,
   "metadata": {
    "colab": {
     "base_uri": "https://localhost:8080/"
    },
    "id": "tt5LSlLIZbUo",
    "outputId": "eeee0a43-8453-444b-d112-a57b27bd7763"
   },
   "outputs": [
    {
     "name": "stdout",
     "output_type": "stream",
     "text": [
      "Requirement already satisfied: catboost in /Users/artemmm/anaconda3/lib/python3.11/site-packages (1.2)\n",
      "Requirement already satisfied: graphviz in /Users/artemmm/anaconda3/lib/python3.11/site-packages (from catboost) (0.20.1)\n",
      "Requirement already satisfied: matplotlib in /Users/artemmm/anaconda3/lib/python3.11/site-packages (from catboost) (3.7.2)\n",
      "Requirement already satisfied: numpy>=1.16.0 in /Users/artemmm/anaconda3/lib/python3.11/site-packages (from catboost) (1.24.3)\n",
      "Requirement already satisfied: pandas>=0.24 in /Users/artemmm/anaconda3/lib/python3.11/site-packages (from catboost) (2.0.3)\n",
      "Requirement already satisfied: scipy in /Users/artemmm/anaconda3/lib/python3.11/site-packages (from catboost) (1.11.4)\n",
      "Requirement already satisfied: plotly in /Users/artemmm/anaconda3/lib/python3.11/site-packages (from catboost) (5.9.0)\n",
      "Requirement already satisfied: six in /Users/artemmm/anaconda3/lib/python3.11/site-packages (from catboost) (1.16.0)\n",
      "Requirement already satisfied: python-dateutil>=2.8.2 in /Users/artemmm/anaconda3/lib/python3.11/site-packages (from pandas>=0.24->catboost) (2.8.2)\n",
      "Requirement already satisfied: pytz>=2020.1 in /Users/artemmm/anaconda3/lib/python3.11/site-packages (from pandas>=0.24->catboost) (2023.3.post1)\n",
      "Requirement already satisfied: tzdata>=2022.1 in /Users/artemmm/anaconda3/lib/python3.11/site-packages (from pandas>=0.24->catboost) (2023.3)\n",
      "Requirement already satisfied: contourpy>=1.0.1 in /Users/artemmm/anaconda3/lib/python3.11/site-packages (from matplotlib->catboost) (1.0.5)\n",
      "Requirement already satisfied: cycler>=0.10 in /Users/artemmm/anaconda3/lib/python3.11/site-packages (from matplotlib->catboost) (0.11.0)\n",
      "Requirement already satisfied: fonttools>=4.22.0 in /Users/artemmm/anaconda3/lib/python3.11/site-packages (from matplotlib->catboost) (4.25.0)\n",
      "Requirement already satisfied: kiwisolver>=1.0.1 in /Users/artemmm/anaconda3/lib/python3.11/site-packages (from matplotlib->catboost) (1.4.4)\n",
      "Requirement already satisfied: packaging>=20.0 in /Users/artemmm/anaconda3/lib/python3.11/site-packages (from matplotlib->catboost) (23.1)\n",
      "Requirement already satisfied: pillow>=6.2.0 in /Users/artemmm/anaconda3/lib/python3.11/site-packages (from matplotlib->catboost) (9.4.0)\n",
      "Requirement already satisfied: pyparsing<3.1,>=2.3.1 in /Users/artemmm/anaconda3/lib/python3.11/site-packages (from matplotlib->catboost) (3.0.9)\n",
      "Requirement already satisfied: tenacity>=6.2.0 in /Users/artemmm/anaconda3/lib/python3.11/site-packages (from plotly->catboost) (8.2.2)\n",
      "Note: you may need to restart the kernel to use updated packages.\n"
     ]
    }
   ],
   "source": [
    "pip install catboost"
   ]
  },
  {
   "cell_type": "code",
   "execution_count": 2,
   "metadata": {
    "colab": {
     "base_uri": "https://localhost:8080/"
    },
    "id": "kfBn7Qc4XFD-",
    "outputId": "fe9a291e-0ef6-4015-aa54-ad380f4f3b13"
   },
   "outputs": [
    {
     "name": "stderr",
     "output_type": "stream",
     "text": [
      "[nltk_data] Downloading package punkt to /Users/artemmm/nltk_data...\n",
      "[nltk_data]   Package punkt is already up-to-date!\n",
      "[nltk_data] Downloading package wordnet to /Users/artemmm/nltk_data...\n",
      "[nltk_data]   Package wordnet is already up-to-date!\n",
      "[nltk_data] Downloading package stopwords to\n",
      "[nltk_data]     /Users/artemmm/nltk_data...\n",
      "[nltk_data]   Package stopwords is already up-to-date!\n",
      "[nltk_data] Downloading package averaged_perceptron_tagger to\n",
      "[nltk_data]     /Users/artemmm/nltk_data...\n",
      "[nltk_data]   Package averaged_perceptron_tagger is already up-to-\n",
      "[nltk_data]       date!\n",
      "[nltk_data] Downloading package omw-1.4 to /Users/artemmm/nltk_data...\n",
      "[nltk_data]   Package omw-1.4 is already up-to-date!\n"
     ]
    },
    {
     "data": {
      "text/plain": [
       "True"
      ]
     },
     "execution_count": 2,
     "metadata": {},
     "output_type": "execute_result"
    }
   ],
   "source": [
    "import pandas as pd\n",
    "import numpy as np\n",
    "import seaborn as sns\n",
    "import matplotlib.pyplot as plt\n",
    "import transformers\n",
    "from transformers import BertTokenizer, BertConfig\n",
    "import re\n",
    "import torch\n",
    "import spacy\n",
    "from pymystem3 import Mystem\n",
    "from sklearn.utils import shuffle\n",
    "from sklearn.feature_extraction.text import CountVectorizer\n",
    "from sklearn.linear_model import LogisticRegression\n",
    "from nltk.corpus import stopwords\n",
    "from sklearn.feature_extraction.text import TfidfVectorizer\n",
    "from tqdm import notebook\n",
    "from sklearn.model_selection import train_test_split\n",
    "from sklearn.metrics import f1_score, confusion_matrix\n",
    "from catboost import CatBoostClassifier\n",
    "\n",
    "import nltk\n",
    "from nltk.stem import WordNetLemmatizer\n",
    "from nltk.tokenize import word_tokenize\n",
    "from nltk.corpus import stopwords as nltk_stopwords\n",
    "nltk.download('punkt')\n",
    "nltk.download('wordnet')\n",
    "nltk.download('stopwords')\n",
    "nltk.download('averaged_perceptron_tagger')\n",
    "nltk.download('omw-1.4')"
   ]
  },
  {
   "cell_type": "code",
   "execution_count": 10,
   "metadata": {
    "colab": {
     "base_uri": "https://localhost:8080/",
     "height": 207
    },
    "id": "FKUa30TJXFEA",
    "outputId": "50453eca-ca13-4ede-8d15-0ebffb3138b1"
   },
   "outputs": [
    {
     "name": "stdout",
     "output_type": "stream",
     "text": [
      "(8000, 2)\n"
     ]
    }
   ],
   "source": [
    "import os\n",
    "pth1 = '/Users/artemmm/Downloads/toxic_comments.csv'\n",
    "pth2 = '/datasets/toxic_comments.csv'\n",
    "pth3 = '/content/toxic_comments.csv'\n",
    "\n",
    "if os.path.exists(pth1):\n",
    "    data = pd.read_csv(pth1, usecols=[1, 2])\n",
    "elif os.path.exists(pth2):\n",
    "    data = pd.read_csv(pth2, usecols=[1, 2])\n",
    "elif os.path.exists(pth3):\n",
    "    data = pd.read_csv(pth3, usecols=[1, 2])\n",
    "else:\n",
    "    print('Something is wrong')\n",
    "\n",
    "RANDOMSTATE = 42\n",
    "#data = data.sample(8000, random_state = RANDOMSTATE)\n",
    "data.head()\n",
    "print(data.shape)"
   ]
  },
  {
   "cell_type": "markdown",
   "metadata": {
    "id": "_LAi-yzXXFEB"
   },
   "source": [
    "#### Обработка текста"
   ]
  },
  {
   "cell_type": "code",
   "execution_count": 4,
   "metadata": {
    "id": "z94B8CJpXFEC"
   },
   "outputs": [],
   "source": [
    "data['text'] = data['text'].str.replace('\\n', ' ')"
   ]
  },
  {
   "cell_type": "markdown",
   "metadata": {
    "id": "DzUg00HyXFEH"
   },
   "source": [
    "### BERT - модель взята с HuggingFace"
   ]
  },
  {
   "cell_type": "code",
   "execution_count": 5,
   "metadata": {
    "id": "WsH_YzboXFEH"
   },
   "outputs": [
    {
     "data": {
      "text/html": [
       "<div>\n",
       "<style scoped>\n",
       "    .dataframe tbody tr th:only-of-type {\n",
       "        vertical-align: middle;\n",
       "    }\n",
       "\n",
       "    .dataframe tbody tr th {\n",
       "        vertical-align: top;\n",
       "    }\n",
       "\n",
       "    .dataframe thead th {\n",
       "        text-align: right;\n",
       "    }\n",
       "</style>\n",
       "<table border=\"1\" class=\"dataframe\">\n",
       "  <thead>\n",
       "    <tr style=\"text-align: right;\">\n",
       "      <th></th>\n",
       "      <th>text</th>\n",
       "      <th>toxic</th>\n",
       "    </tr>\n",
       "  </thead>\n",
       "  <tbody>\n",
       "    <tr>\n",
       "      <th>85827</th>\n",
       "      <td>\" Kingping said \"\"Very well, please place any ...</td>\n",
       "      <td>0</td>\n",
       "    </tr>\n",
       "    <tr>\n",
       "      <th>117319</th>\n",
       "      <td>Why has my article been put up for deletion.  ...</td>\n",
       "      <td>0</td>\n",
       "    </tr>\n",
       "    <tr>\n",
       "      <th>79636</th>\n",
       "      <td>[edit] Budokai tenakaichi 2 In what way did I ...</td>\n",
       "      <td>0</td>\n",
       "    </tr>\n",
       "    <tr>\n",
       "      <th>154024</th>\n",
       "      <td>An utter fabrication and ridiculous nonsense! ...</td>\n",
       "      <td>1</td>\n",
       "    </tr>\n",
       "    <tr>\n",
       "      <th>10388</th>\n",
       "      <td>No, I'm not. Link was forwarded to me. Please ...</td>\n",
       "      <td>0</td>\n",
       "    </tr>\n",
       "  </tbody>\n",
       "</table>\n",
       "</div>"
      ],
      "text/plain": [
       "                                                     text  toxic\n",
       "85827   \" Kingping said \"\"Very well, please place any ...      0\n",
       "117319  Why has my article been put up for deletion.  ...      0\n",
       "79636   [edit] Budokai tenakaichi 2 In what way did I ...      0\n",
       "154024  An utter fabrication and ridiculous nonsense! ...      1\n",
       "10388   No, I'm not. Link was forwarded to me. Please ...      0"
      ]
     },
     "execution_count": 5,
     "metadata": {},
     "output_type": "execute_result"
    }
   ],
   "source": [
    "#features_downsampled, target_downsampled = downsample(data['text'], data['toxic'], 0.1)\n",
    "#data = pd.concat([features_downsampled, target_downsampled], axis = 1)\n",
    "data = data.sample(400)\n",
    "\n",
    "data.head()"
   ]
  },
  {
   "cell_type": "code",
   "execution_count": 6,
   "metadata": {
    "id": "3zxJAiD5XFEH"
   },
   "outputs": [
    {
     "name": "stderr",
     "output_type": "stream",
     "text": [
      "Truncation was not explicitly activated but `max_length` is provided a specific value, please use `truncation=True` to explicitly truncate examples to max length. Defaulting to 'longest_first' truncation strategy. If you encode pairs of sequences (GLUE-style) with the tokenizer you can select this strategy more precisely by providing a specific strategy to `truncation`.\n"
     ]
    }
   ],
   "source": [
    "from transformers import AutoTokenizer, AutoModelForSequenceClassification\n",
    "from transformers import BertModel\n",
    "tokenizer = AutoTokenizer.from_pretrained(\"unitary/toxic-bert\", do_lower_case = True)\n",
    "tokenized = data['text'].apply(\n",
    "    lambda x: tokenizer.encode(x, add_special_tokens=True, max_length = 512))\n",
    "max_len = 0\n",
    "for i in tokenized.values:\n",
    "    if len(i) > max_len:\n",
    "        max_len = len(i)\n",
    "\n",
    "padded = np.array([i + [0]*(max_len - len(i)) for i in tokenized.values])\n",
    "attention_mask = np.where(padded != 0, 1, 0)\n",
    "model = AutoModelForSequenceClassification.from_pretrained(\"unitary/toxic-bert\")"
   ]
  },
  {
   "cell_type": "code",
   "execution_count": 7,
   "metadata": {
    "id": "bSv4YLMeXFEH"
   },
   "outputs": [
    {
     "name": "stdout",
     "output_type": "stream",
     "text": [
      "huggingface/tokenizers: The current process just got forked, after parallelism has already been used. Disabling parallelism to avoid deadlocks...\n",
      "To disable this warning, you can either:\n",
      "\t- Avoid using `tokenizers` before the fork if possible\n",
      "\t- Explicitly set the environment variable TOKENIZERS_PARALLELISM=(true | false)\n"
     ]
    },
    {
     "data": {
      "application/vnd.jupyter.widget-view+json": {
       "model_id": "bbde91d667d64f9b9f12f3e4d47f5236",
       "version_major": 2,
       "version_minor": 0
      },
      "text/plain": [
       "  0%|          | 0/20 [00:00<?, ?it/s]"
      ]
     },
     "metadata": {},
     "output_type": "display_data"
    }
   ],
   "source": [
    "batch_size = 20\n",
    "embeddings = []\n",
    "for i in notebook.tqdm(range(padded.shape[0] // batch_size)):\n",
    "        batch = torch.LongTensor(padded[batch_size*i:batch_size*(i+1)])\n",
    "        attention_mask_batch = torch.LongTensor(attention_mask[batch_size*i:batch_size*(i+1)])\n",
    "        with torch.no_grad():\n",
    "            batch_embeddings = model(batch, attention_mask=attention_mask_batch)\n",
    "        embeddings.append(batch_embeddings[0].numpy())"
   ]
  },
  {
   "cell_type": "code",
   "execution_count": 8,
   "metadata": {
    "id": "uMxKFG_5XFEI"
   },
   "outputs": [
    {
     "name": "stdout",
     "output_type": "stream",
     "text": [
      "1.0\n"
     ]
    }
   ],
   "source": [
    "features = np.concatenate(embeddings)\n",
    "train, test, y_train, y_test = train_test_split(features,data['toxic'],\n",
    "                                                test_size = 0.3, shuffle = False,\n",
    "                                                random_state = RANDOMSTATE)\n",
    "x_test,x_valid, y_test, y_valid = train_test_split(test, y_test, test_size = 0.5, random_state = RANDOMSTATE)\n",
    "\n",
    "#features, target = downsample(train, y_train, 0.1)\n",
    "\n",
    "\n",
    "#model = CatBoostClassifier(eval_metric = 'TotalF1', learning_rate = 0.2)\n",
    "                           #, verbose=False)\n",
    "#model.fit(train, y_train, eval_set = (test, y_test))\n",
    "\n",
    "model = LogisticRegression()\n",
    "model.fit(train, y_train)\n",
    "pred = model.predict(x_valid)\n",
    "print(f1_score(pred, y_valid))\n",
    "cbc_conf_mtrx = confusion_matrix(y_valid, pred)"
   ]
  },
  {
   "cell_type": "code",
   "execution_count": 9,
   "metadata": {
    "id": "cuJCM3w3_em-"
   },
   "outputs": [
    {
     "data": {
      "image/png": "[encoded data removed]",
      "text/plain": [
       "<Figure size 500x300 with 1 Axes>"
      ]
     },
     "metadata": {},
     "output_type": "display_data"
    }
   ],
   "source": [
    "sns.set_theme(style='whitegrid')\n",
    "fig, ax = plt.subplots(1, 1, figsize=(5, 3))\n",
    "sns.heatmap(cbc_conf_mtrx, ax=ax, annot=True, fmt='n', annot_kws={'fontsize':15},\n",
    "            cbar=False, linewidths=3, linecolor='#eb9e34', cmap=plt.cm.Blues, center=25000)\n",
    "ax.set_title('Матрица ошибок (BERT LogisticRegression)', fontsize=12, y=1.05)\n",
    "ax.tick_params(axis='y', labelrotation=0)\n",
    "ax.set_xlabel('Прогноз', fontsize = 15, color='red')\n",
    "ax.set_ylabel('Истина', fontsize = 15, color='green')\n",
    "plt.show()"
   ]
  },
  {
   "cell_type": "markdown",
   "metadata": {
    "id": "I--rVKzjXFEI"
   },
   "source": [
    "### Итоговое тестирование модели"
   ]
  },
  {
   "cell_type": "markdown",
   "metadata": {
    "id": "JY1xd_waXFEJ"
   },
   "source": [
    "## Выводы"
   ]
  },
  {
   "cell_type": "markdown",
   "metadata": {
    "id": "3XEEZzPSXFEJ"
   },
   "source": [
    "## Чек-лист проверки"
   ]
  },
  {
   "cell_type": "markdown",
   "metadata": {
    "id": "lwutnCsHXFEJ"
   },
   "source": [
    "- [x]  Jupyter Notebook открыт\n",
    "- [x]  Весь код выполняется без ошибок\n",
    "- [x]  Ячейки с кодом расположены в порядке исполнения\n",
    "- [x]  Данные загружены и подготовлены\n",
    "- [x]  Модели обучены\n",
    "- [x]  Значение метрики *F1* не меньше 0.75\n",
    "- [x]  Выводы написаны"
   ]
  }
 ],
 "metadata": {
  "ExecuteTimeLog": [
   {
    "duration": 22152,
    "start_time": "2024-03-18T11:40:01.781Z"
   },
   {
    "duration": 756,
    "start_time": "2024-03-18T11:40:23.935Z"
   },
   {
    "duration": 8857,
    "start_time": "2024-03-18T13:45:21.825Z"
   },
   {
    "duration": 3440,
    "start_time": "2024-03-18T13:45:53.780Z"
   },
   {
    "duration": 13,
    "start_time": "2024-03-18T13:46:28.999Z"
   },
   {
    "duration": 67099,
    "start_time": "2024-03-18T13:48:13.487Z"
   },
   {
    "duration": 67785,
    "start_time": "2024-03-18T13:49:29.589Z"
   },
   {
    "duration": 66,
    "start_time": "2024-03-18T13:55:27.115Z"
   },
   {
    "duration": 883,
    "start_time": "2024-03-18T13:55:28.280Z"
   },
   {
    "duration": 7,
    "start_time": "2024-03-18T13:55:30.068Z"
   },
   {
    "duration": 13,
    "start_time": "2024-03-18T13:55:30.372Z"
   },
   {
    "duration": 11,
    "start_time": "2024-03-18T13:55:31.204Z"
   },
   {
    "duration": 15,
    "start_time": "2024-03-18T13:55:31.687Z"
   },
   {
    "duration": 67563,
    "start_time": "2024-03-18T13:55:32.104Z"
   },
   {
    "duration": 35,
    "start_time": "2024-03-18T13:56:39.669Z"
   },
   {
    "duration": 6,
    "start_time": "2024-03-18T13:56:39.706Z"
   },
   {
    "duration": 4,
    "start_time": "2024-03-18T13:56:39.714Z"
   },
   {
    "duration": 30,
    "start_time": "2024-03-18T13:56:39.719Z"
   },
   {
    "duration": 7,
    "start_time": "2024-03-18T13:56:39.751Z"
   },
   {
    "duration": 13,
    "start_time": "2024-03-18T13:56:39.760Z"
   },
   {
    "duration": 82,
    "start_time": "2024-03-18T13:56:43.392Z"
   },
   {
    "duration": 4,
    "start_time": "2024-03-18T13:56:43.841Z"
   },
   {
    "duration": 5,
    "start_time": "2024-03-18T13:56:44.301Z"
   },
   {
    "duration": 150320,
    "start_time": "2024-03-18T13:56:49.505Z"
   },
   {
    "duration": 39461,
    "start_time": "2024-03-18T14:03:09.994Z"
   },
   {
    "duration": 56139,
    "start_time": "2024-03-18T14:03:49.730Z"
   },
   {
    "duration": 11,
    "start_time": "2024-03-18T14:04:55.849Z"
   },
   {
    "duration": 944,
    "start_time": "2024-03-18T14:04:55.862Z"
   },
   {
    "duration": 7,
    "start_time": "2024-03-18T14:04:56.807Z"
   },
   {
    "duration": 23,
    "start_time": "2024-03-18T14:04:56.816Z"
   },
   {
    "duration": 20,
    "start_time": "2024-03-18T14:04:56.841Z"
   },
   {
    "duration": 12,
    "start_time": "2024-03-18T14:04:56.863Z"
   },
   {
    "duration": 21,
    "start_time": "2024-03-18T14:05:06.094Z"
   },
   {
    "duration": 6,
    "start_time": "2024-03-18T14:05:06.117Z"
   },
   {
    "duration": 25,
    "start_time": "2024-03-18T14:05:06.125Z"
   },
   {
    "duration": 9,
    "start_time": "2024-03-18T14:05:06.152Z"
   },
   {
    "duration": 4,
    "start_time": "2024-03-18T14:05:06.163Z"
   },
   {
    "duration": 1783,
    "start_time": "2024-03-18T14:05:06.168Z"
   },
   {
    "duration": 0,
    "start_time": "2024-03-18T14:05:07.953Z"
   },
   {
    "duration": 0,
    "start_time": "2024-03-18T14:05:07.954Z"
   },
   {
    "duration": 0,
    "start_time": "2024-03-18T14:05:07.955Z"
   },
   {
    "duration": 0,
    "start_time": "2024-03-18T14:05:07.957Z"
   },
   {
    "duration": 0,
    "start_time": "2024-03-18T14:05:07.958Z"
   },
   {
    "duration": 11,
    "start_time": "2024-03-18T14:05:17.831Z"
   },
   {
    "duration": 941,
    "start_time": "2024-03-18T14:05:18.599Z"
   },
   {
    "duration": 8,
    "start_time": "2024-03-18T14:05:19.704Z"
   },
   {
    "duration": 16,
    "start_time": "2024-03-18T14:05:19.976Z"
   },
   {
    "duration": 11,
    "start_time": "2024-03-18T14:05:20.947Z"
   },
   {
    "duration": 9,
    "start_time": "2024-03-18T14:05:21.471Z"
   },
   {
    "duration": 69316,
    "start_time": "2024-03-18T14:05:21.903Z"
   },
   {
    "duration": 28,
    "start_time": "2024-03-18T14:06:31.221Z"
   },
   {
    "duration": 52,
    "start_time": "2024-03-18T14:06:31.250Z"
   },
   {
    "duration": 43,
    "start_time": "2024-03-18T14:06:31.304Z"
   },
   {
    "duration": 59,
    "start_time": "2024-03-18T14:06:31.349Z"
   },
   {
    "duration": 41,
    "start_time": "2024-03-18T14:06:31.410Z"
   },
   {
    "duration": 75,
    "start_time": "2024-03-18T14:06:31.453Z"
   },
   {
    "duration": 180,
    "start_time": "2024-03-18T14:06:31.529Z"
   },
   {
    "duration": 21,
    "start_time": "2024-03-18T14:06:31.711Z"
   },
   {
    "duration": 59,
    "start_time": "2024-03-18T14:06:31.734Z"
   },
   {
    "duration": 55308,
    "start_time": "2024-03-18T14:06:31.795Z"
   },
   {
    "duration": 5550,
    "start_time": "2024-03-18T14:07:42.812Z"
   },
   {
    "duration": 922,
    "start_time": "2024-03-18T14:07:48.364Z"
   },
   {
    "duration": 7,
    "start_time": "2024-03-18T14:07:49.291Z"
   },
   {
    "duration": 16,
    "start_time": "2024-03-18T14:07:49.300Z"
   },
   {
    "duration": 13,
    "start_time": "2024-03-18T14:07:49.317Z"
   },
   {
    "duration": 29,
    "start_time": "2024-03-18T14:07:49.331Z"
   },
   {
    "duration": 66707,
    "start_time": "2024-03-18T14:07:49.362Z"
   },
   {
    "duration": 32,
    "start_time": "2024-03-18T14:08:56.071Z"
   },
   {
    "duration": 7,
    "start_time": "2024-03-18T14:08:56.104Z"
   },
   {
    "duration": 5,
    "start_time": "2024-03-18T14:08:56.112Z"
   },
   {
    "duration": 6,
    "start_time": "2024-03-18T14:08:56.119Z"
   },
   {
    "duration": 4,
    "start_time": "2024-03-18T14:08:56.127Z"
   },
   {
    "duration": 10,
    "start_time": "2024-03-18T14:08:56.133Z"
   },
   {
    "duration": 102,
    "start_time": "2024-03-18T14:08:56.145Z"
   },
   {
    "duration": 4,
    "start_time": "2024-03-18T14:08:56.249Z"
   },
   {
    "duration": 6,
    "start_time": "2024-03-18T14:08:56.255Z"
   },
   {
    "duration": 393,
    "start_time": "2024-03-18T14:08:56.263Z"
   },
   {
    "duration": 31845,
    "start_time": "2024-03-18T14:09:25.901Z"
   },
   {
    "duration": 44,
    "start_time": "2024-03-18T14:12:44.109Z"
   },
   {
    "duration": 45,
    "start_time": "2024-03-18T14:12:55.326Z"
   },
   {
    "duration": 56,
    "start_time": "2024-03-18T14:13:05.795Z"
   },
   {
    "duration": 219,
    "start_time": "2024-03-18T14:13:48.542Z"
   },
   {
    "duration": 12,
    "start_time": "2024-03-18T14:13:52.595Z"
   },
   {
    "duration": 931,
    "start_time": "2024-03-18T14:13:52.609Z"
   },
   {
    "duration": 7,
    "start_time": "2024-03-18T14:13:53.542Z"
   },
   {
    "duration": 12,
    "start_time": "2024-03-18T14:13:53.551Z"
   },
   {
    "duration": 38,
    "start_time": "2024-03-18T14:13:53.566Z"
   },
   {
    "duration": 22,
    "start_time": "2024-03-18T14:13:53.605Z"
   },
   {
    "duration": 68640,
    "start_time": "2024-03-18T14:13:53.629Z"
   },
   {
    "duration": 26,
    "start_time": "2024-03-18T14:15:02.271Z"
   },
   {
    "duration": 82,
    "start_time": "2024-03-18T14:15:02.298Z"
   },
   {
    "duration": 70,
    "start_time": "2024-03-18T14:15:02.383Z"
   },
   {
    "duration": 64,
    "start_time": "2024-03-18T14:15:02.455Z"
   },
   {
    "duration": 68,
    "start_time": "2024-03-18T14:15:02.521Z"
   },
   {
    "duration": 35,
    "start_time": "2024-03-18T14:15:02.591Z"
   },
   {
    "duration": 106,
    "start_time": "2024-03-18T14:15:02.629Z"
   },
   {
    "duration": 4,
    "start_time": "2024-03-18T14:15:02.736Z"
   },
   {
    "duration": 24,
    "start_time": "2024-03-18T14:15:02.741Z"
   },
   {
    "duration": 33179,
    "start_time": "2024-03-18T14:15:02.766Z"
   },
   {
    "duration": 48,
    "start_time": "2024-03-18T14:15:35.947Z"
   },
   {
    "duration": 23,
    "start_time": "2024-03-18T14:19:16.599Z"
   },
   {
    "duration": 54,
    "start_time": "2024-03-18T14:19:31.833Z"
   },
   {
    "duration": 77,
    "start_time": "2024-03-18T14:19:40.657Z"
   },
   {
    "duration": 77,
    "start_time": "2024-03-18T14:19:48.497Z"
   },
   {
    "duration": 75,
    "start_time": "2024-03-18T14:19:55.911Z"
   },
   {
    "duration": 88,
    "start_time": "2024-03-18T14:20:18.125Z"
   },
   {
    "duration": 100754,
    "start_time": "2024-03-18T14:24:09.703Z"
   },
   {
    "duration": 60952,
    "start_time": "2024-03-18T14:25:52.993Z"
   },
   {
    "duration": 107448,
    "start_time": "2024-03-18T14:26:54.866Z"
   },
   {
    "duration": 29558,
    "start_time": "2024-03-18T14:28:43.254Z"
   },
   {
    "duration": 19,
    "start_time": "2024-03-18T14:29:18.301Z"
   },
   {
    "duration": 10777,
    "start_time": "2024-03-18T14:29:27.140Z"
   }
  ],
  "colab": {
   "provenance": []
  },
  "kernelspec": {
   "display_name": "Python 3 (ipykernel)",
   "language": "python",
   "name": "python3"
  },
  "language_info": {
   "codemirror_mode": {
    "name": "ipython",
    "version": 3
   },
   "file_extension": ".py",
   "mimetype": "text/x-python",
   "name": "python",
   "nbconvert_exporter": "python",
   "pygments_lexer": "ipython3",
   "version": "3.11.6"
  },
  "toc": {
   "base_numbering": 1,
   "nav_menu": {},
   "number_sections": true,
   "sideBar": true,
   "skip_h1_title": true,
   "title_cell": "Содержание",
   "title_sidebar": "Contents",
   "toc_cell": true,
   "toc_position": {
    "height": "calc(100% - 180px)",
    "left": "10px",
    "top": "150px",
    "width": "302.391px"
   },
   "toc_section_display": true,
   "toc_window_display": false
  }
 },
 "nbformat": 4,
 "nbformat_minor": 1
}
