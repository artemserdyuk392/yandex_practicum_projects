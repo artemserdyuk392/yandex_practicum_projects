{
 "cells": [
  {
   "cell_type": "markdown",
   "metadata": {
    "toc": true
   },
   "source": [
    "<h1>Содержание<span class=\"tocSkip\"></span></h1>\n",
    "<div class=\"toc\"><ul class=\"toc-item\"><li><span><a href=\"#Подготовка\" data-toc-modified-id=\"Подготовка-1\"><span class=\"toc-item-num\">1&nbsp;&nbsp;</span>Подготовка</a></span><ul class=\"toc-item\"><li><ul class=\"toc-item\"><li><span><a href=\"#Обработка-текста\" data-toc-modified-id=\"Обработка-текста-1.0.1\"><span class=\"toc-item-num\">1.0.1&nbsp;&nbsp;</span>Обработка текста</a></span></li><li><span><a href=\"#Лемматизация\" data-toc-modified-id=\"Лемматизация-1.0.2\"><span class=\"toc-item-num\">1.0.2&nbsp;&nbsp;</span>Лемматизация</a></span></li></ul></li><li><span><a href=\"#Дисбаланс---downsampling\" data-toc-modified-id=\"Дисбаланс---downsampling-1.1\"><span class=\"toc-item-num\">1.1&nbsp;&nbsp;</span>Дисбаланс - downsampling</a></span></li></ul></li><li><span><a href=\"#Обучение\" data-toc-modified-id=\"Обучение-2\"><span class=\"toc-item-num\">2&nbsp;&nbsp;</span>Обучение</a></span><ul class=\"toc-item\"><li><span><a href=\"#baseline\" data-toc-modified-id=\"baseline-2.1\"><span class=\"toc-item-num\">2.1&nbsp;&nbsp;</span>baseline</a></span></li><li><span><a href=\"#catboost-TF-IDF\" data-toc-modified-id=\"catboost-TF-IDF-2.2\"><span class=\"toc-item-num\">2.2&nbsp;&nbsp;</span>catboost TF-IDF</a></span><ul class=\"toc-item\"><li><span><a href=\"#TF-IDF\" data-toc-modified-id=\"TF-IDF-2.2.1\"><span class=\"toc-item-num\">2.2.1&nbsp;&nbsp;</span>TF-IDF</a></span></li></ul></li><li><span><a href=\"#BERT---модель-взята-с-HuggingFace\" data-toc-modified-id=\"BERT---модель-взята-с-HuggingFace-2.3\"><span class=\"toc-item-num\">2.3&nbsp;&nbsp;</span>BERT - модель взята с HuggingFace</a></span></li><li><span><a href=\"#Итоговое-тестирование-модели\" data-toc-modified-id=\"Итоговое-тестирование-модели-2.4\"><span class=\"toc-item-num\">2.4&nbsp;&nbsp;</span>Итоговое тестирование модели</a></span></li></ul></li><li><span><a href=\"#Выводы\" data-toc-modified-id=\"Выводы-3\"><span class=\"toc-item-num\">3&nbsp;&nbsp;</span>Выводы</a></span><ul class=\"toc-item\"><li><span><a href=\"#Вывод:\" data-toc-modified-id=\"Вывод:-3.1\"><span class=\"toc-item-num\">3.1&nbsp;&nbsp;</span>Вывод:</a></span></li></ul></li><li><span><a href=\"#Чек-лист-проверки\" data-toc-modified-id=\"Чек-лист-проверки-4\"><span class=\"toc-item-num\">4&nbsp;&nbsp;</span>Чек-лист проверки</a></span></li></ul></div>"
   ]
  },
  {
   "cell_type": "markdown",
   "metadata": {},
   "source": [
    "# Проект для «Викишоп» TDF-IDF and BERT from HuggingFace"
   ]
  },
  {
   "cell_type": "markdown",
   "metadata": {},
   "source": [
    "Интернет-магазин «Викишоп» запускает новый сервис. Теперь пользователи могут редактировать и дополнять описания товаров, как в вики-сообществах. То есть клиенты предлагают свои правки и комментируют изменения других. Магазину нужен инструмент, который будет искать токсичные комментарии и отправлять их на модерацию. \n",
    "\n",
    "Обучите модель классифицировать комментарии на позитивные и негативные. В вашем распоряжении набор данных с разметкой о токсичности правок.\n",
    "\n",
    "Постройте модель со значением метрики качества *F1* не меньше 0.75. \n",
    "\n",
    "**Инструкция по выполнению проекта**\n",
    "\n",
    "1. Загрузите и подготовьте данные.\n",
    "2. Обучите разные модели. \n",
    "3. Сделайте выводы.\n",
    "\n",
    "Для выполнения проекта применять *BERT* необязательно, но вы можете попробовать.\n",
    "\n",
    "**Описание данных**\n",
    "\n",
    "Данные находятся в файле `toxic_comments.csv`. Столбец *text* в нём содержит текст комментария, а *toxic* — целевой признак."
   ]
  },
  {
   "cell_type": "markdown",
   "metadata": {},
   "source": [
    "## Подготовка"
   ]
  },
  {
   "cell_type": "code",
   "execution_count": 1,
   "metadata": {},
   "outputs": [
    {
     "name": "stderr",
     "output_type": "stream",
     "text": [
      "[nltk_data] Downloading package punkt to /Users/artemmm/nltk_data...\n",
      "[nltk_data]   Package punkt is already up-to-date!\n",
      "[nltk_data] Downloading package wordnet to /Users/artemmm/nltk_data...\n",
      "[nltk_data]   Package wordnet is already up-to-date!\n",
      "[nltk_data] Downloading package stopwords to\n",
      "[nltk_data]     /Users/artemmm/nltk_data...\n",
      "[nltk_data]   Package stopwords is already up-to-date!\n",
      "[nltk_data] Downloading package averaged_perceptron_tagger to\n",
      "[nltk_data]     /Users/artemmm/nltk_data...\n",
      "[nltk_data]   Package averaged_perceptron_tagger is already up-to-\n",
      "[nltk_data]       date!\n",
      "[nltk_data] Downloading package omw-1.4 to /Users/artemmm/nltk_data...\n",
      "[nltk_data]   Package omw-1.4 is already up-to-date!\n"
     ]
    },
    {
     "data": {
      "text/plain": [
       "True"
      ]
     },
     "execution_count": 1,
     "metadata": {},
     "output_type": "execute_result"
    }
   ],
   "source": [
    "import pandas as pd\n",
    "import numpy as np\n",
    "import seaborn as sns\n",
    "import matplotlib.pyplot as plt\n",
    "import transformers\n",
    "from transformers import BertTokenizer, BertConfig\n",
    "import re\n",
    "import torch\n",
    "import spacy\n",
    "from pymystem3 import Mystem\n",
    "from sklearn.utils import shuffle\n",
    "from sklearn.feature_extraction.text import CountVectorizer\n",
    "from sklearn.linear_model import LogisticRegression\n",
    "from nltk.corpus import stopwords\n",
    "from sklearn.feature_extraction.text import TfidfVectorizer\n",
    "from tqdm import notebook\n",
    "from sklearn.model_selection import train_test_split\n",
    "from sklearn.metrics import f1_score, confusion_matrix\n",
    "from catboost import CatBoostClassifier\n",
    "\n",
    "import nltk\n",
    "from nltk.stem import WordNetLemmatizer\n",
    "from nltk.tokenize import word_tokenize\n",
    "from nltk.corpus import stopwords as nltk_stopwords\n",
    "nltk.download('punkt')\n",
    "nltk.download('wordnet')\n",
    "nltk.download('stopwords')\n",
    "nltk.download('averaged_perceptron_tagger')\n",
    "nltk.download('omw-1.4')"
   ]
  },
  {
   "cell_type": "code",
   "execution_count": 2,
   "metadata": {},
   "outputs": [
    {
     "data": {
      "text/html": [
       "<div>\n",
       "<style scoped>\n",
       "    .dataframe tbody tr th:only-of-type {\n",
       "        vertical-align: middle;\n",
       "    }\n",
       "\n",
       "    .dataframe tbody tr th {\n",
       "        vertical-align: top;\n",
       "    }\n",
       "\n",
       "    .dataframe thead th {\n",
       "        text-align: right;\n",
       "    }\n",
       "</style>\n",
       "<table border=\"1\" class=\"dataframe\">\n",
       "  <thead>\n",
       "    <tr style=\"text-align: right;\">\n",
       "      <th></th>\n",
       "      <th>text</th>\n",
       "      <th>toxic</th>\n",
       "    </tr>\n",
       "  </thead>\n",
       "  <tbody>\n",
       "    <tr>\n",
       "      <th>0</th>\n",
       "      <td>Explanation\\nWhy the edits made under my usern...</td>\n",
       "      <td>0</td>\n",
       "    </tr>\n",
       "    <tr>\n",
       "      <th>1</th>\n",
       "      <td>D'aww! He matches this background colour I'm s...</td>\n",
       "      <td>0</td>\n",
       "    </tr>\n",
       "    <tr>\n",
       "      <th>2</th>\n",
       "      <td>Hey man, I'm really not trying to edit war. It...</td>\n",
       "      <td>0</td>\n",
       "    </tr>\n",
       "    <tr>\n",
       "      <th>3</th>\n",
       "      <td>\"\\nMore\\nI can't make any real suggestions on ...</td>\n",
       "      <td>0</td>\n",
       "    </tr>\n",
       "    <tr>\n",
       "      <th>4</th>\n",
       "      <td>You, sir, are my hero. Any chance you remember...</td>\n",
       "      <td>0</td>\n",
       "    </tr>\n",
       "  </tbody>\n",
       "</table>\n",
       "</div>"
      ],
      "text/plain": [
       "                                                text  toxic\n",
       "0  Explanation\\nWhy the edits made under my usern...      0\n",
       "1  D'aww! He matches this background colour I'm s...      0\n",
       "2  Hey man, I'm really not trying to edit war. It...      0\n",
       "3  \"\\nMore\\nI can't make any real suggestions on ...      0\n",
       "4  You, sir, are my hero. Any chance you remember...      0"
      ]
     },
     "execution_count": 2,
     "metadata": {},
     "output_type": "execute_result"
    }
   ],
   "source": [
    "import os\n",
    "pth1 = '/Users/artemmm/Downloads/toxic_comments.csv'\n",
    "pth2 = '/datasets/toxic_comments.csv'\n",
    "\n",
    "if os.path.exists(pth1):\n",
    "    data = pd.read_csv(pth1, usecols=[1, 2])\n",
    "elif os.path.exists(pth2):\n",
    "    data = pd.read_csv(pth2, usecols=[1, 2])\n",
    "else:\n",
    "    print('Something is wrong')\n",
    "\n",
    "RANDOMSTATE = 42\n",
    "#data = data.sample(8000, random_state = RANDOMSTATE)\n",
    "data.head()"
   ]
  },
  {
   "cell_type": "code",
   "execution_count": 3,
   "metadata": {},
   "outputs": [
    {
     "data": {
      "text/plain": [
       "0"
      ]
     },
     "execution_count": 3,
     "metadata": {},
     "output_type": "execute_result"
    }
   ],
   "source": [
    "data.isna().sum().sum()"
   ]
  },
  {
   "cell_type": "code",
   "execution_count": 4,
   "metadata": {},
   "outputs": [
    {
     "data": {
      "text/plain": [
       "0"
      ]
     },
     "execution_count": 4,
     "metadata": {},
     "output_type": "execute_result"
    }
   ],
   "source": [
    "data.duplicated().sum()"
   ]
  },
  {
   "cell_type": "code",
   "execution_count": 5,
   "metadata": {},
   "outputs": [
    {
     "name": "stdout",
     "output_type": "stream",
     "text": [
      "<class 'pandas.core.frame.DataFrame'>\n",
      "RangeIndex: 159292 entries, 0 to 159291\n",
      "Data columns (total 2 columns):\n",
      " #   Column  Non-Null Count   Dtype \n",
      "---  ------  --------------   ----- \n",
      " 0   text    159292 non-null  object\n",
      " 1   toxic   159292 non-null  int64 \n",
      "dtypes: int64(1), object(1)\n",
      "memory usage: 2.4+ MB\n"
     ]
    }
   ],
   "source": [
    "data.info()"
   ]
  },
  {
   "cell_type": "markdown",
   "metadata": {},
   "source": [
    "#### Обработка текста"
   ]
  },
  {
   "cell_type": "code",
   "execution_count": 6,
   "metadata": {},
   "outputs": [],
   "source": [
    "data['text'] = data['text'].str.replace('\\n', ' ')"
   ]
  },
  {
   "cell_type": "markdown",
   "metadata": {},
   "source": [
    "#### Лемматизация"
   ]
  },
  {
   "cell_type": "code",
   "execution_count": 7,
   "metadata": {
    "scrolled": false
   },
   "outputs": [
    {
     "data": {
      "application/vnd.jupyter.widget-view+json": {
       "model_id": "97d310d286f5401cbe3cf9ab085b433f",
       "version_major": 2,
       "version_minor": 0
      },
      "text/plain": [
       "  0%|          | 0/159292 [00:00<?, ?it/s]"
      ]
     },
     "metadata": {},
     "output_type": "display_data"
    }
   ],
   "source": [
    "#lemmatizer = WordNetLemmatizer()\n",
    "#def lemmatize_text(text):\n",
    "#    text = text.lower()\n",
    "#    text = re.sub(r\"[^a-zA-Z]\", \" \", text)\n",
    "#    tokens = word_tokenize(text)\n",
    "#    lemmatized_tokens = [lemmatizer.lemmatize(token) for token in tokens]\n",
    "#    \n",
    "#    lemmatized_text = ' '.join(lemmatized_tokens)\n",
    "#    return lemmatized_text\n",
    "#data['lemmatized_text'] = data['text'].apply(lemmatize_text)\n",
    "import spacy\n",
    "nlp = spacy.load(\"en_core_web_sm\")\n",
    "def lemmatize_text(text):\n",
    "    text = text.lower()\n",
    "    text = re.sub(r\"[^a-zA-Z]\", \" \", text)\n",
    "    doc = nlp(text)\n",
    "    lemmatized_text = \" \".join([token.lemma_ for token in doc])\n",
    "    return lemmatized_text\n",
    "\n",
    "from tqdm.notebook import tqdm\n",
    "tqdm.pandas()\n",
    "\n",
    "data['lemmatized_text'] = data['text'].progress_apply(lemmatize_text)"
   ]
  },
  {
   "cell_type": "code",
   "execution_count": 8,
   "metadata": {},
   "outputs": [
    {
     "data": {
      "text/html": [
       "<div>\n",
       "<style scoped>\n",
       "    .dataframe tbody tr th:only-of-type {\n",
       "        vertical-align: middle;\n",
       "    }\n",
       "\n",
       "    .dataframe tbody tr th {\n",
       "        vertical-align: top;\n",
       "    }\n",
       "\n",
       "    .dataframe thead th {\n",
       "        text-align: right;\n",
       "    }\n",
       "</style>\n",
       "<table border=\"1\" class=\"dataframe\">\n",
       "  <thead>\n",
       "    <tr style=\"text-align: right;\">\n",
       "      <th></th>\n",
       "      <th>text</th>\n",
       "      <th>toxic</th>\n",
       "      <th>lemmatized_text</th>\n",
       "    </tr>\n",
       "  </thead>\n",
       "  <tbody>\n",
       "    <tr>\n",
       "      <th>0</th>\n",
       "      <td>Explanation Why the edits made under my userna...</td>\n",
       "      <td>0</td>\n",
       "      <td>explanation why the edit make under my usernam...</td>\n",
       "    </tr>\n",
       "    <tr>\n",
       "      <th>1</th>\n",
       "      <td>D'aww! He matches this background colour I'm s...</td>\n",
       "      <td>0</td>\n",
       "      <td>d aww   he match this background colour I m se...</td>\n",
       "    </tr>\n",
       "    <tr>\n",
       "      <th>2</th>\n",
       "      <td>Hey man, I'm really not trying to edit war. It...</td>\n",
       "      <td>0</td>\n",
       "      <td>hey man   I m really not try to edit war   it ...</td>\n",
       "    </tr>\n",
       "    <tr>\n",
       "      <th>3</th>\n",
       "      <td>\" More I can't make any real suggestions on im...</td>\n",
       "      <td>0</td>\n",
       "      <td>more I can t make any real suggestion on im...</td>\n",
       "    </tr>\n",
       "    <tr>\n",
       "      <th>4</th>\n",
       "      <td>You, sir, are my hero. Any chance you remember...</td>\n",
       "      <td>0</td>\n",
       "      <td>you   sir   be my hero   any chance you rememb...</td>\n",
       "    </tr>\n",
       "  </tbody>\n",
       "</table>\n",
       "</div>"
      ],
      "text/plain": [
       "                                                text  toxic  \\\n",
       "0  Explanation Why the edits made under my userna...      0   \n",
       "1  D'aww! He matches this background colour I'm s...      0   \n",
       "2  Hey man, I'm really not trying to edit war. It...      0   \n",
       "3  \" More I can't make any real suggestions on im...      0   \n",
       "4  You, sir, are my hero. Any chance you remember...      0   \n",
       "\n",
       "                                     lemmatized_text  \n",
       "0  explanation why the edit make under my usernam...  \n",
       "1  d aww   he match this background colour I m se...  \n",
       "2  hey man   I m really not try to edit war   it ...  \n",
       "3     more I can t make any real suggestion on im...  \n",
       "4  you   sir   be my hero   any chance you rememb...  "
      ]
     },
     "execution_count": 8,
     "metadata": {},
     "output_type": "execute_result"
    }
   ],
   "source": [
    "data = data.drop_duplicates()\n",
    "data.head()"
   ]
  },
  {
   "cell_type": "markdown",
   "metadata": {},
   "source": [
    "*Сравнив два лемматайзера - WordNetLemmaizer и Spacy, могу сказать, что качество модели после обработки Spacy немного лучше, чем WordNet, но второй, в свою очередь, имеет преимущество по скорости обработки*"
   ]
  },
  {
   "cell_type": "markdown",
   "metadata": {},
   "source": [
    "### Дисбаланс - downsampling\n",
    "Перед началом деления на выборки необходима борьба с дисбалансом."
   ]
  },
  {
   "cell_type": "code",
   "execution_count": 9,
   "metadata": {
    "scrolled": false
   },
   "outputs": [
    {
     "data": {
      "text/plain": [
       "toxic\n",
       "0    893\n",
       "1    107\n",
       "Name: count, dtype: int64"
      ]
     },
     "execution_count": 9,
     "metadata": {},
     "output_type": "execute_result"
    }
   ],
   "source": [
    "data['toxic'].sample(1000).value_counts()"
   ]
  },
  {
   "cell_type": "code",
   "execution_count": 10,
   "metadata": {},
   "outputs": [],
   "source": [
    "def downsample(features, target, fraction):\n",
    "    features_zeros = features[target == 0]\n",
    "    features_ones = features[target == 1]\n",
    "    target_zeros = target[target == 0]\n",
    "    target_ones = target[target == 1]\n",
    "    features_downsampled = pd.concat([features_zeros.sample(frac=fraction, random_state=12345)] + [features_ones])\n",
    "    target_downsampled = pd.concat(\n",
    "        [target_zeros.sample(frac=fraction, random_state=12345)] + [target_ones])\n",
    "    features_downsampled, target_downsampled = shuffle(\n",
    "        features_downsampled, target_downsampled, random_state=12345)\n",
    "    return features_downsampled, target_downsampled"
   ]
  },
  {
   "cell_type": "markdown",
   "metadata": {},
   "source": [
    "## Обучение"
   ]
  },
  {
   "cell_type": "markdown",
   "metadata": {},
   "source": [
    "### baseline"
   ]
  },
  {
   "cell_type": "markdown",
   "metadata": {},
   "source": [
    "Обучаемую модель нужно с чем-либо сравнивать. В нашем случае виднеется дисбаланс классов, примерно 90% записей имеют 0 в столбце 'toxic'. Поэтому за бейзлайн возьмем моду данного признака, и все ответы на модели будут 0."
   ]
  },
  {
   "cell_type": "code",
   "execution_count": 11,
   "metadata": {},
   "outputs": [
    {
     "name": "stdout",
     "output_type": "stream",
     "text": [
      "f1 на baseline модели: 0.045454545454545456\n"
     ]
    }
   ],
   "source": [
    "baseline = pd.DataFrame()\n",
    "y_baseline = data['toxic'].sample(1000, random_state = RANDOMSTATE)\n",
    "baseline = np.random.choice([0, 1], size=len(y_baseline), p=[0.9, 0.1])\n",
    "print('f1 на baseline модели:',f1_score(y_baseline, baseline))"
   ]
  },
  {
   "cell_type": "markdown",
   "metadata": {},
   "source": [
    "### catboost TF-IDF"
   ]
  },
  {
   "cell_type": "markdown",
   "metadata": {},
   "source": [
    "#### TF-IDF"
   ]
  },
  {
   "cell_type": "code",
   "execution_count": 12,
   "metadata": {},
   "outputs": [
    {
     "name": "stderr",
     "output_type": "stream",
     "text": [
      "[nltk_data] Downloading package stopwords to\n",
      "[nltk_data]     /Users/artemmm/nltk_data...\n",
      "[nltk_data]   Package stopwords is already up-to-date!\n"
     ]
    }
   ],
   "source": [
    "nltk.download('stopwords')\n",
    "stopwords = list(nltk_stopwords.words('english'))"
   ]
  },
  {
   "cell_type": "code",
   "execution_count": 13,
   "metadata": {},
   "outputs": [
    {
     "name": "stdout",
     "output_type": "stream",
     "text": [
      "(30495,) (23893,) (23893,)\n"
     ]
    }
   ],
   "source": [
    "features = data['lemmatized_text']\n",
    "target = data['toxic']\n",
    "x_train, x_test, y_train, y_test  = train_test_split(features, target,\n",
    "                                                     test_size = 0.3, random_state = RANDOMSTATE)\n",
    "x_test,x_valid, y_test, y_valid = train_test_split(x_test, y_test, test_size = 0.5, random_state = RANDOMSTATE)\n",
    "x_train, y_train = downsample(features, target, 0.1)\n",
    "c_train = x_train.values\n",
    "c_valid = x_valid.values\n",
    "c_test_cb = x_test.values\n",
    "y_test_cb = y_test\n",
    "print(x_train.shape,x_test.shape, x_valid.shape)"
   ]
  },
  {
   "cell_type": "code",
   "execution_count": 14,
   "metadata": {},
   "outputs": [],
   "source": [
    "count_tf_idf = TfidfVectorizer(stop_words=stopwords)\n",
    "c_train = count_tf_idf.fit_transform(c_train)\n",
    "c_test_cb = count_tf_idf.transform(c_test_cb)\n",
    "c_valid = count_tf_idf.transform(c_valid)"
   ]
  },
  {
   "cell_type": "code",
   "execution_count": 15,
   "metadata": {},
   "outputs": [
    {
     "data": {
      "text/plain": [
       "((30495, 50411), (23893, 50411), (23893, 50411))"
      ]
     },
     "execution_count": 15,
     "metadata": {},
     "output_type": "execute_result"
    }
   ],
   "source": [
    "c_train.shape, c_test_cb.shape, c_valid.shape #такая матрица получилась"
   ]
  },
  {
   "cell_type": "code",
   "execution_count": 16,
   "metadata": {},
   "outputs": [
    {
     "data": {
      "text/plain": [
       "toxic\n",
       "1    16185\n",
       "0    14310\n",
       "Name: count, dtype: int64"
      ]
     },
     "execution_count": 16,
     "metadata": {},
     "output_type": "execute_result"
    }
   ],
   "source": [
    "#дисбаланс\n",
    "y_train.value_counts()"
   ]
  },
  {
   "cell_type": "code",
   "execution_count": 17,
   "metadata": {},
   "outputs": [
    {
     "name": "stdout",
     "output_type": "stream",
     "text": [
      "Learning rate set to 0.073708\n",
      "0:\tlearn: 0.7372042\ttest: 0.2343668\tbest: 0.2343668 (0)\ttotal: 182ms\tremaining: 3m 2s\n",
      "1:\tlearn: 0.5891688\ttest: 0.5791527\tbest: 0.5791527 (1)\ttotal: 278ms\tremaining: 2m 18s\n",
      "2:\tlearn: 0.6108576\ttest: 0.5991792\tbest: 0.5991792 (2)\ttotal: 370ms\tremaining: 2m 2s\n",
      "3:\tlearn: 0.7537148\ttest: 0.2598863\tbest: 0.5991792 (2)\ttotal: 460ms\tremaining: 1m 54s\n",
      "4:\tlearn: 0.7555129\ttest: 0.2636142\tbest: 0.5991792 (2)\ttotal: 551ms\tremaining: 1m 49s\n",
      "5:\tlearn: 0.7688171\ttest: 0.2876973\tbest: 0.5991792 (2)\ttotal: 642ms\tremaining: 1m 46s\n",
      "6:\tlearn: 0.7758297\ttest: 0.3046582\tbest: 0.5991792 (2)\ttotal: 736ms\tremaining: 1m 44s\n",
      "7:\tlearn: 0.7771010\ttest: 0.3056620\tbest: 0.5991792 (2)\ttotal: 827ms\tremaining: 1m 42s\n",
      "8:\tlearn: 0.7782526\ttest: 0.3067720\tbest: 0.5991792 (2)\ttotal: 919ms\tremaining: 1m 41s\n",
      "9:\tlearn: 0.7827726\ttest: 0.3136014\tbest: 0.5991792 (2)\ttotal: 1.01s\tremaining: 1m 40s\n",
      "10:\tlearn: 0.7861439\ttest: 0.3199939\tbest: 0.5991792 (2)\ttotal: 1.1s\tremaining: 1m 39s\n",
      "11:\tlearn: 0.7907069\ttest: 0.3355049\tbest: 0.5991792 (2)\ttotal: 1.2s\tremaining: 1m 38s\n",
      "12:\tlearn: 0.7896955\ttest: 0.3291059\tbest: 0.5991792 (2)\ttotal: 1.32s\tremaining: 1m 39s\n",
      "13:\tlearn: 0.7930046\ttest: 0.3389747\tbest: 0.5991792 (2)\ttotal: 1.41s\tremaining: 1m 39s\n",
      "14:\tlearn: 0.7959987\ttest: 0.3489979\tbest: 0.5991792 (2)\ttotal: 1.5s\tremaining: 1m 38s\n",
      "15:\tlearn: 0.7971506\ttest: 0.3493935\tbest: 0.5991792 (2)\ttotal: 1.59s\tremaining: 1m 37s\n",
      "16:\tlearn: 0.7996418\ttest: 0.3545249\tbest: 0.5991792 (2)\ttotal: 1.69s\tremaining: 1m 37s\n",
      "17:\tlearn: 0.8009587\ttest: 0.3562288\tbest: 0.5991792 (2)\ttotal: 1.78s\tremaining: 1m 37s\n",
      "18:\tlearn: 0.8049049\ttest: 0.3647563\tbest: 0.5991792 (2)\ttotal: 1.88s\tremaining: 1m 36s\n",
      "19:\tlearn: 0.8073266\ttest: 0.3688443\tbest: 0.5991792 (2)\ttotal: 1.97s\tremaining: 1m 36s\n",
      "20:\tlearn: 0.8096029\ttest: 0.3731194\tbest: 0.5991792 (2)\ttotal: 2.06s\tremaining: 1m 36s\n",
      "21:\tlearn: 0.8096753\ttest: 0.3740150\tbest: 0.5991792 (2)\ttotal: 2.16s\tremaining: 1m 35s\n",
      "22:\tlearn: 0.8123330\ttest: 0.3819718\tbest: 0.5991792 (2)\ttotal: 2.25s\tremaining: 1m 35s\n",
      "23:\tlearn: 0.8131771\ttest: 0.3827265\tbest: 0.5991792 (2)\ttotal: 2.35s\tremaining: 1m 35s\n",
      "24:\tlearn: 0.8137514\ttest: 0.3827823\tbest: 0.5991792 (2)\ttotal: 2.44s\tremaining: 1m 35s\n",
      "25:\tlearn: 0.7950128\ttest: 0.5829093\tbest: 0.5991792 (2)\ttotal: 2.53s\tremaining: 1m 34s\n",
      "26:\tlearn: 0.8002792\ttest: 0.5894516\tbest: 0.5991792 (2)\ttotal: 2.63s\tremaining: 1m 34s\n",
      "27:\tlearn: 0.8022342\ttest: 0.5941748\tbest: 0.5991792 (2)\ttotal: 2.72s\tremaining: 1m 34s\n",
      "28:\tlearn: 0.8020819\ttest: 0.5948808\tbest: 0.5991792 (2)\ttotal: 2.81s\tremaining: 1m 34s\n",
      "29:\tlearn: 0.8040432\ttest: 0.5952045\tbest: 0.5991792 (2)\ttotal: 2.91s\tremaining: 1m 34s\n",
      "30:\tlearn: 0.8039318\ttest: 0.5952130\tbest: 0.5991792 (2)\ttotal: 3s\tremaining: 1m 33s\n",
      "31:\tlearn: 0.8067724\ttest: 0.5965159\tbest: 0.5991792 (2)\ttotal: 3.09s\tremaining: 1m 33s\n",
      "32:\tlearn: 0.8072314\ttest: 0.6022808\tbest: 0.6022808 (32)\ttotal: 3.19s\tremaining: 1m 33s\n",
      "33:\tlearn: 0.8100949\ttest: 0.6038072\tbest: 0.6038072 (33)\ttotal: 3.29s\tremaining: 1m 33s\n",
      "34:\tlearn: 0.8130002\ttest: 0.6065545\tbest: 0.6065545 (34)\ttotal: 3.38s\tremaining: 1m 33s\n",
      "35:\tlearn: 0.8153144\ttest: 0.6088652\tbest: 0.6088652 (35)\ttotal: 3.47s\tremaining: 1m 33s\n",
      "36:\tlearn: 0.8162983\ttest: 0.6111801\tbest: 0.6111801 (36)\ttotal: 3.57s\tremaining: 1m 32s\n",
      "37:\tlearn: 0.8180657\ttest: 0.6121072\tbest: 0.6121072 (37)\ttotal: 3.66s\tremaining: 1m 32s\n",
      "38:\tlearn: 0.8187094\ttest: 0.6136850\tbest: 0.6136850 (38)\ttotal: 3.76s\tremaining: 1m 32s\n",
      "39:\tlearn: 0.8191872\ttest: 0.6163477\tbest: 0.6163477 (39)\ttotal: 3.85s\tremaining: 1m 32s\n",
      "40:\tlearn: 0.8230387\ttest: 0.6214043\tbest: 0.6214043 (40)\ttotal: 3.94s\tremaining: 1m 32s\n",
      "41:\tlearn: 0.8235294\ttest: 0.6227631\tbest: 0.6227631 (41)\ttotal: 4.04s\tremaining: 1m 32s\n",
      "42:\tlearn: 0.8246031\ttest: 0.6253803\tbest: 0.6253803 (42)\ttotal: 4.13s\tremaining: 1m 31s\n",
      "43:\tlearn: 0.8257127\ttest: 0.6287049\tbest: 0.6287049 (43)\ttotal: 4.22s\tremaining: 1m 31s\n",
      "44:\tlearn: 0.8258984\ttest: 0.6287049\tbest: 0.6287049 (43)\ttotal: 4.32s\tremaining: 1m 31s\n",
      "45:\tlearn: 0.8260900\ttest: 0.6316739\tbest: 0.6316739 (45)\ttotal: 4.41s\tremaining: 1m 31s\n",
      "46:\tlearn: 0.8262471\ttest: 0.6306501\tbest: 0.6316739 (45)\ttotal: 4.51s\tremaining: 1m 31s\n",
      "47:\tlearn: 0.8275103\ttest: 0.6313895\tbest: 0.6316739 (45)\ttotal: 4.61s\tremaining: 1m 31s\n",
      "48:\tlearn: 0.8294459\ttest: 0.6342342\tbest: 0.6342342 (48)\ttotal: 4.7s\tremaining: 1m 31s\n",
      "49:\tlearn: 0.8289315\ttest: 0.6484389\tbest: 0.6484389 (49)\ttotal: 4.8s\tremaining: 1m 31s\n",
      "50:\tlearn: 0.8296035\ttest: 0.6474501\tbest: 0.6484389 (49)\ttotal: 4.9s\tremaining: 1m 31s\n",
      "51:\tlearn: 0.8295733\ttest: 0.6493987\tbest: 0.6493987 (51)\ttotal: 5.01s\tremaining: 1m 31s\n",
      "52:\tlearn: 0.8314367\ttest: 0.6503045\tbest: 0.6503045 (52)\ttotal: 5.11s\tremaining: 1m 31s\n",
      "53:\tlearn: 0.8313444\ttest: 0.6515152\tbest: 0.6515152 (53)\ttotal: 5.21s\tremaining: 1m 31s\n",
      "54:\tlearn: 0.8316087\ttest: 0.6518519\tbest: 0.6518519 (54)\ttotal: 5.31s\tremaining: 1m 31s\n",
      "55:\tlearn: 0.8327130\ttest: 0.6543095\tbest: 0.6543095 (55)\ttotal: 5.41s\tremaining: 1m 31s\n",
      "56:\tlearn: 0.8340736\ttest: 0.6559319\tbest: 0.6559319 (56)\ttotal: 5.51s\tremaining: 1m 31s\n",
      "57:\tlearn: 0.8343313\ttest: 0.6564235\tbest: 0.6564235 (57)\ttotal: 5.6s\tremaining: 1m 31s\n",
      "58:\tlearn: 0.8336665\ttest: 0.6598284\tbest: 0.6598284 (58)\ttotal: 5.7s\tremaining: 1m 30s\n",
      "59:\tlearn: 0.8335747\ttest: 0.6619323\tbest: 0.6619323 (59)\ttotal: 5.79s\tremaining: 1m 30s\n",
      "60:\tlearn: 0.8345205\ttest: 0.6601077\tbest: 0.6619323 (59)\ttotal: 5.89s\tremaining: 1m 30s\n",
      "61:\tlearn: 0.8349955\ttest: 0.6591330\tbest: 0.6619323 (59)\ttotal: 6s\tremaining: 1m 30s\n",
      "62:\tlearn: 0.8372828\ttest: 0.6627153\tbest: 0.6627153 (62)\ttotal: 6.09s\tremaining: 1m 30s\n",
      "63:\tlearn: 0.8375687\ttest: 0.6637004\tbest: 0.6637004 (63)\ttotal: 6.19s\tremaining: 1m 30s\n",
      "64:\tlearn: 0.8384019\ttest: 0.6653061\tbest: 0.6653061 (64)\ttotal: 6.29s\tremaining: 1m 30s\n",
      "65:\tlearn: 0.8384196\ttest: 0.6651819\tbest: 0.6653061 (64)\ttotal: 6.39s\tremaining: 1m 30s\n",
      "66:\tlearn: 0.8383929\ttest: 0.6653023\tbest: 0.6653061 (64)\ttotal: 6.48s\tremaining: 1m 30s\n",
      "67:\tlearn: 0.8386720\ttest: 0.6660451\tbest: 0.6660451 (67)\ttotal: 6.58s\tremaining: 1m 30s\n",
      "68:\tlearn: 0.8389644\ttest: 0.6669153\tbest: 0.6669153 (68)\ttotal: 6.67s\tremaining: 1m 30s\n",
      "69:\tlearn: 0.8403333\ttest: 0.6675354\tbest: 0.6675354 (69)\ttotal: 6.77s\tremaining: 1m 29s\n",
      "70:\tlearn: 0.8418276\ttest: 0.6700168\tbest: 0.6700168 (70)\ttotal: 6.86s\tremaining: 1m 29s\n",
      "71:\tlearn: 0.8416978\ttest: 0.6701395\tbest: 0.6701395 (71)\ttotal: 6.96s\tremaining: 1m 29s\n",
      "72:\tlearn: 0.8422458\ttest: 0.6708814\tbest: 0.6708814 (72)\ttotal: 7.06s\tremaining: 1m 29s\n",
      "73:\tlearn: 0.8423504\ttest: 0.6708837\tbest: 0.6708837 (73)\ttotal: 7.16s\tremaining: 1m 29s\n",
      "74:\tlearn: 0.8422675\ttest: 0.6711359\tbest: 0.6711359 (74)\ttotal: 7.25s\tremaining: 1m 29s\n",
      "75:\tlearn: 0.8431607\ttest: 0.6727442\tbest: 0.6727442 (75)\ttotal: 7.34s\tremaining: 1m 29s\n",
      "76:\tlearn: 0.8441496\ttest: 0.6736021\tbest: 0.6736021 (76)\ttotal: 7.46s\tremaining: 1m 29s\n",
      "77:\tlearn: 0.8451657\ttest: 0.6754647\tbest: 0.6754647 (77)\ttotal: 7.56s\tremaining: 1m 29s\n",
      "78:\tlearn: 0.8453869\ttest: 0.6754647\tbest: 0.6754647 (77)\ttotal: 7.65s\tremaining: 1m 29s\n",
      "79:\tlearn: 0.8464294\ttest: 0.6775875\tbest: 0.6775875 (79)\ttotal: 7.75s\tremaining: 1m 29s\n",
      "80:\tlearn: 0.8457613\ttest: 0.6882821\tbest: 0.6882821 (80)\ttotal: 7.86s\tremaining: 1m 29s\n",
      "81:\tlearn: 0.8467778\ttest: 0.6880665\tbest: 0.6882821 (80)\ttotal: 7.95s\tremaining: 1m 29s\n",
      "82:\tlearn: 0.8488336\ttest: 0.6782802\tbest: 0.6882821 (80)\ttotal: 8.05s\tremaining: 1m 28s\n",
      "83:\tlearn: 0.8494774\ttest: 0.6799035\tbest: 0.6882821 (80)\ttotal: 8.15s\tremaining: 1m 28s\n",
      "84:\tlearn: 0.8496069\ttest: 0.6804009\tbest: 0.6882821 (80)\ttotal: 8.25s\tremaining: 1m 28s\n",
      "85:\tlearn: 0.8495864\ttest: 0.6802898\tbest: 0.6882821 (80)\ttotal: 8.35s\tremaining: 1m 28s\n",
      "86:\tlearn: 0.8497635\ttest: 0.6805272\tbest: 0.6882821 (80)\ttotal: 8.44s\tremaining: 1m 28s\n",
      "87:\tlearn: 0.8509351\ttest: 0.6827637\tbest: 0.6882821 (80)\ttotal: 8.54s\tremaining: 1m 28s\n",
      "88:\tlearn: 0.8506052\ttest: 0.6815062\tbest: 0.6882821 (80)\ttotal: 8.65s\tremaining: 1m 28s\n",
      "89:\tlearn: 0.8510725\ttest: 0.6823923\tbest: 0.6882821 (80)\ttotal: 8.77s\tremaining: 1m 28s\n",
      "90:\tlearn: 0.8517273\ttest: 0.6833798\tbest: 0.6882821 (80)\ttotal: 8.88s\tremaining: 1m 28s\n",
      "91:\tlearn: 0.8526226\ttest: 0.6849926\tbest: 0.6882821 (80)\ttotal: 8.99s\tremaining: 1m 28s\n",
      "92:\tlearn: 0.8522241\ttest: 0.6844940\tbest: 0.6882821 (80)\ttotal: 9.1s\tremaining: 1m 28s\n",
      "93:\tlearn: 0.8530809\ttest: 0.6842105\tbest: 0.6882821 (80)\ttotal: 9.22s\tremaining: 1m 28s\n"
     ]
    },
    {
     "name": "stdout",
     "output_type": "stream",
     "text": [
      "94:\tlearn: 0.8530220\ttest: 0.6840741\tbest: 0.6882821 (80)\ttotal: 9.34s\tremaining: 1m 28s\n",
      "95:\tlearn: 0.8523284\ttest: 0.6926114\tbest: 0.6926114 (95)\ttotal: 9.45s\tremaining: 1m 28s\n",
      "96:\tlearn: 0.8528651\ttest: 0.6947527\tbest: 0.6947527 (96)\ttotal: 9.54s\tremaining: 1m 28s\n",
      "97:\tlearn: 0.8534911\ttest: 0.6935635\tbest: 0.6947527 (96)\ttotal: 9.64s\tremaining: 1m 28s\n",
      "98:\tlearn: 0.8540067\ttest: 0.6939542\tbest: 0.6947527 (96)\ttotal: 9.74s\tremaining: 1m 28s\n",
      "99:\tlearn: 0.8543181\ttest: 0.6942149\tbest: 0.6947527 (96)\ttotal: 9.84s\tremaining: 1m 28s\n",
      "100:\tlearn: 0.8547450\ttest: 0.6935938\tbest: 0.6947527 (96)\ttotal: 9.93s\tremaining: 1m 28s\n",
      "101:\tlearn: 0.8554745\ttest: 0.6932883\tbest: 0.6947527 (96)\ttotal: 10.1s\tremaining: 1m 28s\n",
      "102:\tlearn: 0.8554847\ttest: 0.6934183\tbest: 0.6947527 (96)\ttotal: 10.2s\tremaining: 1m 28s\n",
      "103:\tlearn: 0.8557568\ttest: 0.6944132\tbest: 0.6947527 (96)\ttotal: 10.3s\tremaining: 1m 28s\n",
      "104:\tlearn: 0.8561837\ttest: 0.6942830\tbest: 0.6947527 (96)\ttotal: 10.4s\tremaining: 1m 28s\n",
      "105:\tlearn: 0.8563776\ttest: 0.6952613\tbest: 0.6952613 (105)\ttotal: 10.5s\tremaining: 1m 28s\n",
      "106:\tlearn: 0.8553827\ttest: 0.7011407\tbest: 0.7011407 (106)\ttotal: 10.6s\tremaining: 1m 28s\n",
      "107:\tlearn: 0.8557627\ttest: 0.7013678\tbest: 0.7013678 (107)\ttotal: 10.7s\tremaining: 1m 28s\n",
      "108:\tlearn: 0.8571040\ttest: 0.7033593\tbest: 0.7033593 (108)\ttotal: 10.8s\tremaining: 1m 28s\n",
      "109:\tlearn: 0.8573856\ttest: 0.7032050\tbest: 0.7033593 (108)\ttotal: 10.9s\tremaining: 1m 28s\n",
      "110:\tlearn: 0.8583458\ttest: 0.7045885\tbest: 0.7045885 (110)\ttotal: 11s\tremaining: 1m 27s\n",
      "111:\tlearn: 0.8583936\ttest: 0.7033674\tbest: 0.7045885 (110)\ttotal: 11.1s\tremaining: 1m 27s\n",
      "112:\tlearn: 0.8590900\ttest: 0.7036827\tbest: 0.7045885 (110)\ttotal: 11.2s\tremaining: 1m 27s\n",
      "113:\tlearn: 0.8594285\ttest: 0.7030189\tbest: 0.7045885 (110)\ttotal: 11.3s\tremaining: 1m 27s\n",
      "114:\tlearn: 0.8599878\ttest: 0.7031103\tbest: 0.7045885 (110)\ttotal: 11.4s\tremaining: 1m 27s\n",
      "115:\tlearn: 0.8602296\ttest: 0.7033340\tbest: 0.7045885 (110)\ttotal: 11.5s\tremaining: 1m 27s\n",
      "116:\tlearn: 0.8607698\ttest: 0.7034042\tbest: 0.7045885 (110)\ttotal: 11.6s\tremaining: 1m 27s\n",
      "117:\tlearn: 0.8611543\ttest: 0.7036271\tbest: 0.7045885 (110)\ttotal: 11.7s\tremaining: 1m 27s\n",
      "118:\tlearn: 0.8622654\ttest: 0.6975537\tbest: 0.7045885 (110)\ttotal: 11.8s\tremaining: 1m 27s\n",
      "119:\tlearn: 0.8623037\ttest: 0.6963128\tbest: 0.7045885 (110)\ttotal: 11.9s\tremaining: 1m 27s\n",
      "120:\tlearn: 0.8629168\ttest: 0.6967790\tbest: 0.7045885 (110)\ttotal: 12s\tremaining: 1m 27s\n",
      "121:\tlearn: 0.8632033\ttest: 0.6968912\tbest: 0.7045885 (110)\ttotal: 12.1s\tremaining: 1m 27s\n",
      "122:\tlearn: 0.8620468\ttest: 0.7010849\tbest: 0.7045885 (110)\ttotal: 12.2s\tremaining: 1m 27s\n",
      "123:\tlearn: 0.8626047\ttest: 0.7028240\tbest: 0.7045885 (110)\ttotal: 12.3s\tremaining: 1m 27s\n",
      "124:\tlearn: 0.8632297\ttest: 0.7048475\tbest: 0.7048475 (124)\ttotal: 12.5s\tremaining: 1m 27s\n",
      "125:\tlearn: 0.8632098\ttest: 0.7046729\tbest: 0.7048475 (124)\ttotal: 12.6s\tremaining: 1m 27s\n",
      "126:\tlearn: 0.8644484\ttest: 0.6963727\tbest: 0.7048475 (124)\ttotal: 12.7s\tremaining: 1m 27s\n",
      "127:\tlearn: 0.8643474\ttest: 0.7029445\tbest: 0.7048475 (124)\ttotal: 12.8s\tremaining: 1m 27s\n",
      "128:\tlearn: 0.8649304\ttest: 0.7030551\tbest: 0.7048475 (124)\ttotal: 12.9s\tremaining: 1m 27s\n",
      "129:\tlearn: 0.8653619\ttest: 0.7040626\tbest: 0.7048475 (124)\ttotal: 13s\tremaining: 1m 27s\n",
      "130:\tlearn: 0.8656877\ttest: 0.7038003\tbest: 0.7048475 (124)\ttotal: 13.1s\tremaining: 1m 26s\n",
      "131:\tlearn: 0.8663076\ttest: 0.7052475\tbest: 0.7052475 (131)\ttotal: 13.2s\tremaining: 1m 26s\n",
      "132:\tlearn: 0.8665635\ttest: 0.7048753\tbest: 0.7052475 (131)\ttotal: 13.3s\tremaining: 1m 26s\n",
      "133:\tlearn: 0.8666577\ttest: 0.7050306\tbest: 0.7052475 (131)\ttotal: 13.4s\tremaining: 1m 26s\n",
      "134:\tlearn: 0.8666084\ttest: 0.7049211\tbest: 0.7052475 (131)\ttotal: 13.5s\tremaining: 1m 26s\n",
      "135:\tlearn: 0.8668370\ttest: 0.7059042\tbest: 0.7059042 (135)\ttotal: 13.6s\tremaining: 1m 26s\n",
      "136:\tlearn: 0.8669334\ttest: 0.7063404\tbest: 0.7063404 (136)\ttotal: 13.7s\tremaining: 1m 26s\n",
      "137:\tlearn: 0.8672941\ttest: 0.7064271\tbest: 0.7064271 (137)\ttotal: 13.8s\tremaining: 1m 26s\n",
      "138:\tlearn: 0.8677281\ttest: 0.7060998\tbest: 0.7064271 (137)\ttotal: 13.9s\tremaining: 1m 26s\n",
      "139:\tlearn: 0.8683857\ttest: 0.7072089\tbest: 0.7072089 (139)\ttotal: 14s\tremaining: 1m 26s\n",
      "140:\tlearn: 0.8685227\ttest: 0.7083642\tbest: 0.7083642 (140)\ttotal: 14.1s\tremaining: 1m 26s\n",
      "141:\tlearn: 0.8689697\ttest: 0.7091413\tbest: 0.7091413 (141)\ttotal: 14.2s\tremaining: 1m 26s\n",
      "142:\tlearn: 0.8692850\ttest: 0.7091413\tbest: 0.7091413 (141)\ttotal: 14.3s\tremaining: 1m 25s\n",
      "143:\tlearn: 0.8693901\ttest: 0.7097489\tbest: 0.7097489 (143)\ttotal: 14.4s\tremaining: 1m 25s\n",
      "144:\tlearn: 0.8695681\ttest: 0.7094869\tbest: 0.7097489 (143)\ttotal: 14.5s\tremaining: 1m 25s\n",
      "145:\tlearn: 0.8697869\ttest: 0.7097489\tbest: 0.7097489 (143)\ttotal: 14.6s\tremaining: 1m 25s\n",
      "146:\tlearn: 0.8700728\ttest: 0.7108812\tbest: 0.7108812 (146)\ttotal: 14.7s\tremaining: 1m 25s\n",
      "147:\tlearn: 0.8703555\ttest: 0.7106430\tbest: 0.7108812 (146)\ttotal: 14.8s\tremaining: 1m 25s\n",
      "148:\tlearn: 0.8704604\ttest: 0.7117517\tbest: 0.7117517 (148)\ttotal: 14.9s\tremaining: 1m 25s\n",
      "149:\tlearn: 0.8705535\ttest: 0.7113573\tbest: 0.7117517 (148)\ttotal: 15s\tremaining: 1m 25s\n",
      "150:\tlearn: 0.8706931\ttest: 0.7099152\tbest: 0.7117517 (148)\ttotal: 15.1s\tremaining: 1m 24s\n",
      "151:\tlearn: 0.8707191\ttest: 0.7104972\tbest: 0.7117517 (148)\ttotal: 15.2s\tremaining: 1m 24s\n",
      "152:\tlearn: 0.8710250\ttest: 0.7109145\tbest: 0.7117517 (148)\ttotal: 15.3s\tremaining: 1m 24s\n",
      "153:\tlearn: 0.8710369\ttest: 0.7107834\tbest: 0.7117517 (148)\ttotal: 15.4s\tremaining: 1m 24s\n",
      "154:\tlearn: 0.8714185\ttest: 0.7110210\tbest: 0.7117517 (148)\ttotal: 15.5s\tremaining: 1m 24s\n",
      "155:\tlearn: 0.8714238\ttest: 0.7108412\tbest: 0.7117517 (148)\ttotal: 15.6s\tremaining: 1m 24s\n",
      "156:\tlearn: 0.8717760\ttest: 0.7109720\tbest: 0.7117517 (148)\ttotal: 15.7s\tremaining: 1m 24s\n",
      "157:\tlearn: 0.8722207\ttest: 0.7111029\tbest: 0.7117517 (148)\ttotal: 15.8s\tremaining: 1m 24s\n",
      "158:\tlearn: 0.8723511\ttest: 0.7110784\tbest: 0.7117517 (148)\ttotal: 15.9s\tremaining: 1m 24s\n",
      "159:\tlearn: 0.8724765\ttest: 0.7119705\tbest: 0.7119705 (159)\ttotal: 16s\tremaining: 1m 24s\n",
      "160:\tlearn: 0.8729038\ttest: 0.7116022\tbest: 0.7119705 (159)\ttotal: 16.1s\tremaining: 1m 23s\n",
      "161:\tlearn: 0.8732809\ttest: 0.7122581\tbest: 0.7122581 (161)\ttotal: 16.2s\tremaining: 1m 23s\n",
      "162:\tlearn: 0.8732847\ttest: 0.7120960\tbest: 0.7122581 (161)\ttotal: 16.3s\tremaining: 1m 23s\n",
      "163:\tlearn: 0.8739839\ttest: 0.7118081\tbest: 0.7122581 (161)\ttotal: 16.4s\tremaining: 1m 23s\n",
      "164:\tlearn: 0.8741593\ttest: 0.7128092\tbest: 0.7128092 (164)\ttotal: 16.5s\tremaining: 1m 23s\n",
      "165:\tlearn: 0.8743685\ttest: 0.7133358\tbest: 0.7133358 (165)\ttotal: 16.6s\tremaining: 1m 23s\n",
      "166:\tlearn: 0.8748955\ttest: 0.7139428\tbest: 0.7139428 (166)\ttotal: 16.7s\tremaining: 1m 23s\n",
      "167:\tlearn: 0.8754053\ttest: 0.7148401\tbest: 0.7148401 (167)\ttotal: 16.8s\tremaining: 1m 23s\n",
      "168:\tlearn: 0.8757353\ttest: 0.7162137\tbest: 0.7162137 (168)\ttotal: 16.9s\tremaining: 1m 23s\n",
      "169:\tlearn: 0.8765989\ttest: 0.7157895\tbest: 0.7162137 (168)\ttotal: 17s\tremaining: 1m 23s\n",
      "170:\tlearn: 0.8772070\ttest: 0.7152342\tbest: 0.7162137 (168)\ttotal: 17.1s\tremaining: 1m 22s\n",
      "171:\tlearn: 0.8773897\ttest: 0.7146804\tbest: 0.7162137 (168)\ttotal: 17.2s\tremaining: 1m 22s\n",
      "172:\tlearn: 0.8778096\ttest: 0.7145753\tbest: 0.7162137 (168)\ttotal: 17.3s\tremaining: 1m 22s\n",
      "173:\tlearn: 0.8783171\ttest: 0.7152318\tbest: 0.7162137 (168)\ttotal: 17.4s\tremaining: 1m 22s\n",
      "174:\tlearn: 0.8784910\ttest: 0.7155997\tbest: 0.7162137 (168)\ttotal: 17.5s\tremaining: 1m 22s\n",
      "175:\tlearn: 0.8788485\ttest: 0.7166483\tbest: 0.7166483 (175)\ttotal: 17.6s\tremaining: 1m 22s\n",
      "176:\tlearn: 0.8790433\ttest: 0.7160176\tbest: 0.7166483 (175)\ttotal: 17.7s\tremaining: 1m 22s\n",
      "177:\tlearn: 0.8790938\ttest: 0.7162808\tbest: 0.7166483 (175)\ttotal: 17.8s\tremaining: 1m 22s\n",
      "178:\tlearn: 0.8795791\ttest: 0.7177508\tbest: 0.7177508 (178)\ttotal: 17.9s\tremaining: 1m 22s\n",
      "179:\tlearn: 0.8798535\ttest: 0.7179581\tbest: 0.7179581 (179)\ttotal: 18s\tremaining: 1m 22s\n",
      "180:\tlearn: 0.8801358\ttest: 0.7186926\tbest: 0.7186926 (180)\ttotal: 18.1s\tremaining: 1m 21s\n",
      "181:\tlearn: 0.8806149\ttest: 0.7175348\tbest: 0.7186926 (180)\ttotal: 18.2s\tremaining: 1m 21s\n",
      "182:\tlearn: 0.8808304\ttest: 0.7172996\tbest: 0.7186926 (180)\ttotal: 18.3s\tremaining: 1m 21s\n",
      "183:\tlearn: 0.8809049\ttest: 0.7172996\tbest: 0.7186926 (180)\ttotal: 18.4s\tremaining: 1m 21s\n",
      "184:\tlearn: 0.8810989\ttest: 0.7168012\tbest: 0.7186926 (180)\ttotal: 18.5s\tremaining: 1m 21s\n",
      "185:\tlearn: 0.8811891\ttest: 0.7169050\tbest: 0.7186926 (180)\ttotal: 18.6s\tremaining: 1m 21s\n",
      "186:\tlearn: 0.8815238\ttest: 0.7172996\tbest: 0.7186926 (180)\ttotal: 18.7s\tremaining: 1m 21s\n"
     ]
    },
    {
     "name": "stdout",
     "output_type": "stream",
     "text": [
      "187:\tlearn: 0.8815846\ttest: 0.7167736\tbest: 0.7186926 (180)\ttotal: 18.8s\tremaining: 1m 21s\n",
      "188:\tlearn: 0.8818741\ttest: 0.7170088\tbest: 0.7186926 (180)\ttotal: 18.9s\tremaining: 1m 21s\n",
      "189:\tlearn: 0.8819562\ttest: 0.7174231\tbest: 0.7186926 (180)\ttotal: 19s\tremaining: 1m 20s\n",
      "190:\tlearn: 0.8824975\ttest: 0.7173953\tbest: 0.7186926 (180)\ttotal: 19.1s\tremaining: 1m 20s\n",
      "191:\tlearn: 0.8828470\ttest: 0.7177331\tbest: 0.7186926 (180)\ttotal: 19.2s\tremaining: 1m 20s\n",
      "192:\tlearn: 0.8832609\ttest: 0.7177331\tbest: 0.7186926 (180)\ttotal: 19.3s\tremaining: 1m 20s\n",
      "193:\tlearn: 0.8834384\ttest: 0.7180987\tbest: 0.7186926 (180)\ttotal: 19.4s\tremaining: 1m 20s\n",
      "194:\tlearn: 0.8840296\ttest: 0.7192244\tbest: 0.7192244 (194)\ttotal: 19.5s\tremaining: 1m 20s\n",
      "195:\tlearn: 0.8842070\ttest: 0.7193271\tbest: 0.7193271 (195)\ttotal: 19.6s\tremaining: 1m 20s\n",
      "196:\tlearn: 0.8841777\ttest: 0.7185673\tbest: 0.7193271 (195)\ttotal: 19.7s\tremaining: 1m 20s\n",
      "197:\tlearn: 0.8846741\ttest: 0.7179113\tbest: 0.7193271 (195)\ttotal: 19.8s\tremaining: 1m 20s\n",
      "198:\tlearn: 0.8850438\ttest: 0.7182200\tbest: 0.7193271 (195)\ttotal: 19.9s\tremaining: 1m 20s\n",
      "199:\tlearn: 0.8853469\ttest: 0.7186873\tbest: 0.7193271 (195)\ttotal: 20s\tremaining: 1m 19s\n",
      "200:\tlearn: 0.8853915\ttest: 0.7181918\tbest: 0.7193271 (195)\ttotal: 20.1s\tremaining: 1m 19s\n",
      "201:\tlearn: 0.8854436\ttest: 0.7180609\tbest: 0.7193271 (195)\ttotal: 20.2s\tremaining: 1m 19s\n",
      "202:\tlearn: 0.8859603\ttest: 0.7195921\tbest: 0.7195921 (202)\ttotal: 20.3s\tremaining: 1m 19s\n",
      "203:\tlearn: 0.8856357\ttest: 0.7197522\tbest: 0.7197522 (203)\ttotal: 20.4s\tremaining: 1m 19s\n",
      "204:\tlearn: 0.8859972\ttest: 0.7203498\tbest: 0.7203498 (204)\ttotal: 20.5s\tremaining: 1m 19s\n",
      "205:\tlearn: 0.8861740\ttest: 0.7206419\tbest: 0.7206419 (205)\ttotal: 20.6s\tremaining: 1m 19s\n",
      "206:\tlearn: 0.8864396\ttest: 0.7212397\tbest: 0.7212397 (206)\ttotal: 20.7s\tremaining: 1m 19s\n",
      "207:\tlearn: 0.8869847\ttest: 0.7218073\tbest: 0.7218073 (207)\ttotal: 20.8s\tremaining: 1m 19s\n",
      "208:\tlearn: 0.8877430\ttest: 0.7214130\tbest: 0.7218073 (207)\ttotal: 20.9s\tremaining: 1m 18s\n",
      "209:\tlearn: 0.8876620\ttest: 0.7215443\tbest: 0.7218073 (207)\ttotal: 21s\tremaining: 1m 18s\n",
      "210:\tlearn: 0.8879709\ttest: 0.7210191\tbest: 0.7218073 (207)\ttotal: 21s\tremaining: 1m 18s\n",
      "211:\tlearn: 0.8883162\ttest: 0.7224750\tbest: 0.7224750 (211)\ttotal: 21.1s\tremaining: 1m 18s\n",
      "212:\tlearn: 0.8883309\ttest: 0.7229705\tbest: 0.7229705 (212)\ttotal: 21.2s\tremaining: 1m 18s\n",
      "213:\tlearn: 0.8887861\ttest: 0.7231721\tbest: 0.7231721 (213)\ttotal: 21.3s\tremaining: 1m 18s\n",
      "214:\tlearn: 0.8893585\ttest: 0.7229791\tbest: 0.7231721 (213)\ttotal: 21.4s\tremaining: 1m 18s\n",
      "215:\tlearn: 0.8893218\ttest: 0.7218892\tbest: 0.7231721 (213)\ttotal: 21.5s\tremaining: 1m 18s\n",
      "216:\tlearn: 0.8896811\ttest: 0.7227165\tbest: 0.7231721 (213)\ttotal: 21.6s\tremaining: 1m 18s\n",
      "217:\tlearn: 0.8900624\ttest: 0.7242694\tbest: 0.7242694 (217)\ttotal: 21.7s\tremaining: 1m 17s\n",
      "218:\tlearn: 0.8902310\ttest: 0.7247640\tbest: 0.7247640 (218)\ttotal: 21.8s\tremaining: 1m 17s\n",
      "219:\tlearn: 0.8901795\ttest: 0.7237439\tbest: 0.7247640 (218)\ttotal: 21.9s\tremaining: 1m 17s\n",
      "220:\tlearn: 0.8903698\ttest: 0.7240442\tbest: 0.7247640 (218)\ttotal: 22s\tremaining: 1m 17s\n",
      "221:\tlearn: 0.8906482\ttest: 0.7239130\tbest: 0.7247640 (218)\ttotal: 22.1s\tremaining: 1m 17s\n",
      "222:\tlearn: 0.8909990\ttest: 0.7244436\tbest: 0.7247640 (218)\ttotal: 22.2s\tremaining: 1m 17s\n",
      "223:\tlearn: 0.8910362\ttest: 0.7249367\tbest: 0.7249367 (223)\ttotal: 22.3s\tremaining: 1m 17s\n",
      "224:\tlearn: 0.8917013\ttest: 0.7257598\tbest: 0.7257598 (224)\ttotal: 22.4s\tremaining: 1m 17s\n",
      "225:\tlearn: 0.8919569\ttest: 0.7255646\tbest: 0.7257598 (224)\ttotal: 22.5s\tremaining: 1m 17s\n",
      "226:\tlearn: 0.8920593\ttest: 0.7251715\tbest: 0.7257598 (224)\ttotal: 22.6s\tremaining: 1m 16s\n",
      "227:\tlearn: 0.8921181\ttest: 0.7255646\tbest: 0.7257598 (224)\ttotal: 22.7s\tremaining: 1m 16s\n",
      "228:\tlearn: 0.8923807\ttest: 0.7249097\tbest: 0.7257598 (224)\ttotal: 22.8s\tremaining: 1m 16s\n",
      "229:\tlearn: 0.8927008\ttest: 0.7252074\tbest: 0.7257598 (224)\ttotal: 22.9s\tremaining: 1m 16s\n",
      "230:\tlearn: 0.8928101\ttest: 0.7247475\tbest: 0.7257598 (224)\ttotal: 23s\tremaining: 1m 16s\n",
      "231:\tlearn: 0.8932557\ttest: 0.7253025\tbest: 0.7257598 (224)\ttotal: 23.1s\tremaining: 1m 16s\n",
      "232:\tlearn: 0.8934154\ttest: 0.7251082\tbest: 0.7257598 (224)\ttotal: 23.2s\tremaining: 1m 16s\n",
      "233:\tlearn: 0.8936562\ttest: 0.7255680\tbest: 0.7257598 (224)\ttotal: 23.3s\tremaining: 1m 16s\n",
      "234:\tlearn: 0.8935918\ttest: 0.7258618\tbest: 0.7258618 (234)\ttotal: 23.4s\tremaining: 1m 16s\n",
      "235:\tlearn: 0.8938536\ttest: 0.7264202\tbest: 0.7264202 (235)\ttotal: 23.5s\tremaining: 1m 16s\n",
      "236:\tlearn: 0.8941084\ttest: 0.7269120\tbest: 0.7269120 (236)\ttotal: 23.6s\tremaining: 1m 16s\n",
      "237:\tlearn: 0.8942159\ttest: 0.7263234\tbest: 0.7269120 (236)\ttotal: 23.7s\tremaining: 1m 15s\n",
      "238:\tlearn: 0.8946157\ttest: 0.7257019\tbest: 0.7269120 (236)\ttotal: 23.8s\tremaining: 1m 15s\n",
      "239:\tlearn: 0.8944790\ttest: 0.7258326\tbest: 0.7269120 (236)\ttotal: 23.9s\tremaining: 1m 15s\n",
      "240:\tlearn: 0.8946676\ttest: 0.7257019\tbest: 0.7269120 (236)\ttotal: 24s\tremaining: 1m 15s\n",
      "241:\tlearn: 0.8947784\ttest: 0.7264865\tbest: 0.7269120 (236)\ttotal: 24.1s\tremaining: 1m 15s\n",
      "242:\tlearn: 0.8949964\ttest: 0.7273711\tbest: 0.7273711 (242)\ttotal: 24.2s\tremaining: 1m 15s\n",
      "243:\tlearn: 0.8953595\ttest: 0.7273711\tbest: 0.7273711 (242)\ttotal: 24.3s\tremaining: 1m 15s\n",
      "244:\tlearn: 0.8953527\ttest: 0.7278961\tbest: 0.7278961 (244)\ttotal: 24.4s\tremaining: 1m 15s\n",
      "245:\tlearn: 0.8954321\ttest: 0.7278961\tbest: 0.7278961 (244)\ttotal: 24.5s\tremaining: 1m 15s\n",
      "246:\tlearn: 0.8953507\ttest: 0.7280607\tbest: 0.7280607 (246)\ttotal: 24.6s\tremaining: 1m 15s\n",
      "247:\tlearn: 0.8952487\ttest: 0.7277978\tbest: 0.7280607 (246)\ttotal: 24.7s\tremaining: 1m 14s\n",
      "248:\tlearn: 0.8956116\ttest: 0.7274694\tbest: 0.7280607 (246)\ttotal: 24.8s\tremaining: 1m 14s\n",
      "249:\tlearn: 0.8958586\ttest: 0.7270762\tbest: 0.7280607 (246)\ttotal: 24.9s\tremaining: 1m 14s\n",
      "250:\tlearn: 0.8960105\ttest: 0.7270436\tbest: 0.7280607 (246)\ttotal: 25s\tremaining: 1m 14s\n",
      "251:\tlearn: 0.8960557\ttest: 0.7273055\tbest: 0.7280607 (246)\ttotal: 25.1s\tremaining: 1m 14s\n",
      "252:\tlearn: 0.8961282\ttest: 0.7281571\tbest: 0.7281571 (252)\ttotal: 25.2s\tremaining: 1m 14s\n",
      "253:\tlearn: 0.8961645\ttest: 0.7281571\tbest: 0.7281571 (252)\ttotal: 25.3s\tremaining: 1m 14s\n",
      "254:\tlearn: 0.8960037\ttest: 0.7276987\tbest: 0.7281571 (252)\ttotal: 25.4s\tremaining: 1m 14s\n",
      "255:\tlearn: 0.8966264\ttest: 0.7270115\tbest: 0.7281571 (252)\ttotal: 25.5s\tremaining: 1m 14s\n",
      "256:\tlearn: 0.8966920\ttest: 0.7276321\tbest: 0.7281571 (252)\ttotal: 25.6s\tremaining: 1m 14s\n",
      "257:\tlearn: 0.8968210\ttest: 0.7275992\tbest: 0.7281571 (252)\ttotal: 25.7s\tremaining: 1m 13s\n",
      "258:\tlearn: 0.8971104\ttest: 0.7273380\tbest: 0.7281571 (252)\ttotal: 25.8s\tremaining: 1m 13s\n",
      "259:\tlearn: 0.8972845\ttest: 0.7279253\tbest: 0.7281571 (252)\ttotal: 25.9s\tremaining: 1m 13s\n",
      "260:\tlearn: 0.8974451\ttest: 0.7281867\tbest: 0.7281867 (260)\ttotal: 26s\tremaining: 1m 13s\n",
      "261:\tlearn: 0.8976192\ttest: 0.7285458\tbest: 0.7285458 (261)\ttotal: 26.1s\tremaining: 1m 13s\n",
      "262:\tlearn: 0.8974519\ttest: 0.7283507\tbest: 0.7285458 (261)\ttotal: 26.2s\tremaining: 1m 13s\n",
      "263:\tlearn: 0.8975898\ttest: 0.7277628\tbest: 0.7285458 (261)\ttotal: 26.3s\tremaining: 1m 13s\n",
      "264:\tlearn: 0.8980100\ttest: 0.7277299\tbest: 0.7285458 (261)\ttotal: 26.4s\tremaining: 1m 13s\n",
      "265:\tlearn: 0.8979806\ttest: 0.7274359\tbest: 0.7285458 (261)\ttotal: 26.5s\tremaining: 1m 13s\n",
      "266:\tlearn: 0.8982307\ttest: 0.7278924\tbest: 0.7285458 (261)\ttotal: 26.6s\tremaining: 1m 13s\n",
      "267:\tlearn: 0.8984700\ttest: 0.7291966\tbest: 0.7291966 (267)\ttotal: 26.7s\tremaining: 1m 12s\n",
      "268:\tlearn: 0.8982895\ttest: 0.7298170\tbest: 0.7298170 (268)\ttotal: 26.8s\tremaining: 1m 12s\n",
      "269:\tlearn: 0.8986438\ttest: 0.7293274\tbest: 0.7298170 (268)\ttotal: 26.9s\tremaining: 1m 12s\n",
      "270:\tlearn: 0.8990339\ttest: 0.7302100\tbest: 0.7302100 (270)\ttotal: 27s\tremaining: 1m 12s\n",
      "271:\tlearn: 0.8991847\ttest: 0.7302100\tbest: 0.7302100 (270)\ttotal: 27.1s\tremaining: 1m 12s\n",
      "272:\tlearn: 0.8994893\ttest: 0.7306034\tbest: 0.7306034 (272)\ttotal: 27.2s\tremaining: 1m 12s\n",
      "273:\tlearn: 0.8998789\ttest: 0.7310246\tbest: 0.7310246 (273)\ttotal: 27.3s\tremaining: 1m 12s\n",
      "274:\tlearn: 0.8999509\ttest: 0.7309554\tbest: 0.7310246 (273)\ttotal: 27.4s\tremaining: 1m 12s\n",
      "275:\tlearn: 0.9000949\ttest: 0.7307623\tbest: 0.7310246 (273)\ttotal: 27.5s\tremaining: 1m 12s\n",
      "276:\tlearn: 0.8999804\ttest: 0.7310246\tbest: 0.7310246 (273)\ttotal: 27.6s\tremaining: 1m 11s\n",
      "277:\tlearn: 0.9000753\ttest: 0.7310246\tbest: 0.7310246 (273)\ttotal: 27.7s\tremaining: 1m 11s\n"
     ]
    },
    {
     "name": "stdout",
     "output_type": "stream",
     "text": [
      "278:\tlearn: 0.9002553\ttest: 0.7321012\tbest: 0.7321012 (278)\ttotal: 27.8s\tremaining: 1m 11s\n",
      "279:\tlearn: 0.9004711\ttest: 0.7325915\tbest: 0.7325915 (279)\ttotal: 27.9s\tremaining: 1m 11s\n",
      "280:\tlearn: 0.9004122\ttest: 0.7326875\tbest: 0.7326875 (280)\ttotal: 28s\tremaining: 1m 11s\n",
      "281:\tlearn: 0.9007064\ttest: 0.7311405\tbest: 0.7326875 (280)\ttotal: 28.1s\tremaining: 1m 11s\n",
      "282:\tlearn: 0.9007359\ttest: 0.7307830\tbest: 0.7326875 (280)\ttotal: 28.2s\tremaining: 1m 11s\n",
      "283:\tlearn: 0.9012878\ttest: 0.7303571\tbest: 0.7326875 (280)\ttotal: 28.3s\tremaining: 1m 11s\n",
      "284:\tlearn: 0.9015033\ttest: 0.7304534\tbest: 0.7326875 (280)\ttotal: 28.4s\tremaining: 1m 11s\n",
      "285:\tlearn: 0.9012878\ttest: 0.7306181\tbest: 0.7326875 (280)\ttotal: 28.5s\tremaining: 1m 11s\n",
      "286:\tlearn: 0.9013725\ttest: 0.7307486\tbest: 0.7326875 (280)\ttotal: 28.6s\tremaining: 1m 10s\n",
      "287:\tlearn: 0.9015392\ttest: 0.7310098\tbest: 0.7326875 (280)\ttotal: 28.7s\tremaining: 1m 10s\n",
      "288:\tlearn: 0.9017481\ttest: 0.7317597\tbest: 0.7326875 (280)\ttotal: 28.8s\tremaining: 1m 10s\n",
      "289:\tlearn: 0.9017481\ttest: 0.7313673\tbest: 0.7326875 (280)\ttotal: 28.9s\tremaining: 1m 10s\n",
      "290:\tlearn: 0.9019211\ttest: 0.7319864\tbest: 0.7326875 (280)\ttotal: 29s\tremaining: 1m 10s\n",
      "291:\tlearn: 0.9019762\ttest: 0.7318556\tbest: 0.7326875 (280)\ttotal: 29.1s\tremaining: 1m 10s\n",
      "292:\tlearn: 0.9020120\ttest: 0.7318556\tbest: 0.7326875 (280)\ttotal: 29.2s\tremaining: 1m 10s\n",
      "293:\tlearn: 0.9021618\ttest: 0.7314980\tbest: 0.7326875 (280)\ttotal: 29.3s\tremaining: 1m 10s\n",
      "294:\tlearn: 0.9020607\ttest: 0.7317597\tbest: 0.7326875 (280)\ttotal: 29.4s\tremaining: 1m 10s\n",
      "295:\tlearn: 0.9022463\ttest: 0.7318556\tbest: 0.7326875 (280)\ttotal: 29.5s\tremaining: 1m 10s\n",
      "296:\tlearn: 0.9025035\ttest: 0.7319164\tbest: 0.7326875 (280)\ttotal: 29.6s\tremaining: 1m 9s\n",
      "297:\tlearn: 0.9027016\ttest: 0.7326662\tbest: 0.7326875 (280)\ttotal: 29.7s\tremaining: 1m 9s\n",
      "298:\tlearn: 0.9029753\ttest: 0.7327617\tbest: 0.7327617 (298)\ttotal: 29.8s\tremaining: 1m 9s\n",
      "299:\tlearn: 0.9030764\ttest: 0.7320378\tbest: 0.7327617 (298)\ttotal: 29.9s\tremaining: 1m 9s\n",
      "300:\tlearn: 0.9031416\ttest: 0.7320378\tbest: 0.7327617 (298)\ttotal: 30s\tremaining: 1m 9s\n",
      "301:\tlearn: 0.9034172\ttest: 0.7321683\tbest: 0.7327617 (298)\ttotal: 30.1s\tremaining: 1m 9s\n",
      "302:\tlearn: 0.9036298\ttest: 0.7327863\tbest: 0.7327863 (302)\ttotal: 30.2s\tremaining: 1m 9s\n",
      "303:\tlearn: 0.9038970\ttest: 0.7327863\tbest: 0.7327863 (302)\ttotal: 30.3s\tremaining: 1m 9s\n",
      "304:\tlearn: 0.9038255\ttest: 0.7326556\tbest: 0.7327863 (302)\ttotal: 30.4s\tremaining: 1m 9s\n",
      "305:\tlearn: 0.9039434\ttest: 0.7327509\tbest: 0.7327863 (302)\ttotal: 30.5s\tremaining: 1m 9s\n",
      "306:\tlearn: 0.9041221\ttest: 0.7323241\tbest: 0.7327863 (302)\ttotal: 30.6s\tremaining: 1m 9s\n",
      "307:\tlearn: 0.9041346\ttest: 0.7321937\tbest: 0.7327863 (302)\ttotal: 30.7s\tremaining: 1m 8s\n",
      "308:\tlearn: 0.9043722\ttest: 0.7321587\tbest: 0.7327863 (302)\ttotal: 30.8s\tremaining: 1m 8s\n",
      "309:\tlearn: 0.9044079\ttest: 0.7310909\tbest: 0.7327863 (302)\ttotal: 30.9s\tremaining: 1m 8s\n",
      "310:\tlearn: 0.9044499\ttest: 0.7313167\tbest: 0.7327863 (302)\ttotal: 31s\tremaining: 1m 8s\n",
      "311:\tlearn: 0.9046579\ttest: 0.7314123\tbest: 0.7327863 (302)\ttotal: 31.1s\tremaining: 1m 8s\n",
      "312:\tlearn: 0.9051513\ttest: 0.7303730\tbest: 0.7327863 (302)\ttotal: 31.2s\tremaining: 1m 8s\n",
      "313:\tlearn: 0.9054182\ttest: 0.7296290\tbest: 0.7327863 (302)\ttotal: 31.3s\tremaining: 1m 8s\n",
      "314:\tlearn: 0.9052755\ttest: 0.7291445\tbest: 0.7327863 (302)\ttotal: 31.4s\tremaining: 1m 8s\n",
      "315:\tlearn: 0.9053592\ttest: 0.7288857\tbest: 0.7327863 (302)\ttotal: 31.6s\tremaining: 1m 8s\n",
      "316:\tlearn: 0.9056383\ttest: 0.7288857\tbest: 0.7327863 (302)\ttotal: 31.7s\tremaining: 1m 8s\n",
      "317:\tlearn: 0.9055903\ttest: 0.7292739\tbest: 0.7327863 (302)\ttotal: 31.8s\tremaining: 1m 8s\n",
      "318:\tlearn: 0.9058042\ttest: 0.7292073\tbest: 0.7327863 (302)\ttotal: 31.9s\tremaining: 1m 8s\n",
      "319:\tlearn: 0.9058521\ttest: 0.7289488\tbest: 0.7327863 (302)\ttotal: 32s\tremaining: 1m 7s\n",
      "320:\tlearn: 0.9060597\ttest: 0.7295620\tbest: 0.7327863 (302)\ttotal: 32.1s\tremaining: 1m 7s\n",
      "321:\tlearn: 0.9062734\ttest: 0.7294326\tbest: 0.7327863 (302)\ttotal: 32.2s\tremaining: 1m 7s\n",
      "322:\tlearn: 0.9062673\ttest: 0.7298208\tbest: 0.7327863 (302)\ttotal: 32.3s\tremaining: 1m 7s\n",
      "323:\tlearn: 0.9064575\ttest: 0.7292700\tbest: 0.7327863 (302)\ttotal: 32.4s\tremaining: 1m 7s\n",
      "324:\tlearn: 0.9067005\ttest: 0.7292700\tbest: 0.7327863 (302)\ttotal: 32.5s\tremaining: 1m 7s\n",
      "325:\tlearn: 0.9067422\ttest: 0.7293659\tbest: 0.7327863 (302)\ttotal: 32.6s\tremaining: 1m 7s\n",
      "326:\tlearn: 0.9066710\ttest: 0.7291704\tbest: 0.7327863 (302)\ttotal: 32.7s\tremaining: 1m 7s\n",
      "327:\tlearn: 0.9066537\ttest: 0.7288166\tbest: 0.7327863 (302)\ttotal: 32.8s\tremaining: 1m 7s\n",
      "328:\tlearn: 0.9066832\ttest: 0.7290414\tbest: 0.7327863 (302)\ttotal: 32.9s\tremaining: 1m 7s\n",
      "329:\tlearn: 0.9069321\ttest: 0.7290414\tbest: 0.7327863 (302)\ttotal: 33s\tremaining: 1m 6s\n",
      "330:\tlearn: 0.9071749\ttest: 0.7295241\tbest: 0.7327863 (302)\ttotal: 33.1s\tremaining: 1m 6s\n",
      "331:\tlearn: 0.9072105\ttest: 0.7302993\tbest: 0.7327863 (302)\ttotal: 33.2s\tremaining: 1m 6s\n",
      "332:\tlearn: 0.9074357\ttest: 0.7304286\tbest: 0.7327863 (302)\ttotal: 33.3s\tremaining: 1m 6s\n",
      "333:\tlearn: 0.9076783\ttest: 0.7308782\tbest: 0.7327863 (302)\ttotal: 33.4s\tremaining: 1m 6s\n",
      "334:\tlearn: 0.9075778\ttest: 0.7307488\tbest: 0.7327863 (302)\ttotal: 33.5s\tremaining: 1m 6s\n",
      "335:\tlearn: 0.9077493\ttest: 0.7310076\tbest: 0.7327863 (302)\ttotal: 33.6s\tremaining: 1m 6s\n",
      "336:\tlearn: 0.9078793\ttest: 0.7313618\tbest: 0.7327863 (302)\ttotal: 33.7s\tremaining: 1m 6s\n",
      "337:\tlearn: 0.9078614\ttest: 0.7305855\tbest: 0.7327863 (302)\ttotal: 33.8s\tremaining: 1m 6s\n",
      "338:\tlearn: 0.9080329\ttest: 0.7309735\tbest: 0.7327863 (302)\ttotal: 33.9s\tremaining: 1m 6s\n",
      "339:\tlearn: 0.9083168\ttest: 0.7303609\tbest: 0.7327863 (302)\ttotal: 34s\tremaining: 1m 6s\n",
      "340:\tlearn: 0.9083168\ttest: 0.7301026\tbest: 0.7327863 (302)\ttotal: 34.1s\tremaining: 1m 5s\n",
      "341:\tlearn: 0.9084528\ttest: 0.7299735\tbest: 0.7327863 (302)\ttotal: 34.2s\tremaining: 1m 5s\n",
      "342:\tlearn: 0.9087424\ttest: 0.7302934\tbest: 0.7327863 (302)\ttotal: 34.3s\tremaining: 1m 5s\n",
      "343:\tlearn: 0.9086715\ttest: 0.7305178\tbest: 0.7327863 (302)\ttotal: 34.4s\tremaining: 1m 5s\n",
      "344:\tlearn: 0.9088488\ttest: 0.7306130\tbest: 0.7327863 (302)\ttotal: 34.5s\tremaining: 1m 5s\n",
      "345:\tlearn: 0.9089787\ttest: 0.7309663\tbest: 0.7327863 (302)\ttotal: 34.6s\tremaining: 1m 5s\n",
      "346:\tlearn: 0.9087305\ttest: 0.7313882\tbest: 0.7327863 (302)\ttotal: 34.7s\tremaining: 1m 5s\n",
      "347:\tlearn: 0.9089669\ttest: 0.7319314\tbest: 0.7327863 (302)\ttotal: 34.8s\tremaining: 1m 5s\n",
      "348:\tlearn: 0.9092149\ttest: 0.7315436\tbest: 0.7327863 (302)\ttotal: 34.9s\tremaining: 1m 5s\n",
      "349:\tlearn: 0.9093507\ttest: 0.7317676\tbest: 0.7327863 (302)\ttotal: 35s\tremaining: 1m 5s\n",
      "350:\tlearn: 0.9095574\ttest: 0.7312511\tbest: 0.7327863 (302)\ttotal: 35.1s\tremaining: 1m 4s\n",
      "351:\tlearn: 0.9095810\ttest: 0.7314749\tbest: 0.7327863 (302)\ttotal: 35.2s\tremaining: 1m 4s\n",
      "352:\tlearn: 0.9095810\ttest: 0.7316040\tbest: 0.7327863 (302)\ttotal: 35.3s\tremaining: 1m 4s\n",
      "353:\tlearn: 0.9098643\ttest: 0.7317933\tbest: 0.7327863 (302)\ttotal: 35.4s\tremaining: 1m 4s\n",
      "354:\tlearn: 0.9102240\ttest: 0.7315011\tbest: 0.7327863 (302)\ttotal: 35.5s\tremaining: 1m 4s\n",
      "355:\tlearn: 0.9103301\ttest: 0.7312434\tbest: 0.7327863 (302)\ttotal: 35.6s\tremaining: 1m 4s\n",
      "356:\tlearn: 0.9106482\ttest: 0.7313722\tbest: 0.7327863 (302)\ttotal: 35.7s\tremaining: 1m 4s\n",
      "357:\tlearn: 0.9109547\ttest: 0.7315011\tbest: 0.7327863 (302)\ttotal: 35.8s\tremaining: 1m 4s\n",
      "358:\tlearn: 0.9112725\ttest: 0.7323001\tbest: 0.7327863 (302)\ttotal: 35.9s\tremaining: 1m 4s\n",
      "359:\tlearn: 0.9114023\ttest: 0.7319479\tbest: 0.7327863 (302)\ttotal: 36.1s\tremaining: 1m 4s\n",
      "360:\tlearn: 0.9115435\ttest: 0.7325581\tbest: 0.7327863 (302)\ttotal: 36.2s\tremaining: 1m 4s\n",
      "361:\tlearn: 0.9116140\ttest: 0.7322058\tbest: 0.7327863 (302)\ttotal: 36.3s\tremaining: 1m 3s\n",
      "362:\tlearn: 0.9119383\ttest: 0.7326872\tbest: 0.7327863 (302)\ttotal: 36.4s\tremaining: 1m 3s\n",
      "363:\tlearn: 0.9118734\ttest: 0.7330396\tbest: 0.7330396 (363)\ttotal: 36.5s\tremaining: 1m 3s\n",
      "364:\tlearn: 0.9119621\ttest: 0.7334274\tbest: 0.7334274 (364)\ttotal: 36.6s\tremaining: 1m 3s\n",
      "365:\tlearn: 0.9120794\ttest: 0.7333921\tbest: 0.7334274 (364)\ttotal: 36.7s\tremaining: 1m 3s\n",
      "366:\tlearn: 0.9123148\ttest: 0.7337445\tbest: 0.7337445 (366)\ttotal: 36.8s\tremaining: 1m 3s\n",
      "367:\tlearn: 0.9123797\ttest: 0.7339676\tbest: 0.7339676 (367)\ttotal: 36.9s\tremaining: 1m 3s\n",
      "368:\tlearn: 0.9124206\ttest: 0.7336152\tbest: 0.7339676 (367)\ttotal: 37s\tremaining: 1m 3s\n",
      "369:\tlearn: 0.9123035\ttest: 0.7342978\tbest: 0.7342978 (369)\ttotal: 37.1s\tremaining: 1m 3s\n"
     ]
    },
    {
     "name": "stdout",
     "output_type": "stream",
     "text": [
      "370:\tlearn: 0.9123035\ttest: 0.7347803\tbest: 0.7347803 (370)\ttotal: 37.2s\tremaining: 1m 3s\n",
      "371:\tlearn: 0.9124331\ttest: 0.7349100\tbest: 0.7349100 (371)\ttotal: 37.3s\tremaining: 1m 2s\n",
      "372:\tlearn: 0.9124684\ttest: 0.7352630\tbest: 0.7352630 (372)\ttotal: 37.4s\tremaining: 1m 2s\n",
      "373:\tlearn: 0.9125742\ttest: 0.7353928\tbest: 0.7353928 (373)\ttotal: 37.5s\tremaining: 1m 2s\n",
      "374:\tlearn: 0.9128152\ttest: 0.7344852\tbest: 0.7353928 (373)\ttotal: 37.6s\tremaining: 1m 2s\n",
      "375:\tlearn: 0.9128800\ttest: 0.7342620\tbest: 0.7353928 (373)\ttotal: 37.7s\tremaining: 1m 2s\n",
      "376:\tlearn: 0.9127743\ttest: 0.7344274\tbest: 0.7353928 (373)\ttotal: 37.8s\tremaining: 1m 2s\n",
      "377:\tlearn: 0.9130562\ttest: 0.7339094\tbest: 0.7353928 (373)\ttotal: 37.9s\tremaining: 1m 2s\n",
      "378:\tlearn: 0.9131562\ttest: 0.7336506\tbest: 0.7353928 (373)\ttotal: 38s\tremaining: 1m 2s\n",
      "379:\tlearn: 0.9132970\ttest: 0.7338738\tbest: 0.7353928 (373)\ttotal: 38.1s\tremaining: 1m 2s\n",
      "380:\tlearn: 0.9133027\ttest: 0.7335213\tbest: 0.7353928 (373)\ttotal: 38.2s\tremaining: 1m 2s\n",
      "381:\tlearn: 0.9134266\ttest: 0.7337445\tbest: 0.7353928 (373)\ttotal: 38.3s\tremaining: 1m 2s\n",
      "382:\tlearn: 0.9134618\ttest: 0.7332629\tbest: 0.7353928 (373)\ttotal: 38.5s\tremaining: 1m 1s\n",
      "383:\tlearn: 0.9132731\ttest: 0.7332981\tbest: 0.7353928 (373)\ttotal: 38.6s\tremaining: 1m 1s\n",
      "384:\tlearn: 0.9135842\ttest: 0.7337091\tbest: 0.7353928 (373)\ttotal: 38.7s\tremaining: 1m 1s\n",
      "385:\tlearn: 0.9136898\ttest: 0.7338383\tbest: 0.7353928 (373)\ttotal: 38.8s\tremaining: 1m 1s\n",
      "386:\tlearn: 0.9135083\ttest: 0.7339676\tbest: 0.7353928 (373)\ttotal: 38.9s\tremaining: 1m 1s\n",
      "387:\tlearn: 0.9135379\ttest: 0.7334860\tbest: 0.7353928 (373)\ttotal: 39s\tremaining: 1m 1s\n",
      "388:\tlearn: 0.9136138\ttest: 0.7341906\tbest: 0.7353928 (373)\ttotal: 39.1s\tremaining: 1m 1s\n",
      "389:\tlearn: 0.9137490\ttest: 0.7340032\tbest: 0.7353928 (373)\ttotal: 39.2s\tremaining: 1m 1s\n",
      "390:\tlearn: 0.9138897\ttest: 0.7341906\tbest: 0.7353928 (373)\ttotal: 39.3s\tremaining: 1m 1s\n",
      "391:\tlearn: 0.9140192\ttest: 0.7339320\tbest: 0.7353928 (373)\ttotal: 39.4s\tremaining: 1m 1s\n",
      "392:\tlearn: 0.9141895\ttest: 0.7338028\tbest: 0.7353928 (373)\ttotal: 39.5s\tremaining: 1m\n",
      "393:\tlearn: 0.9142302\ttest: 0.7341549\tbest: 0.7353928 (373)\ttotal: 39.6s\tremaining: 1m\n",
      "394:\tlearn: 0.9144004\ttest: 0.7340257\tbest: 0.7353928 (373)\ttotal: 39.7s\tremaining: 1m\n",
      "395:\tlearn: 0.9146057\ttest: 0.7336383\tbest: 0.7353928 (373)\ttotal: 39.8s\tremaining: 1m\n",
      "396:\tlearn: 0.9146519\ttest: 0.7336030\tbest: 0.7353928 (373)\ttotal: 39.9s\tremaining: 1m\n",
      "397:\tlearn: 0.9145816\ttest: 0.7336030\tbest: 0.7353928 (373)\ttotal: 40s\tremaining: 1m\n",
      "398:\tlearn: 0.9145410\ttest: 0.7328647\tbest: 0.7353928 (373)\ttotal: 40.1s\tremaining: 1m\n",
      "399:\tlearn: 0.9145947\ttest: 0.7324785\tbest: 0.7353928 (373)\ttotal: 40.2s\tremaining: 1m\n",
      "400:\tlearn: 0.9146298\ttest: 0.7324785\tbest: 0.7353928 (373)\ttotal: 40.3s\tremaining: 1m\n",
      "401:\tlearn: 0.9146705\ttest: 0.7330523\tbest: 0.7353928 (373)\ttotal: 40.4s\tremaining: 1m\n",
      "402:\tlearn: 0.9148461\ttest: 0.7334388\tbest: 0.7353928 (373)\ttotal: 40.5s\tremaining: 1m\n",
      "403:\tlearn: 0.9149811\ttest: 0.7336613\tbest: 0.7353928 (373)\ttotal: 40.6s\tremaining: 59.9s\n",
      "404:\tlearn: 0.9151215\ttest: 0.7340126\tbest: 0.7353928 (373)\ttotal: 40.7s\tremaining: 59.8s\n",
      "405:\tlearn: 0.9152915\ttest: 0.7346221\tbest: 0.7353928 (373)\ttotal: 40.8s\tremaining: 59.8s\n",
      "406:\tlearn: 0.9154670\ttest: 0.7347154\tbest: 0.7353928 (373)\ttotal: 41s\tremaining: 59.7s\n",
      "407:\tlearn: 0.9157180\ttest: 0.7349376\tbest: 0.7353928 (373)\ttotal: 41.1s\tremaining: 59.6s\n",
      "408:\tlearn: 0.9157180\ttest: 0.7350668\tbest: 0.7353928 (373)\ttotal: 41.2s\tremaining: 59.5s\n",
      "409:\tlearn: 0.9158177\ttest: 0.7349376\tbest: 0.7353928 (373)\ttotal: 41.3s\tremaining: 59.4s\n",
      "410:\tlearn: 0.9159821\ttest: 0.7348086\tbest: 0.7353928 (373)\ttotal: 41.4s\tremaining: 59.3s\n",
      "411:\tlearn: 0.9160118\ttest: 0.7354544\tbest: 0.7354544 (411)\ttotal: 41.5s\tremaining: 59.2s\n",
      "412:\tlearn: 0.9161520\ttest: 0.7353251\tbest: 0.7354544 (411)\ttotal: 41.6s\tremaining: 59.1s\n",
      "413:\tlearn: 0.9164565\ttest: 0.7345506\tbest: 0.7354544 (411)\ttotal: 41.7s\tremaining: 59s\n",
      "414:\tlearn: 0.9165966\ttest: 0.7342927\tbest: 0.7354544 (411)\ttotal: 41.8s\tremaining: 58.9s\n",
      "415:\tlearn: 0.9168417\ttest: 0.7348658\tbest: 0.7354544 (411)\ttotal: 41.9s\tremaining: 58.8s\n",
      "416:\tlearn: 0.9169414\ttest: 0.7348658\tbest: 0.7354544 (411)\ttotal: 42s\tremaining: 58.7s\n",
      "417:\tlearn: 0.9170814\ttest: 0.7349947\tbest: 0.7354544 (411)\ttotal: 42.1s\tremaining: 58.6s\n",
      "418:\tlearn: 0.9171164\ttest: 0.7351446\tbest: 0.7354544 (411)\ttotal: 42.2s\tremaining: 58.5s\n",
      "419:\tlearn: 0.9171756\ttest: 0.7351446\tbest: 0.7354544 (411)\ttotal: 42.3s\tremaining: 58.4s\n",
      "420:\tlearn: 0.9171324\ttest: 0.7346653\tbest: 0.7354544 (411)\ttotal: 42.4s\tremaining: 58.3s\n",
      "421:\tlearn: 0.9172966\ttest: 0.7347940\tbest: 0.7354544 (411)\ttotal: 42.5s\tremaining: 58.3s\n",
      "422:\tlearn: 0.9174312\ttest: 0.7355314\tbest: 0.7355314 (422)\ttotal: 42.6s\tremaining: 58.2s\n",
      "423:\tlearn: 0.9175308\ttest: 0.7357531\tbest: 0.7357531 (423)\ttotal: 42.7s\tremaining: 58.1s\n",
      "424:\tlearn: 0.9177299\ttest: 0.7357531\tbest: 0.7357531 (423)\ttotal: 42.8s\tremaining: 58s\n",
      "425:\tlearn: 0.9180095\ttest: 0.7359019\tbest: 0.7359019 (425)\ttotal: 43s\tremaining: 57.9s\n",
      "426:\tlearn: 0.9182593\ttest: 0.7359383\tbest: 0.7359383 (426)\ttotal: 43.1s\tremaining: 57.8s\n",
      "427:\tlearn: 0.9182593\ttest: 0.7359383\tbest: 0.7359383 (426)\ttotal: 43.2s\tremaining: 57.7s\n",
      "428:\tlearn: 0.9185037\ttest: 0.7361598\tbest: 0.7361598 (428)\ttotal: 43.3s\tremaining: 57.6s\n",
      "429:\tlearn: 0.9185386\ttest: 0.7364178\tbest: 0.7364178 (429)\ttotal: 43.4s\tremaining: 57.5s\n",
      "430:\tlearn: 0.9183588\ttest: 0.7362888\tbest: 0.7364178 (429)\ttotal: 43.5s\tremaining: 57.4s\n",
      "431:\tlearn: 0.9183344\ttest: 0.7360308\tbest: 0.7364178 (429)\ttotal: 43.6s\tremaining: 57.3s\n",
      "432:\tlearn: 0.9183344\ttest: 0.7357731\tbest: 0.7364178 (429)\ttotal: 43.7s\tremaining: 57.2s\n",
      "433:\tlearn: 0.9185386\ttest: 0.7360868\tbest: 0.7364178 (429)\ttotal: 43.8s\tremaining: 57.1s\n",
      "434:\tlearn: 0.9186328\ttest: 0.7361791\tbest: 0.7364178 (429)\ttotal: 43.9s\tremaining: 57s\n",
      "435:\tlearn: 0.9187724\ttest: 0.7364002\tbest: 0.7364178 (429)\ttotal: 44s\tremaining: 56.9s\n",
      "436:\tlearn: 0.9188020\ttest: 0.7366579\tbest: 0.7366579 (436)\ttotal: 44.1s\tremaining: 56.8s\n",
      "437:\tlearn: 0.9188910\ttest: 0.7367868\tbest: 0.7367868 (437)\ttotal: 44.2s\tremaining: 56.7s\n",
      "438:\tlearn: 0.9189311\ttest: 0.7370079\tbest: 0.7370079 (438)\ttotal: 44.3s\tremaining: 56.6s\n",
      "439:\tlearn: 0.9190707\ttest: 0.7370999\tbest: 0.7370999 (439)\ttotal: 44.4s\tremaining: 56.5s\n",
      "440:\tlearn: 0.9191404\ttest: 0.7369710\tbest: 0.7370999 (439)\ttotal: 44.5s\tremaining: 56.4s\n",
      "441:\tlearn: 0.9191753\ttest: 0.7375415\tbest: 0.7375415 (441)\ttotal: 44.6s\tremaining: 56.3s\n",
      "442:\tlearn: 0.9193793\ttest: 0.7375415\tbest: 0.7375415 (441)\ttotal: 44.7s\tremaining: 56.2s\n",
      "443:\tlearn: 0.9194142\ttest: 0.7379286\tbest: 0.7379286 (443)\ttotal: 44.8s\tremaining: 56.1s\n",
      "444:\tlearn: 0.9194142\ttest: 0.7381869\tbest: 0.7381869 (444)\ttotal: 44.9s\tremaining: 56s\n",
      "445:\tlearn: 0.9195536\ttest: 0.7385369\tbest: 0.7385369 (445)\ttotal: 45s\tremaining: 55.9s\n",
      "446:\tlearn: 0.9196233\ttest: 0.7381869\tbest: 0.7385369 (445)\ttotal: 45.1s\tremaining: 55.8s\n",
      "447:\tlearn: 0.9196826\ttest: 0.7383538\tbest: 0.7385369 (445)\ttotal: 45.2s\tremaining: 55.7s\n",
      "448:\tlearn: 0.9197471\ttest: 0.7383538\tbest: 0.7385369 (445)\ttotal: 45.3s\tremaining: 55.6s\n",
      "449:\tlearn: 0.9199213\ttest: 0.7387040\tbest: 0.7387040 (449)\ttotal: 45.4s\tremaining: 55.5s\n",
      "450:\tlearn: 0.9198271\ttest: 0.7384831\tbest: 0.7387040 (449)\ttotal: 45.5s\tremaining: 55.3s\n",
      "451:\tlearn: 0.9200064\ttest: 0.7387577\tbest: 0.7387577 (451)\ttotal: 45.6s\tremaining: 55.2s\n",
      "452:\tlearn: 0.9200013\ttest: 0.7384992\tbest: 0.7387577 (451)\ttotal: 45.7s\tremaining: 55.1s\n",
      "453:\tlearn: 0.9200168\ttest: 0.7388490\tbest: 0.7388490 (453)\ttotal: 45.8s\tremaining: 55s\n",
      "454:\tlearn: 0.9201857\ttest: 0.7387198\tbest: 0.7388490 (453)\ttotal: 45.9s\tremaining: 54.9s\n",
      "455:\tlearn: 0.9203146\ttest: 0.7389783\tbest: 0.7389783 (455)\ttotal: 46s\tremaining: 54.8s\n",
      "456:\tlearn: 0.9205428\ttest: 0.7390696\tbest: 0.7390696 (456)\ttotal: 46.1s\tremaining: 54.7s\n",
      "457:\tlearn: 0.9205479\ttest: 0.7390696\tbest: 0.7390696 (456)\ttotal: 46.2s\tremaining: 54.6s\n",
      "458:\tlearn: 0.9206523\ttest: 0.7386443\tbest: 0.7390696 (456)\ttotal: 46.3s\tremaining: 54.5s\n",
      "459:\tlearn: 0.9208211\ttest: 0.7383863\tbest: 0.7390696 (456)\ttotal: 46.4s\tremaining: 54.4s\n",
      "460:\tlearn: 0.9209101\ttest: 0.7372645\tbest: 0.7390696 (456)\ttotal: 46.5s\tremaining: 54.3s\n",
      "461:\tlearn: 0.9210442\ttest: 0.7373931\tbest: 0.7390696 (456)\ttotal: 46.6s\tremaining: 54.2s\n",
      "462:\tlearn: 0.9211086\ttest: 0.7377793\tbest: 0.7390696 (456)\ttotal: 46.7s\tremaining: 54.1s\n"
     ]
    },
    {
     "name": "stdout",
     "output_type": "stream",
     "text": [
      "463:\tlearn: 0.9210246\ttest: 0.7373931\tbest: 0.7390696 (456)\ttotal: 46.8s\tremaining: 54s\n",
      "464:\tlearn: 0.9208313\ttest: 0.7376505\tbest: 0.7390696 (456)\ttotal: 46.9s\tremaining: 53.9s\n",
      "465:\tlearn: 0.9209305\ttest: 0.7375218\tbest: 0.7390696 (456)\ttotal: 47s\tremaining: 53.8s\n",
      "466:\tlearn: 0.9210246\ttest: 0.7376877\tbest: 0.7390696 (456)\ttotal: 47.1s\tremaining: 53.7s\n",
      "467:\tlearn: 0.9210594\ttest: 0.7374302\tbest: 0.7390696 (456)\ttotal: 47.2s\tremaining: 53.6s\n",
      "468:\tlearn: 0.9210196\ttest: 0.7372097\tbest: 0.7390696 (456)\ttotal: 47.3s\tremaining: 53.5s\n",
      "469:\tlearn: 0.9209551\ttest: 0.7373385\tbest: 0.7390696 (456)\ttotal: 47.4s\tremaining: 53.4s\n",
      "470:\tlearn: 0.9212680\ttest: 0.7373385\tbest: 0.7390696 (456)\ttotal: 47.5s\tremaining: 53.3s\n",
      "471:\tlearn: 0.9214019\ttest: 0.7373385\tbest: 0.7390696 (456)\ttotal: 47.6s\tremaining: 53.2s\n",
      "472:\tlearn: 0.9213671\ttest: 0.7376877\tbest: 0.7390696 (456)\ttotal: 47.7s\tremaining: 53.1s\n",
      "473:\tlearn: 0.9215756\ttest: 0.7376877\tbest: 0.7390696 (456)\ttotal: 47.8s\tremaining: 53s\n",
      "474:\tlearn: 0.9215705\ttest: 0.7374672\tbest: 0.7390696 (456)\ttotal: 47.9s\tremaining: 52.9s\n",
      "475:\tlearn: 0.9217044\ttest: 0.7375961\tbest: 0.7390696 (456)\ttotal: 48s\tremaining: 52.8s\n",
      "476:\tlearn: 0.9217391\ttest: 0.7373755\tbest: 0.7390696 (456)\ttotal: 48.1s\tremaining: 52.7s\n",
      "477:\tlearn: 0.9218086\ttest: 0.7373755\tbest: 0.7390696 (456)\ttotal: 48.2s\tremaining: 52.6s\n",
      "478:\tlearn: 0.9221904\ttest: 0.7373385\tbest: 0.7390696 (456)\ttotal: 48.3s\tremaining: 52.5s\n",
      "479:\tlearn: 0.9223292\ttest: 0.7373385\tbest: 0.7390696 (456)\ttotal: 48.4s\tremaining: 52.4s\n",
      "480:\tlearn: 0.9223738\ttest: 0.7373385\tbest: 0.7390696 (456)\ttotal: 48.5s\tremaining: 52.3s\n",
      "481:\tlearn: 0.9225669\ttest: 0.7375589\tbest: 0.7390696 (456)\ttotal: 48.6s\tremaining: 52.2s\n",
      "482:\tlearn: 0.9224679\ttest: 0.7376877\tbest: 0.7390696 (456)\ttotal: 48.7s\tremaining: 52.1s\n",
      "483:\tlearn: 0.9226066\ttest: 0.7378539\tbest: 0.7390696 (456)\ttotal: 48.8s\tremaining: 52s\n",
      "484:\tlearn: 0.9225719\ttest: 0.7378539\tbest: 0.7390696 (456)\ttotal: 48.9s\tremaining: 51.9s\n",
      "485:\tlearn: 0.9227056\ttest: 0.7378166\tbest: 0.7390696 (456)\ttotal: 49s\tremaining: 51.8s\n",
      "486:\tlearn: 0.9227700\ttest: 0.7378166\tbest: 0.7390696 (456)\ttotal: 49.1s\tremaining: 51.7s\n",
      "487:\tlearn: 0.9228343\ttest: 0.7374302\tbest: 0.7390696 (456)\ttotal: 49.2s\tremaining: 51.6s\n",
      "488:\tlearn: 0.9227700\ttest: 0.7375589\tbest: 0.7390696 (456)\ttotal: 49.3s\tremaining: 51.5s\n",
      "489:\tlearn: 0.9228740\ttest: 0.7375589\tbest: 0.7390696 (456)\ttotal: 49.4s\tremaining: 51.4s\n",
      "490:\tlearn: 0.9228443\ttest: 0.7370810\tbest: 0.7390696 (456)\ttotal: 49.5s\tremaining: 51.3s\n",
      "491:\tlearn: 0.9228393\ttest: 0.7373385\tbest: 0.7390696 (456)\ttotal: 49.6s\tremaining: 51.2s\n",
      "492:\tlearn: 0.9231462\ttest: 0.7374302\tbest: 0.7390696 (456)\ttotal: 49.7s\tremaining: 51.1s\n",
      "493:\tlearn: 0.9232798\ttest: 0.7376877\tbest: 0.7390696 (456)\ttotal: 49.8s\tremaining: 51s\n",
      "494:\tlearn: 0.9233837\ttest: 0.7377793\tbest: 0.7390696 (456)\ttotal: 49.9s\tremaining: 50.9s\n",
      "495:\tlearn: 0.9233837\ttest: 0.7377793\tbest: 0.7390696 (456)\ttotal: 50s\tremaining: 50.8s\n",
      "496:\tlearn: 0.9234134\ttest: 0.7380744\tbest: 0.7390696 (456)\ttotal: 50.1s\tremaining: 50.7s\n",
      "497:\tlearn: 0.9235767\ttest: 0.7383325\tbest: 0.7390696 (456)\ttotal: 50.2s\tremaining: 50.6s\n",
      "498:\tlearn: 0.9236361\ttest: 0.7383325\tbest: 0.7390696 (456)\ttotal: 50.3s\tremaining: 50.5s\n",
      "499:\tlearn: 0.9236361\ttest: 0.7384615\tbest: 0.7390696 (456)\ttotal: 50.4s\tremaining: 50.4s\n",
      "500:\tlearn: 0.9238686\ttest: 0.7385907\tbest: 0.7390696 (456)\ttotal: 50.5s\tremaining: 50.3s\n",
      "501:\tlearn: 0.9238438\ttest: 0.7385907\tbest: 0.7390696 (456)\ttotal: 50.6s\tremaining: 50.2s\n",
      "502:\tlearn: 0.9239428\ttest: 0.7385530\tbest: 0.7390696 (456)\ttotal: 50.7s\tremaining: 50.1s\n",
      "503:\tlearn: 0.9239822\ttest: 0.7388646\tbest: 0.7390696 (456)\ttotal: 50.8s\tremaining: 50s\n",
      "504:\tlearn: 0.9240763\ttest: 0.7396543\tbest: 0.7396543 (504)\ttotal: 50.9s\tremaining: 49.9s\n",
      "505:\tlearn: 0.9240909\ttest: 0.7395251\tbest: 0.7396543 (504)\ttotal: 51s\tremaining: 49.8s\n",
      "506:\tlearn: 0.9241255\ttest: 0.7395251\tbest: 0.7396543 (504)\ttotal: 51.1s\tremaining: 49.7s\n",
      "507:\tlearn: 0.9243579\ttest: 0.7397069\tbest: 0.7397069 (507)\ttotal: 51.2s\tremaining: 49.6s\n",
      "508:\tlearn: 0.9244616\ttest: 0.7393580\tbest: 0.7397069 (507)\ttotal: 51.3s\tremaining: 49.5s\n",
      "509:\tlearn: 0.9245210\ttest: 0.7392290\tbest: 0.7397069 (507)\ttotal: 51.4s\tremaining: 49.4s\n",
      "510:\tlearn: 0.9245902\ttest: 0.7390091\tbest: 0.7397069 (507)\ttotal: 51.5s\tremaining: 49.3s\n",
      "511:\tlearn: 0.9246496\ttest: 0.7390091\tbest: 0.7397069 (507)\ttotal: 51.6s\tremaining: 49.2s\n",
      "512:\tlearn: 0.9245902\ttest: 0.7393961\tbest: 0.7397069 (507)\ttotal: 51.7s\tremaining: 49.1s\n",
      "513:\tlearn: 0.9247236\ttest: 0.7394870\tbest: 0.7397069 (507)\ttotal: 51.8s\tremaining: 49s\n",
      "514:\tlearn: 0.9247830\ttest: 0.7394870\tbest: 0.7397069 (507)\ttotal: 51.9s\tremaining: 48.9s\n",
      "515:\tlearn: 0.9248473\ttest: 0.7392670\tbest: 0.7397069 (507)\ttotal: 52s\tremaining: 48.8s\n",
      "516:\tlearn: 0.9250844\ttest: 0.7391001\tbest: 0.7397069 (507)\ttotal: 52.1s\tremaining: 48.7s\n",
      "517:\tlearn: 0.9251189\ttest: 0.7388802\tbest: 0.7397069 (507)\ttotal: 52.2s\tremaining: 48.6s\n",
      "518:\tlearn: 0.9252820\ttest: 0.7390091\tbest: 0.7397069 (507)\ttotal: 52.3s\tremaining: 48.5s\n",
      "519:\tlearn: 0.9253511\ttest: 0.7392290\tbest: 0.7397069 (507)\ttotal: 52.4s\tremaining: 48.4s\n",
      "520:\tlearn: 0.9253415\ttest: 0.7388424\tbest: 0.7397069 (507)\ttotal: 52.5s\tremaining: 48.3s\n",
      "521:\tlearn: 0.9255880\ttest: 0.7391153\tbest: 0.7397069 (507)\ttotal: 52.6s\tremaining: 48.2s\n",
      "522:\tlearn: 0.9256522\ttest: 0.7394636\tbest: 0.7397069 (507)\ttotal: 52.7s\tremaining: 48.1s\n",
      "523:\tlearn: 0.9256867\ttest: 0.7396831\tbest: 0.7397069 (507)\ttotal: 52.8s\tremaining: 48s\n",
      "524:\tlearn: 0.9257260\ttest: 0.7395543\tbest: 0.7397069 (507)\ttotal: 52.9s\tremaining: 47.9s\n",
      "525:\tlearn: 0.9257951\ttest: 0.7393876\tbest: 0.7397069 (507)\ttotal: 53s\tremaining: 47.8s\n",
      "526:\tlearn: 0.9260365\ttest: 0.7396069\tbest: 0.7397069 (507)\ttotal: 53.1s\tremaining: 47.7s\n",
      "527:\tlearn: 0.9261400\ttest: 0.7396069\tbest: 0.7397069 (507)\ttotal: 53.2s\tremaining: 47.6s\n",
      "528:\tlearn: 0.9262387\ttest: 0.7400835\tbest: 0.7400835 (528)\ttotal: 53.3s\tremaining: 47.5s\n",
      "529:\tlearn: 0.9262732\ttest: 0.7402123\tbest: 0.7402123 (529)\ttotal: 53.4s\tremaining: 47.4s\n",
      "530:\tlearn: 0.9264111\ttest: 0.7404700\tbest: 0.7404700 (530)\ttotal: 53.5s\tremaining: 47.3s\n",
      "531:\tlearn: 0.9264800\ttest: 0.7404700\tbest: 0.7404700 (530)\ttotal: 53.6s\tremaining: 47.2s\n",
      "532:\tlearn: 0.9267212\ttest: 0.7406892\tbest: 0.7406892 (532)\ttotal: 53.7s\tremaining: 47.1s\n",
      "533:\tlearn: 0.9268199\ttest: 0.7405217\tbest: 0.7406892 (532)\ttotal: 53.8s\tremaining: 47s\n",
      "534:\tlearn: 0.9269138\ttest: 0.7406505\tbest: 0.7406892 (532)\ttotal: 54s\tremaining: 46.9s\n",
      "535:\tlearn: 0.9270516\ttest: 0.7404315\tbest: 0.7406892 (532)\ttotal: 54s\tremaining: 46.8s\n",
      "536:\tlearn: 0.9270516\ttest: 0.7404315\tbest: 0.7406892 (532)\ttotal: 54.1s\tremaining: 46.7s\n",
      "537:\tlearn: 0.9271158\ttest: 0.7406892\tbest: 0.7406892 (532)\ttotal: 54.3s\tremaining: 46.6s\n",
      "538:\tlearn: 0.9271846\ttest: 0.7411273\tbest: 0.7411273 (538)\ttotal: 54.4s\tremaining: 46.5s\n",
      "539:\tlearn: 0.9273567\ttest: 0.7409984\tbest: 0.7411273 (538)\ttotal: 54.5s\tremaining: 46.4s\n",
      "540:\tlearn: 0.9274990\ttest: 0.7412174\tbest: 0.7412174 (540)\ttotal: 54.6s\tremaining: 46.3s\n",
      "541:\tlearn: 0.9276227\ttest: 0.7419523\tbest: 0.7419523 (541)\ttotal: 54.7s\tremaining: 46.2s\n",
      "542:\tlearn: 0.9276618\ttest: 0.7420814\tbest: 0.7420814 (542)\ttotal: 54.8s\tremaining: 46.1s\n",
      "543:\tlearn: 0.9277649\ttest: 0.7423003\tbest: 0.7423003 (543)\ttotal: 54.9s\tremaining: 46s\n",
      "544:\tlearn: 0.9280308\ttest: 0.7421318\tbest: 0.7423003 (543)\ttotal: 55s\tremaining: 45.9s\n",
      "545:\tlearn: 0.9281981\ttest: 0.7424796\tbest: 0.7424796 (545)\ttotal: 55.1s\tremaining: 45.8s\n",
      "546:\tlearn: 0.9282232\ttest: 0.7423505\tbest: 0.7424796 (545)\ttotal: 55.2s\tremaining: 45.7s\n",
      "547:\tlearn: 0.9283905\ttest: 0.7424400\tbest: 0.7424796 (545)\ttotal: 55.3s\tremaining: 45.6s\n",
      "548:\tlearn: 0.9284248\ttest: 0.7429167\tbest: 0.7429167 (548)\ttotal: 55.4s\tremaining: 45.5s\n",
      "549:\tlearn: 0.9285325\ttest: 0.7421427\tbest: 0.7429167 (548)\ttotal: 55.5s\tremaining: 45.4s\n",
      "550:\tlearn: 0.9286401\ttest: 0.7424900\tbest: 0.7429167 (548)\ttotal: 55.6s\tremaining: 45.3s\n",
      "551:\tlearn: 0.9287775\ttest: 0.7421929\tbest: 0.7429167 (548)\ttotal: 55.7s\tremaining: 45.2s\n",
      "552:\tlearn: 0.9287821\ttest: 0.7418068\tbest: 0.7429167 (548)\ttotal: 55.8s\tremaining: 45.1s\n",
      "553:\tlearn: 0.9288507\ttest: 0.7419355\tbest: 0.7429167 (548)\ttotal: 55.9s\tremaining: 45s\n",
      "554:\tlearn: 0.9289239\ttest: 0.7420250\tbest: 0.7429167 (548)\ttotal: 56s\tremaining: 44.9s\n",
      "555:\tlearn: 0.9289537\ttest: 0.7421536\tbest: 0.7429167 (548)\ttotal: 56.1s\tremaining: 44.8s\n"
     ]
    },
    {
     "name": "stdout",
     "output_type": "stream",
     "text": [
      "556:\tlearn: 0.9290476\ttest: 0.7428472\tbest: 0.7429167 (548)\ttotal: 56.2s\tremaining: 44.7s\n",
      "557:\tlearn: 0.9291369\ttest: 0.7423717\tbest: 0.7429167 (548)\ttotal: 56.3s\tremaining: 44.6s\n",
      "558:\tlearn: 0.9291460\ttest: 0.7421144\tbest: 0.7429167 (548)\ttotal: 56.4s\tremaining: 44.5s\n",
      "559:\tlearn: 0.9291551\ttest: 0.7423717\tbest: 0.7429167 (548)\ttotal: 56.5s\tremaining: 44.4s\n",
      "560:\tlearn: 0.9291551\ttest: 0.7423717\tbest: 0.7429167 (548)\ttotal: 56.6s\tremaining: 44.3s\n",
      "561:\tlearn: 0.9290521\ttest: 0.7421536\tbest: 0.7429167 (548)\ttotal: 56.7s\tremaining: 44.2s\n",
      "562:\tlearn: 0.9291207\ttest: 0.7423717\tbest: 0.7429167 (548)\ttotal: 56.8s\tremaining: 44.1s\n",
      "563:\tlearn: 0.9293311\ttest: 0.7422037\tbest: 0.7429167 (548)\ttotal: 56.9s\tremaining: 44s\n",
      "564:\tlearn: 0.9294593\ttest: 0.7425897\tbest: 0.7429167 (548)\ttotal: 57s\tremaining: 43.9s\n",
      "565:\tlearn: 0.9296009\ttest: 0.7420752\tbest: 0.7429167 (548)\ttotal: 57.1s\tremaining: 43.8s\n",
      "566:\tlearn: 0.9296054\ttest: 0.7423324\tbest: 0.7429167 (548)\ttotal: 57.2s\tremaining: 43.7s\n",
      "567:\tlearn: 0.9297038\ttest: 0.7425502\tbest: 0.7429167 (548)\ttotal: 57.3s\tremaining: 43.6s\n",
      "568:\tlearn: 0.9298364\ttest: 0.7424216\tbest: 0.7429167 (548)\ttotal: 57.4s\tremaining: 43.5s\n",
      "569:\tlearn: 0.9300375\ttest: 0.7422538\tbest: 0.7429167 (548)\ttotal: 57.5s\tremaining: 43.4s\n",
      "570:\tlearn: 0.9300077\ttest: 0.7422538\tbest: 0.7429167 (548)\ttotal: 57.6s\tremaining: 43.3s\n",
      "571:\tlearn: 0.9300717\ttest: 0.7419076\tbest: 0.7429167 (548)\ttotal: 57.7s\tremaining: 43.2s\n",
      "572:\tlearn: 0.9300717\ttest: 0.7419076\tbest: 0.7429167 (548)\ttotal: 57.8s\tremaining: 43.1s\n",
      "573:\tlearn: 0.9300375\ttest: 0.7419076\tbest: 0.7429167 (548)\ttotal: 57.9s\tremaining: 43s\n",
      "574:\tlearn: 0.9299392\ttest: 0.7415614\tbest: 0.7429167 (548)\ttotal: 58s\tremaining: 42.9s\n",
      "575:\tlearn: 0.9300032\ttest: 0.7417792\tbest: 0.7429167 (548)\ttotal: 58.1s\tremaining: 42.8s\n",
      "576:\tlearn: 0.9299689\ttest: 0.7421253\tbest: 0.7429167 (548)\ttotal: 58.2s\tremaining: 42.7s\n",
      "577:\tlearn: 0.9301060\ttest: 0.7423430\tbest: 0.7429167 (548)\ttotal: 58.3s\tremaining: 42.6s\n",
      "578:\tlearn: 0.9301655\ttest: 0.7423430\tbest: 0.7429167 (548)\ttotal: 58.4s\tremaining: 42.5s\n",
      "579:\tlearn: 0.9301953\ttest: 0.7423430\tbest: 0.7429167 (548)\ttotal: 58.5s\tremaining: 42.4s\n",
      "580:\tlearn: 0.9302981\ttest: 0.7424321\tbest: 0.7429167 (548)\ttotal: 58.6s\tremaining: 42.3s\n",
      "581:\tlearn: 0.9304648\ttest: 0.7425606\tbest: 0.7429167 (548)\ttotal: 58.7s\tremaining: 42.2s\n",
      "582:\tlearn: 0.9303621\ttest: 0.7422145\tbest: 0.7429167 (548)\ttotal: 58.8s\tremaining: 42.1s\n",
      "583:\tlearn: 0.9303279\ttest: 0.7420861\tbest: 0.7429167 (548)\ttotal: 58.9s\tremaining: 42s\n",
      "584:\tlearn: 0.9304813\ttest: 0.7420861\tbest: 0.7429167 (548)\ttotal: 59s\tremaining: 41.9s\n",
      "585:\tlearn: 0.9304128\ttest: 0.7418685\tbest: 0.7429167 (548)\ttotal: 59.1s\tremaining: 41.8s\n",
      "586:\tlearn: 0.9306138\ttest: 0.7425606\tbest: 0.7429167 (548)\ttotal: 59.2s\tremaining: 41.7s\n",
      "587:\tlearn: 0.9306094\ttest: 0.7424321\tbest: 0.7429167 (548)\ttotal: 59.3s\tremaining: 41.6s\n",
      "588:\tlearn: 0.9306436\ttest: 0.7424321\tbest: 0.7429167 (548)\ttotal: 59.4s\tremaining: 41.5s\n",
      "589:\tlearn: 0.9309682\ttest: 0.7427781\tbest: 0.7429167 (548)\ttotal: 59.5s\tremaining: 41.4s\n",
      "590:\tlearn: 0.9308567\ttest: 0.7426000\tbest: 0.7429167 (548)\ttotal: 59.6s\tremaining: 41.3s\n",
      "591:\tlearn: 0.9308655\ttest: 0.7427285\tbest: 0.7429167 (548)\ttotal: 59.7s\tremaining: 41.2s\n",
      "592:\tlearn: 0.9310621\ttest: 0.7429858\tbest: 0.7429858 (592)\ttotal: 59.8s\tremaining: 41.1s\n",
      "593:\tlearn: 0.9311990\ttest: 0.7437673\tbest: 0.7437673 (593)\ttotal: 59.9s\tremaining: 41s\n",
      "594:\tlearn: 0.9312244\ttest: 0.7440249\tbest: 0.7440249 (594)\ttotal: 1m\tremaining: 40.9s\n",
      "595:\tlearn: 0.9313182\ttest: 0.7440249\tbest: 0.7440249 (594)\ttotal: 1m\tremaining: 40.8s\n",
      "596:\tlearn: 0.9312244\ttest: 0.7440652\tbest: 0.7440652 (596)\ttotal: 1m\tremaining: 40.7s\n",
      "597:\tlearn: 0.9313525\ttest: 0.7440652\tbest: 0.7440652 (596)\ttotal: 1m\tremaining: 40.6s\n",
      "598:\tlearn: 0.9314209\ttest: 0.7447989\tbest: 0.7447989 (598)\ttotal: 1m\tremaining: 40.5s\n",
      "599:\tlearn: 0.9313823\ttest: 0.7445407\tbest: 0.7447989 (598)\ttotal: 1m\tremaining: 40.4s\n",
      "600:\tlearn: 0.9314165\ttest: 0.7443231\tbest: 0.7447989 (598)\ttotal: 1m\tremaining: 40.3s\n",
      "601:\tlearn: 0.9314507\ttest: 0.7447104\tbest: 0.7447989 (598)\ttotal: 1m\tremaining: 40.2s\n",
      "602:\tlearn: 0.9316770\ttest: 0.7445407\tbest: 0.7447989 (598)\ttotal: 1m\tremaining: 40.1s\n",
      "603:\tlearn: 0.9318822\ttest: 0.7444117\tbest: 0.7447989 (598)\ttotal: 1m\tremaining: 40s\n",
      "604:\tlearn: 0.9318182\ttest: 0.7441538\tbest: 0.7447989 (598)\ttotal: 1m 1s\tremaining: 39.9s\n",
      "605:\tlearn: 0.9318524\ttest: 0.7441538\tbest: 0.7447989 (598)\ttotal: 1m 1s\tremaining: 39.8s\n",
      "606:\tlearn: 0.9319891\ttest: 0.7438961\tbest: 0.7447989 (598)\ttotal: 1m 1s\tremaining: 39.7s\n",
      "607:\tlearn: 0.9321811\ttest: 0.7441136\tbest: 0.7447989 (598)\ttotal: 1m 1s\tremaining: 39.6s\n",
      "608:\tlearn: 0.9321513\ttest: 0.7442424\tbest: 0.7447989 (598)\ttotal: 1m 1s\tremaining: 39.5s\n",
      "609:\tlearn: 0.9322197\ttest: 0.7442424\tbest: 0.7447989 (598)\ttotal: 1m 1s\tremaining: 39.4s\n",
      "610:\tlearn: 0.9323477\ttest: 0.7439848\tbest: 0.7447989 (598)\ttotal: 1m 1s\tremaining: 39.3s\n",
      "611:\tlearn: 0.9322582\ttest: 0.7440734\tbest: 0.7447989 (598)\ttotal: 1m 1s\tremaining: 39.2s\n",
      "612:\tlearn: 0.9323650\ttest: 0.7446367\tbest: 0.7447989 (598)\ttotal: 1m 1s\tremaining: 39.1s\n",
      "613:\tlearn: 0.9322625\ttest: 0.7445962\tbest: 0.7447989 (598)\ttotal: 1m 1s\tremaining: 39s\n",
      "614:\tlearn: 0.9323991\ttest: 0.7448133\tbest: 0.7448133 (614)\ttotal: 1m 2s\tremaining: 38.9s\n",
      "615:\tlearn: 0.9325271\ttest: 0.7448133\tbest: 0.7448133 (614)\ttotal: 1m 2s\tremaining: 38.8s\n",
      "616:\tlearn: 0.9324930\ttest: 0.7448133\tbest: 0.7448133 (614)\ttotal: 1m 2s\tremaining: 38.7s\n",
      "617:\tlearn: 0.9325954\ttest: 0.7452471\tbest: 0.7452471 (617)\ttotal: 1m 2s\tremaining: 38.6s\n",
      "618:\tlearn: 0.9326594\ttest: 0.7452471\tbest: 0.7452471 (617)\ttotal: 1m 2s\tremaining: 38.5s\n",
      "619:\tlearn: 0.9329922\ttest: 0.7453760\tbest: 0.7453760 (619)\ttotal: 1m 2s\tremaining: 38.4s\n",
      "620:\tlearn: 0.9331798\ttest: 0.7460208\tbest: 0.7460208 (620)\ttotal: 1m 2s\tremaining: 38.3s\n",
      "621:\tlearn: 0.9332182\ttest: 0.7456338\tbest: 0.7460208 (620)\ttotal: 1m 2s\tremaining: 38.2s\n",
      "622:\tlearn: 0.9332864\ttest: 0.7459796\tbest: 0.7460208 (620)\ttotal: 1m 2s\tremaining: 38.1s\n",
      "623:\tlearn: 0.9332523\ttest: 0.7461086\tbest: 0.7461086 (623)\ttotal: 1m 2s\tremaining: 38s\n",
      "624:\tlearn: 0.9332523\ttest: 0.7459796\tbest: 0.7461086 (623)\ttotal: 1m 3s\tremaining: 37.9s\n",
      "625:\tlearn: 0.9333419\ttest: 0.7457217\tbest: 0.7461086 (623)\ttotal: 1m 3s\tremaining: 37.7s\n",
      "626:\tlearn: 0.9333376\ttest: 0.7458506\tbest: 0.7461086 (623)\ttotal: 1m 3s\tremaining: 37.6s\n",
      "627:\tlearn: 0.9333717\ttest: 0.7458506\tbest: 0.7461086 (623)\ttotal: 1m 3s\tremaining: 37.5s\n",
      "628:\tlearn: 0.9336105\ttest: 0.7459796\tbest: 0.7461086 (623)\ttotal: 1m 3s\tremaining: 37.4s\n",
      "629:\tlearn: 0.9335764\ttest: 0.7453352\tbest: 0.7461086 (623)\ttotal: 1m 3s\tremaining: 37.3s\n",
      "630:\tlearn: 0.9336105\ttest: 0.7453352\tbest: 0.7461086 (623)\ttotal: 1m 3s\tremaining: 37.2s\n",
      "631:\tlearn: 0.9335423\ttest: 0.7453352\tbest: 0.7461086 (623)\ttotal: 1m 3s\tremaining: 37.1s\n",
      "632:\tlearn: 0.9335082\ttest: 0.7455519\tbest: 0.7461086 (623)\ttotal: 1m 3s\tremaining: 37s\n",
      "633:\tlearn: 0.9335082\ttest: 0.7457686\tbest: 0.7461086 (623)\ttotal: 1m 3s\tremaining: 36.9s\n",
      "634:\tlearn: 0.9336403\ttest: 0.7449965\tbest: 0.7461086 (623)\ttotal: 1m 4s\tremaining: 36.8s\n",
      "635:\tlearn: 0.9338365\ttest: 0.7449965\tbest: 0.7461086 (623)\ttotal: 1m 4s\tremaining: 36.7s\n",
      "636:\tlearn: 0.9339345\ttest: 0.7446111\tbest: 0.7461086 (623)\ttotal: 1m 4s\tremaining: 36.6s\n",
      "637:\tlearn: 0.9339004\ttest: 0.7445230\tbest: 0.7461086 (623)\ttotal: 1m 4s\tremaining: 36.5s\n",
      "638:\tlearn: 0.9338962\ttest: 0.7443064\tbest: 0.7461086 (623)\ttotal: 1m 4s\tremaining: 36.4s\n",
      "639:\tlearn: 0.9339942\ttest: 0.7440097\tbest: 0.7461086 (623)\ttotal: 1m 4s\tremaining: 36.3s\n",
      "640:\tlearn: 0.9340241\ttest: 0.7442663\tbest: 0.7461086 (623)\ttotal: 1m 4s\tremaining: 36.2s\n",
      "641:\tlearn: 0.9340540\ttest: 0.7444828\tbest: 0.7461086 (623)\ttotal: 1m 4s\tremaining: 36.1s\n",
      "642:\tlearn: 0.9340498\ttest: 0.7440979\tbest: 0.7461086 (623)\ttotal: 1m 4s\tremaining: 36s\n",
      "643:\tlearn: 0.9341819\ttest: 0.7443143\tbest: 0.7461086 (623)\ttotal: 1m 4s\tremaining: 35.9s\n",
      "644:\tlearn: 0.9342076\ttest: 0.7444425\tbest: 0.7461086 (623)\ttotal: 1m 5s\tremaining: 35.8s\n",
      "645:\tlearn: 0.9342715\ttest: 0.7443143\tbest: 0.7461086 (623)\ttotal: 1m 5s\tremaining: 35.7s\n",
      "646:\tlearn: 0.9343056\ttest: 0.7443143\tbest: 0.7461086 (623)\ttotal: 1m 5s\tremaining: 35.6s\n",
      "647:\tlearn: 0.9342673\ttest: 0.7441860\tbest: 0.7461086 (623)\ttotal: 1m 5s\tremaining: 35.5s\n"
     ]
    },
    {
     "name": "stdout",
     "output_type": "stream",
     "text": [
      "648:\tlearn: 0.9342673\ttest: 0.7441860\tbest: 0.7461086 (623)\ttotal: 1m 5s\tremaining: 35.4s\n",
      "649:\tlearn: 0.9343313\ttest: 0.7441860\tbest: 0.7461086 (623)\ttotal: 1m 5s\tremaining: 35.3s\n",
      "650:\tlearn: 0.9343995\ttest: 0.7442742\tbest: 0.7461086 (623)\ttotal: 1m 5s\tremaining: 35.2s\n",
      "651:\tlearn: 0.9344037\ttest: 0.7438017\tbest: 0.7461086 (623)\ttotal: 1m 5s\tremaining: 35.1s\n",
      "652:\tlearn: 0.9344676\ttest: 0.7437618\tbest: 0.7461086 (623)\ttotal: 1m 5s\tremaining: 35s\n",
      "653:\tlearn: 0.9345615\ttest: 0.7441460\tbest: 0.7461086 (623)\ttotal: 1m 6s\tremaining: 34.9s\n",
      "654:\tlearn: 0.9348639\ttest: 0.7448347\tbest: 0.7461086 (623)\ttotal: 1m 6s\tremaining: 34.8s\n",
      "655:\tlearn: 0.9348639\ttest: 0.7448347\tbest: 0.7461086 (623)\ttotal: 1m 6s\tremaining: 34.7s\n",
      "656:\tlearn: 0.9348382\ttest: 0.7448347\tbest: 0.7461086 (623)\ttotal: 1m 6s\tremaining: 34.6s\n",
      "657:\tlearn: 0.9349362\ttest: 0.7448347\tbest: 0.7461086 (623)\ttotal: 1m 6s\tremaining: 34.5s\n",
      "658:\tlearn: 0.9350384\ttest: 0.7451791\tbest: 0.7461086 (623)\ttotal: 1m 6s\tremaining: 34.4s\n",
      "659:\tlearn: 0.9351704\ttest: 0.7448822\tbest: 0.7461086 (623)\ttotal: 1m 6s\tremaining: 34.3s\n",
      "660:\tlearn: 0.9352343\ttest: 0.7447540\tbest: 0.7461086 (623)\ttotal: 1m 6s\tremaining: 34.2s\n",
      "661:\tlearn: 0.9353663\ttest: 0.7446260\tbest: 0.7461086 (623)\ttotal: 1m 6s\tremaining: 34.1s\n",
      "662:\tlearn: 0.9354303\ttest: 0.7446260\tbest: 0.7461086 (623)\ttotal: 1m 6s\tremaining: 34s\n",
      "663:\tlearn: 0.9354602\ttest: 0.7444979\tbest: 0.7461086 (623)\ttotal: 1m 7s\tremaining: 33.9s\n",
      "664:\tlearn: 0.9354602\ttest: 0.7444979\tbest: 0.7461086 (623)\ttotal: 1m 7s\tremaining: 33.8s\n",
      "665:\tlearn: 0.9354942\ttest: 0.7443700\tbest: 0.7461086 (623)\ttotal: 1m 7s\tremaining: 33.7s\n",
      "666:\tlearn: 0.9356220\ttest: 0.7442420\tbest: 0.7461086 (623)\ttotal: 1m 7s\tremaining: 33.6s\n",
      "667:\tlearn: 0.9355963\ttest: 0.7443700\tbest: 0.7461086 (623)\ttotal: 1m 7s\tremaining: 33.5s\n",
      "668:\tlearn: 0.9356262\ttest: 0.7443700\tbest: 0.7461086 (623)\ttotal: 1m 7s\tremaining: 33.4s\n",
      "669:\tlearn: 0.9354261\ttest: 0.7453544\tbest: 0.7461086 (623)\ttotal: 1m 7s\tremaining: 33.3s\n",
      "670:\tlearn: 0.9356262\ttest: 0.7454827\tbest: 0.7461086 (623)\ttotal: 1m 7s\tremaining: 33.2s\n",
      "671:\tlearn: 0.9356942\ttest: 0.7455703\tbest: 0.7461086 (623)\ttotal: 1m 7s\tremaining: 33.1s\n",
      "672:\tlearn: 0.9356344\ttest: 0.7459143\tbest: 0.7461086 (623)\ttotal: 1m 7s\tremaining: 33s\n",
      "673:\tlearn: 0.9357745\ttest: 0.7463457\tbest: 0.7463457 (673)\ttotal: 1m 8s\tremaining: 32.9s\n",
      "674:\tlearn: 0.9358085\ttest: 0.7463457\tbest: 0.7463457 (673)\ttotal: 1m 8s\tremaining: 32.8s\n",
      "675:\tlearn: 0.9358384\ttest: 0.7462173\tbest: 0.7463457 (673)\ttotal: 1m 8s\tremaining: 32.7s\n",
      "676:\tlearn: 0.9358044\ttest: 0.7463457\tbest: 0.7463457 (673)\ttotal: 1m 8s\tremaining: 32.6s\n",
      "677:\tlearn: 0.9358384\ttest: 0.7464740\tbest: 0.7464740 (677)\ttotal: 1m 8s\tremaining: 32.5s\n",
      "678:\tlearn: 0.9358724\ttest: 0.7462173\tbest: 0.7464740 (677)\ttotal: 1m 8s\tremaining: 32.4s\n",
      "679:\tlearn: 0.9359064\ttest: 0.7463457\tbest: 0.7464740 (677)\ttotal: 1m 8s\tremaining: 32.3s\n",
      "680:\tlearn: 0.9359703\ttest: 0.7462173\tbest: 0.7464740 (677)\ttotal: 1m 8s\tremaining: 32.2s\n",
      "681:\tlearn: 0.9360723\ttest: 0.7463046\tbest: 0.7464740 (677)\ttotal: 1m 8s\tremaining: 32.1s\n",
      "682:\tlearn: 0.9363660\ttest: 0.7463046\tbest: 0.7464740 (677)\ttotal: 1m 8s\tremaining: 32s\n",
      "683:\tlearn: 0.9364339\ttest: 0.7463046\tbest: 0.7464740 (677)\ttotal: 1m 9s\tremaining: 31.9s\n",
      "684:\tlearn: 0.9364679\ttest: 0.7465612\tbest: 0.7465612 (684)\ttotal: 1m 9s\tremaining: 31.8s\n",
      "685:\tlearn: 0.9367396\ttest: 0.7462635\tbest: 0.7465612 (684)\ttotal: 1m 9s\tremaining: 31.7s\n",
      "686:\tlearn: 0.9368075\ttest: 0.7462635\tbest: 0.7465612 (684)\ttotal: 1m 9s\tremaining: 31.6s\n",
      "687:\tlearn: 0.9368075\ttest: 0.7461353\tbest: 0.7465612 (684)\ttotal: 1m 9s\tremaining: 31.5s\n",
      "688:\tlearn: 0.9368374\ttest: 0.7461353\tbest: 0.7465612 (684)\ttotal: 1m 9s\tremaining: 31.4s\n",
      "689:\tlearn: 0.9369053\ttest: 0.7463507\tbest: 0.7465612 (684)\ttotal: 1m 9s\tremaining: 31.3s\n",
      "690:\tlearn: 0.9368374\ttest: 0.7460944\tbest: 0.7465612 (684)\ttotal: 1m 9s\tremaining: 31.2s\n",
      "691:\tlearn: 0.9368034\ttest: 0.7458791\tbest: 0.7465612 (684)\ttotal: 1m 9s\tremaining: 31.1s\n",
      "692:\tlearn: 0.9368673\ttest: 0.7456637\tbest: 0.7465612 (684)\ttotal: 1m 9s\tremaining: 31s\n",
      "693:\tlearn: 0.9367994\ttest: 0.7459199\tbest: 0.7465612 (684)\ttotal: 1m 10s\tremaining: 30.9s\n",
      "694:\tlearn: 0.9367315\ttest: 0.7459199\tbest: 0.7465612 (684)\ttotal: 1m 10s\tremaining: 30.8s\n",
      "695:\tlearn: 0.9367655\ttest: 0.7457045\tbest: 0.7465612 (684)\ttotal: 1m 10s\tremaining: 30.7s\n",
      "696:\tlearn: 0.9368673\ttest: 0.7461763\tbest: 0.7465612 (684)\ttotal: 1m 10s\tremaining: 30.6s\n",
      "697:\tlearn: 0.9368673\ttest: 0.7460890\tbest: 0.7465612 (684)\ttotal: 1m 10s\tremaining: 30.5s\n",
      "698:\tlearn: 0.9369013\ttest: 0.7463457\tbest: 0.7465612 (684)\ttotal: 1m 10s\tremaining: 30.4s\n",
      "699:\tlearn: 0.9369013\ttest: 0.7462173\tbest: 0.7465612 (684)\ttotal: 1m 10s\tremaining: 30.3s\n",
      "700:\tlearn: 0.9369013\ttest: 0.7464329\tbest: 0.7465612 (684)\ttotal: 1m 10s\tremaining: 30.2s\n",
      "701:\tlearn: 0.9369013\ttest: 0.7464329\tbest: 0.7465612 (684)\ttotal: 1m 10s\tremaining: 30.1s\n",
      "702:\tlearn: 0.9369692\ttest: 0.7465200\tbest: 0.7465612 (684)\ttotal: 1m 10s\tremaining: 30s\n",
      "703:\tlearn: 0.9370031\ttest: 0.7465200\tbest: 0.7465612 (684)\ttotal: 1m 11s\tremaining: 29.9s\n",
      "704:\tlearn: 0.9369053\ttest: 0.7463918\tbest: 0.7465612 (684)\ttotal: 1m 11s\tremaining: 29.8s\n",
      "705:\tlearn: 0.9369093\ttest: 0.7463918\tbest: 0.7465612 (684)\ttotal: 1m 11s\tremaining: 29.7s\n",
      "706:\tlearn: 0.9369473\ttest: 0.7463918\tbest: 0.7465612 (684)\ttotal: 1m 11s\tremaining: 29.6s\n",
      "707:\tlearn: 0.9370911\ttest: 0.7466071\tbest: 0.7466071 (707)\ttotal: 1m 11s\tremaining: 29.5s\n",
      "708:\tlearn: 0.9372267\ttest: 0.7467354\tbest: 0.7467354 (708)\ttotal: 1m 11s\tremaining: 29.4s\n",
      "709:\tlearn: 0.9374043\ttest: 0.7461816\tbest: 0.7467354 (708)\ttotal: 1m 11s\tremaining: 29.3s\n",
      "710:\tlearn: 0.9375319\ttest: 0.7463096\tbest: 0.7467354 (708)\ttotal: 1m 11s\tremaining: 29.2s\n",
      "711:\tlearn: 0.9375658\ttest: 0.7463096\tbest: 0.7467354 (708)\ttotal: 1m 11s\tremaining: 29.1s\n",
      "712:\tlearn: 0.9375658\ttest: 0.7465248\tbest: 0.7467354 (708)\ttotal: 1m 11s\tremaining: 29s\n",
      "713:\tlearn: 0.9376296\ttest: 0.7465248\tbest: 0.7467354 (708)\ttotal: 1m 12s\tremaining: 28.9s\n",
      "714:\tlearn: 0.9376675\ttest: 0.7466529\tbest: 0.7467354 (708)\ttotal: 1m 12s\tremaining: 28.8s\n",
      "715:\tlearn: 0.9377352\ttest: 0.7469962\tbest: 0.7469962 (715)\ttotal: 1m 12s\tremaining: 28.7s\n",
      "716:\tlearn: 0.9377352\ttest: 0.7469962\tbest: 0.7469962 (715)\ttotal: 1m 12s\tremaining: 28.6s\n",
      "717:\tlearn: 0.9377352\ttest: 0.7469962\tbest: 0.7469962 (715)\ttotal: 1m 12s\tremaining: 28.5s\n",
      "718:\tlearn: 0.9378668\ttest: 0.7470830\tbest: 0.7470830 (718)\ttotal: 1m 12s\tremaining: 28.4s\n",
      "719:\tlearn: 0.9378329\ttest: 0.7470376\tbest: 0.7470830 (718)\ttotal: 1m 12s\tremaining: 28.3s\n",
      "720:\tlearn: 0.9378967\ttest: 0.7467811\tbest: 0.7470830 (718)\ttotal: 1m 12s\tremaining: 28.2s\n",
      "721:\tlearn: 0.9379904\ttest: 0.7469962\tbest: 0.7470830 (718)\ttotal: 1m 12s\tremaining: 28.1s\n",
      "722:\tlearn: 0.9379566\ttest: 0.7469962\tbest: 0.7470830 (718)\ttotal: 1m 13s\tremaining: 28s\n",
      "723:\tlearn: 0.9379904\ttest: 0.7469962\tbest: 0.7470830 (718)\ttotal: 1m 13s\tremaining: 27.9s\n",
      "724:\tlearn: 0.9381558\ttest: 0.7471245\tbest: 0.7471245 (724)\ttotal: 1m 13s\tremaining: 27.8s\n",
      "725:\tlearn: 0.9381220\ttest: 0.7471245\tbest: 0.7471245 (724)\ttotal: 1m 13s\tremaining: 27.7s\n",
      "726:\tlearn: 0.9381558\ttest: 0.7472113\tbest: 0.7472113 (726)\ttotal: 1m 13s\tremaining: 27.6s\n",
      "727:\tlearn: 0.9382157\ttest: 0.7469549\tbest: 0.7472113 (726)\ttotal: 1m 13s\tremaining: 27.5s\n",
      "728:\tlearn: 0.9383133\ttest: 0.7470830\tbest: 0.7472113 (726)\ttotal: 1m 13s\tremaining: 27.4s\n",
      "729:\tlearn: 0.9384071\ttest: 0.7466118\tbest: 0.7472113 (726)\ttotal: 1m 13s\tremaining: 27.3s\n",
      "730:\tlearn: 0.9386102\ttest: 0.7468680\tbest: 0.7472113 (726)\ttotal: 1m 13s\tremaining: 27.2s\n",
      "731:\tlearn: 0.9386440\ttest: 0.7462225\tbest: 0.7472113 (726)\ttotal: 1m 14s\tremaining: 27.1s\n",
      "732:\tlearn: 0.9387833\ttest: 0.7468680\tbest: 0.7472113 (726)\ttotal: 1m 14s\tremaining: 27s\n",
      "733:\tlearn: 0.9389147\ttest: 0.7470376\tbest: 0.7472113 (726)\ttotal: 1m 14s\tremaining: 26.9s\n",
      "734:\tlearn: 0.9389109\ttest: 0.7466941\tbest: 0.7472113 (726)\ttotal: 1m 14s\tremaining: 26.8s\n",
      "735:\tlearn: 0.9389408\ttest: 0.7471659\tbest: 0.7472113 (726)\ttotal: 1m 14s\tremaining: 26.7s\n",
      "736:\tlearn: 0.9389746\ttest: 0.7471659\tbest: 0.7472113 (726)\ttotal: 1m 14s\tremaining: 26.6s\n",
      "737:\tlearn: 0.9390384\ttest: 0.7471659\tbest: 0.7472113 (726)\ttotal: 1m 14s\tremaining: 26.5s\n",
      "738:\tlearn: 0.9390345\ttest: 0.7467811\tbest: 0.7472113 (726)\ttotal: 1m 14s\tremaining: 26.4s\n"
     ]
    },
    {
     "name": "stdout",
     "output_type": "stream",
     "text": [
      "739:\tlearn: 0.9391060\ttest: 0.7462687\tbest: 0.7472113 (726)\ttotal: 1m 14s\tremaining: 26.3s\n",
      "740:\tlearn: 0.9391060\ttest: 0.7462687\tbest: 0.7472113 (726)\ttotal: 1m 15s\tremaining: 26.2s\n",
      "741:\tlearn: 0.9391399\ttest: 0.7460127\tbest: 0.7472113 (726)\ttotal: 1m 15s\tremaining: 26.1s\n",
      "742:\tlearn: 0.9393051\ttest: 0.7460998\tbest: 0.7472113 (726)\ttotal: 1m 15s\tremaining: 26s\n",
      "743:\tlearn: 0.9393650\ttest: 0.7460998\tbest: 0.7472113 (726)\ttotal: 1m 15s\tremaining: 25.9s\n",
      "744:\tlearn: 0.9393350\ttest: 0.7459719\tbest: 0.7472113 (726)\ttotal: 1m 15s\tremaining: 25.8s\n",
      "745:\tlearn: 0.9395301\ttest: 0.7459719\tbest: 0.7472113 (726)\ttotal: 1m 15s\tremaining: 25.7s\n",
      "746:\tlearn: 0.9395301\ttest: 0.7459719\tbest: 0.7472113 (726)\ttotal: 1m 15s\tremaining: 25.6s\n",
      "747:\tlearn: 0.9395002\ttest: 0.7457162\tbest: 0.7472113 (726)\ttotal: 1m 15s\tremaining: 25.5s\n",
      "748:\tlearn: 0.9395340\ttest: 0.7458034\tbest: 0.7472113 (726)\ttotal: 1m 15s\tremaining: 25.4s\n",
      "749:\tlearn: 0.9395678\ttest: 0.7455479\tbest: 0.7472113 (726)\ttotal: 1m 15s\tremaining: 25.3s\n",
      "750:\tlearn: 0.9397329\ttest: 0.7457221\tbest: 0.7472113 (726)\ttotal: 1m 16s\tremaining: 25.2s\n",
      "751:\tlearn: 0.9397667\ttest: 0.7459774\tbest: 0.7472113 (726)\ttotal: 1m 16s\tremaining: 25.1s\n",
      "752:\tlearn: 0.9398343\ttest: 0.7458091\tbest: 0.7472113 (726)\ttotal: 1m 16s\tremaining: 25s\n",
      "753:\tlearn: 0.9398343\ttest: 0.7458091\tbest: 0.7472113 (726)\ttotal: 1m 16s\tremaining: 24.9s\n",
      "754:\tlearn: 0.9398681\ttest: 0.7459367\tbest: 0.7472113 (726)\ttotal: 1m 16s\tremaining: 24.8s\n",
      "755:\tlearn: 0.9398681\ttest: 0.7459367\tbest: 0.7472113 (726)\ttotal: 1m 16s\tremaining: 24.7s\n",
      "756:\tlearn: 0.9399994\ttest: 0.7460643\tbest: 0.7472113 (726)\ttotal: 1m 16s\tremaining: 24.6s\n",
      "757:\tlearn: 0.9400331\ttest: 0.7460643\tbest: 0.7472113 (726)\ttotal: 1m 16s\tremaining: 24.5s\n",
      "758:\tlearn: 0.9401306\ttest: 0.7460236\tbest: 0.7472113 (726)\ttotal: 1m 16s\tremaining: 24.4s\n",
      "759:\tlearn: 0.9402243\ttest: 0.7461512\tbest: 0.7472113 (726)\ttotal: 1m 16s\tremaining: 24.3s\n",
      "760:\tlearn: 0.9402918\ttest: 0.7461512\tbest: 0.7472113 (726)\ttotal: 1m 17s\tremaining: 24.2s\n",
      "761:\tlearn: 0.9403256\ttest: 0.7450444\tbest: 0.7472113 (726)\ttotal: 1m 17s\tremaining: 24.1s\n",
      "762:\tlearn: 0.9403556\ttest: 0.7451718\tbest: 0.7472113 (726)\ttotal: 1m 17s\tremaining: 24s\n",
      "763:\tlearn: 0.9404231\ttest: 0.7453862\tbest: 0.7472113 (726)\ttotal: 1m 17s\tremaining: 23.9s\n",
      "764:\tlearn: 0.9405244\ttest: 0.7455136\tbest: 0.7472113 (726)\ttotal: 1m 17s\tremaining: 23.8s\n",
      "765:\tlearn: 0.9405881\ttest: 0.7455136\tbest: 0.7472113 (726)\ttotal: 1m 17s\tremaining: 23.7s\n",
      "766:\tlearn: 0.9406556\ttest: 0.7455136\tbest: 0.7472113 (726)\ttotal: 1m 17s\tremaining: 23.6s\n",
      "767:\tlearn: 0.9409441\ttest: 0.7452588\tbest: 0.7472113 (726)\ttotal: 1m 17s\tremaining: 23.5s\n",
      "768:\tlearn: 0.9409479\ttest: 0.7452186\tbest: 0.7472113 (726)\ttotal: 1m 17s\tremaining: 23.4s\n",
      "769:\tlearn: 0.9409441\ttest: 0.7449642\tbest: 0.7472113 (726)\ttotal: 1m 17s\tremaining: 23.3s\n",
      "770:\tlearn: 0.9410078\ttest: 0.7450913\tbest: 0.7472113 (726)\ttotal: 1m 18s\tremaining: 23.2s\n",
      "771:\tlearn: 0.9410078\ttest: 0.7450913\tbest: 0.7472113 (726)\ttotal: 1m 18s\tremaining: 23.1s\n",
      "772:\tlearn: 0.9409779\ttest: 0.7454732\tbest: 0.7472113 (726)\ttotal: 1m 18s\tremaining: 23s\n",
      "773:\tlearn: 0.9410116\ttest: 0.7453459\tbest: 0.7472113 (726)\ttotal: 1m 18s\tremaining: 22.9s\n",
      "774:\tlearn: 0.9410416\ttest: 0.7452186\tbest: 0.7472113 (726)\ttotal: 1m 18s\tremaining: 22.8s\n",
      "775:\tlearn: 0.9411727\ttest: 0.7453459\tbest: 0.7472113 (726)\ttotal: 1m 18s\tremaining: 22.7s\n",
      "776:\tlearn: 0.9413301\ttest: 0.7454732\tbest: 0.7472113 (726)\ttotal: 1m 18s\tremaining: 22.6s\n",
      "777:\tlearn: 0.9413301\ttest: 0.7456005\tbest: 0.7472113 (726)\ttotal: 1m 18s\tremaining: 22.5s\n",
      "778:\tlearn: 0.9415212\ttest: 0.7460697\tbest: 0.7472113 (726)\ttotal: 1m 18s\tremaining: 22.4s\n",
      "779:\tlearn: 0.9415849\ttest: 0.7459829\tbest: 0.7472113 (726)\ttotal: 1m 18s\tremaining: 22.3s\n",
      "780:\tlearn: 0.9416149\ttest: 0.7463657\tbest: 0.7472113 (726)\ttotal: 1m 19s\tremaining: 22.2s\n",
      "781:\tlearn: 0.9416149\ttest: 0.7462380\tbest: 0.7472113 (726)\ttotal: 1m 19s\tremaining: 22.1s\n",
      "782:\tlearn: 0.9416486\ttest: 0.7461104\tbest: 0.7472113 (726)\ttotal: 1m 19s\tremaining: 22s\n",
      "783:\tlearn: 0.9416486\ttest: 0.7461104\tbest: 0.7472113 (726)\ttotal: 1m 19s\tremaining: 21.9s\n",
      "784:\tlearn: 0.9418397\ttest: 0.7462380\tbest: 0.7472113 (726)\ttotal: 1m 19s\tremaining: 21.8s\n",
      "785:\tlearn: 0.9419034\ttest: 0.7463657\tbest: 0.7472113 (726)\ttotal: 1m 19s\tremaining: 21.7s\n",
      "786:\tlearn: 0.9419334\ttest: 0.7464933\tbest: 0.7472113 (726)\ttotal: 1m 19s\tremaining: 21.6s\n",
      "787:\tlearn: 0.9419971\ttest: 0.7464933\tbest: 0.7472113 (726)\ttotal: 1m 19s\tremaining: 21.5s\n",
      "788:\tlearn: 0.9419971\ttest: 0.7467488\tbest: 0.7472113 (726)\ttotal: 1m 19s\tremaining: 21.4s\n",
      "789:\tlearn: 0.9420982\ttest: 0.7467488\tbest: 0.7472113 (726)\ttotal: 1m 20s\tremaining: 21.3s\n",
      "790:\tlearn: 0.9420645\ttest: 0.7467488\tbest: 0.7472113 (726)\ttotal: 1m 20s\tremaining: 21.2s\n",
      "791:\tlearn: 0.9421993\ttest: 0.7468766\tbest: 0.7472113 (726)\ttotal: 1m 20s\tremaining: 21.1s\n",
      "792:\tlearn: 0.9422293\ttest: 0.7468354\tbest: 0.7472113 (726)\ttotal: 1m 20s\tremaining: 21s\n",
      "793:\tlearn: 0.9422593\ttest: 0.7471776\tbest: 0.7472113 (726)\ttotal: 1m 20s\tremaining: 20.9s\n",
      "794:\tlearn: 0.9422593\ttest: 0.7473054\tbest: 0.7473054 (794)\ttotal: 1m 20s\tremaining: 20.8s\n",
      "795:\tlearn: 0.9422893\ttest: 0.7473054\tbest: 0.7473054 (794)\ttotal: 1m 20s\tremaining: 20.7s\n",
      "796:\tlearn: 0.9423230\ttest: 0.7475612\tbest: 0.7475612 (796)\ttotal: 1m 20s\tremaining: 20.6s\n",
      "797:\tlearn: 0.9422703\ttest: 0.7469220\tbest: 0.7475612 (796)\ttotal: 1m 20s\tremaining: 20.5s\n",
      "798:\tlearn: 0.9423040\ttest: 0.7467943\tbest: 0.7475612 (796)\ttotal: 1m 20s\tremaining: 20.4s\n",
      "799:\tlearn: 0.9424350\ttest: 0.7472640\tbest: 0.7475612 (796)\ttotal: 1m 21s\tremaining: 20.3s\n",
      "800:\tlearn: 0.9424014\ttest: 0.7472640\tbest: 0.7475612 (796)\ttotal: 1m 21s\tremaining: 20.2s\n",
      "801:\tlearn: 0.9424350\ttest: 0.7472640\tbest: 0.7475612 (796)\ttotal: 1m 21s\tremaining: 20.1s\n",
      "802:\tlearn: 0.9425661\ttest: 0.7476060\tbest: 0.7476060 (802)\ttotal: 1m 21s\tremaining: 19.9s\n",
      "803:\tlearn: 0.9425661\ttest: 0.7476060\tbest: 0.7476060 (802)\ttotal: 1m 21s\tremaining: 19.8s\n",
      "804:\tlearn: 0.9427007\ttest: 0.7478201\tbest: 0.7478201 (804)\ttotal: 1m 21s\tremaining: 19.7s\n",
      "805:\tlearn: 0.9427644\ttest: 0.7476508\tbest: 0.7478201 (804)\ttotal: 1m 21s\tremaining: 19.6s\n",
      "806:\tlearn: 0.9427644\ttest: 0.7476508\tbest: 0.7478201 (804)\ttotal: 1m 21s\tremaining: 19.5s\n",
      "807:\tlearn: 0.9429217\ttest: 0.7479925\tbest: 0.7479925 (807)\ttotal: 1m 21s\tremaining: 19.4s\n",
      "808:\tlearn: 0.9429217\ttest: 0.7478647\tbest: 0.7479925 (807)\ttotal: 1m 21s\tremaining: 19.3s\n",
      "809:\tlearn: 0.9429217\ttest: 0.7478647\tbest: 0.7479925 (807)\ttotal: 1m 22s\tremaining: 19.2s\n",
      "810:\tlearn: 0.9428881\ttest: 0.7476508\tbest: 0.7479925 (807)\ttotal: 1m 22s\tremaining: 19.1s\n",
      "811:\tlearn: 0.9429517\ttest: 0.7476508\tbest: 0.7479925 (807)\ttotal: 1m 22s\tremaining: 19s\n",
      "812:\tlearn: 0.9429517\ttest: 0.7476508\tbest: 0.7479925 (807)\ttotal: 1m 22s\tremaining: 18.9s\n",
      "813:\tlearn: 0.9429854\ttest: 0.7475231\tbest: 0.7479925 (807)\ttotal: 1m 22s\tremaining: 18.8s\n",
      "814:\tlearn: 0.9430527\ttest: 0.7477370\tbest: 0.7479925 (807)\ttotal: 1m 22s\tremaining: 18.7s\n",
      "815:\tlearn: 0.9431163\ttest: 0.7477370\tbest: 0.7479925 (807)\ttotal: 1m 22s\tremaining: 18.6s\n",
      "816:\tlearn: 0.9432173\ttest: 0.7477370\tbest: 0.7479925 (807)\ttotal: 1m 22s\tremaining: 18.5s\n",
      "817:\tlearn: 0.9432173\ttest: 0.7476955\tbest: 0.7479925 (807)\ttotal: 1m 22s\tremaining: 18.4s\n",
      "818:\tlearn: 0.9432809\ttest: 0.7474816\tbest: 0.7479925 (807)\ttotal: 1m 22s\tremaining: 18.3s\n",
      "819:\tlearn: 0.9433890\ttest: 0.7477816\tbest: 0.7479925 (807)\ttotal: 1m 23s\tremaining: 18.2s\n",
      "820:\tlearn: 0.9433926\ttest: 0.7477816\tbest: 0.7479925 (807)\ttotal: 1m 23s\tremaining: 18.1s\n",
      "821:\tlearn: 0.9434599\ttest: 0.7479092\tbest: 0.7479925 (807)\ttotal: 1m 23s\tremaining: 18s\n",
      "822:\tlearn: 0.9434935\ttest: 0.7476126\tbest: 0.7479925 (807)\ttotal: 1m 23s\tremaining: 17.9s\n",
      "823:\tlearn: 0.9436579\ttest: 0.7480369\tbest: 0.7480369 (823)\ttotal: 1m 23s\tremaining: 17.8s\n",
      "824:\tlearn: 0.9436915\ttest: 0.7481646\tbest: 0.7481646 (824)\ttotal: 1m 23s\tremaining: 17.7s\n",
      "825:\tlearn: 0.9436051\ttest: 0.7479508\tbest: 0.7481646 (824)\ttotal: 1m 23s\tremaining: 17.6s\n",
      "826:\tlearn: 0.9437023\ttest: 0.7479508\tbest: 0.7481646 (824)\ttotal: 1m 23s\tremaining: 17.5s\n",
      "827:\tlearn: 0.9438331\ttest: 0.7481646\tbest: 0.7481646 (824)\ttotal: 1m 23s\tremaining: 17.4s\n",
      "828:\tlearn: 0.9438331\ttest: 0.7482923\tbest: 0.7482923 (828)\ttotal: 1m 24s\tremaining: 17.3s\n",
      "829:\tlearn: 0.9438631\ttest: 0.7485900\tbest: 0.7485900 (829)\ttotal: 1m 24s\tremaining: 17.2s\n",
      "830:\tlearn: 0.9438259\ttest: 0.7484621\tbest: 0.7485900 (829)\ttotal: 1m 24s\tremaining: 17.1s\n"
     ]
    },
    {
     "name": "stdout",
     "output_type": "stream",
     "text": [
      "831:\tlearn: 0.9438896\ttest: 0.7480786\tbest: 0.7485900 (829)\ttotal: 1m 24s\tremaining: 17s\n",
      "832:\tlearn: 0.9438560\ttest: 0.7482064\tbest: 0.7485900 (829)\ttotal: 1m 24s\tremaining: 16.9s\n",
      "833:\tlearn: 0.9438896\ttest: 0.7483342\tbest: 0.7485900 (829)\ttotal: 1m 24s\tremaining: 16.8s\n",
      "834:\tlearn: 0.9439532\ttest: 0.7482064\tbest: 0.7485900 (829)\ttotal: 1m 24s\tremaining: 16.7s\n",
      "835:\tlearn: 0.9440204\ttest: 0.7482064\tbest: 0.7485900 (829)\ttotal: 1m 24s\tremaining: 16.6s\n",
      "836:\tlearn: 0.9441211\ttest: 0.7482064\tbest: 0.7485900 (829)\ttotal: 1m 24s\tremaining: 16.5s\n",
      "837:\tlearn: 0.9441211\ttest: 0.7482064\tbest: 0.7485900 (829)\ttotal: 1m 24s\tremaining: 16.4s\n",
      "838:\tlearn: 0.9442183\ttest: 0.7482064\tbest: 0.7485900 (829)\ttotal: 1m 25s\tremaining: 16.3s\n",
      "839:\tlearn: 0.9442819\ttest: 0.7482482\tbest: 0.7485900 (829)\ttotal: 1m 25s\tremaining: 16.2s\n",
      "840:\tlearn: 0.9442819\ttest: 0.7482482\tbest: 0.7485900 (829)\ttotal: 1m 25s\tremaining: 16.1s\n",
      "841:\tlearn: 0.9442483\ttest: 0.7482482\tbest: 0.7485900 (829)\ttotal: 1m 25s\tremaining: 16s\n",
      "842:\tlearn: 0.9442147\ttest: 0.7482482\tbest: 0.7485900 (829)\ttotal: 1m 25s\tremaining: 15.9s\n",
      "843:\tlearn: 0.9442819\ttest: 0.7483342\tbest: 0.7485900 (829)\ttotal: 1m 25s\tremaining: 15.8s\n",
      "844:\tlearn: 0.9443455\ttest: 0.7485480\tbest: 0.7485900 (829)\ttotal: 1m 25s\tremaining: 15.7s\n",
      "845:\tlearn: 0.9443791\ttest: 0.7488475\tbest: 0.7488475 (845)\ttotal: 1m 25s\tremaining: 15.6s\n",
      "846:\tlearn: 0.9445769\ttest: 0.7485500\tbest: 0.7488475 (845)\ttotal: 1m 25s\tremaining: 15.5s\n",
      "847:\tlearn: 0.9445769\ttest: 0.7485500\tbest: 0.7488475 (845)\ttotal: 1m 25s\tremaining: 15.4s\n",
      "848:\tlearn: 0.9446105\ttest: 0.7485500\tbest: 0.7488475 (845)\ttotal: 1m 26s\tremaining: 15.3s\n",
      "849:\tlearn: 0.9446440\ttest: 0.7486777\tbest: 0.7488475 (845)\ttotal: 1m 26s\tremaining: 15.2s\n",
      "850:\tlearn: 0.9446440\ttest: 0.7488055\tbest: 0.7488475 (845)\ttotal: 1m 26s\tremaining: 15.1s\n",
      "851:\tlearn: 0.9446440\ttest: 0.7488055\tbest: 0.7488475 (845)\ttotal: 1m 26s\tremaining: 15s\n",
      "852:\tlearn: 0.9447447\ttest: 0.7490189\tbest: 0.7490189 (852)\ttotal: 1m 26s\tremaining: 14.9s\n",
      "853:\tlearn: 0.9447076\ttest: 0.7493169\tbest: 0.7493169 (853)\ttotal: 1m 26s\tremaining: 14.8s\n",
      "854:\tlearn: 0.9446741\ttest: 0.7493169\tbest: 0.7493169 (853)\ttotal: 1m 26s\tremaining: 14.7s\n",
      "855:\tlearn: 0.9446741\ttest: 0.7493169\tbest: 0.7493169 (853)\ttotal: 1m 26s\tremaining: 14.6s\n",
      "856:\tlearn: 0.9449019\ttest: 0.7493169\tbest: 0.7493169 (853)\ttotal: 1m 26s\tremaining: 14.5s\n",
      "857:\tlearn: 0.9449655\ttest: 0.7494449\tbest: 0.7494449 (857)\ttotal: 1m 26s\tremaining: 14.4s\n",
      "858:\tlearn: 0.9450997\ttest: 0.7493169\tbest: 0.7494449 (857)\ttotal: 1m 27s\tremaining: 14.3s\n",
      "859:\tlearn: 0.9450025\ttest: 0.7491033\tbest: 0.7494449 (857)\ttotal: 1m 27s\tremaining: 14.2s\n",
      "860:\tlearn: 0.9450696\ttest: 0.7491033\tbest: 0.7494449 (857)\ttotal: 1m 27s\tremaining: 14.1s\n",
      "861:\tlearn: 0.9450696\ttest: 0.7492313\tbest: 0.7494449 (857)\ttotal: 1m 27s\tremaining: 14s\n",
      "862:\tlearn: 0.9450431\ttest: 0.7497010\tbest: 0.7497010 (862)\ttotal: 1m 27s\tremaining: 13.9s\n",
      "863:\tlearn: 0.9451101\ttest: 0.7498291\tbest: 0.7498291 (863)\ttotal: 1m 27s\tremaining: 13.8s\n",
      "864:\tlearn: 0.9451101\ttest: 0.7498291\tbest: 0.7498291 (863)\ttotal: 1m 27s\tremaining: 13.7s\n",
      "865:\tlearn: 0.9452407\ttest: 0.7497010\tbest: 0.7498291 (863)\ttotal: 1m 27s\tremaining: 13.6s\n",
      "866:\tlearn: 0.9453413\ttest: 0.7497010\tbest: 0.7498291 (863)\ttotal: 1m 27s\tremaining: 13.5s\n",
      "867:\tlearn: 0.9453748\ttest: 0.7501709\tbest: 0.7501709 (867)\ttotal: 1m 27s\tremaining: 13.4s\n",
      "868:\tlearn: 0.9454753\ttest: 0.7503844\tbest: 0.7503844 (868)\ttotal: 1m 28s\tremaining: 13.3s\n",
      "869:\tlearn: 0.9455724\ttest: 0.7502562\tbest: 0.7503844 (868)\ttotal: 1m 28s\tremaining: 13.2s\n",
      "870:\tlearn: 0.9455724\ttest: 0.7502562\tbest: 0.7503844 (868)\ttotal: 1m 28s\tremaining: 13.1s\n",
      "871:\tlearn: 0.9457364\ttest: 0.7507261\tbest: 0.7507261 (871)\ttotal: 1m 28s\tremaining: 13s\n",
      "872:\tlearn: 0.9458069\ttest: 0.7506831\tbest: 0.7507261 (871)\ttotal: 1m 28s\tremaining: 12.9s\n",
      "873:\tlearn: 0.9458369\ttest: 0.7506831\tbest: 0.7507261 (871)\ttotal: 1m 28s\tremaining: 12.8s\n",
      "874:\tlearn: 0.9458369\ttest: 0.7506831\tbest: 0.7507261 (871)\ttotal: 1m 28s\tremaining: 12.7s\n",
      "875:\tlearn: 0.9458704\ttest: 0.7506831\tbest: 0.7507261 (871)\ttotal: 1m 28s\tremaining: 12.6s\n",
      "876:\tlearn: 0.9460009\ttest: 0.7508113\tbest: 0.7508113 (876)\ttotal: 1m 28s\tremaining: 12.5s\n",
      "877:\tlearn: 0.9459674\ttest: 0.7508113\tbest: 0.7508113 (876)\ttotal: 1m 29s\tremaining: 12.4s\n",
      "878:\tlearn: 0.9460009\ttest: 0.7506831\tbest: 0.7508113 (876)\ttotal: 1m 29s\tremaining: 12.3s\n",
      "879:\tlearn: 0.9461013\ttest: 0.7506831\tbest: 0.7508113 (876)\ttotal: 1m 29s\tremaining: 12.2s\n",
      "880:\tlearn: 0.9459743\ttest: 0.7508113\tbest: 0.7508113 (876)\ttotal: 1m 29s\tremaining: 12.1s\n",
      "881:\tlearn: 0.9462051\ttest: 0.7506831\tbest: 0.7508113 (876)\ttotal: 1m 29s\tremaining: 12s\n",
      "882:\tlearn: 0.9462755\ttest: 0.7506831\tbest: 0.7508113 (876)\ttotal: 1m 29s\tremaining: 11.9s\n",
      "883:\tlearn: 0.9463089\ttest: 0.7502987\tbest: 0.7508113 (876)\ttotal: 1m 29s\tremaining: 11.8s\n",
      "884:\tlearn: 0.9462755\ttest: 0.7502987\tbest: 0.7508113 (876)\ttotal: 1m 29s\tremaining: 11.7s\n",
      "885:\tlearn: 0.9462755\ttest: 0.7505549\tbest: 0.7508113 (876)\ttotal: 1m 29s\tremaining: 11.6s\n",
      "886:\tlearn: 0.9462755\ttest: 0.7505549\tbest: 0.7508113 (876)\ttotal: 1m 29s\tremaining: 11.5s\n",
      "887:\tlearn: 0.9462386\ttest: 0.7503415\tbest: 0.7508113 (876)\ttotal: 1m 30s\tremaining: 11.4s\n",
      "888:\tlearn: 0.9462386\ttest: 0.7503415\tbest: 0.7508113 (876)\ttotal: 1m 30s\tremaining: 11.3s\n",
      "889:\tlearn: 0.9462687\ttest: 0.7503415\tbest: 0.7508113 (876)\ttotal: 1m 30s\tremaining: 11.2s\n",
      "890:\tlearn: 0.9462687\ttest: 0.7503415\tbest: 0.7508113 (876)\ttotal: 1m 30s\tremaining: 11.1s\n",
      "891:\tlearn: 0.9462987\ttest: 0.7503415\tbest: 0.7508113 (876)\ttotal: 1m 30s\tremaining: 11s\n",
      "892:\tlearn: 0.9462987\ttest: 0.7504697\tbest: 0.7508113 (876)\ttotal: 1m 30s\tremaining: 10.8s\n",
      "893:\tlearn: 0.9462987\ttest: 0.7505979\tbest: 0.7508113 (876)\ttotal: 1m 30s\tremaining: 10.7s\n",
      "894:\tlearn: 0.9463288\ttest: 0.7508544\tbest: 0.7508544 (894)\ttotal: 1m 30s\tremaining: 10.6s\n",
      "895:\tlearn: 0.9462953\ttest: 0.7505979\tbest: 0.7508544 (894)\ttotal: 1m 30s\tremaining: 10.5s\n",
      "896:\tlearn: 0.9462919\ttest: 0.7505979\tbest: 0.7508544 (894)\ttotal: 1m 30s\tremaining: 10.4s\n",
      "897:\tlearn: 0.9462919\ttest: 0.7505979\tbest: 0.7508544 (894)\ttotal: 1m 31s\tremaining: 10.3s\n",
      "898:\tlearn: 0.9463254\ttest: 0.7508544\tbest: 0.7508544 (894)\ttotal: 1m 31s\tremaining: 10.2s\n",
      "899:\tlearn: 0.9464291\ttest: 0.7509395\tbest: 0.7509395 (899)\ttotal: 1m 31s\tremaining: 10.1s\n",
      "900:\tlearn: 0.9464592\ttest: 0.7508544\tbest: 0.7509395 (899)\ttotal: 1m 31s\tremaining: 10s\n",
      "901:\tlearn: 0.9464558\ttest: 0.7508544\tbest: 0.7509395 (899)\ttotal: 1m 31s\tremaining: 9.94s\n",
      "902:\tlearn: 0.9464859\ttest: 0.7510678\tbest: 0.7510678 (902)\ttotal: 1m 31s\tremaining: 9.84s\n",
      "903:\tlearn: 0.9464291\ttest: 0.7508113\tbest: 0.7510678 (902)\ttotal: 1m 31s\tremaining: 9.73s\n",
      "904:\tlearn: 0.9464291\ttest: 0.7508113\tbest: 0.7510678 (902)\ttotal: 1m 31s\tremaining: 9.63s\n",
      "905:\tlearn: 0.9465998\ttest: 0.7509395\tbest: 0.7510678 (902)\ttotal: 1m 31s\tremaining: 9.53s\n",
      "906:\tlearn: 0.9465998\ttest: 0.7509395\tbest: 0.7510678 (902)\ttotal: 1m 31s\tremaining: 9.43s\n",
      "907:\tlearn: 0.9465998\ttest: 0.7509395\tbest: 0.7510678 (902)\ttotal: 1m 32s\tremaining: 9.33s\n",
      "908:\tlearn: 0.9465697\ttest: 0.7506831\tbest: 0.7510678 (902)\ttotal: 1m 32s\tremaining: 9.23s\n",
      "909:\tlearn: 0.9465096\ttest: 0.7504697\tbest: 0.7510678 (902)\ttotal: 1m 32s\tremaining: 9.13s\n",
      "910:\tlearn: 0.9465096\ttest: 0.7504697\tbest: 0.7510678 (902)\ttotal: 1m 32s\tremaining: 9.03s\n",
      "911:\tlearn: 0.9465765\ttest: 0.7510246\tbest: 0.7510678 (902)\ttotal: 1m 32s\tremaining: 8.92s\n",
      "912:\tlearn: 0.9465765\ttest: 0.7510246\tbest: 0.7510678 (902)\ttotal: 1m 32s\tremaining: 8.82s\n",
      "913:\tlearn: 0.9465765\ttest: 0.7508964\tbest: 0.7510678 (902)\ttotal: 1m 32s\tremaining: 8.72s\n",
      "914:\tlearn: 0.9466434\ttest: 0.7506831\tbest: 0.7510678 (902)\ttotal: 1m 32s\tremaining: 8.62s\n",
      "915:\tlearn: 0.9468072\ttest: 0.7510246\tbest: 0.7510678 (902)\ttotal: 1m 32s\tremaining: 8.52s\n",
      "916:\tlearn: 0.9468105\ttest: 0.7508964\tbest: 0.7510678 (902)\ttotal: 1m 32s\tremaining: 8.42s\n",
      "917:\tlearn: 0.9469074\ttest: 0.7508964\tbest: 0.7510678 (902)\ttotal: 1m 33s\tremaining: 8.31s\n",
      "918:\tlearn: 0.9469776\ttest: 0.7512378\tbest: 0.7512378 (918)\ttotal: 1m 33s\tremaining: 8.21s\n",
      "919:\tlearn: 0.9469776\ttest: 0.7512378\tbest: 0.7512378 (918)\ttotal: 1m 33s\tremaining: 8.11s\n",
      "920:\tlearn: 0.9470745\ttest: 0.7514510\tbest: 0.7514510 (920)\ttotal: 1m 33s\tremaining: 8.01s\n",
      "921:\tlearn: 0.9472382\ttest: 0.7511945\tbest: 0.7514510 (920)\ttotal: 1m 33s\tremaining: 7.91s\n",
      "922:\tlearn: 0.9473016\ttest: 0.7509382\tbest: 0.7514510 (920)\ttotal: 1m 33s\tremaining: 7.81s\n"
     ]
    },
    {
     "name": "stdout",
     "output_type": "stream",
     "text": [
      "923:\tlearn: 0.9473050\ttest: 0.7509382\tbest: 0.7514510 (920)\ttotal: 1m 33s\tremaining: 7.71s\n",
      "924:\tlearn: 0.9473050\ttest: 0.7511513\tbest: 0.7514510 (920)\ttotal: 1m 33s\tremaining: 7.61s\n",
      "925:\tlearn: 0.9473651\ttest: 0.7508951\tbest: 0.7514510 (920)\ttotal: 1m 33s\tremaining: 7.5s\n",
      "926:\tlearn: 0.9473985\ttest: 0.7508951\tbest: 0.7514510 (920)\ttotal: 1m 34s\tremaining: 7.4s\n",
      "927:\tlearn: 0.9473985\ttest: 0.7506821\tbest: 0.7514510 (920)\ttotal: 1m 34s\tremaining: 7.3s\n",
      "928:\tlearn: 0.9473985\ttest: 0.7506821\tbest: 0.7514510 (920)\ttotal: 1m 34s\tremaining: 7.2s\n",
      "929:\tlearn: 0.9474619\ttest: 0.7505541\tbest: 0.7514510 (920)\ttotal: 1m 34s\tremaining: 7.1s\n",
      "930:\tlearn: 0.9475254\ttest: 0.7505541\tbest: 0.7514510 (920)\ttotal: 1m 34s\tremaining: 7s\n",
      "931:\tlearn: 0.9475221\ttest: 0.7501704\tbest: 0.7514510 (920)\ttotal: 1m 34s\tremaining: 6.9s\n",
      "932:\tlearn: 0.9475855\ttest: 0.7502983\tbest: 0.7514510 (920)\ttotal: 1m 34s\tremaining: 6.8s\n",
      "933:\tlearn: 0.9475221\ttest: 0.7501704\tbest: 0.7514510 (920)\ttotal: 1m 34s\tremaining: 6.7s\n",
      "934:\tlearn: 0.9475554\ttest: 0.7503834\tbest: 0.7514510 (920)\ttotal: 1m 34s\tremaining: 6.59s\n",
      "935:\tlearn: 0.9475554\ttest: 0.7503834\tbest: 0.7514510 (920)\ttotal: 1m 34s\tremaining: 6.49s\n",
      "936:\tlearn: 0.9476923\ttest: 0.7508521\tbest: 0.7514510 (920)\ttotal: 1m 35s\tremaining: 6.39s\n",
      "937:\tlearn: 0.9476923\ttest: 0.7508521\tbest: 0.7514510 (920)\ttotal: 1m 35s\tremaining: 6.29s\n",
      "938:\tlearn: 0.9477557\ttest: 0.7508521\tbest: 0.7514510 (920)\ttotal: 1m 35s\tremaining: 6.19s\n",
      "939:\tlearn: 0.9477557\ttest: 0.7508521\tbest: 0.7514510 (920)\ttotal: 1m 35s\tremaining: 6.09s\n",
      "940:\tlearn: 0.9477891\ttest: 0.7504684\tbest: 0.7514510 (920)\ttotal: 1m 35s\tremaining: 5.99s\n",
      "941:\tlearn: 0.9477891\ttest: 0.7504684\tbest: 0.7514510 (920)\ttotal: 1m 35s\tremaining: 5.88s\n",
      "942:\tlearn: 0.9478859\ttest: 0.7503406\tbest: 0.7514510 (920)\ttotal: 1m 35s\tremaining: 5.78s\n",
      "943:\tlearn: 0.9479127\ttest: 0.7503406\tbest: 0.7514510 (920)\ttotal: 1m 35s\tremaining: 5.69s\n",
      "944:\tlearn: 0.9479461\ttest: 0.7502555\tbest: 0.7514510 (920)\ttotal: 1m 36s\tremaining: 5.59s\n",
      "945:\tlearn: 0.9479761\ttest: 0.7502555\tbest: 0.7514510 (920)\ttotal: 1m 36s\tremaining: 5.49s\n",
      "946:\tlearn: 0.9479461\ttest: 0.7503406\tbest: 0.7514510 (920)\ttotal: 1m 36s\tremaining: 5.39s\n",
      "947:\tlearn: 0.9479461\ttest: 0.7503406\tbest: 0.7514510 (920)\ttotal: 1m 36s\tremaining: 5.28s\n",
      "948:\tlearn: 0.9479794\ttest: 0.7504684\tbest: 0.7514510 (920)\ttotal: 1m 36s\tremaining: 5.18s\n",
      "949:\tlearn: 0.9480462\ttest: 0.7504684\tbest: 0.7514510 (920)\ttotal: 1m 36s\tremaining: 5.08s\n",
      "950:\tlearn: 0.9480194\ttest: 0.7505963\tbest: 0.7514510 (920)\ttotal: 1m 36s\tremaining: 4.98s\n",
      "951:\tlearn: 0.9480194\ttest: 0.7507241\tbest: 0.7514510 (920)\ttotal: 1m 36s\tremaining: 4.88s\n",
      "952:\tlearn: 0.9480828\ttest: 0.7508091\tbest: 0.7514510 (920)\ttotal: 1m 36s\tremaining: 4.78s\n",
      "953:\tlearn: 0.9481162\ttest: 0.7508091\tbest: 0.7514510 (920)\ttotal: 1m 36s\tremaining: 4.68s\n",
      "954:\tlearn: 0.9481162\ttest: 0.7508091\tbest: 0.7514510 (920)\ttotal: 1m 37s\tremaining: 4.57s\n",
      "955:\tlearn: 0.9481496\ttest: 0.7505534\tbest: 0.7514510 (920)\ttotal: 1m 37s\tremaining: 4.47s\n",
      "956:\tlearn: 0.9481496\ttest: 0.7505534\tbest: 0.7514510 (920)\ttotal: 1m 37s\tremaining: 4.37s\n",
      "957:\tlearn: 0.9481796\ttest: 0.7505534\tbest: 0.7514510 (920)\ttotal: 1m 37s\tremaining: 4.27s\n",
      "958:\tlearn: 0.9482463\ttest: 0.7507661\tbest: 0.7514510 (920)\ttotal: 1m 37s\tremaining: 4.17s\n",
      "959:\tlearn: 0.9482163\ttest: 0.7505106\tbest: 0.7514510 (920)\ttotal: 1m 37s\tremaining: 4.07s\n",
      "960:\tlearn: 0.9483098\ttest: 0.7506383\tbest: 0.7514510 (920)\ttotal: 1m 37s\tremaining: 3.96s\n",
      "961:\tlearn: 0.9483765\ttest: 0.7508509\tbest: 0.7514510 (920)\ttotal: 1m 37s\tremaining: 3.86s\n",
      "962:\tlearn: 0.9484098\ttest: 0.7510635\tbest: 0.7514510 (920)\ttotal: 1m 37s\tremaining: 3.76s\n",
      "963:\tlearn: 0.9483765\ttest: 0.7508509\tbest: 0.7514510 (920)\ttotal: 1m 38s\tremaining: 3.66s\n",
      "964:\tlearn: 0.9484431\ttest: 0.7508509\tbest: 0.7514510 (920)\ttotal: 1m 38s\tremaining: 3.56s\n",
      "965:\tlearn: 0.9485098\ttest: 0.7509357\tbest: 0.7514510 (920)\ttotal: 1m 38s\tremaining: 3.46s\n",
      "966:\tlearn: 0.9486432\ttest: 0.7510635\tbest: 0.7514510 (920)\ttotal: 1m 38s\tremaining: 3.36s\n",
      "967:\tlearn: 0.9486432\ttest: 0.7510635\tbest: 0.7514510 (920)\ttotal: 1m 38s\tremaining: 3.25s\n",
      "968:\tlearn: 0.9486432\ttest: 0.7509357\tbest: 0.7514510 (920)\ttotal: 1m 38s\tremaining: 3.15s\n",
      "969:\tlearn: 0.9486529\ttest: 0.7511482\tbest: 0.7514510 (920)\ttotal: 1m 38s\tremaining: 3.05s\n",
      "970:\tlearn: 0.9486196\ttest: 0.7508927\tbest: 0.7514510 (920)\ttotal: 1m 38s\tremaining: 2.95s\n",
      "971:\tlearn: 0.9485863\ttest: 0.7508927\tbest: 0.7514510 (920)\ttotal: 1m 38s\tremaining: 2.85s\n",
      "972:\tlearn: 0.9485863\ttest: 0.7510204\tbest: 0.7514510 (920)\ttotal: 1m 38s\tremaining: 2.75s\n",
      "973:\tlearn: 0.9486529\ttest: 0.7510204\tbest: 0.7514510 (920)\ttotal: 1m 39s\tremaining: 2.65s\n",
      "974:\tlearn: 0.9486229\ttest: 0.7507222\tbest: 0.7514510 (920)\ttotal: 1m 39s\tremaining: 2.54s\n",
      "975:\tlearn: 0.9486895\ttest: 0.7507222\tbest: 0.7514510 (920)\ttotal: 1m 39s\tremaining: 2.44s\n",
      "976:\tlearn: 0.9486895\ttest: 0.7507222\tbest: 0.7514510 (920)\ttotal: 1m 39s\tremaining: 2.34s\n",
      "977:\tlearn: 0.9486562\ttest: 0.7505946\tbest: 0.7514510 (920)\ttotal: 1m 39s\tremaining: 2.24s\n",
      "978:\tlearn: 0.9486895\ttest: 0.7505946\tbest: 0.7514510 (920)\ttotal: 1m 39s\tremaining: 2.14s\n",
      "979:\tlearn: 0.9486895\ttest: 0.7505946\tbest: 0.7514510 (920)\ttotal: 1m 39s\tremaining: 2.03s\n",
      "980:\tlearn: 0.9487895\ttest: 0.7506793\tbest: 0.7514510 (920)\ttotal: 1m 39s\tremaining: 1.93s\n",
      "981:\tlearn: 0.9487862\ttest: 0.7506793\tbest: 0.7514510 (920)\ttotal: 1m 39s\tremaining: 1.83s\n",
      "982:\tlearn: 0.9487862\ttest: 0.7506793\tbest: 0.7514510 (920)\ttotal: 1m 40s\tremaining: 1.73s\n",
      "983:\tlearn: 0.9488528\ttest: 0.7506793\tbest: 0.7514510 (920)\ttotal: 1m 40s\tremaining: 1.63s\n",
      "984:\tlearn: 0.9488861\ttest: 0.7510190\tbest: 0.7514510 (920)\ttotal: 1m 40s\tremaining: 1.53s\n",
      "985:\tlearn: 0.9488861\ttest: 0.7510190\tbest: 0.7514510 (920)\ttotal: 1m 40s\tremaining: 1.42s\n",
      "986:\tlearn: 0.9489828\ttest: 0.7512742\tbest: 0.7514510 (920)\ttotal: 1m 40s\tremaining: 1.32s\n",
      "987:\tlearn: 0.9489528\ttest: 0.7514019\tbest: 0.7514510 (920)\ttotal: 1m 40s\tremaining: 1.22s\n",
      "988:\tlearn: 0.9489528\ttest: 0.7516573\tbest: 0.7516573 (988)\ttotal: 1m 40s\tremaining: 1.12s\n",
      "989:\tlearn: 0.9489861\ttest: 0.7516573\tbest: 0.7516573 (988)\ttotal: 1m 40s\tremaining: 1.02s\n",
      "990:\tlearn: 0.9489861\ttest: 0.7513174\tbest: 0.7516573 (988)\ttotal: 1m 40s\tremaining: 916ms\n",
      "991:\tlearn: 0.9490527\ttest: 0.7517007\tbest: 0.7517007 (991)\ttotal: 1m 40s\tremaining: 814ms\n",
      "992:\tlearn: 0.9490527\ttest: 0.7517007\tbest: 0.7517007 (991)\ttotal: 1m 41s\tremaining: 712ms\n",
      "993:\tlearn: 0.9490860\ttest: 0.7513174\tbest: 0.7517007 (991)\ttotal: 1m 41s\tremaining: 610ms\n",
      "994:\tlearn: 0.9492159\ttest: 0.7510620\tbest: 0.7517007 (991)\ttotal: 1m 41s\tremaining: 509ms\n",
      "995:\tlearn: 0.9492428\ttest: 0.7509774\tbest: 0.7517007 (991)\ttotal: 1m 41s\tremaining: 407ms\n",
      "996:\tlearn: 0.9493394\ttest: 0.7511051\tbest: 0.7517007 (991)\ttotal: 1m 41s\tremaining: 305ms\n",
      "997:\tlearn: 0.9493727\ttest: 0.7511051\tbest: 0.7517007 (991)\ttotal: 1m 41s\tremaining: 203ms\n",
      "998:\tlearn: 0.9493964\ttest: 0.7511051\tbest: 0.7517007 (991)\ttotal: 1m 41s\tremaining: 102ms\n",
      "999:\tlearn: 0.9494930\ttest: 0.7513174\tbest: 0.7517007 (991)\ttotal: 1m 41s\tremaining: 0us\n",
      "\n",
      "bestTest = 0.7517006803\n",
      "bestIteration = 991\n",
      "\n",
      "Shrink model to first 992 iterations.\n"
     ]
    },
    {
     "data": {
      "text/plain": [
       "<catboost.core.CatBoostClassifier at 0x2a5051390>"
      ]
     },
     "execution_count": 17,
     "metadata": {},
     "output_type": "execute_result"
    }
   ],
   "source": [
    "cb_model = CatBoostClassifier(eval_metric = 'F1', verbose=True)\n",
    "cb_model.fit(c_train, y_train, eval_set = (c_valid, y_valid))"
   ]
  },
  {
   "cell_type": "code",
   "execution_count": 18,
   "metadata": {},
   "outputs": [
    {
     "name": "stderr",
     "output_type": "stream",
     "text": [
      "/Users/artemmm/anaconda3/lib/python3.11/site-packages/sklearn/linear_model/_sag.py:350: ConvergenceWarning: The max_iter was reached which means the coef_ did not converge\n",
      "  warnings.warn(\n",
      "/Users/artemmm/anaconda3/lib/python3.11/site-packages/sklearn/linear_model/_sag.py:350: ConvergenceWarning: The max_iter was reached which means the coef_ did not converge\n",
      "  warnings.warn(\n",
      "/Users/artemmm/anaconda3/lib/python3.11/site-packages/sklearn/linear_model/_sag.py:350: ConvergenceWarning: The max_iter was reached which means the coef_ did not converge\n",
      "  warnings.warn(\n",
      "/Users/artemmm/anaconda3/lib/python3.11/site-packages/sklearn/linear_model/_sag.py:350: ConvergenceWarning: The max_iter was reached which means the coef_ did not converge\n",
      "  warnings.warn(\n",
      "/Users/artemmm/anaconda3/lib/python3.11/site-packages/sklearn/linear_model/_sag.py:350: ConvergenceWarning: The max_iter was reached which means the coef_ did not converge\n",
      "  warnings.warn(\n"
     ]
    },
    {
     "name": "stdout",
     "output_type": "stream",
     "text": [
      "f1 на LR: 0.7366447985004686 best c: 13 jobs: 1\n"
     ]
    },
    {
     "name": "stderr",
     "output_type": "stream",
     "text": [
      "/Users/artemmm/anaconda3/lib/python3.11/site-packages/sklearn/linear_model/_sag.py:350: ConvergenceWarning: The max_iter was reached which means the coef_ did not converge\n",
      "  warnings.warn(\n"
     ]
    }
   ],
   "source": [
    "best_f1 = 0\n",
    "for c in [2,5,11,13,15,17]:\n",
    "    for jobs in [1,2,3]:\n",
    "        model = LogisticRegression(max_iter = 70, C = c, solver = 'saga',n_jobs = jobs,penalty = 'l2', random_state = RANDOMSTATE)\n",
    "        model.fit(c_train, y_train)\n",
    "        pred = model.predict(c_valid)\n",
    "        f1_s = f1_score(pred, y_valid)\n",
    "        if f1_s > best_f1:\n",
    "            best_f1 = f1_s\n",
    "            best_c = c\n",
    "            best_j = jobs\n",
    "            lr_conf_mtrx = confusion_matrix(y_test, pred)\n",
    "print('f1 на LR:', best_f1, 'best c:', best_c, 'jobs:', best_j)"
   ]
  },
  {
   "cell_type": "markdown",
   "metadata": {},
   "source": [
    "**Итог: как видим, CatBoost справляется лучше, чем LinearRegresion**"
   ]
  },
  {
   "cell_type": "markdown",
   "metadata": {},
   "source": [
    "**Итог: модель CatBoost превзошла baseline-модель и порог проекта (f1 > 0.75)**"
   ]
  },
  {
   "cell_type": "markdown",
   "metadata": {},
   "source": [
    "### BERT - модель взята с HuggingFace"
   ]
  },
  {
   "cell_type": "code",
   "execution_count": 19,
   "metadata": {},
   "outputs": [
    {
     "data": {
      "text/html": [
       "<div>\n",
       "<style scoped>\n",
       "    .dataframe tbody tr th:only-of-type {\n",
       "        vertical-align: middle;\n",
       "    }\n",
       "\n",
       "    .dataframe tbody tr th {\n",
       "        vertical-align: top;\n",
       "    }\n",
       "\n",
       "    .dataframe thead th {\n",
       "        text-align: right;\n",
       "    }\n",
       "</style>\n",
       "<table border=\"1\" class=\"dataframe\">\n",
       "  <thead>\n",
       "    <tr style=\"text-align: right;\">\n",
       "      <th></th>\n",
       "      <th>text</th>\n",
       "      <th>toxic</th>\n",
       "    </tr>\n",
       "  </thead>\n",
       "  <tbody>\n",
       "    <tr>\n",
       "      <th>22101</th>\n",
       "      <td>\" Hi, I reacted to this unexplained deletion f...</td>\n",
       "      <td>0</td>\n",
       "    </tr>\n",
       "    <tr>\n",
       "      <th>50892</th>\n",
       "      <td>\"04, 23 February 2008 (UTC)  04:\"</td>\n",
       "      <td>0</td>\n",
       "    </tr>\n",
       "    <tr>\n",
       "      <th>120199</th>\n",
       "      <td>\"  \"\"Founding Father Lee Kuan Yew\"\" wasn't wri...</td>\n",
       "      <td>0</td>\n",
       "    </tr>\n",
       "    <tr>\n",
       "      <th>139993</th>\n",
       "      <td>the Coolac geo site,</td>\n",
       "      <td>0</td>\n",
       "    </tr>\n",
       "    <tr>\n",
       "      <th>141951</th>\n",
       "      <td>so they no longer features my original text.</td>\n",
       "      <td>0</td>\n",
       "    </tr>\n",
       "  </tbody>\n",
       "</table>\n",
       "</div>"
      ],
      "text/plain": [
       "                                                     text  toxic\n",
       "22101   \" Hi, I reacted to this unexplained deletion f...      0\n",
       "50892                   \"04, 23 February 2008 (UTC)  04:\"      0\n",
       "120199  \"  \"\"Founding Father Lee Kuan Yew\"\" wasn't wri...      0\n",
       "139993                               the Coolac geo site,      0\n",
       "141951       so they no longer features my original text.      0"
      ]
     },
     "execution_count": 19,
     "metadata": {},
     "output_type": "execute_result"
    }
   ],
   "source": [
    "data = data.drop('lemmatized_text', axis = 1)\n",
    "#features_downsampled, target_downsampled = downsample(data['text'], data['toxic'], 0.1)\n",
    "#data = pd.concat([features_downsampled, target_downsampled], axis = 1)\n",
    "data = data.sample(300)\n",
    "\n",
    "data.head()"
   ]
  },
  {
   "cell_type": "code",
   "execution_count": 20,
   "metadata": {},
   "outputs": [
    {
     "name": "stderr",
     "output_type": "stream",
     "text": [
      "Truncation was not explicitly activated but `max_length` is provided a specific value, please use `truncation=True` to explicitly truncate examples to max length. Defaulting to 'longest_first' truncation strategy. If you encode pairs of sequences (GLUE-style) with the tokenizer you can select this strategy more precisely by providing a specific strategy to `truncation`.\n"
     ]
    }
   ],
   "source": [
    "from transformers import AutoTokenizer, AutoModelForSequenceClassification\n",
    "from transformers import BertModel\n",
    "tokenizer = AutoTokenizer.from_pretrained(\"unitary/toxic-bert\", do_lower_case = True)\n",
    "tokenized = data['text'].apply(\n",
    "    lambda x: tokenizer.encode(x, add_special_tokens=True, max_length = 512))\n",
    "max_len = 0\n",
    "for i in tokenized.values:\n",
    "    if len(i) > max_len:\n",
    "        max_len = len(i)\n",
    "\n",
    "padded = np.array([i + [0]*(max_len - len(i)) for i in tokenized.values])\n",
    "attention_mask = np.where(padded != 0, 1, 0)\n",
    "model = AutoModelForSequenceClassification.from_pretrained(\"unitary/toxic-bert\")"
   ]
  },
  {
   "cell_type": "code",
   "execution_count": 21,
   "metadata": {},
   "outputs": [
    {
     "data": {
      "application/vnd.jupyter.widget-view+json": {
       "model_id": "dc43a49553d2480ea51987de430f1b2b",
       "version_major": 2,
       "version_minor": 0
      },
      "text/plain": [
       "  0%|          | 0/15 [00:00<?, ?it/s]"
      ]
     },
     "metadata": {},
     "output_type": "display_data"
    }
   ],
   "source": [
    "batch_size = 20\n",
    "embeddings = []\n",
    "for i in notebook.tqdm(range(padded.shape[0] // batch_size)):\n",
    "        batch = torch.LongTensor(padded[batch_size*i:batch_size*(i+1)])\n",
    "        attention_mask_batch = torch.LongTensor(attention_mask[batch_size*i:batch_size*(i+1)])\n",
    "        with torch.no_grad():\n",
    "            batch_embeddings = model(batch, attention_mask=attention_mask_batch)\n",
    "        embeddings.append(batch_embeddings[0].numpy())"
   ]
  },
  {
   "cell_type": "code",
   "execution_count": 22,
   "metadata": {},
   "outputs": [
    {
     "name": "stdout",
     "output_type": "stream",
     "text": [
      "0.9333333333333333\n"
     ]
    }
   ],
   "source": [
    "features = np.concatenate(embeddings)\n",
    "train, test, y_train, y_test = train_test_split(features,data['toxic'],\n",
    "                                                test_size = 0.3, shuffle = False,\n",
    "                                                random_state = RANDOMSTATE)\n",
    "x_test,x_valid, y_test, y_valid = train_test_split(test, y_test, test_size = 0.5, random_state = RANDOMSTATE)\n",
    "\n",
    "model = LogisticRegression()\n",
    "model.fit(train, y_train)\n",
    "pred = model.predict(x_valid)\n",
    "print(f1_score(pred, y_valid))\n",
    "cbc_conf_mtrx = confusion_matrix(y_valid, pred)"
   ]
  },
  {
   "cell_type": "code",
   "execution_count": 23,
   "metadata": {},
   "outputs": [
    {
     "data": {
      "image/png": "[encoded data removed]",
      "text/plain": [
       "<Figure size 500x300 with 1 Axes>"
      ]
     },
     "metadata": {},
     "output_type": "display_data"
    }
   ],
   "source": [
    "sns.set_theme(style='whitegrid')\n",
    "fig, ax = plt.subplots(1, 1, figsize=(5, 3))\n",
    "sns.heatmap(cbc_conf_mtrx, ax=ax, annot=True, fmt='n', annot_kws={'fontsize':15},\n",
    "            cbar=False, linewidths=3, linecolor='#eb9e34', cmap=plt.cm.Blues, center=25000)\n",
    "ax.set_title('Матрица ошибок (BERT LogisticRegression)', fontsize=12, y=1.05)\n",
    "ax.tick_params(axis='y', labelrotation=0)\n",
    "ax.set_xlabel('Прогноз', fontsize = 15, color='red')\n",
    "ax.set_ylabel('Истина', fontsize = 15, color='green')\n",
    "plt.show()"
   ]
  },
  {
   "cell_type": "markdown",
   "metadata": {},
   "source": [
    "Обучать BERT пришлось на logisticregression.\n",
    "\n",
    "Итог даже на LogisticRegression оказался очень хороший, модель прошла и бейзлайн и порог проекта.\n",
    "\n",
    "BERT обработал всего несколько сотен записей, больше моё железо не тянет, на более мощных машинах результат оказался бы значительно лучше.\n",
    "\n",
    "**Вывод** Лучшая модель - BERT + LR.\n",
    "\n",
    "Но, так как BERT это уже готовая модель обработки, то в качестве итогового тестирования посмотрим на TF-IDF + CatBoost"
   ]
  },
  {
   "cell_type": "markdown",
   "metadata": {},
   "source": [
    "### Итоговое тестирование модели TF-IDF"
   ]
  },
  {
   "cell_type": "code",
   "execution_count": 24,
   "metadata": {},
   "outputs": [
    {
     "name": "stdout",
     "output_type": "stream",
     "text": [
      "0.7582875229052141\n"
     ]
    }
   ],
   "source": [
    "predict = cb_model.predict(c_test_cb)\n",
    "cb_conf_mtrx = confusion_matrix(y_test_cb, predict)\n",
    "print(f1_score(predict, y_test_cb))"
   ]
  },
  {
   "cell_type": "markdown",
   "metadata": {},
   "source": [
    "CatBoost TF-IDF прошла порог проекта в 0.75"
   ]
  },
  {
   "cell_type": "markdown",
   "metadata": {},
   "source": [
    "## Выводы"
   ]
  },
  {
   "cell_type": "code",
   "execution_count": 25,
   "metadata": {},
   "outputs": [
    {
     "data": {
      "image/png": "[encoded data removed]",
      "text/plain": [
       "<Figure size 1300x300 with 3 Axes>"
      ]
     },
     "metadata": {},
     "output_type": "display_data"
    }
   ],
   "source": [
    "sns.set_theme(style='whitegrid')\n",
    "\n",
    "fig, ax = plt.subplots(1, 3, figsize=(13, 3))\n",
    "\n",
    "sns.heatmap(cb_conf_mtrx, ax=ax[0], annot=True, fmt='n', annot_kws={'fontsize':15},\n",
    "            cbar=False, linewidths=3, linecolor='#eb9e34', cmap=plt.cm.Blues, center=25000)\n",
    "sns.heatmap(cbc_conf_mtrx, ax=ax[1], annot=True, fmt='n', annot_kws={'fontsize':15},\n",
    "            cbar=False, linewidths=3, linecolor='#eb9e34', cmap=plt.cm.Blues, center=25000)\n",
    "sns.heatmap(lr_conf_mtrx, ax=ax[2], annot=True, fmt='n', annot_kws={'fontsize':15},\n",
    "            cbar=False, linewidths=3, linecolor='#eb9e34', cmap=plt.cm.Blues, center=25000)\n",
    "\n",
    "ax[0].set_title('Матрица ошибок (CatBoost TF-IDF)', fontsize=12, y=1.05)\n",
    "ax[0].tick_params(axis='y', labelrotation=0)\n",
    "ax[0].set_xlabel('Прогноз', fontsize = 15, color='red')\n",
    "ax[0].set_ylabel('Истина', fontsize = 15, color='green')\n",
    "\n",
    "ax[1].set_title('Матрица ошибок (BERT LogisticRegression)', fontsize=12, y=1.05)\n",
    "ax[1].tick_params(axis='y', labelrotation=0)\n",
    "ax[1].set_xlabel('Прогноз', fontsize = 15, color='red')\n",
    "ax[1].set_ylabel('Истина', fontsize = 15, color='green')\n",
    "\n",
    "ax[2].set_title('Матрица ошибок (TF-IDF LogisticRegression)', fontsize=12, y=1.05)\n",
    "ax[2].tick_params(axis='y', labelrotation=0)\n",
    "ax[2].set_xlabel('Прогноз', fontsize = 15, color='red')\n",
    "ax[2].set_ylabel('Истина', fontsize = 15, color='green')\n",
    "\n",
    "plt.show()"
   ]
  },
  {
   "cell_type": "code",
   "execution_count": 27,
   "metadata": {},
   "outputs": [
    {
     "data": {
      "image/png": "[encoded data removed]",
      "text/plain": [
       "<Figure size 1000x800 with 1 Axes>"
      ]
     },
     "metadata": {},
     "output_type": "display_data"
    }
   ],
   "source": [
    "from catboost import Pool\n",
    "feature_importance = cb_model.get_feature_importance()\n",
    "words_list = []\n",
    "importance_list = []\n",
    "for i, importance in enumerate(feature_importance):\n",
    "    if importance > 0.9:\n",
    "        words_list.append([i])\n",
    "        importance_list.append(importance)\n",
    "words_list_w = []\n",
    "for i in words_list:\n",
    "    words = count_tf_idf.get_feature_names_out()\n",
    "    words_list_w.append(words[i])\n",
    "importance_f = pd.DataFrame()\n",
    "importance_f['words'] = words_list_w\n",
    "importance_f['importance'] = importance_list\n",
    "importance_f['words'] = importance_f['words'].apply(lambda x: ', '.join(map(str, x)))\n",
    "importance_f = importance_f.sort_values(by='importance', ascending=False)\n",
    "plt.figure(figsize=(10, 8))\n",
    "sns.barplot(x='importance', y='words', data=importance_f, palette='viridis')\n",
    "plt.title('Значимость слов')\n",
    "plt.xlabel('Значимость')\n",
    "plt.ylabel('Слова')\n",
    "plt.show()"
   ]
  },
  {
   "cell_type": "markdown",
   "metadata": {},
   "source": [
    "Модель определила, что эти грубые слова зачастую влияют на токсичность комментария."
   ]
  },
  {
   "cell_type": "markdown",
   "metadata": {},
   "source": [
    "### Вывод:\n",
    "\n",
    "В ходе данной работы я:\n",
    "- Загрузил и предобработал данные.\n",
    "- Лемматизировал текст (используя WordNetLemmatizer и Spacy).\n",
    "- Использовал downsampling для борьбы с дисбалансом.\n",
    "- Провёл TF-IDF обработку данных.\n",
    "- Обучил модель CatBoost.\n",
    "- Провёл обработку текста с помощью BERT.\n",
    "- Обучил модель LogisticRegression.\n",
    "- Построил confisuon matrix для обоих моделей.\n",
    "- Провел исследование важности признаков для лучшей модели.\n",
    "\n",
    "\n",
    "Три модели справляются с задачей неплохо, все прошли baseline-порог, но порог проекта в 0.75 прошли только CatBoost TF-IDF и BERT LR. Сравнив два лемматайзера - Spacy и WordNetLemmaizer, могу сказать, что качество модели после обработки Spacy немного лучше, чем WordNet, но второй, в свою очередь, имеет преимущество по скорости обработки текста.\n",
    "\n",
    "TF-IDF справляется с задачей в разы быстрее, но ему нужно данных значительно больше, чем для BERT.\n",
    "\n",
    "Из-за недостатка мощности BERT приходится обучать всего на 300 строках, если иметь более мощное железо - результат окажется лучше.\n",
    "\n",
    "F1 score на BERT: 0.9333, F1 score на TF-IDF: 0.75.\n",
    "\n",
    "Имеется список слов, появление которых значительно повышают вероятность классификации комментария к \"токсичному\"."
   ]
  },
  {
   "cell_type": "markdown",
   "metadata": {},
   "source": [
    "## Чек-лист проверки"
   ]
  },
  {
   "cell_type": "markdown",
   "metadata": {},
   "source": [
    "- [x]  Jupyter Notebook открыт\n",
    "- [x]  Весь код выполняется без ошибок\n",
    "- [x]  Ячейки с кодом расположены в порядке исполнения\n",
    "- [x]  Данные загружены и подготовлены\n",
    "- [x]  Модели обучены\n",
    "- [x]  Значение метрики *F1* не меньше 0.75\n",
    "- [x]  Выводы написаны"
   ]
  }
 ],
 "metadata": {
  "ExecuteTimeLog": [
   {
    "duration": 22152,
    "start_time": "2024-03-18T11:40:01.781Z"
   },
   {
    "duration": 756,
    "start_time": "2024-03-18T11:40:23.935Z"
   },
   {
    "duration": 8857,
    "start_time": "2024-03-18T13:45:21.825Z"
   },
   {
    "duration": 3440,
    "start_time": "2024-03-18T13:45:53.780Z"
   },
   {
    "duration": 13,
    "start_time": "2024-03-18T13:46:28.999Z"
   },
   {
    "duration": 67099,
    "start_time": "2024-03-18T13:48:13.487Z"
   },
   {
    "duration": 67785,
    "start_time": "2024-03-18T13:49:29.589Z"
   },
   {
    "duration": 66,
    "start_time": "2024-03-18T13:55:27.115Z"
   },
   {
    "duration": 883,
    "start_time": "2024-03-18T13:55:28.280Z"
   },
   {
    "duration": 7,
    "start_time": "2024-03-18T13:55:30.068Z"
   },
   {
    "duration": 13,
    "start_time": "2024-03-18T13:55:30.372Z"
   },
   {
    "duration": 11,
    "start_time": "2024-03-18T13:55:31.204Z"
   },
   {
    "duration": 15,
    "start_time": "2024-03-18T13:55:31.687Z"
   },
   {
    "duration": 67563,
    "start_time": "2024-03-18T13:55:32.104Z"
   },
   {
    "duration": 35,
    "start_time": "2024-03-18T13:56:39.669Z"
   },
   {
    "duration": 6,
    "start_time": "2024-03-18T13:56:39.706Z"
   },
   {
    "duration": 4,
    "start_time": "2024-03-18T13:56:39.714Z"
   },
   {
    "duration": 30,
    "start_time": "2024-03-18T13:56:39.719Z"
   },
   {
    "duration": 7,
    "start_time": "2024-03-18T13:56:39.751Z"
   },
   {
    "duration": 13,
    "start_time": "2024-03-18T13:56:39.760Z"
   },
   {
    "duration": 82,
    "start_time": "2024-03-18T13:56:43.392Z"
   },
   {
    "duration": 4,
    "start_time": "2024-03-18T13:56:43.841Z"
   },
   {
    "duration": 5,
    "start_time": "2024-03-18T13:56:44.301Z"
   },
   {
    "duration": 150320,
    "start_time": "2024-03-18T13:56:49.505Z"
   },
   {
    "duration": 39461,
    "start_time": "2024-03-18T14:03:09.994Z"
   },
   {
    "duration": 56139,
    "start_time": "2024-03-18T14:03:49.730Z"
   },
   {
    "duration": 11,
    "start_time": "2024-03-18T14:04:55.849Z"
   },
   {
    "duration": 944,
    "start_time": "2024-03-18T14:04:55.862Z"
   },
   {
    "duration": 7,
    "start_time": "2024-03-18T14:04:56.807Z"
   },
   {
    "duration": 23,
    "start_time": "2024-03-18T14:04:56.816Z"
   },
   {
    "duration": 20,
    "start_time": "2024-03-18T14:04:56.841Z"
   },
   {
    "duration": 12,
    "start_time": "2024-03-18T14:04:56.863Z"
   },
   {
    "duration": 21,
    "start_time": "2024-03-18T14:05:06.094Z"
   },
   {
    "duration": 6,
    "start_time": "2024-03-18T14:05:06.117Z"
   },
   {
    "duration": 25,
    "start_time": "2024-03-18T14:05:06.125Z"
   },
   {
    "duration": 9,
    "start_time": "2024-03-18T14:05:06.152Z"
   },
   {
    "duration": 4,
    "start_time": "2024-03-18T14:05:06.163Z"
   },
   {
    "duration": 1783,
    "start_time": "2024-03-18T14:05:06.168Z"
   },
   {
    "duration": 0,
    "start_time": "2024-03-18T14:05:07.953Z"
   },
   {
    "duration": 0,
    "start_time": "2024-03-18T14:05:07.954Z"
   },
   {
    "duration": 0,
    "start_time": "2024-03-18T14:05:07.955Z"
   },
   {
    "duration": 0,
    "start_time": "2024-03-18T14:05:07.957Z"
   },
   {
    "duration": 0,
    "start_time": "2024-03-18T14:05:07.958Z"
   },
   {
    "duration": 11,
    "start_time": "2024-03-18T14:05:17.831Z"
   },
   {
    "duration": 941,
    "start_time": "2024-03-18T14:05:18.599Z"
   },
   {
    "duration": 8,
    "start_time": "2024-03-18T14:05:19.704Z"
   },
   {
    "duration": 16,
    "start_time": "2024-03-18T14:05:19.976Z"
   },
   {
    "duration": 11,
    "start_time": "2024-03-18T14:05:20.947Z"
   },
   {
    "duration": 9,
    "start_time": "2024-03-18T14:05:21.471Z"
   },
   {
    "duration": 69316,
    "start_time": "2024-03-18T14:05:21.903Z"
   },
   {
    "duration": 28,
    "start_time": "2024-03-18T14:06:31.221Z"
   },
   {
    "duration": 52,
    "start_time": "2024-03-18T14:06:31.250Z"
   },
   {
    "duration": 43,
    "start_time": "2024-03-18T14:06:31.304Z"
   },
   {
    "duration": 59,
    "start_time": "2024-03-18T14:06:31.349Z"
   },
   {
    "duration": 41,
    "start_time": "2024-03-18T14:06:31.410Z"
   },
   {
    "duration": 75,
    "start_time": "2024-03-18T14:06:31.453Z"
   },
   {
    "duration": 180,
    "start_time": "2024-03-18T14:06:31.529Z"
   },
   {
    "duration": 21,
    "start_time": "2024-03-18T14:06:31.711Z"
   },
   {
    "duration": 59,
    "start_time": "2024-03-18T14:06:31.734Z"
   },
   {
    "duration": 55308,
    "start_time": "2024-03-18T14:06:31.795Z"
   },
   {
    "duration": 5550,
    "start_time": "2024-03-18T14:07:42.812Z"
   },
   {
    "duration": 922,
    "start_time": "2024-03-18T14:07:48.364Z"
   },
   {
    "duration": 7,
    "start_time": "2024-03-18T14:07:49.291Z"
   },
   {
    "duration": 16,
    "start_time": "2024-03-18T14:07:49.300Z"
   },
   {
    "duration": 13,
    "start_time": "2024-03-18T14:07:49.317Z"
   },
   {
    "duration": 29,
    "start_time": "2024-03-18T14:07:49.331Z"
   },
   {
    "duration": 66707,
    "start_time": "2024-03-18T14:07:49.362Z"
   },
   {
    "duration": 32,
    "start_time": "2024-03-18T14:08:56.071Z"
   },
   {
    "duration": 7,
    "start_time": "2024-03-18T14:08:56.104Z"
   },
   {
    "duration": 5,
    "start_time": "2024-03-18T14:08:56.112Z"
   },
   {
    "duration": 6,
    "start_time": "2024-03-18T14:08:56.119Z"
   },
   {
    "duration": 4,
    "start_time": "2024-03-18T14:08:56.127Z"
   },
   {
    "duration": 10,
    "start_time": "2024-03-18T14:08:56.133Z"
   },
   {
    "duration": 102,
    "start_time": "2024-03-18T14:08:56.145Z"
   },
   {
    "duration": 4,
    "start_time": "2024-03-18T14:08:56.249Z"
   },
   {
    "duration": 6,
    "start_time": "2024-03-18T14:08:56.255Z"
   },
   {
    "duration": 393,
    "start_time": "2024-03-18T14:08:56.263Z"
   },
   {
    "duration": 31845,
    "start_time": "2024-03-18T14:09:25.901Z"
   },
   {
    "duration": 44,
    "start_time": "2024-03-18T14:12:44.109Z"
   },
   {
    "duration": 45,
    "start_time": "2024-03-18T14:12:55.326Z"
   },
   {
    "duration": 56,
    "start_time": "2024-03-18T14:13:05.795Z"
   },
   {
    "duration": 219,
    "start_time": "2024-03-18T14:13:48.542Z"
   },
   {
    "duration": 12,
    "start_time": "2024-03-18T14:13:52.595Z"
   },
   {
    "duration": 931,
    "start_time": "2024-03-18T14:13:52.609Z"
   },
   {
    "duration": 7,
    "start_time": "2024-03-18T14:13:53.542Z"
   },
   {
    "duration": 12,
    "start_time": "2024-03-18T14:13:53.551Z"
   },
   {
    "duration": 38,
    "start_time": "2024-03-18T14:13:53.566Z"
   },
   {
    "duration": 22,
    "start_time": "2024-03-18T14:13:53.605Z"
   },
   {
    "duration": 68640,
    "start_time": "2024-03-18T14:13:53.629Z"
   },
   {
    "duration": 26,
    "start_time": "2024-03-18T14:15:02.271Z"
   },
   {
    "duration": 82,
    "start_time": "2024-03-18T14:15:02.298Z"
   },
   {
    "duration": 70,
    "start_time": "2024-03-18T14:15:02.383Z"
   },
   {
    "duration": 64,
    "start_time": "2024-03-18T14:15:02.455Z"
   },
   {
    "duration": 68,
    "start_time": "2024-03-18T14:15:02.521Z"
   },
   {
    "duration": 35,
    "start_time": "2024-03-18T14:15:02.591Z"
   },
   {
    "duration": 106,
    "start_time": "2024-03-18T14:15:02.629Z"
   },
   {
    "duration": 4,
    "start_time": "2024-03-18T14:15:02.736Z"
   },
   {
    "duration": 24,
    "start_time": "2024-03-18T14:15:02.741Z"
   },
   {
    "duration": 33179,
    "start_time": "2024-03-18T14:15:02.766Z"
   },
   {
    "duration": 48,
    "start_time": "2024-03-18T14:15:35.947Z"
   },
   {
    "duration": 23,
    "start_time": "2024-03-18T14:19:16.599Z"
   },
   {
    "duration": 54,
    "start_time": "2024-03-18T14:19:31.833Z"
   },
   {
    "duration": 77,
    "start_time": "2024-03-18T14:19:40.657Z"
   },
   {
    "duration": 77,
    "start_time": "2024-03-18T14:19:48.497Z"
   },
   {
    "duration": 75,
    "start_time": "2024-03-18T14:19:55.911Z"
   },
   {
    "duration": 88,
    "start_time": "2024-03-18T14:20:18.125Z"
   },
   {
    "duration": 100754,
    "start_time": "2024-03-18T14:24:09.703Z"
   },
   {
    "duration": 60952,
    "start_time": "2024-03-18T14:25:52.993Z"
   },
   {
    "duration": 107448,
    "start_time": "2024-03-18T14:26:54.866Z"
   },
   {
    "duration": 29558,
    "start_time": "2024-03-18T14:28:43.254Z"
   },
   {
    "duration": 19,
    "start_time": "2024-03-18T14:29:18.301Z"
   },
   {
    "duration": 10777,
    "start_time": "2024-03-18T14:29:27.140Z"
   }
  ],
  "kernelspec": {
   "display_name": "Python 3 (ipykernel)",
   "language": "python",
   "name": "python3"
  },
  "language_info": {
   "codemirror_mode": {
    "name": "ipython",
    "version": 3
   },
   "file_extension": ".py",
   "mimetype": "text/x-python",
   "name": "python",
   "nbconvert_exporter": "python",
   "pygments_lexer": "ipython3",
   "version": "3.11.6"
  },
  "toc": {
   "base_numbering": 1,
   "nav_menu": {},
   "number_sections": true,
   "sideBar": true,
   "skip_h1_title": true,
   "title_cell": "Содержание",
   "title_sidebar": "Contents",
   "toc_cell": true,
   "toc_position": {
    "height": "calc(100% - 180px)",
    "left": "10px",
    "top": "150px",
    "width": "302.391px"
   },
   "toc_section_display": true,
   "toc_window_display": false
  }
 },
 "nbformat": 4,
 "nbformat_minor": 2
}
