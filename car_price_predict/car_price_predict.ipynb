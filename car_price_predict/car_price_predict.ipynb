{
 "cells": [
  {
   "cell_type": "markdown",
   "metadata": {},
   "source": [
    "# Определение стоимости автомобилей"
   ]
  },
  {
   "cell_type": "markdown",
   "metadata": {},
   "source": [
    "Сервис по продаже автомобилей с пробегом «Не бит, не крашен» разрабатывает приложение для привлечения новых клиентов. В нём можно быстро узнать рыночную стоимость своего автомобиля. В вашем распоряжении исторические данные: технические характеристики, комплектации и цены автомобилей. Вам нужно построить модель для определения стоимости. \n",
    "\n",
    "Заказчику важны:\n",
    "\n",
    "- качество предсказания;\n",
    "- скорость предсказания;\n",
    "- время обучения."
   ]
  },
  {
   "cell_type": "markdown",
   "metadata": {},
   "source": [
    "Описание данных\n",
    "- Данные находятся в файле /datasets/autos.csv.  \n",
    "\n",
    "Признаки\n",
    "- DateCrawled — дата скачивания анкеты из базы\n",
    "- VehicleType — тип автомобильного кузова\n",
    "- RegistrationYear — год регистрации автомобиля\n",
    "- Gearbox — тип коробки передач\n",
    "- Power — мощность (л. с.)\n",
    "- Model — модель автомобиля\n",
    "- Kilometer — пробег (км)\n",
    "- RegistrationMonth — месяц регистрации автомобиля\n",
    "- FuelType — тип топлива\n",
    "- Brand — марка автомобиля\n",
    "- Repaired — была машина в ремонте или нет\n",
    "- DateCreated — дата создания анкеты\n",
    "- NumberOfPictures — количество фотографий автомобиля\n",
    "- PostalCode — почтовый индекс владельца анкеты (пользователя)\n",
    "- LastSeen — дата последней активности пользователя\n",
    "\n",
    "Целевой признак\n",
    "- Price — цена (евро)"
   ]
  },
  {
   "cell_type": "markdown",
   "metadata": {},
   "source": [
    "Примечания:\n",
    "- Для оценки качества моделей применяйте метрику RMSE.\n",
    "- Значение метрики RMSE должно быть меньше 2500.\n",
    "- Самостоятельно освойте библиотеку LightGBM и её средствами постройте модели градиентного бустинга.\n",
    "- Время выполнения ячейки кода Jupyter Notebook можно получить специальной командой. Найдите её.\n",
    "- Модель градиентного бустинга может долго обучаться, поэтому измените у неё только два-три параметра.\n",
    "- Если перестанет работать Jupyter Notebook, удалите лишние переменные оператором del."
   ]
  },
  {
   "cell_type": "code",
   "execution_count": 1,
   "metadata": {},
   "outputs": [],
   "source": [
    "#pip install --upgrade jupyterthemes"
   ]
  },
  {
   "cell_type": "code",
   "execution_count": 2,
   "metadata": {},
   "outputs": [],
   "source": [
    "#!jt -t chesterish\n",
    "#jt r #стандартная тема"
   ]
  },
  {
   "cell_type": "code",
   "execution_count": 3,
   "metadata": {},
   "outputs": [
    {
     "name": "stdout",
     "output_type": "stream",
     "text": [
      "Requirement already satisfied: scikit-learn in /Users/artemmm/anaconda3/lib/python3.11/site-packages (1.4.0)\n",
      "Requirement already satisfied: numpy<2.0,>=1.19.5 in /Users/artemmm/anaconda3/lib/python3.11/site-packages (from scikit-learn) (1.24.3)\n",
      "Requirement already satisfied: scipy>=1.6.0 in /Users/artemmm/anaconda3/lib/python3.11/site-packages (from scikit-learn) (1.11.4)\n",
      "Requirement already satisfied: joblib>=1.2.0 in /Users/artemmm/anaconda3/lib/python3.11/site-packages (from scikit-learn) (1.2.0)\n",
      "Requirement already satisfied: threadpoolctl>=2.0.0 in /Users/artemmm/anaconda3/lib/python3.11/site-packages (from scikit-learn) (2.2.0)\n"
     ]
    }
   ],
   "source": [
    "#!pip uninstall scikit-learn\n",
    "#!pip install scikit-learn==1.3.2\n",
    "!pip install -U scikit-learn\n"
   ]
  },
  {
   "cell_type": "code",
   "execution_count": 4,
   "metadata": {},
   "outputs": [],
   "source": [
    "import pandas as pd\n",
    "from lightgbm import LGBMRegressor\n",
    "from sklearn.impute import KNNImputer\n",
    "from sklearn.preprocessing import OneHotEncoder\n",
    "from sklearn.model_selection import train_test_split\n",
    "from sklearn.metrics import mean_squared_error\n",
    "import numpy as np\n",
    "from sklearn.preprocessing import StandardScaler\n",
    "from sklearn.linear_model import LinearRegression\n",
    "import time\n",
    "import matplotlib.pyplot as plt\n",
    "from sklearn.dummy import DummyRegressor"
   ]
  },
  {
   "cell_type": "markdown",
   "metadata": {},
   "source": [
    "## Подготовка данных"
   ]
  },
  {
   "cell_type": "code",
   "execution_count": 5,
   "metadata": {},
   "outputs": [
    {
     "data": {
      "text/html": [
       "<div>\n",
       "<style scoped>\n",
       "    .dataframe tbody tr th:only-of-type {\n",
       "        vertical-align: middle;\n",
       "    }\n",
       "\n",
       "    .dataframe tbody tr th {\n",
       "        vertical-align: top;\n",
       "    }\n",
       "\n",
       "    .dataframe thead th {\n",
       "        text-align: right;\n",
       "    }\n",
       "</style>\n",
       "<table border=\"1\" class=\"dataframe\">\n",
       "  <thead>\n",
       "    <tr style=\"text-align: right;\">\n",
       "      <th></th>\n",
       "      <th>DateCrawled</th>\n",
       "      <th>Price</th>\n",
       "      <th>VehicleType</th>\n",
       "      <th>RegistrationYear</th>\n",
       "      <th>Gearbox</th>\n",
       "      <th>Power</th>\n",
       "      <th>Model</th>\n",
       "      <th>Kilometer</th>\n",
       "      <th>RegistrationMonth</th>\n",
       "      <th>FuelType</th>\n",
       "      <th>Brand</th>\n",
       "      <th>Repaired</th>\n",
       "      <th>DateCreated</th>\n",
       "      <th>NumberOfPictures</th>\n",
       "      <th>PostalCode</th>\n",
       "      <th>LastSeen</th>\n",
       "    </tr>\n",
       "  </thead>\n",
       "  <tbody>\n",
       "    <tr>\n",
       "      <th>0</th>\n",
       "      <td>2016-03-24 11:52:17</td>\n",
       "      <td>480</td>\n",
       "      <td>NaN</td>\n",
       "      <td>1993</td>\n",
       "      <td>manual</td>\n",
       "      <td>0</td>\n",
       "      <td>golf</td>\n",
       "      <td>150000</td>\n",
       "      <td>0</td>\n",
       "      <td>petrol</td>\n",
       "      <td>volkswagen</td>\n",
       "      <td>NaN</td>\n",
       "      <td>2016-03-24 00:00:00</td>\n",
       "      <td>0</td>\n",
       "      <td>70435</td>\n",
       "      <td>2016-04-07 03:16:57</td>\n",
       "    </tr>\n",
       "    <tr>\n",
       "      <th>1</th>\n",
       "      <td>2016-03-24 10:58:45</td>\n",
       "      <td>18300</td>\n",
       "      <td>coupe</td>\n",
       "      <td>2011</td>\n",
       "      <td>manual</td>\n",
       "      <td>190</td>\n",
       "      <td>NaN</td>\n",
       "      <td>125000</td>\n",
       "      <td>5</td>\n",
       "      <td>gasoline</td>\n",
       "      <td>audi</td>\n",
       "      <td>yes</td>\n",
       "      <td>2016-03-24 00:00:00</td>\n",
       "      <td>0</td>\n",
       "      <td>66954</td>\n",
       "      <td>2016-04-07 01:46:50</td>\n",
       "    </tr>\n",
       "    <tr>\n",
       "      <th>2</th>\n",
       "      <td>2016-03-14 12:52:21</td>\n",
       "      <td>9800</td>\n",
       "      <td>suv</td>\n",
       "      <td>2004</td>\n",
       "      <td>auto</td>\n",
       "      <td>163</td>\n",
       "      <td>grand</td>\n",
       "      <td>125000</td>\n",
       "      <td>8</td>\n",
       "      <td>gasoline</td>\n",
       "      <td>jeep</td>\n",
       "      <td>NaN</td>\n",
       "      <td>2016-03-14 00:00:00</td>\n",
       "      <td>0</td>\n",
       "      <td>90480</td>\n",
       "      <td>2016-04-05 12:47:46</td>\n",
       "    </tr>\n",
       "    <tr>\n",
       "      <th>3</th>\n",
       "      <td>2016-03-17 16:54:04</td>\n",
       "      <td>1500</td>\n",
       "      <td>small</td>\n",
       "      <td>2001</td>\n",
       "      <td>manual</td>\n",
       "      <td>75</td>\n",
       "      <td>golf</td>\n",
       "      <td>150000</td>\n",
       "      <td>6</td>\n",
       "      <td>petrol</td>\n",
       "      <td>volkswagen</td>\n",
       "      <td>no</td>\n",
       "      <td>2016-03-17 00:00:00</td>\n",
       "      <td>0</td>\n",
       "      <td>91074</td>\n",
       "      <td>2016-03-17 17:40:17</td>\n",
       "    </tr>\n",
       "    <tr>\n",
       "      <th>4</th>\n",
       "      <td>2016-03-31 17:25:20</td>\n",
       "      <td>3600</td>\n",
       "      <td>small</td>\n",
       "      <td>2008</td>\n",
       "      <td>manual</td>\n",
       "      <td>69</td>\n",
       "      <td>fabia</td>\n",
       "      <td>90000</td>\n",
       "      <td>7</td>\n",
       "      <td>gasoline</td>\n",
       "      <td>skoda</td>\n",
       "      <td>no</td>\n",
       "      <td>2016-03-31 00:00:00</td>\n",
       "      <td>0</td>\n",
       "      <td>60437</td>\n",
       "      <td>2016-04-06 10:17:21</td>\n",
       "    </tr>\n",
       "  </tbody>\n",
       "</table>\n",
       "</div>"
      ],
      "text/plain": [
       "           DateCrawled  Price VehicleType  RegistrationYear Gearbox  Power  \\\n",
       "0  2016-03-24 11:52:17    480         NaN              1993  manual      0   \n",
       "1  2016-03-24 10:58:45  18300       coupe              2011  manual    190   \n",
       "2  2016-03-14 12:52:21   9800         suv              2004    auto    163   \n",
       "3  2016-03-17 16:54:04   1500       small              2001  manual     75   \n",
       "4  2016-03-31 17:25:20   3600       small              2008  manual     69   \n",
       "\n",
       "   Model  Kilometer  RegistrationMonth  FuelType       Brand Repaired  \\\n",
       "0   golf     150000                  0    petrol  volkswagen      NaN   \n",
       "1    NaN     125000                  5  gasoline        audi      yes   \n",
       "2  grand     125000                  8  gasoline        jeep      NaN   \n",
       "3   golf     150000                  6    petrol  volkswagen       no   \n",
       "4  fabia      90000                  7  gasoline       skoda       no   \n",
       "\n",
       "           DateCreated  NumberOfPictures  PostalCode             LastSeen  \n",
       "0  2016-03-24 00:00:00                 0       70435  2016-04-07 03:16:57  \n",
       "1  2016-03-24 00:00:00                 0       66954  2016-04-07 01:46:50  \n",
       "2  2016-03-14 00:00:00                 0       90480  2016-04-05 12:47:46  \n",
       "3  2016-03-17 00:00:00                 0       91074  2016-03-17 17:40:17  \n",
       "4  2016-03-31 00:00:00                 0       60437  2016-04-06 10:17:21  "
      ]
     },
     "execution_count": 5,
     "metadata": {},
     "output_type": "execute_result"
    }
   ],
   "source": [
    "data = pd.read_csv('/Users/artemmm/Downloads/autos.csv')\n",
    "data_clear = data.copy()\n",
    "data.head()"
   ]
  },
  {
   "cell_type": "code",
   "execution_count": 6,
   "metadata": {},
   "outputs": [
    {
     "name": "stdout",
     "output_type": "stream",
     "text": [
      "<class 'pandas.core.frame.DataFrame'>\n",
      "RangeIndex: 354369 entries, 0 to 354368\n",
      "Data columns (total 16 columns):\n",
      " #   Column             Non-Null Count   Dtype \n",
      "---  ------             --------------   ----- \n",
      " 0   DateCrawled        354369 non-null  object\n",
      " 1   Price              354369 non-null  int64 \n",
      " 2   VehicleType        316879 non-null  object\n",
      " 3   RegistrationYear   354369 non-null  int64 \n",
      " 4   Gearbox            334536 non-null  object\n",
      " 5   Power              354369 non-null  int64 \n",
      " 6   Model              334664 non-null  object\n",
      " 7   Kilometer          354369 non-null  int64 \n",
      " 8   RegistrationMonth  354369 non-null  int64 \n",
      " 9   FuelType           321474 non-null  object\n",
      " 10  Brand              354369 non-null  object\n",
      " 11  Repaired           283215 non-null  object\n",
      " 12  DateCreated        354369 non-null  object\n",
      " 13  NumberOfPictures   354369 non-null  int64 \n",
      " 14  PostalCode         354369 non-null  int64 \n",
      " 15  LastSeen           354369 non-null  object\n",
      "dtypes: int64(7), object(9)\n",
      "memory usage: 43.3+ MB\n"
     ]
    }
   ],
   "source": [
    "data.info()"
   ]
  },
  {
   "cell_type": "markdown",
   "metadata": {},
   "source": [
    "0,12,15 - имеют типы object, хотя должны быть datetime."
   ]
  },
  {
   "cell_type": "code",
   "execution_count": 7,
   "metadata": {},
   "outputs": [],
   "source": [
    "data['DateCrawled'] = pd.to_datetime(data['DateCrawled'])\n",
    "data['DateCreated'] = pd.to_datetime(data['DateCreated'])\n",
    "data['LastSeen'] = pd.to_datetime(data['LastSeen'])"
   ]
  },
  {
   "cell_type": "markdown",
   "metadata": {},
   "source": [
    "**Дубликаты**"
   ]
  },
  {
   "cell_type": "code",
   "execution_count": 8,
   "metadata": {},
   "outputs": [
    {
     "name": "stdout",
     "output_type": "stream",
     "text": [
      "4\n"
     ]
    }
   ],
   "source": [
    "print(data.duplicated().sum())\n",
    "data = data.drop_duplicates()"
   ]
  },
  {
   "cell_type": "code",
   "execution_count": 9,
   "metadata": {},
   "outputs": [
    {
     "data": {
      "text/html": [
       "<div>\n",
       "<style scoped>\n",
       "    .dataframe tbody tr th:only-of-type {\n",
       "        vertical-align: middle;\n",
       "    }\n",
       "\n",
       "    .dataframe tbody tr th {\n",
       "        vertical-align: top;\n",
       "    }\n",
       "\n",
       "    .dataframe thead th {\n",
       "        text-align: right;\n",
       "    }\n",
       "</style>\n",
       "<table border=\"1\" class=\"dataframe\">\n",
       "  <thead>\n",
       "    <tr style=\"text-align: right;\">\n",
       "      <th></th>\n",
       "      <th>Price</th>\n",
       "      <th>DateCreated</th>\n",
       "      <th>VehicleType</th>\n",
       "      <th>RegistrationYear</th>\n",
       "      <th>Power</th>\n",
       "      <th>Kilometer</th>\n",
       "      <th>Brand</th>\n",
       "      <th>Model</th>\n",
       "      <th>LastSeen</th>\n",
       "    </tr>\n",
       "  </thead>\n",
       "  <tbody>\n",
       "    <tr>\n",
       "      <th>75603</th>\n",
       "      <td>10000</td>\n",
       "      <td>2016-03-07</td>\n",
       "      <td>wagon</td>\n",
       "      <td>2013</td>\n",
       "      <td>184</td>\n",
       "      <td>60000</td>\n",
       "      <td>volkswagen</td>\n",
       "      <td>golf</td>\n",
       "      <td>2016-03-20 14:16:26</td>\n",
       "    </tr>\n",
       "    <tr>\n",
       "      <th>77480</th>\n",
       "      <td>15700</td>\n",
       "      <td>2016-03-16</td>\n",
       "      <td>suv</td>\n",
       "      <td>2011</td>\n",
       "      <td>189</td>\n",
       "      <td>90000</td>\n",
       "      <td>mini</td>\n",
       "      <td>other</td>\n",
       "      <td>2016-03-27 14:16:03</td>\n",
       "    </tr>\n",
       "    <tr>\n",
       "      <th>77497</th>\n",
       "      <td>800</td>\n",
       "      <td>2016-03-20</td>\n",
       "      <td>wagon</td>\n",
       "      <td>1993</td>\n",
       "      <td>90</td>\n",
       "      <td>150000</td>\n",
       "      <td>volkswagen</td>\n",
       "      <td>golf</td>\n",
       "      <td>2016-04-06 14:18:24</td>\n",
       "    </tr>\n",
       "    <tr>\n",
       "      <th>79663</th>\n",
       "      <td>4299</td>\n",
       "      <td>2016-03-22</td>\n",
       "      <td>coupe</td>\n",
       "      <td>2000</td>\n",
       "      <td>193</td>\n",
       "      <td>150000</td>\n",
       "      <td>bmw</td>\n",
       "      <td>3er</td>\n",
       "      <td>2016-03-24 13:16:10</td>\n",
       "    </tr>\n",
       "    <tr>\n",
       "      <th>81624</th>\n",
       "      <td>3799</td>\n",
       "      <td>2016-04-05</td>\n",
       "      <td>small</td>\n",
       "      <td>2003</td>\n",
       "      <td>101</td>\n",
       "      <td>150000</td>\n",
       "      <td>volkswagen</td>\n",
       "      <td>golf</td>\n",
       "      <td>2016-04-07 11:15:46</td>\n",
       "    </tr>\n",
       "    <tr>\n",
       "      <th>...</th>\n",
       "      <td>...</td>\n",
       "      <td>...</td>\n",
       "      <td>...</td>\n",
       "      <td>...</td>\n",
       "      <td>...</td>\n",
       "      <td>...</td>\n",
       "      <td>...</td>\n",
       "      <td>...</td>\n",
       "      <td>...</td>\n",
       "    </tr>\n",
       "    <tr>\n",
       "      <th>345034</th>\n",
       "      <td>15000</td>\n",
       "      <td>2016-04-03</td>\n",
       "      <td>convertible</td>\n",
       "      <td>1975</td>\n",
       "      <td>0</td>\n",
       "      <td>50000</td>\n",
       "      <td>alfa_romeo</td>\n",
       "      <td>spider</td>\n",
       "      <td>2016-04-05 18:17:30</td>\n",
       "    </tr>\n",
       "    <tr>\n",
       "      <th>346637</th>\n",
       "      <td>1800</td>\n",
       "      <td>2016-03-29</td>\n",
       "      <td>sedan</td>\n",
       "      <td>1997</td>\n",
       "      <td>116</td>\n",
       "      <td>150000</td>\n",
       "      <td>bmw</td>\n",
       "      <td>3er</td>\n",
       "      <td>2016-03-31 15:46:50</td>\n",
       "    </tr>\n",
       "    <tr>\n",
       "      <th>349989</th>\n",
       "      <td>17999</td>\n",
       "      <td>2016-03-26</td>\n",
       "      <td>wagon</td>\n",
       "      <td>2011</td>\n",
       "      <td>143</td>\n",
       "      <td>90000</td>\n",
       "      <td>audi</td>\n",
       "      <td>a4</td>\n",
       "      <td>2016-04-07 00:17:35</td>\n",
       "    </tr>\n",
       "    <tr>\n",
       "      <th>354151</th>\n",
       "      <td>8450</td>\n",
       "      <td>2016-03-28</td>\n",
       "      <td>wagon</td>\n",
       "      <td>2007</td>\n",
       "      <td>140</td>\n",
       "      <td>150000</td>\n",
       "      <td>volkswagen</td>\n",
       "      <td>passat</td>\n",
       "      <td>2016-04-01 04:46:10</td>\n",
       "    </tr>\n",
       "    <tr>\n",
       "      <th>354281</th>\n",
       "      <td>6500</td>\n",
       "      <td>2016-03-07</td>\n",
       "      <td>sedan</td>\n",
       "      <td>1993</td>\n",
       "      <td>286</td>\n",
       "      <td>150000</td>\n",
       "      <td>bmw</td>\n",
       "      <td>5er</td>\n",
       "      <td>2016-04-05 15:17:12</td>\n",
       "    </tr>\n",
       "  </tbody>\n",
       "</table>\n",
       "<p>138 rows × 9 columns</p>\n",
       "</div>"
      ],
      "text/plain": [
       "        Price DateCreated  VehicleType  RegistrationYear  Power  Kilometer  \\\n",
       "75603   10000  2016-03-07        wagon              2013    184      60000   \n",
       "77480   15700  2016-03-16          suv              2011    189      90000   \n",
       "77497     800  2016-03-20        wagon              1993     90     150000   \n",
       "79663    4299  2016-03-22        coupe              2000    193     150000   \n",
       "81624    3799  2016-04-05        small              2003    101     150000   \n",
       "...       ...         ...          ...               ...    ...        ...   \n",
       "345034  15000  2016-04-03  convertible              1975      0      50000   \n",
       "346637   1800  2016-03-29        sedan              1997    116     150000   \n",
       "349989  17999  2016-03-26        wagon              2011    143      90000   \n",
       "354151   8450  2016-03-28        wagon              2007    140     150000   \n",
       "354281   6500  2016-03-07        sedan              1993    286     150000   \n",
       "\n",
       "             Brand   Model            LastSeen  \n",
       "75603   volkswagen    golf 2016-03-20 14:16:26  \n",
       "77480         mini   other 2016-03-27 14:16:03  \n",
       "77497   volkswagen    golf 2016-04-06 14:18:24  \n",
       "79663          bmw     3er 2016-03-24 13:16:10  \n",
       "81624   volkswagen    golf 2016-04-07 11:15:46  \n",
       "...            ...     ...                 ...  \n",
       "345034  alfa_romeo  spider 2016-04-05 18:17:30  \n",
       "346637         bmw     3er 2016-03-31 15:46:50  \n",
       "349989        audi      a4 2016-04-07 00:17:35  \n",
       "354151  volkswagen  passat 2016-04-01 04:46:10  \n",
       "354281         bmw     5er 2016-04-05 15:17:12  \n",
       "\n",
       "[138 rows x 9 columns]"
      ]
     },
     "execution_count": 9,
     "metadata": {},
     "output_type": "execute_result"
    }
   ],
   "source": [
    "duplic = ['Price','DateCreated','VehicleType','RegistrationYear','Power','Kilometer','Brand','Model','LastSeen']\n",
    "data[duplic][(data[duplic].duplicated() == True)]"
   ]
  },
  {
   "cell_type": "markdown",
   "metadata": {},
   "source": [
    "Очень странно, что существуют строки, в которых совпадения от цены, мощности и года регистрации до модели, бренда и даты последней активности пользователя. Возможно эти строки и не являются дубликатами, но т.к. их всего 138, лучше удалить. "
   ]
  },
  {
   "cell_type": "code",
   "execution_count": 10,
   "metadata": {},
   "outputs": [],
   "source": [
    "data = data.drop(data[duplic][(data[duplic].duplicated() == True)].index.to_list())"
   ]
  },
  {
   "cell_type": "markdown",
   "metadata": {},
   "source": [
    "**Удаление неинформативных признаков**"
   ]
  },
  {
   "cell_type": "code",
   "execution_count": 11,
   "metadata": {},
   "outputs": [],
   "source": [
    "data = data.drop(['DateCrawled', 'RegistrationMonth','DateCreated', 'NumberOfPictures', 'PostalCode','LastSeen'], axis = 1)"
   ]
  },
  {
   "cell_type": "code",
   "execution_count": 12,
   "metadata": {},
   "outputs": [
    {
     "name": "stdout",
     "output_type": "stream",
     "text": [
      "44926\n"
     ]
    }
   ],
   "source": [
    "print(data.duplicated().sum())\n",
    "data = data.drop_duplicates() #дубликаты не имеют ценности, удаляем"
   ]
  },
  {
   "cell_type": "markdown",
   "metadata": {},
   "source": [
    "**Выбросы**"
   ]
  },
  {
   "cell_type": "code",
   "execution_count": 13,
   "metadata": {},
   "outputs": [
    {
     "data": {
      "image/png": "[encoded data removed]",
      "text/plain": [
       "<Figure size 640x480 with 1 Axes>"
      ]
     },
     "metadata": {},
     "output_type": "display_data"
    },
    {
     "data": {
      "image/png": "[encoded data removed]",
      "text/plain": [
       "<Figure size 640x480 with 1 Axes>"
      ]
     },
     "metadata": {},
     "output_type": "display_data"
    },
    {
     "data": {
      "image/png": "[encoded data removed]",
      "text/plain": [
       "<Figure size 640x480 with 1 Axes>"
      ]
     },
     "metadata": {},
     "output_type": "display_data"
    },
    {
     "data": {
      "image/png": "[encoded data removed]",
      "text/plain": [
       "<Figure size 640x480 with 1 Axes>"
      ]
     },
     "metadata": {},
     "output_type": "display_data"
    }
   ],
   "source": [
    "plt.boxplot(data['Price'], vert=True)\n",
    "plt.title('Price')\n",
    "plt.ylabel('Euro')\n",
    "plt.show()\n",
    "plt.boxplot(data['Power'], vert=True)\n",
    "plt.title('Power')\n",
    "plt.ylabel('Лошадиных сил')\n",
    "plt.show()\n",
    "plt.boxplot(data['RegistrationYear'], vert=True)\n",
    "plt.title('RegistrationYear')\n",
    "plt.ylabel('Год')\n",
    "plt.show()\n",
    "plt.boxplot(data['Kilometer'], vert=True)\n",
    "plt.ylabel('Километров')\n",
    "plt.title('Kilometer (пробег)')\n",
    "plt.show()"
   ]
  },
  {
   "cell_type": "code",
   "execution_count": 14,
   "metadata": {},
   "outputs": [
    {
     "data": {
      "text/plain": [
       "'2016-04-07 14:36:58'"
      ]
     },
     "execution_count": 14,
     "metadata": {},
     "output_type": "execute_result"
    }
   ],
   "source": [
    "data_clear['DateCrawled'].max()"
   ]
  },
  {
   "cell_type": "code",
   "execution_count": 15,
   "metadata": {},
   "outputs": [
    {
     "name": "stdout",
     "output_type": "stream",
     "text": [
      "309301\n"
     ]
    }
   ],
   "source": [
    "print(data.shape[0])\n",
    "data = data.loc[(data['RegistrationYear'] <= 2016) & (data['RegistrationYear'] > 1980) ,:]"
   ]
  },
  {
   "cell_type": "code",
   "execution_count": 16,
   "metadata": {},
   "outputs": [],
   "source": [
    "data = data.loc[data['Price'] < 13000 ,:]"
   ]
  },
  {
   "cell_type": "code",
   "execution_count": 17,
   "metadata": {},
   "outputs": [],
   "source": [
    "data = data.loc[data['Price'] != 0,:]"
   ]
  },
  {
   "cell_type": "code",
   "execution_count": 18,
   "metadata": {},
   "outputs": [],
   "source": [
    "data.loc[data['Power'] > 500 ,'Power'] = data['Power'].median()"
   ]
  },
  {
   "cell_type": "code",
   "execution_count": 19,
   "metadata": {},
   "outputs": [],
   "source": [
    "data = data.loc[data['Power'] != 0,:]"
   ]
  },
  {
   "cell_type": "code",
   "execution_count": 20,
   "metadata": {},
   "outputs": [
    {
     "name": "stdout",
     "output_type": "stream",
     "text": [
      "233969\n"
     ]
    }
   ],
   "source": [
    "print(data.shape[0])\n",
    "#если удалить все аномалии, это будет 30% от общего объема данных, столько удалять нельзя. Что-то обрежем вручную, \n",
    "#что-то приравняем к медиане"
   ]
  },
  {
   "cell_type": "markdown",
   "metadata": {},
   "source": [
    "Удалил около 8% данных, некоторые выбросы приравнял к медиане. Т.к. более 10% удалять считается неправильным, то признак с километражем оставим с выбросами. Все таки эти выбросы более реальны, чем 2077 год регистрации автомобиля."
   ]
  },
  {
   "cell_type": "markdown",
   "metadata": {},
   "source": [
    "**Пропуски**\n",
    "\n",
    "Очень много пропусков, для каждого признака нужно искать свой подход борьбы с ними."
   ]
  },
  {
   "cell_type": "code",
   "execution_count": 21,
   "metadata": {},
   "outputs": [
    {
     "data": {
      "text/plain": [
       "Price                   0\n",
       "VehicleType         10206\n",
       "RegistrationYear        0\n",
       "Gearbox              4959\n",
       "Power                   0\n",
       "Model                9788\n",
       "Kilometer               0\n",
       "FuelType            14550\n",
       "Brand                   0\n",
       "Repaired            38071\n",
       "dtype: int64"
      ]
     },
     "execution_count": 21,
     "metadata": {},
     "output_type": "execute_result"
    }
   ],
   "source": [
    "data.isna().sum()"
   ]
  },
  {
   "cell_type": "code",
   "execution_count": 22,
   "metadata": {},
   "outputs": [
    {
     "name": "stdout",
     "output_type": "stream",
     "text": [
      "Repaired\n",
      "no     169724\n",
      "yes     26174\n",
      "Name: count, dtype: int64\n",
      " \n",
      "FuelType\n",
      "petrol      150134\n",
      "gasoline     64430\n",
      "lpg           4149\n",
      "cng            434\n",
      "hybrid         133\n",
      "other           74\n",
      "electric        65\n",
      "Name: count, dtype: int64\n",
      " \n",
      "VehicleType\n",
      "sedan          64362\n",
      "small          57691\n",
      "wagon          46648\n",
      "bus            21319\n",
      "convertible    13910\n",
      "coupe          10684\n",
      "suv             6949\n",
      "other           2200\n",
      "Name: count, dtype: int64\n",
      " \n",
      "Gearbox\n",
      "manual    186299\n",
      "auto       42711\n",
      "Name: count, dtype: int64\n",
      " \n",
      "Model\n",
      "golf                  18285\n",
      "other                 16541\n",
      "3er                   13170\n",
      "polo                   8335\n",
      "corsa                  7657\n",
      "                      ...  \n",
      "kalina                    4\n",
      "amarok                    3\n",
      "q3                        3\n",
      "range_rover_evoque        1\n",
      "rangerover                1\n",
      "Name: count, Length: 246, dtype: int64\n",
      " \n"
     ]
    }
   ],
   "source": [
    "null_f = ['Repaired', 'FuelType','VehicleType','Gearbox','Model']\n",
    "for feat in null_f:    \n",
    "    print(data[feat].value_counts(), end = '\\n \\n');\n",
    "data['VehicleType'] = data['VehicleType'].fillna('NaN') #создаем новую категорию\n",
    "data['Gearbox'] = data['Gearbox'].fillna('manual') #заполняем модой\n",
    "data['Repaired'] = data['Repaired'].fillna('no') #заполняем модой\n",
    "data['FuelType'] = data['FuelType'].fillna('petrol') #заполняем модой\n",
    "data = data.dropna() #удаляем остальные строки с пропусками"
   ]
  },
  {
   "cell_type": "markdown",
   "metadata": {},
   "source": [
    "**OHE**"
   ]
  },
  {
   "cell_type": "code",
   "execution_count": 23,
   "metadata": {},
   "outputs": [],
   "source": [
    "data.loc[(data['FuelType'] != 'petrol') &\n",
    "         (data['FuelType'] != 'gasoline'), 'FuelType'] = 'other'\n",
    "data.loc[(data['VehicleType'] == 'suv'), 'VehicleType'] = 'other'\n",
    "models = data['Model'].value_counts().head(40).index.tolist()\n",
    "data.loc[(~data['Model'].isin(models)), 'Model'] = 'other'\n",
    "brands = data['Brand'].value_counts().head(20).index.tolist()\n",
    "data.loc[(~data['Brand'].isin(brands)), 'Brand'] = 'other'"
   ]
  },
  {
   "cell_type": "markdown",
   "metadata": {},
   "source": [
    "Так как в данных слишком много моделей и брендов авто, а некоторые из них встречаются очень редко, то для увеличения времени обучения модели я создал отдельный тип 'other' для признаков Brand и Model."
   ]
  },
  {
   "cell_type": "markdown",
   "metadata": {},
   "source": [
    "## Обучение моделей"
   ]
  },
  {
   "cell_type": "markdown",
   "metadata": {},
   "source": [
    "**Деление на выборки и OHE**"
   ]
  },
  {
   "cell_type": "code",
   "execution_count": 24,
   "metadata": {},
   "outputs": [
    {
     "name": "stdout",
     "output_type": "stream",
     "text": [
      "Requirement already satisfied: scikit-learn in /Users/artemmm/anaconda3/lib/python3.11/site-packages (1.4.0)\n",
      "Requirement already satisfied: numpy<2.0,>=1.19.5 in /Users/artemmm/anaconda3/lib/python3.11/site-packages (from scikit-learn) (1.24.3)\n",
      "Requirement already satisfied: scipy>=1.6.0 in /Users/artemmm/anaconda3/lib/python3.11/site-packages (from scikit-learn) (1.11.4)\n",
      "Requirement already satisfied: joblib>=1.2.0 in /Users/artemmm/anaconda3/lib/python3.11/site-packages (from scikit-learn) (1.2.0)\n",
      "Requirement already satisfied: threadpoolctl>=2.0.0 in /Users/artemmm/anaconda3/lib/python3.11/site-packages (from scikit-learn) (2.2.0)\n"
     ]
    }
   ],
   "source": [
    "!pip install --upgrade scikit-learn"
   ]
  },
  {
   "cell_type": "code",
   "execution_count": 25,
   "metadata": {},
   "outputs": [
    {
     "name": "stdout",
     "output_type": "stream",
     "text": [
      "(112090, 10) (56045, 10) (56046, 10)\n"
     ]
    }
   ],
   "source": [
    "data_train, data_test = train_test_split(data, test_size = 0.5, random_state = 2077)\n",
    "data_test, data_valid = train_test_split(data_test, test_size = 0.5, random_state = 2077)\n",
    "print(data_train.shape, data_test.shape, data_valid.shape)"
   ]
  },
  {
   "cell_type": "code",
   "execution_count": 26,
   "metadata": {},
   "outputs": [],
   "source": [
    "ohe_features_ridge = data_train.select_dtypes(include='object').columns.to_list()\n",
    "encoder_ohe = OneHotEncoder(drop='first', handle_unknown='error', sparse_output=False)\n",
    "encoder_ohe.fit(data_train[ohe_features_ridge])\n",
    "\n",
    "data_train_encoded = encoder_ohe.transform(data_train[ohe_features_ridge])\n",
    "columns_encoded = encoder_ohe.get_feature_names_out(ohe_features_ridge)\n",
    "data_train[columns_encoded] = data_train_encoded\n",
    "data_train = data_train.drop(ohe_features_ridge, axis=1)\n",
    "\n",
    "data_test_encoded = encoder_ohe.transform(data_test[ohe_features_ridge])\n",
    "columns_encoded = encoder_ohe.get_feature_names_out(ohe_features_ridge)\n",
    "data_test[columns_encoded] = data_test_encoded\n",
    "data_test = data_test.drop(ohe_features_ridge, axis=1)\n",
    "\n",
    "data_valid_encoded = encoder_ohe.transform(data_valid[ohe_features_ridge])\n",
    "columns_encoded = encoder_ohe.get_feature_names_out(ohe_features_ridge)\n",
    "data_valid[columns_encoded] = data_valid_encoded\n",
    "data_valid = data_valid.drop(ohe_features_ridge, axis=1)\n",
    "\n",
    "data_train_x = data_train.drop('Price', axis = 1)\n",
    "data_train_y = data_train['Price']\n",
    "\n",
    "data_test_x = data_test.drop('Price', axis = 1)\n",
    "data_test_y = data_test['Price']\n",
    "\n",
    "data_valid_x = data_valid.drop('Price', axis = 1)\n",
    "data_valid_y = data_valid['Price']"
   ]
  },
  {
   "cell_type": "code",
   "execution_count": 27,
   "metadata": {},
   "outputs": [
    {
     "data": {
      "text/html": [
       "<div>\n",
       "<style scoped>\n",
       "    .dataframe tbody tr th:only-of-type {\n",
       "        vertical-align: middle;\n",
       "    }\n",
       "\n",
       "    .dataframe tbody tr th {\n",
       "        vertical-align: top;\n",
       "    }\n",
       "\n",
       "    .dataframe thead th {\n",
       "        text-align: right;\n",
       "    }\n",
       "</style>\n",
       "<table border=\"1\" class=\"dataframe\">\n",
       "  <thead>\n",
       "    <tr style=\"text-align: right;\">\n",
       "      <th></th>\n",
       "      <th>RegistrationYear</th>\n",
       "      <th>Power</th>\n",
       "      <th>Kilometer</th>\n",
       "      <th>VehicleType_bus</th>\n",
       "      <th>VehicleType_convertible</th>\n",
       "      <th>VehicleType_coupe</th>\n",
       "      <th>VehicleType_other</th>\n",
       "      <th>VehicleType_sedan</th>\n",
       "      <th>VehicleType_small</th>\n",
       "      <th>VehicleType_wagon</th>\n",
       "      <th>...</th>\n",
       "      <th>Brand_other</th>\n",
       "      <th>Brand_peugeot</th>\n",
       "      <th>Brand_renault</th>\n",
       "      <th>Brand_seat</th>\n",
       "      <th>Brand_skoda</th>\n",
       "      <th>Brand_smart</th>\n",
       "      <th>Brand_toyota</th>\n",
       "      <th>Brand_volkswagen</th>\n",
       "      <th>Brand_volvo</th>\n",
       "      <th>Repaired_yes</th>\n",
       "    </tr>\n",
       "  </thead>\n",
       "  <tbody>\n",
       "    <tr>\n",
       "      <th>200256</th>\n",
       "      <td>2000</td>\n",
       "      <td>110</td>\n",
       "      <td>150000</td>\n",
       "      <td>0.0</td>\n",
       "      <td>0.0</td>\n",
       "      <td>0.0</td>\n",
       "      <td>0.0</td>\n",
       "      <td>1.0</td>\n",
       "      <td>0.0</td>\n",
       "      <td>0.0</td>\n",
       "      <td>...</td>\n",
       "      <td>0.0</td>\n",
       "      <td>1.0</td>\n",
       "      <td>0.0</td>\n",
       "      <td>0.0</td>\n",
       "      <td>0.0</td>\n",
       "      <td>0.0</td>\n",
       "      <td>0.0</td>\n",
       "      <td>0.0</td>\n",
       "      <td>0.0</td>\n",
       "      <td>0.0</td>\n",
       "    </tr>\n",
       "    <tr>\n",
       "      <th>255110</th>\n",
       "      <td>2003</td>\n",
       "      <td>75</td>\n",
       "      <td>150000</td>\n",
       "      <td>0.0</td>\n",
       "      <td>0.0</td>\n",
       "      <td>0.0</td>\n",
       "      <td>0.0</td>\n",
       "      <td>0.0</td>\n",
       "      <td>1.0</td>\n",
       "      <td>0.0</td>\n",
       "      <td>...</td>\n",
       "      <td>0.0</td>\n",
       "      <td>0.0</td>\n",
       "      <td>0.0</td>\n",
       "      <td>0.0</td>\n",
       "      <td>0.0</td>\n",
       "      <td>0.0</td>\n",
       "      <td>0.0</td>\n",
       "      <td>1.0</td>\n",
       "      <td>0.0</td>\n",
       "      <td>0.0</td>\n",
       "    </tr>\n",
       "    <tr>\n",
       "      <th>231651</th>\n",
       "      <td>1998</td>\n",
       "      <td>101</td>\n",
       "      <td>150000</td>\n",
       "      <td>0.0</td>\n",
       "      <td>0.0</td>\n",
       "      <td>0.0</td>\n",
       "      <td>0.0</td>\n",
       "      <td>1.0</td>\n",
       "      <td>0.0</td>\n",
       "      <td>0.0</td>\n",
       "      <td>...</td>\n",
       "      <td>0.0</td>\n",
       "      <td>0.0</td>\n",
       "      <td>0.0</td>\n",
       "      <td>0.0</td>\n",
       "      <td>0.0</td>\n",
       "      <td>0.0</td>\n",
       "      <td>0.0</td>\n",
       "      <td>0.0</td>\n",
       "      <td>0.0</td>\n",
       "      <td>0.0</td>\n",
       "    </tr>\n",
       "    <tr>\n",
       "      <th>89476</th>\n",
       "      <td>2005</td>\n",
       "      <td>131</td>\n",
       "      <td>150000</td>\n",
       "      <td>0.0</td>\n",
       "      <td>0.0</td>\n",
       "      <td>0.0</td>\n",
       "      <td>0.0</td>\n",
       "      <td>0.0</td>\n",
       "      <td>0.0</td>\n",
       "      <td>1.0</td>\n",
       "      <td>...</td>\n",
       "      <td>0.0</td>\n",
       "      <td>0.0</td>\n",
       "      <td>0.0</td>\n",
       "      <td>0.0</td>\n",
       "      <td>0.0</td>\n",
       "      <td>0.0</td>\n",
       "      <td>0.0</td>\n",
       "      <td>1.0</td>\n",
       "      <td>0.0</td>\n",
       "      <td>0.0</td>\n",
       "    </tr>\n",
       "    <tr>\n",
       "      <th>116682</th>\n",
       "      <td>2003</td>\n",
       "      <td>192</td>\n",
       "      <td>125000</td>\n",
       "      <td>0.0</td>\n",
       "      <td>1.0</td>\n",
       "      <td>0.0</td>\n",
       "      <td>0.0</td>\n",
       "      <td>0.0</td>\n",
       "      <td>0.0</td>\n",
       "      <td>0.0</td>\n",
       "      <td>...</td>\n",
       "      <td>0.0</td>\n",
       "      <td>0.0</td>\n",
       "      <td>0.0</td>\n",
       "      <td>0.0</td>\n",
       "      <td>0.0</td>\n",
       "      <td>0.0</td>\n",
       "      <td>0.0</td>\n",
       "      <td>0.0</td>\n",
       "      <td>0.0</td>\n",
       "      <td>0.0</td>\n",
       "    </tr>\n",
       "  </tbody>\n",
       "</table>\n",
       "<p>5 rows × 73 columns</p>\n",
       "</div>"
      ],
      "text/plain": [
       "        RegistrationYear  Power  Kilometer  VehicleType_bus  \\\n",
       "200256              2000    110     150000              0.0   \n",
       "255110              2003     75     150000              0.0   \n",
       "231651              1998    101     150000              0.0   \n",
       "89476               2005    131     150000              0.0   \n",
       "116682              2003    192     125000              0.0   \n",
       "\n",
       "        VehicleType_convertible  VehicleType_coupe  VehicleType_other  \\\n",
       "200256                      0.0                0.0                0.0   \n",
       "255110                      0.0                0.0                0.0   \n",
       "231651                      0.0                0.0                0.0   \n",
       "89476                       0.0                0.0                0.0   \n",
       "116682                      1.0                0.0                0.0   \n",
       "\n",
       "        VehicleType_sedan  VehicleType_small  VehicleType_wagon  ...  \\\n",
       "200256                1.0                0.0                0.0  ...   \n",
       "255110                0.0                1.0                0.0  ...   \n",
       "231651                1.0                0.0                0.0  ...   \n",
       "89476                 0.0                0.0                1.0  ...   \n",
       "116682                0.0                0.0                0.0  ...   \n",
       "\n",
       "        Brand_other  Brand_peugeot  Brand_renault  Brand_seat  Brand_skoda  \\\n",
       "200256          0.0            1.0            0.0         0.0          0.0   \n",
       "255110          0.0            0.0            0.0         0.0          0.0   \n",
       "231651          0.0            0.0            0.0         0.0          0.0   \n",
       "89476           0.0            0.0            0.0         0.0          0.0   \n",
       "116682          0.0            0.0            0.0         0.0          0.0   \n",
       "\n",
       "        Brand_smart  Brand_toyota  Brand_volkswagen  Brand_volvo  Repaired_yes  \n",
       "200256          0.0           0.0               0.0          0.0           0.0  \n",
       "255110          0.0           0.0               1.0          0.0           0.0  \n",
       "231651          0.0           0.0               0.0          0.0           0.0  \n",
       "89476           0.0           0.0               1.0          0.0           0.0  \n",
       "116682          0.0           0.0               0.0          0.0           0.0  \n",
       "\n",
       "[5 rows x 73 columns]"
      ]
     },
     "execution_count": 27,
     "metadata": {},
     "output_type": "execute_result"
    }
   ],
   "source": [
    "data_test_x.head()"
   ]
  },
  {
   "cell_type": "markdown",
   "metadata": {},
   "source": [
    "**Обучение**"
   ]
  },
  {
   "cell_type": "markdown",
   "metadata": {},
   "source": [
    "**LightGBM**"
   ]
  },
  {
   "cell_type": "code",
   "execution_count": 28,
   "metadata": {},
   "outputs": [
    {
     "name": "stdout",
     "output_type": "stream",
     "text": [
      "[LightGBM] [Info] Auto-choosing row-wise multi-threading, the overhead of testing was 0.001802 seconds.\n",
      "You can set `force_row_wise=true` to remove the overhead.\n",
      "And if memory is not enough, you can set `force_col_wise=true`.\n",
      "[LightGBM] [Info] Total Bins 408\n",
      "[LightGBM] [Info] Number of data points in the train set: 112090, number of used features: 73\n",
      "[LightGBM] [Info] Start training from score 3930.875448\n",
      "[LightGBM] [Info] Auto-choosing row-wise multi-threading, the overhead of testing was 0.001771 seconds.\n",
      "You can set `force_row_wise=true` to remove the overhead.\n",
      "And if memory is not enough, you can set `force_col_wise=true`.\n",
      "[LightGBM] [Info] Total Bins 408\n",
      "[LightGBM] [Info] Number of data points in the train set: 112090, number of used features: 73\n",
      "[LightGBM] [Info] Start training from score 3930.875448\n",
      "[LightGBM] [Info] Auto-choosing row-wise multi-threading, the overhead of testing was 0.001691 seconds.\n",
      "You can set `force_row_wise=true` to remove the overhead.\n",
      "And if memory is not enough, you can set `force_col_wise=true`.\n",
      "[LightGBM] [Info] Total Bins 408\n",
      "[LightGBM] [Info] Number of data points in the train set: 112090, number of used features: 73\n",
      "[LightGBM] [Info] Start training from score 3930.875448\n",
      "[LightGBM] [Info] Auto-choosing row-wise multi-threading, the overhead of testing was 0.001841 seconds.\n",
      "You can set `force_row_wise=true` to remove the overhead.\n",
      "And if memory is not enough, you can set `force_col_wise=true`.\n",
      "[LightGBM] [Info] Total Bins 408\n",
      "[LightGBM] [Info] Number of data points in the train set: 112090, number of used features: 73\n",
      "[LightGBM] [Info] Start training from score 3930.875448\n",
      "[LightGBM] [Info] Auto-choosing row-wise multi-threading, the overhead of testing was 0.001916 seconds.\n",
      "You can set `force_row_wise=true` to remove the overhead.\n",
      "And if memory is not enough, you can set `force_col_wise=true`.\n",
      "[LightGBM] [Info] Total Bins 408\n",
      "[LightGBM] [Info] Number of data points in the train set: 112090, number of used features: 73\n",
      "[LightGBM] [Info] Start training from score 3930.875448\n",
      "[LightGBM] [Info] Auto-choosing row-wise multi-threading, the overhead of testing was 0.001713 seconds.\n",
      "You can set `force_row_wise=true` to remove the overhead.\n",
      "And if memory is not enough, you can set `force_col_wise=true`.\n",
      "[LightGBM] [Info] Total Bins 408\n",
      "[LightGBM] [Info] Number of data points in the train set: 112090, number of used features: 73\n",
      "[LightGBM] [Info] Start training from score 3930.875448\n",
      "[LightGBM] [Info] Auto-choosing row-wise multi-threading, the overhead of testing was 0.001553 seconds.\n",
      "You can set `force_row_wise=true` to remove the overhead.\n",
      "And if memory is not enough, you can set `force_col_wise=true`.\n",
      "[LightGBM] [Info] Total Bins 408\n",
      "[LightGBM] [Info] Number of data points in the train set: 112090, number of used features: 73\n",
      "[LightGBM] [Info] Start training from score 3930.875448\n",
      "[LightGBM] [Info] Auto-choosing row-wise multi-threading, the overhead of testing was 0.002059 seconds.\n",
      "You can set `force_row_wise=true` to remove the overhead.\n",
      "And if memory is not enough, you can set `force_col_wise=true`.\n",
      "[LightGBM] [Info] Total Bins 408\n",
      "[LightGBM] [Info] Number of data points in the train set: 112090, number of used features: 73\n",
      "[LightGBM] [Info] Start training from score 3930.875448\n",
      "[LightGBM] [Info] Auto-choosing row-wise multi-threading, the overhead of testing was 0.002102 seconds.\n",
      "You can set `force_row_wise=true` to remove the overhead.\n",
      "And if memory is not enough, you can set `force_col_wise=true`.\n",
      "[LightGBM] [Info] Total Bins 408\n",
      "[LightGBM] [Info] Number of data points in the train set: 112090, number of used features: 73\n",
      "[LightGBM] [Info] Start training from score 3930.875448\n",
      "[LightGBM] [Info] Auto-choosing row-wise multi-threading, the overhead of testing was 0.001856 seconds.\n",
      "You can set `force_row_wise=true` to remove the overhead.\n",
      "And if memory is not enough, you can set `force_col_wise=true`.\n",
      "[LightGBM] [Info] Total Bins 408\n",
      "[LightGBM] [Info] Number of data points in the train set: 112090, number of used features: 73\n",
      "[LightGBM] [Info] Start training from score 3930.875448\n",
      "[LightGBM] [Info] Auto-choosing row-wise multi-threading, the overhead of testing was 0.001645 seconds.\n",
      "You can set `force_row_wise=true` to remove the overhead.\n",
      "And if memory is not enough, you can set `force_col_wise=true`.\n",
      "[LightGBM] [Info] Total Bins 408\n",
      "[LightGBM] [Info] Number of data points in the train set: 112090, number of used features: 73\n",
      "[LightGBM] [Info] Start training from score 3930.875448\n",
      "[LightGBM] [Info] Auto-choosing row-wise multi-threading, the overhead of testing was 0.001624 seconds.\n",
      "You can set `force_row_wise=true` to remove the overhead.\n",
      "And if memory is not enough, you can set `force_col_wise=true`.\n",
      "[LightGBM] [Info] Total Bins 408\n",
      "[LightGBM] [Info] Number of data points in the train set: 112090, number of used features: 73\n",
      "[LightGBM] [Info] Start training from score 3930.875448\n",
      "[LightGBM] [Info] Auto-choosing row-wise multi-threading, the overhead of testing was 0.002123 seconds.\n",
      "You can set `force_row_wise=true` to remove the overhead.\n",
      "And if memory is not enough, you can set `force_col_wise=true`.\n",
      "[LightGBM] [Info] Total Bins 408\n",
      "[LightGBM] [Info] Number of data points in the train set: 112090, number of used features: 73\n",
      "[LightGBM] [Info] Start training from score 3930.875448\n",
      "[LightGBM] [Info] Auto-choosing row-wise multi-threading, the overhead of testing was 0.002066 seconds.\n",
      "You can set `force_row_wise=true` to remove the overhead.\n",
      "And if memory is not enough, you can set `force_col_wise=true`.\n",
      "[LightGBM] [Info] Total Bins 408\n",
      "[LightGBM] [Info] Number of data points in the train set: 112090, number of used features: 73\n",
      "[LightGBM] [Info] Start training from score 3930.875448\n",
      "[LightGBM] [Info] Auto-choosing row-wise multi-threading, the overhead of testing was 0.002106 seconds.\n",
      "You can set `force_row_wise=true` to remove the overhead.\n",
      "And if memory is not enough, you can set `force_col_wise=true`.\n",
      "[LightGBM] [Info] Total Bins 408\n",
      "[LightGBM] [Info] Number of data points in the train set: 112090, number of used features: 73\n",
      "[LightGBM] [Info] Start training from score 3930.875448\n",
      "[LightGBM] [Info] Auto-choosing row-wise multi-threading, the overhead of testing was 0.002050 seconds.\n",
      "You can set `force_row_wise=true` to remove the overhead.\n",
      "And if memory is not enough, you can set `force_col_wise=true`.\n",
      "[LightGBM] [Info] Total Bins 408\n",
      "[LightGBM] [Info] Number of data points in the train set: 112090, number of used features: 73\n",
      "[LightGBM] [Info] Start training from score 3930.875448\n",
      "[LightGBM] [Info] Auto-choosing row-wise multi-threading, the overhead of testing was 0.001952 seconds.\n",
      "You can set `force_row_wise=true` to remove the overhead.\n",
      "And if memory is not enough, you can set `force_col_wise=true`.\n",
      "[LightGBM] [Info] Total Bins 408\n",
      "[LightGBM] [Info] Number of data points in the train set: 112090, number of used features: 73\n",
      "[LightGBM] [Info] Start training from score 3930.875448\n",
      "[LightGBM] [Info] Auto-choosing row-wise multi-threading, the overhead of testing was 0.001775 seconds.\n",
      "You can set `force_row_wise=true` to remove the overhead.\n",
      "And if memory is not enough, you can set `force_col_wise=true`.\n",
      "[LightGBM] [Info] Total Bins 408\n",
      "[LightGBM] [Info] Number of data points in the train set: 112090, number of used features: 73\n",
      "[LightGBM] [Info] Start training from score 3930.875448\n",
      "[LightGBM] [Info] Auto-choosing row-wise multi-threading, the overhead of testing was 0.001943 seconds.\n",
      "You can set `force_row_wise=true` to remove the overhead.\n",
      "And if memory is not enough, you can set `force_col_wise=true`.\n",
      "[LightGBM] [Info] Total Bins 408\n",
      "[LightGBM] [Info] Number of data points in the train set: 112090, number of used features: 73\n",
      "[LightGBM] [Info] Start training from score 3930.875448\n",
      "[LightGBM] [Info] Auto-choosing row-wise multi-threading, the overhead of testing was 0.001524 seconds.\n",
      "You can set `force_row_wise=true` to remove the overhead.\n",
      "And if memory is not enough, you can set `force_col_wise=true`.\n",
      "[LightGBM] [Info] Total Bins 408\n",
      "[LightGBM] [Info] Number of data points in the train set: 112090, number of used features: 73\n",
      "[LightGBM] [Info] Start training from score 3930.875448\n",
      "[LightGBM] [Info] Auto-choosing row-wise multi-threading, the overhead of testing was 0.002182 seconds.\n",
      "You can set `force_row_wise=true` to remove the overhead.\n",
      "And if memory is not enough, you can set `force_col_wise=true`.\n",
      "[LightGBM] [Info] Total Bins 408\n",
      "[LightGBM] [Info] Number of data points in the train set: 112090, number of used features: 73\n",
      "[LightGBM] [Info] Start training from score 3930.875448\n"
     ]
    },
    {
     "name": "stdout",
     "output_type": "stream",
     "text": [
      "[LightGBM] [Info] Auto-choosing row-wise multi-threading, the overhead of testing was 0.001805 seconds.\n",
      "You can set `force_row_wise=true` to remove the overhead.\n",
      "And if memory is not enough, you can set `force_col_wise=true`.\n",
      "[LightGBM] [Info] Total Bins 408\n",
      "[LightGBM] [Info] Number of data points in the train set: 112090, number of used features: 73\n",
      "[LightGBM] [Info] Start training from score 3930.875448\n",
      "[LightGBM] [Info] Auto-choosing row-wise multi-threading, the overhead of testing was 0.002520 seconds.\n",
      "You can set `force_row_wise=true` to remove the overhead.\n",
      "And if memory is not enough, you can set `force_col_wise=true`.\n",
      "[LightGBM] [Info] Total Bins 408\n",
      "[LightGBM] [Info] Number of data points in the train set: 112090, number of used features: 73\n",
      "[LightGBM] [Info] Start training from score 3930.875448\n",
      "[LightGBM] [Info] Auto-choosing row-wise multi-threading, the overhead of testing was 0.001685 seconds.\n",
      "You can set `force_row_wise=true` to remove the overhead.\n",
      "And if memory is not enough, you can set `force_col_wise=true`.\n",
      "[LightGBM] [Info] Total Bins 408\n",
      "[LightGBM] [Info] Number of data points in the train set: 112090, number of used features: 73\n",
      "[LightGBM] [Info] Start training from score 3930.875448\n",
      "[LightGBM] [Info] Auto-choosing row-wise multi-threading, the overhead of testing was 0.002186 seconds.\n",
      "You can set `force_row_wise=true` to remove the overhead.\n",
      "And if memory is not enough, you can set `force_col_wise=true`.\n",
      "[LightGBM] [Info] Total Bins 408\n",
      "[LightGBM] [Info] Number of data points in the train set: 112090, number of used features: 73\n",
      "[LightGBM] [Info] Start training from score 3930.875448\n",
      "[LightGBM] [Info] Auto-choosing row-wise multi-threading, the overhead of testing was 0.001686 seconds.\n",
      "You can set `force_row_wise=true` to remove the overhead.\n",
      "And if memory is not enough, you can set `force_col_wise=true`.\n",
      "[LightGBM] [Info] Total Bins 408\n",
      "[LightGBM] [Info] Number of data points in the train set: 112090, number of used features: 73\n",
      "[LightGBM] [Info] Start training from score 3930.875448\n",
      "[LightGBM] [Info] Auto-choosing row-wise multi-threading, the overhead of testing was 0.002554 seconds.\n",
      "You can set `force_row_wise=true` to remove the overhead.\n",
      "And if memory is not enough, you can set `force_col_wise=true`.\n",
      "[LightGBM] [Info] Total Bins 408\n",
      "[LightGBM] [Info] Number of data points in the train set: 112090, number of used features: 73\n",
      "[LightGBM] [Info] Start training from score 3930.875448\n",
      "[LightGBM] [Info] Auto-choosing row-wise multi-threading, the overhead of testing was 0.001761 seconds.\n",
      "You can set `force_row_wise=true` to remove the overhead.\n",
      "And if memory is not enough, you can set `force_col_wise=true`.\n",
      "[LightGBM] [Info] Total Bins 408\n",
      "[LightGBM] [Info] Number of data points in the train set: 112090, number of used features: 73\n",
      "[LightGBM] [Info] Start training from score 3930.875448\n",
      "[LightGBM] [Info] Auto-choosing row-wise multi-threading, the overhead of testing was 0.001639 seconds.\n",
      "You can set `force_row_wise=true` to remove the overhead.\n",
      "And if memory is not enough, you can set `force_col_wise=true`.\n",
      "[LightGBM] [Info] Total Bins 408\n",
      "[LightGBM] [Info] Number of data points in the train set: 112090, number of used features: 73\n",
      "[LightGBM] [Info] Start training from score 3930.875448\n",
      "[LightGBM] [Info] Auto-choosing row-wise multi-threading, the overhead of testing was 0.001730 seconds.\n",
      "You can set `force_row_wise=true` to remove the overhead.\n",
      "And if memory is not enough, you can set `force_col_wise=true`.\n",
      "[LightGBM] [Info] Total Bins 408\n",
      "[LightGBM] [Info] Number of data points in the train set: 112090, number of used features: 73\n",
      "[LightGBM] [Info] Start training from score 3930.875448\n",
      "[LightGBM] [Info] Auto-choosing row-wise multi-threading, the overhead of testing was 0.001927 seconds.\n",
      "You can set `force_row_wise=true` to remove the overhead.\n",
      "And if memory is not enough, you can set `force_col_wise=true`.\n",
      "[LightGBM] [Info] Total Bins 408\n",
      "[LightGBM] [Info] Number of data points in the train set: 112090, number of used features: 73\n",
      "[LightGBM] [Info] Start training from score 3930.875448\n",
      "[LightGBM] [Info] Auto-choosing row-wise multi-threading, the overhead of testing was 0.001757 seconds.\n",
      "You can set `force_row_wise=true` to remove the overhead.\n",
      "And if memory is not enough, you can set `force_col_wise=true`.\n",
      "[LightGBM] [Info] Total Bins 408\n",
      "[LightGBM] [Info] Number of data points in the train set: 112090, number of used features: 73\n",
      "[LightGBM] [Info] Start training from score 3930.875448\n",
      "[LightGBM] [Info] Auto-choosing row-wise multi-threading, the overhead of testing was 0.001708 seconds.\n",
      "You can set `force_row_wise=true` to remove the overhead.\n",
      "And if memory is not enough, you can set `force_col_wise=true`.\n",
      "[LightGBM] [Info] Total Bins 408\n",
      "[LightGBM] [Info] Number of data points in the train set: 112090, number of used features: 73\n",
      "[LightGBM] [Info] Start training from score 3930.875448\n",
      "[LightGBM] [Info] Auto-choosing row-wise multi-threading, the overhead of testing was 0.002277 seconds.\n",
      "You can set `force_row_wise=true` to remove the overhead.\n",
      "And if memory is not enough, you can set `force_col_wise=true`.\n",
      "[LightGBM] [Info] Total Bins 408\n",
      "[LightGBM] [Info] Number of data points in the train set: 112090, number of used features: 73\n",
      "[LightGBM] [Info] Start training from score 3930.875448\n",
      "[LightGBM] [Info] Auto-choosing row-wise multi-threading, the overhead of testing was 0.001929 seconds.\n",
      "You can set `force_row_wise=true` to remove the overhead.\n",
      "And if memory is not enough, you can set `force_col_wise=true`.\n",
      "[LightGBM] [Info] Total Bins 408\n",
      "[LightGBM] [Info] Number of data points in the train set: 112090, number of used features: 73\n",
      "[LightGBM] [Info] Start training from score 3930.875448\n",
      "[LightGBM] [Info] Auto-choosing row-wise multi-threading, the overhead of testing was 0.001628 seconds.\n",
      "You can set `force_row_wise=true` to remove the overhead.\n",
      "And if memory is not enough, you can set `force_col_wise=true`.\n",
      "[LightGBM] [Info] Total Bins 408\n",
      "[LightGBM] [Info] Number of data points in the train set: 112090, number of used features: 73\n",
      "[LightGBM] [Info] Start training from score 3930.875448\n",
      "rmse,leaves,depth: 1428.6009813406088 9 9\n"
     ]
    }
   ],
   "source": [
    "best_rmse = 2500\n",
    "for depth in [4,7, 2,9,10,11]:\n",
    "    for leaves in [2,3,4,6,8,9]:\n",
    "        model = LGBMRegressor(num_leaves = leaves, max_depth = depth, random_state = 42)\n",
    "        model.fit(data_train_x, data_train_y)\n",
    "        pred = model.predict(data_valid_x)\n",
    "        rmse = np.sqrt(mean_squared_error(data_valid_y, pred))\n",
    "        if rmse < best_rmse:\n",
    "            best_rmse = rmse\n",
    "            best_leaves = leaves\n",
    "            best_depth = depth\n",
    "print('rmse,leaves,depth:',best_rmse, best_leaves, best_depth)"
   ]
  },
  {
   "cell_type": "markdown",
   "metadata": {},
   "source": [
    "**LinearRegression**"
   ]
  },
  {
   "cell_type": "code",
   "execution_count": 29,
   "metadata": {},
   "outputs": [],
   "source": [
    "c_features = data_train_x.select_dtypes(include=['float64', 'int64']).columns\n",
    "scaler = StandardScaler() #масштабирование\n",
    "scaler.fit(data_train_x[c_features])\n",
    "data_train_x[c_features] = scaler.transform(data_train_x[c_features])\n",
    "data_test_x[c_features] = scaler.transform(data_test_x[c_features])\n",
    "data_valid_x[c_features] = scaler.transform(data_valid_x[c_features])"
   ]
  },
  {
   "cell_type": "code",
   "execution_count": 30,
   "metadata": {},
   "outputs": [
    {
     "name": "stdout",
     "output_type": "stream",
     "text": [
      "1917.764649679549\n"
     ]
    }
   ],
   "source": [
    "model = LinearRegression(fit_intercept = True, copy_X = False, n_jobs = -1, positive = False)\n",
    "model.fit(data_train_x, data_train_y)\n",
    "pred = model.predict(data_valid_x)\n",
    "rmse = np.sqrt(mean_squared_error(data_valid_y, pred))\n",
    "print(rmse)"
   ]
  },
  {
   "cell_type": "markdown",
   "metadata": {},
   "source": [
    "**Краткий вывод: LightGBM показывает лучшие результаты по метрики RMSE (1428) по сравнению с LinearRegression(1917)**"
   ]
  },
  {
   "cell_type": "markdown",
   "metadata": {},
   "source": [
    "## Анализ моделей"
   ]
  },
  {
   "cell_type": "markdown",
   "metadata": {},
   "source": [
    "Заказчику важны: качество предсказания, время обучения модели, время предсказания модели.\n",
    "\n",
    "Я посчитал все эти три критерия в шаге обучения моделей и выяснил, что LightGBM с leaves 9, depth 9 показывает наилучшее время предсказания, время обучения и качество предсказания.\n",
    "\n",
    "Далее сравним время обучения и предсказания."
   ]
  },
  {
   "cell_type": "code",
   "execution_count": 31,
   "metadata": {},
   "outputs": [
    {
     "name": "stdout",
     "output_type": "stream",
     "text": [
      "[LightGBM] [Info] Auto-choosing row-wise multi-threading, the overhead of testing was 0.010352 seconds.\n",
      "You can set `force_row_wise=true` to remove the overhead.\n",
      "And if memory is not enough, you can set `force_col_wise=true`.\n",
      "[LightGBM] [Info] Total Bins 501\n",
      "[LightGBM] [Info] Number of data points in the train set: 112090, number of used features: 73\n",
      "[LightGBM] [Info] Start training from score 3930.875448\n",
      "LGBM\n",
      "Скорость обучения: 0.008298778533935547 \n",
      "Скорость предсказания 0.001039417584737142 \n",
      "RMSE = 1428.1575101950493\n",
      "\n",
      "LinearRegression\n",
      "Скорость обучения: 0.009450018405914307 \n",
      "Скорость предсказания 0.00013899803161621094 \n",
      "RMSE = 1917.764649679549\n"
     ]
    }
   ],
   "source": [
    "from time import time\n",
    "start = time()\n",
    "model_gbm = LGBMRegressor(num_leaves = best_leaves, max_depth = best_depth, random_state = 42)\n",
    "model_gbm.fit(data_train_x, data_train_y)\n",
    "end1 = time()\n",
    "pred = model_gbm.predict(data_valid_x)\n",
    "end2 = time()\n",
    "rmse = np.sqrt(mean_squared_error(data_valid_y, pred))\n",
    "\n",
    "print('LGBM')\n",
    "print('Скорость обучения:', (end1-start)/60, '\\nСкорость предсказания', (end2-end1)/60, '\\nRMSE =',rmse)\n",
    "\n",
    "start = time()\n",
    "model = LinearRegression(fit_intercept = True, copy_X = False, n_jobs = -1, positive = False)\n",
    "model.fit(data_train_x, data_train_y)\n",
    "end1 = time()\n",
    "pred = model.predict(data_valid_x)\n",
    "end2 = time()\n",
    "rmse = np.sqrt(mean_squared_error(data_valid_y, pred))\n",
    "print('\\nLinearRegression')\n",
    "print('Скорость обучения:', (end1-start)/60, '\\nСкорость предсказания', (end2-end1)/60, '\\nRMSE =',rmse)"
   ]
  },
  {
   "cell_type": "markdown",
   "metadata": {},
   "source": [
    "В теории, нам подходят обе модели - порог в 2500 RMSE они прошли. Но нужно выбрать лучшую. LGBM показывает 1452 метрики, в то время как более быстрая модель LinearRegression показывает 1929. Скорость обучения у Linear Regression выше в 7 раз, а предсказания - в 4.5 раза. \n",
    "\n",
    "Все же, думаю, что лучшим вариантом будет выбор LGBM. Так как разница в метрике значительная."
   ]
  },
  {
   "cell_type": "code",
   "execution_count": 32,
   "metadata": {},
   "outputs": [
    {
     "name": "stdout",
     "output_type": "stream",
     "text": [
      "1452.7059436522884\n"
     ]
    }
   ],
   "source": [
    "#test на лучшей модели\n",
    "pred = model_gbm.predict(data_test_x)\n",
    "print(np.sqrt(mean_squared_error(data_test_y, pred)))"
   ]
  },
  {
   "cell_type": "code",
   "execution_count": 33,
   "metadata": {},
   "outputs": [
    {
     "name": "stdout",
     "output_type": "stream",
     "text": [
      "rmse test: 1452.7059436522884 \n",
      "rmse constant: 3274.0250712192897\n"
     ]
    }
   ],
   "source": [
    "dummy_regr = DummyRegressor(strategy=\"mean\")\n",
    "dummy_regr.fit(data_train_x, data_train_y)\n",
    "d_pred = dummy_regr.predict(data_test_x)\n",
    "gbm_pred = model_gbm.predict(data_test_x)\n",
    "print('rmse test:', np.sqrt(mean_squared_error(data_test_y, gbm_pred)), \n",
    "     '\\nrmse constant:', np.sqrt(mean_squared_error(data_test_y, d_pred)))"
   ]
  },
  {
   "cell_type": "markdown",
   "metadata": {},
   "source": [
    "**Вывод:**\n",
    "В ходе данной работы были произведены действия:\n",
    "- масштабирование данных\n",
    "- OHE категориальных признаков\n",
    "- Деление на выборки\n",
    "- Работа с пропусками\n",
    "- Работа с аномалиями\n",
    "- Изменение типа признаков\n",
    "- Обучение на двух моделях\n",
    "- Предсказание на тестовой выборке\n",
    "- Определение лучшей модели\n",
    "- Подбор гиперпараметров\n",
    "\n",
    "Я построил модель, которая может определять рыночную цену автомобиля. Изначально была проведена отчистка и подготовка данных, после чего я приступил к обучению моделей и подбору гиперпараметров: LinearRegression и LightGBM.\n",
    "\n",
    "Работа показала, что по критериям заказчика лучше всего подходит модель LightGBM с параметрами depth = 9, num_leaves = 9. Модель прошла порог в 2500 результата, показав результат 1452.70 метрики RMSE.\n",
    "\n",
    "Лучшая модель LightGBM прошла проверку на адекватность с константной моделью, const = 3274rmse, LightGBM = 1452rmse."
   ]
  }
 ],
 "metadata": {
  "ExecuteTimeLog": [
   {
    "duration": 4713,
    "start_time": "2023-11-27T21:05:25.994Z"
   },
   {
    "duration": 74,
    "start_time": "2023-11-27T21:05:30.709Z"
   },
   {
    "duration": 2561,
    "start_time": "2023-11-27T21:05:40.304Z"
   },
   {
    "duration": 82,
    "start_time": "2023-11-27T21:05:42.868Z"
   },
   {
    "duration": 80,
    "start_time": "2023-11-27T21:05:56.976Z"
   },
   {
    "duration": 2460,
    "start_time": "2023-11-27T21:05:58.253Z"
   },
   {
    "duration": 70,
    "start_time": "2023-11-27T21:06:00.715Z"
   },
   {
    "duration": 85137,
    "start_time": "2023-11-27T21:06:49.636Z"
   },
   {
    "duration": 79,
    "start_time": "2023-11-27T21:08:14.775Z"
   },
   {
    "duration": 71,
    "start_time": "2023-11-27T21:08:17.413Z"
   },
   {
    "duration": 87,
    "start_time": "2023-11-27T21:08:22.304Z"
   },
   {
    "duration": 13874,
    "start_time": "2023-11-27T21:08:24.255Z"
   },
   {
    "duration": 78,
    "start_time": "2023-11-27T21:08:38.131Z"
   },
   {
    "duration": 3,
    "start_time": "2023-12-03T11:57:30.261Z"
   },
   {
    "duration": 54,
    "start_time": "2023-12-03T11:57:30.265Z"
   },
   {
    "duration": 1096,
    "start_time": "2023-12-03T11:57:30.321Z"
   },
   {
    "duration": 100,
    "start_time": "2023-12-03T11:57:31.419Z"
   },
   {
    "duration": 0,
    "start_time": "2023-12-03T11:57:31.520Z"
   },
   {
    "duration": 0,
    "start_time": "2023-12-03T11:57:31.522Z"
   },
   {
    "duration": 0,
    "start_time": "2023-12-03T11:57:31.523Z"
   },
   {
    "duration": 0,
    "start_time": "2023-12-03T11:57:31.524Z"
   },
   {
    "duration": 0,
    "start_time": "2023-12-03T11:57:31.525Z"
   },
   {
    "duration": 0,
    "start_time": "2023-12-03T11:57:31.526Z"
   },
   {
    "duration": 0,
    "start_time": "2023-12-03T11:57:31.527Z"
   },
   {
    "duration": 0,
    "start_time": "2023-12-03T11:57:31.528Z"
   },
   {
    "duration": 0,
    "start_time": "2023-12-03T11:57:31.528Z"
   },
   {
    "duration": 0,
    "start_time": "2023-12-03T11:57:31.529Z"
   },
   {
    "duration": 0,
    "start_time": "2023-12-03T11:57:31.530Z"
   },
   {
    "duration": 0,
    "start_time": "2023-12-03T11:57:31.531Z"
   },
   {
    "duration": 0,
    "start_time": "2023-12-03T11:57:31.532Z"
   },
   {
    "duration": 0,
    "start_time": "2023-12-03T11:57:31.533Z"
   },
   {
    "duration": 0,
    "start_time": "2023-12-03T11:57:31.533Z"
   },
   {
    "duration": 0,
    "start_time": "2023-12-03T11:57:31.534Z"
   },
   {
    "duration": 0,
    "start_time": "2023-12-03T11:57:31.535Z"
   },
   {
    "duration": 3,
    "start_time": "2023-12-03T11:57:49.679Z"
   },
   {
    "duration": 4,
    "start_time": "2023-12-03T11:57:49.683Z"
   },
   {
    "duration": 1110,
    "start_time": "2023-12-03T11:57:49.689Z"
   },
   {
    "duration": 894,
    "start_time": "2023-12-03T11:57:50.801Z"
   },
   {
    "duration": 99,
    "start_time": "2023-12-03T11:57:51.697Z"
   },
   {
    "duration": 244,
    "start_time": "2023-12-03T11:57:51.798Z"
   },
   {
    "duration": 491,
    "start_time": "2023-12-03T11:57:52.043Z"
   },
   {
    "duration": 177,
    "start_time": "2023-12-03T11:57:52.536Z"
   },
   {
    "duration": 192,
    "start_time": "2023-12-03T11:57:52.715Z"
   },
   {
    "duration": 23,
    "start_time": "2023-12-03T11:57:52.908Z"
   },
   {
    "duration": 764,
    "start_time": "2023-12-03T11:57:52.932Z"
   },
   {
    "duration": 61,
    "start_time": "2023-12-03T11:57:53.698Z"
   },
   {
    "duration": 60,
    "start_time": "2023-12-03T11:57:53.760Z"
   },
   {
    "duration": 240,
    "start_time": "2023-12-03T11:57:53.822Z"
   },
   {
    "duration": 123,
    "start_time": "2023-12-03T11:57:54.063Z"
   },
   {
    "duration": 176,
    "start_time": "2023-12-03T11:57:54.187Z"
   },
   {
    "duration": 80,
    "start_time": "2023-12-03T11:57:54.365Z"
   },
   {
    "duration": 12978,
    "start_time": "2023-12-03T11:57:54.446Z"
   },
   {
    "duration": 476,
    "start_time": "2023-12-03T11:58:07.432Z"
   },
   {
    "duration": 16814,
    "start_time": "2023-12-03T11:58:07.909Z"
   },
   {
    "duration": 4412,
    "start_time": "2023-12-03T11:58:24.815Z"
   },
   {
    "duration": 3,
    "start_time": "2023-12-03T12:24:21.468Z"
   },
   {
    "duration": 5,
    "start_time": "2023-12-03T12:24:21.473Z"
   },
   {
    "duration": 1032,
    "start_time": "2023-12-03T12:24:21.479Z"
   },
   {
    "duration": 1094,
    "start_time": "2023-12-03T12:24:22.513Z"
   },
   {
    "duration": 143,
    "start_time": "2023-12-03T12:24:23.609Z"
   },
   {
    "duration": 274,
    "start_time": "2023-12-03T12:24:23.753Z"
   },
   {
    "duration": 602,
    "start_time": "2023-12-03T12:24:24.029Z"
   },
   {
    "duration": 208,
    "start_time": "2023-12-03T12:24:24.633Z"
   },
   {
    "duration": 233,
    "start_time": "2023-12-03T12:24:24.843Z"
   },
   {
    "duration": 18,
    "start_time": "2023-12-03T12:24:25.078Z"
   },
   {
    "duration": 780,
    "start_time": "2023-12-03T12:24:25.098Z"
   },
   {
    "duration": 26,
    "start_time": "2023-12-03T12:24:25.880Z"
   },
   {
    "duration": 58,
    "start_time": "2023-12-03T12:24:25.908Z"
   },
   {
    "duration": 17,
    "start_time": "2023-12-03T12:24:25.968Z"
   },
   {
    "duration": 3,
    "start_time": "2023-12-03T12:24:25.986Z"
   },
   {
    "duration": 106,
    "start_time": "2023-12-03T12:24:25.991Z"
   },
   {
    "duration": 350,
    "start_time": "2023-12-03T12:24:26.099Z"
   },
   {
    "duration": 160,
    "start_time": "2023-12-03T12:24:26.451Z"
   },
   {
    "duration": 106,
    "start_time": "2023-12-03T12:24:31.236Z"
   },
   {
    "duration": 186,
    "start_time": "2023-12-03T12:24:37.746Z"
   },
   {
    "duration": 2,
    "start_time": "2023-12-03T12:29:54.966Z"
   },
   {
    "duration": 12,
    "start_time": "2023-12-03T12:29:54.969Z"
   },
   {
    "duration": 4,
    "start_time": "2023-12-03T12:29:54.982Z"
   },
   {
    "duration": 646,
    "start_time": "2023-12-03T12:29:54.987Z"
   },
   {
    "duration": 104,
    "start_time": "2023-12-03T12:29:55.635Z"
   },
   {
    "duration": 187,
    "start_time": "2023-12-03T12:29:55.740Z"
   },
   {
    "duration": 405,
    "start_time": "2023-12-03T12:29:56.848Z"
   },
   {
    "duration": 430,
    "start_time": "2023-12-03T12:30:03.928Z"
   },
   {
    "duration": 70,
    "start_time": "2023-12-03T12:30:42.097Z"
   },
   {
    "duration": 2,
    "start_time": "2023-12-03T12:31:05.748Z"
   },
   {
    "duration": 21,
    "start_time": "2023-12-03T12:31:05.752Z"
   },
   {
    "duration": 34,
    "start_time": "2023-12-03T12:31:05.774Z"
   },
   {
    "duration": 641,
    "start_time": "2023-12-03T12:31:05.810Z"
   },
   {
    "duration": 97,
    "start_time": "2023-12-03T12:31:06.452Z"
   },
   {
    "duration": 212,
    "start_time": "2023-12-03T12:31:06.550Z"
   },
   {
    "duration": 428,
    "start_time": "2023-12-03T12:31:06.763Z"
   },
   {
    "duration": 169,
    "start_time": "2023-12-03T12:31:07.192Z"
   },
   {
    "duration": 155,
    "start_time": "2023-12-03T12:31:07.363Z"
   },
   {
    "duration": 16,
    "start_time": "2023-12-03T12:31:07.519Z"
   },
   {
    "duration": 141,
    "start_time": "2023-12-03T12:31:07.537Z"
   },
   {
    "duration": 138,
    "start_time": "2023-12-03T12:31:14.357Z"
   },
   {
    "duration": 2,
    "start_time": "2023-12-03T12:31:22.415Z"
   },
   {
    "duration": 12,
    "start_time": "2023-12-03T12:31:22.418Z"
   },
   {
    "duration": 4,
    "start_time": "2023-12-03T12:31:22.431Z"
   },
   {
    "duration": 635,
    "start_time": "2023-12-03T12:31:22.436Z"
   },
   {
    "duration": 99,
    "start_time": "2023-12-03T12:31:23.072Z"
   },
   {
    "duration": 182,
    "start_time": "2023-12-03T12:31:23.173Z"
   },
   {
    "duration": 425,
    "start_time": "2023-12-03T12:31:23.357Z"
   },
   {
    "duration": 164,
    "start_time": "2023-12-03T12:31:23.783Z"
   },
   {
    "duration": 158,
    "start_time": "2023-12-03T12:31:23.949Z"
   },
   {
    "duration": 20,
    "start_time": "2023-12-03T12:31:24.108Z"
   },
   {
    "duration": 133,
    "start_time": "2023-12-03T12:31:24.413Z"
   },
   {
    "duration": 397,
    "start_time": "2023-12-03T12:31:55.920Z"
   },
   {
    "duration": 236,
    "start_time": "2023-12-03T12:32:21.589Z"
   },
   {
    "duration": 81,
    "start_time": "2023-12-03T12:33:32.470Z"
   },
   {
    "duration": 258,
    "start_time": "2023-12-03T12:33:41.282Z"
   },
   {
    "duration": 3,
    "start_time": "2023-12-03T12:35:28.380Z"
   },
   {
    "duration": 153,
    "start_time": "2023-12-03T12:35:41.547Z"
   },
   {
    "duration": 197,
    "start_time": "2023-12-03T12:35:48.268Z"
   },
   {
    "duration": 192,
    "start_time": "2023-12-03T12:36:02.680Z"
   },
   {
    "duration": 160,
    "start_time": "2023-12-03T12:36:18.760Z"
   },
   {
    "duration": 185,
    "start_time": "2023-12-03T12:36:28.557Z"
   },
   {
    "duration": 257,
    "start_time": "2023-12-03T12:36:34.776Z"
   },
   {
    "duration": 374,
    "start_time": "2023-12-03T12:36:46.148Z"
   },
   {
    "duration": 428,
    "start_time": "2023-12-03T12:36:55.862Z"
   },
   {
    "duration": 388,
    "start_time": "2023-12-03T12:38:26.807Z"
   },
   {
    "duration": 403,
    "start_time": "2023-12-03T12:40:07.993Z"
   },
   {
    "duration": 409,
    "start_time": "2023-12-03T12:40:18.307Z"
   },
   {
    "duration": 491,
    "start_time": "2023-12-03T12:40:24.384Z"
   },
   {
    "duration": 413,
    "start_time": "2023-12-03T12:40:34.468Z"
   },
   {
    "duration": 399,
    "start_time": "2023-12-03T12:40:38.618Z"
   },
   {
    "duration": 408,
    "start_time": "2023-12-03T12:41:00.382Z"
   },
   {
    "duration": 476,
    "start_time": "2023-12-03T12:41:11.017Z"
   },
   {
    "duration": 402,
    "start_time": "2023-12-03T12:41:18.645Z"
   },
   {
    "duration": 68,
    "start_time": "2023-12-03T12:42:58.405Z"
   },
   {
    "duration": 7,
    "start_time": "2023-12-03T12:44:02.050Z"
   },
   {
    "duration": 645,
    "start_time": "2023-12-03T12:44:11.895Z"
   },
   {
    "duration": 97,
    "start_time": "2023-12-03T12:44:17.807Z"
   },
   {
    "duration": 4,
    "start_time": "2023-12-03T12:44:38.382Z"
   },
   {
    "duration": 20,
    "start_time": "2023-12-03T12:44:44.356Z"
   },
   {
    "duration": 42,
    "start_time": "2023-12-03T12:45:01.090Z"
   },
   {
    "duration": 70,
    "start_time": "2023-12-03T12:45:55.274Z"
   },
   {
    "duration": 51,
    "start_time": "2023-12-03T12:47:14.421Z"
   },
   {
    "duration": 46,
    "start_time": "2023-12-03T12:47:49.916Z"
   },
   {
    "duration": 42,
    "start_time": "2023-12-03T12:48:15.888Z"
   },
   {
    "duration": 2,
    "start_time": "2023-12-03T12:50:29.411Z"
   },
   {
    "duration": 4,
    "start_time": "2023-12-03T12:50:29.414Z"
   },
   {
    "duration": 4,
    "start_time": "2023-12-03T12:50:29.419Z"
   },
   {
    "duration": 641,
    "start_time": "2023-12-03T12:50:29.425Z"
   },
   {
    "duration": 128,
    "start_time": "2023-12-03T12:50:30.068Z"
   },
   {
    "duration": 238,
    "start_time": "2023-12-03T12:50:30.198Z"
   },
   {
    "duration": 426,
    "start_time": "2023-12-03T12:50:30.437Z"
   },
   {
    "duration": 175,
    "start_time": "2023-12-03T12:50:30.864Z"
   },
   {
    "duration": 206,
    "start_time": "2023-12-03T12:50:31.041Z"
   },
   {
    "duration": 18,
    "start_time": "2023-12-03T12:50:31.248Z"
   },
   {
    "duration": 301,
    "start_time": "2023-12-03T12:50:31.268Z"
   },
   {
    "duration": 423,
    "start_time": "2023-12-03T12:50:31.571Z"
   },
   {
    "duration": 28,
    "start_time": "2023-12-03T12:50:31.996Z"
   },
   {
    "duration": 28,
    "start_time": "2023-12-03T12:50:32.025Z"
   },
   {
    "duration": 20,
    "start_time": "2023-12-03T12:50:32.055Z"
   },
   {
    "duration": 39,
    "start_time": "2023-12-03T12:50:32.076Z"
   },
   {
    "duration": 17,
    "start_time": "2023-12-03T12:50:32.117Z"
   },
   {
    "duration": 38,
    "start_time": "2023-12-03T12:50:32.135Z"
   },
   {
    "duration": 26,
    "start_time": "2023-12-03T12:50:32.174Z"
   },
   {
    "duration": 80,
    "start_time": "2023-12-03T12:50:32.202Z"
   },
   {
    "duration": 191,
    "start_time": "2023-12-03T12:50:32.284Z"
   },
   {
    "duration": 91,
    "start_time": "2023-12-03T12:50:32.476Z"
   },
   {
    "duration": 111,
    "start_time": "2023-12-03T12:50:32.568Z"
   },
   {
    "duration": 8,
    "start_time": "2023-12-03T12:50:32.681Z"
   },
   {
    "duration": 19,
    "start_time": "2023-12-03T12:51:23.357Z"
   },
   {
    "duration": 7249,
    "start_time": "2023-12-03T12:52:36.358Z"
   },
   {
    "duration": 2,
    "start_time": "2023-12-03T12:57:34.841Z"
   },
   {
    "duration": 8,
    "start_time": "2023-12-03T12:57:34.845Z"
   },
   {
    "duration": 3,
    "start_time": "2023-12-03T12:57:34.855Z"
   },
   {
    "duration": 655,
    "start_time": "2023-12-03T12:57:34.860Z"
   },
   {
    "duration": 103,
    "start_time": "2023-12-03T12:57:35.517Z"
   },
   {
    "duration": 185,
    "start_time": "2023-12-03T12:57:35.622Z"
   },
   {
    "duration": 417,
    "start_time": "2023-12-03T12:57:35.808Z"
   },
   {
    "duration": 170,
    "start_time": "2023-12-03T12:57:36.227Z"
   },
   {
    "duration": 199,
    "start_time": "2023-12-03T12:57:36.400Z"
   },
   {
    "duration": 20,
    "start_time": "2023-12-03T12:57:36.600Z"
   },
   {
    "duration": 288,
    "start_time": "2023-12-03T12:57:36.622Z"
   },
   {
    "duration": 420,
    "start_time": "2023-12-03T12:57:36.914Z"
   },
   {
    "duration": 21,
    "start_time": "2023-12-03T12:57:37.335Z"
   },
   {
    "duration": 34,
    "start_time": "2023-12-03T12:57:37.358Z"
   },
   {
    "duration": 21,
    "start_time": "2023-12-03T12:57:37.394Z"
   },
   {
    "duration": 17,
    "start_time": "2023-12-03T12:57:37.417Z"
   },
   {
    "duration": 10,
    "start_time": "2023-12-03T12:57:37.435Z"
   },
   {
    "duration": 15,
    "start_time": "2023-12-03T12:57:37.446Z"
   },
   {
    "duration": 3,
    "start_time": "2023-12-03T12:57:37.462Z"
   },
   {
    "duration": 65,
    "start_time": "2023-12-03T12:57:37.466Z"
   },
   {
    "duration": 177,
    "start_time": "2023-12-03T12:57:37.532Z"
   },
   {
    "duration": 87,
    "start_time": "2023-12-03T12:57:37.715Z"
   },
   {
    "duration": 120,
    "start_time": "2023-12-03T12:57:37.804Z"
   },
   {
    "duration": 7271,
    "start_time": "2023-12-03T12:57:37.926Z"
   },
   {
    "duration": 2,
    "start_time": "2023-12-03T12:58:08.545Z"
   },
   {
    "duration": 72,
    "start_time": "2023-12-03T12:59:50.638Z"
   },
   {
    "duration": 47,
    "start_time": "2023-12-03T13:06:09.966Z"
   },
   {
    "duration": 2,
    "start_time": "2023-12-03T13:06:24.254Z"
   },
   {
    "duration": 7,
    "start_time": "2023-12-03T13:06:24.258Z"
   },
   {
    "duration": 14,
    "start_time": "2023-12-03T13:06:24.266Z"
   },
   {
    "duration": 669,
    "start_time": "2023-12-03T13:06:24.281Z"
   },
   {
    "duration": 97,
    "start_time": "2023-12-03T13:06:24.952Z"
   },
   {
    "duration": 189,
    "start_time": "2023-12-03T13:06:25.051Z"
   },
   {
    "duration": 429,
    "start_time": "2023-12-03T13:06:25.241Z"
   },
   {
    "duration": 161,
    "start_time": "2023-12-03T13:06:25.671Z"
   },
   {
    "duration": 189,
    "start_time": "2023-12-03T13:06:25.834Z"
   },
   {
    "duration": 17,
    "start_time": "2023-12-03T13:06:26.025Z"
   },
   {
    "duration": 290,
    "start_time": "2023-12-03T13:06:26.043Z"
   },
   {
    "duration": 406,
    "start_time": "2023-12-03T13:06:26.341Z"
   },
   {
    "duration": 24,
    "start_time": "2023-12-03T13:06:26.750Z"
   },
   {
    "duration": 18,
    "start_time": "2023-12-03T13:06:26.776Z"
   },
   {
    "duration": 30,
    "start_time": "2023-12-03T13:06:26.795Z"
   },
   {
    "duration": 16,
    "start_time": "2023-12-03T13:06:26.826Z"
   },
   {
    "duration": 9,
    "start_time": "2023-12-03T13:06:26.843Z"
   },
   {
    "duration": 16,
    "start_time": "2023-12-03T13:06:26.854Z"
   },
   {
    "duration": 3,
    "start_time": "2023-12-03T13:06:26.871Z"
   },
   {
    "duration": 66,
    "start_time": "2023-12-03T13:06:26.875Z"
   },
   {
    "duration": 174,
    "start_time": "2023-12-03T13:06:26.942Z"
   },
   {
    "duration": 98,
    "start_time": "2023-12-03T13:06:27.117Z"
   },
   {
    "duration": 2,
    "start_time": "2023-12-03T13:06:27.216Z"
   },
   {
    "duration": 3,
    "start_time": "2023-12-03T13:06:27.220Z"
   },
   {
    "duration": 45,
    "start_time": "2023-12-03T13:06:27.224Z"
   },
   {
    "duration": 386,
    "start_time": "2023-12-03T13:07:00.441Z"
   },
   {
    "duration": 6803,
    "start_time": "2023-12-03T13:09:43.701Z"
   },
   {
    "duration": 407,
    "start_time": "2023-12-03T13:09:52.686Z"
   },
   {
    "duration": 394,
    "start_time": "2023-12-03T13:11:23.325Z"
   },
   {
    "duration": 387,
    "start_time": "2023-12-03T13:11:53.467Z"
   },
   {
    "duration": 3831,
    "start_time": "2023-12-03T13:13:30.112Z"
   },
   {
    "duration": 19,
    "start_time": "2023-12-03T13:13:46.684Z"
   },
   {
    "duration": 4,
    "start_time": "2023-12-03T13:13:54.714Z"
   },
   {
    "duration": 5,
    "start_time": "2023-12-03T13:14:07.173Z"
   },
   {
    "duration": 34,
    "start_time": "2023-12-03T13:14:14.232Z"
   },
   {
    "duration": 4608,
    "start_time": "2023-12-03T13:15:11.455Z"
   },
   {
    "duration": 32,
    "start_time": "2023-12-03T13:15:16.065Z"
   },
   {
    "duration": 33,
    "start_time": "2023-12-03T13:15:25.046Z"
   },
   {
    "duration": 19,
    "start_time": "2023-12-03T13:15:36.537Z"
   },
   {
    "duration": 20,
    "start_time": "2023-12-03T13:15:39.637Z"
   },
   {
    "duration": 3157,
    "start_time": "2023-12-03T14:17:00.904Z"
   },
   {
    "duration": 3914,
    "start_time": "2023-12-03T14:18:25.703Z"
   },
   {
    "duration": 13765,
    "start_time": "2023-12-03T14:19:55.158Z"
   },
   {
    "duration": 11231,
    "start_time": "2023-12-03T14:21:22.593Z"
   },
   {
    "duration": 33022,
    "start_time": "2023-12-03T14:21:56.994Z"
   },
   {
    "duration": 50407,
    "start_time": "2023-12-03T14:23:02.922Z"
   },
   {
    "duration": 14,
    "start_time": "2023-12-03T14:27:54.401Z"
   },
   {
    "duration": 2112,
    "start_time": "2023-12-03T14:28:38.375Z"
   },
   {
    "duration": 1174,
    "start_time": "2023-12-03T14:32:03.258Z"
   },
   {
    "duration": 1509,
    "start_time": "2023-12-03T14:32:18.309Z"
   },
   {
    "duration": 1222,
    "start_time": "2023-12-03T14:32:50.702Z"
   },
   {
    "duration": 1072,
    "start_time": "2023-12-03T14:33:03.546Z"
   },
   {
    "duration": 3213,
    "start_time": "2023-12-03T14:47:49.406Z"
   },
   {
    "duration": 3209,
    "start_time": "2023-12-03T14:48:16.211Z"
   },
   {
    "duration": 3340,
    "start_time": "2023-12-03T14:48:25.376Z"
   },
   {
    "duration": 108285,
    "start_time": "2023-12-03T14:50:27.736Z"
   },
   {
    "duration": 109389,
    "start_time": "2023-12-03T14:54:01.734Z"
   },
   {
    "duration": 4622,
    "start_time": "2023-12-03T14:56:01.094Z"
   },
   {
    "duration": 316,
    "start_time": "2023-12-03T15:01:20.282Z"
   },
   {
    "duration": 4888,
    "start_time": "2023-12-03T15:03:27.931Z"
   },
   {
    "duration": 8,
    "start_time": "2023-12-03T15:08:59.696Z"
   },
   {
    "duration": 9,
    "start_time": "2023-12-03T15:09:10.469Z"
   },
   {
    "duration": 2878,
    "start_time": "2023-12-03T15:09:56.086Z"
   },
   {
    "duration": 14,
    "start_time": "2023-12-03T15:09:58.966Z"
   },
   {
    "duration": 2388,
    "start_time": "2023-12-03T15:11:22.271Z"
   },
   {
    "duration": 1052,
    "start_time": "2023-12-03T15:11:24.679Z"
   },
   {
    "duration": 3,
    "start_time": "2023-12-03T15:11:30.819Z"
   },
   {
    "duration": 20,
    "start_time": "2023-12-03T15:11:30.824Z"
   },
   {
    "duration": 2433,
    "start_time": "2023-12-03T15:11:30.845Z"
   },
   {
    "duration": 1046,
    "start_time": "2023-12-03T15:11:33.280Z"
   },
   {
    "duration": 746,
    "start_time": "2023-12-03T15:11:34.327Z"
   },
   {
    "duration": 107,
    "start_time": "2023-12-03T15:11:35.074Z"
   },
   {
    "duration": 257,
    "start_time": "2023-12-03T15:11:35.182Z"
   },
   {
    "duration": 498,
    "start_time": "2023-12-03T15:11:35.441Z"
   },
   {
    "duration": 176,
    "start_time": "2023-12-03T15:11:35.941Z"
   },
   {
    "duration": 197,
    "start_time": "2023-12-03T15:11:36.118Z"
   },
   {
    "duration": 20,
    "start_time": "2023-12-03T15:11:36.316Z"
   },
   {
    "duration": 302,
    "start_time": "2023-12-03T15:11:36.337Z"
   },
   {
    "duration": 415,
    "start_time": "2023-12-03T15:11:36.641Z"
   },
   {
    "duration": 19,
    "start_time": "2023-12-03T15:11:37.058Z"
   },
   {
    "duration": 18,
    "start_time": "2023-12-03T15:11:37.078Z"
   },
   {
    "duration": 28,
    "start_time": "2023-12-03T15:11:37.098Z"
   },
   {
    "duration": 16,
    "start_time": "2023-12-03T15:11:37.127Z"
   },
   {
    "duration": 10,
    "start_time": "2023-12-03T15:11:37.144Z"
   },
   {
    "duration": 16,
    "start_time": "2023-12-03T15:11:37.155Z"
   },
   {
    "duration": 3,
    "start_time": "2023-12-03T15:11:37.173Z"
   },
   {
    "duration": 72,
    "start_time": "2023-12-03T15:11:37.177Z"
   },
   {
    "duration": 181,
    "start_time": "2023-12-03T15:11:37.250Z"
   },
   {
    "duration": 92,
    "start_time": "2023-12-03T15:11:37.432Z"
   },
   {
    "duration": 2,
    "start_time": "2023-12-03T15:11:37.525Z"
   },
   {
    "duration": 4,
    "start_time": "2023-12-03T15:11:37.528Z"
   },
   {
    "duration": 2900,
    "start_time": "2023-12-03T15:11:37.533Z"
   },
   {
    "duration": 400,
    "start_time": "2023-12-03T15:11:40.435Z"
   },
   {
    "duration": 0,
    "start_time": "2023-12-03T15:11:40.836Z"
   },
   {
    "duration": 1,
    "start_time": "2023-12-03T15:11:40.837Z"
   },
   {
    "duration": 0,
    "start_time": "2023-12-03T15:11:40.838Z"
   },
   {
    "duration": 0,
    "start_time": "2023-12-03T15:11:40.839Z"
   },
   {
    "duration": 0,
    "start_time": "2023-12-03T15:11:40.840Z"
   },
   {
    "duration": 0,
    "start_time": "2023-12-03T15:11:40.840Z"
   },
   {
    "duration": 1121,
    "start_time": "2023-12-03T15:12:10.625Z"
   },
   {
    "duration": 3,
    "start_time": "2023-12-03T15:12:16.657Z"
   },
   {
    "duration": 11,
    "start_time": "2023-12-03T15:12:16.662Z"
   },
   {
    "duration": 8,
    "start_time": "2023-12-03T15:12:16.675Z"
   },
   {
    "duration": 1142,
    "start_time": "2023-12-03T15:12:16.684Z"
   },
   {
    "duration": 741,
    "start_time": "2023-12-03T15:12:17.828Z"
   },
   {
    "duration": 106,
    "start_time": "2023-12-03T15:12:18.571Z"
   },
   {
    "duration": 253,
    "start_time": "2023-12-03T15:12:18.678Z"
   },
   {
    "duration": 490,
    "start_time": "2023-12-03T15:12:18.932Z"
   },
   {
    "duration": 175,
    "start_time": "2023-12-03T15:12:19.423Z"
   },
   {
    "duration": 210,
    "start_time": "2023-12-03T15:12:19.600Z"
   },
   {
    "duration": 19,
    "start_time": "2023-12-03T15:12:19.811Z"
   },
   {
    "duration": 303,
    "start_time": "2023-12-03T15:12:19.831Z"
   },
   {
    "duration": 448,
    "start_time": "2023-12-03T15:12:20.135Z"
   },
   {
    "duration": 20,
    "start_time": "2023-12-03T15:12:20.585Z"
   },
   {
    "duration": 19,
    "start_time": "2023-12-03T15:12:20.615Z"
   },
   {
    "duration": 17,
    "start_time": "2023-12-03T15:12:20.635Z"
   },
   {
    "duration": 15,
    "start_time": "2023-12-03T15:12:20.653Z"
   },
   {
    "duration": 9,
    "start_time": "2023-12-03T15:12:20.670Z"
   },
   {
    "duration": 34,
    "start_time": "2023-12-03T15:12:20.681Z"
   },
   {
    "duration": 3,
    "start_time": "2023-12-03T15:12:20.717Z"
   },
   {
    "duration": 59,
    "start_time": "2023-12-03T15:12:20.721Z"
   },
   {
    "duration": 190,
    "start_time": "2023-12-03T15:12:20.781Z"
   },
   {
    "duration": 96,
    "start_time": "2023-12-03T15:12:20.973Z"
   },
   {
    "duration": 2,
    "start_time": "2023-12-03T15:12:21.071Z"
   },
   {
    "duration": 7,
    "start_time": "2023-12-03T15:12:21.074Z"
   },
   {
    "duration": 2805,
    "start_time": "2023-12-03T15:12:21.082Z"
   },
   {
    "duration": 411,
    "start_time": "2023-12-03T15:12:23.889Z"
   },
   {
    "duration": 0,
    "start_time": "2023-12-03T15:12:24.301Z"
   },
   {
    "duration": 0,
    "start_time": "2023-12-03T15:12:24.303Z"
   },
   {
    "duration": 0,
    "start_time": "2023-12-03T15:12:24.304Z"
   },
   {
    "duration": 0,
    "start_time": "2023-12-03T15:12:24.315Z"
   },
   {
    "duration": 0,
    "start_time": "2023-12-03T15:12:24.316Z"
   },
   {
    "duration": 0,
    "start_time": "2023-12-03T15:12:24.317Z"
   },
   {
    "duration": 2819,
    "start_time": "2023-12-03T15:12:55.774Z"
   },
   {
    "duration": 4,
    "start_time": "2023-12-03T15:12:58.947Z"
   },
   {
    "duration": 3,
    "start_time": "2023-12-03T15:13:03.540Z"
   },
   {
    "duration": 5,
    "start_time": "2023-12-03T15:13:03.544Z"
   },
   {
    "duration": 2833,
    "start_time": "2023-12-03T15:13:03.550Z"
   },
   {
    "duration": 1123,
    "start_time": "2023-12-03T15:13:06.385Z"
   },
   {
    "duration": 749,
    "start_time": "2023-12-03T15:13:07.510Z"
   },
   {
    "duration": 109,
    "start_time": "2023-12-03T15:13:08.260Z"
   },
   {
    "duration": 247,
    "start_time": "2023-12-03T15:13:08.371Z"
   },
   {
    "duration": 484,
    "start_time": "2023-12-03T15:13:08.619Z"
   },
   {
    "duration": 178,
    "start_time": "2023-12-03T15:13:09.105Z"
   },
   {
    "duration": 198,
    "start_time": "2023-12-03T15:13:09.284Z"
   },
   {
    "duration": 20,
    "start_time": "2023-12-03T15:13:09.483Z"
   },
   {
    "duration": 291,
    "start_time": "2023-12-03T15:13:09.504Z"
   },
   {
    "duration": 419,
    "start_time": "2023-12-03T15:13:09.797Z"
   },
   {
    "duration": 18,
    "start_time": "2023-12-03T15:13:10.218Z"
   },
   {
    "duration": 20,
    "start_time": "2023-12-03T15:13:10.237Z"
   },
   {
    "duration": 16,
    "start_time": "2023-12-03T15:13:10.259Z"
   },
   {
    "duration": 16,
    "start_time": "2023-12-03T15:13:10.277Z"
   },
   {
    "duration": 24,
    "start_time": "2023-12-03T15:13:10.294Z"
   },
   {
    "duration": 19,
    "start_time": "2023-12-03T15:13:10.319Z"
   },
   {
    "duration": 3,
    "start_time": "2023-12-03T15:13:10.340Z"
   },
   {
    "duration": 83,
    "start_time": "2023-12-03T15:13:10.344Z"
   },
   {
    "duration": 180,
    "start_time": "2023-12-03T15:13:10.429Z"
   },
   {
    "duration": 91,
    "start_time": "2023-12-03T15:13:10.610Z"
   },
   {
    "duration": 2,
    "start_time": "2023-12-03T15:13:10.704Z"
   },
   {
    "duration": 15,
    "start_time": "2023-12-03T15:13:10.707Z"
   },
   {
    "duration": 2843,
    "start_time": "2023-12-03T15:13:10.723Z"
   },
   {
    "duration": 397,
    "start_time": "2023-12-03T15:13:13.568Z"
   },
   {
    "duration": 0,
    "start_time": "2023-12-03T15:13:13.967Z"
   },
   {
    "duration": 0,
    "start_time": "2023-12-03T15:13:13.969Z"
   },
   {
    "duration": 0,
    "start_time": "2023-12-03T15:13:13.970Z"
   },
   {
    "duration": 0,
    "start_time": "2023-12-03T15:13:13.971Z"
   },
   {
    "duration": 0,
    "start_time": "2023-12-03T15:13:13.972Z"
   },
   {
    "duration": 0,
    "start_time": "2023-12-03T15:13:13.974Z"
   },
   {
    "duration": 92,
    "start_time": "2023-12-03T15:13:58.757Z"
   },
   {
    "duration": 2821,
    "start_time": "2023-12-03T15:14:02.663Z"
   },
   {
    "duration": 3,
    "start_time": "2023-12-03T15:14:12.789Z"
   },
   {
    "duration": 17,
    "start_time": "2023-12-03T15:14:12.793Z"
   },
   {
    "duration": 2772,
    "start_time": "2023-12-03T15:14:12.812Z"
   },
   {
    "duration": 1141,
    "start_time": "2023-12-03T15:14:15.586Z"
   },
   {
    "duration": 745,
    "start_time": "2023-12-03T15:14:16.729Z"
   },
   {
    "duration": 106,
    "start_time": "2023-12-03T15:14:17.475Z"
   },
   {
    "duration": 255,
    "start_time": "2023-12-03T15:14:17.582Z"
   },
   {
    "duration": 510,
    "start_time": "2023-12-03T15:14:17.838Z"
   },
   {
    "duration": 185,
    "start_time": "2023-12-03T15:14:18.349Z"
   },
   {
    "duration": 195,
    "start_time": "2023-12-03T15:14:18.536Z"
   },
   {
    "duration": 19,
    "start_time": "2023-12-03T15:14:18.733Z"
   },
   {
    "duration": 301,
    "start_time": "2023-12-03T15:14:18.754Z"
   },
   {
    "duration": 420,
    "start_time": "2023-12-03T15:14:19.057Z"
   },
   {
    "duration": 19,
    "start_time": "2023-12-03T15:14:19.480Z"
   },
   {
    "duration": 29,
    "start_time": "2023-12-03T15:14:19.500Z"
   },
   {
    "duration": 18,
    "start_time": "2023-12-03T15:14:19.530Z"
   },
   {
    "duration": 16,
    "start_time": "2023-12-03T15:14:19.549Z"
   },
   {
    "duration": 11,
    "start_time": "2023-12-03T15:14:19.567Z"
   },
   {
    "duration": 38,
    "start_time": "2023-12-03T15:14:19.579Z"
   },
   {
    "duration": 3,
    "start_time": "2023-12-03T15:14:19.618Z"
   },
   {
    "duration": 43,
    "start_time": "2023-12-03T15:14:19.623Z"
   },
   {
    "duration": 186,
    "start_time": "2023-12-03T15:14:19.667Z"
   },
   {
    "duration": 99,
    "start_time": "2023-12-03T15:14:19.854Z"
   },
   {
    "duration": 2,
    "start_time": "2023-12-03T15:14:19.955Z"
   },
   {
    "duration": 4,
    "start_time": "2023-12-03T15:14:19.958Z"
   },
   {
    "duration": 2803,
    "start_time": "2023-12-03T15:14:19.963Z"
   },
   {
    "duration": 402,
    "start_time": "2023-12-03T15:14:22.767Z"
   },
   {
    "duration": 0,
    "start_time": "2023-12-03T15:14:23.170Z"
   },
   {
    "duration": 0,
    "start_time": "2023-12-03T15:14:23.171Z"
   },
   {
    "duration": 0,
    "start_time": "2023-12-03T15:14:23.172Z"
   },
   {
    "duration": 0,
    "start_time": "2023-12-03T15:14:23.174Z"
   },
   {
    "duration": 0,
    "start_time": "2023-12-03T15:14:23.175Z"
   },
   {
    "duration": 0,
    "start_time": "2023-12-03T15:14:23.177Z"
   },
   {
    "duration": 4200,
    "start_time": "2023-12-03T15:15:27.915Z"
   },
   {
    "duration": 20,
    "start_time": "2023-12-03T15:15:32.116Z"
   },
   {
    "duration": 3,
    "start_time": "2023-12-03T15:15:43.054Z"
   },
   {
    "duration": 4,
    "start_time": "2023-12-03T15:15:43.058Z"
   },
   {
    "duration": 2786,
    "start_time": "2023-12-03T15:15:43.063Z"
   },
   {
    "duration": 1042,
    "start_time": "2023-12-03T15:15:45.851Z"
   },
   {
    "duration": 727,
    "start_time": "2023-12-03T15:15:46.895Z"
   },
   {
    "duration": 109,
    "start_time": "2023-12-03T15:15:47.623Z"
   },
   {
    "duration": 252,
    "start_time": "2023-12-03T15:15:47.733Z"
   },
   {
    "duration": 494,
    "start_time": "2023-12-03T15:15:47.986Z"
   },
   {
    "duration": 182,
    "start_time": "2023-12-03T15:15:48.481Z"
   },
   {
    "duration": 198,
    "start_time": "2023-12-03T15:15:48.664Z"
   },
   {
    "duration": 20,
    "start_time": "2023-12-03T15:15:48.863Z"
   },
   {
    "duration": 300,
    "start_time": "2023-12-03T15:15:48.884Z"
   },
   {
    "duration": 423,
    "start_time": "2023-12-03T15:15:49.185Z"
   },
   {
    "duration": 20,
    "start_time": "2023-12-03T15:15:49.615Z"
   },
   {
    "duration": 20,
    "start_time": "2023-12-03T15:15:49.636Z"
   },
   {
    "duration": 17,
    "start_time": "2023-12-03T15:15:49.657Z"
   },
   {
    "duration": 15,
    "start_time": "2023-12-03T15:15:49.675Z"
   },
   {
    "duration": 31,
    "start_time": "2023-12-03T15:15:49.692Z"
   },
   {
    "duration": 15,
    "start_time": "2023-12-03T15:15:49.724Z"
   },
   {
    "duration": 2,
    "start_time": "2023-12-03T15:15:49.740Z"
   },
   {
    "duration": 42,
    "start_time": "2023-12-03T15:15:49.744Z"
   },
   {
    "duration": 187,
    "start_time": "2023-12-03T15:15:49.788Z"
   },
   {
    "duration": 101,
    "start_time": "2023-12-03T15:15:49.976Z"
   },
   {
    "duration": 2,
    "start_time": "2023-12-03T15:15:50.079Z"
   },
   {
    "duration": 4,
    "start_time": "2023-12-03T15:15:50.082Z"
   },
   {
    "duration": 3154,
    "start_time": "2023-12-03T15:15:50.087Z"
   },
   {
    "duration": 4147,
    "start_time": "2023-12-03T15:15:53.243Z"
   },
   {
    "duration": 26,
    "start_time": "2023-12-03T15:15:57.392Z"
   },
   {
    "duration": 82196,
    "start_time": "2023-12-03T15:15:57.420Z"
   },
   {
    "duration": 2103,
    "start_time": "2023-12-03T15:17:19.619Z"
   },
   {
    "duration": 1298,
    "start_time": "2023-12-03T15:17:21.723Z"
   },
   {
    "duration": 4700,
    "start_time": "2023-12-03T15:17:23.023Z"
   },
   {
    "duration": 513,
    "start_time": "2023-12-03T15:17:27.815Z"
   },
   {
    "duration": 254,
    "start_time": "2023-12-03T15:17:45.380Z"
   },
   {
    "duration": 80,
    "start_time": "2023-12-03T15:21:19.984Z"
   },
   {
    "duration": 71,
    "start_time": "2023-12-03T15:24:09.598Z"
   },
   {
    "duration": 104,
    "start_time": "2023-12-03T15:27:51.592Z"
   },
   {
    "duration": 2,
    "start_time": "2023-12-03T15:28:18.663Z"
   },
   {
    "duration": 5,
    "start_time": "2023-12-03T15:28:18.667Z"
   },
   {
    "duration": 2950,
    "start_time": "2023-12-03T15:28:18.673Z"
   },
   {
    "duration": 1089,
    "start_time": "2023-12-03T15:28:21.624Z"
   },
   {
    "duration": 732,
    "start_time": "2023-12-03T15:28:22.715Z"
   },
   {
    "duration": 110,
    "start_time": "2023-12-03T15:28:23.449Z"
   },
   {
    "duration": 258,
    "start_time": "2023-12-03T15:28:23.560Z"
   },
   {
    "duration": 486,
    "start_time": "2023-12-03T15:28:23.819Z"
   },
   {
    "duration": 181,
    "start_time": "2023-12-03T15:28:24.306Z"
   },
   {
    "duration": 203,
    "start_time": "2023-12-03T15:28:24.488Z"
   },
   {
    "duration": 23,
    "start_time": "2023-12-03T15:28:24.693Z"
   },
   {
    "duration": 302,
    "start_time": "2023-12-03T15:28:24.717Z"
   },
   {
    "duration": 423,
    "start_time": "2023-12-03T15:28:25.021Z"
   },
   {
    "duration": 20,
    "start_time": "2023-12-03T15:28:25.445Z"
   },
   {
    "duration": 25,
    "start_time": "2023-12-03T15:28:25.466Z"
   },
   {
    "duration": 26,
    "start_time": "2023-12-03T15:28:25.492Z"
   },
   {
    "duration": 15,
    "start_time": "2023-12-03T15:28:25.520Z"
   },
   {
    "duration": 9,
    "start_time": "2023-12-03T15:28:25.537Z"
   },
   {
    "duration": 16,
    "start_time": "2023-12-03T15:28:25.547Z"
   },
   {
    "duration": 3,
    "start_time": "2023-12-03T15:28:25.564Z"
   },
   {
    "duration": 61,
    "start_time": "2023-12-03T15:28:25.568Z"
   },
   {
    "duration": 193,
    "start_time": "2023-12-03T15:28:25.630Z"
   },
   {
    "duration": 92,
    "start_time": "2023-12-03T15:28:25.824Z"
   },
   {
    "duration": 1,
    "start_time": "2023-12-03T15:28:25.918Z"
   },
   {
    "duration": 11,
    "start_time": "2023-12-03T15:28:25.920Z"
   },
   {
    "duration": 2897,
    "start_time": "2023-12-03T15:28:25.932Z"
   },
   {
    "duration": 4452,
    "start_time": "2023-12-03T15:28:28.831Z"
   },
   {
    "duration": 22,
    "start_time": "2023-12-03T15:28:33.284Z"
   },
   {
    "duration": 8075,
    "start_time": "2023-12-03T15:28:33.307Z"
   },
   {
    "duration": 0,
    "start_time": "2023-12-03T15:28:41.383Z"
   },
   {
    "duration": 0,
    "start_time": "2023-12-03T15:28:41.384Z"
   },
   {
    "duration": 0,
    "start_time": "2023-12-03T15:28:41.385Z"
   },
   {
    "duration": 0,
    "start_time": "2023-12-03T15:28:41.386Z"
   },
   {
    "duration": 0,
    "start_time": "2023-12-03T15:28:41.387Z"
   },
   {
    "duration": 0,
    "start_time": "2023-12-03T15:28:41.388Z"
   },
   {
    "duration": 3,
    "start_time": "2023-12-03T15:28:44.978Z"
   },
   {
    "duration": 13,
    "start_time": "2023-12-03T15:28:44.983Z"
   },
   {
    "duration": 2878,
    "start_time": "2023-12-03T15:28:44.997Z"
   },
   {
    "duration": 1033,
    "start_time": "2023-12-03T15:28:47.877Z"
   },
   {
    "duration": 729,
    "start_time": "2023-12-03T15:28:48.912Z"
   },
   {
    "duration": 109,
    "start_time": "2023-12-03T15:28:49.643Z"
   },
   {
    "duration": 253,
    "start_time": "2023-12-03T15:28:49.753Z"
   },
   {
    "duration": 531,
    "start_time": "2023-12-03T15:28:50.007Z"
   },
   {
    "duration": 182,
    "start_time": "2023-12-03T15:28:50.539Z"
   },
   {
    "duration": 201,
    "start_time": "2023-12-03T15:28:50.723Z"
   },
   {
    "duration": 19,
    "start_time": "2023-12-03T15:28:50.926Z"
   },
   {
    "duration": 309,
    "start_time": "2023-12-03T15:28:50.947Z"
   },
   {
    "duration": 430,
    "start_time": "2023-12-03T15:28:51.257Z"
   },
   {
    "duration": 27,
    "start_time": "2023-12-03T15:28:51.691Z"
   },
   {
    "duration": 20,
    "start_time": "2023-12-03T15:28:51.719Z"
   },
   {
    "duration": 18,
    "start_time": "2023-12-03T15:28:51.741Z"
   },
   {
    "duration": 17,
    "start_time": "2023-12-03T15:28:51.760Z"
   },
   {
    "duration": 41,
    "start_time": "2023-12-03T15:28:51.778Z"
   },
   {
    "duration": 17,
    "start_time": "2023-12-03T15:28:51.821Z"
   },
   {
    "duration": 3,
    "start_time": "2023-12-03T15:28:51.840Z"
   },
   {
    "duration": 44,
    "start_time": "2023-12-03T15:28:51.844Z"
   },
   {
    "duration": 211,
    "start_time": "2023-12-03T15:28:51.889Z"
   },
   {
    "duration": 96,
    "start_time": "2023-12-03T15:28:52.102Z"
   },
   {
    "duration": 2,
    "start_time": "2023-12-03T15:28:52.199Z"
   },
   {
    "duration": 18,
    "start_time": "2023-12-03T15:28:52.203Z"
   },
   {
    "duration": 2839,
    "start_time": "2023-12-03T15:28:52.222Z"
   },
   {
    "duration": 4088,
    "start_time": "2023-12-03T15:28:55.062Z"
   },
   {
    "duration": 20,
    "start_time": "2023-12-03T15:28:59.151Z"
   },
   {
    "duration": 78047,
    "start_time": "2023-12-03T15:28:59.172Z"
   },
   {
    "duration": 2121,
    "start_time": "2023-12-03T15:30:17.220Z"
   },
   {
    "duration": 1484,
    "start_time": "2023-12-03T15:30:19.342Z"
   },
   {
    "duration": 4792,
    "start_time": "2023-12-03T15:30:20.828Z"
   },
   {
    "duration": 194,
    "start_time": "2023-12-03T15:30:25.621Z"
   },
   {
    "duration": 0,
    "start_time": "2023-12-03T15:30:25.817Z"
   },
   {
    "duration": 119,
    "start_time": "2023-12-03T15:31:14.768Z"
   },
   {
    "duration": 368,
    "start_time": "2023-12-03T15:31:20.359Z"
   },
   {
    "duration": 433,
    "start_time": "2023-12-03T15:31:21.882Z"
   },
   {
    "duration": 4,
    "start_time": "2024-02-13T09:37:53.052Z"
   },
   {
    "duration": 3,
    "start_time": "2024-02-13T09:37:53.058Z"
   },
   {
    "duration": 6789,
    "start_time": "2024-02-13T09:37:53.063Z"
   },
   {
    "duration": 1408,
    "start_time": "2024-02-13T09:37:59.854Z"
   },
   {
    "duration": 2919,
    "start_time": "2024-02-13T09:38:01.264Z"
   },
   {
    "duration": 146,
    "start_time": "2024-02-13T09:38:04.185Z"
   },
   {
    "duration": 303,
    "start_time": "2024-02-13T09:38:04.333Z"
   },
   {
    "duration": 621,
    "start_time": "2024-02-13T09:38:04.637Z"
   },
   {
    "duration": 210,
    "start_time": "2024-02-13T09:38:05.260Z"
   },
   {
    "duration": 231,
    "start_time": "2024-02-13T09:38:05.473Z"
   },
   {
    "duration": 19,
    "start_time": "2024-02-13T09:38:05.706Z"
   },
   {
    "duration": 373,
    "start_time": "2024-02-13T09:38:05.727Z"
   },
   {
    "duration": 491,
    "start_time": "2024-02-13T09:38:06.101Z"
   },
   {
    "duration": 29,
    "start_time": "2024-02-13T09:38:06.593Z"
   },
   {
    "duration": 37,
    "start_time": "2024-02-13T09:38:06.624Z"
   },
   {
    "duration": 18,
    "start_time": "2024-02-13T09:38:06.663Z"
   },
   {
    "duration": 17,
    "start_time": "2024-02-13T09:38:06.683Z"
   },
   {
    "duration": 11,
    "start_time": "2024-02-13T09:38:06.702Z"
   },
   {
    "duration": 16,
    "start_time": "2024-02-13T09:38:06.715Z"
   },
   {
    "duration": 27,
    "start_time": "2024-02-13T09:38:06.732Z"
   },
   {
    "duration": 63,
    "start_time": "2024-02-13T09:38:06.761Z"
   },
   {
    "duration": 254,
    "start_time": "2024-02-13T09:38:06.826Z"
   },
   {
    "duration": 123,
    "start_time": "2024-02-13T09:38:07.082Z"
   },
   {
    "duration": 2,
    "start_time": "2024-02-13T09:38:07.207Z"
   },
   {
    "duration": 20,
    "start_time": "2024-02-13T09:38:07.211Z"
   },
   {
    "duration": 2791,
    "start_time": "2024-02-13T09:38:07.232Z"
   },
   {
    "duration": 73,
    "start_time": "2024-02-13T09:38:10.025Z"
   },
   {
    "duration": 130,
    "start_time": "2024-02-13T09:38:10.102Z"
   },
   {
    "duration": 0,
    "start_time": "2024-02-13T09:38:10.234Z"
   },
   {
    "duration": 0,
    "start_time": "2024-02-13T09:38:10.235Z"
   },
   {
    "duration": 0,
    "start_time": "2024-02-13T09:38:10.237Z"
   },
   {
    "duration": 0,
    "start_time": "2024-02-13T09:38:10.238Z"
   },
   {
    "duration": 0,
    "start_time": "2024-02-13T09:38:10.239Z"
   },
   {
    "duration": 0,
    "start_time": "2024-02-13T09:38:10.240Z"
   },
   {
    "duration": 0,
    "start_time": "2024-02-13T09:38:10.240Z"
   },
   {
    "duration": 8894,
    "start_time": "2024-02-13T09:38:29.854Z"
   },
   {
    "duration": 25,
    "start_time": "2024-02-13T09:38:39.827Z"
   },
   {
    "duration": 73827,
    "start_time": "2024-02-13T09:38:41.238Z"
   },
   {
    "duration": 2495,
    "start_time": "2024-02-13T09:39:55.067Z"
   },
   {
    "duration": 1794,
    "start_time": "2024-02-13T09:39:57.564Z"
   },
   {
    "duration": 5503,
    "start_time": "2024-02-13T09:39:59.361Z"
   },
   {
    "duration": 495,
    "start_time": "2024-02-13T09:40:04.866Z"
   },
   {
    "duration": 408,
    "start_time": "2024-02-13T09:40:05.362Z"
   }
  ],
  "kernelspec": {
   "display_name": "Python 3 (ipykernel)",
   "language": "python",
   "name": "python3"
  },
  "language_info": {
   "codemirror_mode": {
    "name": "ipython",
    "version": 3
   },
   "file_extension": ".py",
   "mimetype": "text/x-python",
   "name": "python",
   "nbconvert_exporter": "python",
   "pygments_lexer": "ipython3",
   "version": "3.11.6"
  },
  "toc": {
   "base_numbering": 1,
   "nav_menu": {},
   "number_sections": true,
   "sideBar": true,
   "skip_h1_title": true,
   "title_cell": "Table of Contents",
   "title_sidebar": "Contents",
   "toc_cell": false,
   "toc_position": {},
   "toc_section_display": true,
   "toc_window_display": false
  }
 },
 "nbformat": 4,
 "nbformat_minor": 2
}
